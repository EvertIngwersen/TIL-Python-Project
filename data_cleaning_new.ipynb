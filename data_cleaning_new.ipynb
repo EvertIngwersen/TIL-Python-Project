{
 "cells": [
  {
   "cell_type": "code",
   "execution_count": null,
   "metadata": {},
   "outputs": [],
   "source": [
    "\"\"\"Kleine todo:\n",
    "    -goed kijken co2 data zweden want die is wel erg laag\n",
    "    -kaart animatie groter krijgen\n",
    "    -misschien iets doen met gdp / capita ?\n",
    "    -toevoegen van hoofd- en deelvragen\n",
    "    - opschonen (er wordt nog vel onzin dingen geprint)\n",
    "    - misschien ook een kaart maken van zev per land en vergelijken met de gdp / capita kaart (deelvraag 3)\"\"\"\n",
    "\n",
    "# Importing the necessary libraries\n",
    "import pandas as pd\n",
    "import plotly.graph_objects as go\n",
    "import plotly.express as px\n",
    "import numpy as np"
   ]
  },
  {
   "cell_type": "code",
   "execution_count": 350,
   "metadata": {},
   "outputs": [],
   "source": [
    "# Load database with number of passenger vehicles per country per year\n",
    "database_1 = pd.read_csv('data/road_eqs_carpda_page_linear.csv')\n",
    "\n",
    "# Load database with number of zero emmision vehicles per country per year\n",
    "database_2 = pd.read_csv('data/road_eqs_zev_page_linear.csv')\n",
    "\n",
    "# Load database with emmisions per country per year\n",
    "database_3 = pd.read_csv('data/sdg_13_10_page_linear_2.csv')\n",
    "\n",
    "# Load database with populatoins per country per year\n",
    "database_4 = pd.read_csv('data/population_1january.csv')"
   ]
  },
  {
   "cell_type": "code",
   "execution_count": 351,
   "metadata": {},
   "outputs": [],
   "source": [
    "database_4.columns\n",
    "\n",
    "database_4 = database_4[['geo','TIME_PERIOD', 'OBS_VALUE']]\n",
    "database_4 = database_4.rename(columns={'OBS_VALUE':'population'})\n"
   ]
  },
  {
   "cell_type": "code",
   "execution_count": 352,
   "metadata": {},
   "outputs": [],
   "source": [
    "# Store the unique countries from each database in sets\n",
    "set1 = set(database_1.geo.unique())\n",
    "set2 = set(database_2.geo.unique())\n",
    "set3 = set(database_3.geo.unique())\n",
    "set4 = set(database_4.geo.unique())"
   ]
  },
  {
   "cell_type": "code",
   "execution_count": 353,
   "metadata": {},
   "outputs": [],
   "source": [
    "# Identify which countries are in all three databases\n",
    "countries = set1.intersection(set2, set3, set4)"
   ]
  },
  {
   "cell_type": "code",
   "execution_count": 354,
   "metadata": {},
   "outputs": [],
   "source": [
    "joined_df_1 = pd.merge(database_1, database_2, how='right', on=['geo', 'TIME_PERIOD'])\n",
    "joined_df_2 = pd.merge(joined_df_1, database_3, how='left', on=['geo', 'TIME_PERIOD'])\n",
    "joined_df = pd.merge(joined_df_2, database_4, how='left', on=['geo', 'TIME_PERIOD'])"
   ]
  },
  {
   "cell_type": "code",
   "execution_count": 355,
   "metadata": {},
   "outputs": [],
   "source": [
    "# Rename columns\n",
    "joined_df = joined_df.rename(columns={'OBS_VALUE_y':'amount_zev', 'OBS_VALUE' : 'emission_per_capita', 'OBS_VALUE_x' : 'amount_passenger_cars', 'TIME_PERIOD' : 'time_period'})\n",
    "#joined_df['amount_zev'].head()"
   ]
  },
  {
   "cell_type": "code",
   "execution_count": 356,
   "metadata": {},
   "outputs": [],
   "source": [
    "# Transforming the abbrevation to the full country names\n",
    "countries_map = {'AT' : 'Austria',\n",
    " 'BE' : 'Belgium',\n",
    " 'BG' : 'Bulgaria',\n",
    " 'CY' : 'Cyprus',\n",
    " 'CZ' : 'Czech Republic',\n",
    " 'DE' : 'Germany',\n",
    " 'DK': 'Denmark',\n",
    " 'EE' : 'Estonia',\n",
    " 'EL' : 'Greece',\n",
    " 'ES' : 'Spain',\n",
    " 'EU27_2020' : 'European Union',\n",
    " 'FI' : 'Finland',\n",
    " 'FR' : 'France',\n",
    " 'HR' : 'Croatia',\n",
    " 'HU' : 'Hungary',\n",
    " 'IE' :'Ireland',\n",
    " 'IT' : 'Italy',\n",
    " 'LT' : 'Lithuania',\n",
    " 'LU' : 'Luxembourg',\n",
    " 'LV' : 'Latvia',\n",
    " 'MT' : 'Malta',\n",
    " 'NL' : 'Netherlands',\n",
    " 'PL' : 'Poland',\n",
    " 'PT': 'Portugal',\n",
    " 'RO' : 'Romania',\n",
    " 'SE' : 'Sweden',\n",
    " 'SI' : 'Slovenia',\n",
    " 'SK' : 'Slovakia'}\n",
    "\n",
    "joined_df['geo'] = joined_df['geo'].map(countries_map)"
   ]
  },
  {
   "cell_type": "code",
   "execution_count": null,
   "metadata": {},
   "outputs": [],
   "source": [
    "# Construct new columns with share of zero emmission vehicles and amount of emmission vehicles\n",
    "joined_df['share_zev'] = joined_df['amount_zev'] / joined_df['amount_passenger_cars']\n",
    "joined_df['amount_ev'] = joined_df['amount_passenger_cars'] - joined_df['amount_zev']\n",
    "joined_df['zev_per_capita'] = joined_df['amount_zev'] / joined_df['population']\n",
    "joined_df['ev_per_capita'] = joined_df['amount_ev'] / joined_df['population']\n",
    "joined_df['total_emissions'] = joined_df['emission_per_capita'] * joined_df['population']\n"
   ]
  },
  {
   "cell_type": "code",
   "execution_count": 358,
   "metadata": {},
   "outputs": [
    {
     "data": {
      "text/html": [
       "<div>\n",
       "<style scoped>\n",
       "    .dataframe tbody tr th:only-of-type {\n",
       "        vertical-align: middle;\n",
       "    }\n",
       "\n",
       "    .dataframe tbody tr th {\n",
       "        vertical-align: top;\n",
       "    }\n",
       "\n",
       "    .dataframe thead th {\n",
       "        text-align: right;\n",
       "    }\n",
       "</style>\n",
       "<table border=\"1\" class=\"dataframe\">\n",
       "  <thead>\n",
       "    <tr style=\"text-align: right;\">\n",
       "      <th></th>\n",
       "      <th>geo</th>\n",
       "      <th>time_period</th>\n",
       "      <th>amount_passenger_cars</th>\n",
       "      <th>amount_zev</th>\n",
       "      <th>amount_ev</th>\n",
       "      <th>share_zev</th>\n",
       "      <th>emission_per_capita</th>\n",
       "      <th>zev_per_capita</th>\n",
       "      <th>ev_per_capita</th>\n",
       "      <th>total_emissions</th>\n",
       "    </tr>\n",
       "  </thead>\n",
       "  <tbody>\n",
       "    <tr>\n",
       "      <th>0</th>\n",
       "      <td>Austria</td>\n",
       "      <td>2014</td>\n",
       "      <td>4694921</td>\n",
       "      <td>3389</td>\n",
       "      <td>4691532</td>\n",
       "      <td>0.000722</td>\n",
       "      <td>8.4</td>\n",
       "      <td>0.000398</td>\n",
       "      <td>0.551440</td>\n",
       "      <td>71465402.4</td>\n",
       "    </tr>\n",
       "    <tr>\n",
       "      <th>1</th>\n",
       "      <td>Austria</td>\n",
       "      <td>2015</td>\n",
       "      <td>4748048</td>\n",
       "      <td>5038</td>\n",
       "      <td>4743010</td>\n",
       "      <td>0.001061</td>\n",
       "      <td>8.7</td>\n",
       "      <td>0.000587</td>\n",
       "      <td>0.552481</td>\n",
       "      <td>74688856.2</td>\n",
       "    </tr>\n",
       "    <tr>\n",
       "      <th>2</th>\n",
       "      <td>Austria</td>\n",
       "      <td>2016</td>\n",
       "      <td>4821557</td>\n",
       "      <td>9086</td>\n",
       "      <td>4812471</td>\n",
       "      <td>0.001884</td>\n",
       "      <td>8.6</td>\n",
       "      <td>0.001044</td>\n",
       "      <td>0.553128</td>\n",
       "      <td>74824050.6</td>\n",
       "    </tr>\n",
       "    <tr>\n",
       "      <th>3</th>\n",
       "      <td>Austria</td>\n",
       "      <td>2017</td>\n",
       "      <td>4898578</td>\n",
       "      <td>14637</td>\n",
       "      <td>4883941</td>\n",
       "      <td>0.002988</td>\n",
       "      <td>9.3</td>\n",
       "      <td>0.001668</td>\n",
       "      <td>0.556710</td>\n",
       "      <td>81587644.5</td>\n",
       "    </tr>\n",
       "    <tr>\n",
       "      <th>4</th>\n",
       "      <td>Austria</td>\n",
       "      <td>2018</td>\n",
       "      <td>4978852</td>\n",
       "      <td>20855</td>\n",
       "      <td>4957997</td>\n",
       "      <td>0.004189</td>\n",
       "      <td>9.8</td>\n",
       "      <td>0.002364</td>\n",
       "      <td>0.561987</td>\n",
       "      <td>86458216.6</td>\n",
       "    </tr>\n",
       "    <tr>\n",
       "      <th>...</th>\n",
       "      <td>...</td>\n",
       "      <td>...</td>\n",
       "      <td>...</td>\n",
       "      <td>...</td>\n",
       "      <td>...</td>\n",
       "      <td>...</td>\n",
       "      <td>...</td>\n",
       "      <td>...</td>\n",
       "      <td>...</td>\n",
       "      <td>...</td>\n",
       "    </tr>\n",
       "    <tr>\n",
       "      <th>275</th>\n",
       "      <td>Slovakia</td>\n",
       "      <td>2019</td>\n",
       "      <td>2393577</td>\n",
       "      <td>956</td>\n",
       "      <td>2392621</td>\n",
       "      <td>0.000399</td>\n",
       "      <td>6.4</td>\n",
       "      <td>0.000175</td>\n",
       "      <td>0.438979</td>\n",
       "      <td>34882694.4</td>\n",
       "    </tr>\n",
       "    <tr>\n",
       "      <th>276</th>\n",
       "      <td>Slovakia</td>\n",
       "      <td>2020</td>\n",
       "      <td>2439986</td>\n",
       "      <td>1863</td>\n",
       "      <td>2438123</td>\n",
       "      <td>0.000764</td>\n",
       "      <td>5.5</td>\n",
       "      <td>0.000341</td>\n",
       "      <td>0.446717</td>\n",
       "      <td>30018301.5</td>\n",
       "    </tr>\n",
       "    <tr>\n",
       "      <th>277</th>\n",
       "      <td>Slovakia</td>\n",
       "      <td>2021</td>\n",
       "      <td>2493183</td>\n",
       "      <td>3001</td>\n",
       "      <td>2490182</td>\n",
       "      <td>0.001204</td>\n",
       "      <td>6.3</td>\n",
       "      <td>0.000550</td>\n",
       "      <td>0.456096</td>\n",
       "      <td>34396620.3</td>\n",
       "    </tr>\n",
       "    <tr>\n",
       "      <th>278</th>\n",
       "      <td>Slovakia</td>\n",
       "      <td>2022</td>\n",
       "      <td>2555491</td>\n",
       "      <td>4531</td>\n",
       "      <td>2550960</td>\n",
       "      <td>0.001773</td>\n",
       "      <td>5.5</td>\n",
       "      <td>0.000834</td>\n",
       "      <td>0.469383</td>\n",
       "      <td>29890916.0</td>\n",
       "    </tr>\n",
       "    <tr>\n",
       "      <th>279</th>\n",
       "      <td>Slovakia</td>\n",
       "      <td>2023</td>\n",
       "      <td>2644361</td>\n",
       "      <td>7899</td>\n",
       "      <td>2636462</td>\n",
       "      <td>0.002987</td>\n",
       "      <td>NaN</td>\n",
       "      <td>0.001455</td>\n",
       "      <td>0.485644</td>\n",
       "      <td>NaN</td>\n",
       "    </tr>\n",
       "  </tbody>\n",
       "</table>\n",
       "<p>280 rows × 10 columns</p>\n",
       "</div>"
      ],
      "text/plain": [
       "          geo  time_period  amount_passenger_cars  amount_zev  amount_ev  \\\n",
       "0     Austria         2014                4694921        3389    4691532   \n",
       "1     Austria         2015                4748048        5038    4743010   \n",
       "2     Austria         2016                4821557        9086    4812471   \n",
       "3     Austria         2017                4898578       14637    4883941   \n",
       "4     Austria         2018                4978852       20855    4957997   \n",
       "..        ...          ...                    ...         ...        ...   \n",
       "275  Slovakia         2019                2393577         956    2392621   \n",
       "276  Slovakia         2020                2439986        1863    2438123   \n",
       "277  Slovakia         2021                2493183        3001    2490182   \n",
       "278  Slovakia         2022                2555491        4531    2550960   \n",
       "279  Slovakia         2023                2644361        7899    2636462   \n",
       "\n",
       "     share_zev  emission_per_capita  zev_per_capita  ev_per_capita  \\\n",
       "0     0.000722                  8.4        0.000398       0.551440   \n",
       "1     0.001061                  8.7        0.000587       0.552481   \n",
       "2     0.001884                  8.6        0.001044       0.553128   \n",
       "3     0.002988                  9.3        0.001668       0.556710   \n",
       "4     0.004189                  9.8        0.002364       0.561987   \n",
       "..         ...                  ...             ...            ...   \n",
       "275   0.000399                  6.4        0.000175       0.438979   \n",
       "276   0.000764                  5.5        0.000341       0.446717   \n",
       "277   0.001204                  6.3        0.000550       0.456096   \n",
       "278   0.001773                  5.5        0.000834       0.469383   \n",
       "279   0.002987                  NaN        0.001455       0.485644   \n",
       "\n",
       "     total_emissions  \n",
       "0         71465402.4  \n",
       "1         74688856.2  \n",
       "2         74824050.6  \n",
       "3         81587644.5  \n",
       "4         86458216.6  \n",
       "..               ...  \n",
       "275       34882694.4  \n",
       "276       30018301.5  \n",
       "277       34396620.3  \n",
       "278       29890916.0  \n",
       "279              NaN  \n",
       "\n",
       "[280 rows x 10 columns]"
      ]
     },
     "execution_count": 358,
     "metadata": {},
     "output_type": "execute_result"
    }
   ],
   "source": [
    "# Select only the relevant columns from the merged dataset\n",
    "joined_df = joined_df[['geo', 'time_period', 'amount_passenger_cars', 'amount_zev', 'amount_ev', 'share_zev', 'emission_per_capita', 'zev_per_capita', 'ev_per_capita', 'total_emissions']]\n",
    "joined_df"
   ]
  },
  {
   "cell_type": "code",
   "execution_count": null,
   "metadata": {},
   "outputs": [],
   "source": [
    "joined_df = joined_df.sort_values(by=['geo', 'time_period'])\n",
    "\n",
    "# Obtain difference with previous year for all variables for each country\n",
    "joined_df['zev_diff'] = joined_df.groupby('geo')['amount_zev'].transform(lambda x: x - x.shift(1))\n",
    "joined_df['ev_diff'] = joined_df.groupby('geo')['amount_ev'].transform(lambda x: x - x.shift(1))\n",
    "joined_df['emmission_diff'] = joined_df.groupby('geo')['total_emissions'].transform(lambda x: x - x.shift(1))\n",
    "joined_df['all_cars_diff'] = joined_df.groupby('geo')['amount_passenger_cars'].transform(lambda x: x - x.shift(1))\n",
    "\n",
    "# Aurora's normalised data:\n",
    "joined_df['zev_norm'] = joined_df.groupby('geo')['amount_zev'].transform(lambda x: (x - x.shift(1))/x.shift(1))\n",
    "joined_df['ev_norm'] = joined_df.groupby('geo')['amount_ev'].transform(lambda x: (x - x.shift(1))/x.shift(1))\n",
    "joined_df['emmission_norm'] = joined_df.groupby('geo')['total_emissions'].transform(lambda x: (x - x.shift(1))/x.shift(1))\n",
    "joined_df['all_cars_norm'] = joined_df.groupby('geo')['amount_passenger_cars'].transform(lambda x: (x - x.shift(1))/x.shift(1))"
   ]
  },
  {
   "cell_type": "code",
   "execution_count": 360,
   "metadata": {},
   "outputs": [],
   "source": [
    "joined_df = joined_df[~(joined_df['geo'] == 'European Union')]"
   ]
  },
  {
   "cell_type": "code",
   "execution_count": 361,
   "metadata": {},
   "outputs": [
    {
     "data": {
      "text/html": [
       "<div>\n",
       "<style scoped>\n",
       "    .dataframe tbody tr th:only-of-type {\n",
       "        vertical-align: middle;\n",
       "    }\n",
       "\n",
       "    .dataframe tbody tr th {\n",
       "        vertical-align: top;\n",
       "    }\n",
       "\n",
       "    .dataframe thead th {\n",
       "        text-align: right;\n",
       "    }\n",
       "</style>\n",
       "<table border=\"1\" class=\"dataframe\">\n",
       "  <thead>\n",
       "    <tr style=\"text-align: right;\">\n",
       "      <th></th>\n",
       "      <th>geo</th>\n",
       "      <th>time_period</th>\n",
       "      <th>amount_passenger_cars</th>\n",
       "      <th>amount_zev</th>\n",
       "      <th>amount_ev</th>\n",
       "      <th>share_zev</th>\n",
       "      <th>emission_per_capita</th>\n",
       "      <th>zev_per_capita</th>\n",
       "      <th>ev_per_capita</th>\n",
       "      <th>total_emissions</th>\n",
       "      <th>zev_diff</th>\n",
       "      <th>ev_diff</th>\n",
       "      <th>emmission_diff</th>\n",
       "      <th>all_cars_diff</th>\n",
       "    </tr>\n",
       "  </thead>\n",
       "  <tbody>\n",
       "    <tr>\n",
       "      <th>0</th>\n",
       "      <td>Austria</td>\n",
       "      <td>2014</td>\n",
       "      <td>4694921</td>\n",
       "      <td>3389</td>\n",
       "      <td>4691532</td>\n",
       "      <td>0.000722</td>\n",
       "      <td>8.4</td>\n",
       "      <td>0.000398</td>\n",
       "      <td>0.551440</td>\n",
       "      <td>71465402.4</td>\n",
       "      <td>NaN</td>\n",
       "      <td>NaN</td>\n",
       "      <td>NaN</td>\n",
       "      <td>NaN</td>\n",
       "    </tr>\n",
       "    <tr>\n",
       "      <th>1</th>\n",
       "      <td>Austria</td>\n",
       "      <td>2015</td>\n",
       "      <td>4748048</td>\n",
       "      <td>5038</td>\n",
       "      <td>4743010</td>\n",
       "      <td>0.001061</td>\n",
       "      <td>8.7</td>\n",
       "      <td>0.000587</td>\n",
       "      <td>0.552481</td>\n",
       "      <td>74688856.2</td>\n",
       "      <td>1649.0</td>\n",
       "      <td>51478.0</td>\n",
       "      <td>3223453.8</td>\n",
       "      <td>53127.0</td>\n",
       "    </tr>\n",
       "    <tr>\n",
       "      <th>2</th>\n",
       "      <td>Austria</td>\n",
       "      <td>2016</td>\n",
       "      <td>4821557</td>\n",
       "      <td>9086</td>\n",
       "      <td>4812471</td>\n",
       "      <td>0.001884</td>\n",
       "      <td>8.6</td>\n",
       "      <td>0.001044</td>\n",
       "      <td>0.553128</td>\n",
       "      <td>74824050.6</td>\n",
       "      <td>4048.0</td>\n",
       "      <td>69461.0</td>\n",
       "      <td>135194.4</td>\n",
       "      <td>73509.0</td>\n",
       "    </tr>\n",
       "    <tr>\n",
       "      <th>3</th>\n",
       "      <td>Austria</td>\n",
       "      <td>2017</td>\n",
       "      <td>4898578</td>\n",
       "      <td>14637</td>\n",
       "      <td>4883941</td>\n",
       "      <td>0.002988</td>\n",
       "      <td>9.3</td>\n",
       "      <td>0.001668</td>\n",
       "      <td>0.556710</td>\n",
       "      <td>81587644.5</td>\n",
       "      <td>5551.0</td>\n",
       "      <td>71470.0</td>\n",
       "      <td>6763593.9</td>\n",
       "      <td>77021.0</td>\n",
       "    </tr>\n",
       "    <tr>\n",
       "      <th>4</th>\n",
       "      <td>Austria</td>\n",
       "      <td>2018</td>\n",
       "      <td>4978852</td>\n",
       "      <td>20855</td>\n",
       "      <td>4957997</td>\n",
       "      <td>0.004189</td>\n",
       "      <td>9.8</td>\n",
       "      <td>0.002364</td>\n",
       "      <td>0.561987</td>\n",
       "      <td>86458216.6</td>\n",
       "      <td>6218.0</td>\n",
       "      <td>74056.0</td>\n",
       "      <td>4870572.1</td>\n",
       "      <td>80274.0</td>\n",
       "    </tr>\n",
       "    <tr>\n",
       "      <th>...</th>\n",
       "      <td>...</td>\n",
       "      <td>...</td>\n",
       "      <td>...</td>\n",
       "      <td>...</td>\n",
       "      <td>...</td>\n",
       "      <td>...</td>\n",
       "      <td>...</td>\n",
       "      <td>...</td>\n",
       "      <td>...</td>\n",
       "      <td>...</td>\n",
       "      <td>...</td>\n",
       "      <td>...</td>\n",
       "      <td>...</td>\n",
       "      <td>...</td>\n",
       "    </tr>\n",
       "    <tr>\n",
       "      <th>255</th>\n",
       "      <td>Sweden</td>\n",
       "      <td>2019</td>\n",
       "      <td>4887116</td>\n",
       "      <td>30382</td>\n",
       "      <td>4856734</td>\n",
       "      <td>0.006217</td>\n",
       "      <td>1.2</td>\n",
       "      <td>0.002970</td>\n",
       "      <td>0.474745</td>\n",
       "      <td>12276222.0</td>\n",
       "      <td>13677.0</td>\n",
       "      <td>3460.0</td>\n",
       "      <td>-3916165.2</td>\n",
       "      <td>17137.0</td>\n",
       "    </tr>\n",
       "    <tr>\n",
       "      <th>256</th>\n",
       "      <td>Sweden</td>\n",
       "      <td>2020</td>\n",
       "      <td>4943293</td>\n",
       "      <td>55829</td>\n",
       "      <td>4887464</td>\n",
       "      <td>0.011294</td>\n",
       "      <td>0.4</td>\n",
       "      <td>0.005406</td>\n",
       "      <td>0.473243</td>\n",
       "      <td>4131035.6</td>\n",
       "      <td>25447.0</td>\n",
       "      <td>30730.0</td>\n",
       "      <td>-8145186.4</td>\n",
       "      <td>56177.0</td>\n",
       "    </tr>\n",
       "    <tr>\n",
       "      <th>257</th>\n",
       "      <td>Sweden</td>\n",
       "      <td>2021</td>\n",
       "      <td>4985979</td>\n",
       "      <td>110221</td>\n",
       "      <td>4875758</td>\n",
       "      <td>0.022106</td>\n",
       "      <td>0.5</td>\n",
       "      <td>0.010619</td>\n",
       "      <td>0.469758</td>\n",
       "      <td>5189647.5</td>\n",
       "      <td>54392.0</td>\n",
       "      <td>-11706.0</td>\n",
       "      <td>1058611.9</td>\n",
       "      <td>42686.0</td>\n",
       "    </tr>\n",
       "    <tr>\n",
       "      <th>258</th>\n",
       "      <td>Sweden</td>\n",
       "      <td>2022</td>\n",
       "      <td>4979761</td>\n",
       "      <td>197751</td>\n",
       "      <td>4782010</td>\n",
       "      <td>0.039711</td>\n",
       "      <td>0.6</td>\n",
       "      <td>0.018919</td>\n",
       "      <td>0.457507</td>\n",
       "      <td>6271395.6</td>\n",
       "      <td>87530.0</td>\n",
       "      <td>-93748.0</td>\n",
       "      <td>1081748.1</td>\n",
       "      <td>-6218.0</td>\n",
       "    </tr>\n",
       "    <tr>\n",
       "      <th>259</th>\n",
       "      <td>Sweden</td>\n",
       "      <td>2023</td>\n",
       "      <td>4976366</td>\n",
       "      <td>291716</td>\n",
       "      <td>4684650</td>\n",
       "      <td>0.058620</td>\n",
       "      <td>NaN</td>\n",
       "      <td>0.027726</td>\n",
       "      <td>0.445243</td>\n",
       "      <td>NaN</td>\n",
       "      <td>93965.0</td>\n",
       "      <td>-97360.0</td>\n",
       "      <td>NaN</td>\n",
       "      <td>-3395.0</td>\n",
       "    </tr>\n",
       "  </tbody>\n",
       "</table>\n",
       "<p>270 rows × 14 columns</p>\n",
       "</div>"
      ],
      "text/plain": [
       "         geo  time_period  amount_passenger_cars  amount_zev  amount_ev  \\\n",
       "0    Austria         2014                4694921        3389    4691532   \n",
       "1    Austria         2015                4748048        5038    4743010   \n",
       "2    Austria         2016                4821557        9086    4812471   \n",
       "3    Austria         2017                4898578       14637    4883941   \n",
       "4    Austria         2018                4978852       20855    4957997   \n",
       "..       ...          ...                    ...         ...        ...   \n",
       "255   Sweden         2019                4887116       30382    4856734   \n",
       "256   Sweden         2020                4943293       55829    4887464   \n",
       "257   Sweden         2021                4985979      110221    4875758   \n",
       "258   Sweden         2022                4979761      197751    4782010   \n",
       "259   Sweden         2023                4976366      291716    4684650   \n",
       "\n",
       "     share_zev  emission_per_capita  zev_per_capita  ev_per_capita  \\\n",
       "0     0.000722                  8.4        0.000398       0.551440   \n",
       "1     0.001061                  8.7        0.000587       0.552481   \n",
       "2     0.001884                  8.6        0.001044       0.553128   \n",
       "3     0.002988                  9.3        0.001668       0.556710   \n",
       "4     0.004189                  9.8        0.002364       0.561987   \n",
       "..         ...                  ...             ...            ...   \n",
       "255   0.006217                  1.2        0.002970       0.474745   \n",
       "256   0.011294                  0.4        0.005406       0.473243   \n",
       "257   0.022106                  0.5        0.010619       0.469758   \n",
       "258   0.039711                  0.6        0.018919       0.457507   \n",
       "259   0.058620                  NaN        0.027726       0.445243   \n",
       "\n",
       "     total_emissions  zev_diff  ev_diff  emmission_diff  all_cars_diff  \n",
       "0         71465402.4       NaN      NaN             NaN            NaN  \n",
       "1         74688856.2    1649.0  51478.0       3223453.8        53127.0  \n",
       "2         74824050.6    4048.0  69461.0        135194.4        73509.0  \n",
       "3         81587644.5    5551.0  71470.0       6763593.9        77021.0  \n",
       "4         86458216.6    6218.0  74056.0       4870572.1        80274.0  \n",
       "..               ...       ...      ...             ...            ...  \n",
       "255       12276222.0   13677.0   3460.0      -3916165.2        17137.0  \n",
       "256        4131035.6   25447.0  30730.0      -8145186.4        56177.0  \n",
       "257        5189647.5   54392.0 -11706.0       1058611.9        42686.0  \n",
       "258        6271395.6   87530.0 -93748.0       1081748.1        -6218.0  \n",
       "259              NaN   93965.0 -97360.0             NaN        -3395.0  \n",
       "\n",
       "[270 rows x 14 columns]"
      ]
     },
     "execution_count": 361,
     "metadata": {},
     "output_type": "execute_result"
    }
   ],
   "source": [
    "joined_df"
   ]
  },
  {
   "cell_type": "code",
   "execution_count": 362,
   "metadata": {},
   "outputs": [],
   "source": [
    "# Check whether there are missing values\n",
    "rows_with_na = joined_df[joined_df.isna().any(axis=1)]"
   ]
  },
  {
   "cell_type": "markdown",
   "metadata": {},
   "source": [
    "# Deelvraag 1"
   ]
  },
  {
   "cell_type": "code",
   "execution_count": 363,
   "metadata": {},
   "outputs": [],
   "source": [
    "# Group databases by country\n",
    "groups = joined_df.groupby('geo')"
   ]
  },
  {
   "cell_type": "code",
   "execution_count": null,
   "metadata": {},
   "outputs": [],
   "source": [
    "df_cleaned = joined_df[['ev_diff', 'emmission_diff', 'geo', 'time_period', 'all_cars_diff', 'zev_diff', 'ev_norm', 'zev_norm', 'emmission_norm', 'all_cars_norm']].dropna()\n",
    "\n",
    "# Convert to numeric in case they are not\n",
    "df_cleaned['ev_diff'] = pd.to_numeric(df_cleaned['ev_diff'], errors='coerce')\n",
    "df_cleaned['emmission_diff'] = pd.to_numeric(df_cleaned['emmission_diff'], errors='coerce')\n",
    "df_cleaned['all_cars_diff'] = pd.to_numeric(df_cleaned['all_cars_diff'], errors='coerce')\n",
    "\n",
    "# Drop any remaining NaN values after conversion\n",
    "df_cleaned = df_cleaned.dropna()\n"
   ]
  },
  {
   "cell_type": "code",
   "execution_count": 365,
   "metadata": {},
   "outputs": [
    {
     "data": {
      "text/html": [
       "<div>\n",
       "<style scoped>\n",
       "    .dataframe tbody tr th:only-of-type {\n",
       "        vertical-align: middle;\n",
       "    }\n",
       "\n",
       "    .dataframe tbody tr th {\n",
       "        vertical-align: top;\n",
       "    }\n",
       "\n",
       "    .dataframe thead th {\n",
       "        text-align: right;\n",
       "    }\n",
       "</style>\n",
       "<table border=\"1\" class=\"dataframe\">\n",
       "  <thead>\n",
       "    <tr style=\"text-align: right;\">\n",
       "      <th></th>\n",
       "      <th>ev_diff</th>\n",
       "      <th>emmission_diff</th>\n",
       "      <th>geo</th>\n",
       "      <th>time_period</th>\n",
       "      <th>all_cars_diff</th>\n",
       "      <th>zev_diff</th>\n",
       "    </tr>\n",
       "  </thead>\n",
       "  <tbody>\n",
       "    <tr>\n",
       "      <th>1</th>\n",
       "      <td>51478.0</td>\n",
       "      <td>3223453.8</td>\n",
       "      <td>Austria</td>\n",
       "      <td>2015</td>\n",
       "      <td>53127.0</td>\n",
       "      <td>1649.0</td>\n",
       "    </tr>\n",
       "    <tr>\n",
       "      <th>2</th>\n",
       "      <td>69461.0</td>\n",
       "      <td>135194.4</td>\n",
       "      <td>Austria</td>\n",
       "      <td>2016</td>\n",
       "      <td>73509.0</td>\n",
       "      <td>4048.0</td>\n",
       "    </tr>\n",
       "    <tr>\n",
       "      <th>3</th>\n",
       "      <td>71470.0</td>\n",
       "      <td>6763593.9</td>\n",
       "      <td>Austria</td>\n",
       "      <td>2017</td>\n",
       "      <td>77021.0</td>\n",
       "      <td>5551.0</td>\n",
       "    </tr>\n",
       "    <tr>\n",
       "      <th>4</th>\n",
       "      <td>74056.0</td>\n",
       "      <td>4870572.1</td>\n",
       "      <td>Austria</td>\n",
       "      <td>2018</td>\n",
       "      <td>80274.0</td>\n",
       "      <td>6218.0</td>\n",
       "    </tr>\n",
       "    <tr>\n",
       "      <th>5</th>\n",
       "      <td>51987.0</td>\n",
       "      <td>-1413976.6</td>\n",
       "      <td>Austria</td>\n",
       "      <td>2019</td>\n",
       "      <td>60696.0</td>\n",
       "      <td>8709.0</td>\n",
       "    </tr>\n",
       "  </tbody>\n",
       "</table>\n",
       "</div>"
      ],
      "text/plain": [
       "   ev_diff  emmission_diff      geo  time_period  all_cars_diff  zev_diff\n",
       "1  51478.0       3223453.8  Austria         2015        53127.0    1649.0\n",
       "2  69461.0        135194.4  Austria         2016        73509.0    4048.0\n",
       "3  71470.0       6763593.9  Austria         2017        77021.0    5551.0\n",
       "4  74056.0       4870572.1  Austria         2018        80274.0    6218.0\n",
       "5  51987.0      -1413976.6  Austria         2019        60696.0    8709.0"
      ]
     },
     "execution_count": 365,
     "metadata": {},
     "output_type": "execute_result"
    }
   ],
   "source": [
    "df_cleaned.head()"
   ]
  },
  {
   "cell_type": "code",
   "execution_count": 375,
   "metadata": {},
   "outputs": [
    {
     "data": {
      "application/vnd.plotly.v1+json": {
       "config": {
        "plotlyServerURL": "https://plot.ly"
       },
       "data": [
        {
         "hovertemplate": "geo=Austria<br>time_period=2015<br>all_cars_diff=%{x}<br>emmission_diff=%{y}<extra></extra>",
         "legendgroup": "Austria, 2015",
         "marker": {
          "color": "#636efa",
          "symbol": "circle"
         },
         "mode": "markers",
         "name": "Austria, 2015",
         "orientation": "v",
         "showlegend": true,
         "type": "scatter",
         "x": [
          53127
         ],
         "xaxis": "x",
         "y": [
          3223453.799999982
         ],
         "yaxis": "y"
        },
        {
         "hovertemplate": "geo=Austria<br>time_period=2016<br>all_cars_diff=%{x}<br>emmission_diff=%{y}<extra></extra>",
         "legendgroup": "Austria, 2016",
         "marker": {
          "color": "#636efa",
          "symbol": "diamond"
         },
         "mode": "markers",
         "name": "Austria, 2016",
         "orientation": "v",
         "showlegend": true,
         "type": "scatter",
         "x": [
          73509
         ],
         "xaxis": "x",
         "y": [
          135194.40000000596
         ],
         "yaxis": "y"
        },
        {
         "hovertemplate": "geo=Austria<br>time_period=2017<br>all_cars_diff=%{x}<br>emmission_diff=%{y}<extra></extra>",
         "legendgroup": "Austria, 2017",
         "marker": {
          "color": "#636efa",
          "symbol": "square"
         },
         "mode": "markers",
         "name": "Austria, 2017",
         "orientation": "v",
         "showlegend": true,
         "type": "scatter",
         "x": [
          77021
         ],
         "xaxis": "x",
         "y": [
          6763593.900000006
         ],
         "yaxis": "y"
        },
        {
         "hovertemplate": "geo=Austria<br>time_period=2018<br>all_cars_diff=%{x}<br>emmission_diff=%{y}<extra></extra>",
         "legendgroup": "Austria, 2018",
         "marker": {
          "color": "#636efa",
          "symbol": "x"
         },
         "mode": "markers",
         "name": "Austria, 2018",
         "orientation": "v",
         "showlegend": true,
         "type": "scatter",
         "x": [
          80274
         ],
         "xaxis": "x",
         "y": [
          4870572.100000009
         ],
         "yaxis": "y"
        },
        {
         "hovertemplate": "geo=Austria<br>time_period=2019<br>all_cars_diff=%{x}<br>emmission_diff=%{y}<extra></extra>",
         "legendgroup": "Austria, 2019",
         "marker": {
          "color": "#636efa",
          "symbol": "cross"
         },
         "mode": "markers",
         "name": "Austria, 2019",
         "orientation": "v",
         "showlegend": true,
         "type": "scatter",
         "x": [
          60696
         ],
         "xaxis": "x",
         "y": [
          -1413976.600000009
         ],
         "yaxis": "y"
        },
        {
         "hovertemplate": "geo=Austria<br>time_period=2020<br>all_cars_diff=%{x}<br>emmission_diff=%{y}<extra></extra>",
         "legendgroup": "Austria, 2020",
         "marker": {
          "color": "#636efa",
          "symbol": "circle"
         },
         "mode": "markers",
         "name": "Austria, 2020",
         "orientation": "v",
         "showlegend": true,
         "type": "scatter",
         "x": [
          52279
         ],
         "xaxis": "x",
         "y": [
          -15615940.799999997
         ],
         "yaxis": "y"
        },
        {
         "hovertemplate": "geo=Austria<br>time_period=2021<br>all_cars_diff=%{x}<br>emmission_diff=%{y}<extra></extra>",
         "legendgroup": "Austria, 2021",
         "marker": {
          "color": "#636efa",
          "symbol": "diamond"
         },
         "mode": "markers",
         "name": "Austria, 2021",
         "orientation": "v",
         "showlegend": true,
         "type": "scatter",
         "x": [
          42009
         ],
         "xaxis": "x",
         "y": [
          -2433319.200000003
         ],
         "yaxis": "y"
        },
        {
         "hovertemplate": "geo=Austria<br>time_period=2022<br>all_cars_diff=%{x}<br>emmission_diff=%{y}<extra></extra>",
         "legendgroup": "Austria, 2022",
         "marker": {
          "color": "#636efa",
          "symbol": "square"
         },
         "mode": "markers",
         "name": "Austria, 2022",
         "orientation": "v",
         "showlegend": true,
         "type": "scatter",
         "x": [
          17054
         ],
         "xaxis": "x",
         "y": [
          3040666.200000003
         ],
         "yaxis": "y"
        },
        {
         "hovertemplate": "geo=Belgium<br>time_period=2015<br>all_cars_diff=%{x}<br>emmission_diff=%{y}<extra></extra>",
         "legendgroup": "Belgium, 2015",
         "marker": {
          "color": "#EF553B",
          "symbol": "circle"
         },
         "mode": "markers",
         "name": "Belgium, 2015",
         "orientation": "v",
         "showlegend": true,
         "type": "scatter",
         "x": [
          77369
         ],
         "xaxis": "x",
         "y": [
          5087466.600000009
         ],
         "yaxis": "y"
        },
        {
         "hovertemplate": "geo=Belgium<br>time_period=2016<br>all_cars_diff=%{x}<br>emmission_diff=%{y}<extra></extra>",
         "legendgroup": "Belgium, 2016",
         "marker": {
          "color": "#EF553B",
          "symbol": "diamond"
         },
         "mode": "markers",
         "name": "Belgium, 2016",
         "orientation": "v",
         "showlegend": true,
         "type": "scatter",
         "x": [
          69233
         ],
         "xaxis": "x",
         "y": [
          -1457334.7000000179
         ],
         "yaxis": "y"
        },
        {
         "hovertemplate": "geo=Belgium<br>time_period=2017<br>all_cars_diff=%{x}<br>emmission_diff=%{y}<extra></extra>",
         "legendgroup": "Belgium, 2017",
         "marker": {
          "color": "#EF553B",
          "symbol": "square"
         },
         "mode": "markers",
         "name": "Belgium, 2017",
         "orientation": "v",
         "showlegend": true,
         "type": "scatter",
         "x": [
          67647
         ],
         "xaxis": "x",
         "y": [
          434527
         ],
         "yaxis": "y"
        },
        {
         "hovertemplate": "geo=Belgium<br>time_period=2018<br>all_cars_diff=%{x}<br>emmission_diff=%{y}<extra></extra>",
         "legendgroup": "Belgium, 2018",
         "marker": {
          "color": "#EF553B",
          "symbol": "x"
         },
         "mode": "markers",
         "name": "Belgium, 2018",
         "orientation": "v",
         "showlegend": true,
         "type": "scatter",
         "x": [
          49486
         ],
         "xaxis": "x",
         "y": [
          501423.40000000596
         ],
         "yaxis": "y"
        },
        {
         "hovertemplate": "geo=Belgium<br>time_period=2019<br>all_cars_diff=%{x}<br>emmission_diff=%{y}<extra></extra>",
         "legendgroup": "Belgium, 2019",
         "marker": {
          "color": "#EF553B",
          "symbol": "cross"
         },
         "mode": "markers",
         "name": "Belgium, 2019",
         "orientation": "v",
         "showlegend": true,
         "type": "scatter",
         "x": [
          33449
         ],
         "xaxis": "x",
         "y": [
          -536400.900000006
         ],
         "yaxis": "y"
        },
        {
         "hovertemplate": "geo=Belgium<br>time_period=2020<br>all_cars_diff=%{x}<br>emmission_diff=%{y}<extra></extra>",
         "legendgroup": "Belgium, 2020",
         "marker": {
          "color": "#EF553B",
          "symbol": "circle"
         },
         "mode": "markers",
         "name": "Belgium, 2020",
         "orientation": "v",
         "showlegend": true,
         "type": "scatter",
         "x": [
          15614
         ],
         "xaxis": "x",
         "y": [
          -10813077.399999991
         ],
         "yaxis": "y"
        },
        {
         "hovertemplate": "geo=Belgium<br>time_period=2021<br>all_cars_diff=%{x}<br>emmission_diff=%{y}<extra></extra>",
         "legendgroup": "Belgium, 2021",
         "marker": {
          "color": "#EF553B",
          "symbol": "diamond"
         },
         "mode": "markers",
         "name": "Belgium, 2021",
         "orientation": "v",
         "showlegend": true,
         "type": "scatter",
         "x": [
          28521
         ],
         "xaxis": "x",
         "y": [
          3776769.299999997
         ],
         "yaxis": "y"
        },
        {
         "hovertemplate": "geo=Belgium<br>time_period=2022<br>all_cars_diff=%{x}<br>emmission_diff=%{y}<extra></extra>",
         "legendgroup": "Belgium, 2022",
         "marker": {
          "color": "#EF553B",
          "symbol": "square"
         },
         "mode": "markers",
         "name": "Belgium, 2022",
         "orientation": "v",
         "showlegend": true,
         "type": "scatter",
         "x": [
          29118
         ],
         "xaxis": "x",
         "y": [
          -6348299.399999991
         ],
         "yaxis": "y"
        },
        {
         "hovertemplate": "geo=Bulgaria<br>time_period=2015<br>all_cars_diff=%{x}<br>emmission_diff=%{y}<extra></extra>",
         "legendgroup": "Bulgaria, 2015",
         "marker": {
          "color": "#00cc96",
          "symbol": "circle"
         },
         "mode": "markers",
         "name": "Bulgaria, 2015",
         "orientation": "v",
         "showlegend": true,
         "type": "scatter",
         "x": [
          148174
         ],
         "xaxis": "x",
         "y": [
          3603473
         ],
         "yaxis": "y"
        },
        {
         "hovertemplate": "geo=Bulgaria<br>time_period=2016<br>all_cars_diff=%{x}<br>emmission_diff=%{y}<extra></extra>",
         "legendgroup": "Bulgaria, 2016",
         "marker": {
          "color": "#00cc96",
          "symbol": "diamond"
         },
         "mode": "markers",
         "name": "Bulgaria, 2016",
         "orientation": "v",
         "showlegend": true,
         "type": "scatter",
         "x": [
          -18469
         ],
         "xaxis": "x",
         "y": [
          -4160455.1000000015
         ],
         "yaxis": "y"
        },
        {
         "hovertemplate": "geo=Bulgaria<br>time_period=2017<br>all_cars_diff=%{x}<br>emmission_diff=%{y}<extra></extra>",
         "legendgroup": "Bulgaria, 2017",
         "marker": {
          "color": "#00cc96",
          "symbol": "square"
         },
         "mode": "markers",
         "name": "Bulgaria, 2017",
         "orientation": "v",
         "showlegend": true,
         "type": "scatter",
         "x": [
          -372953
         ],
         "xaxis": "x",
         "y": [
          1421244.3000000045
         ],
         "yaxis": "y"
        },
        {
         "hovertemplate": "geo=Bulgaria<br>time_period=2018<br>all_cars_diff=%{x}<br>emmission_diff=%{y}<extra></extra>",
         "legendgroup": "Bulgaria, 2018",
         "marker": {
          "color": "#00cc96",
          "symbol": "x"
         },
         "mode": "markers",
         "name": "Bulgaria, 2018",
         "orientation": "v",
         "showlegend": true,
         "type": "scatter",
         "x": [
          2710
         ],
         "xaxis": "x",
         "y": [
          -4060249
         ],
         "yaxis": "y"
        },
        {
         "hovertemplate": "geo=Bulgaria<br>time_period=2019<br>all_cars_diff=%{x}<br>emmission_diff=%{y}<extra></extra>",
         "legendgroup": "Bulgaria, 2019",
         "marker": {
          "color": "#00cc96",
          "symbol": "cross"
         },
         "mode": "markers",
         "name": "Bulgaria, 2019",
         "orientation": "v",
         "showlegend": true,
         "type": "scatter",
         "x": [
          56621
         ],
         "xaxis": "x",
         "y": [
          -1309780.6000000015
         ],
         "yaxis": "y"
        },
        {
         "hovertemplate": "geo=Bulgaria<br>time_period=2020<br>all_cars_diff=%{x}<br>emmission_diff=%{y}<extra></extra>",
         "legendgroup": "Bulgaria, 2020",
         "marker": {
          "color": "#00cc96",
          "symbol": "circle"
         },
         "mode": "markers",
         "name": "Bulgaria, 2020",
         "orientation": "v",
         "showlegend": true,
         "type": "scatter",
         "x": [
          36817
         ],
         "xaxis": "x",
         "y": [
          -6557681.1000000015
         ],
         "yaxis": "y"
        },
        {
         "hovertemplate": "geo=Bulgaria<br>time_period=2021<br>all_cars_diff=%{x}<br>emmission_diff=%{y}<extra></extra>",
         "legendgroup": "Bulgaria, 2021",
         "marker": {
          "color": "#00cc96",
          "symbol": "diamond"
         },
         "mode": "markers",
         "name": "Bulgaria, 2021",
         "orientation": "v",
         "showlegend": true,
         "type": "scatter",
         "x": [
          -36299
         ],
         "xaxis": "x",
         "y": [
          6312884.8000000045
         ],
         "yaxis": "y"
        },
        {
         "hovertemplate": "geo=Bulgaria<br>time_period=2022<br>all_cars_diff=%{x}<br>emmission_diff=%{y}<extra></extra>",
         "legendgroup": "Bulgaria, 2022",
         "marker": {
          "color": "#00cc96",
          "symbol": "square"
         },
         "mode": "markers",
         "name": "Bulgaria, 2022",
         "orientation": "v",
         "showlegend": true,
         "type": "scatter",
         "x": [
          66313
         ],
         "xaxis": "x",
         "y": [
          4843519.5
         ],
         "yaxis": "y"
        },
        {
         "hovertemplate": "geo=Croatia<br>time_period=2015<br>all_cars_diff=%{x}<br>emmission_diff=%{y}<extra></extra>",
         "legendgroup": "Croatia, 2015",
         "marker": {
          "color": "#ab63fa",
          "symbol": "circle"
         },
         "mode": "markers",
         "name": "Croatia, 2015",
         "orientation": "v",
         "showlegend": true,
         "type": "scatter",
         "x": [
          25307
         ],
         "xaxis": "x",
         "y": [
          659941.4000000022
         ],
         "yaxis": "y"
        },
        {
         "hovertemplate": "geo=Croatia<br>time_period=2016<br>all_cars_diff=%{x}<br>emmission_diff=%{y}<extra></extra>",
         "legendgroup": "Croatia, 2016",
         "marker": {
          "color": "#ab63fa",
          "symbol": "diamond"
         },
         "mode": "markers",
         "name": "Croatia, 2016",
         "orientation": "v",
         "showlegend": true,
         "type": "scatter",
         "x": [
          53102
         ],
         "xaxis": "x",
         "y": [
          577223
         ],
         "yaxis": "y"
        },
        {
         "hovertemplate": "geo=Croatia<br>time_period=2017<br>all_cars_diff=%{x}<br>emmission_diff=%{y}<extra></extra>",
         "legendgroup": "Croatia, 2017",
         "marker": {
          "color": "#ab63fa",
          "symbol": "square"
         },
         "mode": "markers",
         "name": "Croatia, 2017",
         "orientation": "v",
         "showlegend": true,
         "type": "scatter",
         "x": [
          43183
         ],
         "xaxis": "x",
         "y": [
          1767185.3000000007
         ],
         "yaxis": "y"
        },
        {
         "hovertemplate": "geo=Croatia<br>time_period=2018<br>all_cars_diff=%{x}<br>emmission_diff=%{y}<extra></extra>",
         "legendgroup": "Croatia, 2018",
         "marker": {
          "color": "#ab63fa",
          "symbol": "x"
         },
         "mode": "markers",
         "name": "Croatia, 2018",
         "orientation": "v",
         "showlegend": true,
         "type": "scatter",
         "x": [
          70326
         ],
         "xaxis": "x",
         "y": [
          -1571541.8999999985
         ],
         "yaxis": "y"
        },
        {
         "hovertemplate": "geo=Croatia<br>time_period=2019<br>all_cars_diff=%{x}<br>emmission_diff=%{y}<extra></extra>",
         "legendgroup": "Croatia, 2019",
         "marker": {
          "color": "#ab63fa",
          "symbol": "cross"
         },
         "mode": "markers",
         "name": "Croatia, 2019",
         "orientation": "v",
         "showlegend": true,
         "type": "scatter",
         "x": [
          58487
         ],
         "xaxis": "x",
         "y": [
          -246591
         ],
         "yaxis": "y"
        },
        {
         "hovertemplate": "geo=Croatia<br>time_period=2020<br>all_cars_diff=%{x}<br>emmission_diff=%{y}<extra></extra>",
         "legendgroup": "Croatia, 2020",
         "marker": {
          "color": "#ab63fa",
          "symbol": "circle"
         },
         "mode": "markers",
         "name": "Croatia, 2020",
         "orientation": "v",
         "showlegend": true,
         "type": "scatter",
         "x": [
          21385
         ],
         "xaxis": "x",
         "y": [
          -1369944.3000000045
         ],
         "yaxis": "y"
        },
        {
         "hovertemplate": "geo=Croatia<br>time_period=2021<br>all_cars_diff=%{x}<br>emmission_diff=%{y}<extra></extra>",
         "legendgroup": "Croatia, 2021",
         "marker": {
          "color": "#ab63fa",
          "symbol": "diamond"
         },
         "mode": "markers",
         "name": "Croatia, 2021",
         "orientation": "v",
         "showlegend": true,
         "type": "scatter",
         "x": [
          49180
         ],
         "xaxis": "x",
         "y": [
          182829.1000000015
         ],
         "yaxis": "y"
        },
        {
         "hovertemplate": "geo=Croatia<br>time_period=2022<br>all_cars_diff=%{x}<br>emmission_diff=%{y}<extra></extra>",
         "legendgroup": "Croatia, 2022",
         "marker": {
          "color": "#ab63fa",
          "symbol": "square"
         },
         "mode": "markers",
         "name": "Croatia, 2022",
         "orientation": "v",
         "showlegend": true,
         "type": "scatter",
         "x": [
          45302
         ],
         "xaxis": "x",
         "y": [
          998942.3000000007
         ],
         "yaxis": "y"
        },
        {
         "hovertemplate": "geo=Cyprus<br>time_period=2015<br>all_cars_diff=%{x}<br>emmission_diff=%{y}<extra></extra>",
         "legendgroup": "Cyprus, 2015",
         "marker": {
          "color": "#FFA15A",
          "symbol": "circle"
         },
         "mode": "markers",
         "name": "Cyprus, 2015",
         "orientation": "v",
         "showlegend": true,
         "type": "scatter",
         "x": [
          9200
         ],
         "xaxis": "x",
         "y": [
          -28516.799999998882
         ],
         "yaxis": "y"
        },
        {
         "hovertemplate": "geo=Cyprus<br>time_period=2016<br>all_cars_diff=%{x}<br>emmission_diff=%{y}<extra></extra>",
         "legendgroup": "Cyprus, 2016",
         "marker": {
          "color": "#FFA15A",
          "symbol": "diamond"
         },
         "mode": "markers",
         "name": "Cyprus, 2016",
         "orientation": "v",
         "showlegend": true,
         "type": "scatter",
         "x": [
          20592
         ],
         "xaxis": "x",
         "y": [
          607457.6999999993
         ],
         "yaxis": "y"
        },
        {
         "hovertemplate": "geo=Cyprus<br>time_period=2017<br>all_cars_diff=%{x}<br>emmission_diff=%{y}<extra></extra>",
         "legendgroup": "Cyprus, 2017",
         "marker": {
          "color": "#FFA15A",
          "symbol": "square"
         },
         "mode": "markers",
         "name": "Cyprus, 2017",
         "orientation": "v",
         "showlegend": true,
         "type": "scatter",
         "x": [
          18333
         ],
         "xaxis": "x",
         "y": [
          157441.49999999814
         ],
         "yaxis": "y"
        },
        {
         "hovertemplate": "geo=Cyprus<br>time_period=2018<br>all_cars_diff=%{x}<br>emmission_diff=%{y}<extra></extra>",
         "legendgroup": "Cyprus, 2018",
         "marker": {
          "color": "#FFA15A",
          "symbol": "x"
         },
         "mode": "markers",
         "name": "Cyprus, 2018",
         "orientation": "v",
         "showlegend": true,
         "type": "scatter",
         "x": [
          24078
         ],
         "xaxis": "x",
         "y": [
          -67186.39999999851
         ],
         "yaxis": "y"
        },
        {
         "hovertemplate": "geo=Cyprus<br>time_period=2019<br>all_cars_diff=%{x}<br>emmission_diff=%{y}<extra></extra>",
         "legendgroup": "Cyprus, 2019",
         "marker": {
          "color": "#FFA15A",
          "symbol": "cross"
         },
         "mode": "markers",
         "name": "Cyprus, 2019",
         "orientation": "v",
         "showlegend": true,
         "type": "scatter",
         "x": [
          21806
         ],
         "xaxis": "x",
         "y": [
          40703.09999999963
         ],
         "yaxis": "y"
        },
        {
         "hovertemplate": "geo=Cyprus<br>time_period=2020<br>all_cars_diff=%{x}<br>emmission_diff=%{y}<extra></extra>",
         "legendgroup": "Cyprus, 2020",
         "marker": {
          "color": "#FFA15A",
          "symbol": "circle"
         },
         "mode": "markers",
         "name": "Cyprus, 2020",
         "orientation": "v",
         "showlegend": true,
         "type": "scatter",
         "x": [
          5657
         ],
         "xaxis": "x",
         "y": [
          -1022451.0999999996
         ],
         "yaxis": "y"
        },
        {
         "hovertemplate": "geo=Cyprus<br>time_period=2021<br>all_cars_diff=%{x}<br>emmission_diff=%{y}<extra></extra>",
         "legendgroup": "Cyprus, 2021",
         "marker": {
          "color": "#FFA15A",
          "symbol": "diamond"
         },
         "mode": "markers",
         "name": "Cyprus, 2021",
         "orientation": "v",
         "showlegend": true,
         "type": "scatter",
         "x": [
          13998
         ],
         "xaxis": "x",
         "y": [
          524822.6999999993
         ],
         "yaxis": "y"
        },
        {
         "hovertemplate": "geo=Cyprus<br>time_period=2022<br>all_cars_diff=%{x}<br>emmission_diff=%{y}<extra></extra>",
         "legendgroup": "Cyprus, 2022",
         "marker": {
          "color": "#FFA15A",
          "symbol": "square"
         },
         "mode": "markers",
         "name": "Cyprus, 2022",
         "orientation": "v",
         "showlegend": true,
         "type": "scatter",
         "x": [
          8975
         ],
         "xaxis": "x",
         "y": [
          178320.30000000075
         ],
         "yaxis": "y"
        },
        {
         "hovertemplate": "geo=Czech Republic<br>time_period=2015<br>all_cars_diff=%{x}<br>emmission_diff=%{y}<extra></extra>",
         "legendgroup": "Czech Republic, 2015",
         "marker": {
          "color": "#19d3f3",
          "symbol": "circle"
         },
         "mode": "markers",
         "name": "Czech Republic, 2015",
         "orientation": "v",
         "showlegend": true,
         "type": "scatter",
         "x": [
          281930
         ],
         "xaxis": "x",
         "y": [
          2404998.999999985
         ],
         "yaxis": "y"
        },
        {
         "hovertemplate": "geo=Czech Republic<br>time_period=2016<br>all_cars_diff=%{x}<br>emmission_diff=%{y}<extra></extra>",
         "legendgroup": "Czech Republic, 2016",
         "marker": {
          "color": "#19d3f3",
          "symbol": "diamond"
         },
         "mode": "markers",
         "name": "Czech Republic, 2016",
         "orientation": "v",
         "showlegend": true,
         "type": "scatter",
         "x": [
          192492
         ],
         "xaxis": "x",
         "y": [
          2292914.200000018
         ],
         "yaxis": "y"
        },
        {
         "hovertemplate": "geo=Czech Republic<br>time_period=2017<br>all_cars_diff=%{x}<br>emmission_diff=%{y}<extra></extra>",
         "legendgroup": "Czech Republic, 2017",
         "marker": {
          "color": "#19d3f3",
          "symbol": "square"
         },
         "mode": "markers",
         "name": "Czech Republic, 2017",
         "orientation": "v",
         "showlegend": true,
         "type": "scatter",
         "x": [
          230414
         ],
         "xaxis": "x",
         "y": [
          2412990.299999997
         ],
         "yaxis": "y"
        },
        {
         "hovertemplate": "geo=Czech Republic<br>time_period=2018<br>all_cars_diff=%{x}<br>emmission_diff=%{y}<extra></extra>",
         "legendgroup": "Czech Republic, 2018",
         "marker": {
          "color": "#19d3f3",
          "symbol": "x"
         },
         "mode": "markers",
         "name": "Czech Republic, 2018",
         "orientation": "v",
         "showlegend": true,
         "type": "scatter",
         "x": [
          209691
         ],
         "xaxis": "x",
         "y": [
          3560960
         ],
         "yaxis": "y"
        },
        {
         "hovertemplate": "geo=Czech Republic<br>time_period=2019<br>all_cars_diff=%{x}<br>emmission_diff=%{y}<extra></extra>",
         "legendgroup": "Czech Republic, 2019",
         "marker": {
          "color": "#19d3f3",
          "symbol": "cross"
         },
         "mode": "markers",
         "name": "Czech Republic, 2019",
         "orientation": "v",
         "showlegend": true,
         "type": "scatter",
         "x": [
          177082
         ],
         "xaxis": "x",
         "y": [
          492838
         ],
         "yaxis": "y"
        },
        {
         "hovertemplate": "geo=Czech Republic<br>time_period=2020<br>all_cars_diff=%{x}<br>emmission_diff=%{y}<extra></extra>",
         "legendgroup": "Czech Republic, 2020",
         "marker": {
          "color": "#19d3f3",
          "symbol": "circle"
         },
         "mode": "markers",
         "name": "Czech Republic, 2020",
         "orientation": "v",
         "showlegend": true,
         "type": "scatter",
         "x": [
          124260
         ],
         "xaxis": "x",
         "y": [
          -8007827.600000009
         ],
         "yaxis": "y"
        },
        {
         "hovertemplate": "geo=Czech Republic<br>time_period=2021<br>all_cars_diff=%{x}<br>emmission_diff=%{y}<extra></extra>",
         "legendgroup": "Czech Republic, 2021",
         "marker": {
          "color": "#19d3f3",
          "symbol": "diamond"
         },
         "mode": "markers",
         "name": "Czech Republic, 2021",
         "orientation": "v",
         "showlegend": true,
         "type": "scatter",
         "x": [
          39475
         ],
         "xaxis": "x",
         "y": [
          1888339.600000009
         ],
         "yaxis": "y"
        },
        {
         "hovertemplate": "geo=Czech Republic<br>time_period=2022<br>all_cars_diff=%{x}<br>emmission_diff=%{y}<extra></extra>",
         "legendgroup": "Czech Republic, 2022",
         "marker": {
          "color": "#19d3f3",
          "symbol": "square"
         },
         "mode": "markers",
         "name": "Czech Republic, 2022",
         "orientation": "v",
         "showlegend": true,
         "type": "scatter",
         "x": [
          217204
         ],
         "xaxis": "x",
         "y": [
          -6047572.200000003
         ],
         "yaxis": "y"
        },
        {
         "hovertemplate": "geo=Denmark<br>time_period=2015<br>all_cars_diff=%{x}<br>emmission_diff=%{y}<extra></extra>",
         "legendgroup": "Denmark, 2015",
         "marker": {
          "color": "#FF6692",
          "symbol": "circle"
         },
         "mode": "markers",
         "name": "Denmark, 2015",
         "orientation": "v",
         "showlegend": true,
         "type": "scatter",
         "x": [
          71616
         ],
         "xaxis": "x",
         "y": [
          -3640248.5000000075
         ],
         "yaxis": "y"
        },
        {
         "hovertemplate": "geo=Denmark<br>time_period=2016<br>all_cars_diff=%{x}<br>emmission_diff=%{y}<extra></extra>",
         "legendgroup": "Denmark, 2016",
         "marker": {
          "color": "#FF6692",
          "symbol": "diamond"
         },
         "mode": "markers",
         "name": "Denmark, 2016",
         "orientation": "v",
         "showlegend": true,
         "type": "scatter",
         "x": [
          74711
         ],
         "xaxis": "x",
         "y": [
          3290956.700000003
         ],
         "yaxis": "y"
        },
        {
         "hovertemplate": "geo=Denmark<br>time_period=2017<br>all_cars_diff=%{x}<br>emmission_diff=%{y}<extra></extra>",
         "legendgroup": "Denmark, 2017",
         "marker": {
          "color": "#FF6692",
          "symbol": "square"
         },
         "mode": "markers",
         "name": "Denmark, 2017",
         "orientation": "v",
         "showlegend": true,
         "type": "scatter",
         "x": [
          64518
         ],
         "xaxis": "x",
         "y": [
          -2471659.8999999985
         ],
         "yaxis": "y"
        },
        {
         "hovertemplate": "geo=Denmark<br>time_period=2018<br>all_cars_diff=%{x}<br>emmission_diff=%{y}<extra></extra>",
         "legendgroup": "Denmark, 2018",
         "marker": {
          "color": "#FF6692",
          "symbol": "x"
         },
         "mode": "markers",
         "name": "Denmark, 2018",
         "orientation": "v",
         "showlegend": true,
         "type": "scatter",
         "x": [
          64430
         ],
         "xaxis": "x",
         "y": [
          1454511.200000003
         ],
         "yaxis": "y"
        },
        {
         "hovertemplate": "geo=Denmark<br>time_period=2019<br>all_cars_diff=%{x}<br>emmission_diff=%{y}<extra></extra>",
         "legendgroup": "Denmark, 2019",
         "marker": {
          "color": "#FF6692",
          "symbol": "cross"
         },
         "mode": "markers",
         "name": "Denmark, 2019",
         "orientation": "v",
         "showlegend": true,
         "type": "scatter",
         "x": [
          57259
         ],
         "xaxis": "x",
         "y": [
          -4410889.3999999985
         ],
         "yaxis": "y"
        },
        {
         "hovertemplate": "geo=Denmark<br>time_period=2020<br>all_cars_diff=%{x}<br>emmission_diff=%{y}<extra></extra>",
         "legendgroup": "Denmark, 2020",
         "marker": {
          "color": "#FF6692",
          "symbol": "circle"
         },
         "mode": "markers",
         "name": "Denmark, 2020",
         "orientation": "v",
         "showlegend": true,
         "type": "scatter",
         "x": [
          71871
         ],
         "xaxis": "x",
         "y": [
          -5097021.5
         ],
         "yaxis": "y"
        },
        {
         "hovertemplate": "geo=Denmark<br>time_period=2021<br>all_cars_diff=%{x}<br>emmission_diff=%{y}<extra></extra>",
         "legendgroup": "Denmark, 2021",
         "marker": {
          "color": "#FF6692",
          "symbol": "diamond"
         },
         "mode": "markers",
         "name": "Denmark, 2021",
         "orientation": "v",
         "showlegend": true,
         "type": "scatter",
         "x": [
          63941
         ],
         "xaxis": "x",
         "y": [
          133071.3999999985
         ],
         "yaxis": "y"
        },
        {
         "hovertemplate": "geo=Denmark<br>time_period=2022<br>all_cars_diff=%{x}<br>emmission_diff=%{y}<extra></extra>",
         "legendgroup": "Denmark, 2022",
         "marker": {
          "color": "#FF6692",
          "symbol": "square"
         },
         "mode": "markers",
         "name": "Denmark, 2022",
         "orientation": "v",
         "showlegend": true,
         "type": "scatter",
         "x": [
          13523
         ],
         "xaxis": "x",
         "y": [
          -1505038.5
         ],
         "yaxis": "y"
        },
        {
         "hovertemplate": "geo=Estonia<br>time_period=2015<br>all_cars_diff=%{x}<br>emmission_diff=%{y}<extra></extra>",
         "legendgroup": "Estonia, 2015",
         "marker": {
          "color": "#B6E880",
          "symbol": "circle"
         },
         "mode": "markers",
         "name": "Estonia, 2015",
         "orientation": "v",
         "showlegend": true,
         "type": "scatter",
         "x": [
          23646
         ],
         "xaxis": "x",
         "y": [
          -2513721.6999999993
         ],
         "yaxis": "y"
        },
        {
         "hovertemplate": "geo=Estonia<br>time_period=2016<br>all_cars_diff=%{x}<br>emmission_diff=%{y}<extra></extra>",
         "legendgroup": "Estonia, 2016",
         "marker": {
          "color": "#B6E880",
          "symbol": "diamond"
         },
         "mode": "markers",
         "name": "Estonia, 2016",
         "orientation": "v",
         "showlegend": true,
         "type": "scatter",
         "x": [
          26555
         ],
         "xaxis": "x",
         "y": [
          2647353.5999999978
         ],
         "yaxis": "y"
        },
        {
         "hovertemplate": "geo=Estonia<br>time_period=2017<br>all_cars_diff=%{x}<br>emmission_diff=%{y}<extra></extra>",
         "legendgroup": "Estonia, 2017",
         "marker": {
          "color": "#B6E880",
          "symbol": "square"
         },
         "mode": "markers",
         "name": "Estonia, 2017",
         "orientation": "v",
         "showlegend": true,
         "type": "scatter",
         "x": [
          22793
         ],
         "xaxis": "x",
         "y": [
          1047440.4000000022
         ],
         "yaxis": "y"
        },
        {
         "hovertemplate": "geo=Estonia<br>time_period=2018<br>all_cars_diff=%{x}<br>emmission_diff=%{y}<extra></extra>",
         "legendgroup": "Estonia, 2018",
         "marker": {
          "color": "#B6E880",
          "symbol": "x"
         },
         "mode": "markers",
         "name": "Estonia, 2018",
         "orientation": "v",
         "showlegend": true,
         "type": "scatter",
         "x": [
          20520
         ],
         "xaxis": "x",
         "y": [
          983558.6999999993
         ],
         "yaxis": "y"
        },
        {
         "hovertemplate": "geo=Estonia<br>time_period=2019<br>all_cars_diff=%{x}<br>emmission_diff=%{y}<extra></extra>",
         "legendgroup": "Estonia, 2019",
         "marker": {
          "color": "#B6E880",
          "symbol": "cross"
         },
         "mode": "markers",
         "name": "Estonia, 2019",
         "orientation": "v",
         "showlegend": true,
         "type": "scatter",
         "x": [
          48462
         ],
         "xaxis": "x",
         "y": [
          -5594928.699999999
         ],
         "yaxis": "y"
        },
        {
         "hovertemplate": "geo=Estonia<br>time_period=2020<br>all_cars_diff=%{x}<br>emmission_diff=%{y}<extra></extra>",
         "legendgroup": "Estonia, 2020",
         "marker": {
          "color": "#B6E880",
          "symbol": "circle"
         },
         "mode": "markers",
         "name": "Estonia, 2020",
         "orientation": "v",
         "showlegend": true,
         "type": "scatter",
         "x": [
          13763
         ],
         "xaxis": "x",
         "y": [
          -5392280
         ],
         "yaxis": "y"
        },
        {
         "hovertemplate": "geo=Estonia<br>time_period=2021<br>all_cars_diff=%{x}<br>emmission_diff=%{y}<extra></extra>",
         "legendgroup": "Estonia, 2021",
         "marker": {
          "color": "#B6E880",
          "symbol": "diamond"
         },
         "mode": "markers",
         "name": "Estonia, 2021",
         "orientation": "v",
         "showlegend": true,
         "type": "scatter",
         "x": [
          17247
         ],
         "xaxis": "x",
         "y": [
          941421.5999999996
         ],
         "yaxis": "y"
        },
        {
         "hovertemplate": "geo=Estonia<br>time_period=2022<br>all_cars_diff=%{x}<br>emmission_diff=%{y}<extra></extra>",
         "legendgroup": "Estonia, 2022",
         "marker": {
          "color": "#B6E880",
          "symbol": "square"
         },
         "mode": "markers",
         "name": "Estonia, 2022",
         "orientation": "v",
         "showlegend": true,
         "type": "scatter",
         "x": [
          23358
         ],
         "xaxis": "x",
         "y": [
          683523.5999999996
         ],
         "yaxis": "y"
        },
        {
         "hovertemplate": "geo=Finland<br>time_period=2015<br>all_cars_diff=%{x}<br>emmission_diff=%{y}<extra></extra>",
         "legendgroup": "Finland, 2015",
         "marker": {
          "color": "#FF97FF",
          "symbol": "circle"
         },
         "mode": "markers",
         "name": "Finland, 2015",
         "orientation": "v",
         "showlegend": true,
         "type": "scatter",
         "x": [
          62125
         ],
         "xaxis": "x",
         "y": [
          1254118
         ],
         "yaxis": "y"
        },
        {
         "hovertemplate": "geo=Finland<br>time_period=2016<br>all_cars_diff=%{x}<br>emmission_diff=%{y}<extra></extra>",
         "legendgroup": "Finland, 2016",
         "marker": {
          "color": "#FF97FF",
          "symbol": "diamond"
         },
         "mode": "markers",
         "name": "Finland, 2016",
         "orientation": "v",
         "showlegend": true,
         "type": "scatter",
         "x": [
          87812
         ],
         "xaxis": "x",
         "y": [
          6709209.599999994
         ],
         "yaxis": "y"
        },
        {
         "hovertemplate": "geo=Finland<br>time_period=2017<br>all_cars_diff=%{x}<br>emmission_diff=%{y}<extra></extra>",
         "legendgroup": "Finland, 2017",
         "marker": {
          "color": "#FF97FF",
          "symbol": "square"
         },
         "mode": "markers",
         "name": "Finland, 2017",
         "orientation": "v",
         "showlegend": true,
         "type": "scatter",
         "x": [
          76265
         ],
         "xaxis": "x",
         "y": [
          -403230.8999999985
         ],
         "yaxis": "y"
        },
        {
         "hovertemplate": "geo=Finland<br>time_period=2018<br>all_cars_diff=%{x}<br>emmission_diff=%{y}<extra></extra>",
         "legendgroup": "Finland, 2018",
         "marker": {
          "color": "#FF97FF",
          "symbol": "x"
         },
         "mode": "markers",
         "name": "Finland, 2018",
         "orientation": "v",
         "showlegend": true,
         "type": "scatter",
         "x": [
          71570
         ],
         "xaxis": "x",
         "y": [
          10564427.300000004
         ],
         "yaxis": "y"
        },
        {
         "hovertemplate": "geo=Finland<br>time_period=2019<br>all_cars_diff=%{x}<br>emmission_diff=%{y}<extra></extra>",
         "legendgroup": "Finland, 2019",
         "marker": {
          "color": "#FF97FF",
          "symbol": "cross"
         },
         "mode": "markers",
         "name": "Finland, 2019",
         "orientation": "v",
         "showlegend": true,
         "type": "scatter",
         "x": [
          79296
         ],
         "xaxis": "x",
         "y": [
          -8775991.399999999
         ],
         "yaxis": "y"
        },
        {
         "hovertemplate": "geo=Finland<br>time_period=2020<br>all_cars_diff=%{x}<br>emmission_diff=%{y}<extra></extra>",
         "legendgroup": "Finland, 2020",
         "marker": {
          "color": "#FF97FF",
          "symbol": "circle"
         },
         "mode": "markers",
         "name": "Finland, 2020",
         "orientation": "v",
         "showlegend": true,
         "type": "scatter",
         "x": [
          57728
         ],
         "xaxis": "x",
         "y": [
          -8771161
         ],
         "yaxis": "y"
        },
        {
         "hovertemplate": "geo=Finland<br>time_period=2021<br>all_cars_diff=%{x}<br>emmission_diff=%{y}<extra></extra>",
         "legendgroup": "Finland, 2021",
         "marker": {
          "color": "#FF97FF",
          "symbol": "diamond"
         },
         "mode": "markers",
         "name": "Finland, 2021",
         "orientation": "v",
         "showlegend": true,
         "type": "scatter",
         "x": [
          34001
         ],
         "xaxis": "x",
         "y": [
          8920376.600000001
         ],
         "yaxis": "y"
        },
        {
         "hovertemplate": "geo=Finland<br>time_period=2022<br>all_cars_diff=%{x}<br>emmission_diff=%{y}<extra></extra>",
         "legendgroup": "Finland, 2022",
         "marker": {
          "color": "#FF97FF",
          "symbol": "square"
         },
         "mode": "markers",
         "name": "Finland, 2022",
         "orientation": "v",
         "showlegend": true,
         "type": "scatter",
         "x": [
          32218
         ],
         "xaxis": "x",
         "y": [
          -419012.8999999985
         ],
         "yaxis": "y"
        },
        {
         "hovertemplate": "geo=France<br>time_period=2015<br>all_cars_diff=%{x}<br>emmission_diff=%{y}<extra></extra>",
         "legendgroup": "France, 2015",
         "marker": {
          "color": "#FECB52",
          "symbol": "circle"
         },
         "mode": "markers",
         "name": "France, 2015",
         "orientation": "v",
         "showlegend": true,
         "type": "scatter",
         "x": [
          532218
         ],
         "xaxis": "x",
         "y": [
          8515722.5
         ],
         "yaxis": "y"
        },
        {
         "hovertemplate": "geo=France<br>time_period=2016<br>all_cars_diff=%{x}<br>emmission_diff=%{y}<extra></extra>",
         "legendgroup": "France, 2016",
         "marker": {
          "color": "#FECB52",
          "symbol": "diamond"
         },
         "mode": "markers",
         "name": "France, 2016",
         "orientation": "v",
         "showlegend": true,
         "type": "scatter",
         "x": [
          493375
         ],
         "xaxis": "x",
         "y": [
          7835386.099999964
         ],
         "yaxis": "y"
        },
        {
         "hovertemplate": "geo=France<br>time_period=2017<br>all_cars_diff=%{x}<br>emmission_diff=%{y}<extra></extra>",
         "legendgroup": "France, 2017",
         "marker": {
          "color": "#FECB52",
          "symbol": "square"
         },
         "mode": "markers",
         "name": "France, 2017",
         "orientation": "v",
         "showlegend": true,
         "type": "scatter",
         "x": [
          444187
         ],
         "xaxis": "x",
         "y": [
          14493368.200000048
         ],
         "yaxis": "y"
        },
        {
         "hovertemplate": "geo=France<br>time_period=2018<br>all_cars_diff=%{x}<br>emmission_diff=%{y}<extra></extra>",
         "legendgroup": "France, 2018",
         "marker": {
          "color": "#FECB52",
          "symbol": "x"
         },
         "mode": "markers",
         "name": "France, 2018",
         "orientation": "v",
         "showlegend": true,
         "type": "scatter",
         "x": [
          111642
         ],
         "xaxis": "x",
         "y": [
          -25338915.199999988
         ],
         "yaxis": "y"
        },
        {
         "hovertemplate": "geo=France<br>time_period=2019<br>all_cars_diff=%{x}<br>emmission_diff=%{y}<extra></extra>",
         "legendgroup": "France, 2019",
         "marker": {
          "color": "#FECB52",
          "symbol": "cross"
         },
         "mode": "markers",
         "name": "France, 2019",
         "orientation": "v",
         "showlegend": true,
         "type": "scatter",
         "x": [
          191913
         ],
         "xaxis": "x",
         "y": [
          1691180.800000012
         ],
         "yaxis": "y"
        },
        {
         "hovertemplate": "geo=France<br>time_period=2020<br>all_cars_diff=%{x}<br>emmission_diff=%{y}<extra></extra>",
         "legendgroup": "France, 2020",
         "marker": {
          "color": "#FECB52",
          "symbol": "circle"
         },
         "mode": "markers",
         "name": "France, 2020",
         "orientation": "v",
         "showlegend": true,
         "type": "scatter",
         "x": [
          46425
         ],
         "xaxis": "x",
         "y": [
          -52806568.80000007
         ],
         "yaxis": "y"
        },
        {
         "hovertemplate": "geo=France<br>time_period=2021<br>all_cars_diff=%{x}<br>emmission_diff=%{y}<extra></extra>",
         "legendgroup": "France, 2021",
         "marker": {
          "color": "#FECB52",
          "symbol": "diamond"
         },
         "mode": "markers",
         "name": "France, 2021",
         "orientation": "v",
         "showlegend": true,
         "type": "scatter",
         "x": [
          347016
         ],
         "xaxis": "x",
         "y": [
          21746105.600000083
         ],
         "yaxis": "y"
        },
        {
         "hovertemplate": "geo=France<br>time_period=2022<br>all_cars_diff=%{x}<br>emmission_diff=%{y}<extra></extra>",
         "legendgroup": "France, 2022",
         "marker": {
          "color": "#FECB52",
          "symbol": "square"
         },
         "mode": "markers",
         "name": "France, 2022",
         "orientation": "v",
         "showlegend": true,
         "type": "scatter",
         "x": [
          41833
         ],
         "xaxis": "x",
         "y": [
          -12243349.100000024
         ],
         "yaxis": "y"
        },
        {
         "hovertemplate": "geo=Germany<br>time_period=2015<br>all_cars_diff=%{x}<br>emmission_diff=%{y}<extra></extra>",
         "legendgroup": "Germany, 2015",
         "marker": {
          "color": "#636efa",
          "symbol": "circle"
         },
         "mode": "markers",
         "name": "Germany, 2015",
         "orientation": "v",
         "showlegend": true,
         "type": "scatter",
         "x": [
          668000
         ],
         "xaxis": "x",
         "y": [
          4816828.8000000715
         ],
         "yaxis": "y"
        },
        {
         "hovertemplate": "geo=Germany<br>time_period=2016<br>all_cars_diff=%{x}<br>emmission_diff=%{y}<extra></extra>",
         "legendgroup": "Germany, 2016",
         "marker": {
          "color": "#636efa",
          "symbol": "diamond"
         },
         "mode": "markers",
         "name": "Germany, 2016",
         "orientation": "v",
         "showlegend": true,
         "type": "scatter",
         "x": [
          732560
         ],
         "xaxis": "x",
         "y": [
          2737678
         ],
         "yaxis": "y"
        },
        {
         "hovertemplate": "geo=Germany<br>time_period=2017<br>all_cars_diff=%{x}<br>emmission_diff=%{y}<extra></extra>",
         "legendgroup": "Germany, 2017",
         "marker": {
          "color": "#636efa",
          "symbol": "square"
         },
         "mode": "markers",
         "name": "Germany, 2017",
         "orientation": "v",
         "showlegend": true,
         "type": "scatter",
         "x": [
          671034
         ],
         "xaxis": "x",
         "y": [
          -12664074.699999928
         ],
         "yaxis": "y"
        },
        {
         "hovertemplate": "geo=Germany<br>time_period=2018<br>all_cars_diff=%{x}<br>emmission_diff=%{y}<extra></extra>",
         "legendgroup": "Germany, 2018",
         "marker": {
          "color": "#636efa",
          "symbol": "x"
         },
         "mode": "markers",
         "name": "Germany, 2018",
         "orientation": "v",
         "showlegend": true,
         "type": "scatter",
         "x": [
          621190
         ],
         "xaxis": "x",
         "y": [
          -21887097.100000024
         ],
         "yaxis": "y"
        },
        {
         "hovertemplate": "geo=Germany<br>time_period=2019<br>all_cars_diff=%{x}<br>emmission_diff=%{y}<extra></extra>",
         "legendgroup": "Germany, 2019",
         "marker": {
          "color": "#636efa",
          "symbol": "cross"
         },
         "mode": "markers",
         "name": "Germany, 2019",
         "orientation": "v",
         "showlegend": true,
         "type": "scatter",
         "x": [
          620193
         ],
         "xaxis": "x",
         "y": [
          -55708711.899999976
         ],
         "yaxis": "y"
        },
        {
         "hovertemplate": "geo=Germany<br>time_period=2020<br>all_cars_diff=%{x}<br>emmission_diff=%{y}<extra></extra>",
         "legendgroup": "Germany, 2020",
         "marker": {
          "color": "#636efa",
          "symbol": "circle"
         },
         "mode": "markers",
         "name": "Germany, 2020",
         "orientation": "v",
         "showlegend": true,
         "type": "scatter",
         "x": [
          532607
         ],
         "xaxis": "x",
         "y": [
          -73389809.70000005
         ],
         "yaxis": "y"
        },
        {
         "hovertemplate": "geo=Germany<br>time_period=2021<br>all_cars_diff=%{x}<br>emmission_diff=%{y}<extra></extra>",
         "legendgroup": "Germany, 2021",
         "marker": {
          "color": "#636efa",
          "symbol": "diamond"
         },
         "mode": "markers",
         "name": "Germany, 2021",
         "orientation": "v",
         "showlegend": true,
         "type": "scatter",
         "x": [
          292294
         ],
         "xaxis": "x",
         "y": [
          33156892.399999976
         ],
         "yaxis": "y"
        },
        {
         "hovertemplate": "geo=Germany<br>time_period=2022<br>all_cars_diff=%{x}<br>emmission_diff=%{y}<extra></extra>",
         "legendgroup": "Germany, 2022",
         "marker": {
          "color": "#636efa",
          "symbol": "square"
         },
         "mode": "markers",
         "name": "Germany, 2022",
         "orientation": "v",
         "showlegend": true,
         "type": "scatter",
         "x": [
          222158
         ],
         "xaxis": "x",
         "y": [
          -7552038.1999999285
         ],
         "yaxis": "y"
        },
        {
         "hovertemplate": "geo=Greece<br>time_period=2015<br>all_cars_diff=%{x}<br>emmission_diff=%{y}<extra></extra>",
         "legendgroup": "Greece, 2015",
         "marker": {
          "color": "#EF553B",
          "symbol": "circle"
         },
         "mode": "markers",
         "name": "Greece, 2015",
         "orientation": "v",
         "showlegend": true,
         "type": "scatter",
         "x": [
          -3253
         ],
         "xaxis": "x",
         "y": [
          -7161427.399999991
         ],
         "yaxis": "y"
        },
        {
         "hovertemplate": "geo=Greece<br>time_period=2016<br>all_cars_diff=%{x}<br>emmission_diff=%{y}<extra></extra>",
         "legendgroup": "Greece, 2016",
         "marker": {
          "color": "#EF553B",
          "symbol": "diamond"
         },
         "mode": "markers",
         "name": "Greece, 2016",
         "orientation": "v",
         "showlegend": true,
         "type": "scatter",
         "x": [
          52436
         ],
         "xaxis": "x",
         "y": [
          -3888700.400000006
         ],
         "yaxis": "y"
        },
        {
         "hovertemplate": "geo=Greece<br>time_period=2017<br>all_cars_diff=%{x}<br>emmission_diff=%{y}<extra></extra>",
         "legendgroup": "Greece, 2017",
         "marker": {
          "color": "#EF553B",
          "symbol": "square"
         },
         "mode": "markers",
         "name": "Greece, 2017",
         "orientation": "v",
         "showlegend": true,
         "type": "scatter",
         "x": [
          75872
         ],
         "xaxis": "x",
         "y": [
          4175059.700000003
         ],
         "yaxis": "y"
        },
        {
         "hovertemplate": "geo=Greece<br>time_period=2018<br>all_cars_diff=%{x}<br>emmission_diff=%{y}<extra></extra>",
         "legendgroup": "Greece, 2018",
         "marker": {
          "color": "#EF553B",
          "symbol": "x"
         },
         "mode": "markers",
         "name": "Greece, 2018",
         "orientation": "v",
         "showlegend": true,
         "type": "scatter",
         "x": [
          46767
         ],
         "xaxis": "x",
         "y": [
          -3462898.700000003
         ],
         "yaxis": "y"
        },
        {
         "hovertemplate": "geo=Greece<br>time_period=2019<br>all_cars_diff=%{x}<br>emmission_diff=%{y}<extra></extra>",
         "legendgroup": "Greece, 2019",
         "marker": {
          "color": "#EF553B",
          "symbol": "cross"
         },
         "mode": "markers",
         "name": "Greece, 2019",
         "orientation": "v",
         "showlegend": true,
         "type": "scatter",
         "x": [
          123856
         ],
         "xaxis": "x",
         "y": [
          -7649686.899999991
         ],
         "yaxis": "y"
        },
        {
         "hovertemplate": "geo=Greece<br>time_period=2020<br>all_cars_diff=%{x}<br>emmission_diff=%{y}<extra></extra>",
         "legendgroup": "Greece, 2020",
         "marker": {
          "color": "#EF553B",
          "symbol": "circle"
         },
         "mode": "markers",
         "name": "Greece, 2020",
         "orientation": "v",
         "showlegend": true,
         "type": "scatter",
         "x": [
          85625
         ],
         "xaxis": "x",
         "y": [
          -12909946.600000009
         ],
         "yaxis": "y"
        },
        {
         "hovertemplate": "geo=Greece<br>time_period=2021<br>all_cars_diff=%{x}<br>emmission_diff=%{y}<extra></extra>",
         "legendgroup": "Greece, 2021",
         "marker": {
          "color": "#EF553B",
          "symbol": "diamond"
         },
         "mode": "markers",
         "name": "Greece, 2021",
         "orientation": "v",
         "showlegend": true,
         "type": "scatter",
         "x": [
          112016
         ],
         "xaxis": "x",
         "y": [
          4003901.700000003
         ],
         "yaxis": "y"
        },
        {
         "hovertemplate": "geo=Greece<br>time_period=2022<br>all_cars_diff=%{x}<br>emmission_diff=%{y}<extra></extra>",
         "legendgroup": "Greece, 2022",
         "marker": {
          "color": "#EF553B",
          "symbol": "square"
         },
         "mode": "markers",
         "name": "Greece, 2022",
         "orientation": "v",
         "showlegend": true,
         "type": "scatter",
         "x": [
          121820
         ],
         "xaxis": "x",
         "y": [
          1584099.599999994
         ],
         "yaxis": "y"
        },
        {
         "hovertemplate": "geo=Hungary<br>time_period=2015<br>all_cars_diff=%{x}<br>emmission_diff=%{y}<extra></extra>",
         "legendgroup": "Hungary, 2015",
         "marker": {
          "color": "#00cc96",
          "symbol": "circle"
         },
         "mode": "markers",
         "name": "Hungary, 2015",
         "orientation": "v",
         "showlegend": true,
         "type": "scatter",
         "x": [
          89161
         ],
         "xaxis": "x",
         "y": [
          2755782.8999999985
         ],
         "yaxis": "y"
        },
        {
         "hovertemplate": "geo=Hungary<br>time_period=2016<br>all_cars_diff=%{x}<br>emmission_diff=%{y}<extra></extra>",
         "legendgroup": "Hungary, 2016",
         "marker": {
          "color": "#00cc96",
          "symbol": "diamond"
         },
         "mode": "markers",
         "name": "Hungary, 2016",
         "orientation": "v",
         "showlegend": true,
         "type": "scatter",
         "x": [
          116350
         ],
         "xaxis": "x",
         "y": [
          1745935.6000000015
         ],
         "yaxis": "y"
        },
        {
         "hovertemplate": "geo=Hungary<br>time_period=2017<br>all_cars_diff=%{x}<br>emmission_diff=%{y}<extra></extra>",
         "legendgroup": "Hungary, 2017",
         "marker": {
          "color": "#00cc96",
          "symbol": "square"
         },
         "mode": "markers",
         "name": "Hungary, 2017",
         "orientation": "v",
         "showlegend": true,
         "type": "scatter",
         "x": [
          158791
         ],
         "xaxis": "x",
         "y": [
          1709201.3999999985
         ],
         "yaxis": "y"
        },
        {
         "hovertemplate": "geo=Hungary<br>time_period=2018<br>all_cars_diff=%{x}<br>emmission_diff=%{y}<extra></extra>",
         "legendgroup": "Hungary, 2018",
         "marker": {
          "color": "#00cc96",
          "symbol": "x"
         },
         "mode": "markers",
         "name": "Hungary, 2018",
         "orientation": "v",
         "showlegend": true,
         "type": "scatter",
         "x": [
          169826
         ],
         "xaxis": "x",
         "y": [
          808913.1000000015
         ],
         "yaxis": "y"
        },
        {
         "hovertemplate": "geo=Hungary<br>time_period=2019<br>all_cars_diff=%{x}<br>emmission_diff=%{y}<extra></extra>",
         "legendgroup": "Hungary, 2019",
         "marker": {
          "color": "#00cc96",
          "symbol": "cross"
         },
         "mode": "markers",
         "name": "Hungary, 2019",
         "orientation": "v",
         "showlegend": true,
         "type": "scatter",
         "x": [
          170190
         ],
         "xaxis": "x",
         "y": [
          -1054340.1000000015
         ],
         "yaxis": "y"
        },
        {
         "hovertemplate": "geo=Hungary<br>time_period=2020<br>all_cars_diff=%{x}<br>emmission_diff=%{y}<extra></extra>",
         "legendgroup": "Hungary, 2020",
         "marker": {
          "color": "#00cc96",
          "symbol": "circle"
         },
         "mode": "markers",
         "name": "Hungary, 2020",
         "orientation": "v",
         "showlegend": true,
         "type": "scatter",
         "x": [
          108786
         ],
         "xaxis": "x",
         "y": [
          -3943305.6000000015
         ],
         "yaxis": "y"
        },
        {
         "hovertemplate": "geo=Hungary<br>time_period=2021<br>all_cars_diff=%{x}<br>emmission_diff=%{y}<extra></extra>",
         "legendgroup": "Hungary, 2021",
         "marker": {
          "color": "#00cc96",
          "symbol": "diamond"
         },
         "mode": "markers",
         "name": "Hungary, 2021",
         "orientation": "v",
         "showlegend": true,
         "type": "scatter",
         "x": [
          99360
         ],
         "xaxis": "x",
         "y": [
          745239.1000000089
         ],
         "yaxis": "y"
        },
        {
         "hovertemplate": "geo=Hungary<br>time_period=2022<br>all_cars_diff=%{x}<br>emmission_diff=%{y}<extra></extra>",
         "legendgroup": "Hungary, 2022",
         "marker": {
          "color": "#00cc96",
          "symbol": "square"
         },
         "mode": "markers",
         "name": "Hungary, 2022",
         "orientation": "v",
         "showlegend": true,
         "type": "scatter",
         "x": [
          73970
         ],
         "xaxis": "x",
         "y": [
          -3125363.100000009
         ],
         "yaxis": "y"
        },
        {
         "hovertemplate": "geo=Ireland<br>time_period=2015<br>all_cars_diff=%{x}<br>emmission_diff=%{y}<extra></extra>",
         "legendgroup": "Ireland, 2015",
         "marker": {
          "color": "#ab63fa",
          "symbol": "circle"
         },
         "mode": "markers",
         "name": "Ireland, 2015",
         "orientation": "v",
         "showlegend": true,
         "type": "scatter",
         "x": [
          41860
         ],
         "xaxis": "x",
         "y": [
          3359448.6999999955
         ],
         "yaxis": "y"
        },
        {
         "hovertemplate": "geo=Ireland<br>time_period=2016<br>all_cars_diff=%{x}<br>emmission_diff=%{y}<extra></extra>",
         "legendgroup": "Ireland, 2016",
         "marker": {
          "color": "#ab63fa",
          "symbol": "diamond"
         },
         "mode": "markers",
         "name": "Ireland, 2016",
         "orientation": "v",
         "showlegend": true,
         "type": "scatter",
         "x": [
          42550
         ],
         "xaxis": "x",
         "y": [
          1178184.099999994
         ],
         "yaxis": "y"
        },
        {
         "hovertemplate": "geo=Ireland<br>time_period=2017<br>all_cars_diff=%{x}<br>emmission_diff=%{y}<extra></extra>",
         "legendgroup": "Ireland, 2017",
         "marker": {
          "color": "#ab63fa",
          "symbol": "square"
         },
         "mode": "markers",
         "name": "Ireland, 2017",
         "orientation": "v",
         "showlegend": true,
         "type": "scatter",
         "x": [
          39670
         ],
         "xaxis": "x",
         "y": [
          2023748.000000015
         ],
         "yaxis": "y"
        },
        {
         "hovertemplate": "geo=Ireland<br>time_period=2018<br>all_cars_diff=%{x}<br>emmission_diff=%{y}<extra></extra>",
         "legendgroup": "Ireland, 2018",
         "marker": {
          "color": "#ab63fa",
          "symbol": "x"
         },
         "mode": "markers",
         "name": "Ireland, 2018",
         "orientation": "v",
         "showlegend": true,
         "type": "scatter",
         "x": [
          40530
         ],
         "xaxis": "x",
         "y": [
          -619395.1000000089
         ],
         "yaxis": "y"
        },
        {
         "hovertemplate": "geo=Ireland<br>time_period=2019<br>all_cars_diff=%{x}<br>emmission_diff=%{y}<extra></extra>",
         "legendgroup": "Ireland, 2019",
         "marker": {
          "color": "#ab63fa",
          "symbol": "cross"
         },
         "mode": "markers",
         "name": "Ireland, 2019",
         "orientation": "v",
         "showlegend": true,
         "type": "scatter",
         "x": [
          70290
         ],
         "xaxis": "x",
         "y": [
          -2231836.700000003
         ],
         "yaxis": "y"
        },
        {
         "hovertemplate": "geo=Ireland<br>time_period=2020<br>all_cars_diff=%{x}<br>emmission_diff=%{y}<extra></extra>",
         "legendgroup": "Ireland, 2020",
         "marker": {
          "color": "#ab63fa",
          "symbol": "circle"
         },
         "mode": "markers",
         "name": "Ireland, 2020",
         "orientation": "v",
         "showlegend": true,
         "type": "scatter",
         "x": [
          38730
         ],
         "xaxis": "x",
         "y": [
          -3513751.799999997
         ],
         "yaxis": "y"
        },
        {
         "hovertemplate": "geo=Ireland<br>time_period=2021<br>all_cars_diff=%{x}<br>emmission_diff=%{y}<extra></extra>",
         "legendgroup": "Ireland, 2021",
         "marker": {
          "color": "#ab63fa",
          "symbol": "diamond"
         },
         "mode": "markers",
         "name": "Ireland, 2021",
         "orientation": "v",
         "showlegend": true,
         "type": "scatter",
         "x": [
          17820
         ],
         "xaxis": "x",
         "y": [
          2220447.599999994
         ],
         "yaxis": "y"
        },
        {
         "hovertemplate": "geo=Ireland<br>time_period=2022<br>all_cars_diff=%{x}<br>emmission_diff=%{y}<extra></extra>",
         "legendgroup": "Ireland, 2022",
         "marker": {
          "color": "#ab63fa",
          "symbol": "square"
         },
         "mode": "markers",
         "name": "Ireland, 2022",
         "orientation": "v",
         "showlegend": true,
         "type": "scatter",
         "x": [
          25370
         ],
         "xaxis": "x",
         "y": [
          122613.40000000596
         ],
         "yaxis": "y"
        },
        {
         "hovertemplate": "geo=Italy<br>time_period=2015<br>all_cars_diff=%{x}<br>emmission_diff=%{y}<extra></extra>",
         "legendgroup": "Italy, 2015",
         "marker": {
          "color": "#FFA15A",
          "symbol": "circle"
         },
         "mode": "markers",
         "name": "Italy, 2015",
         "orientation": "v",
         "showlegend": true,
         "type": "scatter",
         "x": [
          270480
         ],
         "xaxis": "x",
         "y": [
          11726327.399999976
         ],
         "yaxis": "y"
        },
        {
         "hovertemplate": "geo=Italy<br>time_period=2016<br>all_cars_diff=%{x}<br>emmission_diff=%{y}<extra></extra>",
         "legendgroup": "Italy, 2016",
         "marker": {
          "color": "#FFA15A",
          "symbol": "diamond"
         },
         "mode": "markers",
         "name": "Italy, 2016",
         "orientation": "v",
         "showlegend": true,
         "type": "scatter",
         "x": [
          524905
         ],
         "xaxis": "x",
         "y": [
          -896138
         ],
         "yaxis": "y"
        },
        {
         "hovertemplate": "geo=Italy<br>time_period=2017<br>all_cars_diff=%{x}<br>emmission_diff=%{y}<extra></extra>",
         "legendgroup": "Italy, 2017",
         "marker": {
          "color": "#FFA15A",
          "symbol": "square"
         },
         "mode": "markers",
         "name": "Italy, 2017",
         "orientation": "v",
         "showlegend": true,
         "type": "scatter",
         "x": [
          644183
         ],
         "xaxis": "x",
         "y": [
          17360569.800000012
         ],
         "yaxis": "y"
        },
        {
         "hovertemplate": "geo=Italy<br>time_period=2018<br>all_cars_diff=%{x}<br>emmission_diff=%{y}<extra></extra>",
         "legendgroup": "Italy, 2018",
         "marker": {
          "color": "#FFA15A",
          "symbol": "x"
         },
         "mode": "markers",
         "name": "Italy, 2018",
         "orientation": "v",
         "showlegend": true,
         "type": "scatter",
         "x": [
          497849
         ],
         "xaxis": "x",
         "y": [
          -30884536
         ],
         "yaxis": "y"
        },
        {
         "hovertemplate": "geo=Italy<br>time_period=2019<br>all_cars_diff=%{x}<br>emmission_diff=%{y}<extra></extra>",
         "legendgroup": "Italy, 2019",
         "marker": {
          "color": "#FFA15A",
          "symbol": "cross"
         },
         "mode": "markers",
         "name": "Italy, 2019",
         "orientation": "v",
         "showlegend": true,
         "type": "scatter",
         "x": [
          527062
         ],
         "xaxis": "x",
         "y": [
          -799233.6000000238
         ],
         "yaxis": "y"
        },
        {
         "hovertemplate": "geo=Italy<br>time_period=2020<br>all_cars_diff=%{x}<br>emmission_diff=%{y}<extra></extra>",
         "legendgroup": "Italy, 2020",
         "marker": {
          "color": "#FFA15A",
          "symbol": "circle"
         },
         "mode": "markers",
         "name": "Italy, 2020",
         "orientation": "v",
         "showlegend": true,
         "type": "scatter",
         "x": [
          172642
         ],
         "xaxis": "x",
         "y": [
          -36941113.79999995
         ],
         "yaxis": "y"
        },
        {
         "hovertemplate": "geo=Italy<br>time_period=2021<br>all_cars_diff=%{x}<br>emmission_diff=%{y}<extra></extra>",
         "legendgroup": "Italy, 2021",
         "marker": {
          "color": "#FFA15A",
          "symbol": "diamond"
         },
         "mode": "markers",
         "name": "Italy, 2021",
         "orientation": "v",
         "showlegend": true,
         "type": "scatter",
         "x": [
          104849
         ],
         "xaxis": "x",
         "y": [
          39033699.100000024
         ],
         "yaxis": "y"
        },
        {
         "hovertemplate": "geo=Italy<br>time_period=2022<br>all_cars_diff=%{x}<br>emmission_diff=%{y}<extra></extra>",
         "legendgroup": "Italy, 2022",
         "marker": {
          "color": "#FFA15A",
          "symbol": "square"
         },
         "mode": "markers",
         "name": "Italy, 2022",
         "orientation": "v",
         "showlegend": true,
         "type": "scatter",
         "x": [
          390338
         ],
         "xaxis": "x",
         "y": [
          -1380736
         ],
         "yaxis": "y"
        },
        {
         "hovertemplate": "geo=Latvia<br>time_period=2015<br>all_cars_diff=%{x}<br>emmission_diff=%{y}<extra></extra>",
         "legendgroup": "Latvia, 2015",
         "marker": {
          "color": "#19d3f3",
          "symbol": "circle"
         },
         "mode": "markers",
         "name": "Latvia, 2015",
         "orientation": "v",
         "showlegend": true,
         "type": "scatter",
         "x": [
          21249
         ],
         "xaxis": "x",
         "y": [
          -1290038.4000000022
         ],
         "yaxis": "y"
        },
        {
         "hovertemplate": "geo=Latvia<br>time_period=2016<br>all_cars_diff=%{x}<br>emmission_diff=%{y}<extra></extra>",
         "legendgroup": "Latvia, 2016",
         "marker": {
          "color": "#19d3f3",
          "symbol": "diamond"
         },
         "mode": "markers",
         "name": "Latvia, 2016",
         "orientation": "v",
         "showlegend": true,
         "type": "scatter",
         "x": [
          -14871
         ],
         "xaxis": "x",
         "y": [
          -1871467.4999999981
         ],
         "yaxis": "y"
        },
        {
         "hovertemplate": "geo=Latvia<br>time_period=2017<br>all_cars_diff=%{x}<br>emmission_diff=%{y}<extra></extra>",
         "legendgroup": "Latvia, 2017",
         "marker": {
          "color": "#19d3f3",
          "symbol": "square"
         },
         "mode": "markers",
         "name": "Latvia, 2017",
         "orientation": "v",
         "showlegend": true,
         "type": "scatter",
         "x": [
          25359
         ],
         "xaxis": "x",
         "y": [
          -1262390.500000001
         ],
         "yaxis": "y"
        },
        {
         "hovertemplate": "geo=Latvia<br>time_period=2018<br>all_cars_diff=%{x}<br>emmission_diff=%{y}<extra></extra>",
         "legendgroup": "Latvia, 2018",
         "marker": {
          "color": "#19d3f3",
          "symbol": "x"
         },
         "mode": "markers",
         "name": "Latvia, 2018",
         "orientation": "v",
         "showlegend": true,
         "type": "scatter",
         "x": [
          18305
         ],
         "xaxis": "x",
         "y": [
          3027337.3000000017
         ],
         "yaxis": "y"
        },
        {
         "hovertemplate": "geo=Latvia<br>time_period=2019<br>all_cars_diff=%{x}<br>emmission_diff=%{y}<extra></extra>",
         "legendgroup": "Latvia, 2019",
         "marker": {
          "color": "#19d3f3",
          "symbol": "cross"
         },
         "mode": "markers",
         "name": "Latvia, 2019",
         "orientation": "v",
         "showlegend": true,
         "type": "scatter",
         "x": [
          19323
         ],
         "xaxis": "x",
         "y": [
          -1620999.3000000026
         ],
         "yaxis": "y"
        },
        {
         "hovertemplate": "geo=Latvia<br>time_period=2020<br>all_cars_diff=%{x}<br>emmission_diff=%{y}<extra></extra>",
         "legendgroup": "Latvia, 2020",
         "marker": {
          "color": "#19d3f3",
          "symbol": "circle"
         },
         "mode": "markers",
         "name": "Latvia, 2020",
         "orientation": "v",
         "showlegend": true,
         "type": "scatter",
         "x": [
          11960
         ],
         "xaxis": "x",
         "y": [
          1654213.2000000011
         ],
         "yaxis": "y"
        },
        {
         "hovertemplate": "geo=Latvia<br>time_period=2021<br>all_cars_diff=%{x}<br>emmission_diff=%{y}<extra></extra>",
         "legendgroup": "Latvia, 2021",
         "marker": {
          "color": "#19d3f3",
          "symbol": "diamond"
         },
         "mode": "markers",
         "name": "Latvia, 2021",
         "orientation": "v",
         "showlegend": true,
         "type": "scatter",
         "x": [
          19564
         ],
         "xaxis": "x",
         "y": [
          1806511
         ],
         "yaxis": "y"
        },
        {
         "hovertemplate": "geo=Latvia<br>time_period=2022<br>all_cars_diff=%{x}<br>emmission_diff=%{y}<extra></extra>",
         "legendgroup": "Latvia, 2022",
         "marker": {
          "color": "#19d3f3",
          "symbol": "square"
         },
         "mode": "markers",
         "name": "Latvia, 2022",
         "orientation": "v",
         "showlegend": true,
         "type": "scatter",
         "x": [
          11035
         ],
         "xaxis": "x",
         "y": [
          2316222.1000000015
         ],
         "yaxis": "y"
        },
        {
         "hovertemplate": "geo=Lithuania<br>time_period=2015<br>all_cars_diff=%{x}<br>emmission_diff=%{y}<extra></extra>",
         "legendgroup": "Lithuania, 2015",
         "marker": {
          "color": "#FF6692",
          "symbol": "circle"
         },
         "mode": "markers",
         "name": "Lithuania, 2015",
         "orientation": "v",
         "showlegend": true,
         "type": "scatter",
         "x": [
          38395
         ],
         "xaxis": "x",
         "y": [
          1382693.5999999996
         ],
         "yaxis": "y"
        },
        {
         "hovertemplate": "geo=Lithuania<br>time_period=2016<br>all_cars_diff=%{x}<br>emmission_diff=%{y}<extra></extra>",
         "legendgroup": "Lithuania, 2016",
         "marker": {
          "color": "#FF6692",
          "symbol": "diamond"
         },
         "mode": "markers",
         "name": "Lithuania, 2016",
         "orientation": "v",
         "showlegend": true,
         "type": "scatter",
         "x": [
          54674
         ],
         "xaxis": "x",
         "y": [
          735066.5999999996
         ],
         "yaxis": "y"
        },
        {
         "hovertemplate": "geo=Lithuania<br>time_period=2017<br>all_cars_diff=%{x}<br>emmission_diff=%{y}<extra></extra>",
         "legendgroup": "Lithuania, 2017",
         "marker": {
          "color": "#FF6692",
          "symbol": "square"
         },
         "mode": "markers",
         "name": "Lithuania, 2017",
         "orientation": "v",
         "showlegend": true,
         "type": "scatter",
         "x": [
          58250
         ],
         "xaxis": "x",
         "y": [
          689841.5000000019
         ],
         "yaxis": "y"
        },
        {
         "hovertemplate": "geo=Lithuania<br>time_period=2018<br>all_cars_diff=%{x}<br>emmission_diff=%{y}<extra></extra>",
         "legendgroup": "Lithuania, 2018",
         "marker": {
          "color": "#FF6692",
          "symbol": "x"
         },
         "mode": "markers",
         "name": "Lithuania, 2018",
         "orientation": "v",
         "showlegend": true,
         "type": "scatter",
         "x": [
          73533
         ],
         "xaxis": "x",
         "y": [
          686762.6999999993
         ],
         "yaxis": "y"
        },
        {
         "hovertemplate": "geo=Lithuania<br>time_period=2019<br>all_cars_diff=%{x}<br>emmission_diff=%{y}<extra></extra>",
         "legendgroup": "Lithuania, 2019",
         "marker": {
          "color": "#FF6692",
          "symbol": "cross"
         },
         "mode": "markers",
         "name": "Lithuania, 2019",
         "orientation": "v",
         "showlegend": true,
         "type": "scatter",
         "x": [
          68168
         ],
         "xaxis": "x",
         "y": [
          -72800
         ],
         "yaxis": "y"
        },
        {
         "hovertemplate": "geo=Lithuania<br>time_period=2020<br>all_cars_diff=%{x}<br>emmission_diff=%{y}<extra></extra>",
         "legendgroup": "Lithuania, 2020",
         "marker": {
          "color": "#FF6692",
          "symbol": "circle"
         },
         "mode": "markers",
         "name": "Lithuania, 2020",
         "orientation": "v",
         "showlegend": true,
         "type": "scatter",
         "x": [
          66777
         ],
         "xaxis": "x",
         "y": [
          -573555
         ],
         "yaxis": "y"
        },
        {
         "hovertemplate": "geo=Lithuania<br>time_period=2021<br>all_cars_diff=%{x}<br>emmission_diff=%{y}<extra></extra>",
         "legendgroup": "Lithuania, 2021",
         "marker": {
          "color": "#FF6692",
          "symbol": "diamond"
         },
         "mode": "markers",
         "name": "Lithuania, 2021",
         "orientation": "v",
         "showlegend": true,
         "type": "scatter",
         "x": [
          45678
         ],
         "xaxis": "x",
         "y": [
          847148.2999999989
         ],
         "yaxis": "y"
        },
        {
         "hovertemplate": "geo=Lithuania<br>time_period=2022<br>all_cars_diff=%{x}<br>emmission_diff=%{y}<extra></extra>",
         "legendgroup": "Lithuania, 2022",
         "marker": {
          "color": "#FF6692",
          "symbol": "square"
         },
         "mode": "markers",
         "name": "Lithuania, 2022",
         "orientation": "v",
         "showlegend": true,
         "type": "scatter",
         "x": [
          39241
         ],
         "xaxis": "x",
         "y": [
          -1989442.5
         ],
         "yaxis": "y"
        },
        {
         "hovertemplate": "geo=Luxembourg<br>time_period=2015<br>all_cars_diff=%{x}<br>emmission_diff=%{y}<extra></extra>",
         "legendgroup": "Luxembourg, 2015",
         "marker": {
          "color": "#B6E880",
          "symbol": "circle"
         },
         "mode": "markers",
         "name": "Luxembourg, 2015",
         "orientation": "v",
         "showlegend": true,
         "type": "scatter",
         "x": [
          8276
         ],
         "xaxis": "x",
         "y": [
          -230479.80000000075
         ],
         "yaxis": "y"
        },
        {
         "hovertemplate": "geo=Luxembourg<br>time_period=2016<br>all_cars_diff=%{x}<br>emmission_diff=%{y}<extra></extra>",
         "legendgroup": "Luxembourg, 2016",
         "marker": {
          "color": "#B6E880",
          "symbol": "diamond"
         },
         "mode": "markers",
         "name": "Luxembourg, 2016",
         "orientation": "v",
         "showlegend": true,
         "type": "scatter",
         "x": [
          9832
         ],
         "xaxis": "x",
         "y": [
          -196508.29999999888
         ],
         "yaxis": "y"
        },
        {
         "hovertemplate": "geo=Luxembourg<br>time_period=2017<br>all_cars_diff=%{x}<br>emmission_diff=%{y}<extra></extra>",
         "legendgroup": "Luxembourg, 2017",
         "marker": {
          "color": "#B6E880",
          "symbol": "square"
         },
         "mode": "markers",
         "name": "Luxembourg, 2017",
         "orientation": "v",
         "showlegend": true,
         "type": "scatter",
         "x": [
          12347
         ],
         "xaxis": "x",
         "y": [
          511650.5999999996
         ],
         "yaxis": "y"
        },
        {
         "hovertemplate": "geo=Luxembourg<br>time_period=2018<br>all_cars_diff=%{x}<br>emmission_diff=%{y}<extra></extra>",
         "legendgroup": "Luxembourg, 2018",
         "marker": {
          "color": "#B6E880",
          "symbol": "x"
         },
         "mode": "markers",
         "name": "Luxembourg, 2018",
         "orientation": "v",
         "showlegend": true,
         "type": "scatter",
         "x": [
          11863
         ],
         "xaxis": "x",
         "y": [
          522093.5
         ],
         "yaxis": "y"
        },
        {
         "hovertemplate": "geo=Luxembourg<br>time_period=2019<br>all_cars_diff=%{x}<br>emmission_diff=%{y}<extra></extra>",
         "legendgroup": "Luxembourg, 2019",
         "marker": {
          "color": "#B6E880",
          "symbol": "cross"
         },
         "mode": "markers",
         "name": "Luxembourg, 2019",
         "orientation": "v",
         "showlegend": true,
         "type": "scatter",
         "x": [
          11201
         ],
         "xaxis": "x",
         "y": [
          -7777.5999999996275
         ],
         "yaxis": "y"
        },
        {
         "hovertemplate": "geo=Luxembourg<br>time_period=2020<br>all_cars_diff=%{x}<br>emmission_diff=%{y}<extra></extra>",
         "legendgroup": "Luxembourg, 2020",
         "marker": {
          "color": "#B6E880",
          "symbol": "circle"
         },
         "mode": "markers",
         "name": "Luxembourg, 2020",
         "orientation": "v",
         "showlegend": true,
         "type": "scatter",
         "x": [
          6837
         ],
         "xaxis": "x",
         "y": [
          -1889372.8000000007
         ],
         "yaxis": "y"
        },
        {
         "hovertemplate": "geo=Luxembourg<br>time_period=2021<br>all_cars_diff=%{x}<br>emmission_diff=%{y}<extra></extra>",
         "legendgroup": "Luxembourg, 2021",
         "marker": {
          "color": "#B6E880",
          "symbol": "diamond"
         },
         "mode": "markers",
         "name": "Luxembourg, 2021",
         "orientation": "v",
         "showlegend": true,
         "type": "scatter",
         "x": [
          6736
         ],
         "xaxis": "x",
         "y": [
          457041.4000000004
         ],
         "yaxis": "y"
        },
        {
         "hovertemplate": "geo=Luxembourg<br>time_period=2022<br>all_cars_diff=%{x}<br>emmission_diff=%{y}<extra></extra>",
         "legendgroup": "Luxembourg, 2022",
         "marker": {
          "color": "#B6E880",
          "symbol": "square"
         },
         "mode": "markers",
         "name": "Luxembourg, 2022",
         "orientation": "v",
         "showlegend": true,
         "type": "scatter",
         "x": [
          4899
         ],
         "xaxis": "x",
         "y": [
          -1241734.5
         ],
         "yaxis": "y"
        },
        {
         "hovertemplate": "geo=Malta<br>time_period=2015<br>all_cars_diff=%{x}<br>emmission_diff=%{y}<extra></extra>",
         "legendgroup": "Malta, 2015",
         "marker": {
          "color": "#FF97FF",
          "symbol": "circle"
         },
         "mode": "markers",
         "name": "Malta, 2015",
         "orientation": "v",
         "showlegend": true,
         "type": "scatter",
         "x": [
          9430
         ],
         "xaxis": "x",
         "y": [
          -667165.9000000004
         ],
         "yaxis": "y"
        },
        {
         "hovertemplate": "geo=Malta<br>time_period=2016<br>all_cars_diff=%{x}<br>emmission_diff=%{y}<extra></extra>",
         "legendgroup": "Malta, 2016",
         "marker": {
          "color": "#FF97FF",
          "symbol": "diamond"
         },
         "mode": "markers",
         "name": "Malta, 2016",
         "orientation": "v",
         "showlegend": true,
         "type": "scatter",
         "x": [
          7541
         ],
         "xaxis": "x",
         "y": [
          -297977
         ],
         "yaxis": "y"
        },
        {
         "hovertemplate": "geo=Malta<br>time_period=2017<br>all_cars_diff=%{x}<br>emmission_diff=%{y}<extra></extra>",
         "legendgroup": "Malta, 2017",
         "marker": {
          "color": "#FF97FF",
          "symbol": "square"
         },
         "mode": "markers",
         "name": "Malta, 2017",
         "orientation": "v",
         "showlegend": true,
         "type": "scatter",
         "x": [
          8877
         ],
         "xaxis": "x",
         "y": [
          185538.5
         ],
         "yaxis": "y"
        },
        {
         "hovertemplate": "geo=Malta<br>time_period=2018<br>all_cars_diff=%{x}<br>emmission_diff=%{y}<extra></extra>",
         "legendgroup": "Malta, 2018",
         "marker": {
          "color": "#FF97FF",
          "symbol": "x"
         },
         "mode": "markers",
         "name": "Malta, 2018",
         "orientation": "v",
         "showlegend": true,
         "type": "scatter",
         "x": [
          8342
         ],
         "xaxis": "x",
         "y": [
          80402.3999999999
         ],
         "yaxis": "y"
        },
        {
         "hovertemplate": "geo=Malta<br>time_period=2019<br>all_cars_diff=%{x}<br>emmission_diff=%{y}<extra></extra>",
         "legendgroup": "Malta, 2019",
         "marker": {
          "color": "#FF97FF",
          "symbol": "cross"
         },
         "mode": "markers",
         "name": "Malta, 2019",
         "orientation": "v",
         "showlegend": true,
         "type": "scatter",
         "x": [
          6990
         ],
         "xaxis": "x",
         "y": [
          94281.20000000019
         ],
         "yaxis": "y"
        },
        {
         "hovertemplate": "geo=Malta<br>time_period=2020<br>all_cars_diff=%{x}<br>emmission_diff=%{y}<extra></extra>",
         "legendgroup": "Malta, 2020",
         "marker": {
          "color": "#FF97FF",
          "symbol": "circle"
         },
         "mode": "markers",
         "name": "Malta, 2020",
         "orientation": "v",
         "showlegend": true,
         "type": "scatter",
         "x": [
          1228
         ],
         "xaxis": "x",
         "y": [
          -298071.6000000001
         ],
         "yaxis": "y"
        },
        {
         "hovertemplate": "geo=Malta<br>time_period=2021<br>all_cars_diff=%{x}<br>emmission_diff=%{y}<extra></extra>",
         "legendgroup": "Malta, 2021",
         "marker": {
          "color": "#FF97FF",
          "symbol": "diamond"
         },
         "mode": "markers",
         "name": "Malta, 2021",
         "orientation": "v",
         "showlegend": true,
         "type": "scatter",
         "x": [
          4819
         ],
         "xaxis": "x",
         "y": [
          57200.5
         ],
         "yaxis": "y"
        },
        {
         "hovertemplate": "geo=Malta<br>time_period=2022<br>all_cars_diff=%{x}<br>emmission_diff=%{y}<extra></extra>",
         "legendgroup": "Malta, 2022",
         "marker": {
          "color": "#FF97FF",
          "symbol": "square"
         },
         "mode": "markers",
         "name": "Malta, 2022",
         "orientation": "v",
         "showlegend": true,
         "type": "scatter",
         "x": [
          4057
         ],
         "xaxis": "x",
         "y": [
          278307.5
         ],
         "yaxis": "y"
        },
        {
         "hovertemplate": "geo=Netherlands<br>time_period=2015<br>all_cars_diff=%{x}<br>emmission_diff=%{y}<extra></extra>",
         "legendgroup": "Netherlands, 2015",
         "marker": {
          "color": "#FECB52",
          "symbol": "circle"
         },
         "mode": "markers",
         "name": "Netherlands, 2015",
         "orientation": "v",
         "showlegend": true,
         "type": "scatter",
         "x": [
          121781
         ],
         "xaxis": "x",
         "y": [
          7624678.099999994
         ],
         "yaxis": "y"
        },
        {
         "hovertemplate": "geo=Netherlands<br>time_period=2016<br>all_cars_diff=%{x}<br>emmission_diff=%{y}<extra></extra>",
         "legendgroup": "Netherlands, 2016",
         "marker": {
          "color": "#FECB52",
          "symbol": "diamond"
         },
         "mode": "markers",
         "name": "Netherlands, 2016",
         "orientation": "v",
         "showlegend": true,
         "type": "scatter",
         "x": [
          122110
         ],
         "xaxis": "x",
         "y": [
          979925
         ],
         "yaxis": "y"
        },
        {
         "hovertemplate": "geo=Netherlands<br>time_period=2017<br>all_cars_diff=%{x}<br>emmission_diff=%{y}<extra></extra>",
         "legendgroup": "Netherlands, 2017",
         "marker": {
          "color": "#FECB52",
          "symbol": "square"
         },
         "mode": "markers",
         "name": "Netherlands, 2017",
         "orientation": "v",
         "showlegend": true,
         "type": "scatter",
         "x": [
          150270
         ],
         "xaxis": "x",
         "y": [
          -3844614.600000024
         ],
         "yaxis": "y"
        },
        {
         "hovertemplate": "geo=Netherlands<br>time_period=2018<br>all_cars_diff=%{x}<br>emmission_diff=%{y}<extra></extra>",
         "legendgroup": "Netherlands, 2018",
         "marker": {
          "color": "#FECB52",
          "symbol": "x"
         },
         "mode": "markers",
         "name": "Netherlands, 2018",
         "orientation": "v",
         "showlegend": true,
         "type": "scatter",
         "x": [
          69738
         ],
         "xaxis": "x",
         "y": [
          -5657594.199999958
         ],
         "yaxis": "y"
        },
        {
         "hovertemplate": "geo=Netherlands<br>time_period=2019<br>all_cars_diff=%{x}<br>emmission_diff=%{y}<extra></extra>",
         "legendgroup": "Netherlands, 2019",
         "marker": {
          "color": "#FECB52",
          "symbol": "cross"
         },
         "mode": "markers",
         "name": "Netherlands, 2019",
         "orientation": "v",
         "showlegend": true,
         "type": "scatter",
         "x": [
          141409
         ],
         "xaxis": "x",
         "y": [
          -5720133
         ],
         "yaxis": "y"
        },
        {
         "hovertemplate": "geo=Netherlands<br>time_period=2020<br>all_cars_diff=%{x}<br>emmission_diff=%{y}<extra></extra>",
         "legendgroup": "Netherlands, 2020",
         "marker": {
          "color": "#FECB52",
          "symbol": "circle"
         },
         "mode": "markers",
         "name": "Netherlands, 2020",
         "orientation": "v",
         "showlegend": true,
         "type": "scatter",
         "x": [
          102028
         ],
         "xaxis": "x",
         "y": [
          -21200049.700000018
         ],
         "yaxis": "y"
        },
        {
         "hovertemplate": "geo=Netherlands<br>time_period=2021<br>all_cars_diff=%{x}<br>emmission_diff=%{y}<extra></extra>",
         "legendgroup": "Netherlands, 2021",
         "marker": {
          "color": "#FECB52",
          "symbol": "diamond"
         },
         "mode": "markers",
         "name": "Netherlands, 2021",
         "orientation": "v",
         "showlegend": true,
         "type": "scatter",
         "x": [
          141290
         ],
         "xaxis": "x",
         "y": [
          2432624.5
         ],
         "yaxis": "y"
        },
        {
         "hovertemplate": "geo=Netherlands<br>time_period=2022<br>all_cars_diff=%{x}<br>emmission_diff=%{y}<extra></extra>",
         "legendgroup": "Netherlands, 2022",
         "marker": {
          "color": "#FECB52",
          "symbol": "square"
         },
         "mode": "markers",
         "name": "Netherlands, 2022",
         "orientation": "v",
         "showlegend": true,
         "type": "scatter",
         "x": [
          89398
         ],
         "xaxis": "x",
         "y": [
          -11137849
         ],
         "yaxis": "y"
        },
        {
         "hovertemplate": "geo=Poland<br>time_period=2015<br>all_cars_diff=%{x}<br>emmission_diff=%{y}<extra></extra>",
         "legendgroup": "Poland, 2015",
         "marker": {
          "color": "#636efa",
          "symbol": "circle"
         },
         "mode": "markers",
         "name": "Poland, 2015",
         "orientation": "v",
         "showlegend": true,
         "type": "scatter",
         "x": [
          -1992088
         ],
         "xaxis": "x",
         "y": [
          3689159.199999988
         ],
         "yaxis": "y"
        },
        {
         "hovertemplate": "geo=Poland<br>time_period=2016<br>all_cars_diff=%{x}<br>emmission_diff=%{y}<extra></extra>",
         "legendgroup": "Poland, 2016",
         "marker": {
          "color": "#636efa",
          "symbol": "diamond"
         },
         "mode": "markers",
         "name": "Poland, 2016",
         "orientation": "v",
         "showlegend": true,
         "type": "scatter",
         "x": [
          706633
         ],
         "xaxis": "x",
         "y": [
          7240115.8000000715
         ],
         "yaxis": "y"
        },
        {
         "hovertemplate": "geo=Poland<br>time_period=2017<br>all_cars_diff=%{x}<br>emmission_diff=%{y}<extra></extra>",
         "legendgroup": "Poland, 2017",
         "marker": {
          "color": "#636efa",
          "symbol": "square"
         },
         "mode": "markers",
         "name": "Poland, 2017",
         "orientation": "v",
         "showlegend": true,
         "type": "scatter",
         "x": [
          547709
         ],
         "xaxis": "x",
         "y": [
          11445986.199999928
         ],
         "yaxis": "y"
        },
        {
         "hovertemplate": "geo=Poland<br>time_period=2018<br>all_cars_diff=%{x}<br>emmission_diff=%{y}<extra></extra>",
         "legendgroup": "Poland, 2018",
         "marker": {
          "color": "#636efa",
          "symbol": "x"
         },
         "mode": "markers",
         "name": "Poland, 2018",
         "orientation": "v",
         "showlegend": true,
         "type": "scatter",
         "x": [
          644990
         ],
         "xaxis": "x",
         "y": [
          3833781.8000000715
         ],
         "yaxis": "y"
        },
        {
         "hovertemplate": "geo=Poland<br>time_period=2019<br>all_cars_diff=%{x}<br>emmission_diff=%{y}<extra></extra>",
         "legendgroup": "Poland, 2019",
         "marker": {
          "color": "#636efa",
          "symbol": "cross"
         },
         "mode": "markers",
         "name": "Poland, 2019",
         "orientation": "v",
         "showlegend": true,
         "type": "scatter",
         "x": [
          633237
         ],
         "xaxis": "x",
         "y": [
          -3835256.2000000477
         ],
         "yaxis": "y"
        },
        {
         "hovertemplate": "geo=Poland<br>time_period=2020<br>all_cars_diff=%{x}<br>emmission_diff=%{y}<extra></extra>",
         "legendgroup": "Poland, 2020",
         "marker": {
          "color": "#636efa",
          "symbol": "circle"
         },
         "mode": "markers",
         "name": "Poland, 2020",
         "orientation": "v",
         "showlegend": true,
         "type": "scatter",
         "x": [
          441521
         ],
         "xaxis": "x",
         "y": [
          -19121406.800000012
         ],
         "yaxis": "y"
        },
        {
         "hovertemplate": "geo=Poland<br>time_period=2021<br>all_cars_diff=%{x}<br>emmission_diff=%{y}<extra></extra>",
         "legendgroup": "Poland, 2021",
         "marker": {
          "color": "#636efa",
          "symbol": "diamond"
         },
         "mode": "markers",
         "name": "Poland, 2021",
         "orientation": "v",
         "showlegend": true,
         "type": "scatter",
         "x": [
          370142
         ],
         "xaxis": "x",
         "y": [
          28933371.800000012
         ],
         "yaxis": "y"
        },
        {
         "hovertemplate": "geo=Poland<br>time_period=2022<br>all_cars_diff=%{x}<br>emmission_diff=%{y}<extra></extra>",
         "legendgroup": "Poland, 2022",
         "marker": {
          "color": "#636efa",
          "symbol": "square"
         },
         "mode": "markers",
         "name": "Poland, 2022",
         "orientation": "v",
         "showlegend": true,
         "type": "scatter",
         "x": [
          102094
         ],
         "xaxis": "x",
         "y": [
          -31384487.99999994
         ],
         "yaxis": "y"
        },
        {
         "hovertemplate": "geo=Portugal<br>time_period=2015<br>all_cars_diff=%{x}<br>emmission_diff=%{y}<extra></extra>",
         "legendgroup": "Portugal, 2015",
         "marker": {
          "color": "#EF553B",
          "symbol": "circle"
         },
         "mode": "markers",
         "name": "Portugal, 2015",
         "orientation": "v",
         "showlegend": true,
         "type": "scatter",
         "x": [
          23318
         ],
         "xaxis": "x",
         "y": [
          5948143.6999999955
         ],
         "yaxis": "y"
        },
        {
         "hovertemplate": "geo=Portugal<br>time_period=2016<br>all_cars_diff=%{x}<br>emmission_diff=%{y}<extra></extra>",
         "legendgroup": "Portugal, 2016",
         "marker": {
          "color": "#EF553B",
          "symbol": "diamond"
         },
         "mode": "markers",
         "name": "Portugal, 2016",
         "orientation": "v",
         "showlegend": true,
         "type": "scatter",
         "x": [
          127266
         ],
         "xaxis": "x",
         "y": [
          2937880.700000003
         ],
         "yaxis": "y"
        },
        {
         "hovertemplate": "geo=Portugal<br>time_period=2017<br>all_cars_diff=%{x}<br>emmission_diff=%{y}<extra></extra>",
         "legendgroup": "Portugal, 2017",
         "marker": {
          "color": "#EF553B",
          "symbol": "square"
         },
         "mode": "markers",
         "name": "Portugal, 2017",
         "orientation": "v",
         "showlegend": true,
         "type": "scatter",
         "x": [
          209243
         ],
         "xaxis": "x",
         "y": [
          25697478.200000003
         ],
         "yaxis": "y"
        },
        {
         "hovertemplate": "geo=Portugal<br>time_period=2018<br>all_cars_diff=%{x}<br>emmission_diff=%{y}<extra></extra>",
         "legendgroup": "Portugal, 2018",
         "marker": {
          "color": "#EF553B",
          "symbol": "x"
         },
         "mode": "markers",
         "name": "Portugal, 2018",
         "orientation": "v",
         "showlegend": true,
         "type": "scatter",
         "x": [
          223498
         ],
         "xaxis": "x",
         "y": [
          -27987563.400000006
         ],
         "yaxis": "y"
        },
        {
         "hovertemplate": "geo=Portugal<br>time_period=2019<br>all_cars_diff=%{x}<br>emmission_diff=%{y}<extra></extra>",
         "legendgroup": "Portugal, 2019",
         "marker": {
          "color": "#EF553B",
          "symbol": "cross"
         },
         "mode": "markers",
         "name": "Portugal, 2019",
         "orientation": "v",
         "showlegend": true,
         "type": "scatter",
         "x": [
          169149
         ],
         "xaxis": "x",
         "y": [
          -4148406.799999997
         ],
         "yaxis": "y"
        },
        {
         "hovertemplate": "geo=Portugal<br>time_period=2020<br>all_cars_diff=%{x}<br>emmission_diff=%{y}<extra></extra>",
         "legendgroup": "Portugal, 2020",
         "marker": {
          "color": "#EF553B",
          "symbol": "circle"
         },
         "mode": "markers",
         "name": "Portugal, 2020",
         "orientation": "v",
         "showlegend": true,
         "type": "scatter",
         "x": [
          113844
         ],
         "xaxis": "x",
         "y": [
          -9078081.700000003
         ],
         "yaxis": "y"
        },
        {
         "hovertemplate": "geo=Portugal<br>time_period=2021<br>all_cars_diff=%{x}<br>emmission_diff=%{y}<extra></extra>",
         "legendgroup": "Portugal, 2021",
         "marker": {
          "color": "#EF553B",
          "symbol": "diamond"
         },
         "mode": "markers",
         "name": "Portugal, 2021",
         "orientation": "v",
         "showlegend": true,
         "type": "scatter",
         "x": [
          66681
         ],
         "xaxis": "x",
         "y": [
          -3018108.5
         ],
         "yaxis": "y"
        },
        {
         "hovertemplate": "geo=Portugal<br>time_period=2022<br>all_cars_diff=%{x}<br>emmission_diff=%{y}<extra></extra>",
         "legendgroup": "Portugal, 2022",
         "marker": {
          "color": "#EF553B",
          "symbol": "square"
         },
         "mode": "markers",
         "name": "Portugal, 2022",
         "orientation": "v",
         "showlegend": true,
         "type": "scatter",
         "x": [
          145940
         ],
         "xaxis": "x",
         "y": [
          2218323.3999999985
         ],
         "yaxis": "y"
        },
        {
         "hovertemplate": "geo=Romania<br>time_period=2015<br>all_cars_diff=%{x}<br>emmission_diff=%{y}<extra></extra>",
         "legendgroup": "Romania, 2015",
         "marker": {
          "color": "#00cc96",
          "symbol": "circle"
         },
         "mode": "markers",
         "name": "Romania, 2015",
         "orientation": "v",
         "showlegend": true,
         "type": "scatter",
         "x": [
          247495
         ],
         "xaxis": "x",
         "y": [
          -268324
         ],
         "yaxis": "y"
        },
        {
         "hovertemplate": "geo=Romania<br>time_period=2016<br>all_cars_diff=%{x}<br>emmission_diff=%{y}<extra></extra>",
         "legendgroup": "Romania, 2016",
         "marker": {
          "color": "#00cc96",
          "symbol": "diamond"
         },
         "mode": "markers",
         "name": "Romania, 2016",
         "orientation": "v",
         "showlegend": true,
         "type": "scatter",
         "x": [
          317364
         ],
         "xaxis": "x",
         "y": [
          -4337334
         ],
         "yaxis": "y"
        },
        {
         "hovertemplate": "geo=Romania<br>time_period=2017<br>all_cars_diff=%{x}<br>emmission_diff=%{y}<extra></extra>",
         "legendgroup": "Romania, 2017",
         "marker": {
          "color": "#00cc96",
          "symbol": "square"
         },
         "mode": "markers",
         "name": "Romania, 2017",
         "orientation": "v",
         "showlegend": true,
         "type": "scatter",
         "x": [
          525771
         ],
         "xaxis": "x",
         "y": [
          5508285.900000006
         ],
         "yaxis": "y"
        },
        {
         "hovertemplate": "geo=Romania<br>time_period=2018<br>all_cars_diff=%{x}<br>emmission_diff=%{y}<extra></extra>",
         "legendgroup": "Romania, 2018",
         "marker": {
          "color": "#00cc96",
          "symbol": "x"
         },
         "mode": "markers",
         "name": "Romania, 2018",
         "orientation": "v",
         "showlegend": true,
         "type": "scatter",
         "x": [
          454342
         ],
         "xaxis": "x",
         "y": [
          1555663.299999997
         ],
         "yaxis": "y"
        },
        {
         "hovertemplate": "geo=Romania<br>time_period=2019<br>all_cars_diff=%{x}<br>emmission_diff=%{y}<extra></extra>",
         "legendgroup": "Romania, 2019",
         "marker": {
          "color": "#00cc96",
          "symbol": "cross"
         },
         "mode": "markers",
         "name": "Romania, 2019",
         "orientation": "v",
         "showlegend": true,
         "type": "scatter",
         "x": [
          450448
         ],
         "xaxis": "x",
         "y": [
          -2381830.900000006
         ],
         "yaxis": "y"
        },
        {
         "hovertemplate": "geo=Romania<br>time_period=2020<br>all_cars_diff=%{x}<br>emmission_diff=%{y}<extra></extra>",
         "legendgroup": "Romania, 2020",
         "marker": {
          "color": "#00cc96",
          "symbol": "circle"
         },
         "mode": "markers",
         "name": "Romania, 2020",
         "orientation": "v",
         "showlegend": true,
         "type": "scatter",
         "x": [
          371744
         ],
         "xaxis": "x",
         "y": [
          -8039767.1999999955
         ],
         "yaxis": "y"
        },
        {
         "hovertemplate": "geo=Romania<br>time_period=2021<br>all_cars_diff=%{x}<br>emmission_diff=%{y}<extra></extra>",
         "legendgroup": "Romania, 2021",
         "marker": {
          "color": "#00cc96",
          "symbol": "diamond"
         },
         "mode": "markers",
         "name": "Romania, 2021",
         "orientation": "v",
         "showlegend": true,
         "type": "scatter",
         "x": [
          336311
         ],
         "xaxis": "x",
         "y": [
          5353535.3999999985
         ],
         "yaxis": "y"
        },
        {
         "hovertemplate": "geo=Romania<br>time_period=2022<br>all_cars_diff=%{x}<br>emmission_diff=%{y}<extra></extra>",
         "legendgroup": "Romania, 2022",
         "marker": {
          "color": "#00cc96",
          "symbol": "square"
         },
         "mode": "markers",
         "name": "Romania, 2022",
         "orientation": "v",
         "showlegend": true,
         "type": "scatter",
         "x": [
          254147
         ],
         "xaxis": "x",
         "y": [
          -4365715.5
         ],
         "yaxis": "y"
        },
        {
         "hovertemplate": "geo=Slovakia<br>time_period=2015<br>all_cars_diff=%{x}<br>emmission_diff=%{y}<extra></extra>",
         "legendgroup": "Slovakia, 2015",
         "marker": {
          "color": "#ab63fa",
          "symbol": "circle"
         },
         "mode": "markers",
         "name": "Slovakia, 2015",
         "orientation": "v",
         "showlegend": true,
         "type": "scatter",
         "x": [
          85474
         ],
         "xaxis": "x",
         "y": [
          577234.8999999985
         ],
         "yaxis": "y"
        },
        {
         "hovertemplate": "geo=Slovakia<br>time_period=2016<br>all_cars_diff=%{x}<br>emmission_diff=%{y}<extra></extra>",
         "legendgroup": "Slovakia, 2016",
         "marker": {
          "color": "#ab63fa",
          "symbol": "diamond"
         },
         "mode": "markers",
         "name": "Slovakia, 2016",
         "orientation": "v",
         "showlegend": true,
         "type": "scatter",
         "x": [
          87200
         ],
         "xaxis": "x",
         "y": [
          574985
         ],
         "yaxis": "y"
        },
        {
         "hovertemplate": "geo=Slovakia<br>time_period=2017<br>all_cars_diff=%{x}<br>emmission_diff=%{y}<extra></extra>",
         "legendgroup": "Slovakia, 2017",
         "marker": {
          "color": "#ab63fa",
          "symbol": "square"
         },
         "mode": "markers",
         "name": "Slovakia, 2017",
         "orientation": "v",
         "showlegend": true,
         "type": "scatter",
         "x": [
          101343
         ],
         "xaxis": "x",
         "y": [
          1147978.3000000045
         ],
         "yaxis": "y"
        },
        {
         "hovertemplate": "geo=Slovakia<br>time_period=2018<br>all_cars_diff=%{x}<br>emmission_diff=%{y}<extra></extra>",
         "legendgroup": "Slovakia, 2018",
         "marker": {
          "color": "#ab63fa",
          "symbol": "x"
         },
         "mode": "markers",
         "name": "Slovakia, 2018",
         "orientation": "v",
         "showlegend": true,
         "type": "scatter",
         "x": [
          98491
         ],
         "xaxis": "x",
         "y": [
          597973.299999997
         ],
         "yaxis": "y"
        },
        {
         "hovertemplate": "geo=Slovakia<br>time_period=2019<br>all_cars_diff=%{x}<br>emmission_diff=%{y}<extra></extra>",
         "legendgroup": "Slovakia, 2019",
         "marker": {
          "color": "#ab63fa",
          "symbol": "cross"
         },
         "mode": "markers",
         "name": "Slovakia, 2019",
         "orientation": "v",
         "showlegend": true,
         "type": "scatter",
         "x": [
          71969
         ],
         "xaxis": "x",
         "y": [
          -3219145.6000000015
         ],
         "yaxis": "y"
        },
        {
         "hovertemplate": "geo=Slovakia<br>time_period=2020<br>all_cars_diff=%{x}<br>emmission_diff=%{y}<extra></extra>",
         "legendgroup": "Slovakia, 2020",
         "marker": {
          "color": "#ab63fa",
          "symbol": "circle"
         },
         "mode": "markers",
         "name": "Slovakia, 2020",
         "orientation": "v",
         "showlegend": true,
         "type": "scatter",
         "x": [
          46409
         ],
         "xaxis": "x",
         "y": [
          -4864392.8999999985
         ],
         "yaxis": "y"
        },
        {
         "hovertemplate": "geo=Slovakia<br>time_period=2021<br>all_cars_diff=%{x}<br>emmission_diff=%{y}<extra></extra>",
         "legendgroup": "Slovakia, 2021",
         "marker": {
          "color": "#ab63fa",
          "symbol": "diamond"
         },
         "mode": "markers",
         "name": "Slovakia, 2021",
         "orientation": "v",
         "showlegend": true,
         "type": "scatter",
         "x": [
          53197
         ],
         "xaxis": "x",
         "y": [
          4378318.799999997
         ],
         "yaxis": "y"
        },
        {
         "hovertemplate": "geo=Slovakia<br>time_period=2022<br>all_cars_diff=%{x}<br>emmission_diff=%{y}<extra></extra>",
         "legendgroup": "Slovakia, 2022",
         "marker": {
          "color": "#ab63fa",
          "symbol": "square"
         },
         "mode": "markers",
         "name": "Slovakia, 2022",
         "orientation": "v",
         "showlegend": true,
         "type": "scatter",
         "x": [
          62308
         ],
         "xaxis": "x",
         "y": [
          -4505704.299999997
         ],
         "yaxis": "y"
        },
        {
         "hovertemplate": "geo=Slovenia<br>time_period=2015<br>all_cars_diff=%{x}<br>emmission_diff=%{y}<extra></extra>",
         "legendgroup": "Slovenia, 2015",
         "marker": {
          "color": "#FFA15A",
          "symbol": "circle"
         },
         "mode": "markers",
         "name": "Slovenia, 2015",
         "orientation": "v",
         "showlegend": true,
         "type": "scatter",
         "x": [
          10375
         ],
         "xaxis": "x",
         "y": [
          221315
         ],
         "yaxis": "y"
        },
        {
         "hovertemplate": "geo=Slovenia<br>time_period=2016<br>all_cars_diff=%{x}<br>emmission_diff=%{y}<extra></extra>",
         "legendgroup": "Slovenia, 2016",
         "marker": {
          "color": "#FFA15A",
          "symbol": "diamond"
         },
         "mode": "markers",
         "name": "Slovenia, 2016",
         "orientation": "v",
         "showlegend": true,
         "type": "scatter",
         "x": [
          17786
         ],
         "xaxis": "x",
         "y": [
          1043263
         ],
         "yaxis": "y"
        },
        {
         "hovertemplate": "geo=Slovenia<br>time_period=2017<br>all_cars_diff=%{x}<br>emmission_diff=%{y}<extra></extra>",
         "legendgroup": "Slovenia, 2017",
         "marker": {
          "color": "#FFA15A",
          "symbol": "square"
         },
         "mode": "markers",
         "name": "Slovenia, 2017",
         "orientation": "v",
         "showlegend": true,
         "type": "scatter",
         "x": [
          21412
         ],
         "xaxis": "x",
         "y": [
          15363
         ],
         "yaxis": "y"
        },
        {
         "hovertemplate": "geo=Slovenia<br>time_period=2018<br>all_cars_diff=%{x}<br>emmission_diff=%{y}<extra></extra>",
         "legendgroup": "Slovenia, 2018",
         "marker": {
          "color": "#FFA15A",
          "symbol": "x"
         },
         "mode": "markers",
         "name": "Slovenia, 2018",
         "orientation": "v",
         "showlegend": true,
         "type": "scatter",
         "x": [
          25215
         ],
         "xaxis": "x",
         "y": [
          -197823
         ],
         "yaxis": "y"
        },
        {
         "hovertemplate": "geo=Slovenia<br>time_period=2019<br>all_cars_diff=%{x}<br>emmission_diff=%{y}<extra></extra>",
         "legendgroup": "Slovenia, 2019",
         "marker": {
          "color": "#FFA15A",
          "symbol": "cross"
         },
         "mode": "markers",
         "name": "Slovenia, 2019",
         "orientation": "v",
         "showlegend": true,
         "type": "scatter",
         "x": [
          22221
         ],
         "xaxis": "x",
         "y": [
          -1956058.7999999989
         ],
         "yaxis": "y"
        },
        {
         "hovertemplate": "geo=Slovenia<br>time_period=2020<br>all_cars_diff=%{x}<br>emmission_diff=%{y}<extra></extra>",
         "legendgroup": "Slovenia, 2020",
         "marker": {
          "color": "#FFA15A",
          "symbol": "circle"
         },
         "mode": "markers",
         "name": "Slovenia, 2020",
         "orientation": "v",
         "showlegend": true,
         "type": "scatter",
         "x": [
          5319
         ],
         "xaxis": "x",
         "y": [
          -929801.8000000007
         ],
         "yaxis": "y"
        },
        {
         "hovertemplate": "geo=Slovenia<br>time_period=2021<br>all_cars_diff=%{x}<br>emmission_diff=%{y}<extra></extra>",
         "legendgroup": "Slovenia, 2021",
         "marker": {
          "color": "#FFA15A",
          "symbol": "diamond"
         },
         "mode": "markers",
         "name": "Slovenia, 2021",
         "orientation": "v",
         "showlegend": true,
         "type": "scatter",
         "x": [
          18767
         ],
         "xaxis": "x",
         "y": [
          307956.0999999996
         ],
         "yaxis": "y"
        },
        {
         "hovertemplate": "geo=Slovenia<br>time_period=2022<br>all_cars_diff=%{x}<br>emmission_diff=%{y}<extra></extra>",
         "legendgroup": "Slovenia, 2022",
         "marker": {
          "color": "#FFA15A",
          "symbol": "square"
         },
         "mode": "markers",
         "name": "Slovenia, 2022",
         "orientation": "v",
         "showlegend": true,
         "type": "scatter",
         "x": [
          18298
         ],
         "xaxis": "x",
         "y": [
          -434913.5
         ],
         "yaxis": "y"
        },
        {
         "hovertemplate": "geo=Spain<br>time_period=2015<br>all_cars_diff=%{x}<br>emmission_diff=%{y}<extra></extra>",
         "legendgroup": "Spain, 2015",
         "marker": {
          "color": "#19d3f3",
          "symbol": "circle"
         },
         "mode": "markers",
         "name": "Spain, 2015",
         "orientation": "v",
         "showlegend": true,
         "type": "scatter",
         "x": [
          326037
         ],
         "xaxis": "x",
         "y": [
          8844005.800000012
         ],
         "yaxis": "y"
        },
        {
         "hovertemplate": "geo=Spain<br>time_period=2016<br>all_cars_diff=%{x}<br>emmission_diff=%{y}<extra></extra>",
         "legendgroup": "Spain, 2016",
         "marker": {
          "color": "#19d3f3",
          "symbol": "diamond"
         },
         "mode": "markers",
         "name": "Spain, 2016",
         "orientation": "v",
         "showlegend": true,
         "type": "scatter",
         "x": [
          1649385
         ],
         "xaxis": "x",
         "y": [
          -9328223.800000012
         ],
         "yaxis": "y"
        },
        {
         "hovertemplate": "geo=Spain<br>time_period=2017<br>all_cars_diff=%{x}<br>emmission_diff=%{y}<extra></extra>",
         "legendgroup": "Spain, 2017",
         "marker": {
          "color": "#19d3f3",
          "symbol": "square"
         },
         "mode": "markers",
         "name": "Spain, 2017",
         "orientation": "v",
         "showlegend": true,
         "type": "scatter",
         "x": [
          671623
         ],
         "xaxis": "x",
         "y": [
          9794085.300000012
         ],
         "yaxis": "y"
        },
        {
         "hovertemplate": "geo=Spain<br>time_period=2018<br>all_cars_diff=%{x}<br>emmission_diff=%{y}<extra></extra>",
         "legendgroup": "Spain, 2018",
         "marker": {
          "color": "#19d3f3",
          "symbol": "x"
         },
         "mode": "markers",
         "name": "Spain, 2018",
         "orientation": "v",
         "showlegend": true,
         "type": "scatter",
         "x": [
          627633
         ],
         "xaxis": "x",
         "y": [
          -3704606.5
         ],
         "yaxis": "y"
        },
        {
         "hovertemplate": "geo=Spain<br>time_period=2019<br>all_cars_diff=%{x}<br>emmission_diff=%{y}<extra></extra>",
         "legendgroup": "Spain, 2019",
         "marker": {
          "color": "#19d3f3",
          "symbol": "cross"
         },
         "mode": "markers",
         "name": "Spain, 2019",
         "orientation": "v",
         "showlegend": true,
         "type": "scatter",
         "x": [
          532396
         ],
         "xaxis": "x",
         "y": [
          -17014742
         ],
         "yaxis": "y"
        },
        {
         "hovertemplate": "geo=Spain<br>time_period=2020<br>all_cars_diff=%{x}<br>emmission_diff=%{y}<extra></extra>",
         "legendgroup": "Spain, 2020",
         "marker": {
          "color": "#19d3f3",
          "symbol": "circle"
         },
         "mode": "markers",
         "name": "Spain, 2020",
         "orientation": "v",
         "showlegend": true,
         "type": "scatter",
         "x": [
          197761
         ],
         "xaxis": "x",
         "y": [
          -49655260.99999997
         ],
         "yaxis": "y"
        },
        {
         "hovertemplate": "geo=Spain<br>time_period=2021<br>all_cars_diff=%{x}<br>emmission_diff=%{y}<extra></extra>",
         "legendgroup": "Spain, 2021",
         "marker": {
          "color": "#19d3f3",
          "symbol": "diamond"
         },
         "mode": "markers",
         "name": "Spain, 2021",
         "orientation": "v",
         "showlegend": true,
         "type": "scatter",
         "x": [
          259535
         ],
         "xaxis": "x",
         "y": [
          19365784.399999976
         ],
         "yaxis": "y"
        },
        {
         "hovertemplate": "geo=Spain<br>time_period=2022<br>all_cars_diff=%{x}<br>emmission_diff=%{y}<extra></extra>",
         "legendgroup": "Spain, 2022",
         "marker": {
          "color": "#19d3f3",
          "symbol": "square"
         },
         "mode": "markers",
         "name": "Spain, 2022",
         "orientation": "v",
         "showlegend": true,
         "type": "scatter",
         "x": [
          311596
         ],
         "xaxis": "x",
         "y": [
          9953407.099999994
         ],
         "yaxis": "y"
        },
        {
         "hovertemplate": "geo=Sweden<br>time_period=2015<br>all_cars_diff=%{x}<br>emmission_diff=%{y}<extra></extra>",
         "legendgroup": "Sweden, 2015",
         "marker": {
          "color": "#FF6692",
          "symbol": "circle"
         },
         "mode": "markers",
         "name": "Sweden, 2015",
         "orientation": "v",
         "showlegend": true,
         "type": "scatter",
         "x": [
          83551
         ],
         "xaxis": "x",
         "y": [
          1959720.1
         ],
         "yaxis": "y"
        },
        {
         "hovertemplate": "geo=Sweden<br>time_period=2016<br>all_cars_diff=%{x}<br>emmission_diff=%{y}<extra></extra>",
         "legendgroup": "Sweden, 2016",
         "marker": {
          "color": "#FF6692",
          "symbol": "diamond"
         },
         "mode": "markers",
         "name": "Sweden, 2016",
         "orientation": "v",
         "showlegend": true,
         "type": "scatter",
         "x": [
          99000
         ],
         "xaxis": "x",
         "y": [
          2001302
         ],
         "yaxis": "y"
        },
        {
         "hovertemplate": "geo=Sweden<br>time_period=2017<br>all_cars_diff=%{x}<br>emmission_diff=%{y}<extra></extra>",
         "legendgroup": "Sweden, 2017",
         "marker": {
          "color": "#FF6692",
          "symbol": "square"
         },
         "mode": "markers",
         "name": "Sweden, 2017",
         "orientation": "v",
         "showlegend": true,
         "type": "scatter",
         "x": [
          77561
         ],
         "xaxis": "x",
         "y": [
          5069644.5
         ],
         "yaxis": "y"
        },
        {
         "hovertemplate": "geo=Sweden<br>time_period=2018<br>all_cars_diff=%{x}<br>emmission_diff=%{y}<extra></extra>",
         "legendgroup": "Sweden, 2018",
         "marker": {
          "color": "#FF6692",
          "symbol": "x"
         },
         "mode": "markers",
         "name": "Sweden, 2018",
         "orientation": "v",
         "showlegend": true,
         "type": "scatter",
         "x": [
          25156
         ],
         "xaxis": "x",
         "y": [
          6197234.200000001
         ],
         "yaxis": "y"
        },
        {
         "hovertemplate": "geo=Sweden<br>time_period=2019<br>all_cars_diff=%{x}<br>emmission_diff=%{y}<extra></extra>",
         "legendgroup": "Sweden, 2019",
         "marker": {
          "color": "#FF6692",
          "symbol": "cross"
         },
         "mode": "markers",
         "name": "Sweden, 2019",
         "orientation": "v",
         "showlegend": true,
         "type": "scatter",
         "x": [
          17137
         ],
         "xaxis": "x",
         "y": [
          -3916165.200000001
         ],
         "yaxis": "y"
        },
        {
         "hovertemplate": "geo=Sweden<br>time_period=2020<br>all_cars_diff=%{x}<br>emmission_diff=%{y}<extra></extra>",
         "legendgroup": "Sweden, 2020",
         "marker": {
          "color": "#FF6692",
          "symbol": "circle"
         },
         "mode": "markers",
         "name": "Sweden, 2020",
         "orientation": "v",
         "showlegend": true,
         "type": "scatter",
         "x": [
          56177
         ],
         "xaxis": "x",
         "y": [
          -8145186.4
         ],
         "yaxis": "y"
        },
        {
         "hovertemplate": "geo=Sweden<br>time_period=2021<br>all_cars_diff=%{x}<br>emmission_diff=%{y}<extra></extra>",
         "legendgroup": "Sweden, 2021",
         "marker": {
          "color": "#FF6692",
          "symbol": "diamond"
         },
         "mode": "markers",
         "name": "Sweden, 2021",
         "orientation": "v",
         "showlegend": true,
         "type": "scatter",
         "x": [
          42686
         ],
         "xaxis": "x",
         "y": [
          1058611.9
         ],
         "yaxis": "y"
        },
        {
         "hovertemplate": "geo=Sweden<br>time_period=2022<br>all_cars_diff=%{x}<br>emmission_diff=%{y}<extra></extra>",
         "legendgroup": "Sweden, 2022",
         "marker": {
          "color": "#FF6692",
          "symbol": "square"
         },
         "mode": "markers",
         "name": "Sweden, 2022",
         "orientation": "v",
         "showlegend": true,
         "type": "scatter",
         "x": [
          -6218
         ],
         "xaxis": "x",
         "y": [
          1081748.0999999996
         ],
         "yaxis": "y"
        },
        {
         "hovertemplate": "<b>OLS trendline</b><br>emmission_diff = -4.0191 * all_cars_diff + -840021<br>R<sup>2</sup>=0.007648<br><br>all_cars_diff=%{x}<br>emmission_diff=%{y} <b>(trend)</b><extra></extra>",
         "legendgroup": "Overall Trendline",
         "line": {
          "color": "#B6E880"
         },
         "mode": "lines",
         "name": "Overall Trendline",
         "showlegend": true,
         "type": "scatter",
         "x": [
          -1992088,
          -372953,
          -36299,
          -18469,
          -14871,
          -6218,
          -3253,
          1228,
          2710,
          4057,
          4819,
          4899,
          5319,
          5657,
          6736,
          6837,
          6990,
          7541,
          8276,
          8342,
          8877,
          8975,
          9200,
          9430,
          9832,
          10375,
          11035,
          11201,
          11863,
          11960,
          12347,
          13523,
          13763,
          13998,
          15614,
          17054,
          17137,
          17247,
          17786,
          17820,
          18298,
          18305,
          18333,
          18767,
          19323,
          19564,
          20520,
          20592,
          21249,
          21385,
          21412,
          21806,
          22221,
          22793,
          23318,
          23358,
          23646,
          24078,
          25156,
          25215,
          25307,
          25359,
          25370,
          26555,
          28521,
          29118,
          32218,
          33449,
          34001,
          36817,
          38395,
          38730,
          39241,
          39475,
          39670,
          40530,
          41833,
          41860,
          42009,
          42550,
          42686,
          43183,
          45302,
          45678,
          46409,
          46425,
          46767,
          48462,
          49180,
          49486,
          52279,
          52436,
          53102,
          53127,
          53197,
          54674,
          56177,
          56621,
          57259,
          57728,
          58250,
          58487,
          60696,
          62125,
          62308,
          63941,
          64430,
          64518,
          66313,
          66681,
          66777,
          67647,
          68168,
          69233,
          69738,
          70290,
          70326,
          71570,
          71616,
          71871,
          71969,
          73509,
          73533,
          73970,
          74711,
          75872,
          76265,
          77021,
          77369,
          77561,
          79296,
          80274,
          83551,
          85474,
          85625,
          87200,
          87812,
          89161,
          89398,
          98491,
          99000,
          99360,
          101343,
          102028,
          102094,
          104849,
          108786,
          111642,
          112016,
          113844,
          116350,
          121781,
          121820,
          122110,
          123856,
          124260,
          127266,
          141290,
          141409,
          145940,
          148174,
          150270,
          158791,
          169149,
          169826,
          170190,
          172642,
          177082,
          191913,
          192492,
          197761,
          209243,
          209691,
          217204,
          222158,
          223498,
          230414,
          247495,
          254147,
          259535,
          270480,
          281930,
          292294,
          311596,
          317364,
          326037,
          336311,
          347016,
          370142,
          371744,
          390338,
          441521,
          444187,
          450448,
          454342,
          493375,
          497849,
          524905,
          525771,
          527062,
          532218,
          532396,
          532607,
          547709,
          620193,
          621190,
          627633,
          633237,
          644183,
          644990,
          668000,
          671034,
          671623,
          706633,
          732560,
          1649385
         ],
         "xaxis": "x",
         "y": [
          7166377.820380264,
          658914.2388218419,
          -694131.4581620225,
          -765791.9902728018,
          -780252.7078574672,
          -815029.9700198101,
          -826946.5980460838,
          -844956.1798962465,
          -850912.4843599693,
          -856326.2104818549,
          -859388.763789113,
          -859710.2916953869,
          -861398.3132033244,
          -862756.7686073313,
          -867093.3762431996,
          -867499.3052248703,
          -868114.227345619,
          -870328.75080008,
          -873282.7884389708,
          -873548.0489616467,
          -875698.2668348529,
          -876092.1385200383,
          -876996.4357564335,
          -877920.8284869707,
          -879536.5062159967,
          -881718.8768798304,
          -884371.4821065894,
          -885038.6525121076,
          -887699.2959365236,
          -888089.1485228805,
          -889644.5397694802,
          -894370.9999917054,
          -895335.5837105269,
          -896280.0719352063,
          -902774.9356419377,
          -908562.4379548666,
          -908896.0231576256,
          -909338.1240287521,
          -911504.4182972721,
          -911641.0676574385,
          -913562.1968974245,
          -913590.3305892235,
          -913702.8653564194,
          -915447.1542479548,
          -917681.773196558,
          -918650.3760142078,
          -922492.6344941801,
          -922782.0096098265,
          -925422.5575401003,
          -925969.1549807659,
          -926077.6706491333,
          -927661.1955875319,
          -929329.1216013273,
          -931628.0461311853,
          -933738.0730161072,
          -933898.8369692442,
          -935056.3374318299,
          -936792.5881257086,
          -941125.1766627484,
          -941362.3034936254,
          -941732.0605858403,
          -941941.0537249183,
          -941985.2638120309,
          -946747.8959237119,
          -954649.4442203913,
          -957048.8462209597,
          -969508.0525890705,
          -974455.563246859,
          -976674.1058001484,
          -987991.8881009872,
          -994334.0260522384,
          -995680.4241597601,
          -997734.1836610842,
          -998674.6527869351,
          -999458.3770584776,
          -1002914.8020509213,
          -1008151.6878243561,
          -1008260.2034927236,
          -1008859.0492181586,
          -1011033.3816843354,
          -1011579.9791250009,
          -1013577.471242727,
          -1022093.9416601551,
          -1023605.1228196421,
          -1026543.0840632191,
          -1026607.3896444739,
          -1027981.9214437945,
          -1034794.2939579713,
          -1037680.0069167789,
          -1038909.8511582762,
          -1050135.1941860612,
          -1050766.1927021237,
          -1053442.912521853,
          -1053543.3899925638,
          -1053824.7269105534,
          -1059760.9358801339,
          -1065801.6414192535,
          -1067586.121299073,
          -1070150.306351607,
          -1072035.2637021374,
          -1074133.233290574,
          -1075085.7597129103,
          -1083963.9490248964,
          -1089707.2412507127,
          -1090442.736336314,
          -1097005.9247231283,
          -1098971.2640502271,
          -1099324.9447471285,
          -1106539.2271441475,
          -1108018.255513007,
          -1108404.0890005357,
          -1111900.7049812635,
          -1113994.6554708718,
          -1118274.995723142,
          -1120304.6406314957,
          -1122523.183184785,
          -1122667.8707426083,
          -1127667.6296851663,
          -1127852.5082312739,
          -1128877.3784325216,
          -1129271.250117707,
          -1135460.6623134783,
          -1135557.1206853604,
          -1137313.466873381,
          -1140291.6191052424,
          -1144957.7928450415,
          -1146537.2986846117,
          -1149575.7373988992,
          -1150974.3837911903,
          -1151746.0507662476,
          -1158719.1872335612,
          -1162649.8658877588,
          -1175820.4527485005,
          -1183549.1797955576,
          -1184156.0637186493,
          -1190486.1443734153,
          -1192945.8328564102,
          -1198367.5971759525,
          -1199320.1235982887,
          -1235865.7892451377,
          -1237911.510548805,
          -1239358.3861270372,
          -1247328.2591037997,
          -1250081.3418012692,
          -1250346.6023239451,
          -1261419.2195962502,
          -1277242.4116837508,
          -1288720.9579377265,
          -1290224.1008995567,
          -1297571.0135579137,
          -1307642.8752219414,
          -1329470.6009591059,
          -1329627.3458134143,
          -1330792.8844736568,
          -1337810.2310280832,
          -1339433.946954766,
          -1351515.3580330051,
          -1407879.200002807,
          -1408357.4727633893,
          -1426568.0095549733,
          -1435546.6763376698,
          -1443970.7074820441,
          -1478217.4485990352,
          -1519847.274263839,
          -1522568.2041706813,
          -1524031.1561442274,
          -1533885.98647152,
          -1551730.7852697175,
          -1611338.0399940568,
          -1613665.0982157136,
          -1634841.7299426736,
          -1680989.0226906247,
          -1682789.578965758,
          -1712985.068463699,
          -1732895.6840597056,
          -1738281.2764897922,
          -1766077.3639871646,
          -1834727.5910754553,
          -1861462.636482124,
          -1883117.5409696663,
          -1927106.5776467544,
          -1973125.2592321958,
          -2014779.1994899702,
          -2092355.845076188,
          -2115538.007118531,
          -2150395.6512574423,
          -2191687.8726206585,
          -2234712.325578925,
          -2327658.005085032,
          -2334096.6014081654,
          -2408827.7250238596,
          -2614537.260359026,
          -2625252.1778356014,
          -2650415.755600357,
          -2666066.1264382354,
          -2822943.6110080644,
          -2840925.059166428,
          -2949665.7970682364,
          -2953146.3366536507,
          -2958334.993241145,
          -2979057.4668004927,
          -2979772.866391952,
          -2980620.8962447494,
          -3041317.326751591,
          -3332637.6862309924,
          -3336644.72776293,
          -3362539.7815144584,
          -3385062.8113489402,
          -3429055.8671248564,
          -3432299.279879394,
          -3524778.7439214033,
          -3536972.689766838,
          -3539339.9389767796,
          -3680048.5889598634,
          -3784251.7642843826,
          -7469062.047653157
         ],
         "yaxis": "y"
        }
       ],
       "layout": {
        "legend": {
         "title": {
          "text": "geo, time_period"
         },
         "tracegroupgap": 0
        },
        "template": {
         "data": {
          "bar": [
           {
            "error_x": {
             "color": "#2a3f5f"
            },
            "error_y": {
             "color": "#2a3f5f"
            },
            "marker": {
             "line": {
              "color": "#E5ECF6",
              "width": 0.5
             },
             "pattern": {
              "fillmode": "overlay",
              "size": 10,
              "solidity": 0.2
             }
            },
            "type": "bar"
           }
          ],
          "barpolar": [
           {
            "marker": {
             "line": {
              "color": "#E5ECF6",
              "width": 0.5
             },
             "pattern": {
              "fillmode": "overlay",
              "size": 10,
              "solidity": 0.2
             }
            },
            "type": "barpolar"
           }
          ],
          "carpet": [
           {
            "aaxis": {
             "endlinecolor": "#2a3f5f",
             "gridcolor": "white",
             "linecolor": "white",
             "minorgridcolor": "white",
             "startlinecolor": "#2a3f5f"
            },
            "baxis": {
             "endlinecolor": "#2a3f5f",
             "gridcolor": "white",
             "linecolor": "white",
             "minorgridcolor": "white",
             "startlinecolor": "#2a3f5f"
            },
            "type": "carpet"
           }
          ],
          "choropleth": [
           {
            "colorbar": {
             "outlinewidth": 0,
             "ticks": ""
            },
            "type": "choropleth"
           }
          ],
          "contour": [
           {
            "colorbar": {
             "outlinewidth": 0,
             "ticks": ""
            },
            "colorscale": [
             [
              0,
              "#0d0887"
             ],
             [
              0.1111111111111111,
              "#46039f"
             ],
             [
              0.2222222222222222,
              "#7201a8"
             ],
             [
              0.3333333333333333,
              "#9c179e"
             ],
             [
              0.4444444444444444,
              "#bd3786"
             ],
             [
              0.5555555555555556,
              "#d8576b"
             ],
             [
              0.6666666666666666,
              "#ed7953"
             ],
             [
              0.7777777777777778,
              "#fb9f3a"
             ],
             [
              0.8888888888888888,
              "#fdca26"
             ],
             [
              1,
              "#f0f921"
             ]
            ],
            "type": "contour"
           }
          ],
          "contourcarpet": [
           {
            "colorbar": {
             "outlinewidth": 0,
             "ticks": ""
            },
            "type": "contourcarpet"
           }
          ],
          "heatmap": [
           {
            "colorbar": {
             "outlinewidth": 0,
             "ticks": ""
            },
            "colorscale": [
             [
              0,
              "#0d0887"
             ],
             [
              0.1111111111111111,
              "#46039f"
             ],
             [
              0.2222222222222222,
              "#7201a8"
             ],
             [
              0.3333333333333333,
              "#9c179e"
             ],
             [
              0.4444444444444444,
              "#bd3786"
             ],
             [
              0.5555555555555556,
              "#d8576b"
             ],
             [
              0.6666666666666666,
              "#ed7953"
             ],
             [
              0.7777777777777778,
              "#fb9f3a"
             ],
             [
              0.8888888888888888,
              "#fdca26"
             ],
             [
              1,
              "#f0f921"
             ]
            ],
            "type": "heatmap"
           }
          ],
          "heatmapgl": [
           {
            "colorbar": {
             "outlinewidth": 0,
             "ticks": ""
            },
            "colorscale": [
             [
              0,
              "#0d0887"
             ],
             [
              0.1111111111111111,
              "#46039f"
             ],
             [
              0.2222222222222222,
              "#7201a8"
             ],
             [
              0.3333333333333333,
              "#9c179e"
             ],
             [
              0.4444444444444444,
              "#bd3786"
             ],
             [
              0.5555555555555556,
              "#d8576b"
             ],
             [
              0.6666666666666666,
              "#ed7953"
             ],
             [
              0.7777777777777778,
              "#fb9f3a"
             ],
             [
              0.8888888888888888,
              "#fdca26"
             ],
             [
              1,
              "#f0f921"
             ]
            ],
            "type": "heatmapgl"
           }
          ],
          "histogram": [
           {
            "marker": {
             "pattern": {
              "fillmode": "overlay",
              "size": 10,
              "solidity": 0.2
             }
            },
            "type": "histogram"
           }
          ],
          "histogram2d": [
           {
            "colorbar": {
             "outlinewidth": 0,
             "ticks": ""
            },
            "colorscale": [
             [
              0,
              "#0d0887"
             ],
             [
              0.1111111111111111,
              "#46039f"
             ],
             [
              0.2222222222222222,
              "#7201a8"
             ],
             [
              0.3333333333333333,
              "#9c179e"
             ],
             [
              0.4444444444444444,
              "#bd3786"
             ],
             [
              0.5555555555555556,
              "#d8576b"
             ],
             [
              0.6666666666666666,
              "#ed7953"
             ],
             [
              0.7777777777777778,
              "#fb9f3a"
             ],
             [
              0.8888888888888888,
              "#fdca26"
             ],
             [
              1,
              "#f0f921"
             ]
            ],
            "type": "histogram2d"
           }
          ],
          "histogram2dcontour": [
           {
            "colorbar": {
             "outlinewidth": 0,
             "ticks": ""
            },
            "colorscale": [
             [
              0,
              "#0d0887"
             ],
             [
              0.1111111111111111,
              "#46039f"
             ],
             [
              0.2222222222222222,
              "#7201a8"
             ],
             [
              0.3333333333333333,
              "#9c179e"
             ],
             [
              0.4444444444444444,
              "#bd3786"
             ],
             [
              0.5555555555555556,
              "#d8576b"
             ],
             [
              0.6666666666666666,
              "#ed7953"
             ],
             [
              0.7777777777777778,
              "#fb9f3a"
             ],
             [
              0.8888888888888888,
              "#fdca26"
             ],
             [
              1,
              "#f0f921"
             ]
            ],
            "type": "histogram2dcontour"
           }
          ],
          "mesh3d": [
           {
            "colorbar": {
             "outlinewidth": 0,
             "ticks": ""
            },
            "type": "mesh3d"
           }
          ],
          "parcoords": [
           {
            "line": {
             "colorbar": {
              "outlinewidth": 0,
              "ticks": ""
             }
            },
            "type": "parcoords"
           }
          ],
          "pie": [
           {
            "automargin": true,
            "type": "pie"
           }
          ],
          "scatter": [
           {
            "fillpattern": {
             "fillmode": "overlay",
             "size": 10,
             "solidity": 0.2
            },
            "type": "scatter"
           }
          ],
          "scatter3d": [
           {
            "line": {
             "colorbar": {
              "outlinewidth": 0,
              "ticks": ""
             }
            },
            "marker": {
             "colorbar": {
              "outlinewidth": 0,
              "ticks": ""
             }
            },
            "type": "scatter3d"
           }
          ],
          "scattercarpet": [
           {
            "marker": {
             "colorbar": {
              "outlinewidth": 0,
              "ticks": ""
             }
            },
            "type": "scattercarpet"
           }
          ],
          "scattergeo": [
           {
            "marker": {
             "colorbar": {
              "outlinewidth": 0,
              "ticks": ""
             }
            },
            "type": "scattergeo"
           }
          ],
          "scattergl": [
           {
            "marker": {
             "colorbar": {
              "outlinewidth": 0,
              "ticks": ""
             }
            },
            "type": "scattergl"
           }
          ],
          "scattermapbox": [
           {
            "marker": {
             "colorbar": {
              "outlinewidth": 0,
              "ticks": ""
             }
            },
            "type": "scattermapbox"
           }
          ],
          "scatterpolar": [
           {
            "marker": {
             "colorbar": {
              "outlinewidth": 0,
              "ticks": ""
             }
            },
            "type": "scatterpolar"
           }
          ],
          "scatterpolargl": [
           {
            "marker": {
             "colorbar": {
              "outlinewidth": 0,
              "ticks": ""
             }
            },
            "type": "scatterpolargl"
           }
          ],
          "scatterternary": [
           {
            "marker": {
             "colorbar": {
              "outlinewidth": 0,
              "ticks": ""
             }
            },
            "type": "scatterternary"
           }
          ],
          "surface": [
           {
            "colorbar": {
             "outlinewidth": 0,
             "ticks": ""
            },
            "colorscale": [
             [
              0,
              "#0d0887"
             ],
             [
              0.1111111111111111,
              "#46039f"
             ],
             [
              0.2222222222222222,
              "#7201a8"
             ],
             [
              0.3333333333333333,
              "#9c179e"
             ],
             [
              0.4444444444444444,
              "#bd3786"
             ],
             [
              0.5555555555555556,
              "#d8576b"
             ],
             [
              0.6666666666666666,
              "#ed7953"
             ],
             [
              0.7777777777777778,
              "#fb9f3a"
             ],
             [
              0.8888888888888888,
              "#fdca26"
             ],
             [
              1,
              "#f0f921"
             ]
            ],
            "type": "surface"
           }
          ],
          "table": [
           {
            "cells": {
             "fill": {
              "color": "#EBF0F8"
             },
             "line": {
              "color": "white"
             }
            },
            "header": {
             "fill": {
              "color": "#C8D4E3"
             },
             "line": {
              "color": "white"
             }
            },
            "type": "table"
           }
          ]
         },
         "layout": {
          "annotationdefaults": {
           "arrowcolor": "#2a3f5f",
           "arrowhead": 0,
           "arrowwidth": 1
          },
          "autotypenumbers": "strict",
          "coloraxis": {
           "colorbar": {
            "outlinewidth": 0,
            "ticks": ""
           }
          },
          "colorscale": {
           "diverging": [
            [
             0,
             "#8e0152"
            ],
            [
             0.1,
             "#c51b7d"
            ],
            [
             0.2,
             "#de77ae"
            ],
            [
             0.3,
             "#f1b6da"
            ],
            [
             0.4,
             "#fde0ef"
            ],
            [
             0.5,
             "#f7f7f7"
            ],
            [
             0.6,
             "#e6f5d0"
            ],
            [
             0.7,
             "#b8e186"
            ],
            [
             0.8,
             "#7fbc41"
            ],
            [
             0.9,
             "#4d9221"
            ],
            [
             1,
             "#276419"
            ]
           ],
           "sequential": [
            [
             0,
             "#0d0887"
            ],
            [
             0.1111111111111111,
             "#46039f"
            ],
            [
             0.2222222222222222,
             "#7201a8"
            ],
            [
             0.3333333333333333,
             "#9c179e"
            ],
            [
             0.4444444444444444,
             "#bd3786"
            ],
            [
             0.5555555555555556,
             "#d8576b"
            ],
            [
             0.6666666666666666,
             "#ed7953"
            ],
            [
             0.7777777777777778,
             "#fb9f3a"
            ],
            [
             0.8888888888888888,
             "#fdca26"
            ],
            [
             1,
             "#f0f921"
            ]
           ],
           "sequentialminus": [
            [
             0,
             "#0d0887"
            ],
            [
             0.1111111111111111,
             "#46039f"
            ],
            [
             0.2222222222222222,
             "#7201a8"
            ],
            [
             0.3333333333333333,
             "#9c179e"
            ],
            [
             0.4444444444444444,
             "#bd3786"
            ],
            [
             0.5555555555555556,
             "#d8576b"
            ],
            [
             0.6666666666666666,
             "#ed7953"
            ],
            [
             0.7777777777777778,
             "#fb9f3a"
            ],
            [
             0.8888888888888888,
             "#fdca26"
            ],
            [
             1,
             "#f0f921"
            ]
           ]
          },
          "colorway": [
           "#636efa",
           "#EF553B",
           "#00cc96",
           "#ab63fa",
           "#FFA15A",
           "#19d3f3",
           "#FF6692",
           "#B6E880",
           "#FF97FF",
           "#FECB52"
          ],
          "font": {
           "color": "#2a3f5f"
          },
          "geo": {
           "bgcolor": "white",
           "lakecolor": "white",
           "landcolor": "#E5ECF6",
           "showlakes": true,
           "showland": true,
           "subunitcolor": "white"
          },
          "hoverlabel": {
           "align": "left"
          },
          "hovermode": "closest",
          "mapbox": {
           "style": "light"
          },
          "paper_bgcolor": "white",
          "plot_bgcolor": "#E5ECF6",
          "polar": {
           "angularaxis": {
            "gridcolor": "white",
            "linecolor": "white",
            "ticks": ""
           },
           "bgcolor": "#E5ECF6",
           "radialaxis": {
            "gridcolor": "white",
            "linecolor": "white",
            "ticks": ""
           }
          },
          "scene": {
           "xaxis": {
            "backgroundcolor": "#E5ECF6",
            "gridcolor": "white",
            "gridwidth": 2,
            "linecolor": "white",
            "showbackground": true,
            "ticks": "",
            "zerolinecolor": "white"
           },
           "yaxis": {
            "backgroundcolor": "#E5ECF6",
            "gridcolor": "white",
            "gridwidth": 2,
            "linecolor": "white",
            "showbackground": true,
            "ticks": "",
            "zerolinecolor": "white"
           },
           "zaxis": {
            "backgroundcolor": "#E5ECF6",
            "gridcolor": "white",
            "gridwidth": 2,
            "linecolor": "white",
            "showbackground": true,
            "ticks": "",
            "zerolinecolor": "white"
           }
          },
          "shapedefaults": {
           "line": {
            "color": "#2a3f5f"
           }
          },
          "ternary": {
           "aaxis": {
            "gridcolor": "white",
            "linecolor": "white",
            "ticks": ""
           },
           "baxis": {
            "gridcolor": "white",
            "linecolor": "white",
            "ticks": ""
           },
           "bgcolor": "#E5ECF6",
           "caxis": {
            "gridcolor": "white",
            "linecolor": "white",
            "ticks": ""
           }
          },
          "title": {
           "x": 0.05
          },
          "xaxis": {
           "automargin": true,
           "gridcolor": "white",
           "linecolor": "white",
           "ticks": "",
           "title": {
            "standoff": 15
           },
           "zerolinecolor": "white",
           "zerolinewidth": 2
          },
          "yaxis": {
           "automargin": true,
           "gridcolor": "white",
           "linecolor": "white",
           "ticks": "",
           "title": {
            "standoff": 15
           },
           "zerolinecolor": "white",
           "zerolinewidth": 2
          }
         }
        },
        "title": {
         "text": "Scatter Plot of EV Diff vs Emission Diff"
        },
        "xaxis": {
         "anchor": "y",
         "domain": [
          0,
          1
         ],
         "title": {
          "text": "all_cars_diff"
         }
        },
        "yaxis": {
         "anchor": "x",
         "domain": [
          0,
          1
         ],
         "title": {
          "text": "emmission_diff"
         }
        }
       }
      }
     },
     "metadata": {},
     "output_type": "display_data"
    }
   ],
   "source": [
    "fig = px.scatter(\n",
    "    df_cleaned,\n",
    "    x='all_cars_diff',\n",
    "    y='emmission_diff',\n",
    "    color='geo',\n",
    "    symbol='time_period',\n",
    "    labels={'ev_diff': 'EV Diff', 'emission_diff': 'Emission Diff'},\n",
    "    trendline='ols',\n",
    "    title=\"Scatter Plot of EV Diff vs Emission Diff\",\n",
    "    trendline_scope='overall'\n",
    ")\n",
    "\n",
    "fig.show()"
   ]
  },
  {
   "cell_type": "code",
   "execution_count": 376,
   "metadata": {},
   "outputs": [
    {
     "data": {
      "application/vnd.plotly.v1+json": {
       "config": {
        "plotlyServerURL": "https://plot.ly"
       },
       "data": [
        {
         "hovertemplate": "geo=Austria<br>time_period=2015<br>EV Diff=%{x}<br>emmission_diff=%{y}<extra></extra>",
         "legendgroup": "Austria, 2015",
         "marker": {
          "color": "#636efa",
          "symbol": "circle"
         },
         "mode": "markers",
         "name": "Austria, 2015",
         "orientation": "v",
         "showlegend": true,
         "type": "scatter",
         "x": [
          51478
         ],
         "xaxis": "x",
         "y": [
          3223453.799999982
         ],
         "yaxis": "y"
        },
        {
         "hovertemplate": "geo=Austria<br>time_period=2016<br>EV Diff=%{x}<br>emmission_diff=%{y}<extra></extra>",
         "legendgroup": "Austria, 2016",
         "marker": {
          "color": "#636efa",
          "symbol": "diamond"
         },
         "mode": "markers",
         "name": "Austria, 2016",
         "orientation": "v",
         "showlegend": true,
         "type": "scatter",
         "x": [
          69461
         ],
         "xaxis": "x",
         "y": [
          135194.40000000596
         ],
         "yaxis": "y"
        },
        {
         "hovertemplate": "geo=Austria<br>time_period=2017<br>EV Diff=%{x}<br>emmission_diff=%{y}<extra></extra>",
         "legendgroup": "Austria, 2017",
         "marker": {
          "color": "#636efa",
          "symbol": "square"
         },
         "mode": "markers",
         "name": "Austria, 2017",
         "orientation": "v",
         "showlegend": true,
         "type": "scatter",
         "x": [
          71470
         ],
         "xaxis": "x",
         "y": [
          6763593.900000006
         ],
         "yaxis": "y"
        },
        {
         "hovertemplate": "geo=Austria<br>time_period=2018<br>EV Diff=%{x}<br>emmission_diff=%{y}<extra></extra>",
         "legendgroup": "Austria, 2018",
         "marker": {
          "color": "#636efa",
          "symbol": "x"
         },
         "mode": "markers",
         "name": "Austria, 2018",
         "orientation": "v",
         "showlegend": true,
         "type": "scatter",
         "x": [
          74056
         ],
         "xaxis": "x",
         "y": [
          4870572.100000009
         ],
         "yaxis": "y"
        },
        {
         "hovertemplate": "geo=Austria<br>time_period=2019<br>EV Diff=%{x}<br>emmission_diff=%{y}<extra></extra>",
         "legendgroup": "Austria, 2019",
         "marker": {
          "color": "#636efa",
          "symbol": "cross"
         },
         "mode": "markers",
         "name": "Austria, 2019",
         "orientation": "v",
         "showlegend": true,
         "type": "scatter",
         "x": [
          51987
         ],
         "xaxis": "x",
         "y": [
          -1413976.600000009
         ],
         "yaxis": "y"
        },
        {
         "hovertemplate": "geo=Austria<br>time_period=2020<br>EV Diff=%{x}<br>emmission_diff=%{y}<extra></extra>",
         "legendgroup": "Austria, 2020",
         "marker": {
          "color": "#636efa",
          "symbol": "circle"
         },
         "mode": "markers",
         "name": "Austria, 2020",
         "orientation": "v",
         "showlegend": true,
         "type": "scatter",
         "x": [
          37291
         ],
         "xaxis": "x",
         "y": [
          -15615940.799999997
         ],
         "yaxis": "y"
        },
        {
         "hovertemplate": "geo=Austria<br>time_period=2021<br>EV Diff=%{x}<br>emmission_diff=%{y}<extra></extra>",
         "legendgroup": "Austria, 2021",
         "marker": {
          "color": "#636efa",
          "symbol": "diamond"
         },
         "mode": "markers",
         "name": "Austria, 2021",
         "orientation": "v",
         "showlegend": true,
         "type": "scatter",
         "x": [
          9967
         ],
         "xaxis": "x",
         "y": [
          -2433319.200000003
         ],
         "yaxis": "y"
        },
        {
         "hovertemplate": "geo=Austria<br>time_period=2022<br>EV Diff=%{x}<br>emmission_diff=%{y}<extra></extra>",
         "legendgroup": "Austria, 2022",
         "marker": {
          "color": "#636efa",
          "symbol": "square"
         },
         "mode": "markers",
         "name": "Austria, 2022",
         "orientation": "v",
         "showlegend": true,
         "type": "scatter",
         "x": [
          -16639
         ],
         "xaxis": "x",
         "y": [
          3040666.200000003
         ],
         "yaxis": "y"
        },
        {
         "hovertemplate": "geo=Belgium<br>time_period=2015<br>EV Diff=%{x}<br>emmission_diff=%{y}<extra></extra>",
         "legendgroup": "Belgium, 2015",
         "marker": {
          "color": "#EF553B",
          "symbol": "circle"
         },
         "mode": "markers",
         "name": "Belgium, 2015",
         "orientation": "v",
         "showlegend": true,
         "type": "scatter",
         "x": [
          76290
         ],
         "xaxis": "x",
         "y": [
          5087466.600000009
         ],
         "yaxis": "y"
        },
        {
         "hovertemplate": "geo=Belgium<br>time_period=2016<br>EV Diff=%{x}<br>emmission_diff=%{y}<extra></extra>",
         "legendgroup": "Belgium, 2016",
         "marker": {
          "color": "#EF553B",
          "symbol": "diamond"
         },
         "mode": "markers",
         "name": "Belgium, 2016",
         "orientation": "v",
         "showlegend": true,
         "type": "scatter",
         "x": [
          67340
         ],
         "xaxis": "x",
         "y": [
          -1457334.7000000179
         ],
         "yaxis": "y"
        },
        {
         "hovertemplate": "geo=Belgium<br>time_period=2017<br>EV Diff=%{x}<br>emmission_diff=%{y}<extra></extra>",
         "legendgroup": "Belgium, 2017",
         "marker": {
          "color": "#EF553B",
          "symbol": "square"
         },
         "mode": "markers",
         "name": "Belgium, 2017",
         "orientation": "v",
         "showlegend": true,
         "type": "scatter",
         "x": [
          65297
         ],
         "xaxis": "x",
         "y": [
          434527
         ],
         "yaxis": "y"
        },
        {
         "hovertemplate": "geo=Belgium<br>time_period=2018<br>EV Diff=%{x}<br>emmission_diff=%{y}<extra></extra>",
         "legendgroup": "Belgium, 2018",
         "marker": {
          "color": "#EF553B",
          "symbol": "x"
         },
         "mode": "markers",
         "name": "Belgium, 2018",
         "orientation": "v",
         "showlegend": true,
         "type": "scatter",
         "x": [
          46147
         ],
         "xaxis": "x",
         "y": [
          501423.40000000596
         ],
         "yaxis": "y"
        },
        {
         "hovertemplate": "geo=Belgium<br>time_period=2019<br>EV Diff=%{x}<br>emmission_diff=%{y}<extra></extra>",
         "legendgroup": "Belgium, 2019",
         "marker": {
          "color": "#EF553B",
          "symbol": "cross"
         },
         "mode": "markers",
         "name": "Belgium, 2019",
         "orientation": "v",
         "showlegend": true,
         "type": "scatter",
         "x": [
          25617
         ],
         "xaxis": "x",
         "y": [
          -536400.900000006
         ],
         "yaxis": "y"
        },
        {
         "hovertemplate": "geo=Belgium<br>time_period=2020<br>EV Diff=%{x}<br>emmission_diff=%{y}<extra></extra>",
         "legendgroup": "Belgium, 2020",
         "marker": {
          "color": "#EF553B",
          "symbol": "circle"
         },
         "mode": "markers",
         "name": "Belgium, 2020",
         "orientation": "v",
         "showlegend": true,
         "type": "scatter",
         "x": [
          2554
         ],
         "xaxis": "x",
         "y": [
          -10813077.399999991
         ],
         "yaxis": "y"
        },
        {
         "hovertemplate": "geo=Belgium<br>time_period=2021<br>EV Diff=%{x}<br>emmission_diff=%{y}<extra></extra>",
         "legendgroup": "Belgium, 2021",
         "marker": {
          "color": "#EF553B",
          "symbol": "diamond"
         },
         "mode": "markers",
         "name": "Belgium, 2021",
         "orientation": "v",
         "showlegend": true,
         "type": "scatter",
         "x": [
          7918
         ],
         "xaxis": "x",
         "y": [
          3776769.299999997
         ],
         "yaxis": "y"
        },
        {
         "hovertemplate": "geo=Belgium<br>time_period=2022<br>EV Diff=%{x}<br>emmission_diff=%{y}<extra></extra>",
         "legendgroup": "Belgium, 2022",
         "marker": {
          "color": "#EF553B",
          "symbol": "square"
         },
         "mode": "markers",
         "name": "Belgium, 2022",
         "orientation": "v",
         "showlegend": true,
         "type": "scatter",
         "x": [
          -8325
         ],
         "xaxis": "x",
         "y": [
          -6348299.399999991
         ],
         "yaxis": "y"
        },
        {
         "hovertemplate": "geo=Bulgaria<br>time_period=2015<br>EV Diff=%{x}<br>emmission_diff=%{y}<extra></extra>",
         "legendgroup": "Bulgaria, 2015",
         "marker": {
          "color": "#00cc96",
          "symbol": "circle"
         },
         "mode": "markers",
         "name": "Bulgaria, 2015",
         "orientation": "v",
         "showlegend": true,
         "type": "scatter",
         "x": [
          148138
         ],
         "xaxis": "x",
         "y": [
          3603473
         ],
         "yaxis": "y"
        },
        {
         "hovertemplate": "geo=Bulgaria<br>time_period=2016<br>EV Diff=%{x}<br>emmission_diff=%{y}<extra></extra>",
         "legendgroup": "Bulgaria, 2016",
         "marker": {
          "color": "#00cc96",
          "symbol": "diamond"
         },
         "mode": "markers",
         "name": "Bulgaria, 2016",
         "orientation": "v",
         "showlegend": true,
         "type": "scatter",
         "x": [
          -18501
         ],
         "xaxis": "x",
         "y": [
          -4160455.1000000015
         ],
         "yaxis": "y"
        },
        {
         "hovertemplate": "geo=Bulgaria<br>time_period=2017<br>EV Diff=%{x}<br>emmission_diff=%{y}<extra></extra>",
         "legendgroup": "Bulgaria, 2017",
         "marker": {
          "color": "#00cc96",
          "symbol": "square"
         },
         "mode": "markers",
         "name": "Bulgaria, 2017",
         "orientation": "v",
         "showlegend": true,
         "type": "scatter",
         "x": [
          -373122
         ],
         "xaxis": "x",
         "y": [
          1421244.3000000045
         ],
         "yaxis": "y"
        },
        {
         "hovertemplate": "geo=Bulgaria<br>time_period=2018<br>EV Diff=%{x}<br>emmission_diff=%{y}<extra></extra>",
         "legendgroup": "Bulgaria, 2018",
         "marker": {
          "color": "#00cc96",
          "symbol": "x"
         },
         "mode": "markers",
         "name": "Bulgaria, 2018",
         "orientation": "v",
         "showlegend": true,
         "type": "scatter",
         "x": [
          2384
         ],
         "xaxis": "x",
         "y": [
          -4060249
         ],
         "yaxis": "y"
        },
        {
         "hovertemplate": "geo=Bulgaria<br>time_period=2019<br>EV Diff=%{x}<br>emmission_diff=%{y}<extra></extra>",
         "legendgroup": "Bulgaria, 2019",
         "marker": {
          "color": "#00cc96",
          "symbol": "cross"
         },
         "mode": "markers",
         "name": "Bulgaria, 2019",
         "orientation": "v",
         "showlegend": true,
         "type": "scatter",
         "x": [
          56146
         ],
         "xaxis": "x",
         "y": [
          -1309780.6000000015
         ],
         "yaxis": "y"
        },
        {
         "hovertemplate": "geo=Bulgaria<br>time_period=2020<br>EV Diff=%{x}<br>emmission_diff=%{y}<extra></extra>",
         "legendgroup": "Bulgaria, 2020",
         "marker": {
          "color": "#00cc96",
          "symbol": "circle"
         },
         "mode": "markers",
         "name": "Bulgaria, 2020",
         "orientation": "v",
         "showlegend": true,
         "type": "scatter",
         "x": [
          36069
         ],
         "xaxis": "x",
         "y": [
          -6557681.1000000015
         ],
         "yaxis": "y"
        },
        {
         "hovertemplate": "geo=Bulgaria<br>time_period=2021<br>EV Diff=%{x}<br>emmission_diff=%{y}<extra></extra>",
         "legendgroup": "Bulgaria, 2021",
         "marker": {
          "color": "#00cc96",
          "symbol": "diamond"
         },
         "mode": "markers",
         "name": "Bulgaria, 2021",
         "orientation": "v",
         "showlegend": true,
         "type": "scatter",
         "x": [
          -37735
         ],
         "xaxis": "x",
         "y": [
          6312884.8000000045
         ],
         "yaxis": "y"
        },
        {
         "hovertemplate": "geo=Bulgaria<br>time_period=2022<br>EV Diff=%{x}<br>emmission_diff=%{y}<extra></extra>",
         "legendgroup": "Bulgaria, 2022",
         "marker": {
          "color": "#00cc96",
          "symbol": "square"
         },
         "mode": "markers",
         "name": "Bulgaria, 2022",
         "orientation": "v",
         "showlegend": true,
         "type": "scatter",
         "x": [
          63389
         ],
         "xaxis": "x",
         "y": [
          4843519.5
         ],
         "yaxis": "y"
        },
        {
         "hovertemplate": "geo=Croatia<br>time_period=2015<br>EV Diff=%{x}<br>emmission_diff=%{y}<extra></extra>",
         "legendgroup": "Croatia, 2015",
         "marker": {
          "color": "#ab63fa",
          "symbol": "circle"
         },
         "mode": "markers",
         "name": "Croatia, 2015",
         "orientation": "v",
         "showlegend": true,
         "type": "scatter",
         "x": [
          25183
         ],
         "xaxis": "x",
         "y": [
          659941.4000000022
         ],
         "yaxis": "y"
        },
        {
         "hovertemplate": "geo=Croatia<br>time_period=2016<br>EV Diff=%{x}<br>emmission_diff=%{y}<extra></extra>",
         "legendgroup": "Croatia, 2016",
         "marker": {
          "color": "#ab63fa",
          "symbol": "diamond"
         },
         "mode": "markers",
         "name": "Croatia, 2016",
         "orientation": "v",
         "showlegend": true,
         "type": "scatter",
         "x": [
          53031
         ],
         "xaxis": "x",
         "y": [
          577223
         ],
         "yaxis": "y"
        },
        {
         "hovertemplate": "geo=Croatia<br>time_period=2017<br>EV Diff=%{x}<br>emmission_diff=%{y}<extra></extra>",
         "legendgroup": "Croatia, 2017",
         "marker": {
          "color": "#ab63fa",
          "symbol": "square"
         },
         "mode": "markers",
         "name": "Croatia, 2017",
         "orientation": "v",
         "showlegend": true,
         "type": "scatter",
         "x": [
          43131
         ],
         "xaxis": "x",
         "y": [
          1767185.3000000007
         ],
         "yaxis": "y"
        },
        {
         "hovertemplate": "geo=Croatia<br>time_period=2018<br>EV Diff=%{x}<br>emmission_diff=%{y}<extra></extra>",
         "legendgroup": "Croatia, 2018",
         "marker": {
          "color": "#ab63fa",
          "symbol": "x"
         },
         "mode": "markers",
         "name": "Croatia, 2018",
         "orientation": "v",
         "showlegend": true,
         "type": "scatter",
         "x": [
          70150
         ],
         "xaxis": "x",
         "y": [
          -1571541.8999999985
         ],
         "yaxis": "y"
        },
        {
         "hovertemplate": "geo=Croatia<br>time_period=2019<br>EV Diff=%{x}<br>emmission_diff=%{y}<extra></extra>",
         "legendgroup": "Croatia, 2019",
         "marker": {
          "color": "#ab63fa",
          "symbol": "cross"
         },
         "mode": "markers",
         "name": "Croatia, 2019",
         "orientation": "v",
         "showlegend": true,
         "type": "scatter",
         "x": [
          58223
         ],
         "xaxis": "x",
         "y": [
          -246591
         ],
         "yaxis": "y"
        },
        {
         "hovertemplate": "geo=Croatia<br>time_period=2020<br>EV Diff=%{x}<br>emmission_diff=%{y}<extra></extra>",
         "legendgroup": "Croatia, 2020",
         "marker": {
          "color": "#ab63fa",
          "symbol": "circle"
         },
         "mode": "markers",
         "name": "Croatia, 2020",
         "orientation": "v",
         "showlegend": true,
         "type": "scatter",
         "x": [
          20797
         ],
         "xaxis": "x",
         "y": [
          -1369944.3000000045
         ],
         "yaxis": "y"
        },
        {
         "hovertemplate": "geo=Croatia<br>time_period=2021<br>EV Diff=%{x}<br>emmission_diff=%{y}<extra></extra>",
         "legendgroup": "Croatia, 2021",
         "marker": {
          "color": "#ab63fa",
          "symbol": "diamond"
         },
         "mode": "markers",
         "name": "Croatia, 2021",
         "orientation": "v",
         "showlegend": true,
         "type": "scatter",
         "x": [
          47517
         ],
         "xaxis": "x",
         "y": [
          182829.1000000015
         ],
         "yaxis": "y"
        },
        {
         "hovertemplate": "geo=Croatia<br>time_period=2022<br>EV Diff=%{x}<br>emmission_diff=%{y}<extra></extra>",
         "legendgroup": "Croatia, 2022",
         "marker": {
          "color": "#ab63fa",
          "symbol": "square"
         },
         "mode": "markers",
         "name": "Croatia, 2022",
         "orientation": "v",
         "showlegend": true,
         "type": "scatter",
         "x": [
          43477
         ],
         "xaxis": "x",
         "y": [
          998942.3000000007
         ],
         "yaxis": "y"
        },
        {
         "hovertemplate": "geo=Cyprus<br>time_period=2015<br>EV Diff=%{x}<br>emmission_diff=%{y}<extra></extra>",
         "legendgroup": "Cyprus, 2015",
         "marker": {
          "color": "#FFA15A",
          "symbol": "circle"
         },
         "mode": "markers",
         "name": "Cyprus, 2015",
         "orientation": "v",
         "showlegend": true,
         "type": "scatter",
         "x": [
          9192
         ],
         "xaxis": "x",
         "y": [
          -28516.799999998882
         ],
         "yaxis": "y"
        },
        {
         "hovertemplate": "geo=Cyprus<br>time_period=2016<br>EV Diff=%{x}<br>emmission_diff=%{y}<extra></extra>",
         "legendgroup": "Cyprus, 2016",
         "marker": {
          "color": "#FFA15A",
          "symbol": "diamond"
         },
         "mode": "markers",
         "name": "Cyprus, 2016",
         "orientation": "v",
         "showlegend": true,
         "type": "scatter",
         "x": [
          20575
         ],
         "xaxis": "x",
         "y": [
          607457.6999999993
         ],
         "yaxis": "y"
        },
        {
         "hovertemplate": "geo=Cyprus<br>time_period=2017<br>EV Diff=%{x}<br>emmission_diff=%{y}<extra></extra>",
         "legendgroup": "Cyprus, 2017",
         "marker": {
          "color": "#FFA15A",
          "symbol": "square"
         },
         "mode": "markers",
         "name": "Cyprus, 2017",
         "orientation": "v",
         "showlegend": true,
         "type": "scatter",
         "x": [
          18286
         ],
         "xaxis": "x",
         "y": [
          157441.49999999814
         ],
         "yaxis": "y"
        },
        {
         "hovertemplate": "geo=Cyprus<br>time_period=2018<br>EV Diff=%{x}<br>emmission_diff=%{y}<extra></extra>",
         "legendgroup": "Cyprus, 2018",
         "marker": {
          "color": "#FFA15A",
          "symbol": "x"
         },
         "mode": "markers",
         "name": "Cyprus, 2018",
         "orientation": "v",
         "showlegend": true,
         "type": "scatter",
         "x": [
          24051
         ],
         "xaxis": "x",
         "y": [
          -67186.39999999851
         ],
         "yaxis": "y"
        },
        {
         "hovertemplate": "geo=Cyprus<br>time_period=2019<br>EV Diff=%{x}<br>emmission_diff=%{y}<extra></extra>",
         "legendgroup": "Cyprus, 2019",
         "marker": {
          "color": "#FFA15A",
          "symbol": "cross"
         },
         "mode": "markers",
         "name": "Cyprus, 2019",
         "orientation": "v",
         "showlegend": true,
         "type": "scatter",
         "x": [
          21753
         ],
         "xaxis": "x",
         "y": [
          40703.09999999963
         ],
         "yaxis": "y"
        },
        {
         "hovertemplate": "geo=Cyprus<br>time_period=2020<br>EV Diff=%{x}<br>emmission_diff=%{y}<extra></extra>",
         "legendgroup": "Cyprus, 2020",
         "marker": {
          "color": "#FFA15A",
          "symbol": "circle"
         },
         "mode": "markers",
         "name": "Cyprus, 2020",
         "orientation": "v",
         "showlegend": true,
         "type": "scatter",
         "x": [
          5584
         ],
         "xaxis": "x",
         "y": [
          -1022451.0999999996
         ],
         "yaxis": "y"
        },
        {
         "hovertemplate": "geo=Cyprus<br>time_period=2021<br>EV Diff=%{x}<br>emmission_diff=%{y}<extra></extra>",
         "legendgroup": "Cyprus, 2021",
         "marker": {
          "color": "#FFA15A",
          "symbol": "diamond"
         },
         "mode": "markers",
         "name": "Cyprus, 2021",
         "orientation": "v",
         "showlegend": true,
         "type": "scatter",
         "x": [
          13905
         ],
         "xaxis": "x",
         "y": [
          524822.6999999993
         ],
         "yaxis": "y"
        },
        {
         "hovertemplate": "geo=Cyprus<br>time_period=2022<br>EV Diff=%{x}<br>emmission_diff=%{y}<extra></extra>",
         "legendgroup": "Cyprus, 2022",
         "marker": {
          "color": "#FFA15A",
          "symbol": "square"
         },
         "mode": "markers",
         "name": "Cyprus, 2022",
         "orientation": "v",
         "showlegend": true,
         "type": "scatter",
         "x": [
          8478
         ],
         "xaxis": "x",
         "y": [
          178320.30000000075
         ],
         "yaxis": "y"
        },
        {
         "hovertemplate": "geo=Czech Republic<br>time_period=2015<br>EV Diff=%{x}<br>emmission_diff=%{y}<extra></extra>",
         "legendgroup": "Czech Republic, 2015",
         "marker": {
          "color": "#19d3f3",
          "symbol": "circle"
         },
         "mode": "markers",
         "name": "Czech Republic, 2015",
         "orientation": "v",
         "showlegend": true,
         "type": "scatter",
         "x": [
          281634
         ],
         "xaxis": "x",
         "y": [
          2404998.999999985
         ],
         "yaxis": "y"
        },
        {
         "hovertemplate": "geo=Czech Republic<br>time_period=2016<br>EV Diff=%{x}<br>emmission_diff=%{y}<extra></extra>",
         "legendgroup": "Czech Republic, 2016",
         "marker": {
          "color": "#19d3f3",
          "symbol": "diamond"
         },
         "mode": "markers",
         "name": "Czech Republic, 2016",
         "orientation": "v",
         "showlegend": true,
         "type": "scatter",
         "x": [
          192231
         ],
         "xaxis": "x",
         "y": [
          2292914.200000018
         ],
         "yaxis": "y"
        },
        {
         "hovertemplate": "geo=Czech Republic<br>time_period=2017<br>EV Diff=%{x}<br>emmission_diff=%{y}<extra></extra>",
         "legendgroup": "Czech Republic, 2017",
         "marker": {
          "color": "#19d3f3",
          "symbol": "square"
         },
         "mode": "markers",
         "name": "Czech Republic, 2017",
         "orientation": "v",
         "showlegend": true,
         "type": "scatter",
         "x": [
          229863
         ],
         "xaxis": "x",
         "y": [
          2412990.299999997
         ],
         "yaxis": "y"
        },
        {
         "hovertemplate": "geo=Czech Republic<br>time_period=2018<br>EV Diff=%{x}<br>emmission_diff=%{y}<extra></extra>",
         "legendgroup": "Czech Republic, 2018",
         "marker": {
          "color": "#19d3f3",
          "symbol": "x"
         },
         "mode": "markers",
         "name": "Czech Republic, 2018",
         "orientation": "v",
         "showlegend": true,
         "type": "scatter",
         "x": [
          207811
         ],
         "xaxis": "x",
         "y": [
          3560960
         ],
         "yaxis": "y"
        },
        {
         "hovertemplate": "geo=Czech Republic<br>time_period=2019<br>EV Diff=%{x}<br>emmission_diff=%{y}<extra></extra>",
         "legendgroup": "Czech Republic, 2019",
         "marker": {
          "color": "#19d3f3",
          "symbol": "cross"
         },
         "mode": "markers",
         "name": "Czech Republic, 2019",
         "orientation": "v",
         "showlegend": true,
         "type": "scatter",
         "x": [
          175537
         ],
         "xaxis": "x",
         "y": [
          492838
         ],
         "yaxis": "y"
        },
        {
         "hovertemplate": "geo=Czech Republic<br>time_period=2020<br>EV Diff=%{x}<br>emmission_diff=%{y}<extra></extra>",
         "legendgroup": "Czech Republic, 2020",
         "marker": {
          "color": "#19d3f3",
          "symbol": "circle"
         },
         "mode": "markers",
         "name": "Czech Republic, 2020",
         "orientation": "v",
         "showlegend": true,
         "type": "scatter",
         "x": [
          121100
         ],
         "xaxis": "x",
         "y": [
          -8007827.600000009
         ],
         "yaxis": "y"
        },
        {
         "hovertemplate": "geo=Czech Republic<br>time_period=2021<br>EV Diff=%{x}<br>emmission_diff=%{y}<extra></extra>",
         "legendgroup": "Czech Republic, 2021",
         "marker": {
          "color": "#19d3f3",
          "symbol": "diamond"
         },
         "mode": "markers",
         "name": "Czech Republic, 2021",
         "orientation": "v",
         "showlegend": true,
         "type": "scatter",
         "x": [
          38528
         ],
         "xaxis": "x",
         "y": [
          1888339.600000009
         ],
         "yaxis": "y"
        },
        {
         "hovertemplate": "geo=Czech Republic<br>time_period=2022<br>EV Diff=%{x}<br>emmission_diff=%{y}<extra></extra>",
         "legendgroup": "Czech Republic, 2022",
         "marker": {
          "color": "#19d3f3",
          "symbol": "square"
         },
         "mode": "markers",
         "name": "Czech Republic, 2022",
         "orientation": "v",
         "showlegend": true,
         "type": "scatter",
         "x": [
          212054
         ],
         "xaxis": "x",
         "y": [
          -6047572.200000003
         ],
         "yaxis": "y"
        },
        {
         "hovertemplate": "geo=Denmark<br>time_period=2015<br>EV Diff=%{x}<br>emmission_diff=%{y}<extra></extra>",
         "legendgroup": "Denmark, 2015",
         "marker": {
          "color": "#FF6692",
          "symbol": "circle"
         },
         "mode": "markers",
         "name": "Denmark, 2015",
         "orientation": "v",
         "showlegend": true,
         "type": "scatter",
         "x": [
          66608
         ],
         "xaxis": "x",
         "y": [
          -3640248.5000000075
         ],
         "yaxis": "y"
        },
        {
         "hovertemplate": "geo=Denmark<br>time_period=2016<br>EV Diff=%{x}<br>emmission_diff=%{y}<extra></extra>",
         "legendgroup": "Denmark, 2016",
         "marker": {
          "color": "#FF6692",
          "symbol": "diamond"
         },
         "mode": "markers",
         "name": "Denmark, 2016",
         "orientation": "v",
         "showlegend": true,
         "type": "scatter",
         "x": [
          73922
         ],
         "xaxis": "x",
         "y": [
          3290956.700000003
         ],
         "yaxis": "y"
        },
        {
         "hovertemplate": "geo=Denmark<br>time_period=2017<br>EV Diff=%{x}<br>emmission_diff=%{y}<extra></extra>",
         "legendgroup": "Denmark, 2017",
         "marker": {
          "color": "#FF6692",
          "symbol": "square"
         },
         "mode": "markers",
         "name": "Denmark, 2017",
         "orientation": "v",
         "showlegend": true,
         "type": "scatter",
         "x": [
          64400
         ],
         "xaxis": "x",
         "y": [
          -2471659.8999999985
         ],
         "yaxis": "y"
        },
        {
         "hovertemplate": "geo=Denmark<br>time_period=2018<br>EV Diff=%{x}<br>emmission_diff=%{y}<extra></extra>",
         "legendgroup": "Denmark, 2018",
         "marker": {
          "color": "#FF6692",
          "symbol": "x"
         },
         "mode": "markers",
         "name": "Denmark, 2018",
         "orientation": "v",
         "showlegend": true,
         "type": "scatter",
         "x": [
          63158
         ],
         "xaxis": "x",
         "y": [
          1454511.200000003
         ],
         "yaxis": "y"
        },
        {
         "hovertemplate": "geo=Denmark<br>time_period=2019<br>EV Diff=%{x}<br>emmission_diff=%{y}<extra></extra>",
         "legendgroup": "Denmark, 2019",
         "marker": {
          "color": "#FF6692",
          "symbol": "cross"
         },
         "mode": "markers",
         "name": "Denmark, 2019",
         "orientation": "v",
         "showlegend": true,
         "type": "scatter",
         "x": [
          51799
         ],
         "xaxis": "x",
         "y": [
          -4410889.3999999985
         ],
         "yaxis": "y"
        },
        {
         "hovertemplate": "geo=Denmark<br>time_period=2020<br>EV Diff=%{x}<br>emmission_diff=%{y}<extra></extra>",
         "legendgroup": "Denmark, 2020",
         "marker": {
          "color": "#FF6692",
          "symbol": "circle"
         },
         "mode": "markers",
         "name": "Denmark, 2020",
         "orientation": "v",
         "showlegend": true,
         "type": "scatter",
         "x": [
          55453
         ],
         "xaxis": "x",
         "y": [
          -5097021.5
         ],
         "yaxis": "y"
        },
        {
         "hovertemplate": "geo=Denmark<br>time_period=2021<br>EV Diff=%{x}<br>emmission_diff=%{y}<extra></extra>",
         "legendgroup": "Denmark, 2021",
         "marker": {
          "color": "#FF6692",
          "symbol": "diamond"
         },
         "mode": "markers",
         "name": "Denmark, 2021",
         "orientation": "v",
         "showlegend": true,
         "type": "scatter",
         "x": [
          29157
         ],
         "xaxis": "x",
         "y": [
          133071.3999999985
         ],
         "yaxis": "y"
        },
        {
         "hovertemplate": "geo=Denmark<br>time_period=2022<br>EV Diff=%{x}<br>emmission_diff=%{y}<extra></extra>",
         "legendgroup": "Denmark, 2022",
         "marker": {
          "color": "#FF6692",
          "symbol": "square"
         },
         "mode": "markers",
         "name": "Denmark, 2022",
         "orientation": "v",
         "showlegend": true,
         "type": "scatter",
         "x": [
          -32515
         ],
         "xaxis": "x",
         "y": [
          -1505038.5
         ],
         "yaxis": "y"
        },
        {
         "hovertemplate": "geo=Estonia<br>time_period=2015<br>EV Diff=%{x}<br>emmission_diff=%{y}<extra></extra>",
         "legendgroup": "Estonia, 2015",
         "marker": {
          "color": "#B6E880",
          "symbol": "circle"
         },
         "mode": "markers",
         "name": "Estonia, 2015",
         "orientation": "v",
         "showlegend": true,
         "type": "scatter",
         "x": [
          23597
         ],
         "xaxis": "x",
         "y": [
          -2513721.6999999993
         ],
         "yaxis": "y"
        },
        {
         "hovertemplate": "geo=Estonia<br>time_period=2016<br>EV Diff=%{x}<br>emmission_diff=%{y}<extra></extra>",
         "legendgroup": "Estonia, 2016",
         "marker": {
          "color": "#B6E880",
          "symbol": "diamond"
         },
         "mode": "markers",
         "name": "Estonia, 2016",
         "orientation": "v",
         "showlegend": true,
         "type": "scatter",
         "x": [
          26515
         ],
         "xaxis": "x",
         "y": [
          2647353.5999999978
         ],
         "yaxis": "y"
        },
        {
         "hovertemplate": "geo=Estonia<br>time_period=2017<br>EV Diff=%{x}<br>emmission_diff=%{y}<extra></extra>",
         "legendgroup": "Estonia, 2017",
         "marker": {
          "color": "#B6E880",
          "symbol": "square"
         },
         "mode": "markers",
         "name": "Estonia, 2017",
         "orientation": "v",
         "showlegend": true,
         "type": "scatter",
         "x": [
          22758
         ],
         "xaxis": "x",
         "y": [
          1047440.4000000022
         ],
         "yaxis": "y"
        },
        {
         "hovertemplate": "geo=Estonia<br>time_period=2018<br>EV Diff=%{x}<br>emmission_diff=%{y}<extra></extra>",
         "legendgroup": "Estonia, 2018",
         "marker": {
          "color": "#B6E880",
          "symbol": "x"
         },
         "mode": "markers",
         "name": "Estonia, 2018",
         "orientation": "v",
         "showlegend": true,
         "type": "scatter",
         "x": [
          20457
         ],
         "xaxis": "x",
         "y": [
          983558.6999999993
         ],
         "yaxis": "y"
        },
        {
         "hovertemplate": "geo=Estonia<br>time_period=2019<br>EV Diff=%{x}<br>emmission_diff=%{y}<extra></extra>",
         "legendgroup": "Estonia, 2019",
         "marker": {
          "color": "#B6E880",
          "symbol": "cross"
         },
         "mode": "markers",
         "name": "Estonia, 2019",
         "orientation": "v",
         "showlegend": true,
         "type": "scatter",
         "x": [
          48334
         ],
         "xaxis": "x",
         "y": [
          -5594928.699999999
         ],
         "yaxis": "y"
        },
        {
         "hovertemplate": "geo=Estonia<br>time_period=2020<br>EV Diff=%{x}<br>emmission_diff=%{y}<extra></extra>",
         "legendgroup": "Estonia, 2020",
         "marker": {
          "color": "#B6E880",
          "symbol": "circle"
         },
         "mode": "markers",
         "name": "Estonia, 2020",
         "orientation": "v",
         "showlegend": true,
         "type": "scatter",
         "x": [
          13372
         ],
         "xaxis": "x",
         "y": [
          -5392280
         ],
         "yaxis": "y"
        },
        {
         "hovertemplate": "geo=Estonia<br>time_period=2021<br>EV Diff=%{x}<br>emmission_diff=%{y}<extra></extra>",
         "legendgroup": "Estonia, 2021",
         "marker": {
          "color": "#B6E880",
          "symbol": "diamond"
         },
         "mode": "markers",
         "name": "Estonia, 2021",
         "orientation": "v",
         "showlegend": true,
         "type": "scatter",
         "x": [
          16563
         ],
         "xaxis": "x",
         "y": [
          941421.5999999996
         ],
         "yaxis": "y"
        },
        {
         "hovertemplate": "geo=Estonia<br>time_period=2022<br>EV Diff=%{x}<br>emmission_diff=%{y}<extra></extra>",
         "legendgroup": "Estonia, 2022",
         "marker": {
          "color": "#B6E880",
          "symbol": "square"
         },
         "mode": "markers",
         "name": "Estonia, 2022",
         "orientation": "v",
         "showlegend": true,
         "type": "scatter",
         "x": [
          22352
         ],
         "xaxis": "x",
         "y": [
          683523.5999999996
         ],
         "yaxis": "y"
        },
        {
         "hovertemplate": "geo=Finland<br>time_period=2015<br>EV Diff=%{x}<br>emmission_diff=%{y}<extra></extra>",
         "legendgroup": "Finland, 2015",
         "marker": {
          "color": "#FF97FF",
          "symbol": "circle"
         },
         "mode": "markers",
         "name": "Finland, 2015",
         "orientation": "v",
         "showlegend": true,
         "type": "scatter",
         "x": [
          61854
         ],
         "xaxis": "x",
         "y": [
          1254118
         ],
         "yaxis": "y"
        },
        {
         "hovertemplate": "geo=Finland<br>time_period=2016<br>EV Diff=%{x}<br>emmission_diff=%{y}<extra></extra>",
         "legendgroup": "Finland, 2016",
         "marker": {
          "color": "#FF97FF",
          "symbol": "diamond"
         },
         "mode": "markers",
         "name": "Finland, 2016",
         "orientation": "v",
         "showlegend": true,
         "type": "scatter",
         "x": [
          87579
         ],
         "xaxis": "x",
         "y": [
          6709209.599999994
         ],
         "yaxis": "y"
        },
        {
         "hovertemplate": "geo=Finland<br>time_period=2017<br>EV Diff=%{x}<br>emmission_diff=%{y}<extra></extra>",
         "legendgroup": "Finland, 2017",
         "marker": {
          "color": "#FF97FF",
          "symbol": "square"
         },
         "mode": "markers",
         "name": "Finland, 2017",
         "orientation": "v",
         "showlegend": true,
         "type": "scatter",
         "x": [
          75616
         ],
         "xaxis": "x",
         "y": [
          -403230.8999999985
         ],
         "yaxis": "y"
        },
        {
         "hovertemplate": "geo=Finland<br>time_period=2018<br>EV Diff=%{x}<br>emmission_diff=%{y}<extra></extra>",
         "legendgroup": "Finland, 2018",
         "marker": {
          "color": "#FF97FF",
          "symbol": "x"
         },
         "mode": "markers",
         "name": "Finland, 2018",
         "orientation": "v",
         "showlegend": true,
         "type": "scatter",
         "x": [
          70608
         ],
         "xaxis": "x",
         "y": [
          10564427.300000004
         ],
         "yaxis": "y"
        },
        {
         "hovertemplate": "geo=Finland<br>time_period=2019<br>EV Diff=%{x}<br>emmission_diff=%{y}<extra></extra>",
         "legendgroup": "Finland, 2019",
         "marker": {
          "color": "#FF97FF",
          "symbol": "cross"
         },
         "mode": "markers",
         "name": "Finland, 2019",
         "orientation": "v",
         "showlegend": true,
         "type": "scatter",
         "x": [
          76966
         ],
         "xaxis": "x",
         "y": [
          -8775991.399999999
         ],
         "yaxis": "y"
        },
        {
         "hovertemplate": "geo=Finland<br>time_period=2020<br>EV Diff=%{x}<br>emmission_diff=%{y}<extra></extra>",
         "legendgroup": "Finland, 2020",
         "marker": {
          "color": "#FF97FF",
          "symbol": "circle"
         },
         "mode": "markers",
         "name": "Finland, 2020",
         "orientation": "v",
         "showlegend": true,
         "type": "scatter",
         "x": [
          52599
         ],
         "xaxis": "x",
         "y": [
          -8771161
         ],
         "yaxis": "y"
        },
        {
         "hovertemplate": "geo=Finland<br>time_period=2021<br>EV Diff=%{x}<br>emmission_diff=%{y}<extra></extra>",
         "legendgroup": "Finland, 2021",
         "marker": {
          "color": "#FF97FF",
          "symbol": "diamond"
         },
         "mode": "markers",
         "name": "Finland, 2021",
         "orientation": "v",
         "showlegend": true,
         "type": "scatter",
         "x": [
          20462
         ],
         "xaxis": "x",
         "y": [
          8920376.600000001
         ],
         "yaxis": "y"
        },
        {
         "hovertemplate": "geo=Finland<br>time_period=2022<br>EV Diff=%{x}<br>emmission_diff=%{y}<extra></extra>",
         "legendgroup": "Finland, 2022",
         "marker": {
          "color": "#FF97FF",
          "symbol": "square"
         },
         "mode": "markers",
         "name": "Finland, 2022",
         "orientation": "v",
         "showlegend": true,
         "type": "scatter",
         "x": [
          9131
         ],
         "xaxis": "x",
         "y": [
          -419012.8999999985
         ],
         "yaxis": "y"
        },
        {
         "hovertemplate": "geo=France<br>time_period=2015<br>EV Diff=%{x}<br>emmission_diff=%{y}<extra></extra>",
         "legendgroup": "France, 2015",
         "marker": {
          "color": "#FECB52",
          "symbol": "circle"
         },
         "mode": "markers",
         "name": "France, 2015",
         "orientation": "v",
         "showlegend": true,
         "type": "scatter",
         "x": [
          516255
         ],
         "xaxis": "x",
         "y": [
          8515722.5
         ],
         "yaxis": "y"
        },
        {
         "hovertemplate": "geo=France<br>time_period=2016<br>EV Diff=%{x}<br>emmission_diff=%{y}<extra></extra>",
         "legendgroup": "France, 2016",
         "marker": {
          "color": "#FECB52",
          "symbol": "diamond"
         },
         "mode": "markers",
         "name": "France, 2016",
         "orientation": "v",
         "showlegend": true,
         "type": "scatter",
         "x": [
          473926
         ],
         "xaxis": "x",
         "y": [
          7835386.099999964
         ],
         "yaxis": "y"
        },
        {
         "hovertemplate": "geo=France<br>time_period=2017<br>EV Diff=%{x}<br>emmission_diff=%{y}<extra></extra>",
         "legendgroup": "France, 2017",
         "marker": {
          "color": "#FECB52",
          "symbol": "square"
         },
         "mode": "markers",
         "name": "France, 2017",
         "orientation": "v",
         "showlegend": true,
         "type": "scatter",
         "x": [
          422989
         ],
         "xaxis": "x",
         "y": [
          14493368.200000048
         ],
         "yaxis": "y"
        },
        {
         "hovertemplate": "geo=France<br>time_period=2018<br>EV Diff=%{x}<br>emmission_diff=%{y}<extra></extra>",
         "legendgroup": "France, 2018",
         "marker": {
          "color": "#FECB52",
          "symbol": "x"
         },
         "mode": "markers",
         "name": "France, 2018",
         "orientation": "v",
         "showlegend": true,
         "type": "scatter",
         "x": [
          87603
         ],
         "xaxis": "x",
         "y": [
          -25338915.199999988
         ],
         "yaxis": "y"
        },
        {
         "hovertemplate": "geo=France<br>time_period=2019<br>EV Diff=%{x}<br>emmission_diff=%{y}<extra></extra>",
         "legendgroup": "France, 2019",
         "marker": {
          "color": "#FECB52",
          "symbol": "cross"
         },
         "mode": "markers",
         "name": "France, 2019",
         "orientation": "v",
         "showlegend": true,
         "type": "scatter",
         "x": [
          156983
         ],
         "xaxis": "x",
         "y": [
          1691180.800000012
         ],
         "yaxis": "y"
        },
        {
         "hovertemplate": "geo=France<br>time_period=2020<br>EV Diff=%{x}<br>emmission_diff=%{y}<extra></extra>",
         "legendgroup": "France, 2020",
         "marker": {
          "color": "#FECB52",
          "symbol": "circle"
         },
         "mode": "markers",
         "name": "France, 2020",
         "orientation": "v",
         "showlegend": true,
         "type": "scatter",
         "x": [
          -57477
         ],
         "xaxis": "x",
         "y": [
          -52806568.80000007
         ],
         "yaxis": "y"
        },
        {
         "hovertemplate": "geo=France<br>time_period=2021<br>EV Diff=%{x}<br>emmission_diff=%{y}<extra></extra>",
         "legendgroup": "France, 2021",
         "marker": {
          "color": "#FECB52",
          "symbol": "diamond"
         },
         "mode": "markers",
         "name": "France, 2021",
         "orientation": "v",
         "showlegend": true,
         "type": "scatter",
         "x": [
          188753
         ],
         "xaxis": "x",
         "y": [
          21746105.600000083
         ],
         "yaxis": "y"
        },
        {
         "hovertemplate": "geo=France<br>time_period=2022<br>EV Diff=%{x}<br>emmission_diff=%{y}<extra></extra>",
         "legendgroup": "France, 2022",
         "marker": {
          "color": "#FECB52",
          "symbol": "square"
         },
         "mode": "markers",
         "name": "France, 2022",
         "orientation": "v",
         "showlegend": true,
         "type": "scatter",
         "x": [
          -150814
         ],
         "xaxis": "x",
         "y": [
          -12243349.100000024
         ],
         "yaxis": "y"
        },
        {
         "hovertemplate": "geo=Germany<br>time_period=2015<br>EV Diff=%{x}<br>emmission_diff=%{y}<extra></extra>",
         "legendgroup": "Germany, 2015",
         "marker": {
          "color": "#636efa",
          "symbol": "circle"
         },
         "mode": "markers",
         "name": "Germany, 2015",
         "orientation": "v",
         "showlegend": true,
         "type": "scatter",
         "x": [
          660914
         ],
         "xaxis": "x",
         "y": [
          4816828.8000000715
         ],
         "yaxis": "y"
        },
        {
         "hovertemplate": "geo=Germany<br>time_period=2016<br>EV Diff=%{x}<br>emmission_diff=%{y}<extra></extra>",
         "legendgroup": "Germany, 2016",
         "marker": {
          "color": "#636efa",
          "symbol": "diamond"
         },
         "mode": "markers",
         "name": "Germany, 2016",
         "orientation": "v",
         "showlegend": true,
         "type": "scatter",
         "x": [
          724489
         ],
         "xaxis": "x",
         "y": [
          2737678
         ],
         "yaxis": "y"
        },
        {
         "hovertemplate": "geo=Germany<br>time_period=2017<br>EV Diff=%{x}<br>emmission_diff=%{y}<extra></extra>",
         "legendgroup": "Germany, 2017",
         "marker": {
          "color": "#636efa",
          "symbol": "square"
         },
         "mode": "markers",
         "name": "Germany, 2017",
         "orientation": "v",
         "showlegend": true,
         "type": "scatter",
         "x": [
          650958
         ],
         "xaxis": "x",
         "y": [
          -12664074.699999928
         ],
         "yaxis": "y"
        },
        {
         "hovertemplate": "geo=Germany<br>time_period=2018<br>EV Diff=%{x}<br>emmission_diff=%{y}<extra></extra>",
         "legendgroup": "Germany, 2018",
         "marker": {
          "color": "#636efa",
          "symbol": "x"
         },
         "mode": "markers",
         "name": "Germany, 2018",
         "orientation": "v",
         "showlegend": true,
         "type": "scatter",
         "x": [
          591827
         ],
         "xaxis": "x",
         "y": [
          -21887097.100000024
         ],
         "yaxis": "y"
        },
        {
         "hovertemplate": "geo=Germany<br>time_period=2019<br>EV Diff=%{x}<br>emmission_diff=%{y}<extra></extra>",
         "legendgroup": "Germany, 2019",
         "marker": {
          "color": "#636efa",
          "symbol": "cross"
         },
         "mode": "markers",
         "name": "Germany, 2019",
         "orientation": "v",
         "showlegend": true,
         "type": "scatter",
         "x": [
          566606
         ],
         "xaxis": "x",
         "y": [
          -55708711.899999976
         ],
         "yaxis": "y"
        },
        {
         "hovertemplate": "geo=Germany<br>time_period=2020<br>EV Diff=%{x}<br>emmission_diff=%{y}<extra></extra>",
         "legendgroup": "Germany, 2020",
         "marker": {
          "color": "#636efa",
          "symbol": "circle"
         },
         "mode": "markers",
         "name": "Germany, 2020",
         "orientation": "v",
         "showlegend": true,
         "type": "scatter",
         "x": [
          359841
         ],
         "xaxis": "x",
         "y": [
          -73389809.70000005
         ],
         "yaxis": "y"
        },
        {
         "hovertemplate": "geo=Germany<br>time_period=2021<br>EV Diff=%{x}<br>emmission_diff=%{y}<extra></extra>",
         "legendgroup": "Germany, 2021",
         "marker": {
          "color": "#636efa",
          "symbol": "diamond"
         },
         "mode": "markers",
         "name": "Germany, 2021",
         "orientation": "v",
         "showlegend": true,
         "type": "scatter",
         "x": [
          -17500
         ],
         "xaxis": "x",
         "y": [
          33156892.399999976
         ],
         "yaxis": "y"
        },
        {
         "hovertemplate": "geo=Germany<br>time_period=2022<br>EV Diff=%{x}<br>emmission_diff=%{y}<extra></extra>",
         "legendgroup": "Germany, 2022",
         "marker": {
          "color": "#636efa",
          "symbol": "square"
         },
         "mode": "markers",
         "name": "Germany, 2022",
         "orientation": "v",
         "showlegend": true,
         "type": "scatter",
         "x": [
          -173169
         ],
         "xaxis": "x",
         "y": [
          -7552038.1999999285
         ],
         "yaxis": "y"
        },
        {
         "hovertemplate": "geo=Greece<br>time_period=2015<br>EV Diff=%{x}<br>emmission_diff=%{y}<extra></extra>",
         "legendgroup": "Greece, 2015",
         "marker": {
          "color": "#EF553B",
          "symbol": "circle"
         },
         "mode": "markers",
         "name": "Greece, 2015",
         "orientation": "v",
         "showlegend": true,
         "type": "scatter",
         "x": [
          -3292
         ],
         "xaxis": "x",
         "y": [
          -7161427.399999991
         ],
         "yaxis": "y"
        },
        {
         "hovertemplate": "geo=Greece<br>time_period=2016<br>EV Diff=%{x}<br>emmission_diff=%{y}<extra></extra>",
         "legendgroup": "Greece, 2016",
         "marker": {
          "color": "#EF553B",
          "symbol": "diamond"
         },
         "mode": "markers",
         "name": "Greece, 2016",
         "orientation": "v",
         "showlegend": true,
         "type": "scatter",
         "x": [
          52406
         ],
         "xaxis": "x",
         "y": [
          -3888700.400000006
         ],
         "yaxis": "y"
        },
        {
         "hovertemplate": "geo=Greece<br>time_period=2017<br>EV Diff=%{x}<br>emmission_diff=%{y}<extra></extra>",
         "legendgroup": "Greece, 2017",
         "marker": {
          "color": "#EF553B",
          "symbol": "square"
         },
         "mode": "markers",
         "name": "Greece, 2017",
         "orientation": "v",
         "showlegend": true,
         "type": "scatter",
         "x": [
          75838
         ],
         "xaxis": "x",
         "y": [
          4175059.700000003
         ],
         "yaxis": "y"
        },
        {
         "hovertemplate": "geo=Greece<br>time_period=2018<br>EV Diff=%{x}<br>emmission_diff=%{y}<extra></extra>",
         "legendgroup": "Greece, 2018",
         "marker": {
          "color": "#EF553B",
          "symbol": "x"
         },
         "mode": "markers",
         "name": "Greece, 2018",
         "orientation": "v",
         "showlegend": true,
         "type": "scatter",
         "x": [
          46700
         ],
         "xaxis": "x",
         "y": [
          -3462898.700000003
         ],
         "yaxis": "y"
        },
        {
         "hovertemplate": "geo=Greece<br>time_period=2019<br>EV Diff=%{x}<br>emmission_diff=%{y}<extra></extra>",
         "legendgroup": "Greece, 2019",
         "marker": {
          "color": "#EF553B",
          "symbol": "cross"
         },
         "mode": "markers",
         "name": "Greece, 2019",
         "orientation": "v",
         "showlegend": true,
         "type": "scatter",
         "x": [
          123645
         ],
         "xaxis": "x",
         "y": [
          -7649686.899999991
         ],
         "yaxis": "y"
        },
        {
         "hovertemplate": "geo=Greece<br>time_period=2020<br>EV Diff=%{x}<br>emmission_diff=%{y}<extra></extra>",
         "legendgroup": "Greece, 2020",
         "marker": {
          "color": "#EF553B",
          "symbol": "circle"
         },
         "mode": "markers",
         "name": "Greece, 2020",
         "orientation": "v",
         "showlegend": true,
         "type": "scatter",
         "x": [
          84947
         ],
         "xaxis": "x",
         "y": [
          -12909946.600000009
         ],
         "yaxis": "y"
        },
        {
         "hovertemplate": "geo=Greece<br>time_period=2021<br>EV Diff=%{x}<br>emmission_diff=%{y}<extra></extra>",
         "legendgroup": "Greece, 2021",
         "marker": {
          "color": "#EF553B",
          "symbol": "diamond"
         },
         "mode": "markers",
         "name": "Greece, 2021",
         "orientation": "v",
         "showlegend": true,
         "type": "scatter",
         "x": [
          109840
         ],
         "xaxis": "x",
         "y": [
          4003901.700000003
         ],
         "yaxis": "y"
        },
        {
         "hovertemplate": "geo=Greece<br>time_period=2022<br>EV Diff=%{x}<br>emmission_diff=%{y}<extra></extra>",
         "legendgroup": "Greece, 2022",
         "marker": {
          "color": "#EF553B",
          "symbol": "square"
         },
         "mode": "markers",
         "name": "Greece, 2022",
         "orientation": "v",
         "showlegend": true,
         "type": "scatter",
         "x": [
          118794
         ],
         "xaxis": "x",
         "y": [
          1584099.599999994
         ],
         "yaxis": "y"
        },
        {
         "hovertemplate": "geo=Hungary<br>time_period=2015<br>EV Diff=%{x}<br>emmission_diff=%{y}<extra></extra>",
         "legendgroup": "Hungary, 2015",
         "marker": {
          "color": "#00cc96",
          "symbol": "circle"
         },
         "mode": "markers",
         "name": "Hungary, 2015",
         "orientation": "v",
         "showlegend": true,
         "type": "scatter",
         "x": [
          88994
         ],
         "xaxis": "x",
         "y": [
          2755782.8999999985
         ],
         "yaxis": "y"
        },
        {
         "hovertemplate": "geo=Hungary<br>time_period=2016<br>EV Diff=%{x}<br>emmission_diff=%{y}<extra></extra>",
         "legendgroup": "Hungary, 2016",
         "marker": {
          "color": "#00cc96",
          "symbol": "diamond"
         },
         "mode": "markers",
         "name": "Hungary, 2016",
         "orientation": "v",
         "showlegend": true,
         "type": "scatter",
         "x": [
          115934
         ],
         "xaxis": "x",
         "y": [
          1745935.6000000015
         ],
         "yaxis": "y"
        },
        {
         "hovertemplate": "geo=Hungary<br>time_period=2017<br>EV Diff=%{x}<br>emmission_diff=%{y}<extra></extra>",
         "legendgroup": "Hungary, 2017",
         "marker": {
          "color": "#00cc96",
          "symbol": "square"
         },
         "mode": "markers",
         "name": "Hungary, 2017",
         "orientation": "v",
         "showlegend": true,
         "type": "scatter",
         "x": [
          157553
         ],
         "xaxis": "x",
         "y": [
          1709201.3999999985
         ],
         "yaxis": "y"
        },
        {
         "hovertemplate": "geo=Hungary<br>time_period=2018<br>EV Diff=%{x}<br>emmission_diff=%{y}<extra></extra>",
         "legendgroup": "Hungary, 2018",
         "marker": {
          "color": "#00cc96",
          "symbol": "x"
         },
         "mode": "markers",
         "name": "Hungary, 2018",
         "orientation": "v",
         "showlegend": true,
         "type": "scatter",
         "x": [
          167983
         ],
         "xaxis": "x",
         "y": [
          808913.1000000015
         ],
         "yaxis": "y"
        },
        {
         "hovertemplate": "geo=Hungary<br>time_period=2019<br>EV Diff=%{x}<br>emmission_diff=%{y}<extra></extra>",
         "legendgroup": "Hungary, 2019",
         "marker": {
          "color": "#00cc96",
          "symbol": "cross"
         },
         "mode": "markers",
         "name": "Hungary, 2019",
         "orientation": "v",
         "showlegend": true,
         "type": "scatter",
         "x": [
          167434
         ],
         "xaxis": "x",
         "y": [
          -1054340.1000000015
         ],
         "yaxis": "y"
        },
        {
         "hovertemplate": "geo=Hungary<br>time_period=2020<br>EV Diff=%{x}<br>emmission_diff=%{y}<extra></extra>",
         "legendgroup": "Hungary, 2020",
         "marker": {
          "color": "#00cc96",
          "symbol": "circle"
         },
         "mode": "markers",
         "name": "Hungary, 2020",
         "orientation": "v",
         "showlegend": true,
         "type": "scatter",
         "x": [
          104369
         ],
         "xaxis": "x",
         "y": [
          -3943305.6000000015
         ],
         "yaxis": "y"
        },
        {
         "hovertemplate": "geo=Hungary<br>time_period=2021<br>EV Diff=%{x}<br>emmission_diff=%{y}<extra></extra>",
         "legendgroup": "Hungary, 2021",
         "marker": {
          "color": "#00cc96",
          "symbol": "diamond"
         },
         "mode": "markers",
         "name": "Hungary, 2021",
         "orientation": "v",
         "showlegend": true,
         "type": "scatter",
         "x": [
          91548
         ],
         "xaxis": "x",
         "y": [
          745239.1000000089
         ],
         "yaxis": "y"
        },
        {
         "hovertemplate": "geo=Hungary<br>time_period=2022<br>EV Diff=%{x}<br>emmission_diff=%{y}<extra></extra>",
         "legendgroup": "Hungary, 2022",
         "marker": {
          "color": "#00cc96",
          "symbol": "square"
         },
         "mode": "markers",
         "name": "Hungary, 2022",
         "orientation": "v",
         "showlegend": true,
         "type": "scatter",
         "x": [
          62955
         ],
         "xaxis": "x",
         "y": [
          -3125363.100000009
         ],
         "yaxis": "y"
        },
        {
         "hovertemplate": "geo=Ireland<br>time_period=2015<br>EV Diff=%{x}<br>emmission_diff=%{y}<extra></extra>",
         "legendgroup": "Ireland, 2015",
         "marker": {
          "color": "#ab63fa",
          "symbol": "circle"
         },
         "mode": "markers",
         "name": "Ireland, 2015",
         "orientation": "v",
         "showlegend": true,
         "type": "scatter",
         "x": [
          41300
         ],
         "xaxis": "x",
         "y": [
          3359448.6999999955
         ],
         "yaxis": "y"
        },
        {
         "hovertemplate": "geo=Ireland<br>time_period=2016<br>EV Diff=%{x}<br>emmission_diff=%{y}<extra></extra>",
         "legendgroup": "Ireland, 2016",
         "marker": {
          "color": "#ab63fa",
          "symbol": "diamond"
         },
         "mode": "markers",
         "name": "Ireland, 2016",
         "orientation": "v",
         "showlegend": true,
         "type": "scatter",
         "x": [
          41969
         ],
         "xaxis": "x",
         "y": [
          1178184.099999994
         ],
         "yaxis": "y"
        },
        {
         "hovertemplate": "geo=Ireland<br>time_period=2017<br>EV Diff=%{x}<br>emmission_diff=%{y}<extra></extra>",
         "legendgroup": "Ireland, 2017",
         "marker": {
          "color": "#ab63fa",
          "symbol": "square"
         },
         "mode": "markers",
         "name": "Ireland, 2017",
         "orientation": "v",
         "showlegend": true,
         "type": "scatter",
         "x": [
          38601
         ],
         "xaxis": "x",
         "y": [
          2023748.000000015
         ],
         "yaxis": "y"
        },
        {
         "hovertemplate": "geo=Ireland<br>time_period=2018<br>EV Diff=%{x}<br>emmission_diff=%{y}<extra></extra>",
         "legendgroup": "Ireland, 2018",
         "marker": {
          "color": "#ab63fa",
          "symbol": "x"
         },
         "mode": "markers",
         "name": "Ireland, 2018",
         "orientation": "v",
         "showlegend": true,
         "type": "scatter",
         "x": [
          38690
         ],
         "xaxis": "x",
         "y": [
          -619395.1000000089
         ],
         "yaxis": "y"
        },
        {
         "hovertemplate": "geo=Ireland<br>time_period=2019<br>EV Diff=%{x}<br>emmission_diff=%{y}<extra></extra>",
         "legendgroup": "Ireland, 2019",
         "marker": {
          "color": "#ab63fa",
          "symbol": "cross"
         },
         "mode": "markers",
         "name": "Ireland, 2019",
         "orientation": "v",
         "showlegend": true,
         "type": "scatter",
         "x": [
          66310
         ],
         "xaxis": "x",
         "y": [
          -2231836.700000003
         ],
         "yaxis": "y"
        },
        {
         "hovertemplate": "geo=Ireland<br>time_period=2020<br>EV Diff=%{x}<br>emmission_diff=%{y}<extra></extra>",
         "legendgroup": "Ireland, 2020",
         "marker": {
          "color": "#ab63fa",
          "symbol": "circle"
         },
         "mode": "markers",
         "name": "Ireland, 2020",
         "orientation": "v",
         "showlegend": true,
         "type": "scatter",
         "x": [
          34600
         ],
         "xaxis": "x",
         "y": [
          -3513751.799999997
         ],
         "yaxis": "y"
        },
        {
         "hovertemplate": "geo=Ireland<br>time_period=2021<br>EV Diff=%{x}<br>emmission_diff=%{y}<extra></extra>",
         "legendgroup": "Ireland, 2021",
         "marker": {
          "color": "#ab63fa",
          "symbol": "diamond"
         },
         "mode": "markers",
         "name": "Ireland, 2021",
         "orientation": "v",
         "showlegend": true,
         "type": "scatter",
         "x": [
          9100
         ],
         "xaxis": "x",
         "y": [
          2220447.599999994
         ],
         "yaxis": "y"
        },
        {
         "hovertemplate": "geo=Ireland<br>time_period=2022<br>EV Diff=%{x}<br>emmission_diff=%{y}<extra></extra>",
         "legendgroup": "Ireland, 2022",
         "marker": {
          "color": "#ab63fa",
          "symbol": "square"
         },
         "mode": "markers",
         "name": "Ireland, 2022",
         "orientation": "v",
         "showlegend": true,
         "type": "scatter",
         "x": [
          9840
         ],
         "xaxis": "x",
         "y": [
          122613.40000000596
         ],
         "yaxis": "y"
        },
        {
         "hovertemplate": "geo=Italy<br>time_period=2015<br>EV Diff=%{x}<br>emmission_diff=%{y}<extra></extra>",
         "legendgroup": "Italy, 2015",
         "marker": {
          "color": "#FFA15A",
          "symbol": "circle"
         },
         "mode": "markers",
         "name": "Italy, 2015",
         "orientation": "v",
         "showlegend": true,
         "type": "scatter",
         "x": [
          269325
         ],
         "xaxis": "x",
         "y": [
          11726327.399999976
         ],
         "yaxis": "y"
        },
        {
         "hovertemplate": "geo=Italy<br>time_period=2016<br>EV Diff=%{x}<br>emmission_diff=%{y}<extra></extra>",
         "legendgroup": "Italy, 2016",
         "marker": {
          "color": "#FFA15A",
          "symbol": "diamond"
         },
         "mode": "markers",
         "name": "Italy, 2016",
         "orientation": "v",
         "showlegend": true,
         "type": "scatter",
         "x": [
          523746
         ],
         "xaxis": "x",
         "y": [
          -896138
         ],
         "yaxis": "y"
        },
        {
         "hovertemplate": "geo=Italy<br>time_period=2017<br>EV Diff=%{x}<br>emmission_diff=%{y}<extra></extra>",
         "legendgroup": "Italy, 2017",
         "marker": {
          "color": "#FFA15A",
          "symbol": "square"
         },
         "mode": "markers",
         "name": "Italy, 2017",
         "orientation": "v",
         "showlegend": true,
         "type": "scatter",
         "x": [
          642366
         ],
         "xaxis": "x",
         "y": [
          17360569.800000012
         ],
         "yaxis": "y"
        },
        {
         "hovertemplate": "geo=Italy<br>time_period=2018<br>EV Diff=%{x}<br>emmission_diff=%{y}<extra></extra>",
         "legendgroup": "Italy, 2018",
         "marker": {
          "color": "#FFA15A",
          "symbol": "x"
         },
         "mode": "markers",
         "name": "Italy, 2018",
         "orientation": "v",
         "showlegend": true,
         "type": "scatter",
         "x": [
          493253
         ],
         "xaxis": "x",
         "y": [
          -30884536
         ],
         "yaxis": "y"
        },
        {
         "hovertemplate": "geo=Italy<br>time_period=2019<br>EV Diff=%{x}<br>emmission_diff=%{y}<extra></extra>",
         "legendgroup": "Italy, 2019",
         "marker": {
          "color": "#FFA15A",
          "symbol": "cross"
         },
         "mode": "markers",
         "name": "Italy, 2019",
         "orientation": "v",
         "showlegend": true,
         "type": "scatter",
         "x": [
          516473
         ],
         "xaxis": "x",
         "y": [
          -799233.6000000238
         ],
         "yaxis": "y"
        },
        {
         "hovertemplate": "geo=Italy<br>time_period=2020<br>EV Diff=%{x}<br>emmission_diff=%{y}<extra></extra>",
         "legendgroup": "Italy, 2020",
         "marker": {
          "color": "#FFA15A",
          "symbol": "circle"
         },
         "mode": "markers",
         "name": "Italy, 2020",
         "orientation": "v",
         "showlegend": true,
         "type": "scatter",
         "x": [
          142284
         ],
         "xaxis": "x",
         "y": [
          -36941113.79999995
         ],
         "yaxis": "y"
        },
        {
         "hovertemplate": "geo=Italy<br>time_period=2021<br>EV Diff=%{x}<br>emmission_diff=%{y}<extra></extra>",
         "legendgroup": "Italy, 2021",
         "marker": {
          "color": "#FFA15A",
          "symbol": "diamond"
         },
         "mode": "markers",
         "name": "Italy, 2021",
         "orientation": "v",
         "showlegend": true,
         "type": "scatter",
         "x": [
          39884
         ],
         "xaxis": "x",
         "y": [
          39033699.100000024
         ],
         "yaxis": "y"
        },
        {
         "hovertemplate": "geo=Italy<br>time_period=2022<br>EV Diff=%{x}<br>emmission_diff=%{y}<extra></extra>",
         "legendgroup": "Italy, 2022",
         "marker": {
          "color": "#FFA15A",
          "symbol": "square"
         },
         "mode": "markers",
         "name": "Italy, 2022",
         "orientation": "v",
         "showlegend": true,
         "type": "scatter",
         "x": [
          350230
         ],
         "xaxis": "x",
         "y": [
          -1380736
         ],
         "yaxis": "y"
        },
        {
         "hovertemplate": "geo=Latvia<br>time_period=2015<br>EV Diff=%{x}<br>emmission_diff=%{y}<extra></extra>",
         "legendgroup": "Latvia, 2015",
         "marker": {
          "color": "#19d3f3",
          "symbol": "circle"
         },
         "mode": "markers",
         "name": "Latvia, 2015",
         "orientation": "v",
         "showlegend": true,
         "type": "scatter",
         "x": [
          21226
         ],
         "xaxis": "x",
         "y": [
          -1290038.4000000022
         ],
         "yaxis": "y"
        },
        {
         "hovertemplate": "geo=Latvia<br>time_period=2016<br>EV Diff=%{x}<br>emmission_diff=%{y}<extra></extra>",
         "legendgroup": "Latvia, 2016",
         "marker": {
          "color": "#19d3f3",
          "symbol": "diamond"
         },
         "mode": "markers",
         "name": "Latvia, 2016",
         "orientation": "v",
         "showlegend": true,
         "type": "scatter",
         "x": [
          -14901
         ],
         "xaxis": "x",
         "y": [
          -1871467.4999999981
         ],
         "yaxis": "y"
        },
        {
         "hovertemplate": "geo=Latvia<br>time_period=2017<br>EV Diff=%{x}<br>emmission_diff=%{y}<extra></extra>",
         "legendgroup": "Latvia, 2017",
         "marker": {
          "color": "#19d3f3",
          "symbol": "square"
         },
         "mode": "markers",
         "name": "Latvia, 2017",
         "orientation": "v",
         "showlegend": true,
         "type": "scatter",
         "x": [
          25288
         ],
         "xaxis": "x",
         "y": [
          -1262390.500000001
         ],
         "yaxis": "y"
        },
        {
         "hovertemplate": "geo=Latvia<br>time_period=2018<br>EV Diff=%{x}<br>emmission_diff=%{y}<extra></extra>",
         "legendgroup": "Latvia, 2018",
         "marker": {
          "color": "#19d3f3",
          "symbol": "x"
         },
         "mode": "markers",
         "name": "Latvia, 2018",
         "orientation": "v",
         "showlegend": true,
         "type": "scatter",
         "x": [
          18175
         ],
         "xaxis": "x",
         "y": [
          3027337.3000000017
         ],
         "yaxis": "y"
        },
        {
         "hovertemplate": "geo=Latvia<br>time_period=2019<br>EV Diff=%{x}<br>emmission_diff=%{y}<extra></extra>",
         "legendgroup": "Latvia, 2019",
         "marker": {
          "color": "#19d3f3",
          "symbol": "cross"
         },
         "mode": "markers",
         "name": "Latvia, 2019",
         "orientation": "v",
         "showlegend": true,
         "type": "scatter",
         "x": [
          19107
         ],
         "xaxis": "x",
         "y": [
          -1620999.3000000026
         ],
         "yaxis": "y"
        },
        {
         "hovertemplate": "geo=Latvia<br>time_period=2020<br>EV Diff=%{x}<br>emmission_diff=%{y}<extra></extra>",
         "legendgroup": "Latvia, 2020",
         "marker": {
          "color": "#19d3f3",
          "symbol": "circle"
         },
         "mode": "markers",
         "name": "Latvia, 2020",
         "orientation": "v",
         "showlegend": true,
         "type": "scatter",
         "x": [
          11413
         ],
         "xaxis": "x",
         "y": [
          1654213.2000000011
         ],
         "yaxis": "y"
        },
        {
         "hovertemplate": "geo=Latvia<br>time_period=2021<br>EV Diff=%{x}<br>emmission_diff=%{y}<extra></extra>",
         "legendgroup": "Latvia, 2021",
         "marker": {
          "color": "#19d3f3",
          "symbol": "diamond"
         },
         "mode": "markers",
         "name": "Latvia, 2021",
         "orientation": "v",
         "showlegend": true,
         "type": "scatter",
         "x": [
          18663
         ],
         "xaxis": "x",
         "y": [
          1806511
         ],
         "yaxis": "y"
        },
        {
         "hovertemplate": "geo=Latvia<br>time_period=2022<br>EV Diff=%{x}<br>emmission_diff=%{y}<extra></extra>",
         "legendgroup": "Latvia, 2022",
         "marker": {
          "color": "#19d3f3",
          "symbol": "square"
         },
         "mode": "markers",
         "name": "Latvia, 2022",
         "orientation": "v",
         "showlegend": true,
         "type": "scatter",
         "x": [
          9309
         ],
         "xaxis": "x",
         "y": [
          2316222.1000000015
         ],
         "yaxis": "y"
        },
        {
         "hovertemplate": "geo=Lithuania<br>time_period=2015<br>EV Diff=%{x}<br>emmission_diff=%{y}<extra></extra>",
         "legendgroup": "Lithuania, 2015",
         "marker": {
          "color": "#FF6692",
          "symbol": "circle"
         },
         "mode": "markers",
         "name": "Lithuania, 2015",
         "orientation": "v",
         "showlegend": true,
         "type": "scatter",
         "x": [
          38296
         ],
         "xaxis": "x",
         "y": [
          1382693.5999999996
         ],
         "yaxis": "y"
        },
        {
         "hovertemplate": "geo=Lithuania<br>time_period=2016<br>EV Diff=%{x}<br>emmission_diff=%{y}<extra></extra>",
         "legendgroup": "Lithuania, 2016",
         "marker": {
          "color": "#FF6692",
          "symbol": "diamond"
         },
         "mode": "markers",
         "name": "Lithuania, 2016",
         "orientation": "v",
         "showlegend": true,
         "type": "scatter",
         "x": [
          54485
         ],
         "xaxis": "x",
         "y": [
          735066.5999999996
         ],
         "yaxis": "y"
        },
        {
         "hovertemplate": "geo=Lithuania<br>time_period=2017<br>EV Diff=%{x}<br>emmission_diff=%{y}<extra></extra>",
         "legendgroup": "Lithuania, 2017",
         "marker": {
          "color": "#FF6692",
          "symbol": "square"
         },
         "mode": "markers",
         "name": "Lithuania, 2017",
         "orientation": "v",
         "showlegend": true,
         "type": "scatter",
         "x": [
          57989
         ],
         "xaxis": "x",
         "y": [
          689841.5000000019
         ],
         "yaxis": "y"
        },
        {
         "hovertemplate": "geo=Lithuania<br>time_period=2018<br>EV Diff=%{x}<br>emmission_diff=%{y}<extra></extra>",
         "legendgroup": "Lithuania, 2018",
         "marker": {
          "color": "#FF6692",
          "symbol": "x"
         },
         "mode": "markers",
         "name": "Lithuania, 2018",
         "orientation": "v",
         "showlegend": true,
         "type": "scatter",
         "x": [
          73187
         ],
         "xaxis": "x",
         "y": [
          686762.6999999993
         ],
         "yaxis": "y"
        },
        {
         "hovertemplate": "geo=Lithuania<br>time_period=2019<br>EV Diff=%{x}<br>emmission_diff=%{y}<extra></extra>",
         "legendgroup": "Lithuania, 2019",
         "marker": {
          "color": "#FF6692",
          "symbol": "cross"
         },
         "mode": "markers",
         "name": "Lithuania, 2019",
         "orientation": "v",
         "showlegend": true,
         "type": "scatter",
         "x": [
          67738
         ],
         "xaxis": "x",
         "y": [
          -72800
         ],
         "yaxis": "y"
        },
        {
         "hovertemplate": "geo=Lithuania<br>time_period=2020<br>EV Diff=%{x}<br>emmission_diff=%{y}<extra></extra>",
         "legendgroup": "Lithuania, 2020",
         "marker": {
          "color": "#FF6692",
          "symbol": "circle"
         },
         "mode": "markers",
         "name": "Lithuania, 2020",
         "orientation": "v",
         "showlegend": true,
         "type": "scatter",
         "x": [
          65697
         ],
         "xaxis": "x",
         "y": [
          -573555
         ],
         "yaxis": "y"
        },
        {
         "hovertemplate": "geo=Lithuania<br>time_period=2021<br>EV Diff=%{x}<br>emmission_diff=%{y}<extra></extra>",
         "legendgroup": "Lithuania, 2021",
         "marker": {
          "color": "#FF6692",
          "symbol": "diamond"
         },
         "mode": "markers",
         "name": "Lithuania, 2021",
         "orientation": "v",
         "showlegend": true,
         "type": "scatter",
         "x": [
          43322
         ],
         "xaxis": "x",
         "y": [
          847148.2999999989
         ],
         "yaxis": "y"
        },
        {
         "hovertemplate": "geo=Lithuania<br>time_period=2022<br>EV Diff=%{x}<br>emmission_diff=%{y}<extra></extra>",
         "legendgroup": "Lithuania, 2022",
         "marker": {
          "color": "#FF6692",
          "symbol": "square"
         },
         "mode": "markers",
         "name": "Lithuania, 2022",
         "orientation": "v",
         "showlegend": true,
         "type": "scatter",
         "x": [
          36766
         ],
         "xaxis": "x",
         "y": [
          -1989442.5
         ],
         "yaxis": "y"
        },
        {
         "hovertemplate": "geo=Luxembourg<br>time_period=2015<br>EV Diff=%{x}<br>emmission_diff=%{y}<extra></extra>",
         "legendgroup": "Luxembourg, 2015",
         "marker": {
          "color": "#B6E880",
          "symbol": "circle"
         },
         "mode": "markers",
         "name": "Luxembourg, 2015",
         "orientation": "v",
         "showlegend": true,
         "type": "scatter",
         "x": [
          8220
         ],
         "xaxis": "x",
         "y": [
          -230479.80000000075
         ],
         "yaxis": "y"
        },
        {
         "hovertemplate": "geo=Luxembourg<br>time_period=2016<br>EV Diff=%{x}<br>emmission_diff=%{y}<extra></extra>",
         "legendgroup": "Luxembourg, 2016",
         "marker": {
          "color": "#B6E880",
          "symbol": "diamond"
         },
         "mode": "markers",
         "name": "Luxembourg, 2016",
         "orientation": "v",
         "showlegend": true,
         "type": "scatter",
         "x": [
          9727
         ],
         "xaxis": "x",
         "y": [
          -196508.29999999888
         ],
         "yaxis": "y"
        },
        {
         "hovertemplate": "geo=Luxembourg<br>time_period=2017<br>EV Diff=%{x}<br>emmission_diff=%{y}<extra></extra>",
         "legendgroup": "Luxembourg, 2017",
         "marker": {
          "color": "#B6E880",
          "symbol": "square"
         },
         "mode": "markers",
         "name": "Luxembourg, 2017",
         "orientation": "v",
         "showlegend": true,
         "type": "scatter",
         "x": [
          12062
         ],
         "xaxis": "x",
         "y": [
          511650.5999999996
         ],
         "yaxis": "y"
        },
        {
         "hovertemplate": "geo=Luxembourg<br>time_period=2018<br>EV Diff=%{x}<br>emmission_diff=%{y}<extra></extra>",
         "legendgroup": "Luxembourg, 2018",
         "marker": {
          "color": "#B6E880",
          "symbol": "x"
         },
         "mode": "markers",
         "name": "Luxembourg, 2018",
         "orientation": "v",
         "showlegend": true,
         "type": "scatter",
         "x": [
          11495
         ],
         "xaxis": "x",
         "y": [
          522093.5
         ],
         "yaxis": "y"
        },
        {
         "hovertemplate": "geo=Luxembourg<br>time_period=2019<br>EV Diff=%{x}<br>emmission_diff=%{y}<extra></extra>",
         "legendgroup": "Luxembourg, 2019",
         "marker": {
          "color": "#B6E880",
          "symbol": "cross"
         },
         "mode": "markers",
         "name": "Luxembourg, 2019",
         "orientation": "v",
         "showlegend": true,
         "type": "scatter",
         "x": [
          10342
         ],
         "xaxis": "x",
         "y": [
          -7777.5999999996275
         ],
         "yaxis": "y"
        },
        {
         "hovertemplate": "geo=Luxembourg<br>time_period=2020<br>EV Diff=%{x}<br>emmission_diff=%{y}<extra></extra>",
         "legendgroup": "Luxembourg, 2020",
         "marker": {
          "color": "#B6E880",
          "symbol": "circle"
         },
         "mode": "markers",
         "name": "Luxembourg, 2020",
         "orientation": "v",
         "showlegend": true,
         "type": "scatter",
         "x": [
          5000
         ],
         "xaxis": "x",
         "y": [
          -1889372.8000000007
         ],
         "yaxis": "y"
        },
        {
         "hovertemplate": "geo=Luxembourg<br>time_period=2021<br>EV Diff=%{x}<br>emmission_diff=%{y}<extra></extra>",
         "legendgroup": "Luxembourg, 2021",
         "marker": {
          "color": "#B6E880",
          "symbol": "diamond"
         },
         "mode": "markers",
         "name": "Luxembourg, 2021",
         "orientation": "v",
         "showlegend": true,
         "type": "scatter",
         "x": [
          2808
         ],
         "xaxis": "x",
         "y": [
          457041.4000000004
         ],
         "yaxis": "y"
        },
        {
         "hovertemplate": "geo=Luxembourg<br>time_period=2022<br>EV Diff=%{x}<br>emmission_diff=%{y}<extra></extra>",
         "legendgroup": "Luxembourg, 2022",
         "marker": {
          "color": "#B6E880",
          "symbol": "square"
         },
         "mode": "markers",
         "name": "Luxembourg, 2022",
         "orientation": "v",
         "showlegend": true,
         "type": "scatter",
         "x": [
          -1052
         ],
         "xaxis": "x",
         "y": [
          -1241734.5
         ],
         "yaxis": "y"
        },
        {
         "hovertemplate": "geo=Malta<br>time_period=2015<br>EV Diff=%{x}<br>emmission_diff=%{y}<extra></extra>",
         "legendgroup": "Malta, 2015",
         "marker": {
          "color": "#FF97FF",
          "symbol": "circle"
         },
         "mode": "markers",
         "name": "Malta, 2015",
         "orientation": "v",
         "showlegend": true,
         "type": "scatter",
         "x": [
          9381
         ],
         "xaxis": "x",
         "y": [
          -667165.9000000004
         ],
         "yaxis": "y"
        },
        {
         "hovertemplate": "geo=Malta<br>time_period=2016<br>EV Diff=%{x}<br>emmission_diff=%{y}<extra></extra>",
         "legendgroup": "Malta, 2016",
         "marker": {
          "color": "#FF97FF",
          "symbol": "diamond"
         },
         "mode": "markers",
         "name": "Malta, 2016",
         "orientation": "v",
         "showlegend": true,
         "type": "scatter",
         "x": [
          7537
         ],
         "xaxis": "x",
         "y": [
          -297977
         ],
         "yaxis": "y"
        },
        {
         "hovertemplate": "geo=Malta<br>time_period=2017<br>EV Diff=%{x}<br>emmission_diff=%{y}<extra></extra>",
         "legendgroup": "Malta, 2017",
         "marker": {
          "color": "#FF97FF",
          "symbol": "square"
         },
         "mode": "markers",
         "name": "Malta, 2017",
         "orientation": "v",
         "showlegend": true,
         "type": "scatter",
         "x": [
          8828
         ],
         "xaxis": "x",
         "y": [
          185538.5
         ],
         "yaxis": "y"
        },
        {
         "hovertemplate": "geo=Malta<br>time_period=2018<br>EV Diff=%{x}<br>emmission_diff=%{y}<extra></extra>",
         "legendgroup": "Malta, 2018",
         "marker": {
          "color": "#FF97FF",
          "symbol": "x"
         },
         "mode": "markers",
         "name": "Malta, 2018",
         "orientation": "v",
         "showlegend": true,
         "type": "scatter",
         "x": [
          7928
         ],
         "xaxis": "x",
         "y": [
          80402.3999999999
         ],
         "yaxis": "y"
        },
        {
         "hovertemplate": "geo=Malta<br>time_period=2019<br>EV Diff=%{x}<br>emmission_diff=%{y}<extra></extra>",
         "legendgroup": "Malta, 2019",
         "marker": {
          "color": "#FF97FF",
          "symbol": "cross"
         },
         "mode": "markers",
         "name": "Malta, 2019",
         "orientation": "v",
         "showlegend": true,
         "type": "scatter",
         "x": [
          6610
         ],
         "xaxis": "x",
         "y": [
          94281.20000000019
         ],
         "yaxis": "y"
        },
        {
         "hovertemplate": "geo=Malta<br>time_period=2020<br>EV Diff=%{x}<br>emmission_diff=%{y}<extra></extra>",
         "legendgroup": "Malta, 2020",
         "marker": {
          "color": "#FF97FF",
          "symbol": "circle"
         },
         "mode": "markers",
         "name": "Malta, 2020",
         "orientation": "v",
         "showlegend": true,
         "type": "scatter",
         "x": [
          918
         ],
         "xaxis": "x",
         "y": [
          -298071.6000000001
         ],
         "yaxis": "y"
        },
        {
         "hovertemplate": "geo=Malta<br>time_period=2021<br>EV Diff=%{x}<br>emmission_diff=%{y}<extra></extra>",
         "legendgroup": "Malta, 2021",
         "marker": {
          "color": "#FF97FF",
          "symbol": "diamond"
         },
         "mode": "markers",
         "name": "Malta, 2021",
         "orientation": "v",
         "showlegend": true,
         "type": "scatter",
         "x": [
          4329
         ],
         "xaxis": "x",
         "y": [
          57200.5
         ],
         "yaxis": "y"
        },
        {
         "hovertemplate": "geo=Malta<br>time_period=2022<br>EV Diff=%{x}<br>emmission_diff=%{y}<extra></extra>",
         "legendgroup": "Malta, 2022",
         "marker": {
          "color": "#FF97FF",
          "symbol": "square"
         },
         "mode": "markers",
         "name": "Malta, 2022",
         "orientation": "v",
         "showlegend": true,
         "type": "scatter",
         "x": [
          3037
         ],
         "xaxis": "x",
         "y": [
          278307.5
         ],
         "yaxis": "y"
        },
        {
         "hovertemplate": "geo=Netherlands<br>time_period=2015<br>EV Diff=%{x}<br>emmission_diff=%{y}<extra></extra>",
         "legendgroup": "Netherlands, 2015",
         "marker": {
          "color": "#FECB52",
          "symbol": "circle"
         },
         "mode": "markers",
         "name": "Netherlands, 2015",
         "orientation": "v",
         "showlegend": true,
         "type": "scatter",
         "x": [
          118623
         ],
         "xaxis": "x",
         "y": [
          7624678.099999994
         ],
         "yaxis": "y"
        },
        {
         "hovertemplate": "geo=Netherlands<br>time_period=2016<br>EV Diff=%{x}<br>emmission_diff=%{y}<extra></extra>",
         "legendgroup": "Netherlands, 2016",
         "marker": {
          "color": "#FECB52",
          "symbol": "diamond"
         },
         "mode": "markers",
         "name": "Netherlands, 2016",
         "orientation": "v",
         "showlegend": true,
         "type": "scatter",
         "x": [
          118368
         ],
         "xaxis": "x",
         "y": [
          979925
         ],
         "yaxis": "y"
        },
        {
         "hovertemplate": "geo=Netherlands<br>time_period=2017<br>EV Diff=%{x}<br>emmission_diff=%{y}<extra></extra>",
         "legendgroup": "Netherlands, 2017",
         "marker": {
          "color": "#FECB52",
          "symbol": "square"
         },
         "mode": "markers",
         "name": "Netherlands, 2017",
         "orientation": "v",
         "showlegend": true,
         "type": "scatter",
         "x": [
          142132
         ],
         "xaxis": "x",
         "y": [
          -3844614.600000024
         ],
         "yaxis": "y"
        },
        {
         "hovertemplate": "geo=Netherlands<br>time_period=2018<br>EV Diff=%{x}<br>emmission_diff=%{y}<extra></extra>",
         "legendgroup": "Netherlands, 2018",
         "marker": {
          "color": "#FECB52",
          "symbol": "x"
         },
         "mode": "markers",
         "name": "Netherlands, 2018",
         "orientation": "v",
         "showlegend": true,
         "type": "scatter",
         "x": [
          47006
         ],
         "xaxis": "x",
         "y": [
          -5657594.199999958
         ],
         "yaxis": "y"
        },
        {
         "hovertemplate": "geo=Netherlands<br>time_period=2019<br>EV Diff=%{x}<br>emmission_diff=%{y}<extra></extra>",
         "legendgroup": "Netherlands, 2019",
         "marker": {
          "color": "#FECB52",
          "symbol": "cross"
         },
         "mode": "markers",
         "name": "Netherlands, 2019",
         "orientation": "v",
         "showlegend": true,
         "type": "scatter",
         "x": [
          79755
         ],
         "xaxis": "x",
         "y": [
          -5720133
         ],
         "yaxis": "y"
        },
        {
         "hovertemplate": "geo=Netherlands<br>time_period=2020<br>EV Diff=%{x}<br>emmission_diff=%{y}<extra></extra>",
         "legendgroup": "Netherlands, 2020",
         "marker": {
          "color": "#FECB52",
          "symbol": "circle"
         },
         "mode": "markers",
         "name": "Netherlands, 2020",
         "orientation": "v",
         "showlegend": true,
         "type": "scatter",
         "x": [
          34462
         ],
         "xaxis": "x",
         "y": [
          -21200049.700000018
         ],
         "yaxis": "y"
        },
        {
         "hovertemplate": "geo=Netherlands<br>time_period=2021<br>EV Diff=%{x}<br>emmission_diff=%{y}<extra></extra>",
         "legendgroup": "Netherlands, 2021",
         "marker": {
          "color": "#FECB52",
          "symbol": "diamond"
         },
         "mode": "markers",
         "name": "Netherlands, 2021",
         "orientation": "v",
         "showlegend": true,
         "type": "scatter",
         "x": [
          69989
         ],
         "xaxis": "x",
         "y": [
          2432624.5
         ],
         "yaxis": "y"
        },
        {
         "hovertemplate": "geo=Netherlands<br>time_period=2022<br>EV Diff=%{x}<br>emmission_diff=%{y}<extra></extra>",
         "legendgroup": "Netherlands, 2022",
         "marker": {
          "color": "#FECB52",
          "symbol": "square"
         },
         "mode": "markers",
         "name": "Netherlands, 2022",
         "orientation": "v",
         "showlegend": true,
         "type": "scatter",
         "x": [
          4375
         ],
         "xaxis": "x",
         "y": [
          -11137849
         ],
         "yaxis": "y"
        },
        {
         "hovertemplate": "geo=Poland<br>time_period=2015<br>EV Diff=%{x}<br>emmission_diff=%{y}<extra></extra>",
         "legendgroup": "Poland, 2015",
         "marker": {
          "color": "#636efa",
          "symbol": "circle"
         },
         "mode": "markers",
         "name": "Poland, 2015",
         "orientation": "v",
         "showlegend": true,
         "type": "scatter",
         "x": [
          -1992154
         ],
         "xaxis": "x",
         "y": [
          3689159.199999988
         ],
         "yaxis": "y"
        },
        {
         "hovertemplate": "geo=Poland<br>time_period=2016<br>EV Diff=%{x}<br>emmission_diff=%{y}<extra></extra>",
         "legendgroup": "Poland, 2016",
         "marker": {
          "color": "#636efa",
          "symbol": "diamond"
         },
         "mode": "markers",
         "name": "Poland, 2016",
         "orientation": "v",
         "showlegend": true,
         "type": "scatter",
         "x": [
          706504
         ],
         "xaxis": "x",
         "y": [
          7240115.8000000715
         ],
         "yaxis": "y"
        },
        {
         "hovertemplate": "geo=Poland<br>time_period=2017<br>EV Diff=%{x}<br>emmission_diff=%{y}<extra></extra>",
         "legendgroup": "Poland, 2017",
         "marker": {
          "color": "#636efa",
          "symbol": "square"
         },
         "mode": "markers",
         "name": "Poland, 2017",
         "orientation": "v",
         "showlegend": true,
         "type": "scatter",
         "x": [
          547161
         ],
         "xaxis": "x",
         "y": [
          11445986.199999928
         ],
         "yaxis": "y"
        },
        {
         "hovertemplate": "geo=Poland<br>time_period=2018<br>EV Diff=%{x}<br>emmission_diff=%{y}<extra></extra>",
         "legendgroup": "Poland, 2018",
         "marker": {
          "color": "#636efa",
          "symbol": "x"
         },
         "mode": "markers",
         "name": "Poland, 2018",
         "orientation": "v",
         "showlegend": true,
         "type": "scatter",
         "x": [
          642867
         ],
         "xaxis": "x",
         "y": [
          3833781.8000000715
         ],
         "yaxis": "y"
        },
        {
         "hovertemplate": "geo=Poland<br>time_period=2019<br>EV Diff=%{x}<br>emmission_diff=%{y}<extra></extra>",
         "legendgroup": "Poland, 2019",
         "marker": {
          "color": "#636efa",
          "symbol": "cross"
         },
         "mode": "markers",
         "name": "Poland, 2019",
         "orientation": "v",
         "showlegend": true,
         "type": "scatter",
         "x": [
          631059
         ],
         "xaxis": "x",
         "y": [
          -3835256.2000000477
         ],
         "yaxis": "y"
        },
        {
         "hovertemplate": "geo=Poland<br>time_period=2020<br>EV Diff=%{x}<br>emmission_diff=%{y}<extra></extra>",
         "legendgroup": "Poland, 2020",
         "marker": {
          "color": "#636efa",
          "symbol": "circle"
         },
         "mode": "markers",
         "name": "Poland, 2020",
         "orientation": "v",
         "showlegend": true,
         "type": "scatter",
         "x": [
          436945
         ],
         "xaxis": "x",
         "y": [
          -19121406.800000012
         ],
         "yaxis": "y"
        },
        {
         "hovertemplate": "geo=Poland<br>time_period=2021<br>EV Diff=%{x}<br>emmission_diff=%{y}<extra></extra>",
         "legendgroup": "Poland, 2021",
         "marker": {
          "color": "#636efa",
          "symbol": "diamond"
         },
         "mode": "markers",
         "name": "Poland, 2021",
         "orientation": "v",
         "showlegend": true,
         "type": "scatter",
         "x": [
          361723
         ],
         "xaxis": "x",
         "y": [
          28933371.800000012
         ],
         "yaxis": "y"
        },
        {
         "hovertemplate": "geo=Poland<br>time_period=2022<br>EV Diff=%{x}<br>emmission_diff=%{y}<extra></extra>",
         "legendgroup": "Poland, 2022",
         "marker": {
          "color": "#636efa",
          "symbol": "square"
         },
         "mode": "markers",
         "name": "Poland, 2022",
         "orientation": "v",
         "showlegend": true,
         "type": "scatter",
         "x": [
          89361
         ],
         "xaxis": "x",
         "y": [
          -31384487.99999994
         ],
         "yaxis": "y"
        },
        {
         "hovertemplate": "geo=Portugal<br>time_period=2015<br>EV Diff=%{x}<br>emmission_diff=%{y}<extra></extra>",
         "legendgroup": "Portugal, 2015",
         "marker": {
          "color": "#EF553B",
          "symbol": "circle"
         },
         "mode": "markers",
         "name": "Portugal, 2015",
         "orientation": "v",
         "showlegend": true,
         "type": "scatter",
         "x": [
          22592
         ],
         "xaxis": "x",
         "y": [
          5948143.6999999955
         ],
         "yaxis": "y"
        },
        {
         "hovertemplate": "geo=Portugal<br>time_period=2016<br>EV Diff=%{x}<br>emmission_diff=%{y}<extra></extra>",
         "legendgroup": "Portugal, 2016",
         "marker": {
          "color": "#EF553B",
          "symbol": "diamond"
         },
         "mode": "markers",
         "name": "Portugal, 2016",
         "orientation": "v",
         "showlegend": true,
         "type": "scatter",
         "x": [
          126281
         ],
         "xaxis": "x",
         "y": [
          2937880.700000003
         ],
         "yaxis": "y"
        },
        {
         "hovertemplate": "geo=Portugal<br>time_period=2017<br>EV Diff=%{x}<br>emmission_diff=%{y}<extra></extra>",
         "legendgroup": "Portugal, 2017",
         "marker": {
          "color": "#EF553B",
          "symbol": "square"
         },
         "mode": "markers",
         "name": "Portugal, 2017",
         "orientation": "v",
         "showlegend": true,
         "type": "scatter",
         "x": [
          206959
         ],
         "xaxis": "x",
         "y": [
          25697478.200000003
         ],
         "yaxis": "y"
        },
        {
         "hovertemplate": "geo=Portugal<br>time_period=2018<br>EV Diff=%{x}<br>emmission_diff=%{y}<extra></extra>",
         "legendgroup": "Portugal, 2018",
         "marker": {
          "color": "#EF553B",
          "symbol": "x"
         },
         "mode": "markers",
         "name": "Portugal, 2018",
         "orientation": "v",
         "showlegend": true,
         "type": "scatter",
         "x": [
          218185
         ],
         "xaxis": "x",
         "y": [
          -27987563.400000006
         ],
         "yaxis": "y"
        },
        {
         "hovertemplate": "geo=Portugal<br>time_period=2019<br>EV Diff=%{x}<br>emmission_diff=%{y}<extra></extra>",
         "legendgroup": "Portugal, 2019",
         "marker": {
          "color": "#EF553B",
          "symbol": "cross"
         },
         "mode": "markers",
         "name": "Portugal, 2019",
         "orientation": "v",
         "showlegend": true,
         "type": "scatter",
         "x": [
          160990
         ],
         "xaxis": "x",
         "y": [
          -4148406.799999997
         ],
         "yaxis": "y"
        },
        {
         "hovertemplate": "geo=Portugal<br>time_period=2020<br>EV Diff=%{x}<br>emmission_diff=%{y}<extra></extra>",
         "legendgroup": "Portugal, 2020",
         "marker": {
          "color": "#EF553B",
          "symbol": "circle"
         },
         "mode": "markers",
         "name": "Portugal, 2020",
         "orientation": "v",
         "showlegend": true,
         "type": "scatter",
         "x": [
          105034
         ],
         "xaxis": "x",
         "y": [
          -9078081.700000003
         ],
         "yaxis": "y"
        },
        {
         "hovertemplate": "geo=Portugal<br>time_period=2021<br>EV Diff=%{x}<br>emmission_diff=%{y}<extra></extra>",
         "legendgroup": "Portugal, 2021",
         "marker": {
          "color": "#EF553B",
          "symbol": "diamond"
         },
         "mode": "markers",
         "name": "Portugal, 2021",
         "orientation": "v",
         "showlegend": true,
         "type": "scatter",
         "x": [
          50321
         ],
         "xaxis": "x",
         "y": [
          -3018108.5
         ],
         "yaxis": "y"
        },
        {
         "hovertemplate": "geo=Portugal<br>time_period=2022<br>EV Diff=%{x}<br>emmission_diff=%{y}<extra></extra>",
         "legendgroup": "Portugal, 2022",
         "marker": {
          "color": "#EF553B",
          "symbol": "square"
         },
         "mode": "markers",
         "name": "Portugal, 2022",
         "orientation": "v",
         "showlegend": true,
         "type": "scatter",
         "x": [
          121902
         ],
         "xaxis": "x",
         "y": [
          2218323.3999999985
         ],
         "yaxis": "y"
        },
        {
         "hovertemplate": "geo=Romania<br>time_period=2015<br>EV Diff=%{x}<br>emmission_diff=%{y}<extra></extra>",
         "legendgroup": "Romania, 2015",
         "marker": {
          "color": "#00cc96",
          "symbol": "circle"
         },
         "mode": "markers",
         "name": "Romania, 2015",
         "orientation": "v",
         "showlegend": true,
         "type": "scatter",
         "x": [
          246369
         ],
         "xaxis": "x",
         "y": [
          -268324
         ],
         "yaxis": "y"
        },
        {
         "hovertemplate": "geo=Romania<br>time_period=2016<br>EV Diff=%{x}<br>emmission_diff=%{y}<extra></extra>",
         "legendgroup": "Romania, 2016",
         "marker": {
          "color": "#00cc96",
          "symbol": "diamond"
         },
         "mode": "markers",
         "name": "Romania, 2016",
         "orientation": "v",
         "showlegend": true,
         "type": "scatter",
         "x": [
          314879
         ],
         "xaxis": "x",
         "y": [
          -4337334
         ],
         "yaxis": "y"
        },
        {
         "hovertemplate": "geo=Romania<br>time_period=2017<br>EV Diff=%{x}<br>emmission_diff=%{y}<extra></extra>",
         "legendgroup": "Romania, 2017",
         "marker": {
          "color": "#00cc96",
          "symbol": "square"
         },
         "mode": "markers",
         "name": "Romania, 2017",
         "orientation": "v",
         "showlegend": true,
         "type": "scatter",
         "x": [
          522172
         ],
         "xaxis": "x",
         "y": [
          5508285.900000006
         ],
         "yaxis": "y"
        },
        {
         "hovertemplate": "geo=Romania<br>time_period=2018<br>EV Diff=%{x}<br>emmission_diff=%{y}<extra></extra>",
         "legendgroup": "Romania, 2018",
         "marker": {
          "color": "#00cc96",
          "symbol": "x"
         },
         "mode": "markers",
         "name": "Romania, 2018",
         "orientation": "v",
         "showlegend": true,
         "type": "scatter",
         "x": [
          463186
         ],
         "xaxis": "x",
         "y": [
          1555663.299999997
         ],
         "yaxis": "y"
        },
        {
         "hovertemplate": "geo=Romania<br>time_period=2019<br>EV Diff=%{x}<br>emmission_diff=%{y}<extra></extra>",
         "legendgroup": "Romania, 2019",
         "marker": {
          "color": "#00cc96",
          "symbol": "cross"
         },
         "mode": "markers",
         "name": "Romania, 2019",
         "orientation": "v",
         "showlegend": true,
         "type": "scatter",
         "x": [
          448753
         ],
         "xaxis": "x",
         "y": [
          -2381830.900000006
         ],
         "yaxis": "y"
        },
        {
         "hovertemplate": "geo=Romania<br>time_period=2020<br>EV Diff=%{x}<br>emmission_diff=%{y}<extra></extra>",
         "legendgroup": "Romania, 2020",
         "marker": {
          "color": "#00cc96",
          "symbol": "circle"
         },
         "mode": "markers",
         "name": "Romania, 2020",
         "orientation": "v",
         "showlegend": true,
         "type": "scatter",
         "x": [
          368739
         ],
         "xaxis": "x",
         "y": [
          -8039767.1999999955
         ],
         "yaxis": "y"
        },
        {
         "hovertemplate": "geo=Romania<br>time_period=2021<br>EV Diff=%{x}<br>emmission_diff=%{y}<extra></extra>",
         "legendgroup": "Romania, 2021",
         "marker": {
          "color": "#00cc96",
          "symbol": "diamond"
         },
         "mode": "markers",
         "name": "Romania, 2021",
         "orientation": "v",
         "showlegend": true,
         "type": "scatter",
         "x": [
          329681
         ],
         "xaxis": "x",
         "y": [
          5353535.3999999985
         ],
         "yaxis": "y"
        },
        {
         "hovertemplate": "geo=Romania<br>time_period=2022<br>EV Diff=%{x}<br>emmission_diff=%{y}<extra></extra>",
         "legendgroup": "Romania, 2022",
         "marker": {
          "color": "#00cc96",
          "symbol": "square"
         },
         "mode": "markers",
         "name": "Romania, 2022",
         "orientation": "v",
         "showlegend": true,
         "type": "scatter",
         "x": [
          241889
         ],
         "xaxis": "x",
         "y": [
          -4365715.5
         ],
         "yaxis": "y"
        },
        {
         "hovertemplate": "geo=Slovakia<br>time_period=2015<br>EV Diff=%{x}<br>emmission_diff=%{y}<extra></extra>",
         "legendgroup": "Slovakia, 2015",
         "marker": {
          "color": "#ab63fa",
          "symbol": "circle"
         },
         "mode": "markers",
         "name": "Slovakia, 2015",
         "orientation": "v",
         "showlegend": true,
         "type": "scatter",
         "x": [
          85450
         ],
         "xaxis": "x",
         "y": [
          577234.8999999985
         ],
         "yaxis": "y"
        },
        {
         "hovertemplate": "geo=Slovakia<br>time_period=2016<br>EV Diff=%{x}<br>emmission_diff=%{y}<extra></extra>",
         "legendgroup": "Slovakia, 2016",
         "marker": {
          "color": "#ab63fa",
          "symbol": "diamond"
         },
         "mode": "markers",
         "name": "Slovakia, 2016",
         "orientation": "v",
         "showlegend": true,
         "type": "scatter",
         "x": [
          87139
         ],
         "xaxis": "x",
         "y": [
          574985
         ],
         "yaxis": "y"
        },
        {
         "hovertemplate": "geo=Slovakia<br>time_period=2017<br>EV Diff=%{x}<br>emmission_diff=%{y}<extra></extra>",
         "legendgroup": "Slovakia, 2017",
         "marker": {
          "color": "#ab63fa",
          "symbol": "square"
         },
         "mode": "markers",
         "name": "Slovakia, 2017",
         "orientation": "v",
         "showlegend": true,
         "type": "scatter",
         "x": [
          101143
         ],
         "xaxis": "x",
         "y": [
          1147978.3000000045
         ],
         "yaxis": "y"
        },
        {
         "hovertemplate": "geo=Slovakia<br>time_period=2018<br>EV Diff=%{x}<br>emmission_diff=%{y}<extra></extra>",
         "legendgroup": "Slovakia, 2018",
         "marker": {
          "color": "#ab63fa",
          "symbol": "x"
         },
         "mode": "markers",
         "name": "Slovakia, 2018",
         "orientation": "v",
         "showlegend": true,
         "type": "scatter",
         "x": [
          98094
         ],
         "xaxis": "x",
         "y": [
          597973.299999997
         ],
         "yaxis": "y"
        },
        {
         "hovertemplate": "geo=Slovakia<br>time_period=2019<br>EV Diff=%{x}<br>emmission_diff=%{y}<extra></extra>",
         "legendgroup": "Slovakia, 2019",
         "marker": {
          "color": "#ab63fa",
          "symbol": "cross"
         },
         "mode": "markers",
         "name": "Slovakia, 2019",
         "orientation": "v",
         "showlegend": true,
         "type": "scatter",
         "x": [
          71808
         ],
         "xaxis": "x",
         "y": [
          -3219145.6000000015
         ],
         "yaxis": "y"
        },
        {
         "hovertemplate": "geo=Slovakia<br>time_period=2020<br>EV Diff=%{x}<br>emmission_diff=%{y}<extra></extra>",
         "legendgroup": "Slovakia, 2020",
         "marker": {
          "color": "#ab63fa",
          "symbol": "circle"
         },
         "mode": "markers",
         "name": "Slovakia, 2020",
         "orientation": "v",
         "showlegend": true,
         "type": "scatter",
         "x": [
          45502
         ],
         "xaxis": "x",
         "y": [
          -4864392.8999999985
         ],
         "yaxis": "y"
        },
        {
         "hovertemplate": "geo=Slovakia<br>time_period=2021<br>EV Diff=%{x}<br>emmission_diff=%{y}<extra></extra>",
         "legendgroup": "Slovakia, 2021",
         "marker": {
          "color": "#ab63fa",
          "symbol": "diamond"
         },
         "mode": "markers",
         "name": "Slovakia, 2021",
         "orientation": "v",
         "showlegend": true,
         "type": "scatter",
         "x": [
          52059
         ],
         "xaxis": "x",
         "y": [
          4378318.799999997
         ],
         "yaxis": "y"
        },
        {
         "hovertemplate": "geo=Slovakia<br>time_period=2022<br>EV Diff=%{x}<br>emmission_diff=%{y}<extra></extra>",
         "legendgroup": "Slovakia, 2022",
         "marker": {
          "color": "#ab63fa",
          "symbol": "square"
         },
         "mode": "markers",
         "name": "Slovakia, 2022",
         "orientation": "v",
         "showlegend": true,
         "type": "scatter",
         "x": [
          60778
         ],
         "xaxis": "x",
         "y": [
          -4505704.299999997
         ],
         "yaxis": "y"
        },
        {
         "hovertemplate": "geo=Slovenia<br>time_period=2015<br>EV Diff=%{x}<br>emmission_diff=%{y}<extra></extra>",
         "legendgroup": "Slovenia, 2015",
         "marker": {
          "color": "#FFA15A",
          "symbol": "circle"
         },
         "mode": "markers",
         "name": "Slovenia, 2015",
         "orientation": "v",
         "showlegend": true,
         "type": "scatter",
         "x": [
          10220
         ],
         "xaxis": "x",
         "y": [
          221315
         ],
         "yaxis": "y"
        },
        {
         "hovertemplate": "geo=Slovenia<br>time_period=2016<br>EV Diff=%{x}<br>emmission_diff=%{y}<extra></extra>",
         "legendgroup": "Slovenia, 2016",
         "marker": {
          "color": "#FFA15A",
          "symbol": "diamond"
         },
         "mode": "markers",
         "name": "Slovenia, 2016",
         "orientation": "v",
         "showlegend": true,
         "type": "scatter",
         "x": [
          17617
         ],
         "xaxis": "x",
         "y": [
          1043263
         ],
         "yaxis": "y"
        },
        {
         "hovertemplate": "geo=Slovenia<br>time_period=2017<br>EV Diff=%{x}<br>emmission_diff=%{y}<extra></extra>",
         "legendgroup": "Slovenia, 2017",
         "marker": {
          "color": "#FFA15A",
          "symbol": "square"
         },
         "mode": "markers",
         "name": "Slovenia, 2017",
         "orientation": "v",
         "showlegend": true,
         "type": "scatter",
         "x": [
          21090
         ],
         "xaxis": "x",
         "y": [
          15363
         ],
         "yaxis": "y"
        },
        {
         "hovertemplate": "geo=Slovenia<br>time_period=2018<br>EV Diff=%{x}<br>emmission_diff=%{y}<extra></extra>",
         "legendgroup": "Slovenia, 2018",
         "marker": {
          "color": "#FFA15A",
          "symbol": "x"
         },
         "mode": "markers",
         "name": "Slovenia, 2018",
         "orientation": "v",
         "showlegend": true,
         "type": "scatter",
         "x": [
          24686
         ],
         "xaxis": "x",
         "y": [
          -197823
         ],
         "yaxis": "y"
        },
        {
         "hovertemplate": "geo=Slovenia<br>time_period=2019<br>EV Diff=%{x}<br>emmission_diff=%{y}<extra></extra>",
         "legendgroup": "Slovenia, 2019",
         "marker": {
          "color": "#FFA15A",
          "symbol": "cross"
         },
         "mode": "markers",
         "name": "Slovenia, 2019",
         "orientation": "v",
         "showlegend": true,
         "type": "scatter",
         "x": [
          21531
         ],
         "xaxis": "x",
         "y": [
          -1956058.7999999989
         ],
         "yaxis": "y"
        },
        {
         "hovertemplate": "geo=Slovenia<br>time_period=2020<br>EV Diff=%{x}<br>emmission_diff=%{y}<extra></extra>",
         "legendgroup": "Slovenia, 2020",
         "marker": {
          "color": "#FFA15A",
          "symbol": "circle"
         },
         "mode": "markers",
         "name": "Slovenia, 2020",
         "orientation": "v",
         "showlegend": true,
         "type": "scatter",
         "x": [
          3647
         ],
         "xaxis": "x",
         "y": [
          -929801.8000000007
         ],
         "yaxis": "y"
        },
        {
         "hovertemplate": "geo=Slovenia<br>time_period=2021<br>EV Diff=%{x}<br>emmission_diff=%{y}<extra></extra>",
         "legendgroup": "Slovenia, 2021",
         "marker": {
          "color": "#FFA15A",
          "symbol": "diamond"
         },
         "mode": "markers",
         "name": "Slovenia, 2021",
         "orientation": "v",
         "showlegend": true,
         "type": "scatter",
         "x": [
          17024
         ],
         "xaxis": "x",
         "y": [
          307956.0999999996
         ],
         "yaxis": "y"
        },
        {
         "hovertemplate": "geo=Slovenia<br>time_period=2022<br>EV Diff=%{x}<br>emmission_diff=%{y}<extra></extra>",
         "legendgroup": "Slovenia, 2022",
         "marker": {
          "color": "#FFA15A",
          "symbol": "square"
         },
         "mode": "markers",
         "name": "Slovenia, 2022",
         "orientation": "v",
         "showlegend": true,
         "type": "scatter",
         "x": [
          15734
         ],
         "xaxis": "x",
         "y": [
          -434913.5
         ],
         "yaxis": "y"
        },
        {
         "hovertemplate": "geo=Spain<br>time_period=2015<br>EV Diff=%{x}<br>emmission_diff=%{y}<extra></extra>",
         "legendgroup": "Spain, 2015",
         "marker": {
          "color": "#19d3f3",
          "symbol": "circle"
         },
         "mode": "markers",
         "name": "Spain, 2015",
         "orientation": "v",
         "showlegend": true,
         "type": "scatter",
         "x": [
          323626
         ],
         "xaxis": "x",
         "y": [
          8844005.800000012
         ],
         "yaxis": "y"
        },
        {
         "hovertemplate": "geo=Spain<br>time_period=2016<br>EV Diff=%{x}<br>emmission_diff=%{y}<extra></extra>",
         "legendgroup": "Spain, 2016",
         "marker": {
          "color": "#19d3f3",
          "symbol": "diamond"
         },
         "mode": "markers",
         "name": "Spain, 2016",
         "orientation": "v",
         "showlegend": true,
         "type": "scatter",
         "x": [
          1648874
         ],
         "xaxis": "x",
         "y": [
          -9328223.800000012
         ],
         "yaxis": "y"
        },
        {
         "hovertemplate": "geo=Spain<br>time_period=2017<br>EV Diff=%{x}<br>emmission_diff=%{y}<extra></extra>",
         "legendgroup": "Spain, 2017",
         "marker": {
          "color": "#19d3f3",
          "symbol": "square"
         },
         "mode": "markers",
         "name": "Spain, 2017",
         "orientation": "v",
         "showlegend": true,
         "type": "scatter",
         "x": [
          662053
         ],
         "xaxis": "x",
         "y": [
          9794085.300000012
         ],
         "yaxis": "y"
        },
        {
         "hovertemplate": "geo=Spain<br>time_period=2018<br>EV Diff=%{x}<br>emmission_diff=%{y}<extra></extra>",
         "legendgroup": "Spain, 2018",
         "marker": {
          "color": "#19d3f3",
          "symbol": "x"
         },
         "mode": "markers",
         "name": "Spain, 2018",
         "orientation": "v",
         "showlegend": true,
         "type": "scatter",
         "x": [
          627093
         ],
         "xaxis": "x",
         "y": [
          -3704606.5
         ],
         "yaxis": "y"
        },
        {
         "hovertemplate": "geo=Spain<br>time_period=2019<br>EV Diff=%{x}<br>emmission_diff=%{y}<extra></extra>",
         "legendgroup": "Spain, 2019",
         "marker": {
          "color": "#19d3f3",
          "symbol": "cross"
         },
         "mode": "markers",
         "name": "Spain, 2019",
         "orientation": "v",
         "showlegend": true,
         "type": "scatter",
         "x": [
          522063
         ],
         "xaxis": "x",
         "y": [
          -17014742
         ],
         "yaxis": "y"
        },
        {
         "hovertemplate": "geo=Spain<br>time_period=2020<br>EV Diff=%{x}<br>emmission_diff=%{y}<extra></extra>",
         "legendgroup": "Spain, 2020",
         "marker": {
          "color": "#19d3f3",
          "symbol": "circle"
         },
         "mode": "markers",
         "name": "Spain, 2020",
         "orientation": "v",
         "showlegend": true,
         "type": "scatter",
         "x": [
          180748
         ],
         "xaxis": "x",
         "y": [
          -49655260.99999997
         ],
         "yaxis": "y"
        },
        {
         "hovertemplate": "geo=Spain<br>time_period=2021<br>EV Diff=%{x}<br>emmission_diff=%{y}<extra></extra>",
         "legendgroup": "Spain, 2021",
         "marker": {
          "color": "#19d3f3",
          "symbol": "diamond"
         },
         "mode": "markers",
         "name": "Spain, 2021",
         "orientation": "v",
         "showlegend": true,
         "type": "scatter",
         "x": [
          236644
         ],
         "xaxis": "x",
         "y": [
          19365784.399999976
         ],
         "yaxis": "y"
        },
        {
         "hovertemplate": "geo=Spain<br>time_period=2022<br>EV Diff=%{x}<br>emmission_diff=%{y}<extra></extra>",
         "legendgroup": "Spain, 2022",
         "marker": {
          "color": "#19d3f3",
          "symbol": "square"
         },
         "mode": "markers",
         "name": "Spain, 2022",
         "orientation": "v",
         "showlegend": true,
         "type": "scatter",
         "x": [
          281994
         ],
         "xaxis": "x",
         "y": [
          9953407.099999994
         ],
         "yaxis": "y"
        },
        {
         "hovertemplate": "geo=Sweden<br>time_period=2015<br>EV Diff=%{x}<br>emmission_diff=%{y}<extra></extra>",
         "legendgroup": "Sweden, 2015",
         "marker": {
          "color": "#FF6692",
          "symbol": "circle"
         },
         "mode": "markers",
         "name": "Sweden, 2015",
         "orientation": "v",
         "showlegend": true,
         "type": "scatter",
         "x": [
          80957
         ],
         "xaxis": "x",
         "y": [
          1959720.1
         ],
         "yaxis": "y"
        },
        {
         "hovertemplate": "geo=Sweden<br>time_period=2016<br>EV Diff=%{x}<br>emmission_diff=%{y}<extra></extra>",
         "legendgroup": "Sweden, 2016",
         "marker": {
          "color": "#FF6692",
          "symbol": "diamond"
         },
         "mode": "markers",
         "name": "Sweden, 2016",
         "orientation": "v",
         "showlegend": true,
         "type": "scatter",
         "x": [
          96214
         ],
         "xaxis": "x",
         "y": [
          2001302
         ],
         "yaxis": "y"
        },
        {
         "hovertemplate": "geo=Sweden<br>time_period=2017<br>EV Diff=%{x}<br>emmission_diff=%{y}<extra></extra>",
         "legendgroup": "Sweden, 2017",
         "marker": {
          "color": "#FF6692",
          "symbol": "square"
         },
         "mode": "markers",
         "name": "Sweden, 2017",
         "orientation": "v",
         "showlegend": true,
         "type": "scatter",
         "x": [
          74048
         ],
         "xaxis": "x",
         "y": [
          5069644.5
         ],
         "yaxis": "y"
        },
        {
         "hovertemplate": "geo=Sweden<br>time_period=2018<br>EV Diff=%{x}<br>emmission_diff=%{y}<extra></extra>",
         "legendgroup": "Sweden, 2018",
         "marker": {
          "color": "#FF6692",
          "symbol": "x"
         },
         "mode": "markers",
         "name": "Sweden, 2018",
         "orientation": "v",
         "showlegend": true,
         "type": "scatter",
         "x": [
          19519
         ],
         "xaxis": "x",
         "y": [
          6197234.200000001
         ],
         "yaxis": "y"
        },
        {
         "hovertemplate": "geo=Sweden<br>time_period=2019<br>EV Diff=%{x}<br>emmission_diff=%{y}<extra></extra>",
         "legendgroup": "Sweden, 2019",
         "marker": {
          "color": "#FF6692",
          "symbol": "cross"
         },
         "mode": "markers",
         "name": "Sweden, 2019",
         "orientation": "v",
         "showlegend": true,
         "type": "scatter",
         "x": [
          3460
         ],
         "xaxis": "x",
         "y": [
          -3916165.200000001
         ],
         "yaxis": "y"
        },
        {
         "hovertemplate": "geo=Sweden<br>time_period=2020<br>EV Diff=%{x}<br>emmission_diff=%{y}<extra></extra>",
         "legendgroup": "Sweden, 2020",
         "marker": {
          "color": "#FF6692",
          "symbol": "circle"
         },
         "mode": "markers",
         "name": "Sweden, 2020",
         "orientation": "v",
         "showlegend": true,
         "type": "scatter",
         "x": [
          30730
         ],
         "xaxis": "x",
         "y": [
          -8145186.4
         ],
         "yaxis": "y"
        },
        {
         "hovertemplate": "geo=Sweden<br>time_period=2021<br>EV Diff=%{x}<br>emmission_diff=%{y}<extra></extra>",
         "legendgroup": "Sweden, 2021",
         "marker": {
          "color": "#FF6692",
          "symbol": "diamond"
         },
         "mode": "markers",
         "name": "Sweden, 2021",
         "orientation": "v",
         "showlegend": true,
         "type": "scatter",
         "x": [
          -11706
         ],
         "xaxis": "x",
         "y": [
          1058611.9
         ],
         "yaxis": "y"
        },
        {
         "hovertemplate": "geo=Sweden<br>time_period=2022<br>EV Diff=%{x}<br>emmission_diff=%{y}<extra></extra>",
         "legendgroup": "Sweden, 2022",
         "marker": {
          "color": "#FF6692",
          "symbol": "square"
         },
         "mode": "markers",
         "name": "Sweden, 2022",
         "orientation": "v",
         "showlegend": true,
         "type": "scatter",
         "x": [
          -93748
         ],
         "xaxis": "x",
         "y": [
          1081748.0999999996
         ],
         "yaxis": "y"
        }
       ],
       "layout": {
        "legend": {
         "title": {
          "text": "geo, time_period"
         },
         "tracegroupgap": 0
        },
        "template": {
         "data": {
          "bar": [
           {
            "error_x": {
             "color": "#2a3f5f"
            },
            "error_y": {
             "color": "#2a3f5f"
            },
            "marker": {
             "line": {
              "color": "#E5ECF6",
              "width": 0.5
             },
             "pattern": {
              "fillmode": "overlay",
              "size": 10,
              "solidity": 0.2
             }
            },
            "type": "bar"
           }
          ],
          "barpolar": [
           {
            "marker": {
             "line": {
              "color": "#E5ECF6",
              "width": 0.5
             },
             "pattern": {
              "fillmode": "overlay",
              "size": 10,
              "solidity": 0.2
             }
            },
            "type": "barpolar"
           }
          ],
          "carpet": [
           {
            "aaxis": {
             "endlinecolor": "#2a3f5f",
             "gridcolor": "white",
             "linecolor": "white",
             "minorgridcolor": "white",
             "startlinecolor": "#2a3f5f"
            },
            "baxis": {
             "endlinecolor": "#2a3f5f",
             "gridcolor": "white",
             "linecolor": "white",
             "minorgridcolor": "white",
             "startlinecolor": "#2a3f5f"
            },
            "type": "carpet"
           }
          ],
          "choropleth": [
           {
            "colorbar": {
             "outlinewidth": 0,
             "ticks": ""
            },
            "type": "choropleth"
           }
          ],
          "contour": [
           {
            "colorbar": {
             "outlinewidth": 0,
             "ticks": ""
            },
            "colorscale": [
             [
              0,
              "#0d0887"
             ],
             [
              0.1111111111111111,
              "#46039f"
             ],
             [
              0.2222222222222222,
              "#7201a8"
             ],
             [
              0.3333333333333333,
              "#9c179e"
             ],
             [
              0.4444444444444444,
              "#bd3786"
             ],
             [
              0.5555555555555556,
              "#d8576b"
             ],
             [
              0.6666666666666666,
              "#ed7953"
             ],
             [
              0.7777777777777778,
              "#fb9f3a"
             ],
             [
              0.8888888888888888,
              "#fdca26"
             ],
             [
              1,
              "#f0f921"
             ]
            ],
            "type": "contour"
           }
          ],
          "contourcarpet": [
           {
            "colorbar": {
             "outlinewidth": 0,
             "ticks": ""
            },
            "type": "contourcarpet"
           }
          ],
          "heatmap": [
           {
            "colorbar": {
             "outlinewidth": 0,
             "ticks": ""
            },
            "colorscale": [
             [
              0,
              "#0d0887"
             ],
             [
              0.1111111111111111,
              "#46039f"
             ],
             [
              0.2222222222222222,
              "#7201a8"
             ],
             [
              0.3333333333333333,
              "#9c179e"
             ],
             [
              0.4444444444444444,
              "#bd3786"
             ],
             [
              0.5555555555555556,
              "#d8576b"
             ],
             [
              0.6666666666666666,
              "#ed7953"
             ],
             [
              0.7777777777777778,
              "#fb9f3a"
             ],
             [
              0.8888888888888888,
              "#fdca26"
             ],
             [
              1,
              "#f0f921"
             ]
            ],
            "type": "heatmap"
           }
          ],
          "heatmapgl": [
           {
            "colorbar": {
             "outlinewidth": 0,
             "ticks": ""
            },
            "colorscale": [
             [
              0,
              "#0d0887"
             ],
             [
              0.1111111111111111,
              "#46039f"
             ],
             [
              0.2222222222222222,
              "#7201a8"
             ],
             [
              0.3333333333333333,
              "#9c179e"
             ],
             [
              0.4444444444444444,
              "#bd3786"
             ],
             [
              0.5555555555555556,
              "#d8576b"
             ],
             [
              0.6666666666666666,
              "#ed7953"
             ],
             [
              0.7777777777777778,
              "#fb9f3a"
             ],
             [
              0.8888888888888888,
              "#fdca26"
             ],
             [
              1,
              "#f0f921"
             ]
            ],
            "type": "heatmapgl"
           }
          ],
          "histogram": [
           {
            "marker": {
             "pattern": {
              "fillmode": "overlay",
              "size": 10,
              "solidity": 0.2
             }
            },
            "type": "histogram"
           }
          ],
          "histogram2d": [
           {
            "colorbar": {
             "outlinewidth": 0,
             "ticks": ""
            },
            "colorscale": [
             [
              0,
              "#0d0887"
             ],
             [
              0.1111111111111111,
              "#46039f"
             ],
             [
              0.2222222222222222,
              "#7201a8"
             ],
             [
              0.3333333333333333,
              "#9c179e"
             ],
             [
              0.4444444444444444,
              "#bd3786"
             ],
             [
              0.5555555555555556,
              "#d8576b"
             ],
             [
              0.6666666666666666,
              "#ed7953"
             ],
             [
              0.7777777777777778,
              "#fb9f3a"
             ],
             [
              0.8888888888888888,
              "#fdca26"
             ],
             [
              1,
              "#f0f921"
             ]
            ],
            "type": "histogram2d"
           }
          ],
          "histogram2dcontour": [
           {
            "colorbar": {
             "outlinewidth": 0,
             "ticks": ""
            },
            "colorscale": [
             [
              0,
              "#0d0887"
             ],
             [
              0.1111111111111111,
              "#46039f"
             ],
             [
              0.2222222222222222,
              "#7201a8"
             ],
             [
              0.3333333333333333,
              "#9c179e"
             ],
             [
              0.4444444444444444,
              "#bd3786"
             ],
             [
              0.5555555555555556,
              "#d8576b"
             ],
             [
              0.6666666666666666,
              "#ed7953"
             ],
             [
              0.7777777777777778,
              "#fb9f3a"
             ],
             [
              0.8888888888888888,
              "#fdca26"
             ],
             [
              1,
              "#f0f921"
             ]
            ],
            "type": "histogram2dcontour"
           }
          ],
          "mesh3d": [
           {
            "colorbar": {
             "outlinewidth": 0,
             "ticks": ""
            },
            "type": "mesh3d"
           }
          ],
          "parcoords": [
           {
            "line": {
             "colorbar": {
              "outlinewidth": 0,
              "ticks": ""
             }
            },
            "type": "parcoords"
           }
          ],
          "pie": [
           {
            "automargin": true,
            "type": "pie"
           }
          ],
          "scatter": [
           {
            "fillpattern": {
             "fillmode": "overlay",
             "size": 10,
             "solidity": 0.2
            },
            "type": "scatter"
           }
          ],
          "scatter3d": [
           {
            "line": {
             "colorbar": {
              "outlinewidth": 0,
              "ticks": ""
             }
            },
            "marker": {
             "colorbar": {
              "outlinewidth": 0,
              "ticks": ""
             }
            },
            "type": "scatter3d"
           }
          ],
          "scattercarpet": [
           {
            "marker": {
             "colorbar": {
              "outlinewidth": 0,
              "ticks": ""
             }
            },
            "type": "scattercarpet"
           }
          ],
          "scattergeo": [
           {
            "marker": {
             "colorbar": {
              "outlinewidth": 0,
              "ticks": ""
             }
            },
            "type": "scattergeo"
           }
          ],
          "scattergl": [
           {
            "marker": {
             "colorbar": {
              "outlinewidth": 0,
              "ticks": ""
             }
            },
            "type": "scattergl"
           }
          ],
          "scattermapbox": [
           {
            "marker": {
             "colorbar": {
              "outlinewidth": 0,
              "ticks": ""
             }
            },
            "type": "scattermapbox"
           }
          ],
          "scatterpolar": [
           {
            "marker": {
             "colorbar": {
              "outlinewidth": 0,
              "ticks": ""
             }
            },
            "type": "scatterpolar"
           }
          ],
          "scatterpolargl": [
           {
            "marker": {
             "colorbar": {
              "outlinewidth": 0,
              "ticks": ""
             }
            },
            "type": "scatterpolargl"
           }
          ],
          "scatterternary": [
           {
            "marker": {
             "colorbar": {
              "outlinewidth": 0,
              "ticks": ""
             }
            },
            "type": "scatterternary"
           }
          ],
          "surface": [
           {
            "colorbar": {
             "outlinewidth": 0,
             "ticks": ""
            },
            "colorscale": [
             [
              0,
              "#0d0887"
             ],
             [
              0.1111111111111111,
              "#46039f"
             ],
             [
              0.2222222222222222,
              "#7201a8"
             ],
             [
              0.3333333333333333,
              "#9c179e"
             ],
             [
              0.4444444444444444,
              "#bd3786"
             ],
             [
              0.5555555555555556,
              "#d8576b"
             ],
             [
              0.6666666666666666,
              "#ed7953"
             ],
             [
              0.7777777777777778,
              "#fb9f3a"
             ],
             [
              0.8888888888888888,
              "#fdca26"
             ],
             [
              1,
              "#f0f921"
             ]
            ],
            "type": "surface"
           }
          ],
          "table": [
           {
            "cells": {
             "fill": {
              "color": "#EBF0F8"
             },
             "line": {
              "color": "white"
             }
            },
            "header": {
             "fill": {
              "color": "#C8D4E3"
             },
             "line": {
              "color": "white"
             }
            },
            "type": "table"
           }
          ]
         },
         "layout": {
          "annotationdefaults": {
           "arrowcolor": "#2a3f5f",
           "arrowhead": 0,
           "arrowwidth": 1
          },
          "autotypenumbers": "strict",
          "coloraxis": {
           "colorbar": {
            "outlinewidth": 0,
            "ticks": ""
           }
          },
          "colorscale": {
           "diverging": [
            [
             0,
             "#8e0152"
            ],
            [
             0.1,
             "#c51b7d"
            ],
            [
             0.2,
             "#de77ae"
            ],
            [
             0.3,
             "#f1b6da"
            ],
            [
             0.4,
             "#fde0ef"
            ],
            [
             0.5,
             "#f7f7f7"
            ],
            [
             0.6,
             "#e6f5d0"
            ],
            [
             0.7,
             "#b8e186"
            ],
            [
             0.8,
             "#7fbc41"
            ],
            [
             0.9,
             "#4d9221"
            ],
            [
             1,
             "#276419"
            ]
           ],
           "sequential": [
            [
             0,
             "#0d0887"
            ],
            [
             0.1111111111111111,
             "#46039f"
            ],
            [
             0.2222222222222222,
             "#7201a8"
            ],
            [
             0.3333333333333333,
             "#9c179e"
            ],
            [
             0.4444444444444444,
             "#bd3786"
            ],
            [
             0.5555555555555556,
             "#d8576b"
            ],
            [
             0.6666666666666666,
             "#ed7953"
            ],
            [
             0.7777777777777778,
             "#fb9f3a"
            ],
            [
             0.8888888888888888,
             "#fdca26"
            ],
            [
             1,
             "#f0f921"
            ]
           ],
           "sequentialminus": [
            [
             0,
             "#0d0887"
            ],
            [
             0.1111111111111111,
             "#46039f"
            ],
            [
             0.2222222222222222,
             "#7201a8"
            ],
            [
             0.3333333333333333,
             "#9c179e"
            ],
            [
             0.4444444444444444,
             "#bd3786"
            ],
            [
             0.5555555555555556,
             "#d8576b"
            ],
            [
             0.6666666666666666,
             "#ed7953"
            ],
            [
             0.7777777777777778,
             "#fb9f3a"
            ],
            [
             0.8888888888888888,
             "#fdca26"
            ],
            [
             1,
             "#f0f921"
            ]
           ]
          },
          "colorway": [
           "#636efa",
           "#EF553B",
           "#00cc96",
           "#ab63fa",
           "#FFA15A",
           "#19d3f3",
           "#FF6692",
           "#B6E880",
           "#FF97FF",
           "#FECB52"
          ],
          "font": {
           "color": "#2a3f5f"
          },
          "geo": {
           "bgcolor": "white",
           "lakecolor": "white",
           "landcolor": "#E5ECF6",
           "showlakes": true,
           "showland": true,
           "subunitcolor": "white"
          },
          "hoverlabel": {
           "align": "left"
          },
          "hovermode": "closest",
          "mapbox": {
           "style": "light"
          },
          "paper_bgcolor": "white",
          "plot_bgcolor": "#E5ECF6",
          "polar": {
           "angularaxis": {
            "gridcolor": "white",
            "linecolor": "white",
            "ticks": ""
           },
           "bgcolor": "#E5ECF6",
           "radialaxis": {
            "gridcolor": "white",
            "linecolor": "white",
            "ticks": ""
           }
          },
          "scene": {
           "xaxis": {
            "backgroundcolor": "#E5ECF6",
            "gridcolor": "white",
            "gridwidth": 2,
            "linecolor": "white",
            "showbackground": true,
            "ticks": "",
            "zerolinecolor": "white"
           },
           "yaxis": {
            "backgroundcolor": "#E5ECF6",
            "gridcolor": "white",
            "gridwidth": 2,
            "linecolor": "white",
            "showbackground": true,
            "ticks": "",
            "zerolinecolor": "white"
           },
           "zaxis": {
            "backgroundcolor": "#E5ECF6",
            "gridcolor": "white",
            "gridwidth": 2,
            "linecolor": "white",
            "showbackground": true,
            "ticks": "",
            "zerolinecolor": "white"
           }
          },
          "shapedefaults": {
           "line": {
            "color": "#2a3f5f"
           }
          },
          "ternary": {
           "aaxis": {
            "gridcolor": "white",
            "linecolor": "white",
            "ticks": ""
           },
           "baxis": {
            "gridcolor": "white",
            "linecolor": "white",
            "ticks": ""
           },
           "bgcolor": "#E5ECF6",
           "caxis": {
            "gridcolor": "white",
            "linecolor": "white",
            "ticks": ""
           }
          },
          "title": {
           "x": 0.05
          },
          "xaxis": {
           "automargin": true,
           "gridcolor": "white",
           "linecolor": "white",
           "ticks": "",
           "title": {
            "standoff": 15
           },
           "zerolinecolor": "white",
           "zerolinewidth": 2
          },
          "yaxis": {
           "automargin": true,
           "gridcolor": "white",
           "linecolor": "white",
           "ticks": "",
           "title": {
            "standoff": 15
           },
           "zerolinecolor": "white",
           "zerolinewidth": 2
          }
         }
        },
        "title": {
         "text": "Scatter Plot of EV Diff vs Emission Diff"
        },
        "xaxis": {
         "anchor": "y",
         "domain": [
          0,
          1
         ],
         "title": {
          "text": "EV Diff"
         }
        },
        "yaxis": {
         "anchor": "x",
         "domain": [
          0,
          1
         ],
         "title": {
          "text": "emmission_diff"
         }
        }
       }
      }
     },
     "metadata": {},
     "output_type": "display_data"
    }
   ],
   "source": [
    "fig = px.scatter(\n",
    "    df_cleaned,\n",
    "    x='ev_diff',\n",
    "    y='emmission_diff',\n",
    "    color='geo',\n",
    "    symbol='time_period',\n",
    "    labels={'ev_diff': 'EV Diff', 'emission_diff': 'Emission Diff'},\n",
    "    #trendline='ols',\n",
    "    title=\"Scatter Plot of EV Diff vs Emission Diff\",\n",
    "    trendline_scope='overall'\n",
    ")\n",
    "\n",
    "fig.show()"
   ]
  },
  {
   "cell_type": "markdown",
   "metadata": {},
   "source": [
    "# Deelvraag 2"
   ]
  },
  {
   "cell_type": "code",
   "execution_count": null,
   "metadata": {},
   "outputs": [
    {
     "data": {
      "application/vnd.plotly.v1+json": {
       "config": {
        "plotlyServerURL": "https://plot.ly"
       },
       "data": [
        {
         "hovertemplate": "geo=Austria<br>time_period=2015<br>ZEV Diff=%{x}<br>EV Diff=%{y}<extra></extra>",
         "legendgroup": "Austria, 2015",
         "marker": {
          "color": "#636efa",
          "symbol": "circle"
         },
         "mode": "markers",
         "name": "Austria, 2015",
         "orientation": "v",
         "showlegend": true,
         "type": "scatter",
         "x": [
          1649
         ],
         "xaxis": "x",
         "y": [
          51478
         ],
         "yaxis": "y"
        },
        {
         "hovertemplate": "geo=Austria<br>time_period=2016<br>ZEV Diff=%{x}<br>EV Diff=%{y}<extra></extra>",
         "legendgroup": "Austria, 2016",
         "marker": {
          "color": "#636efa",
          "symbol": "diamond"
         },
         "mode": "markers",
         "name": "Austria, 2016",
         "orientation": "v",
         "showlegend": true,
         "type": "scatter",
         "x": [
          4048
         ],
         "xaxis": "x",
         "y": [
          69461
         ],
         "yaxis": "y"
        },
        {
         "hovertemplate": "geo=Austria<br>time_period=2017<br>ZEV Diff=%{x}<br>EV Diff=%{y}<extra></extra>",
         "legendgroup": "Austria, 2017",
         "marker": {
          "color": "#636efa",
          "symbol": "square"
         },
         "mode": "markers",
         "name": "Austria, 2017",
         "orientation": "v",
         "showlegend": true,
         "type": "scatter",
         "x": [
          5551
         ],
         "xaxis": "x",
         "y": [
          71470
         ],
         "yaxis": "y"
        },
        {
         "hovertemplate": "geo=Austria<br>time_period=2018<br>ZEV Diff=%{x}<br>EV Diff=%{y}<extra></extra>",
         "legendgroup": "Austria, 2018",
         "marker": {
          "color": "#636efa",
          "symbol": "x"
         },
         "mode": "markers",
         "name": "Austria, 2018",
         "orientation": "v",
         "showlegend": true,
         "type": "scatter",
         "x": [
          6218
         ],
         "xaxis": "x",
         "y": [
          74056
         ],
         "yaxis": "y"
        },
        {
         "hovertemplate": "geo=Austria<br>time_period=2019<br>ZEV Diff=%{x}<br>EV Diff=%{y}<extra></extra>",
         "legendgroup": "Austria, 2019",
         "marker": {
          "color": "#636efa",
          "symbol": "cross"
         },
         "mode": "markers",
         "name": "Austria, 2019",
         "orientation": "v",
         "showlegend": true,
         "type": "scatter",
         "x": [
          8709
         ],
         "xaxis": "x",
         "y": [
          51987
         ],
         "yaxis": "y"
        },
        {
         "hovertemplate": "geo=Austria<br>time_period=2020<br>ZEV Diff=%{x}<br>EV Diff=%{y}<extra></extra>",
         "legendgroup": "Austria, 2020",
         "marker": {
          "color": "#636efa",
          "symbol": "circle"
         },
         "mode": "markers",
         "name": "Austria, 2020",
         "orientation": "v",
         "showlegend": true,
         "type": "scatter",
         "x": [
          14988
         ],
         "xaxis": "x",
         "y": [
          37291
         ],
         "yaxis": "y"
        },
        {
         "hovertemplate": "geo=Austria<br>time_period=2021<br>ZEV Diff=%{x}<br>EV Diff=%{y}<extra></extra>",
         "legendgroup": "Austria, 2021",
         "marker": {
          "color": "#636efa",
          "symbol": "diamond"
         },
         "mode": "markers",
         "name": "Austria, 2021",
         "orientation": "v",
         "showlegend": true,
         "type": "scatter",
         "x": [
          32042
         ],
         "xaxis": "x",
         "y": [
          9967
         ],
         "yaxis": "y"
        },
        {
         "hovertemplate": "geo=Austria<br>time_period=2022<br>ZEV Diff=%{x}<br>EV Diff=%{y}<extra></extra>",
         "legendgroup": "Austria, 2022",
         "marker": {
          "color": "#636efa",
          "symbol": "square"
         },
         "mode": "markers",
         "name": "Austria, 2022",
         "orientation": "v",
         "showlegend": true,
         "type": "scatter",
         "x": [
          33693
         ],
         "xaxis": "x",
         "y": [
          -16639
         ],
         "yaxis": "y"
        },
        {
         "hovertemplate": "geo=Belgium<br>time_period=2015<br>ZEV Diff=%{x}<br>EV Diff=%{y}<extra></extra>",
         "legendgroup": "Belgium, 2015",
         "marker": {
          "color": "#EF553B",
          "symbol": "circle"
         },
         "mode": "markers",
         "name": "Belgium, 2015",
         "orientation": "v",
         "showlegend": true,
         "type": "scatter",
         "x": [
          1079
         ],
         "xaxis": "x",
         "y": [
          76290
         ],
         "yaxis": "y"
        },
        {
         "hovertemplate": "geo=Belgium<br>time_period=2016<br>ZEV Diff=%{x}<br>EV Diff=%{y}<extra></extra>",
         "legendgroup": "Belgium, 2016",
         "marker": {
          "color": "#EF553B",
          "symbol": "diamond"
         },
         "mode": "markers",
         "name": "Belgium, 2016",
         "orientation": "v",
         "showlegend": true,
         "type": "scatter",
         "x": [
          1893
         ],
         "xaxis": "x",
         "y": [
          67340
         ],
         "yaxis": "y"
        },
        {
         "hovertemplate": "geo=Belgium<br>time_period=2017<br>ZEV Diff=%{x}<br>EV Diff=%{y}<extra></extra>",
         "legendgroup": "Belgium, 2017",
         "marker": {
          "color": "#EF553B",
          "symbol": "square"
         },
         "mode": "markers",
         "name": "Belgium, 2017",
         "orientation": "v",
         "showlegend": true,
         "type": "scatter",
         "x": [
          2350
         ],
         "xaxis": "x",
         "y": [
          65297
         ],
         "yaxis": "y"
        },
        {
         "hovertemplate": "geo=Belgium<br>time_period=2018<br>ZEV Diff=%{x}<br>EV Diff=%{y}<extra></extra>",
         "legendgroup": "Belgium, 2018",
         "marker": {
          "color": "#EF553B",
          "symbol": "x"
         },
         "mode": "markers",
         "name": "Belgium, 2018",
         "orientation": "v",
         "showlegend": true,
         "type": "scatter",
         "x": [
          3339
         ],
         "xaxis": "x",
         "y": [
          46147
         ],
         "yaxis": "y"
        },
        {
         "hovertemplate": "geo=Belgium<br>time_period=2019<br>ZEV Diff=%{x}<br>EV Diff=%{y}<extra></extra>",
         "legendgroup": "Belgium, 2019",
         "marker": {
          "color": "#EF553B",
          "symbol": "cross"
         },
         "mode": "markers",
         "name": "Belgium, 2019",
         "orientation": "v",
         "showlegend": true,
         "type": "scatter",
         "x": [
          7832
         ],
         "xaxis": "x",
         "y": [
          25617
         ],
         "yaxis": "y"
        },
        {
         "hovertemplate": "geo=Belgium<br>time_period=2020<br>ZEV Diff=%{x}<br>EV Diff=%{y}<extra></extra>",
         "legendgroup": "Belgium, 2020",
         "marker": {
          "color": "#EF553B",
          "symbol": "circle"
         },
         "mode": "markers",
         "name": "Belgium, 2020",
         "orientation": "v",
         "showlegend": true,
         "type": "scatter",
         "x": [
          13060
         ],
         "xaxis": "x",
         "y": [
          2554
         ],
         "yaxis": "y"
        },
        {
         "hovertemplate": "geo=Belgium<br>time_period=2021<br>ZEV Diff=%{x}<br>EV Diff=%{y}<extra></extra>",
         "legendgroup": "Belgium, 2021",
         "marker": {
          "color": "#EF553B",
          "symbol": "diamond"
         },
         "mode": "markers",
         "name": "Belgium, 2021",
         "orientation": "v",
         "showlegend": true,
         "type": "scatter",
         "x": [
          20603
         ],
         "xaxis": "x",
         "y": [
          7918
         ],
         "yaxis": "y"
        },
        {
         "hovertemplate": "geo=Belgium<br>time_period=2022<br>ZEV Diff=%{x}<br>EV Diff=%{y}<extra></extra>",
         "legendgroup": "Belgium, 2022",
         "marker": {
          "color": "#EF553B",
          "symbol": "square"
         },
         "mode": "markers",
         "name": "Belgium, 2022",
         "orientation": "v",
         "showlegend": true,
         "type": "scatter",
         "x": [
          37443
         ],
         "xaxis": "x",
         "y": [
          -8325
         ],
         "yaxis": "y"
        },
        {
         "hovertemplate": "geo=Bulgaria<br>time_period=2015<br>ZEV Diff=%{x}<br>EV Diff=%{y}<extra></extra>",
         "legendgroup": "Bulgaria, 2015",
         "marker": {
          "color": "#00cc96",
          "symbol": "circle"
         },
         "mode": "markers",
         "name": "Bulgaria, 2015",
         "orientation": "v",
         "showlegend": true,
         "type": "scatter",
         "x": [
          36
         ],
         "xaxis": "x",
         "y": [
          148138
         ],
         "yaxis": "y"
        },
        {
         "hovertemplate": "geo=Bulgaria<br>time_period=2016<br>ZEV Diff=%{x}<br>EV Diff=%{y}<extra></extra>",
         "legendgroup": "Bulgaria, 2016",
         "marker": {
          "color": "#00cc96",
          "symbol": "diamond"
         },
         "mode": "markers",
         "name": "Bulgaria, 2016",
         "orientation": "v",
         "showlegend": true,
         "type": "scatter",
         "x": [
          32
         ],
         "xaxis": "x",
         "y": [
          -18501
         ],
         "yaxis": "y"
        },
        {
         "hovertemplate": "geo=Bulgaria<br>time_period=2017<br>ZEV Diff=%{x}<br>EV Diff=%{y}<extra></extra>",
         "legendgroup": "Bulgaria, 2017",
         "marker": {
          "color": "#00cc96",
          "symbol": "square"
         },
         "mode": "markers",
         "name": "Bulgaria, 2017",
         "orientation": "v",
         "showlegend": true,
         "type": "scatter",
         "x": [
          169
         ],
         "xaxis": "x",
         "y": [
          -373122
         ],
         "yaxis": "y"
        },
        {
         "hovertemplate": "geo=Bulgaria<br>time_period=2018<br>ZEV Diff=%{x}<br>EV Diff=%{y}<extra></extra>",
         "legendgroup": "Bulgaria, 2018",
         "marker": {
          "color": "#00cc96",
          "symbol": "x"
         },
         "mode": "markers",
         "name": "Bulgaria, 2018",
         "orientation": "v",
         "showlegend": true,
         "type": "scatter",
         "x": [
          326
         ],
         "xaxis": "x",
         "y": [
          2384
         ],
         "yaxis": "y"
        },
        {
         "hovertemplate": "geo=Bulgaria<br>time_period=2019<br>ZEV Diff=%{x}<br>EV Diff=%{y}<extra></extra>",
         "legendgroup": "Bulgaria, 2019",
         "marker": {
          "color": "#00cc96",
          "symbol": "cross"
         },
         "mode": "markers",
         "name": "Bulgaria, 2019",
         "orientation": "v",
         "showlegend": true,
         "type": "scatter",
         "x": [
          475
         ],
         "xaxis": "x",
         "y": [
          56146
         ],
         "yaxis": "y"
        },
        {
         "hovertemplate": "geo=Bulgaria<br>time_period=2020<br>ZEV Diff=%{x}<br>EV Diff=%{y}<extra></extra>",
         "legendgroup": "Bulgaria, 2020",
         "marker": {
          "color": "#00cc96",
          "symbol": "circle"
         },
         "mode": "markers",
         "name": "Bulgaria, 2020",
         "orientation": "v",
         "showlegend": true,
         "type": "scatter",
         "x": [
          748
         ],
         "xaxis": "x",
         "y": [
          36069
         ],
         "yaxis": "y"
        },
        {
         "hovertemplate": "geo=Bulgaria<br>time_period=2021<br>ZEV Diff=%{x}<br>EV Diff=%{y}<extra></extra>",
         "legendgroup": "Bulgaria, 2021",
         "marker": {
          "color": "#00cc96",
          "symbol": "diamond"
         },
         "mode": "markers",
         "name": "Bulgaria, 2021",
         "orientation": "v",
         "showlegend": true,
         "type": "scatter",
         "x": [
          1436
         ],
         "xaxis": "x",
         "y": [
          -37735
         ],
         "yaxis": "y"
        },
        {
         "hovertemplate": "geo=Bulgaria<br>time_period=2022<br>ZEV Diff=%{x}<br>EV Diff=%{y}<extra></extra>",
         "legendgroup": "Bulgaria, 2022",
         "marker": {
          "color": "#00cc96",
          "symbol": "square"
         },
         "mode": "markers",
         "name": "Bulgaria, 2022",
         "orientation": "v",
         "showlegend": true,
         "type": "scatter",
         "x": [
          2924
         ],
         "xaxis": "x",
         "y": [
          63389
         ],
         "yaxis": "y"
        },
        {
         "hovertemplate": "geo=Croatia<br>time_period=2015<br>ZEV Diff=%{x}<br>EV Diff=%{y}<extra></extra>",
         "legendgroup": "Croatia, 2015",
         "marker": {
          "color": "#ab63fa",
          "symbol": "circle"
         },
         "mode": "markers",
         "name": "Croatia, 2015",
         "orientation": "v",
         "showlegend": true,
         "type": "scatter",
         "x": [
          124
         ],
         "xaxis": "x",
         "y": [
          25183
         ],
         "yaxis": "y"
        },
        {
         "hovertemplate": "geo=Croatia<br>time_period=2016<br>ZEV Diff=%{x}<br>EV Diff=%{y}<extra></extra>",
         "legendgroup": "Croatia, 2016",
         "marker": {
          "color": "#ab63fa",
          "symbol": "diamond"
         },
         "mode": "markers",
         "name": "Croatia, 2016",
         "orientation": "v",
         "showlegend": true,
         "type": "scatter",
         "x": [
          71
         ],
         "xaxis": "x",
         "y": [
          53031
         ],
         "yaxis": "y"
        },
        {
         "hovertemplate": "geo=Croatia<br>time_period=2017<br>ZEV Diff=%{x}<br>EV Diff=%{y}<extra></extra>",
         "legendgroup": "Croatia, 2017",
         "marker": {
          "color": "#ab63fa",
          "symbol": "square"
         },
         "mode": "markers",
         "name": "Croatia, 2017",
         "orientation": "v",
         "showlegend": true,
         "type": "scatter",
         "x": [
          52
         ],
         "xaxis": "x",
         "y": [
          43131
         ],
         "yaxis": "y"
        },
        {
         "hovertemplate": "geo=Croatia<br>time_period=2018<br>ZEV Diff=%{x}<br>EV Diff=%{y}<extra></extra>",
         "legendgroup": "Croatia, 2018",
         "marker": {
          "color": "#ab63fa",
          "symbol": "x"
         },
         "mode": "markers",
         "name": "Croatia, 2018",
         "orientation": "v",
         "showlegend": true,
         "type": "scatter",
         "x": [
          176
         ],
         "xaxis": "x",
         "y": [
          70150
         ],
         "yaxis": "y"
        },
        {
         "hovertemplate": "geo=Croatia<br>time_period=2019<br>ZEV Diff=%{x}<br>EV Diff=%{y}<extra></extra>",
         "legendgroup": "Croatia, 2019",
         "marker": {
          "color": "#ab63fa",
          "symbol": "cross"
         },
         "mode": "markers",
         "name": "Croatia, 2019",
         "orientation": "v",
         "showlegend": true,
         "type": "scatter",
         "x": [
          264
         ],
         "xaxis": "x",
         "y": [
          58223
         ],
         "yaxis": "y"
        },
        {
         "hovertemplate": "geo=Croatia<br>time_period=2020<br>ZEV Diff=%{x}<br>EV Diff=%{y}<extra></extra>",
         "legendgroup": "Croatia, 2020",
         "marker": {
          "color": "#ab63fa",
          "symbol": "circle"
         },
         "mode": "markers",
         "name": "Croatia, 2020",
         "orientation": "v",
         "showlegend": true,
         "type": "scatter",
         "x": [
          588
         ],
         "xaxis": "x",
         "y": [
          20797
         ],
         "yaxis": "y"
        },
        {
         "hovertemplate": "geo=Croatia<br>time_period=2021<br>ZEV Diff=%{x}<br>EV Diff=%{y}<extra></extra>",
         "legendgroup": "Croatia, 2021",
         "marker": {
          "color": "#ab63fa",
          "symbol": "diamond"
         },
         "mode": "markers",
         "name": "Croatia, 2021",
         "orientation": "v",
         "showlegend": true,
         "type": "scatter",
         "x": [
          1663
         ],
         "xaxis": "x",
         "y": [
          47517
         ],
         "yaxis": "y"
        },
        {
         "hovertemplate": "geo=Croatia<br>time_period=2022<br>ZEV Diff=%{x}<br>EV Diff=%{y}<extra></extra>",
         "legendgroup": "Croatia, 2022",
         "marker": {
          "color": "#ab63fa",
          "symbol": "square"
         },
         "mode": "markers",
         "name": "Croatia, 2022",
         "orientation": "v",
         "showlegend": true,
         "type": "scatter",
         "x": [
          1825
         ],
         "xaxis": "x",
         "y": [
          43477
         ],
         "yaxis": "y"
        },
        {
         "hovertemplate": "geo=Cyprus<br>time_period=2015<br>ZEV Diff=%{x}<br>EV Diff=%{y}<extra></extra>",
         "legendgroup": "Cyprus, 2015",
         "marker": {
          "color": "#FFA15A",
          "symbol": "circle"
         },
         "mode": "markers",
         "name": "Cyprus, 2015",
         "orientation": "v",
         "showlegend": true,
         "type": "scatter",
         "x": [
          8
         ],
         "xaxis": "x",
         "y": [
          9192
         ],
         "yaxis": "y"
        },
        {
         "hovertemplate": "geo=Cyprus<br>time_period=2016<br>ZEV Diff=%{x}<br>EV Diff=%{y}<extra></extra>",
         "legendgroup": "Cyprus, 2016",
         "marker": {
          "color": "#FFA15A",
          "symbol": "diamond"
         },
         "mode": "markers",
         "name": "Cyprus, 2016",
         "orientation": "v",
         "showlegend": true,
         "type": "scatter",
         "x": [
          17
         ],
         "xaxis": "x",
         "y": [
          20575
         ],
         "yaxis": "y"
        },
        {
         "hovertemplate": "geo=Cyprus<br>time_period=2017<br>ZEV Diff=%{x}<br>EV Diff=%{y}<extra></extra>",
         "legendgroup": "Cyprus, 2017",
         "marker": {
          "color": "#FFA15A",
          "symbol": "square"
         },
         "mode": "markers",
         "name": "Cyprus, 2017",
         "orientation": "v",
         "showlegend": true,
         "type": "scatter",
         "x": [
          47
         ],
         "xaxis": "x",
         "y": [
          18286
         ],
         "yaxis": "y"
        },
        {
         "hovertemplate": "geo=Cyprus<br>time_period=2018<br>ZEV Diff=%{x}<br>EV Diff=%{y}<extra></extra>",
         "legendgroup": "Cyprus, 2018",
         "marker": {
          "color": "#FFA15A",
          "symbol": "x"
         },
         "mode": "markers",
         "name": "Cyprus, 2018",
         "orientation": "v",
         "showlegend": true,
         "type": "scatter",
         "x": [
          27
         ],
         "xaxis": "x",
         "y": [
          24051
         ],
         "yaxis": "y"
        },
        {
         "hovertemplate": "geo=Cyprus<br>time_period=2019<br>ZEV Diff=%{x}<br>EV Diff=%{y}<extra></extra>",
         "legendgroup": "Cyprus, 2019",
         "marker": {
          "color": "#FFA15A",
          "symbol": "cross"
         },
         "mode": "markers",
         "name": "Cyprus, 2019",
         "orientation": "v",
         "showlegend": true,
         "type": "scatter",
         "x": [
          53
         ],
         "xaxis": "x",
         "y": [
          21753
         ],
         "yaxis": "y"
        },
        {
         "hovertemplate": "geo=Cyprus<br>time_period=2020<br>ZEV Diff=%{x}<br>EV Diff=%{y}<extra></extra>",
         "legendgroup": "Cyprus, 2020",
         "marker": {
          "color": "#FFA15A",
          "symbol": "circle"
         },
         "mode": "markers",
         "name": "Cyprus, 2020",
         "orientation": "v",
         "showlegend": true,
         "type": "scatter",
         "x": [
          73
         ],
         "xaxis": "x",
         "y": [
          5584
         ],
         "yaxis": "y"
        },
        {
         "hovertemplate": "geo=Cyprus<br>time_period=2021<br>ZEV Diff=%{x}<br>EV Diff=%{y}<extra></extra>",
         "legendgroup": "Cyprus, 2021",
         "marker": {
          "color": "#FFA15A",
          "symbol": "diamond"
         },
         "mode": "markers",
         "name": "Cyprus, 2021",
         "orientation": "v",
         "showlegend": true,
         "type": "scatter",
         "x": [
          93
         ],
         "xaxis": "x",
         "y": [
          13905
         ],
         "yaxis": "y"
        },
        {
         "hovertemplate": "geo=Cyprus<br>time_period=2022<br>ZEV Diff=%{x}<br>EV Diff=%{y}<extra></extra>",
         "legendgroup": "Cyprus, 2022",
         "marker": {
          "color": "#FFA15A",
          "symbol": "square"
         },
         "mode": "markers",
         "name": "Cyprus, 2022",
         "orientation": "v",
         "showlegend": true,
         "type": "scatter",
         "x": [
          497
         ],
         "xaxis": "x",
         "y": [
          8478
         ],
         "yaxis": "y"
        },
        {
         "hovertemplate": "geo=Czech Republic<br>time_period=2015<br>ZEV Diff=%{x}<br>EV Diff=%{y}<extra></extra>",
         "legendgroup": "Czech Republic, 2015",
         "marker": {
          "color": "#19d3f3",
          "symbol": "circle"
         },
         "mode": "markers",
         "name": "Czech Republic, 2015",
         "orientation": "v",
         "showlegend": true,
         "type": "scatter",
         "x": [
          296
         ],
         "xaxis": "x",
         "y": [
          281634
         ],
         "yaxis": "y"
        },
        {
         "hovertemplate": "geo=Czech Republic<br>time_period=2016<br>ZEV Diff=%{x}<br>EV Diff=%{y}<extra></extra>",
         "legendgroup": "Czech Republic, 2016",
         "marker": {
          "color": "#19d3f3",
          "symbol": "diamond"
         },
         "mode": "markers",
         "name": "Czech Republic, 2016",
         "orientation": "v",
         "showlegend": true,
         "type": "scatter",
         "x": [
          261
         ],
         "xaxis": "x",
         "y": [
          192231
         ],
         "yaxis": "y"
        },
        {
         "hovertemplate": "geo=Czech Republic<br>time_period=2017<br>ZEV Diff=%{x}<br>EV Diff=%{y}<extra></extra>",
         "legendgroup": "Czech Republic, 2017",
         "marker": {
          "color": "#19d3f3",
          "symbol": "square"
         },
         "mode": "markers",
         "name": "Czech Republic, 2017",
         "orientation": "v",
         "showlegend": true,
         "type": "scatter",
         "x": [
          551
         ],
         "xaxis": "x",
         "y": [
          229863
         ],
         "yaxis": "y"
        },
        {
         "hovertemplate": "geo=Czech Republic<br>time_period=2018<br>ZEV Diff=%{x}<br>EV Diff=%{y}<extra></extra>",
         "legendgroup": "Czech Republic, 2018",
         "marker": {
          "color": "#19d3f3",
          "symbol": "x"
         },
         "mode": "markers",
         "name": "Czech Republic, 2018",
         "orientation": "v",
         "showlegend": true,
         "type": "scatter",
         "x": [
          1880
         ],
         "xaxis": "x",
         "y": [
          207811
         ],
         "yaxis": "y"
        },
        {
         "hovertemplate": "geo=Czech Republic<br>time_period=2019<br>ZEV Diff=%{x}<br>EV Diff=%{y}<extra></extra>",
         "legendgroup": "Czech Republic, 2019",
         "marker": {
          "color": "#19d3f3",
          "symbol": "cross"
         },
         "mode": "markers",
         "name": "Czech Republic, 2019",
         "orientation": "v",
         "showlegend": true,
         "type": "scatter",
         "x": [
          1545
         ],
         "xaxis": "x",
         "y": [
          175537
         ],
         "yaxis": "y"
        },
        {
         "hovertemplate": "geo=Czech Republic<br>time_period=2020<br>ZEV Diff=%{x}<br>EV Diff=%{y}<extra></extra>",
         "legendgroup": "Czech Republic, 2020",
         "marker": {
          "color": "#19d3f3",
          "symbol": "circle"
         },
         "mode": "markers",
         "name": "Czech Republic, 2020",
         "orientation": "v",
         "showlegend": true,
         "type": "scatter",
         "x": [
          3160
         ],
         "xaxis": "x",
         "y": [
          121100
         ],
         "yaxis": "y"
        },
        {
         "hovertemplate": "geo=Czech Republic<br>time_period=2021<br>ZEV Diff=%{x}<br>EV Diff=%{y}<extra></extra>",
         "legendgroup": "Czech Republic, 2021",
         "marker": {
          "color": "#19d3f3",
          "symbol": "diamond"
         },
         "mode": "markers",
         "name": "Czech Republic, 2021",
         "orientation": "v",
         "showlegend": true,
         "type": "scatter",
         "x": [
          947
         ],
         "xaxis": "x",
         "y": [
          38528
         ],
         "yaxis": "y"
        },
        {
         "hovertemplate": "geo=Czech Republic<br>time_period=2022<br>ZEV Diff=%{x}<br>EV Diff=%{y}<extra></extra>",
         "legendgroup": "Czech Republic, 2022",
         "marker": {
          "color": "#19d3f3",
          "symbol": "square"
         },
         "mode": "markers",
         "name": "Czech Republic, 2022",
         "orientation": "v",
         "showlegend": true,
         "type": "scatter",
         "x": [
          5150
         ],
         "xaxis": "x",
         "y": [
          212054
         ],
         "yaxis": "y"
        },
        {
         "hovertemplate": "geo=Denmark<br>time_period=2015<br>ZEV Diff=%{x}<br>EV Diff=%{y}<extra></extra>",
         "legendgroup": "Denmark, 2015",
         "marker": {
          "color": "#FF6692",
          "symbol": "circle"
         },
         "mode": "markers",
         "name": "Denmark, 2015",
         "orientation": "v",
         "showlegend": true,
         "type": "scatter",
         "x": [
          5008
         ],
         "xaxis": "x",
         "y": [
          66608
         ],
         "yaxis": "y"
        },
        {
         "hovertemplate": "geo=Denmark<br>time_period=2016<br>ZEV Diff=%{x}<br>EV Diff=%{y}<extra></extra>",
         "legendgroup": "Denmark, 2016",
         "marker": {
          "color": "#FF6692",
          "symbol": "diamond"
         },
         "mode": "markers",
         "name": "Denmark, 2016",
         "orientation": "v",
         "showlegend": true,
         "type": "scatter",
         "x": [
          789
         ],
         "xaxis": "x",
         "y": [
          73922
         ],
         "yaxis": "y"
        },
        {
         "hovertemplate": "geo=Denmark<br>time_period=2017<br>ZEV Diff=%{x}<br>EV Diff=%{y}<extra></extra>",
         "legendgroup": "Denmark, 2017",
         "marker": {
          "color": "#FF6692",
          "symbol": "square"
         },
         "mode": "markers",
         "name": "Denmark, 2017",
         "orientation": "v",
         "showlegend": true,
         "type": "scatter",
         "x": [
          118
         ],
         "xaxis": "x",
         "y": [
          64400
         ],
         "yaxis": "y"
        },
        {
         "hovertemplate": "geo=Denmark<br>time_period=2018<br>ZEV Diff=%{x}<br>EV Diff=%{y}<extra></extra>",
         "legendgroup": "Denmark, 2018",
         "marker": {
          "color": "#FF6692",
          "symbol": "x"
         },
         "mode": "markers",
         "name": "Denmark, 2018",
         "orientation": "v",
         "showlegend": true,
         "type": "scatter",
         "x": [
          1272
         ],
         "xaxis": "x",
         "y": [
          63158
         ],
         "yaxis": "y"
        },
        {
         "hovertemplate": "geo=Denmark<br>time_period=2019<br>ZEV Diff=%{x}<br>EV Diff=%{y}<extra></extra>",
         "legendgroup": "Denmark, 2019",
         "marker": {
          "color": "#FF6692",
          "symbol": "cross"
         },
         "mode": "markers",
         "name": "Denmark, 2019",
         "orientation": "v",
         "showlegend": true,
         "type": "scatter",
         "x": [
          5460
         ],
         "xaxis": "x",
         "y": [
          51799
         ],
         "yaxis": "y"
        },
        {
         "hovertemplate": "geo=Denmark<br>time_period=2020<br>ZEV Diff=%{x}<br>EV Diff=%{y}<extra></extra>",
         "legendgroup": "Denmark, 2020",
         "marker": {
          "color": "#FF6692",
          "symbol": "circle"
         },
         "mode": "markers",
         "name": "Denmark, 2020",
         "orientation": "v",
         "showlegend": true,
         "type": "scatter",
         "x": [
          16418
         ],
         "xaxis": "x",
         "y": [
          55453
         ],
         "yaxis": "y"
        },
        {
         "hovertemplate": "geo=Denmark<br>time_period=2021<br>ZEV Diff=%{x}<br>EV Diff=%{y}<extra></extra>",
         "legendgroup": "Denmark, 2021",
         "marker": {
          "color": "#FF6692",
          "symbol": "diamond"
         },
         "mode": "markers",
         "name": "Denmark, 2021",
         "orientation": "v",
         "showlegend": true,
         "type": "scatter",
         "x": [
          34784
         ],
         "xaxis": "x",
         "y": [
          29157
         ],
         "yaxis": "y"
        },
        {
         "hovertemplate": "geo=Denmark<br>time_period=2022<br>ZEV Diff=%{x}<br>EV Diff=%{y}<extra></extra>",
         "legendgroup": "Denmark, 2022",
         "marker": {
          "color": "#FF6692",
          "symbol": "square"
         },
         "mode": "markers",
         "name": "Denmark, 2022",
         "orientation": "v",
         "showlegend": true,
         "type": "scatter",
         "x": [
          46038
         ],
         "xaxis": "x",
         "y": [
          -32515
         ],
         "yaxis": "y"
        },
        {
         "hovertemplate": "geo=Estonia<br>time_period=2015<br>ZEV Diff=%{x}<br>EV Diff=%{y}<extra></extra>",
         "legendgroup": "Estonia, 2015",
         "marker": {
          "color": "#B6E880",
          "symbol": "circle"
         },
         "mode": "markers",
         "name": "Estonia, 2015",
         "orientation": "v",
         "showlegend": true,
         "type": "scatter",
         "x": [
          49
         ],
         "xaxis": "x",
         "y": [
          23597
         ],
         "yaxis": "y"
        },
        {
         "hovertemplate": "geo=Estonia<br>time_period=2016<br>ZEV Diff=%{x}<br>EV Diff=%{y}<extra></extra>",
         "legendgroup": "Estonia, 2016",
         "marker": {
          "color": "#B6E880",
          "symbol": "diamond"
         },
         "mode": "markers",
         "name": "Estonia, 2016",
         "orientation": "v",
         "showlegend": true,
         "type": "scatter",
         "x": [
          40
         ],
         "xaxis": "x",
         "y": [
          26515
         ],
         "yaxis": "y"
        },
        {
         "hovertemplate": "geo=Estonia<br>time_period=2017<br>ZEV Diff=%{x}<br>EV Diff=%{y}<extra></extra>",
         "legendgroup": "Estonia, 2017",
         "marker": {
          "color": "#B6E880",
          "symbol": "square"
         },
         "mode": "markers",
         "name": "Estonia, 2017",
         "orientation": "v",
         "showlegend": true,
         "type": "scatter",
         "x": [
          35
         ],
         "xaxis": "x",
         "y": [
          22758
         ],
         "yaxis": "y"
        },
        {
         "hovertemplate": "geo=Estonia<br>time_period=2018<br>ZEV Diff=%{x}<br>EV Diff=%{y}<extra></extra>",
         "legendgroup": "Estonia, 2018",
         "marker": {
          "color": "#B6E880",
          "symbol": "x"
         },
         "mode": "markers",
         "name": "Estonia, 2018",
         "orientation": "v",
         "showlegend": true,
         "type": "scatter",
         "x": [
          63
         ],
         "xaxis": "x",
         "y": [
          20457
         ],
         "yaxis": "y"
        },
        {
         "hovertemplate": "geo=Estonia<br>time_period=2019<br>ZEV Diff=%{x}<br>EV Diff=%{y}<extra></extra>",
         "legendgroup": "Estonia, 2019",
         "marker": {
          "color": "#B6E880",
          "symbol": "cross"
         },
         "mode": "markers",
         "name": "Estonia, 2019",
         "orientation": "v",
         "showlegend": true,
         "type": "scatter",
         "x": [
          128
         ],
         "xaxis": "x",
         "y": [
          48334
         ],
         "yaxis": "y"
        },
        {
         "hovertemplate": "geo=Estonia<br>time_period=2020<br>ZEV Diff=%{x}<br>EV Diff=%{y}<extra></extra>",
         "legendgroup": "Estonia, 2020",
         "marker": {
          "color": "#B6E880",
          "symbol": "circle"
         },
         "mode": "markers",
         "name": "Estonia, 2020",
         "orientation": "v",
         "showlegend": true,
         "type": "scatter",
         "x": [
          391
         ],
         "xaxis": "x",
         "y": [
          13372
         ],
         "yaxis": "y"
        },
        {
         "hovertemplate": "geo=Estonia<br>time_period=2021<br>ZEV Diff=%{x}<br>EV Diff=%{y}<extra></extra>",
         "legendgroup": "Estonia, 2021",
         "marker": {
          "color": "#B6E880",
          "symbol": "diamond"
         },
         "mode": "markers",
         "name": "Estonia, 2021",
         "orientation": "v",
         "showlegend": true,
         "type": "scatter",
         "x": [
          684
         ],
         "xaxis": "x",
         "y": [
          16563
         ],
         "yaxis": "y"
        },
        {
         "hovertemplate": "geo=Estonia<br>time_period=2022<br>ZEV Diff=%{x}<br>EV Diff=%{y}<extra></extra>",
         "legendgroup": "Estonia, 2022",
         "marker": {
          "color": "#B6E880",
          "symbol": "square"
         },
         "mode": "markers",
         "name": "Estonia, 2022",
         "orientation": "v",
         "showlegend": true,
         "type": "scatter",
         "x": [
          1006
         ],
         "xaxis": "x",
         "y": [
          22352
         ],
         "yaxis": "y"
        },
        {
         "hovertemplate": "geo=Finland<br>time_period=2015<br>ZEV Diff=%{x}<br>EV Diff=%{y}<extra></extra>",
         "legendgroup": "Finland, 2015",
         "marker": {
          "color": "#FF97FF",
          "symbol": "circle"
         },
         "mode": "markers",
         "name": "Finland, 2015",
         "orientation": "v",
         "showlegend": true,
         "type": "scatter",
         "x": [
          271
         ],
         "xaxis": "x",
         "y": [
          61854
         ],
         "yaxis": "y"
        },
        {
         "hovertemplate": "geo=Finland<br>time_period=2016<br>ZEV Diff=%{x}<br>EV Diff=%{y}<extra></extra>",
         "legendgroup": "Finland, 2016",
         "marker": {
          "color": "#FF97FF",
          "symbol": "diamond"
         },
         "mode": "markers",
         "name": "Finland, 2016",
         "orientation": "v",
         "showlegend": true,
         "type": "scatter",
         "x": [
          233
         ],
         "xaxis": "x",
         "y": [
          87579
         ],
         "yaxis": "y"
        },
        {
         "hovertemplate": "geo=Finland<br>time_period=2017<br>ZEV Diff=%{x}<br>EV Diff=%{y}<extra></extra>",
         "legendgroup": "Finland, 2017",
         "marker": {
          "color": "#FF97FF",
          "symbol": "square"
         },
         "mode": "markers",
         "name": "Finland, 2017",
         "orientation": "v",
         "showlegend": true,
         "type": "scatter",
         "x": [
          649
         ],
         "xaxis": "x",
         "y": [
          75616
         ],
         "yaxis": "y"
        },
        {
         "hovertemplate": "geo=Finland<br>time_period=2018<br>ZEV Diff=%{x}<br>EV Diff=%{y}<extra></extra>",
         "legendgroup": "Finland, 2018",
         "marker": {
          "color": "#FF97FF",
          "symbol": "x"
         },
         "mode": "markers",
         "name": "Finland, 2018",
         "orientation": "v",
         "showlegend": true,
         "type": "scatter",
         "x": [
          962
         ],
         "xaxis": "x",
         "y": [
          70608
         ],
         "yaxis": "y"
        },
        {
         "hovertemplate": "geo=Finland<br>time_period=2019<br>ZEV Diff=%{x}<br>EV Diff=%{y}<extra></extra>",
         "legendgroup": "Finland, 2019",
         "marker": {
          "color": "#FF97FF",
          "symbol": "cross"
         },
         "mode": "markers",
         "name": "Finland, 2019",
         "orientation": "v",
         "showlegend": true,
         "type": "scatter",
         "x": [
          2330
         ],
         "xaxis": "x",
         "y": [
          76966
         ],
         "yaxis": "y"
        },
        {
         "hovertemplate": "geo=Finland<br>time_period=2020<br>ZEV Diff=%{x}<br>EV Diff=%{y}<extra></extra>",
         "legendgroup": "Finland, 2020",
         "marker": {
          "color": "#FF97FF",
          "symbol": "circle"
         },
         "mode": "markers",
         "name": "Finland, 2020",
         "orientation": "v",
         "showlegend": true,
         "type": "scatter",
         "x": [
          5129
         ],
         "xaxis": "x",
         "y": [
          52599
         ],
         "yaxis": "y"
        },
        {
         "hovertemplate": "geo=Finland<br>time_period=2021<br>ZEV Diff=%{x}<br>EV Diff=%{y}<extra></extra>",
         "legendgroup": "Finland, 2021",
         "marker": {
          "color": "#FF97FF",
          "symbol": "diamond"
         },
         "mode": "markers",
         "name": "Finland, 2021",
         "orientation": "v",
         "showlegend": true,
         "type": "scatter",
         "x": [
          13539
         ],
         "xaxis": "x",
         "y": [
          20462
         ],
         "yaxis": "y"
        },
        {
         "hovertemplate": "geo=Finland<br>time_period=2022<br>ZEV Diff=%{x}<br>EV Diff=%{y}<extra></extra>",
         "legendgroup": "Finland, 2022",
         "marker": {
          "color": "#FF97FF",
          "symbol": "square"
         },
         "mode": "markers",
         "name": "Finland, 2022",
         "orientation": "v",
         "showlegend": true,
         "type": "scatter",
         "x": [
          23087
         ],
         "xaxis": "x",
         "y": [
          9131
         ],
         "yaxis": "y"
        },
        {
         "hovertemplate": "geo=France<br>time_period=2015<br>ZEV Diff=%{x}<br>EV Diff=%{y}<extra></extra>",
         "legendgroup": "France, 2015",
         "marker": {
          "color": "#FECB52",
          "symbol": "circle"
         },
         "mode": "markers",
         "name": "France, 2015",
         "orientation": "v",
         "showlegend": true,
         "type": "scatter",
         "x": [
          15963
         ],
         "xaxis": "x",
         "y": [
          516255
         ],
         "yaxis": "y"
        },
        {
         "hovertemplate": "geo=France<br>time_period=2016<br>ZEV Diff=%{x}<br>EV Diff=%{y}<extra></extra>",
         "legendgroup": "France, 2016",
         "marker": {
          "color": "#FECB52",
          "symbol": "diamond"
         },
         "mode": "markers",
         "name": "France, 2016",
         "orientation": "v",
         "showlegend": true,
         "type": "scatter",
         "x": [
          19449
         ],
         "xaxis": "x",
         "y": [
          473926
         ],
         "yaxis": "y"
        },
        {
         "hovertemplate": "geo=France<br>time_period=2017<br>ZEV Diff=%{x}<br>EV Diff=%{y}<extra></extra>",
         "legendgroup": "France, 2017",
         "marker": {
          "color": "#FECB52",
          "symbol": "square"
         },
         "mode": "markers",
         "name": "France, 2017",
         "orientation": "v",
         "showlegend": true,
         "type": "scatter",
         "x": [
          21198
         ],
         "xaxis": "x",
         "y": [
          422989
         ],
         "yaxis": "y"
        },
        {
         "hovertemplate": "geo=France<br>time_period=2018<br>ZEV Diff=%{x}<br>EV Diff=%{y}<extra></extra>",
         "legendgroup": "France, 2018",
         "marker": {
          "color": "#FECB52",
          "symbol": "x"
         },
         "mode": "markers",
         "name": "France, 2018",
         "orientation": "v",
         "showlegend": true,
         "type": "scatter",
         "x": [
          24039
         ],
         "xaxis": "x",
         "y": [
          87603
         ],
         "yaxis": "y"
        },
        {
         "hovertemplate": "geo=France<br>time_period=2019<br>ZEV Diff=%{x}<br>EV Diff=%{y}<extra></extra>",
         "legendgroup": "France, 2019",
         "marker": {
          "color": "#FECB52",
          "symbol": "cross"
         },
         "mode": "markers",
         "name": "France, 2019",
         "orientation": "v",
         "showlegend": true,
         "type": "scatter",
         "x": [
          34930
         ],
         "xaxis": "x",
         "y": [
          156983
         ],
         "yaxis": "y"
        },
        {
         "hovertemplate": "geo=France<br>time_period=2020<br>ZEV Diff=%{x}<br>EV Diff=%{y}<extra></extra>",
         "legendgroup": "France, 2020",
         "marker": {
          "color": "#FECB52",
          "symbol": "circle"
         },
         "mode": "markers",
         "name": "France, 2020",
         "orientation": "v",
         "showlegend": true,
         "type": "scatter",
         "x": [
          103902
         ],
         "xaxis": "x",
         "y": [
          -57477
         ],
         "yaxis": "y"
        },
        {
         "hovertemplate": "geo=France<br>time_period=2021<br>ZEV Diff=%{x}<br>EV Diff=%{y}<extra></extra>",
         "legendgroup": "France, 2021",
         "marker": {
          "color": "#FECB52",
          "symbol": "diamond"
         },
         "mode": "markers",
         "name": "France, 2021",
         "orientation": "v",
         "showlegend": true,
         "type": "scatter",
         "x": [
          158263
         ],
         "xaxis": "x",
         "y": [
          188753
         ],
         "yaxis": "y"
        },
        {
         "hovertemplate": "geo=France<br>time_period=2022<br>ZEV Diff=%{x}<br>EV Diff=%{y}<extra></extra>",
         "legendgroup": "France, 2022",
         "marker": {
          "color": "#FECB52",
          "symbol": "square"
         },
         "mode": "markers",
         "name": "France, 2022",
         "orientation": "v",
         "showlegend": true,
         "type": "scatter",
         "x": [
          192647
         ],
         "xaxis": "x",
         "y": [
          -150814
         ],
         "yaxis": "y"
        },
        {
         "hovertemplate": "geo=Germany<br>time_period=2015<br>ZEV Diff=%{x}<br>EV Diff=%{y}<extra></extra>",
         "legendgroup": "Germany, 2015",
         "marker": {
          "color": "#636efa",
          "symbol": "circle"
         },
         "mode": "markers",
         "name": "Germany, 2015",
         "orientation": "v",
         "showlegend": true,
         "type": "scatter",
         "x": [
          7086
         ],
         "xaxis": "x",
         "y": [
          660914
         ],
         "yaxis": "y"
        },
        {
         "hovertemplate": "geo=Germany<br>time_period=2016<br>ZEV Diff=%{x}<br>EV Diff=%{y}<extra></extra>",
         "legendgroup": "Germany, 2016",
         "marker": {
          "color": "#636efa",
          "symbol": "diamond"
         },
         "mode": "markers",
         "name": "Germany, 2016",
         "orientation": "v",
         "showlegend": true,
         "type": "scatter",
         "x": [
          8071
         ],
         "xaxis": "x",
         "y": [
          724489
         ],
         "yaxis": "y"
        },
        {
         "hovertemplate": "geo=Germany<br>time_period=2017<br>ZEV Diff=%{x}<br>EV Diff=%{y}<extra></extra>",
         "legendgroup": "Germany, 2017",
         "marker": {
          "color": "#636efa",
          "symbol": "square"
         },
         "mode": "markers",
         "name": "Germany, 2017",
         "orientation": "v",
         "showlegend": true,
         "type": "scatter",
         "x": [
          20076
         ],
         "xaxis": "x",
         "y": [
          650958
         ],
         "yaxis": "y"
        },
        {
         "hovertemplate": "geo=Germany<br>time_period=2018<br>ZEV Diff=%{x}<br>EV Diff=%{y}<extra></extra>",
         "legendgroup": "Germany, 2018",
         "marker": {
          "color": "#636efa",
          "symbol": "x"
         },
         "mode": "markers",
         "name": "Germany, 2018",
         "orientation": "v",
         "showlegend": true,
         "type": "scatter",
         "x": [
          29363
         ],
         "xaxis": "x",
         "y": [
          591827
         ],
         "yaxis": "y"
        },
        {
         "hovertemplate": "geo=Germany<br>time_period=2019<br>ZEV Diff=%{x}<br>EV Diff=%{y}<extra></extra>",
         "legendgroup": "Germany, 2019",
         "marker": {
          "color": "#636efa",
          "symbol": "cross"
         },
         "mode": "markers",
         "name": "Germany, 2019",
         "orientation": "v",
         "showlegend": true,
         "type": "scatter",
         "x": [
          53587
         ],
         "xaxis": "x",
         "y": [
          566606
         ],
         "yaxis": "y"
        },
        {
         "hovertemplate": "geo=Germany<br>time_period=2020<br>ZEV Diff=%{x}<br>EV Diff=%{y}<extra></extra>",
         "legendgroup": "Germany, 2020",
         "marker": {
          "color": "#636efa",
          "symbol": "circle"
         },
         "mode": "markers",
         "name": "Germany, 2020",
         "orientation": "v",
         "showlegend": true,
         "type": "scatter",
         "x": [
          172766
         ],
         "xaxis": "x",
         "y": [
          359841
         ],
         "yaxis": "y"
        },
        {
         "hovertemplate": "geo=Germany<br>time_period=2021<br>ZEV Diff=%{x}<br>EV Diff=%{y}<extra></extra>",
         "legendgroup": "Germany, 2021",
         "marker": {
          "color": "#636efa",
          "symbol": "diamond"
         },
         "mode": "markers",
         "name": "Germany, 2021",
         "orientation": "v",
         "showlegend": true,
         "type": "scatter",
         "x": [
          309794
         ],
         "xaxis": "x",
         "y": [
          -17500
         ],
         "yaxis": "y"
        },
        {
         "hovertemplate": "geo=Germany<br>time_period=2022<br>ZEV Diff=%{x}<br>EV Diff=%{y}<extra></extra>",
         "legendgroup": "Germany, 2022",
         "marker": {
          "color": "#636efa",
          "symbol": "square"
         },
         "mode": "markers",
         "name": "Germany, 2022",
         "orientation": "v",
         "showlegend": true,
         "type": "scatter",
         "x": [
          395327
         ],
         "xaxis": "x",
         "y": [
          -173169
         ],
         "yaxis": "y"
        },
        {
         "hovertemplate": "geo=Greece<br>time_period=2015<br>ZEV Diff=%{x}<br>EV Diff=%{y}<extra></extra>",
         "legendgroup": "Greece, 2015",
         "marker": {
          "color": "#EF553B",
          "symbol": "circle"
         },
         "mode": "markers",
         "name": "Greece, 2015",
         "orientation": "v",
         "showlegend": true,
         "type": "scatter",
         "x": [
          39
         ],
         "xaxis": "x",
         "y": [
          -3292
         ],
         "yaxis": "y"
        },
        {
         "hovertemplate": "geo=Greece<br>time_period=2016<br>ZEV Diff=%{x}<br>EV Diff=%{y}<extra></extra>",
         "legendgroup": "Greece, 2016",
         "marker": {
          "color": "#EF553B",
          "symbol": "diamond"
         },
         "mode": "markers",
         "name": "Greece, 2016",
         "orientation": "v",
         "showlegend": true,
         "type": "scatter",
         "x": [
          30
         ],
         "xaxis": "x",
         "y": [
          52406
         ],
         "yaxis": "y"
        },
        {
         "hovertemplate": "geo=Greece<br>time_period=2017<br>ZEV Diff=%{x}<br>EV Diff=%{y}<extra></extra>",
         "legendgroup": "Greece, 2017",
         "marker": {
          "color": "#EF553B",
          "symbol": "square"
         },
         "mode": "markers",
         "name": "Greece, 2017",
         "orientation": "v",
         "showlegend": true,
         "type": "scatter",
         "x": [
          34
         ],
         "xaxis": "x",
         "y": [
          75838
         ],
         "yaxis": "y"
        },
        {
         "hovertemplate": "geo=Greece<br>time_period=2018<br>ZEV Diff=%{x}<br>EV Diff=%{y}<extra></extra>",
         "legendgroup": "Greece, 2018",
         "marker": {
          "color": "#EF553B",
          "symbol": "x"
         },
         "mode": "markers",
         "name": "Greece, 2018",
         "orientation": "v",
         "showlegend": true,
         "type": "scatter",
         "x": [
          67
         ],
         "xaxis": "x",
         "y": [
          46700
         ],
         "yaxis": "y"
        },
        {
         "hovertemplate": "geo=Greece<br>time_period=2019<br>ZEV Diff=%{x}<br>EV Diff=%{y}<extra></extra>",
         "legendgroup": "Greece, 2019",
         "marker": {
          "color": "#EF553B",
          "symbol": "cross"
         },
         "mode": "markers",
         "name": "Greece, 2019",
         "orientation": "v",
         "showlegend": true,
         "type": "scatter",
         "x": [
          211
         ],
         "xaxis": "x",
         "y": [
          123645
         ],
         "yaxis": "y"
        },
        {
         "hovertemplate": "geo=Greece<br>time_period=2020<br>ZEV Diff=%{x}<br>EV Diff=%{y}<extra></extra>",
         "legendgroup": "Greece, 2020",
         "marker": {
          "color": "#EF553B",
          "symbol": "circle"
         },
         "mode": "markers",
         "name": "Greece, 2020",
         "orientation": "v",
         "showlegend": true,
         "type": "scatter",
         "x": [
          678
         ],
         "xaxis": "x",
         "y": [
          84947
         ],
         "yaxis": "y"
        },
        {
         "hovertemplate": "geo=Greece<br>time_period=2021<br>ZEV Diff=%{x}<br>EV Diff=%{y}<extra></extra>",
         "legendgroup": "Greece, 2021",
         "marker": {
          "color": "#EF553B",
          "symbol": "diamond"
         },
         "mode": "markers",
         "name": "Greece, 2021",
         "orientation": "v",
         "showlegend": true,
         "type": "scatter",
         "x": [
          2176
         ],
         "xaxis": "x",
         "y": [
          109840
         ],
         "yaxis": "y"
        },
        {
         "hovertemplate": "geo=Greece<br>time_period=2022<br>ZEV Diff=%{x}<br>EV Diff=%{y}<extra></extra>",
         "legendgroup": "Greece, 2022",
         "marker": {
          "color": "#EF553B",
          "symbol": "square"
         },
         "mode": "markers",
         "name": "Greece, 2022",
         "orientation": "v",
         "showlegend": true,
         "type": "scatter",
         "x": [
          3026
         ],
         "xaxis": "x",
         "y": [
          118794
         ],
         "yaxis": "y"
        },
        {
         "hovertemplate": "geo=Hungary<br>time_period=2015<br>ZEV Diff=%{x}<br>EV Diff=%{y}<extra></extra>",
         "legendgroup": "Hungary, 2015",
         "marker": {
          "color": "#00cc96",
          "symbol": "circle"
         },
         "mode": "markers",
         "name": "Hungary, 2015",
         "orientation": "v",
         "showlegend": true,
         "type": "scatter",
         "x": [
          167
         ],
         "xaxis": "x",
         "y": [
          88994
         ],
         "yaxis": "y"
        },
        {
         "hovertemplate": "geo=Hungary<br>time_period=2016<br>ZEV Diff=%{x}<br>EV Diff=%{y}<extra></extra>",
         "legendgroup": "Hungary, 2016",
         "marker": {
          "color": "#00cc96",
          "symbol": "diamond"
         },
         "mode": "markers",
         "name": "Hungary, 2016",
         "orientation": "v",
         "showlegend": true,
         "type": "scatter",
         "x": [
          416
         ],
         "xaxis": "x",
         "y": [
          115934
         ],
         "yaxis": "y"
        },
        {
         "hovertemplate": "geo=Hungary<br>time_period=2017<br>ZEV Diff=%{x}<br>EV Diff=%{y}<extra></extra>",
         "legendgroup": "Hungary, 2017",
         "marker": {
          "color": "#00cc96",
          "symbol": "square"
         },
         "mode": "markers",
         "name": "Hungary, 2017",
         "orientation": "v",
         "showlegend": true,
         "type": "scatter",
         "x": [
          1238
         ],
         "xaxis": "x",
         "y": [
          157553
         ],
         "yaxis": "y"
        },
        {
         "hovertemplate": "geo=Hungary<br>time_period=2018<br>ZEV Diff=%{x}<br>EV Diff=%{y}<extra></extra>",
         "legendgroup": "Hungary, 2018",
         "marker": {
          "color": "#00cc96",
          "symbol": "x"
         },
         "mode": "markers",
         "name": "Hungary, 2018",
         "orientation": "v",
         "showlegend": true,
         "type": "scatter",
         "x": [
          1843
         ],
         "xaxis": "x",
         "y": [
          167983
         ],
         "yaxis": "y"
        },
        {
         "hovertemplate": "geo=Hungary<br>time_period=2019<br>ZEV Diff=%{x}<br>EV Diff=%{y}<extra></extra>",
         "legendgroup": "Hungary, 2019",
         "marker": {
          "color": "#00cc96",
          "symbol": "cross"
         },
         "mode": "markers",
         "name": "Hungary, 2019",
         "orientation": "v",
         "showlegend": true,
         "type": "scatter",
         "x": [
          2756
         ],
         "xaxis": "x",
         "y": [
          167434
         ],
         "yaxis": "y"
        },
        {
         "hovertemplate": "geo=Hungary<br>time_period=2020<br>ZEV Diff=%{x}<br>EV Diff=%{y}<extra></extra>",
         "legendgroup": "Hungary, 2020",
         "marker": {
          "color": "#00cc96",
          "symbol": "circle"
         },
         "mode": "markers",
         "name": "Hungary, 2020",
         "orientation": "v",
         "showlegend": true,
         "type": "scatter",
         "x": [
          4417
         ],
         "xaxis": "x",
         "y": [
          104369
         ],
         "yaxis": "y"
        },
        {
         "hovertemplate": "geo=Hungary<br>time_period=2021<br>ZEV Diff=%{x}<br>EV Diff=%{y}<extra></extra>",
         "legendgroup": "Hungary, 2021",
         "marker": {
          "color": "#00cc96",
          "symbol": "diamond"
         },
         "mode": "markers",
         "name": "Hungary, 2021",
         "orientation": "v",
         "showlegend": true,
         "type": "scatter",
         "x": [
          7812
         ],
         "xaxis": "x",
         "y": [
          91548
         ],
         "yaxis": "y"
        },
        {
         "hovertemplate": "geo=Hungary<br>time_period=2022<br>ZEV Diff=%{x}<br>EV Diff=%{y}<extra></extra>",
         "legendgroup": "Hungary, 2022",
         "marker": {
          "color": "#00cc96",
          "symbol": "square"
         },
         "mode": "markers",
         "name": "Hungary, 2022",
         "orientation": "v",
         "showlegend": true,
         "type": "scatter",
         "x": [
          11015
         ],
         "xaxis": "x",
         "y": [
          62955
         ],
         "yaxis": "y"
        },
        {
         "hovertemplate": "geo=Ireland<br>time_period=2015<br>ZEV Diff=%{x}<br>EV Diff=%{y}<extra></extra>",
         "legendgroup": "Ireland, 2015",
         "marker": {
          "color": "#ab63fa",
          "symbol": "circle"
         },
         "mode": "markers",
         "name": "Ireland, 2015",
         "orientation": "v",
         "showlegend": true,
         "type": "scatter",
         "x": [
          560
         ],
         "xaxis": "x",
         "y": [
          41300
         ],
         "yaxis": "y"
        },
        {
         "hovertemplate": "geo=Ireland<br>time_period=2016<br>ZEV Diff=%{x}<br>EV Diff=%{y}<extra></extra>",
         "legendgroup": "Ireland, 2016",
         "marker": {
          "color": "#ab63fa",
          "symbol": "diamond"
         },
         "mode": "markers",
         "name": "Ireland, 2016",
         "orientation": "v",
         "showlegend": true,
         "type": "scatter",
         "x": [
          581
         ],
         "xaxis": "x",
         "y": [
          41969
         ],
         "yaxis": "y"
        },
        {
         "hovertemplate": "geo=Ireland<br>time_period=2017<br>ZEV Diff=%{x}<br>EV Diff=%{y}<extra></extra>",
         "legendgroup": "Ireland, 2017",
         "marker": {
          "color": "#ab63fa",
          "symbol": "square"
         },
         "mode": "markers",
         "name": "Ireland, 2017",
         "orientation": "v",
         "showlegend": true,
         "type": "scatter",
         "x": [
          1069
         ],
         "xaxis": "x",
         "y": [
          38601
         ],
         "yaxis": "y"
        },
        {
         "hovertemplate": "geo=Ireland<br>time_period=2018<br>ZEV Diff=%{x}<br>EV Diff=%{y}<extra></extra>",
         "legendgroup": "Ireland, 2018",
         "marker": {
          "color": "#ab63fa",
          "symbol": "x"
         },
         "mode": "markers",
         "name": "Ireland, 2018",
         "orientation": "v",
         "showlegend": true,
         "type": "scatter",
         "x": [
          1840
         ],
         "xaxis": "x",
         "y": [
          38690
         ],
         "yaxis": "y"
        },
        {
         "hovertemplate": "geo=Ireland<br>time_period=2019<br>ZEV Diff=%{x}<br>EV Diff=%{y}<extra></extra>",
         "legendgroup": "Ireland, 2019",
         "marker": {
          "color": "#ab63fa",
          "symbol": "cross"
         },
         "mode": "markers",
         "name": "Ireland, 2019",
         "orientation": "v",
         "showlegend": true,
         "type": "scatter",
         "x": [
          3980
         ],
         "xaxis": "x",
         "y": [
          66310
         ],
         "yaxis": "y"
        },
        {
         "hovertemplate": "geo=Ireland<br>time_period=2020<br>ZEV Diff=%{x}<br>EV Diff=%{y}<extra></extra>",
         "legendgroup": "Ireland, 2020",
         "marker": {
          "color": "#ab63fa",
          "symbol": "circle"
         },
         "mode": "markers",
         "name": "Ireland, 2020",
         "orientation": "v",
         "showlegend": true,
         "type": "scatter",
         "x": [
          4130
         ],
         "xaxis": "x",
         "y": [
          34600
         ],
         "yaxis": "y"
        },
        {
         "hovertemplate": "geo=Ireland<br>time_period=2021<br>ZEV Diff=%{x}<br>EV Diff=%{y}<extra></extra>",
         "legendgroup": "Ireland, 2021",
         "marker": {
          "color": "#ab63fa",
          "symbol": "diamond"
         },
         "mode": "markers",
         "name": "Ireland, 2021",
         "orientation": "v",
         "showlegend": true,
         "type": "scatter",
         "x": [
          8720
         ],
         "xaxis": "x",
         "y": [
          9100
         ],
         "yaxis": "y"
        },
        {
         "hovertemplate": "geo=Ireland<br>time_period=2022<br>ZEV Diff=%{x}<br>EV Diff=%{y}<extra></extra>",
         "legendgroup": "Ireland, 2022",
         "marker": {
          "color": "#ab63fa",
          "symbol": "square"
         },
         "mode": "markers",
         "name": "Ireland, 2022",
         "orientation": "v",
         "showlegend": true,
         "type": "scatter",
         "x": [
          15530
         ],
         "xaxis": "x",
         "y": [
          9840
         ],
         "yaxis": "y"
        },
        {
         "hovertemplate": "geo=Italy<br>time_period=2015<br>ZEV Diff=%{x}<br>EV Diff=%{y}<extra></extra>",
         "legendgroup": "Italy, 2015",
         "marker": {
          "color": "#FFA15A",
          "symbol": "circle"
         },
         "mode": "markers",
         "name": "Italy, 2015",
         "orientation": "v",
         "showlegend": true,
         "type": "scatter",
         "x": [
          1155
         ],
         "xaxis": "x",
         "y": [
          269325
         ],
         "yaxis": "y"
        },
        {
         "hovertemplate": "geo=Italy<br>time_period=2016<br>ZEV Diff=%{x}<br>EV Diff=%{y}<extra></extra>",
         "legendgroup": "Italy, 2016",
         "marker": {
          "color": "#FFA15A",
          "symbol": "diamond"
         },
         "mode": "markers",
         "name": "Italy, 2016",
         "orientation": "v",
         "showlegend": true,
         "type": "scatter",
         "x": [
          1159
         ],
         "xaxis": "x",
         "y": [
          523746
         ],
         "yaxis": "y"
        },
        {
         "hovertemplate": "geo=Italy<br>time_period=2017<br>ZEV Diff=%{x}<br>EV Diff=%{y}<extra></extra>",
         "legendgroup": "Italy, 2017",
         "marker": {
          "color": "#FFA15A",
          "symbol": "square"
         },
         "mode": "markers",
         "name": "Italy, 2017",
         "orientation": "v",
         "showlegend": true,
         "type": "scatter",
         "x": [
          1817
         ],
         "xaxis": "x",
         "y": [
          642366
         ],
         "yaxis": "y"
        },
        {
         "hovertemplate": "geo=Italy<br>time_period=2018<br>ZEV Diff=%{x}<br>EV Diff=%{y}<extra></extra>",
         "legendgroup": "Italy, 2018",
         "marker": {
          "color": "#FFA15A",
          "symbol": "x"
         },
         "mode": "markers",
         "name": "Italy, 2018",
         "orientation": "v",
         "showlegend": true,
         "type": "scatter",
         "x": [
          4596
         ],
         "xaxis": "x",
         "y": [
          493253
         ],
         "yaxis": "y"
        },
        {
         "hovertemplate": "geo=Italy<br>time_period=2019<br>ZEV Diff=%{x}<br>EV Diff=%{y}<extra></extra>",
         "legendgroup": "Italy, 2019",
         "marker": {
          "color": "#FFA15A",
          "symbol": "cross"
         },
         "mode": "markers",
         "name": "Italy, 2019",
         "orientation": "v",
         "showlegend": true,
         "type": "scatter",
         "x": [
          10589
         ],
         "xaxis": "x",
         "y": [
          516473
         ],
         "yaxis": "y"
        },
        {
         "hovertemplate": "geo=Italy<br>time_period=2020<br>ZEV Diff=%{x}<br>EV Diff=%{y}<extra></extra>",
         "legendgroup": "Italy, 2020",
         "marker": {
          "color": "#FFA15A",
          "symbol": "circle"
         },
         "mode": "markers",
         "name": "Italy, 2020",
         "orientation": "v",
         "showlegend": true,
         "type": "scatter",
         "x": [
          30358
         ],
         "xaxis": "x",
         "y": [
          142284
         ],
         "yaxis": "y"
        },
        {
         "hovertemplate": "geo=Italy<br>time_period=2021<br>ZEV Diff=%{x}<br>EV Diff=%{y}<extra></extra>",
         "legendgroup": "Italy, 2021",
         "marker": {
          "color": "#FFA15A",
          "symbol": "diamond"
         },
         "mode": "markers",
         "name": "Italy, 2021",
         "orientation": "v",
         "showlegend": true,
         "type": "scatter",
         "x": [
          64965
         ],
         "xaxis": "x",
         "y": [
          39884
         ],
         "yaxis": "y"
        },
        {
         "hovertemplate": "geo=Italy<br>time_period=2022<br>ZEV Diff=%{x}<br>EV Diff=%{y}<extra></extra>",
         "legendgroup": "Italy, 2022",
         "marker": {
          "color": "#FFA15A",
          "symbol": "square"
         },
         "mode": "markers",
         "name": "Italy, 2022",
         "orientation": "v",
         "showlegend": true,
         "type": "scatter",
         "x": [
          40108
         ],
         "xaxis": "x",
         "y": [
          350230
         ],
         "yaxis": "y"
        },
        {
         "hovertemplate": "geo=Latvia<br>time_period=2015<br>ZEV Diff=%{x}<br>EV Diff=%{y}<extra></extra>",
         "legendgroup": "Latvia, 2015",
         "marker": {
          "color": "#19d3f3",
          "symbol": "circle"
         },
         "mode": "markers",
         "name": "Latvia, 2015",
         "orientation": "v",
         "showlegend": true,
         "type": "scatter",
         "x": [
          23
         ],
         "xaxis": "x",
         "y": [
          21226
         ],
         "yaxis": "y"
        },
        {
         "hovertemplate": "geo=Latvia<br>time_period=2016<br>ZEV Diff=%{x}<br>EV Diff=%{y}<extra></extra>",
         "legendgroup": "Latvia, 2016",
         "marker": {
          "color": "#19d3f3",
          "symbol": "diamond"
         },
         "mode": "markers",
         "name": "Latvia, 2016",
         "orientation": "v",
         "showlegend": true,
         "type": "scatter",
         "x": [
          30
         ],
         "xaxis": "x",
         "y": [
          -14901
         ],
         "yaxis": "y"
        },
        {
         "hovertemplate": "geo=Latvia<br>time_period=2017<br>ZEV Diff=%{x}<br>EV Diff=%{y}<extra></extra>",
         "legendgroup": "Latvia, 2017",
         "marker": {
          "color": "#19d3f3",
          "symbol": "square"
         },
         "mode": "markers",
         "name": "Latvia, 2017",
         "orientation": "v",
         "showlegend": true,
         "type": "scatter",
         "x": [
          71
         ],
         "xaxis": "x",
         "y": [
          25288
         ],
         "yaxis": "y"
        },
        {
         "hovertemplate": "geo=Latvia<br>time_period=2018<br>ZEV Diff=%{x}<br>EV Diff=%{y}<extra></extra>",
         "legendgroup": "Latvia, 2018",
         "marker": {
          "color": "#19d3f3",
          "symbol": "x"
         },
         "mode": "markers",
         "name": "Latvia, 2018",
         "orientation": "v",
         "showlegend": true,
         "type": "scatter",
         "x": [
          130
         ],
         "xaxis": "x",
         "y": [
          18175
         ],
         "yaxis": "y"
        },
        {
         "hovertemplate": "geo=Latvia<br>time_period=2019<br>ZEV Diff=%{x}<br>EV Diff=%{y}<extra></extra>",
         "legendgroup": "Latvia, 2019",
         "marker": {
          "color": "#19d3f3",
          "symbol": "cross"
         },
         "mode": "markers",
         "name": "Latvia, 2019",
         "orientation": "v",
         "showlegend": true,
         "type": "scatter",
         "x": [
          216
         ],
         "xaxis": "x",
         "y": [
          19107
         ],
         "yaxis": "y"
        },
        {
         "hovertemplate": "geo=Latvia<br>time_period=2020<br>ZEV Diff=%{x}<br>EV Diff=%{y}<extra></extra>",
         "legendgroup": "Latvia, 2020",
         "marker": {
          "color": "#19d3f3",
          "symbol": "circle"
         },
         "mode": "markers",
         "name": "Latvia, 2020",
         "orientation": "v",
         "showlegend": true,
         "type": "scatter",
         "x": [
          547
         ],
         "xaxis": "x",
         "y": [
          11413
         ],
         "yaxis": "y"
        },
        {
         "hovertemplate": "geo=Latvia<br>time_period=2021<br>ZEV Diff=%{x}<br>EV Diff=%{y}<extra></extra>",
         "legendgroup": "Latvia, 2021",
         "marker": {
          "color": "#19d3f3",
          "symbol": "diamond"
         },
         "mode": "markers",
         "name": "Latvia, 2021",
         "orientation": "v",
         "showlegend": true,
         "type": "scatter",
         "x": [
          901
         ],
         "xaxis": "x",
         "y": [
          18663
         ],
         "yaxis": "y"
        },
        {
         "hovertemplate": "geo=Latvia<br>time_period=2022<br>ZEV Diff=%{x}<br>EV Diff=%{y}<extra></extra>",
         "legendgroup": "Latvia, 2022",
         "marker": {
          "color": "#19d3f3",
          "symbol": "square"
         },
         "mode": "markers",
         "name": "Latvia, 2022",
         "orientation": "v",
         "showlegend": true,
         "type": "scatter",
         "x": [
          1726
         ],
         "xaxis": "x",
         "y": [
          9309
         ],
         "yaxis": "y"
        },
        {
         "hovertemplate": "geo=Lithuania<br>time_period=2015<br>ZEV Diff=%{x}<br>EV Diff=%{y}<extra></extra>",
         "legendgroup": "Lithuania, 2015",
         "marker": {
          "color": "#FF6692",
          "symbol": "circle"
         },
         "mode": "markers",
         "name": "Lithuania, 2015",
         "orientation": "v",
         "showlegend": true,
         "type": "scatter",
         "x": [
          99
         ],
         "xaxis": "x",
         "y": [
          38296
         ],
         "yaxis": "y"
        },
        {
         "hovertemplate": "geo=Lithuania<br>time_period=2016<br>ZEV Diff=%{x}<br>EV Diff=%{y}<extra></extra>",
         "legendgroup": "Lithuania, 2016",
         "marker": {
          "color": "#FF6692",
          "symbol": "diamond"
         },
         "mode": "markers",
         "name": "Lithuania, 2016",
         "orientation": "v",
         "showlegend": true,
         "type": "scatter",
         "x": [
          189
         ],
         "xaxis": "x",
         "y": [
          54485
         ],
         "yaxis": "y"
        },
        {
         "hovertemplate": "geo=Lithuania<br>time_period=2017<br>ZEV Diff=%{x}<br>EV Diff=%{y}<extra></extra>",
         "legendgroup": "Lithuania, 2017",
         "marker": {
          "color": "#FF6692",
          "symbol": "square"
         },
         "mode": "markers",
         "name": "Lithuania, 2017",
         "orientation": "v",
         "showlegend": true,
         "type": "scatter",
         "x": [
          261
         ],
         "xaxis": "x",
         "y": [
          57989
         ],
         "yaxis": "y"
        },
        {
         "hovertemplate": "geo=Lithuania<br>time_period=2018<br>ZEV Diff=%{x}<br>EV Diff=%{y}<extra></extra>",
         "legendgroup": "Lithuania, 2018",
         "marker": {
          "color": "#FF6692",
          "symbol": "x"
         },
         "mode": "markers",
         "name": "Lithuania, 2018",
         "orientation": "v",
         "showlegend": true,
         "type": "scatter",
         "x": [
          346
         ],
         "xaxis": "x",
         "y": [
          73187
         ],
         "yaxis": "y"
        },
        {
         "hovertemplate": "geo=Lithuania<br>time_period=2019<br>ZEV Diff=%{x}<br>EV Diff=%{y}<extra></extra>",
         "legendgroup": "Lithuania, 2019",
         "marker": {
          "color": "#FF6692",
          "symbol": "cross"
         },
         "mode": "markers",
         "name": "Lithuania, 2019",
         "orientation": "v",
         "showlegend": true,
         "type": "scatter",
         "x": [
          430
         ],
         "xaxis": "x",
         "y": [
          67738
         ],
         "yaxis": "y"
        },
        {
         "hovertemplate": "geo=Lithuania<br>time_period=2020<br>ZEV Diff=%{x}<br>EV Diff=%{y}<extra></extra>",
         "legendgroup": "Lithuania, 2020",
         "marker": {
          "color": "#FF6692",
          "symbol": "circle"
         },
         "mode": "markers",
         "name": "Lithuania, 2020",
         "orientation": "v",
         "showlegend": true,
         "type": "scatter",
         "x": [
          1080
         ],
         "xaxis": "x",
         "y": [
          65697
         ],
         "yaxis": "y"
        },
        {
         "hovertemplate": "geo=Lithuania<br>time_period=2021<br>ZEV Diff=%{x}<br>EV Diff=%{y}<extra></extra>",
         "legendgroup": "Lithuania, 2021",
         "marker": {
          "color": "#FF6692",
          "symbol": "diamond"
         },
         "mode": "markers",
         "name": "Lithuania, 2021",
         "orientation": "v",
         "showlegend": true,
         "type": "scatter",
         "x": [
          2356
         ],
         "xaxis": "x",
         "y": [
          43322
         ],
         "yaxis": "y"
        },
        {
         "hovertemplate": "geo=Lithuania<br>time_period=2022<br>ZEV Diff=%{x}<br>EV Diff=%{y}<extra></extra>",
         "legendgroup": "Lithuania, 2022",
         "marker": {
          "color": "#FF6692",
          "symbol": "square"
         },
         "mode": "markers",
         "name": "Lithuania, 2022",
         "orientation": "v",
         "showlegend": true,
         "type": "scatter",
         "x": [
          2475
         ],
         "xaxis": "x",
         "y": [
          36766
         ],
         "yaxis": "y"
        },
        {
         "hovertemplate": "geo=Luxembourg<br>time_period=2015<br>ZEV Diff=%{x}<br>EV Diff=%{y}<extra></extra>",
         "legendgroup": "Luxembourg, 2015",
         "marker": {
          "color": "#B6E880",
          "symbol": "circle"
         },
         "mode": "markers",
         "name": "Luxembourg, 2015",
         "orientation": "v",
         "showlegend": true,
         "type": "scatter",
         "x": [
          56
         ],
         "xaxis": "x",
         "y": [
          8220
         ],
         "yaxis": "y"
        },
        {
         "hovertemplate": "geo=Luxembourg<br>time_period=2016<br>ZEV Diff=%{x}<br>EV Diff=%{y}<extra></extra>",
         "legendgroup": "Luxembourg, 2016",
         "marker": {
          "color": "#B6E880",
          "symbol": "diamond"
         },
         "mode": "markers",
         "name": "Luxembourg, 2016",
         "orientation": "v",
         "showlegend": true,
         "type": "scatter",
         "x": [
          105
         ],
         "xaxis": "x",
         "y": [
          9727
         ],
         "yaxis": "y"
        },
        {
         "hovertemplate": "geo=Luxembourg<br>time_period=2017<br>ZEV Diff=%{x}<br>EV Diff=%{y}<extra></extra>",
         "legendgroup": "Luxembourg, 2017",
         "marker": {
          "color": "#B6E880",
          "symbol": "square"
         },
         "mode": "markers",
         "name": "Luxembourg, 2017",
         "orientation": "v",
         "showlegend": true,
         "type": "scatter",
         "x": [
          285
         ],
         "xaxis": "x",
         "y": [
          12062
         ],
         "yaxis": "y"
        },
        {
         "hovertemplate": "geo=Luxembourg<br>time_period=2018<br>ZEV Diff=%{x}<br>EV Diff=%{y}<extra></extra>",
         "legendgroup": "Luxembourg, 2018",
         "marker": {
          "color": "#B6E880",
          "symbol": "x"
         },
         "mode": "markers",
         "name": "Luxembourg, 2018",
         "orientation": "v",
         "showlegend": true,
         "type": "scatter",
         "x": [
          368
         ],
         "xaxis": "x",
         "y": [
          11495
         ],
         "yaxis": "y"
        },
        {
         "hovertemplate": "geo=Luxembourg<br>time_period=2019<br>ZEV Diff=%{x}<br>EV Diff=%{y}<extra></extra>",
         "legendgroup": "Luxembourg, 2019",
         "marker": {
          "color": "#B6E880",
          "symbol": "cross"
         },
         "mode": "markers",
         "name": "Luxembourg, 2019",
         "orientation": "v",
         "showlegend": true,
         "type": "scatter",
         "x": [
          859
         ],
         "xaxis": "x",
         "y": [
          10342
         ],
         "yaxis": "y"
        },
        {
         "hovertemplate": "geo=Luxembourg<br>time_period=2020<br>ZEV Diff=%{x}<br>EV Diff=%{y}<extra></extra>",
         "legendgroup": "Luxembourg, 2020",
         "marker": {
          "color": "#B6E880",
          "symbol": "circle"
         },
         "mode": "markers",
         "name": "Luxembourg, 2020",
         "orientation": "v",
         "showlegend": true,
         "type": "scatter",
         "x": [
          1837
         ],
         "xaxis": "x",
         "y": [
          5000
         ],
         "yaxis": "y"
        },
        {
         "hovertemplate": "geo=Luxembourg<br>time_period=2021<br>ZEV Diff=%{x}<br>EV Diff=%{y}<extra></extra>",
         "legendgroup": "Luxembourg, 2021",
         "marker": {
          "color": "#B6E880",
          "symbol": "diamond"
         },
         "mode": "markers",
         "name": "Luxembourg, 2021",
         "orientation": "v",
         "showlegend": true,
         "type": "scatter",
         "x": [
          3928
         ],
         "xaxis": "x",
         "y": [
          2808
         ],
         "yaxis": "y"
        },
        {
         "hovertemplate": "geo=Luxembourg<br>time_period=2022<br>ZEV Diff=%{x}<br>EV Diff=%{y}<extra></extra>",
         "legendgroup": "Luxembourg, 2022",
         "marker": {
          "color": "#B6E880",
          "symbol": "square"
         },
         "mode": "markers",
         "name": "Luxembourg, 2022",
         "orientation": "v",
         "showlegend": true,
         "type": "scatter",
         "x": [
          5951
         ],
         "xaxis": "x",
         "y": [
          -1052
         ],
         "yaxis": "y"
        },
        {
         "hovertemplate": "geo=Malta<br>time_period=2015<br>ZEV Diff=%{x}<br>EV Diff=%{y}<extra></extra>",
         "legendgroup": "Malta, 2015",
         "marker": {
          "color": "#FF97FF",
          "symbol": "circle"
         },
         "mode": "markers",
         "name": "Malta, 2015",
         "orientation": "v",
         "showlegend": true,
         "type": "scatter",
         "x": [
          49
         ],
         "xaxis": "x",
         "y": [
          9381
         ],
         "yaxis": "y"
        },
        {
         "hovertemplate": "geo=Malta<br>time_period=2016<br>ZEV Diff=%{x}<br>EV Diff=%{y}<extra></extra>",
         "legendgroup": "Malta, 2016",
         "marker": {
          "color": "#FF97FF",
          "symbol": "diamond"
         },
         "mode": "markers",
         "name": "Malta, 2016",
         "orientation": "v",
         "showlegend": true,
         "type": "scatter",
         "x": [
          4
         ],
         "xaxis": "x",
         "y": [
          7537
         ],
         "yaxis": "y"
        },
        {
         "hovertemplate": "geo=Malta<br>time_period=2017<br>ZEV Diff=%{x}<br>EV Diff=%{y}<extra></extra>",
         "legendgroup": "Malta, 2017",
         "marker": {
          "color": "#FF97FF",
          "symbol": "square"
         },
         "mode": "markers",
         "name": "Malta, 2017",
         "orientation": "v",
         "showlegend": true,
         "type": "scatter",
         "x": [
          49
         ],
         "xaxis": "x",
         "y": [
          8828
         ],
         "yaxis": "y"
        },
        {
         "hovertemplate": "geo=Malta<br>time_period=2018<br>ZEV Diff=%{x}<br>EV Diff=%{y}<extra></extra>",
         "legendgroup": "Malta, 2018",
         "marker": {
          "color": "#FF97FF",
          "symbol": "x"
         },
         "mode": "markers",
         "name": "Malta, 2018",
         "orientation": "v",
         "showlegend": true,
         "type": "scatter",
         "x": [
          414
         ],
         "xaxis": "x",
         "y": [
          7928
         ],
         "yaxis": "y"
        },
        {
         "hovertemplate": "geo=Malta<br>time_period=2019<br>ZEV Diff=%{x}<br>EV Diff=%{y}<extra></extra>",
         "legendgroup": "Malta, 2019",
         "marker": {
          "color": "#FF97FF",
          "symbol": "cross"
         },
         "mode": "markers",
         "name": "Malta, 2019",
         "orientation": "v",
         "showlegend": true,
         "type": "scatter",
         "x": [
          380
         ],
         "xaxis": "x",
         "y": [
          6610
         ],
         "yaxis": "y"
        },
        {
         "hovertemplate": "geo=Malta<br>time_period=2020<br>ZEV Diff=%{x}<br>EV Diff=%{y}<extra></extra>",
         "legendgroup": "Malta, 2020",
         "marker": {
          "color": "#FF97FF",
          "symbol": "circle"
         },
         "mode": "markers",
         "name": "Malta, 2020",
         "orientation": "v",
         "showlegend": true,
         "type": "scatter",
         "x": [
          310
         ],
         "xaxis": "x",
         "y": [
          918
         ],
         "yaxis": "y"
        },
        {
         "hovertemplate": "geo=Malta<br>time_period=2021<br>ZEV Diff=%{x}<br>EV Diff=%{y}<extra></extra>",
         "legendgroup": "Malta, 2021",
         "marker": {
          "color": "#FF97FF",
          "symbol": "diamond"
         },
         "mode": "markers",
         "name": "Malta, 2021",
         "orientation": "v",
         "showlegend": true,
         "type": "scatter",
         "x": [
          490
         ],
         "xaxis": "x",
         "y": [
          4329
         ],
         "yaxis": "y"
        },
        {
         "hovertemplate": "geo=Malta<br>time_period=2022<br>ZEV Diff=%{x}<br>EV Diff=%{y}<extra></extra>",
         "legendgroup": "Malta, 2022",
         "marker": {
          "color": "#FF97FF",
          "symbol": "square"
         },
         "mode": "markers",
         "name": "Malta, 2022",
         "orientation": "v",
         "showlegend": true,
         "type": "scatter",
         "x": [
          1020
         ],
         "xaxis": "x",
         "y": [
          3037
         ],
         "yaxis": "y"
        },
        {
         "hovertemplate": "geo=Netherlands<br>time_period=2015<br>ZEV Diff=%{x}<br>EV Diff=%{y}<extra></extra>",
         "legendgroup": "Netherlands, 2015",
         "marker": {
          "color": "#FECB52",
          "symbol": "circle"
         },
         "mode": "markers",
         "name": "Netherlands, 2015",
         "orientation": "v",
         "showlegend": true,
         "type": "scatter",
         "x": [
          3158
         ],
         "xaxis": "x",
         "y": [
          118623
         ],
         "yaxis": "y"
        },
        {
         "hovertemplate": "geo=Netherlands<br>time_period=2016<br>ZEV Diff=%{x}<br>EV Diff=%{y}<extra></extra>",
         "legendgroup": "Netherlands, 2016",
         "marker": {
          "color": "#FECB52",
          "symbol": "diamond"
         },
         "mode": "markers",
         "name": "Netherlands, 2016",
         "orientation": "v",
         "showlegend": true,
         "type": "scatter",
         "x": [
          3742
         ],
         "xaxis": "x",
         "y": [
          118368
         ],
         "yaxis": "y"
        },
        {
         "hovertemplate": "geo=Netherlands<br>time_period=2017<br>ZEV Diff=%{x}<br>EV Diff=%{y}<extra></extra>",
         "legendgroup": "Netherlands, 2017",
         "marker": {
          "color": "#FECB52",
          "symbol": "square"
         },
         "mode": "markers",
         "name": "Netherlands, 2017",
         "orientation": "v",
         "showlegend": true,
         "type": "scatter",
         "x": [
          8138
         ],
         "xaxis": "x",
         "y": [
          142132
         ],
         "yaxis": "y"
        },
        {
         "hovertemplate": "geo=Netherlands<br>time_period=2018<br>ZEV Diff=%{x}<br>EV Diff=%{y}<extra></extra>",
         "legendgroup": "Netherlands, 2018",
         "marker": {
          "color": "#FECB52",
          "symbol": "x"
         },
         "mode": "markers",
         "name": "Netherlands, 2018",
         "orientation": "v",
         "showlegend": true,
         "type": "scatter",
         "x": [
          22732
         ],
         "xaxis": "x",
         "y": [
          47006
         ],
         "yaxis": "y"
        },
        {
         "hovertemplate": "geo=Netherlands<br>time_period=2019<br>ZEV Diff=%{x}<br>EV Diff=%{y}<extra></extra>",
         "legendgroup": "Netherlands, 2019",
         "marker": {
          "color": "#FECB52",
          "symbol": "cross"
         },
         "mode": "markers",
         "name": "Netherlands, 2019",
         "orientation": "v",
         "showlegend": true,
         "type": "scatter",
         "x": [
          61654
         ],
         "xaxis": "x",
         "y": [
          79755
         ],
         "yaxis": "y"
        },
        {
         "hovertemplate": "geo=Netherlands<br>time_period=2020<br>ZEV Diff=%{x}<br>EV Diff=%{y}<extra></extra>",
         "legendgroup": "Netherlands, 2020",
         "marker": {
          "color": "#FECB52",
          "symbol": "circle"
         },
         "mode": "markers",
         "name": "Netherlands, 2020",
         "orientation": "v",
         "showlegend": true,
         "type": "scatter",
         "x": [
          67566
         ],
         "xaxis": "x",
         "y": [
          34462
         ],
         "yaxis": "y"
        },
        {
         "hovertemplate": "geo=Netherlands<br>time_period=2021<br>ZEV Diff=%{x}<br>EV Diff=%{y}<extra></extra>",
         "legendgroup": "Netherlands, 2021",
         "marker": {
          "color": "#FECB52",
          "symbol": "diamond"
         },
         "mode": "markers",
         "name": "Netherlands, 2021",
         "orientation": "v",
         "showlegend": true,
         "type": "scatter",
         "x": [
          71301
         ],
         "xaxis": "x",
         "y": [
          69989
         ],
         "yaxis": "y"
        },
        {
         "hovertemplate": "geo=Netherlands<br>time_period=2022<br>ZEV Diff=%{x}<br>EV Diff=%{y}<extra></extra>",
         "legendgroup": "Netherlands, 2022",
         "marker": {
          "color": "#FECB52",
          "symbol": "square"
         },
         "mode": "markers",
         "name": "Netherlands, 2022",
         "orientation": "v",
         "showlegend": true,
         "type": "scatter",
         "x": [
          85023
         ],
         "xaxis": "x",
         "y": [
          4375
         ],
         "yaxis": "y"
        },
        {
         "hovertemplate": "geo=Poland<br>time_period=2015<br>ZEV Diff=%{x}<br>EV Diff=%{y}<extra></extra>",
         "legendgroup": "Poland, 2015",
         "marker": {
          "color": "#636efa",
          "symbol": "circle"
         },
         "mode": "markers",
         "name": "Poland, 2015",
         "orientation": "v",
         "showlegend": true,
         "type": "scatter",
         "x": [
          66
         ],
         "xaxis": "x",
         "y": [
          -1992154
         ],
         "yaxis": "y"
        },
        {
         "hovertemplate": "geo=Poland<br>time_period=2016<br>ZEV Diff=%{x}<br>EV Diff=%{y}<extra></extra>",
         "legendgroup": "Poland, 2016",
         "marker": {
          "color": "#636efa",
          "symbol": "diamond"
         },
         "mode": "markers",
         "name": "Poland, 2016",
         "orientation": "v",
         "showlegend": true,
         "type": "scatter",
         "x": [
          129
         ],
         "xaxis": "x",
         "y": [
          706504
         ],
         "yaxis": "y"
        },
        {
         "hovertemplate": "geo=Poland<br>time_period=2017<br>ZEV Diff=%{x}<br>EV Diff=%{y}<extra></extra>",
         "legendgroup": "Poland, 2017",
         "marker": {
          "color": "#636efa",
          "symbol": "square"
         },
         "mode": "markers",
         "name": "Poland, 2017",
         "orientation": "v",
         "showlegend": true,
         "type": "scatter",
         "x": [
          548
         ],
         "xaxis": "x",
         "y": [
          547161
         ],
         "yaxis": "y"
        },
        {
         "hovertemplate": "geo=Poland<br>time_period=2018<br>ZEV Diff=%{x}<br>EV Diff=%{y}<extra></extra>",
         "legendgroup": "Poland, 2018",
         "marker": {
          "color": "#636efa",
          "symbol": "x"
         },
         "mode": "markers",
         "name": "Poland, 2018",
         "orientation": "v",
         "showlegend": true,
         "type": "scatter",
         "x": [
          2123
         ],
         "xaxis": "x",
         "y": [
          642867
         ],
         "yaxis": "y"
        },
        {
         "hovertemplate": "geo=Poland<br>time_period=2019<br>ZEV Diff=%{x}<br>EV Diff=%{y}<extra></extra>",
         "legendgroup": "Poland, 2019",
         "marker": {
          "color": "#636efa",
          "symbol": "cross"
         },
         "mode": "markers",
         "name": "Poland, 2019",
         "orientation": "v",
         "showlegend": true,
         "type": "scatter",
         "x": [
          2178
         ],
         "xaxis": "x",
         "y": [
          631059
         ],
         "yaxis": "y"
        },
        {
         "hovertemplate": "geo=Poland<br>time_period=2020<br>ZEV Diff=%{x}<br>EV Diff=%{y}<extra></extra>",
         "legendgroup": "Poland, 2020",
         "marker": {
          "color": "#636efa",
          "symbol": "circle"
         },
         "mode": "markers",
         "name": "Poland, 2020",
         "orientation": "v",
         "showlegend": true,
         "type": "scatter",
         "x": [
          4576
         ],
         "xaxis": "x",
         "y": [
          436945
         ],
         "yaxis": "y"
        },
        {
         "hovertemplate": "geo=Poland<br>time_period=2021<br>ZEV Diff=%{x}<br>EV Diff=%{y}<extra></extra>",
         "legendgroup": "Poland, 2021",
         "marker": {
          "color": "#636efa",
          "symbol": "diamond"
         },
         "mode": "markers",
         "name": "Poland, 2021",
         "orientation": "v",
         "showlegend": true,
         "type": "scatter",
         "x": [
          8419
         ],
         "xaxis": "x",
         "y": [
          361723
         ],
         "yaxis": "y"
        },
        {
         "hovertemplate": "geo=Poland<br>time_period=2022<br>ZEV Diff=%{x}<br>EV Diff=%{y}<extra></extra>",
         "legendgroup": "Poland, 2022",
         "marker": {
          "color": "#636efa",
          "symbol": "square"
         },
         "mode": "markers",
         "name": "Poland, 2022",
         "orientation": "v",
         "showlegend": true,
         "type": "scatter",
         "x": [
          12733
         ],
         "xaxis": "x",
         "y": [
          89361
         ],
         "yaxis": "y"
        },
        {
         "hovertemplate": "geo=Portugal<br>time_period=2015<br>ZEV Diff=%{x}<br>EV Diff=%{y}<extra></extra>",
         "legendgroup": "Portugal, 2015",
         "marker": {
          "color": "#EF553B",
          "symbol": "circle"
         },
         "mode": "markers",
         "name": "Portugal, 2015",
         "orientation": "v",
         "showlegend": true,
         "type": "scatter",
         "x": [
          726
         ],
         "xaxis": "x",
         "y": [
          22592
         ],
         "yaxis": "y"
        },
        {
         "hovertemplate": "geo=Portugal<br>time_period=2016<br>ZEV Diff=%{x}<br>EV Diff=%{y}<extra></extra>",
         "legendgroup": "Portugal, 2016",
         "marker": {
          "color": "#EF553B",
          "symbol": "diamond"
         },
         "mode": "markers",
         "name": "Portugal, 2016",
         "orientation": "v",
         "showlegend": true,
         "type": "scatter",
         "x": [
          985
         ],
         "xaxis": "x",
         "y": [
          126281
         ],
         "yaxis": "y"
        },
        {
         "hovertemplate": "geo=Portugal<br>time_period=2017<br>ZEV Diff=%{x}<br>EV Diff=%{y}<extra></extra>",
         "legendgroup": "Portugal, 2017",
         "marker": {
          "color": "#EF553B",
          "symbol": "square"
         },
         "mode": "markers",
         "name": "Portugal, 2017",
         "orientation": "v",
         "showlegend": true,
         "type": "scatter",
         "x": [
          2284
         ],
         "xaxis": "x",
         "y": [
          206959
         ],
         "yaxis": "y"
        },
        {
         "hovertemplate": "geo=Portugal<br>time_period=2018<br>ZEV Diff=%{x}<br>EV Diff=%{y}<extra></extra>",
         "legendgroup": "Portugal, 2018",
         "marker": {
          "color": "#EF553B",
          "symbol": "x"
         },
         "mode": "markers",
         "name": "Portugal, 2018",
         "orientation": "v",
         "showlegend": true,
         "type": "scatter",
         "x": [
          5313
         ],
         "xaxis": "x",
         "y": [
          218185
         ],
         "yaxis": "y"
        },
        {
         "hovertemplate": "geo=Portugal<br>time_period=2019<br>ZEV Diff=%{x}<br>EV Diff=%{y}<extra></extra>",
         "legendgroup": "Portugal, 2019",
         "marker": {
          "color": "#EF553B",
          "symbol": "cross"
         },
         "mode": "markers",
         "name": "Portugal, 2019",
         "orientation": "v",
         "showlegend": true,
         "type": "scatter",
         "x": [
          8159
         ],
         "xaxis": "x",
         "y": [
          160990
         ],
         "yaxis": "y"
        },
        {
         "hovertemplate": "geo=Portugal<br>time_period=2020<br>ZEV Diff=%{x}<br>EV Diff=%{y}<extra></extra>",
         "legendgroup": "Portugal, 2020",
         "marker": {
          "color": "#EF553B",
          "symbol": "circle"
         },
         "mode": "markers",
         "name": "Portugal, 2020",
         "orientation": "v",
         "showlegend": true,
         "type": "scatter",
         "x": [
          8810
         ],
         "xaxis": "x",
         "y": [
          105034
         ],
         "yaxis": "y"
        },
        {
         "hovertemplate": "geo=Portugal<br>time_period=2021<br>ZEV Diff=%{x}<br>EV Diff=%{y}<extra></extra>",
         "legendgroup": "Portugal, 2021",
         "marker": {
          "color": "#EF553B",
          "symbol": "diamond"
         },
         "mode": "markers",
         "name": "Portugal, 2021",
         "orientation": "v",
         "showlegend": true,
         "type": "scatter",
         "x": [
          16360
         ],
         "xaxis": "x",
         "y": [
          50321
         ],
         "yaxis": "y"
        },
        {
         "hovertemplate": "geo=Portugal<br>time_period=2022<br>ZEV Diff=%{x}<br>EV Diff=%{y}<extra></extra>",
         "legendgroup": "Portugal, 2022",
         "marker": {
          "color": "#EF553B",
          "symbol": "square"
         },
         "mode": "markers",
         "name": "Portugal, 2022",
         "orientation": "v",
         "showlegend": true,
         "type": "scatter",
         "x": [
          24038
         ],
         "xaxis": "x",
         "y": [
          121902
         ],
         "yaxis": "y"
        },
        {
         "hovertemplate": "geo=Romania<br>time_period=2015<br>ZEV Diff=%{x}<br>EV Diff=%{y}<extra></extra>",
         "legendgroup": "Romania, 2015",
         "marker": {
          "color": "#00cc96",
          "symbol": "circle"
         },
         "mode": "markers",
         "name": "Romania, 2015",
         "orientation": "v",
         "showlegend": true,
         "type": "scatter",
         "x": [
          1126
         ],
         "xaxis": "x",
         "y": [
          246369
         ],
         "yaxis": "y"
        },
        {
         "hovertemplate": "geo=Romania<br>time_period=2016<br>ZEV Diff=%{x}<br>EV Diff=%{y}<extra></extra>",
         "legendgroup": "Romania, 2016",
         "marker": {
          "color": "#00cc96",
          "symbol": "diamond"
         },
         "mode": "markers",
         "name": "Romania, 2016",
         "orientation": "v",
         "showlegend": true,
         "type": "scatter",
         "x": [
          2485
         ],
         "xaxis": "x",
         "y": [
          314879
         ],
         "yaxis": "y"
        },
        {
         "hovertemplate": "geo=Romania<br>time_period=2017<br>ZEV Diff=%{x}<br>EV Diff=%{y}<extra></extra>",
         "legendgroup": "Romania, 2017",
         "marker": {
          "color": "#00cc96",
          "symbol": "square"
         },
         "mode": "markers",
         "name": "Romania, 2017",
         "orientation": "v",
         "showlegend": true,
         "type": "scatter",
         "x": [
          3599
         ],
         "xaxis": "x",
         "y": [
          522172
         ],
         "yaxis": "y"
        },
        {
         "hovertemplate": "geo=Romania<br>time_period=2018<br>ZEV Diff=%{x}<br>EV Diff=%{y}<extra></extra>",
         "legendgroup": "Romania, 2018",
         "marker": {
          "color": "#00cc96",
          "symbol": "x"
         },
         "mode": "markers",
         "name": "Romania, 2018",
         "orientation": "v",
         "showlegend": true,
         "type": "scatter",
         "x": [
          -8844
         ],
         "xaxis": "x",
         "y": [
          463186
         ],
         "yaxis": "y"
        },
        {
         "hovertemplate": "geo=Romania<br>time_period=2019<br>ZEV Diff=%{x}<br>EV Diff=%{y}<extra></extra>",
         "legendgroup": "Romania, 2019",
         "marker": {
          "color": "#00cc96",
          "symbol": "cross"
         },
         "mode": "markers",
         "name": "Romania, 2019",
         "orientation": "v",
         "showlegend": true,
         "type": "scatter",
         "x": [
          1695
         ],
         "xaxis": "x",
         "y": [
          448753
         ],
         "yaxis": "y"
        },
        {
         "hovertemplate": "geo=Romania<br>time_period=2020<br>ZEV Diff=%{x}<br>EV Diff=%{y}<extra></extra>",
         "legendgroup": "Romania, 2020",
         "marker": {
          "color": "#00cc96",
          "symbol": "circle"
         },
         "mode": "markers",
         "name": "Romania, 2020",
         "orientation": "v",
         "showlegend": true,
         "type": "scatter",
         "x": [
          3005
         ],
         "xaxis": "x",
         "y": [
          368739
         ],
         "yaxis": "y"
        },
        {
         "hovertemplate": "geo=Romania<br>time_period=2021<br>ZEV Diff=%{x}<br>EV Diff=%{y}<extra></extra>",
         "legendgroup": "Romania, 2021",
         "marker": {
          "color": "#00cc96",
          "symbol": "diamond"
         },
         "mode": "markers",
         "name": "Romania, 2021",
         "orientation": "v",
         "showlegend": true,
         "type": "scatter",
         "x": [
          6630
         ],
         "xaxis": "x",
         "y": [
          329681
         ],
         "yaxis": "y"
        },
        {
         "hovertemplate": "geo=Romania<br>time_period=2022<br>ZEV Diff=%{x}<br>EV Diff=%{y}<extra></extra>",
         "legendgroup": "Romania, 2022",
         "marker": {
          "color": "#00cc96",
          "symbol": "square"
         },
         "mode": "markers",
         "name": "Romania, 2022",
         "orientation": "v",
         "showlegend": true,
         "type": "scatter",
         "x": [
          12258
         ],
         "xaxis": "x",
         "y": [
          241889
         ],
         "yaxis": "y"
        },
        {
         "hovertemplate": "geo=Slovakia<br>time_period=2015<br>ZEV Diff=%{x}<br>EV Diff=%{y}<extra></extra>",
         "legendgroup": "Slovakia, 2015",
         "marker": {
          "color": "#ab63fa",
          "symbol": "circle"
         },
         "mode": "markers",
         "name": "Slovakia, 2015",
         "orientation": "v",
         "showlegend": true,
         "type": "scatter",
         "x": [
          24
         ],
         "xaxis": "x",
         "y": [
          85450
         ],
         "yaxis": "y"
        },
        {
         "hovertemplate": "geo=Slovakia<br>time_period=2016<br>ZEV Diff=%{x}<br>EV Diff=%{y}<extra></extra>",
         "legendgroup": "Slovakia, 2016",
         "marker": {
          "color": "#ab63fa",
          "symbol": "diamond"
         },
         "mode": "markers",
         "name": "Slovakia, 2016",
         "orientation": "v",
         "showlegend": true,
         "type": "scatter",
         "x": [
          61
         ],
         "xaxis": "x",
         "y": [
          87139
         ],
         "yaxis": "y"
        },
        {
         "hovertemplate": "geo=Slovakia<br>time_period=2017<br>ZEV Diff=%{x}<br>EV Diff=%{y}<extra></extra>",
         "legendgroup": "Slovakia, 2017",
         "marker": {
          "color": "#ab63fa",
          "symbol": "square"
         },
         "mode": "markers",
         "name": "Slovakia, 2017",
         "orientation": "v",
         "showlegend": true,
         "type": "scatter",
         "x": [
          200
         ],
         "xaxis": "x",
         "y": [
          101143
         ],
         "yaxis": "y"
        },
        {
         "hovertemplate": "geo=Slovakia<br>time_period=2018<br>ZEV Diff=%{x}<br>EV Diff=%{y}<extra></extra>",
         "legendgroup": "Slovakia, 2018",
         "marker": {
          "color": "#ab63fa",
          "symbol": "x"
         },
         "mode": "markers",
         "name": "Slovakia, 2018",
         "orientation": "v",
         "showlegend": true,
         "type": "scatter",
         "x": [
          397
         ],
         "xaxis": "x",
         "y": [
          98094
         ],
         "yaxis": "y"
        },
        {
         "hovertemplate": "geo=Slovakia<br>time_period=2019<br>ZEV Diff=%{x}<br>EV Diff=%{y}<extra></extra>",
         "legendgroup": "Slovakia, 2019",
         "marker": {
          "color": "#ab63fa",
          "symbol": "cross"
         },
         "mode": "markers",
         "name": "Slovakia, 2019",
         "orientation": "v",
         "showlegend": true,
         "type": "scatter",
         "x": [
          161
         ],
         "xaxis": "x",
         "y": [
          71808
         ],
         "yaxis": "y"
        },
        {
         "hovertemplate": "geo=Slovakia<br>time_period=2020<br>ZEV Diff=%{x}<br>EV Diff=%{y}<extra></extra>",
         "legendgroup": "Slovakia, 2020",
         "marker": {
          "color": "#ab63fa",
          "symbol": "circle"
         },
         "mode": "markers",
         "name": "Slovakia, 2020",
         "orientation": "v",
         "showlegend": true,
         "type": "scatter",
         "x": [
          907
         ],
         "xaxis": "x",
         "y": [
          45502
         ],
         "yaxis": "y"
        },
        {
         "hovertemplate": "geo=Slovakia<br>time_period=2021<br>ZEV Diff=%{x}<br>EV Diff=%{y}<extra></extra>",
         "legendgroup": "Slovakia, 2021",
         "marker": {
          "color": "#ab63fa",
          "symbol": "diamond"
         },
         "mode": "markers",
         "name": "Slovakia, 2021",
         "orientation": "v",
         "showlegend": true,
         "type": "scatter",
         "x": [
          1138
         ],
         "xaxis": "x",
         "y": [
          52059
         ],
         "yaxis": "y"
        },
        {
         "hovertemplate": "geo=Slovakia<br>time_period=2022<br>ZEV Diff=%{x}<br>EV Diff=%{y}<extra></extra>",
         "legendgroup": "Slovakia, 2022",
         "marker": {
          "color": "#ab63fa",
          "symbol": "square"
         },
         "mode": "markers",
         "name": "Slovakia, 2022",
         "orientation": "v",
         "showlegend": true,
         "type": "scatter",
         "x": [
          1530
         ],
         "xaxis": "x",
         "y": [
          60778
         ],
         "yaxis": "y"
        },
        {
         "hovertemplate": "geo=Slovenia<br>time_period=2015<br>ZEV Diff=%{x}<br>EV Diff=%{y}<extra></extra>",
         "legendgroup": "Slovenia, 2015",
         "marker": {
          "color": "#FFA15A",
          "symbol": "circle"
         },
         "mode": "markers",
         "name": "Slovenia, 2015",
         "orientation": "v",
         "showlegend": true,
         "type": "scatter",
         "x": [
          155
         ],
         "xaxis": "x",
         "y": [
          10220
         ],
         "yaxis": "y"
        },
        {
         "hovertemplate": "geo=Slovenia<br>time_period=2016<br>ZEV Diff=%{x}<br>EV Diff=%{y}<extra></extra>",
         "legendgroup": "Slovenia, 2016",
         "marker": {
          "color": "#FFA15A",
          "symbol": "diamond"
         },
         "mode": "markers",
         "name": "Slovenia, 2016",
         "orientation": "v",
         "showlegend": true,
         "type": "scatter",
         "x": [
          169
         ],
         "xaxis": "x",
         "y": [
          17617
         ],
         "yaxis": "y"
        },
        {
         "hovertemplate": "geo=Slovenia<br>time_period=2017<br>ZEV Diff=%{x}<br>EV Diff=%{y}<extra></extra>",
         "legendgroup": "Slovenia, 2017",
         "marker": {
          "color": "#FFA15A",
          "symbol": "square"
         },
         "mode": "markers",
         "name": "Slovenia, 2017",
         "orientation": "v",
         "showlegend": true,
         "type": "scatter",
         "x": [
          322
         ],
         "xaxis": "x",
         "y": [
          21090
         ],
         "yaxis": "y"
        },
        {
         "hovertemplate": "geo=Slovenia<br>time_period=2018<br>ZEV Diff=%{x}<br>EV Diff=%{y}<extra></extra>",
         "legendgroup": "Slovenia, 2018",
         "marker": {
          "color": "#FFA15A",
          "symbol": "x"
         },
         "mode": "markers",
         "name": "Slovenia, 2018",
         "orientation": "v",
         "showlegend": true,
         "type": "scatter",
         "x": [
          529
         ],
         "xaxis": "x",
         "y": [
          24686
         ],
         "yaxis": "y"
        },
        {
         "hovertemplate": "geo=Slovenia<br>time_period=2019<br>ZEV Diff=%{x}<br>EV Diff=%{y}<extra></extra>",
         "legendgroup": "Slovenia, 2019",
         "marker": {
          "color": "#FFA15A",
          "symbol": "cross"
         },
         "mode": "markers",
         "name": "Slovenia, 2019",
         "orientation": "v",
         "showlegend": true,
         "type": "scatter",
         "x": [
          690
         ],
         "xaxis": "x",
         "y": [
          21531
         ],
         "yaxis": "y"
        },
        {
         "hovertemplate": "geo=Slovenia<br>time_period=2020<br>ZEV Diff=%{x}<br>EV Diff=%{y}<extra></extra>",
         "legendgroup": "Slovenia, 2020",
         "marker": {
          "color": "#FFA15A",
          "symbol": "circle"
         },
         "mode": "markers",
         "name": "Slovenia, 2020",
         "orientation": "v",
         "showlegend": true,
         "type": "scatter",
         "x": [
          1672
         ],
         "xaxis": "x",
         "y": [
          3647
         ],
         "yaxis": "y"
        },
        {
         "hovertemplate": "geo=Slovenia<br>time_period=2021<br>ZEV Diff=%{x}<br>EV Diff=%{y}<extra></extra>",
         "legendgroup": "Slovenia, 2021",
         "marker": {
          "color": "#FFA15A",
          "symbol": "diamond"
         },
         "mode": "markers",
         "name": "Slovenia, 2021",
         "orientation": "v",
         "showlegend": true,
         "type": "scatter",
         "x": [
          1743
         ],
         "xaxis": "x",
         "y": [
          17024
         ],
         "yaxis": "y"
        },
        {
         "hovertemplate": "geo=Slovenia<br>time_period=2022<br>ZEV Diff=%{x}<br>EV Diff=%{y}<extra></extra>",
         "legendgroup": "Slovenia, 2022",
         "marker": {
          "color": "#FFA15A",
          "symbol": "square"
         },
         "mode": "markers",
         "name": "Slovenia, 2022",
         "orientation": "v",
         "showlegend": true,
         "type": "scatter",
         "x": [
          2564
         ],
         "xaxis": "x",
         "y": [
          15734
         ],
         "yaxis": "y"
        },
        {
         "hovertemplate": "geo=Spain<br>time_period=2015<br>ZEV Diff=%{x}<br>EV Diff=%{y}<extra></extra>",
         "legendgroup": "Spain, 2015",
         "marker": {
          "color": "#19d3f3",
          "symbol": "circle"
         },
         "mode": "markers",
         "name": "Spain, 2015",
         "orientation": "v",
         "showlegend": true,
         "type": "scatter",
         "x": [
          2411
         ],
         "xaxis": "x",
         "y": [
          323626
         ],
         "yaxis": "y"
        },
        {
         "hovertemplate": "geo=Spain<br>time_period=2016<br>ZEV Diff=%{x}<br>EV Diff=%{y}<extra></extra>",
         "legendgroup": "Spain, 2016",
         "marker": {
          "color": "#19d3f3",
          "symbol": "diamond"
         },
         "mode": "markers",
         "name": "Spain, 2016",
         "orientation": "v",
         "showlegend": true,
         "type": "scatter",
         "x": [
          511
         ],
         "xaxis": "x",
         "y": [
          1648874
         ],
         "yaxis": "y"
        },
        {
         "hovertemplate": "geo=Spain<br>time_period=2017<br>ZEV Diff=%{x}<br>EV Diff=%{y}<extra></extra>",
         "legendgroup": "Spain, 2017",
         "marker": {
          "color": "#19d3f3",
          "symbol": "square"
         },
         "mode": "markers",
         "name": "Spain, 2017",
         "orientation": "v",
         "showlegend": true,
         "type": "scatter",
         "x": [
          9570
         ],
         "xaxis": "x",
         "y": [
          662053
         ],
         "yaxis": "y"
        },
        {
         "hovertemplate": "geo=Spain<br>time_period=2018<br>ZEV Diff=%{x}<br>EV Diff=%{y}<extra></extra>",
         "legendgroup": "Spain, 2018",
         "marker": {
          "color": "#19d3f3",
          "symbol": "x"
         },
         "mode": "markers",
         "name": "Spain, 2018",
         "orientation": "v",
         "showlegend": true,
         "type": "scatter",
         "x": [
          540
         ],
         "xaxis": "x",
         "y": [
          627093
         ],
         "yaxis": "y"
        },
        {
         "hovertemplate": "geo=Spain<br>time_period=2019<br>ZEV Diff=%{x}<br>EV Diff=%{y}<extra></extra>",
         "legendgroup": "Spain, 2019",
         "marker": {
          "color": "#19d3f3",
          "symbol": "cross"
         },
         "mode": "markers",
         "name": "Spain, 2019",
         "orientation": "v",
         "showlegend": true,
         "type": "scatter",
         "x": [
          10333
         ],
         "xaxis": "x",
         "y": [
          522063
         ],
         "yaxis": "y"
        },
        {
         "hovertemplate": "geo=Spain<br>time_period=2020<br>ZEV Diff=%{x}<br>EV Diff=%{y}<extra></extra>",
         "legendgroup": "Spain, 2020",
         "marker": {
          "color": "#19d3f3",
          "symbol": "circle"
         },
         "mode": "markers",
         "name": "Spain, 2020",
         "orientation": "v",
         "showlegend": true,
         "type": "scatter",
         "x": [
          17013
         ],
         "xaxis": "x",
         "y": [
          180748
         ],
         "yaxis": "y"
        },
        {
         "hovertemplate": "geo=Spain<br>time_period=2021<br>ZEV Diff=%{x}<br>EV Diff=%{y}<extra></extra>",
         "legendgroup": "Spain, 2021",
         "marker": {
          "color": "#19d3f3",
          "symbol": "diamond"
         },
         "mode": "markers",
         "name": "Spain, 2021",
         "orientation": "v",
         "showlegend": true,
         "type": "scatter",
         "x": [
          22891
         ],
         "xaxis": "x",
         "y": [
          236644
         ],
         "yaxis": "y"
        },
        {
         "hovertemplate": "geo=Spain<br>time_period=2022<br>ZEV Diff=%{x}<br>EV Diff=%{y}<extra></extra>",
         "legendgroup": "Spain, 2022",
         "marker": {
          "color": "#19d3f3",
          "symbol": "square"
         },
         "mode": "markers",
         "name": "Spain, 2022",
         "orientation": "v",
         "showlegend": true,
         "type": "scatter",
         "x": [
          29602
         ],
         "xaxis": "x",
         "y": [
          281994
         ],
         "yaxis": "y"
        },
        {
         "hovertemplate": "geo=Sweden<br>time_period=2015<br>ZEV Diff=%{x}<br>EV Diff=%{y}<extra></extra>",
         "legendgroup": "Sweden, 2015",
         "marker": {
          "color": "#FF6692",
          "symbol": "circle"
         },
         "mode": "markers",
         "name": "Sweden, 2015",
         "orientation": "v",
         "showlegend": true,
         "type": "scatter",
         "x": [
          2594
         ],
         "xaxis": "x",
         "y": [
          80957
         ],
         "yaxis": "y"
        },
        {
         "hovertemplate": "geo=Sweden<br>time_period=2016<br>ZEV Diff=%{x}<br>EV Diff=%{y}<extra></extra>",
         "legendgroup": "Sweden, 2016",
         "marker": {
          "color": "#FF6692",
          "symbol": "diamond"
         },
         "mode": "markers",
         "name": "Sweden, 2016",
         "orientation": "v",
         "showlegend": true,
         "type": "scatter",
         "x": [
          2786
         ],
         "xaxis": "x",
         "y": [
          96214
         ],
         "yaxis": "y"
        },
        {
         "hovertemplate": "geo=Sweden<br>time_period=2017<br>ZEV Diff=%{x}<br>EV Diff=%{y}<extra></extra>",
         "legendgroup": "Sweden, 2017",
         "marker": {
          "color": "#FF6692",
          "symbol": "square"
         },
         "mode": "markers",
         "name": "Sweden, 2017",
         "orientation": "v",
         "showlegend": true,
         "type": "scatter",
         "x": [
          3513
         ],
         "xaxis": "x",
         "y": [
          74048
         ],
         "yaxis": "y"
        },
        {
         "hovertemplate": "geo=Sweden<br>time_period=2018<br>ZEV Diff=%{x}<br>EV Diff=%{y}<extra></extra>",
         "legendgroup": "Sweden, 2018",
         "marker": {
          "color": "#FF6692",
          "symbol": "x"
         },
         "mode": "markers",
         "name": "Sweden, 2018",
         "orientation": "v",
         "showlegend": true,
         "type": "scatter",
         "x": [
          5637
         ],
         "xaxis": "x",
         "y": [
          19519
         ],
         "yaxis": "y"
        },
        {
         "hovertemplate": "geo=Sweden<br>time_period=2019<br>ZEV Diff=%{x}<br>EV Diff=%{y}<extra></extra>",
         "legendgroup": "Sweden, 2019",
         "marker": {
          "color": "#FF6692",
          "symbol": "cross"
         },
         "mode": "markers",
         "name": "Sweden, 2019",
         "orientation": "v",
         "showlegend": true,
         "type": "scatter",
         "x": [
          13677
         ],
         "xaxis": "x",
         "y": [
          3460
         ],
         "yaxis": "y"
        },
        {
         "hovertemplate": "geo=Sweden<br>time_period=2020<br>ZEV Diff=%{x}<br>EV Diff=%{y}<extra></extra>",
         "legendgroup": "Sweden, 2020",
         "marker": {
          "color": "#FF6692",
          "symbol": "circle"
         },
         "mode": "markers",
         "name": "Sweden, 2020",
         "orientation": "v",
         "showlegend": true,
         "type": "scatter",
         "x": [
          25447
         ],
         "xaxis": "x",
         "y": [
          30730
         ],
         "yaxis": "y"
        },
        {
         "hovertemplate": "geo=Sweden<br>time_period=2021<br>ZEV Diff=%{x}<br>EV Diff=%{y}<extra></extra>",
         "legendgroup": "Sweden, 2021",
         "marker": {
          "color": "#FF6692",
          "symbol": "diamond"
         },
         "mode": "markers",
         "name": "Sweden, 2021",
         "orientation": "v",
         "showlegend": true,
         "type": "scatter",
         "x": [
          54392
         ],
         "xaxis": "x",
         "y": [
          -11706
         ],
         "yaxis": "y"
        },
        {
         "hovertemplate": "geo=Sweden<br>time_period=2022<br>ZEV Diff=%{x}<br>EV Diff=%{y}<extra></extra>",
         "legendgroup": "Sweden, 2022",
         "marker": {
          "color": "#FF6692",
          "symbol": "square"
         },
         "mode": "markers",
         "name": "Sweden, 2022",
         "orientation": "v",
         "showlegend": true,
         "type": "scatter",
         "x": [
          87530
         ],
         "xaxis": "x",
         "y": [
          -93748
         ],
         "yaxis": "y"
        },
        {
         "hovertemplate": "<b>OLS trendline</b><br>ev_diff = -0.403534 * zev_diff + 122870<br>R<sup>2</sup>=0.004456<br><br>ZEV Diff=%{x}<br>EV Diff=%{y} <b>(trend)</b><extra></extra>",
         "legendgroup": "Overall Trendline",
         "line": {
          "color": "#B6E880"
         },
         "mode": "lines",
         "name": "Overall Trendline",
         "showlegend": true,
         "type": "scatter",
         "x": [
          -8844,
          4,
          8,
          17,
          23,
          24,
          27,
          30,
          30,
          32,
          34,
          35,
          36,
          39,
          40,
          47,
          49,
          49,
          49,
          52,
          53,
          56,
          61,
          63,
          66,
          67,
          71,
          71,
          73,
          93,
          99,
          105,
          118,
          124,
          128,
          129,
          130,
          155,
          161,
          167,
          169,
          169,
          176,
          189,
          200,
          211,
          216,
          233,
          261,
          261,
          264,
          271,
          285,
          296,
          310,
          322,
          326,
          346,
          368,
          380,
          391,
          397,
          414,
          416,
          430,
          475,
          490,
          497,
          511,
          529,
          540,
          547,
          548,
          551,
          560,
          581,
          588,
          649,
          678,
          684,
          690,
          726,
          748,
          789,
          859,
          901,
          907,
          947,
          962,
          985,
          1006,
          1020,
          1069,
          1079,
          1080,
          1126,
          1138,
          1155,
          1159,
          1238,
          1272,
          1436,
          1530,
          1545,
          1649,
          1663,
          1672,
          1695,
          1726,
          1743,
          1817,
          1825,
          1837,
          1840,
          1843,
          1880,
          1893,
          2123,
          2176,
          2178,
          2284,
          2330,
          2350,
          2356,
          2411,
          2475,
          2485,
          2564,
          2594,
          2756,
          2786,
          2924,
          3005,
          3026,
          3158,
          3160,
          3339,
          3513,
          3599,
          3742,
          3928,
          3980,
          4048,
          4130,
          4417,
          4576,
          4596,
          5008,
          5129,
          5150,
          5313,
          5460,
          5551,
          5637,
          5951,
          6218,
          6630,
          7086,
          7812,
          7832,
          8071,
          8138,
          8159,
          8419,
          8709,
          8720,
          8810,
          9570,
          10333,
          10589,
          11015,
          12258,
          12733,
          13060,
          13539,
          13677,
          14988,
          15530,
          15963,
          16360,
          16418,
          17013,
          19449,
          20076,
          20603,
          21198,
          22732,
          22891,
          23087,
          24038,
          24039,
          25447,
          29363,
          29602,
          30358,
          32042,
          33693,
          34784,
          34930,
          37443,
          40108,
          46038,
          53587,
          54392,
          61654,
          64965,
          67566,
          71301,
          85023,
          87530,
          103902,
          158263,
          172766,
          192647,
          309794,
          395327
         ],
         "xaxis": "x",
         "y": [
          126438.3925737325,
          122867.9270648241,
          122866.3129303264,
          122862.68112770659,
          122860.25992596004,
          122859.85639233561,
          122858.64579146233,
          122857.43519058907,
          122857.43519058907,
          122856.62812334021,
          122855.82105609137,
          122855.41752246695,
          122855.01398884252,
          122853.80338796924,
          122853.39985434483,
          122850.57511897385,
          122849.768051725,
          122849.768051725,
          122849.768051725,
          122848.55745085173,
          122848.1539172273,
          122846.94331635402,
          122844.9256482319,
          122844.11858098305,
          122842.90798010978,
          122842.50444648536,
          122840.89031198766,
          122840.89031198766,
          122840.08324473881,
          122832.01257225031,
          122829.59137050377,
          122827.17016875722,
          122821.9242316397,
          122819.50302989315,
          122817.88889539546,
          122817.48536177103,
          122817.0818281466,
          122806.99348753599,
          122804.57228578944,
          122802.1510840429,
          122801.34401679406,
          122801.34401679406,
          122798.51928142308,
          122793.27334430556,
          122788.8344744369,
          122784.39560456823,
          122782.3779364461,
          122775.51786483088,
          122764.218923347,
          122764.218923347,
          122763.00832247372,
          122760.18358710274,
          122754.53411636081,
          122750.09524649213,
          122744.4457757502,
          122739.6033722571,
          122737.9892377594,
          122729.91856527091,
          122721.04082553356,
          122716.19842204047,
          122711.7595521718,
          122709.33835042526,
          122702.47827881004,
          122701.67121156119,
          122696.02174081924,
          122677.86272772014,
          122671.80972335377,
          122668.9849879828,
          122663.33551724086,
          122656.07191200122,
          122651.63304213254,
          122648.80830676157,
          122648.40477313715,
          122647.19417226387,
          122643.56236964406,
          122635.08816353114,
          122632.26342816016,
          122607.64787707027,
          122595.94540196196,
          122593.52420021541,
          122591.10299846886,
          122576.57578798958,
          122567.69804825223,
          122551.15316965083,
          122522.9058159411,
          122505.95740371528,
          122503.53620196873,
          122487.39485699176,
          122481.34185262538,
          122472.06057926362,
          122463.58637315071,
          122457.93690240876,
          122438.16375481196,
          122434.1284185677,
          122433.7248849433,
          122415.16233821976,
          122410.31993472666,
          122403.45986311145,
          122401.84572861376,
          122369.9665722842,
          122356.24642905378,
          122290.06691464815,
          122252.13475395224,
          122246.08174958588,
          122204.11425264573,
          122198.46478190378,
          122194.83297928395,
          122185.55170592219,
          122173.04216356503,
          122166.18209194981,
          122136.3206037424,
          122133.092334747,
          122128.2499312539,
          122127.03933038063,
          122125.82872950735,
          122110.89798540364,
          122105.65204828614,
          122012.83931466848,
          121991.45203257399,
          121990.64496532513,
          121947.87040113613,
          121929.3078544126,
          121921.23718192411,
          121918.81598017756,
          121896.62163083421,
          121870.79547887105,
          121866.7601426268,
          121834.88098629726,
          121822.77497756452,
          121757.40253040775,
          121745.29652167502,
          121689.60888150442,
          121656.92265792603,
          121648.44845181312,
          121595.18201338907,
          121594.37494614023,
          121522.14242736824,
          121451.92757671836,
          121417.22368501786,
          121359.51837672514,
          121284.46112258217,
          121263.4773741121,
          121236.03708765123,
          121202.94733044841,
          121087.13318023857,
          121022.97133395507,
          121014.90066146659,
          120848.64480820367,
          120799.8172396483,
          120791.34303353538,
          120725.56705275418,
          120666.24760996377,
          120629.52605014114,
          120594.82215844063,
          120468.11260037131,
          120360.36912264996,
          120194.11326938705,
          120010.10193664946,
          119717.13652531723,
          119709.06585282875,
          119612.62131659128,
          119585.58456375483,
          119577.11035764191,
          119472.19161529154,
          119355.16686420841,
          119350.72799433974,
          119314.40996814154,
          119007.72441357888,
          118699.82825814295,
          118596.52365029027,
          118424.6183262854,
          117923.02603112569,
          117731.34755952403,
          117599.39206433721,
          117406.09945823785,
          117350.41181806725,
          116821.37923644668,
          116602.66401200856,
          116427.93395263274,
          116267.7311037362,
          116244.32615351958,
          116004.22364698697,
          115021.21573788876,
          114768.20015537458,
          114555.53793530284,
          114315.43542877023,
          113696.41484890298,
          113632.25300261947,
          113553.16041223226,
          113169.39993540452,
          113168.9964017801,
          112600.82105859033,
          111020.5833853438,
          110924.13884910634,
          110619.06742904137,
          109939.51680551044,
          109273.28279158552,
          108833.02760733833,
          108774.11169817235,
          107760.03169999346,
          106684.61459090203,
          104291.66019806446,
          101245.38486728356,
          100920.54029962179,
          97990.07911905073,
          96653.97928858105,
          95604.38833145279,
          94097.19024422711,
          88559.90184987347,
          87548.24305344113,
          80941.59055436242,
          59005.09919701958,
          53152.651041990364,
          45129.99905480593,
          -2142.7544456565843,
          -36658.19594356144
         ],
         "yaxis": "y"
        }
       ],
       "layout": {
        "legend": {
         "title": {
          "text": "geo, time_period"
         },
         "tracegroupgap": 0
        },
        "template": {
         "data": {
          "bar": [
           {
            "error_x": {
             "color": "#2a3f5f"
            },
            "error_y": {
             "color": "#2a3f5f"
            },
            "marker": {
             "line": {
              "color": "#E5ECF6",
              "width": 0.5
             },
             "pattern": {
              "fillmode": "overlay",
              "size": 10,
              "solidity": 0.2
             }
            },
            "type": "bar"
           }
          ],
          "barpolar": [
           {
            "marker": {
             "line": {
              "color": "#E5ECF6",
              "width": 0.5
             },
             "pattern": {
              "fillmode": "overlay",
              "size": 10,
              "solidity": 0.2
             }
            },
            "type": "barpolar"
           }
          ],
          "carpet": [
           {
            "aaxis": {
             "endlinecolor": "#2a3f5f",
             "gridcolor": "white",
             "linecolor": "white",
             "minorgridcolor": "white",
             "startlinecolor": "#2a3f5f"
            },
            "baxis": {
             "endlinecolor": "#2a3f5f",
             "gridcolor": "white",
             "linecolor": "white",
             "minorgridcolor": "white",
             "startlinecolor": "#2a3f5f"
            },
            "type": "carpet"
           }
          ],
          "choropleth": [
           {
            "colorbar": {
             "outlinewidth": 0,
             "ticks": ""
            },
            "type": "choropleth"
           }
          ],
          "contour": [
           {
            "colorbar": {
             "outlinewidth": 0,
             "ticks": ""
            },
            "colorscale": [
             [
              0,
              "#0d0887"
             ],
             [
              0.1111111111111111,
              "#46039f"
             ],
             [
              0.2222222222222222,
              "#7201a8"
             ],
             [
              0.3333333333333333,
              "#9c179e"
             ],
             [
              0.4444444444444444,
              "#bd3786"
             ],
             [
              0.5555555555555556,
              "#d8576b"
             ],
             [
              0.6666666666666666,
              "#ed7953"
             ],
             [
              0.7777777777777778,
              "#fb9f3a"
             ],
             [
              0.8888888888888888,
              "#fdca26"
             ],
             [
              1,
              "#f0f921"
             ]
            ],
            "type": "contour"
           }
          ],
          "contourcarpet": [
           {
            "colorbar": {
             "outlinewidth": 0,
             "ticks": ""
            },
            "type": "contourcarpet"
           }
          ],
          "heatmap": [
           {
            "colorbar": {
             "outlinewidth": 0,
             "ticks": ""
            },
            "colorscale": [
             [
              0,
              "#0d0887"
             ],
             [
              0.1111111111111111,
              "#46039f"
             ],
             [
              0.2222222222222222,
              "#7201a8"
             ],
             [
              0.3333333333333333,
              "#9c179e"
             ],
             [
              0.4444444444444444,
              "#bd3786"
             ],
             [
              0.5555555555555556,
              "#d8576b"
             ],
             [
              0.6666666666666666,
              "#ed7953"
             ],
             [
              0.7777777777777778,
              "#fb9f3a"
             ],
             [
              0.8888888888888888,
              "#fdca26"
             ],
             [
              1,
              "#f0f921"
             ]
            ],
            "type": "heatmap"
           }
          ],
          "heatmapgl": [
           {
            "colorbar": {
             "outlinewidth": 0,
             "ticks": ""
            },
            "colorscale": [
             [
              0,
              "#0d0887"
             ],
             [
              0.1111111111111111,
              "#46039f"
             ],
             [
              0.2222222222222222,
              "#7201a8"
             ],
             [
              0.3333333333333333,
              "#9c179e"
             ],
             [
              0.4444444444444444,
              "#bd3786"
             ],
             [
              0.5555555555555556,
              "#d8576b"
             ],
             [
              0.6666666666666666,
              "#ed7953"
             ],
             [
              0.7777777777777778,
              "#fb9f3a"
             ],
             [
              0.8888888888888888,
              "#fdca26"
             ],
             [
              1,
              "#f0f921"
             ]
            ],
            "type": "heatmapgl"
           }
          ],
          "histogram": [
           {
            "marker": {
             "pattern": {
              "fillmode": "overlay",
              "size": 10,
              "solidity": 0.2
             }
            },
            "type": "histogram"
           }
          ],
          "histogram2d": [
           {
            "colorbar": {
             "outlinewidth": 0,
             "ticks": ""
            },
            "colorscale": [
             [
              0,
              "#0d0887"
             ],
             [
              0.1111111111111111,
              "#46039f"
             ],
             [
              0.2222222222222222,
              "#7201a8"
             ],
             [
              0.3333333333333333,
              "#9c179e"
             ],
             [
              0.4444444444444444,
              "#bd3786"
             ],
             [
              0.5555555555555556,
              "#d8576b"
             ],
             [
              0.6666666666666666,
              "#ed7953"
             ],
             [
              0.7777777777777778,
              "#fb9f3a"
             ],
             [
              0.8888888888888888,
              "#fdca26"
             ],
             [
              1,
              "#f0f921"
             ]
            ],
            "type": "histogram2d"
           }
          ],
          "histogram2dcontour": [
           {
            "colorbar": {
             "outlinewidth": 0,
             "ticks": ""
            },
            "colorscale": [
             [
              0,
              "#0d0887"
             ],
             [
              0.1111111111111111,
              "#46039f"
             ],
             [
              0.2222222222222222,
              "#7201a8"
             ],
             [
              0.3333333333333333,
              "#9c179e"
             ],
             [
              0.4444444444444444,
              "#bd3786"
             ],
             [
              0.5555555555555556,
              "#d8576b"
             ],
             [
              0.6666666666666666,
              "#ed7953"
             ],
             [
              0.7777777777777778,
              "#fb9f3a"
             ],
             [
              0.8888888888888888,
              "#fdca26"
             ],
             [
              1,
              "#f0f921"
             ]
            ],
            "type": "histogram2dcontour"
           }
          ],
          "mesh3d": [
           {
            "colorbar": {
             "outlinewidth": 0,
             "ticks": ""
            },
            "type": "mesh3d"
           }
          ],
          "parcoords": [
           {
            "line": {
             "colorbar": {
              "outlinewidth": 0,
              "ticks": ""
             }
            },
            "type": "parcoords"
           }
          ],
          "pie": [
           {
            "automargin": true,
            "type": "pie"
           }
          ],
          "scatter": [
           {
            "fillpattern": {
             "fillmode": "overlay",
             "size": 10,
             "solidity": 0.2
            },
            "type": "scatter"
           }
          ],
          "scatter3d": [
           {
            "line": {
             "colorbar": {
              "outlinewidth": 0,
              "ticks": ""
             }
            },
            "marker": {
             "colorbar": {
              "outlinewidth": 0,
              "ticks": ""
             }
            },
            "type": "scatter3d"
           }
          ],
          "scattercarpet": [
           {
            "marker": {
             "colorbar": {
              "outlinewidth": 0,
              "ticks": ""
             }
            },
            "type": "scattercarpet"
           }
          ],
          "scattergeo": [
           {
            "marker": {
             "colorbar": {
              "outlinewidth": 0,
              "ticks": ""
             }
            },
            "type": "scattergeo"
           }
          ],
          "scattergl": [
           {
            "marker": {
             "colorbar": {
              "outlinewidth": 0,
              "ticks": ""
             }
            },
            "type": "scattergl"
           }
          ],
          "scattermapbox": [
           {
            "marker": {
             "colorbar": {
              "outlinewidth": 0,
              "ticks": ""
             }
            },
            "type": "scattermapbox"
           }
          ],
          "scatterpolar": [
           {
            "marker": {
             "colorbar": {
              "outlinewidth": 0,
              "ticks": ""
             }
            },
            "type": "scatterpolar"
           }
          ],
          "scatterpolargl": [
           {
            "marker": {
             "colorbar": {
              "outlinewidth": 0,
              "ticks": ""
             }
            },
            "type": "scatterpolargl"
           }
          ],
          "scatterternary": [
           {
            "marker": {
             "colorbar": {
              "outlinewidth": 0,
              "ticks": ""
             }
            },
            "type": "scatterternary"
           }
          ],
          "surface": [
           {
            "colorbar": {
             "outlinewidth": 0,
             "ticks": ""
            },
            "colorscale": [
             [
              0,
              "#0d0887"
             ],
             [
              0.1111111111111111,
              "#46039f"
             ],
             [
              0.2222222222222222,
              "#7201a8"
             ],
             [
              0.3333333333333333,
              "#9c179e"
             ],
             [
              0.4444444444444444,
              "#bd3786"
             ],
             [
              0.5555555555555556,
              "#d8576b"
             ],
             [
              0.6666666666666666,
              "#ed7953"
             ],
             [
              0.7777777777777778,
              "#fb9f3a"
             ],
             [
              0.8888888888888888,
              "#fdca26"
             ],
             [
              1,
              "#f0f921"
             ]
            ],
            "type": "surface"
           }
          ],
          "table": [
           {
            "cells": {
             "fill": {
              "color": "#EBF0F8"
             },
             "line": {
              "color": "white"
             }
            },
            "header": {
             "fill": {
              "color": "#C8D4E3"
             },
             "line": {
              "color": "white"
             }
            },
            "type": "table"
           }
          ]
         },
         "layout": {
          "annotationdefaults": {
           "arrowcolor": "#2a3f5f",
           "arrowhead": 0,
           "arrowwidth": 1
          },
          "autotypenumbers": "strict",
          "coloraxis": {
           "colorbar": {
            "outlinewidth": 0,
            "ticks": ""
           }
          },
          "colorscale": {
           "diverging": [
            [
             0,
             "#8e0152"
            ],
            [
             0.1,
             "#c51b7d"
            ],
            [
             0.2,
             "#de77ae"
            ],
            [
             0.3,
             "#f1b6da"
            ],
            [
             0.4,
             "#fde0ef"
            ],
            [
             0.5,
             "#f7f7f7"
            ],
            [
             0.6,
             "#e6f5d0"
            ],
            [
             0.7,
             "#b8e186"
            ],
            [
             0.8,
             "#7fbc41"
            ],
            [
             0.9,
             "#4d9221"
            ],
            [
             1,
             "#276419"
            ]
           ],
           "sequential": [
            [
             0,
             "#0d0887"
            ],
            [
             0.1111111111111111,
             "#46039f"
            ],
            [
             0.2222222222222222,
             "#7201a8"
            ],
            [
             0.3333333333333333,
             "#9c179e"
            ],
            [
             0.4444444444444444,
             "#bd3786"
            ],
            [
             0.5555555555555556,
             "#d8576b"
            ],
            [
             0.6666666666666666,
             "#ed7953"
            ],
            [
             0.7777777777777778,
             "#fb9f3a"
            ],
            [
             0.8888888888888888,
             "#fdca26"
            ],
            [
             1,
             "#f0f921"
            ]
           ],
           "sequentialminus": [
            [
             0,
             "#0d0887"
            ],
            [
             0.1111111111111111,
             "#46039f"
            ],
            [
             0.2222222222222222,
             "#7201a8"
            ],
            [
             0.3333333333333333,
             "#9c179e"
            ],
            [
             0.4444444444444444,
             "#bd3786"
            ],
            [
             0.5555555555555556,
             "#d8576b"
            ],
            [
             0.6666666666666666,
             "#ed7953"
            ],
            [
             0.7777777777777778,
             "#fb9f3a"
            ],
            [
             0.8888888888888888,
             "#fdca26"
            ],
            [
             1,
             "#f0f921"
            ]
           ]
          },
          "colorway": [
           "#636efa",
           "#EF553B",
           "#00cc96",
           "#ab63fa",
           "#FFA15A",
           "#19d3f3",
           "#FF6692",
           "#B6E880",
           "#FF97FF",
           "#FECB52"
          ],
          "font": {
           "color": "#2a3f5f"
          },
          "geo": {
           "bgcolor": "white",
           "lakecolor": "white",
           "landcolor": "#E5ECF6",
           "showlakes": true,
           "showland": true,
           "subunitcolor": "white"
          },
          "hoverlabel": {
           "align": "left"
          },
          "hovermode": "closest",
          "mapbox": {
           "style": "light"
          },
          "paper_bgcolor": "white",
          "plot_bgcolor": "#E5ECF6",
          "polar": {
           "angularaxis": {
            "gridcolor": "white",
            "linecolor": "white",
            "ticks": ""
           },
           "bgcolor": "#E5ECF6",
           "radialaxis": {
            "gridcolor": "white",
            "linecolor": "white",
            "ticks": ""
           }
          },
          "scene": {
           "xaxis": {
            "backgroundcolor": "#E5ECF6",
            "gridcolor": "white",
            "gridwidth": 2,
            "linecolor": "white",
            "showbackground": true,
            "ticks": "",
            "zerolinecolor": "white"
           },
           "yaxis": {
            "backgroundcolor": "#E5ECF6",
            "gridcolor": "white",
            "gridwidth": 2,
            "linecolor": "white",
            "showbackground": true,
            "ticks": "",
            "zerolinecolor": "white"
           },
           "zaxis": {
            "backgroundcolor": "#E5ECF6",
            "gridcolor": "white",
            "gridwidth": 2,
            "linecolor": "white",
            "showbackground": true,
            "ticks": "",
            "zerolinecolor": "white"
           }
          },
          "shapedefaults": {
           "line": {
            "color": "#2a3f5f"
           }
          },
          "ternary": {
           "aaxis": {
            "gridcolor": "white",
            "linecolor": "white",
            "ticks": ""
           },
           "baxis": {
            "gridcolor": "white",
            "linecolor": "white",
            "ticks": ""
           },
           "bgcolor": "#E5ECF6",
           "caxis": {
            "gridcolor": "white",
            "linecolor": "white",
            "ticks": ""
           }
          },
          "title": {
           "x": 0.05
          },
          "xaxis": {
           "automargin": true,
           "gridcolor": "white",
           "linecolor": "white",
           "ticks": "",
           "title": {
            "standoff": 15
           },
           "zerolinecolor": "white",
           "zerolinewidth": 2
          },
          "yaxis": {
           "automargin": true,
           "gridcolor": "white",
           "linecolor": "white",
           "ticks": "",
           "title": {
            "standoff": 15
           },
           "zerolinecolor": "white",
           "zerolinewidth": 2
          }
         }
        },
        "title": {
         "text": "Scatter Plot of EV Diff vs ZEV Diff"
        },
        "xaxis": {
         "anchor": "y",
         "domain": [
          0,
          1
         ],
         "title": {
          "text": "ZEV Diff"
         }
        },
        "yaxis": {
         "anchor": "x",
         "domain": [
          0,
          1
         ],
         "title": {
          "text": "EV Diff"
         }
        }
       }
      }
     },
     "metadata": {},
     "output_type": "display_data"
    }
   ],
   "source": [
    "fig = px.scatter(\n",
    "    df_cleaned,\n",
    "    x='zev_diff',\n",
    "    y='ev_diff',\n",
    "    color='geo',\n",
    "    symbol='time_period',\n",
    "    labels={'ev_diff': 'EV Diff', 'zev_diff': 'ZEV Diff'},\n",
    "    trendline='ols',\n",
    "    title=\"OLD - Scatter Plot of EV Diff vs ZEV Diff\",\n",
    "    trendline_scope='overall'\n",
    ")\n",
    "\n",
    "fig.show()"
   ]
  },
  {
   "cell_type": "markdown",
   "metadata": {},
   "source": [
    "## Redone plot"
   ]
  },
  {
   "cell_type": "code",
   "execution_count": null,
   "metadata": {},
   "outputs": [],
   "source": [
    "# #Aurora's redone plot:\n",
    "\n",
    "#dit oude plot hierboven klopt niet, het moeten groeifactoren zijn\n",
    "#we need to normalise the data, as now the outliers (eg Germany) mess up the data. This normalisation I have done as a percentage \n",
    "#change: so percentage change of cars increase per year per country. This way, the fact that eg Germany produces an absolute bigger number of cars doesnt mess up the trend.\n",
    "\n",
    "# for normalised data see above. I've called the variables _norm\n",
    "\n",
    "fig = px.scatter(\n",
    "    df_cleaned,\n",
    "    x='zev_norm',\n",
    "    y='ev_norm',\n",
    "    color='geo',\n",
    "    symbol='time_period',\n",
    "    labels={'ev_norm': 'EV percent difference', 'zev_norm': 'ZEV percent difference'},\n",
    "    trendline='ols',\n",
    "    title=\"CORRECTED - Scatter Plot of EV vs ZEV Percent Difference\",\n",
    "    trendline_scope='overall'\n",
    ")\n",
    "\n",
    "fig.show()"
   ]
  },
  {
   "cell_type": "markdown",
   "metadata": {},
   "source": [
    "## Text for report subquestion 2:"
   ]
  },
  {
   "cell_type": "markdown",
   "metadata": {},
   "source": [
    "# 2. Does an increase in  zero emission vehicles lead to a decrease in emission vehicles?\n",
    "In this question it will be looked at whether a decrease in emission vehicles actually causes an increase in\n",
    "zero emission vehicles. \n",
    "\n",
    "If this is indeed the case, then the main research question is one step closer to being answered as a decrease in EVs due to an increase in ZEVs would imply an emission reduction that can be traced back to the rise in ZEVS."
   ]
  },
  {
   "cell_type": "markdown",
   "metadata": {},
   "source": [
    "### Scatterplot Analysis\n",
    "In the scatter plot the percentage difference of emission-vehicles versus non-emission vehicles in different EU countries over the years is shown. This percentage difference is a relative number, characterised by the percentage increase in the respective type of vehicle expressed as a growth factor. \n",
    "\n",
    "As can be seen from this scatterplot, a negative trend line can be found, implying that the fraction of emission vehicles over the non emission vehicles is decreasing. Thus, there are more non-emission vehicles per emission vehicle.\n",
    "\n",
    "### Notable Outliers\n",
    "However, there are a few notable outliers. Some of these inlcude Romania, Poland and Bulgaria. Zooming in on one of these outliers, the Romania 2018 data point in the top left of the scatterplot, it can be seen that in that year the ZEV percentage difference was - 0.9, thus implying a 90% decrease in amount of ZEV compared to the year before (2017). This seems to be quite high, as it would implt Romania got rid of 90% of its ZEVs in that year.\n",
    "\n",
    "Thus, these outliers need to be further explored, as this is done in subquestion 3, where a timeplot is made in order to investigate the behaviour of the outliers Romania, Poland and Bulgaria.\n",
    "\n",
    "### Conclusion\n",
    "Thus it can be concluded that there is a slight negative trend to be seen between EVs and ZEVs, thus implying that a decrease in EVs is connected to an increase in ZEVs."
   ]
  },
  {
   "cell_type": "markdown",
   "metadata": {},
   "source": [
    "# Extra plot (Voor de inleiding misschien)"
   ]
  },
  {
   "cell_type": "code",
   "execution_count": 382,
   "metadata": {},
   "outputs": [
    {
     "data": {
      "application/vnd.plotly.v1+json": {
       "config": {
        "plotlyServerURL": "https://plot.ly"
       },
       "data": [
        {
         "coloraxis": "coloraxis",
         "geo": "geo",
         "hovertemplate": "time_period=2014<br>geo=%{location}<br>emission_per_capita=%{z}<extra></extra>",
         "locationmode": "country names",
         "locations": [
          "Austria",
          "Belgium",
          "Bulgaria",
          "Croatia",
          "Cyprus",
          "Czech Republic",
          "Denmark",
          "Estonia",
          "Finland",
          "France",
          "Germany",
          "Greece",
          "Hungary",
          "Ireland",
          "Italy",
          "Latvia",
          "Lithuania",
          "Luxembourg",
          "Malta",
          "Netherlands",
          "Poland",
          "Portugal",
          "Romania",
          "Slovakia",
          "Slovenia",
          "Spain",
          "Sweden"
         ],
         "name": "",
         "type": "choropleth",
         "z": [
          8.4,
          10.5,
          7,
          4.8,
          10.3,
          11.5,
          9.9,
          16.3,
          7.8,
          6.4,
          11.2,
          9.4,
          5.5,
          13.9,
          6.6,
          6.4,
          3.8,
          20.8,
          7.4,
          12.1,
          9.1,
          5.9,
          3.5,
          6.5,
          8.4,
          6.3,
          0.1
         ]
        }
       ],
       "frames": [
        {
         "data": [
          {
           "coloraxis": "coloraxis",
           "geo": "geo",
           "hovertemplate": "time_period=2014<br>geo=%{location}<br>emission_per_capita=%{z}<extra></extra>",
           "locationmode": "country names",
           "locations": [
            "Austria",
            "Belgium",
            "Bulgaria",
            "Croatia",
            "Cyprus",
            "Czech Republic",
            "Denmark",
            "Estonia",
            "Finland",
            "France",
            "Germany",
            "Greece",
            "Hungary",
            "Ireland",
            "Italy",
            "Latvia",
            "Lithuania",
            "Luxembourg",
            "Malta",
            "Netherlands",
            "Poland",
            "Portugal",
            "Romania",
            "Slovakia",
            "Slovenia",
            "Spain",
            "Sweden"
           ],
           "name": "",
           "type": "choropleth",
           "z": [
            8.4,
            10.5,
            7,
            4.8,
            10.3,
            11.5,
            9.9,
            16.3,
            7.8,
            6.4,
            11.2,
            9.4,
            5.5,
            13.9,
            6.6,
            6.4,
            3.8,
            20.8,
            7.4,
            12.1,
            9.1,
            5.9,
            3.5,
            6.5,
            8.4,
            6.3,
            0.1
           ]
          }
         ],
         "name": "2014"
        },
        {
         "data": [
          {
           "coloraxis": "coloraxis",
           "geo": "geo",
           "hovertemplate": "time_period=2015<br>geo=%{location}<br>emission_per_capita=%{z}<extra></extra>",
           "locationmode": "country names",
           "locations": [
            "Austria",
            "Belgium",
            "Bulgaria",
            "Croatia",
            "Cyprus",
            "Czech Republic",
            "Denmark",
            "Estonia",
            "Finland",
            "France",
            "Germany",
            "Greece",
            "Hungary",
            "Ireland",
            "Italy",
            "Latvia",
            "Lithuania",
            "Luxembourg",
            "Malta",
            "Netherlands",
            "Poland",
            "Portugal",
            "Romania",
            "Slovakia",
            "Slovenia",
            "Spain",
            "Sweden"
           ],
           "name": "",
           "type": "choropleth",
           "z": [
            8.7,
            10.9,
            7.6,
            5,
            10.4,
            11.7,
            9.2,
            14.4,
            8,
            6.5,
            11.2,
            8.8,
            5.8,
            14.5,
            6.8,
            5.8,
            4.3,
            19.9,
            5.7,
            12.5,
            9.2,
            6.5,
            3.5,
            6.6,
            8.5,
            6.5,
            0.3
           ]
          }
         ],
         "name": "2015"
        },
        {
         "data": [
          {
           "coloraxis": "coloraxis",
           "geo": "geo",
           "hovertemplate": "time_period=2016<br>geo=%{location}<br>emission_per_capita=%{z}<extra></extra>",
           "locationmode": "country names",
           "locations": [
            "Austria",
            "Belgium",
            "Bulgaria",
            "Croatia",
            "Cyprus",
            "Czech Republic",
            "Denmark",
            "Estonia",
            "Finland",
            "France",
            "Germany",
            "Greece",
            "Hungary",
            "Ireland",
            "Italy",
            "Latvia",
            "Lithuania",
            "Luxembourg",
            "Malta",
            "Netherlands",
            "Poland",
            "Portugal",
            "Romania",
            "Slovakia",
            "Slovenia",
            "Spain",
            "Sweden"
           ],
           "name": "",
           "type": "choropleth",
           "z": [
            8.6,
            10.7,
            7.1,
            5.2,
            11.1,
            11.9,
            9.7,
            16.4,
            9.2,
            6.6,
            11.1,
            8.5,
            6,
            14.6,
            6.8,
            4.9,
            4.6,
            19.1,
            4.9,
            12.5,
            9.4,
            6.8,
            3.3,
            6.7,
            9,
            6.3,
            0.5
           ]
          }
         ],
         "name": "2016"
        },
        {
         "data": [
          {
           "coloraxis": "coloraxis",
           "geo": "geo",
           "hovertemplate": "time_period=2017<br>geo=%{location}<br>emission_per_capita=%{z}<extra></extra>",
           "locationmode": "country names",
           "locations": [
            "Austria",
            "Belgium",
            "Bulgaria",
            "Croatia",
            "Cyprus",
            "Czech Republic",
            "Denmark",
            "Estonia",
            "Finland",
            "France",
            "Germany",
            "Greece",
            "Hungary",
            "Ireland",
            "Italy",
            "Latvia",
            "Lithuania",
            "Luxembourg",
            "Malta",
            "Netherlands",
            "Poland",
            "Portugal",
            "Romania",
            "Slovakia",
            "Slovenia",
            "Spain",
            "Sweden"
           ],
           "name": "",
           "type": "choropleth",
           "z": [
            9.3,
            10.7,
            7.4,
            5.7,
            11.2,
            12.1,
            9.2,
            17.2,
            9.1,
            6.8,
            10.9,
            8.9,
            6.2,
            14.8,
            7.1,
            4.3,
            4.9,
            19.5,
            5.2,
            12.2,
            9.7,
            9.3,
            3.6,
            6.9,
            9,
            6.5,
            1
           ]
          }
         ],
         "name": "2017"
        },
        {
         "data": [
          {
           "coloraxis": "coloraxis",
           "geo": "geo",
           "hovertemplate": "time_period=2018<br>geo=%{location}<br>emission_per_capita=%{z}<extra></extra>",
           "locationmode": "country names",
           "locations": [
            "Austria",
            "Belgium",
            "Bulgaria",
            "Croatia",
            "Cyprus",
            "Czech Republic",
            "Denmark",
            "Estonia",
            "Finland",
            "France",
            "Germany",
            "Greece",
            "Hungary",
            "Ireland",
            "Italy",
            "Latvia",
            "Lithuania",
            "Luxembourg",
            "Malta",
            "Netherlands",
            "Poland",
            "Portugal",
            "Romania",
            "Slovakia",
            "Slovenia",
            "Spain",
            "Sweden"
           ],
           "name": "",
           "type": "choropleth",
           "z": [
            9.8,
            10.7,
            6.9,
            5.4,
            11,
            12.4,
            9.4,
            17.9,
            11,
            6.4,
            10.6,
            8.6,
            6.3,
            14.5,
            6.6,
            5.9,
            5.2,
            20,
            5.2,
            11.8,
            9.8,
            6.6,
            3.7,
            7,
            8.9,
            6.4,
            1.6
           ]
          }
         ],
         "name": "2018"
        },
        {
         "data": [
          {
           "coloraxis": "coloraxis",
           "geo": "geo",
           "hovertemplate": "time_period=2019<br>geo=%{location}<br>emission_per_capita=%{z}<extra></extra>",
           "locationmode": "country names",
           "locations": [
            "Austria",
            "Belgium",
            "Bulgaria",
            "Croatia",
            "Cyprus",
            "Czech Republic",
            "Denmark",
            "Estonia",
            "Finland",
            "France",
            "Germany",
            "Greece",
            "Hungary",
            "Ireland",
            "Italy",
            "Latvia",
            "Lithuania",
            "Luxembourg",
            "Malta",
            "Netherlands",
            "Poland",
            "Portugal",
            "Romania",
            "Slovakia",
            "Slovenia",
            "Spain",
            "Sweden"
           ],
           "name": "",
           "type": "choropleth",
           "z": [
            9.6,
            10.6,
            6.8,
            5.4,
            10.9,
            12.4,
            8.6,
            13.6,
            9.4,
            6.4,
            9.9,
            7.9,
            6.2,
            13.8,
            6.6,
            5.1,
            5.2,
            19.6,
            5.2,
            11.4,
            9.7,
            6.2,
            3.6,
            6.4,
            7.9,
            6,
            1.2
           ]
          }
         ],
         "name": "2019"
        },
        {
         "data": [
          {
           "coloraxis": "coloraxis",
           "geo": "geo",
           "hovertemplate": "time_period=2020<br>geo=%{location}<br>emission_per_capita=%{z}<extra></extra>",
           "locationmode": "country names",
           "locations": [
            "Austria",
            "Belgium",
            "Bulgaria",
            "Croatia",
            "Cyprus",
            "Czech Republic",
            "Denmark",
            "Estonia",
            "Finland",
            "France",
            "Germany",
            "Greece",
            "Hungary",
            "Ireland",
            "Italy",
            "Latvia",
            "Lithuania",
            "Luxembourg",
            "Malta",
            "Netherlands",
            "Poland",
            "Portugal",
            "Romania",
            "Slovakia",
            "Slovenia",
            "Spain",
            "Sweden"
           ],
           "name": "",
           "type": "choropleth",
           "z": [
            7.8,
            9.6,
            5.9,
            5.1,
            9.6,
            11.6,
            7.7,
            9.5,
            7.8,
            5.6,
            9,
            6.7,
            5.8,
            12.9,
            6,
            6,
            5,
            16.2,
            4.4,
            10.1,
            9.2,
            5.3,
            3.2,
            5.5,
            7.4,
            4.9,
            0.4
           ]
          }
         ],
         "name": "2020"
        },
        {
         "data": [
          {
           "coloraxis": "coloraxis",
           "geo": "geo",
           "hovertemplate": "time_period=2021<br>geo=%{location}<br>emission_per_capita=%{z}<extra></extra>",
           "locationmode": "country names",
           "locations": [
            "Austria",
            "Belgium",
            "Bulgaria",
            "Croatia",
            "Cyprus",
            "Czech Republic",
            "Denmark",
            "Estonia",
            "Finland",
            "France",
            "Germany",
            "Greece",
            "Hungary",
            "Ireland",
            "Italy",
            "Latvia",
            "Lithuania",
            "Luxembourg",
            "Malta",
            "Netherlands",
            "Poland",
            "Portugal",
            "Romania",
            "Slovakia",
            "Slovenia",
            "Spain",
            "Sweden"
           ],
           "name": "",
           "type": "choropleth",
           "z": [
            7.5,
            9.9,
            6.9,
            5.2,
            10.1,
            12,
            7.7,
            10.2,
            9.4,
            5.9,
            9.4,
            7.1,
            5.9,
            13.2,
            6.7,
            7,
            5.3,
            16.7,
            4.5,
            10.2,
            10.2,
            5,
            3.5,
            6.3,
            7.5,
            5.3,
            0.5
           ]
          }
         ],
         "name": "2021"
        },
        {
         "data": [
          {
           "coloraxis": "coloraxis",
           "geo": "geo",
           "hovertemplate": "time_period=2022<br>geo=%{location}<br>emission_per_capita=%{z}<extra></extra>",
           "locationmode": "country names",
           "locations": [
            "Austria",
            "Belgium",
            "Bulgaria",
            "Croatia",
            "Cyprus",
            "Czech Republic",
            "Denmark",
            "Estonia",
            "Finland",
            "France",
            "Germany",
            "Greece",
            "Hungary",
            "Ireland",
            "Italy",
            "Latvia",
            "Lithuania",
            "Luxembourg",
            "Malta",
            "Netherlands",
            "Poland",
            "Portugal",
            "Romania",
            "Slovakia",
            "Slovenia",
            "Spain",
            "Sweden"
           ],
           "name": "",
           "type": "choropleth",
           "z": [
            7.8,
            9.3,
            7.7,
            5.5,
            10.2,
            11.4,
            7.4,
            10.7,
            9.3,
            5.7,
            9.3,
            7.4,
            5.6,
            13,
            6.7,
            8.3,
            4.6,
            14.5,
            5,
            9.5,
            9.4,
            5.2,
            3.3,
            5.5,
            7.3,
            5.5,
            0.6
           ]
          }
         ],
         "name": "2022"
        }
       ],
       "layout": {
        "coloraxis": {
         "cmax": 16,
         "cmin": 0,
         "colorbar": {
          "title": {
           "text": "emission_per_capita"
          }
         },
         "colorscale": [
          [
           0,
           "green"
          ],
          [
           0.5,
           "orange"
          ],
          [
           1,
           "red"
          ]
         ]
        },
        "geo": {
         "center": {},
         "domain": {
          "x": [
           0,
           1
          ],
          "y": [
           0,
           1
          ]
         },
         "scope": "europe"
        },
        "height": 600,
        "legend": {
         "tracegroupgap": 0
        },
        "margin": {
         "b": 0,
         "l": 0,
         "r": 0,
         "t": 50
        },
        "sliders": [
         {
          "active": 0,
          "currentvalue": {
           "prefix": "time_period="
          },
          "len": 0.9,
          "pad": {
           "b": 10,
           "t": 60
          },
          "steps": [
           {
            "args": [
             [
              "2014"
             ],
             {
              "frame": {
               "duration": 0,
               "redraw": true
              },
              "fromcurrent": true,
              "mode": "immediate",
              "transition": {
               "duration": 0,
               "easing": "linear"
              }
             }
            ],
            "label": "2014",
            "method": "animate"
           },
           {
            "args": [
             [
              "2015"
             ],
             {
              "frame": {
               "duration": 0,
               "redraw": true
              },
              "fromcurrent": true,
              "mode": "immediate",
              "transition": {
               "duration": 0,
               "easing": "linear"
              }
             }
            ],
            "label": "2015",
            "method": "animate"
           },
           {
            "args": [
             [
              "2016"
             ],
             {
              "frame": {
               "duration": 0,
               "redraw": true
              },
              "fromcurrent": true,
              "mode": "immediate",
              "transition": {
               "duration": 0,
               "easing": "linear"
              }
             }
            ],
            "label": "2016",
            "method": "animate"
           },
           {
            "args": [
             [
              "2017"
             ],
             {
              "frame": {
               "duration": 0,
               "redraw": true
              },
              "fromcurrent": true,
              "mode": "immediate",
              "transition": {
               "duration": 0,
               "easing": "linear"
              }
             }
            ],
            "label": "2017",
            "method": "animate"
           },
           {
            "args": [
             [
              "2018"
             ],
             {
              "frame": {
               "duration": 0,
               "redraw": true
              },
              "fromcurrent": true,
              "mode": "immediate",
              "transition": {
               "duration": 0,
               "easing": "linear"
              }
             }
            ],
            "label": "2018",
            "method": "animate"
           },
           {
            "args": [
             [
              "2019"
             ],
             {
              "frame": {
               "duration": 0,
               "redraw": true
              },
              "fromcurrent": true,
              "mode": "immediate",
              "transition": {
               "duration": 0,
               "easing": "linear"
              }
             }
            ],
            "label": "2019",
            "method": "animate"
           },
           {
            "args": [
             [
              "2020"
             ],
             {
              "frame": {
               "duration": 0,
               "redraw": true
              },
              "fromcurrent": true,
              "mode": "immediate",
              "transition": {
               "duration": 0,
               "easing": "linear"
              }
             }
            ],
            "label": "2020",
            "method": "animate"
           },
           {
            "args": [
             [
              "2021"
             ],
             {
              "frame": {
               "duration": 0,
               "redraw": true
              },
              "fromcurrent": true,
              "mode": "immediate",
              "transition": {
               "duration": 0,
               "easing": "linear"
              }
             }
            ],
            "label": "2021",
            "method": "animate"
           },
           {
            "args": [
             [
              "2022"
             ],
             {
              "frame": {
               "duration": 0,
               "redraw": true
              },
              "fromcurrent": true,
              "mode": "immediate",
              "transition": {
               "duration": 0,
               "easing": "linear"
              }
             }
            ],
            "label": "2022",
            "method": "animate"
           }
          ],
          "x": 0.1,
          "xanchor": "left",
          "y": 0,
          "yanchor": "top"
         }
        ],
        "template": {
         "data": {
          "bar": [
           {
            "error_x": {
             "color": "#2a3f5f"
            },
            "error_y": {
             "color": "#2a3f5f"
            },
            "marker": {
             "line": {
              "color": "#E5ECF6",
              "width": 0.5
             },
             "pattern": {
              "fillmode": "overlay",
              "size": 10,
              "solidity": 0.2
             }
            },
            "type": "bar"
           }
          ],
          "barpolar": [
           {
            "marker": {
             "line": {
              "color": "#E5ECF6",
              "width": 0.5
             },
             "pattern": {
              "fillmode": "overlay",
              "size": 10,
              "solidity": 0.2
             }
            },
            "type": "barpolar"
           }
          ],
          "carpet": [
           {
            "aaxis": {
             "endlinecolor": "#2a3f5f",
             "gridcolor": "white",
             "linecolor": "white",
             "minorgridcolor": "white",
             "startlinecolor": "#2a3f5f"
            },
            "baxis": {
             "endlinecolor": "#2a3f5f",
             "gridcolor": "white",
             "linecolor": "white",
             "minorgridcolor": "white",
             "startlinecolor": "#2a3f5f"
            },
            "type": "carpet"
           }
          ],
          "choropleth": [
           {
            "colorbar": {
             "outlinewidth": 0,
             "ticks": ""
            },
            "type": "choropleth"
           }
          ],
          "contour": [
           {
            "colorbar": {
             "outlinewidth": 0,
             "ticks": ""
            },
            "colorscale": [
             [
              0,
              "#0d0887"
             ],
             [
              0.1111111111111111,
              "#46039f"
             ],
             [
              0.2222222222222222,
              "#7201a8"
             ],
             [
              0.3333333333333333,
              "#9c179e"
             ],
             [
              0.4444444444444444,
              "#bd3786"
             ],
             [
              0.5555555555555556,
              "#d8576b"
             ],
             [
              0.6666666666666666,
              "#ed7953"
             ],
             [
              0.7777777777777778,
              "#fb9f3a"
             ],
             [
              0.8888888888888888,
              "#fdca26"
             ],
             [
              1,
              "#f0f921"
             ]
            ],
            "type": "contour"
           }
          ],
          "contourcarpet": [
           {
            "colorbar": {
             "outlinewidth": 0,
             "ticks": ""
            },
            "type": "contourcarpet"
           }
          ],
          "heatmap": [
           {
            "colorbar": {
             "outlinewidth": 0,
             "ticks": ""
            },
            "colorscale": [
             [
              0,
              "#0d0887"
             ],
             [
              0.1111111111111111,
              "#46039f"
             ],
             [
              0.2222222222222222,
              "#7201a8"
             ],
             [
              0.3333333333333333,
              "#9c179e"
             ],
             [
              0.4444444444444444,
              "#bd3786"
             ],
             [
              0.5555555555555556,
              "#d8576b"
             ],
             [
              0.6666666666666666,
              "#ed7953"
             ],
             [
              0.7777777777777778,
              "#fb9f3a"
             ],
             [
              0.8888888888888888,
              "#fdca26"
             ],
             [
              1,
              "#f0f921"
             ]
            ],
            "type": "heatmap"
           }
          ],
          "heatmapgl": [
           {
            "colorbar": {
             "outlinewidth": 0,
             "ticks": ""
            },
            "colorscale": [
             [
              0,
              "#0d0887"
             ],
             [
              0.1111111111111111,
              "#46039f"
             ],
             [
              0.2222222222222222,
              "#7201a8"
             ],
             [
              0.3333333333333333,
              "#9c179e"
             ],
             [
              0.4444444444444444,
              "#bd3786"
             ],
             [
              0.5555555555555556,
              "#d8576b"
             ],
             [
              0.6666666666666666,
              "#ed7953"
             ],
             [
              0.7777777777777778,
              "#fb9f3a"
             ],
             [
              0.8888888888888888,
              "#fdca26"
             ],
             [
              1,
              "#f0f921"
             ]
            ],
            "type": "heatmapgl"
           }
          ],
          "histogram": [
           {
            "marker": {
             "pattern": {
              "fillmode": "overlay",
              "size": 10,
              "solidity": 0.2
             }
            },
            "type": "histogram"
           }
          ],
          "histogram2d": [
           {
            "colorbar": {
             "outlinewidth": 0,
             "ticks": ""
            },
            "colorscale": [
             [
              0,
              "#0d0887"
             ],
             [
              0.1111111111111111,
              "#46039f"
             ],
             [
              0.2222222222222222,
              "#7201a8"
             ],
             [
              0.3333333333333333,
              "#9c179e"
             ],
             [
              0.4444444444444444,
              "#bd3786"
             ],
             [
              0.5555555555555556,
              "#d8576b"
             ],
             [
              0.6666666666666666,
              "#ed7953"
             ],
             [
              0.7777777777777778,
              "#fb9f3a"
             ],
             [
              0.8888888888888888,
              "#fdca26"
             ],
             [
              1,
              "#f0f921"
             ]
            ],
            "type": "histogram2d"
           }
          ],
          "histogram2dcontour": [
           {
            "colorbar": {
             "outlinewidth": 0,
             "ticks": ""
            },
            "colorscale": [
             [
              0,
              "#0d0887"
             ],
             [
              0.1111111111111111,
              "#46039f"
             ],
             [
              0.2222222222222222,
              "#7201a8"
             ],
             [
              0.3333333333333333,
              "#9c179e"
             ],
             [
              0.4444444444444444,
              "#bd3786"
             ],
             [
              0.5555555555555556,
              "#d8576b"
             ],
             [
              0.6666666666666666,
              "#ed7953"
             ],
             [
              0.7777777777777778,
              "#fb9f3a"
             ],
             [
              0.8888888888888888,
              "#fdca26"
             ],
             [
              1,
              "#f0f921"
             ]
            ],
            "type": "histogram2dcontour"
           }
          ],
          "mesh3d": [
           {
            "colorbar": {
             "outlinewidth": 0,
             "ticks": ""
            },
            "type": "mesh3d"
           }
          ],
          "parcoords": [
           {
            "line": {
             "colorbar": {
              "outlinewidth": 0,
              "ticks": ""
             }
            },
            "type": "parcoords"
           }
          ],
          "pie": [
           {
            "automargin": true,
            "type": "pie"
           }
          ],
          "scatter": [
           {
            "fillpattern": {
             "fillmode": "overlay",
             "size": 10,
             "solidity": 0.2
            },
            "type": "scatter"
           }
          ],
          "scatter3d": [
           {
            "line": {
             "colorbar": {
              "outlinewidth": 0,
              "ticks": ""
             }
            },
            "marker": {
             "colorbar": {
              "outlinewidth": 0,
              "ticks": ""
             }
            },
            "type": "scatter3d"
           }
          ],
          "scattercarpet": [
           {
            "marker": {
             "colorbar": {
              "outlinewidth": 0,
              "ticks": ""
             }
            },
            "type": "scattercarpet"
           }
          ],
          "scattergeo": [
           {
            "marker": {
             "colorbar": {
              "outlinewidth": 0,
              "ticks": ""
             }
            },
            "type": "scattergeo"
           }
          ],
          "scattergl": [
           {
            "marker": {
             "colorbar": {
              "outlinewidth": 0,
              "ticks": ""
             }
            },
            "type": "scattergl"
           }
          ],
          "scattermapbox": [
           {
            "marker": {
             "colorbar": {
              "outlinewidth": 0,
              "ticks": ""
             }
            },
            "type": "scattermapbox"
           }
          ],
          "scatterpolar": [
           {
            "marker": {
             "colorbar": {
              "outlinewidth": 0,
              "ticks": ""
             }
            },
            "type": "scatterpolar"
           }
          ],
          "scatterpolargl": [
           {
            "marker": {
             "colorbar": {
              "outlinewidth": 0,
              "ticks": ""
             }
            },
            "type": "scatterpolargl"
           }
          ],
          "scatterternary": [
           {
            "marker": {
             "colorbar": {
              "outlinewidth": 0,
              "ticks": ""
             }
            },
            "type": "scatterternary"
           }
          ],
          "surface": [
           {
            "colorbar": {
             "outlinewidth": 0,
             "ticks": ""
            },
            "colorscale": [
             [
              0,
              "#0d0887"
             ],
             [
              0.1111111111111111,
              "#46039f"
             ],
             [
              0.2222222222222222,
              "#7201a8"
             ],
             [
              0.3333333333333333,
              "#9c179e"
             ],
             [
              0.4444444444444444,
              "#bd3786"
             ],
             [
              0.5555555555555556,
              "#d8576b"
             ],
             [
              0.6666666666666666,
              "#ed7953"
             ],
             [
              0.7777777777777778,
              "#fb9f3a"
             ],
             [
              0.8888888888888888,
              "#fdca26"
             ],
             [
              1,
              "#f0f921"
             ]
            ],
            "type": "surface"
           }
          ],
          "table": [
           {
            "cells": {
             "fill": {
              "color": "#EBF0F8"
             },
             "line": {
              "color": "white"
             }
            },
            "header": {
             "fill": {
              "color": "#C8D4E3"
             },
             "line": {
              "color": "white"
             }
            },
            "type": "table"
           }
          ]
         },
         "layout": {
          "annotationdefaults": {
           "arrowcolor": "#2a3f5f",
           "arrowhead": 0,
           "arrowwidth": 1
          },
          "autotypenumbers": "strict",
          "coloraxis": {
           "colorbar": {
            "outlinewidth": 0,
            "ticks": ""
           }
          },
          "colorscale": {
           "diverging": [
            [
             0,
             "#8e0152"
            ],
            [
             0.1,
             "#c51b7d"
            ],
            [
             0.2,
             "#de77ae"
            ],
            [
             0.3,
             "#f1b6da"
            ],
            [
             0.4,
             "#fde0ef"
            ],
            [
             0.5,
             "#f7f7f7"
            ],
            [
             0.6,
             "#e6f5d0"
            ],
            [
             0.7,
             "#b8e186"
            ],
            [
             0.8,
             "#7fbc41"
            ],
            [
             0.9,
             "#4d9221"
            ],
            [
             1,
             "#276419"
            ]
           ],
           "sequential": [
            [
             0,
             "#0d0887"
            ],
            [
             0.1111111111111111,
             "#46039f"
            ],
            [
             0.2222222222222222,
             "#7201a8"
            ],
            [
             0.3333333333333333,
             "#9c179e"
            ],
            [
             0.4444444444444444,
             "#bd3786"
            ],
            [
             0.5555555555555556,
             "#d8576b"
            ],
            [
             0.6666666666666666,
             "#ed7953"
            ],
            [
             0.7777777777777778,
             "#fb9f3a"
            ],
            [
             0.8888888888888888,
             "#fdca26"
            ],
            [
             1,
             "#f0f921"
            ]
           ],
           "sequentialminus": [
            [
             0,
             "#0d0887"
            ],
            [
             0.1111111111111111,
             "#46039f"
            ],
            [
             0.2222222222222222,
             "#7201a8"
            ],
            [
             0.3333333333333333,
             "#9c179e"
            ],
            [
             0.4444444444444444,
             "#bd3786"
            ],
            [
             0.5555555555555556,
             "#d8576b"
            ],
            [
             0.6666666666666666,
             "#ed7953"
            ],
            [
             0.7777777777777778,
             "#fb9f3a"
            ],
            [
             0.8888888888888888,
             "#fdca26"
            ],
            [
             1,
             "#f0f921"
            ]
           ]
          },
          "colorway": [
           "#636efa",
           "#EF553B",
           "#00cc96",
           "#ab63fa",
           "#FFA15A",
           "#19d3f3",
           "#FF6692",
           "#B6E880",
           "#FF97FF",
           "#FECB52"
          ],
          "font": {
           "color": "#2a3f5f"
          },
          "geo": {
           "bgcolor": "white",
           "lakecolor": "white",
           "landcolor": "#E5ECF6",
           "showlakes": true,
           "showland": true,
           "subunitcolor": "white"
          },
          "hoverlabel": {
           "align": "left"
          },
          "hovermode": "closest",
          "mapbox": {
           "style": "light"
          },
          "paper_bgcolor": "white",
          "plot_bgcolor": "#E5ECF6",
          "polar": {
           "angularaxis": {
            "gridcolor": "white",
            "linecolor": "white",
            "ticks": ""
           },
           "bgcolor": "#E5ECF6",
           "radialaxis": {
            "gridcolor": "white",
            "linecolor": "white",
            "ticks": ""
           }
          },
          "scene": {
           "xaxis": {
            "backgroundcolor": "#E5ECF6",
            "gridcolor": "white",
            "gridwidth": 2,
            "linecolor": "white",
            "showbackground": true,
            "ticks": "",
            "zerolinecolor": "white"
           },
           "yaxis": {
            "backgroundcolor": "#E5ECF6",
            "gridcolor": "white",
            "gridwidth": 2,
            "linecolor": "white",
            "showbackground": true,
            "ticks": "",
            "zerolinecolor": "white"
           },
           "zaxis": {
            "backgroundcolor": "#E5ECF6",
            "gridcolor": "white",
            "gridwidth": 2,
            "linecolor": "white",
            "showbackground": true,
            "ticks": "",
            "zerolinecolor": "white"
           }
          },
          "shapedefaults": {
           "line": {
            "color": "#2a3f5f"
           }
          },
          "ternary": {
           "aaxis": {
            "gridcolor": "white",
            "linecolor": "white",
            "ticks": ""
           },
           "baxis": {
            "gridcolor": "white",
            "linecolor": "white",
            "ticks": ""
           },
           "bgcolor": "#E5ECF6",
           "caxis": {
            "gridcolor": "white",
            "linecolor": "white",
            "ticks": ""
           }
          },
          "title": {
           "x": 0.05
          },
          "xaxis": {
           "automargin": true,
           "gridcolor": "white",
           "linecolor": "white",
           "ticks": "",
           "title": {
            "standoff": 15
           },
           "zerolinecolor": "white",
           "zerolinewidth": 2
          },
          "yaxis": {
           "automargin": true,
           "gridcolor": "white",
           "linecolor": "white",
           "ticks": "",
           "title": {
            "standoff": 15
           },
           "zerolinecolor": "white",
           "zerolinewidth": 2
          }
         }
        },
        "title": {
         "text": "Emissions per EU-country over time",
         "x": 0.5
        },
        "updatemenus": [
         {
          "buttons": [
           {
            "args": [
             null,
             {
              "frame": {
               "duration": 500,
               "redraw": true
              },
              "fromcurrent": true,
              "mode": "immediate",
              "transition": {
               "duration": 500,
               "easing": "linear"
              }
             }
            ],
            "label": "&#9654;",
            "method": "animate"
           },
           {
            "args": [
             [
              null
             ],
             {
              "frame": {
               "duration": 0,
               "redraw": true
              },
              "fromcurrent": true,
              "mode": "immediate",
              "transition": {
               "duration": 0,
               "easing": "linear"
              }
             }
            ],
            "label": "&#9724;",
            "method": "animate"
           }
          ],
          "direction": "left",
          "pad": {
           "r": 10,
           "t": 70
          },
          "showactive": false,
          "type": "buttons",
          "x": 0.1,
          "xanchor": "right",
          "y": 0,
          "yanchor": "top"
         }
        ],
        "width": 1000
       }
      }
     },
     "metadata": {},
     "output_type": "display_data"
    }
   ],
   "source": [
    "# Filtering out the NaNs of emmission data\n",
    "filtered_df = joined_df[joined_df['time_period'] != 2023]\n",
    "\n",
    "#  Making a map animation wich shows the emmissions per EU-country over time\n",
    "fig = px.choropleth(filtered_df,\n",
    "                    locations='geo',\n",
    "                    locationmode='country names',\n",
    "                    color='emission_per_capita',\n",
    "                    color_continuous_scale=[[0, \"green\"], [0.5, \"orange\"], [1, \"red\"]],\n",
    "                    scope='europe',\n",
    "                    title='Emissions per EU-country over time',\n",
    "                    animation_frame='time_period',\n",
    "                    range_color=[0, 16]\n",
    "                   )\n",
    "\n",
    "fig.update_layout(\n",
    "    width=1000,\n",
    "    height=600,\n",
    "    margin={\"r\":0,\"t\":50,\"l\":0,\"b\":0},\n",
    "    title_x=0.5\n",
    "    )\n",
    "\n",
    "fig.show()"
   ]
  },
  {
   "cell_type": "code",
   "execution_count": 374,
   "metadata": {},
   "outputs": [
    {
     "data": {
      "text/html": [
       "<div>\n",
       "<style scoped>\n",
       "    .dataframe tbody tr th:only-of-type {\n",
       "        vertical-align: middle;\n",
       "    }\n",
       "\n",
       "    .dataframe tbody tr th {\n",
       "        vertical-align: top;\n",
       "    }\n",
       "\n",
       "    .dataframe thead th {\n",
       "        text-align: right;\n",
       "    }\n",
       "</style>\n",
       "<table border=\"1\" class=\"dataframe\">\n",
       "  <thead>\n",
       "    <tr style=\"text-align: right;\">\n",
       "      <th></th>\n",
       "      <th>geo</th>\n",
       "      <th>time_period</th>\n",
       "      <th>amount_passenger_cars</th>\n",
       "      <th>amount_zev</th>\n",
       "      <th>amount_ev</th>\n",
       "      <th>share_zev</th>\n",
       "      <th>emission_per_capita</th>\n",
       "      <th>zev_per_capita</th>\n",
       "      <th>ev_per_capita</th>\n",
       "      <th>total_emissions</th>\n",
       "      <th>zev_diff</th>\n",
       "      <th>ev_diff</th>\n",
       "      <th>emmission_diff</th>\n",
       "      <th>all_cars_diff</th>\n",
       "    </tr>\n",
       "  </thead>\n",
       "  <tbody>\n",
       "    <tr>\n",
       "      <th>250</th>\n",
       "      <td>Sweden</td>\n",
       "      <td>2014</td>\n",
       "      <td>4584711</td>\n",
       "      <td>2175</td>\n",
       "      <td>4582536</td>\n",
       "      <td>0.000474</td>\n",
       "      <td>0.1</td>\n",
       "      <td>0.000226</td>\n",
       "      <td>0.475127</td>\n",
       "      <td>964486.4</td>\n",
       "      <td>NaN</td>\n",
       "      <td>NaN</td>\n",
       "      <td>NaN</td>\n",
       "      <td>NaN</td>\n",
       "    </tr>\n",
       "    <tr>\n",
       "      <th>251</th>\n",
       "      <td>Sweden</td>\n",
       "      <td>2015</td>\n",
       "      <td>4668262</td>\n",
       "      <td>4769</td>\n",
       "      <td>4663493</td>\n",
       "      <td>0.001022</td>\n",
       "      <td>0.3</td>\n",
       "      <td>0.000489</td>\n",
       "      <td>0.478437</td>\n",
       "      <td>2924206.5</td>\n",
       "      <td>2594.0</td>\n",
       "      <td>80957.0</td>\n",
       "      <td>1959720.1</td>\n",
       "      <td>83551.0</td>\n",
       "    </tr>\n",
       "    <tr>\n",
       "      <th>252</th>\n",
       "      <td>Sweden</td>\n",
       "      <td>2016</td>\n",
       "      <td>4767262</td>\n",
       "      <td>7555</td>\n",
       "      <td>4759707</td>\n",
       "      <td>0.001585</td>\n",
       "      <td>0.5</td>\n",
       "      <td>0.000767</td>\n",
       "      <td>0.483169</td>\n",
       "      <td>4925508.5</td>\n",
       "      <td>2786.0</td>\n",
       "      <td>96214.0</td>\n",
       "      <td>2001302.0</td>\n",
       "      <td>99000.0</td>\n",
       "    </tr>\n",
       "    <tr>\n",
       "      <th>253</th>\n",
       "      <td>Sweden</td>\n",
       "      <td>2017</td>\n",
       "      <td>4844823</td>\n",
       "      <td>11068</td>\n",
       "      <td>4833755</td>\n",
       "      <td>0.002285</td>\n",
       "      <td>1.0</td>\n",
       "      <td>0.001107</td>\n",
       "      <td>0.483610</td>\n",
       "      <td>9995153.0</td>\n",
       "      <td>3513.0</td>\n",
       "      <td>74048.0</td>\n",
       "      <td>5069644.5</td>\n",
       "      <td>77561.0</td>\n",
       "    </tr>\n",
       "    <tr>\n",
       "      <th>254</th>\n",
       "      <td>Sweden</td>\n",
       "      <td>2018</td>\n",
       "      <td>4869979</td>\n",
       "      <td>16705</td>\n",
       "      <td>4853274</td>\n",
       "      <td>0.003430</td>\n",
       "      <td>1.6</td>\n",
       "      <td>0.001651</td>\n",
       "      <td>0.479561</td>\n",
       "      <td>16192387.2</td>\n",
       "      <td>5637.0</td>\n",
       "      <td>19519.0</td>\n",
       "      <td>6197234.2</td>\n",
       "      <td>25156.0</td>\n",
       "    </tr>\n",
       "    <tr>\n",
       "      <th>255</th>\n",
       "      <td>Sweden</td>\n",
       "      <td>2019</td>\n",
       "      <td>4887116</td>\n",
       "      <td>30382</td>\n",
       "      <td>4856734</td>\n",
       "      <td>0.006217</td>\n",
       "      <td>1.2</td>\n",
       "      <td>0.002970</td>\n",
       "      <td>0.474745</td>\n",
       "      <td>12276222.0</td>\n",
       "      <td>13677.0</td>\n",
       "      <td>3460.0</td>\n",
       "      <td>-3916165.2</td>\n",
       "      <td>17137.0</td>\n",
       "    </tr>\n",
       "    <tr>\n",
       "      <th>256</th>\n",
       "      <td>Sweden</td>\n",
       "      <td>2020</td>\n",
       "      <td>4943293</td>\n",
       "      <td>55829</td>\n",
       "      <td>4887464</td>\n",
       "      <td>0.011294</td>\n",
       "      <td>0.4</td>\n",
       "      <td>0.005406</td>\n",
       "      <td>0.473243</td>\n",
       "      <td>4131035.6</td>\n",
       "      <td>25447.0</td>\n",
       "      <td>30730.0</td>\n",
       "      <td>-8145186.4</td>\n",
       "      <td>56177.0</td>\n",
       "    </tr>\n",
       "    <tr>\n",
       "      <th>257</th>\n",
       "      <td>Sweden</td>\n",
       "      <td>2021</td>\n",
       "      <td>4985979</td>\n",
       "      <td>110221</td>\n",
       "      <td>4875758</td>\n",
       "      <td>0.022106</td>\n",
       "      <td>0.5</td>\n",
       "      <td>0.010619</td>\n",
       "      <td>0.469758</td>\n",
       "      <td>5189647.5</td>\n",
       "      <td>54392.0</td>\n",
       "      <td>-11706.0</td>\n",
       "      <td>1058611.9</td>\n",
       "      <td>42686.0</td>\n",
       "    </tr>\n",
       "    <tr>\n",
       "      <th>258</th>\n",
       "      <td>Sweden</td>\n",
       "      <td>2022</td>\n",
       "      <td>4979761</td>\n",
       "      <td>197751</td>\n",
       "      <td>4782010</td>\n",
       "      <td>0.039711</td>\n",
       "      <td>0.6</td>\n",
       "      <td>0.018919</td>\n",
       "      <td>0.457507</td>\n",
       "      <td>6271395.6</td>\n",
       "      <td>87530.0</td>\n",
       "      <td>-93748.0</td>\n",
       "      <td>1081748.1</td>\n",
       "      <td>-6218.0</td>\n",
       "    </tr>\n",
       "    <tr>\n",
       "      <th>259</th>\n",
       "      <td>Sweden</td>\n",
       "      <td>2023</td>\n",
       "      <td>4976366</td>\n",
       "      <td>291716</td>\n",
       "      <td>4684650</td>\n",
       "      <td>0.058620</td>\n",
       "      <td>NaN</td>\n",
       "      <td>0.027726</td>\n",
       "      <td>0.445243</td>\n",
       "      <td>NaN</td>\n",
       "      <td>93965.0</td>\n",
       "      <td>-97360.0</td>\n",
       "      <td>NaN</td>\n",
       "      <td>-3395.0</td>\n",
       "    </tr>\n",
       "  </tbody>\n",
       "</table>\n",
       "</div>"
      ],
      "text/plain": [
       "        geo  time_period  amount_passenger_cars  amount_zev  amount_ev  \\\n",
       "250  Sweden         2014                4584711        2175    4582536   \n",
       "251  Sweden         2015                4668262        4769    4663493   \n",
       "252  Sweden         2016                4767262        7555    4759707   \n",
       "253  Sweden         2017                4844823       11068    4833755   \n",
       "254  Sweden         2018                4869979       16705    4853274   \n",
       "255  Sweden         2019                4887116       30382    4856734   \n",
       "256  Sweden         2020                4943293       55829    4887464   \n",
       "257  Sweden         2021                4985979      110221    4875758   \n",
       "258  Sweden         2022                4979761      197751    4782010   \n",
       "259  Sweden         2023                4976366      291716    4684650   \n",
       "\n",
       "     share_zev  emission_per_capita  zev_per_capita  ev_per_capita  \\\n",
       "250   0.000474                  0.1        0.000226       0.475127   \n",
       "251   0.001022                  0.3        0.000489       0.478437   \n",
       "252   0.001585                  0.5        0.000767       0.483169   \n",
       "253   0.002285                  1.0        0.001107       0.483610   \n",
       "254   0.003430                  1.6        0.001651       0.479561   \n",
       "255   0.006217                  1.2        0.002970       0.474745   \n",
       "256   0.011294                  0.4        0.005406       0.473243   \n",
       "257   0.022106                  0.5        0.010619       0.469758   \n",
       "258   0.039711                  0.6        0.018919       0.457507   \n",
       "259   0.058620                  NaN        0.027726       0.445243   \n",
       "\n",
       "     total_emissions  zev_diff  ev_diff  emmission_diff  all_cars_diff  \n",
       "250         964486.4       NaN      NaN             NaN            NaN  \n",
       "251        2924206.5    2594.0  80957.0       1959720.1        83551.0  \n",
       "252        4925508.5    2786.0  96214.0       2001302.0        99000.0  \n",
       "253        9995153.0    3513.0  74048.0       5069644.5        77561.0  \n",
       "254       16192387.2    5637.0  19519.0       6197234.2        25156.0  \n",
       "255       12276222.0   13677.0   3460.0      -3916165.2        17137.0  \n",
       "256        4131035.6   25447.0  30730.0      -8145186.4        56177.0  \n",
       "257        5189647.5   54392.0 -11706.0       1058611.9        42686.0  \n",
       "258        6271395.6   87530.0 -93748.0       1081748.1        -6218.0  \n",
       "259              NaN   93965.0 -97360.0             NaN        -3395.0  "
      ]
     },
     "execution_count": 374,
     "metadata": {},
     "output_type": "execute_result"
    }
   ],
   "source": [
    "joined_df[joined_df['geo'] == 'Sweden']"
   ]
  },
  {
   "cell_type": "code",
   "execution_count": null,
   "metadata": {},
   "outputs": [],
   "source": []
  }
 ],
 "metadata": {
  "kernelspec": {
   "display_name": "lewagon",
   "language": "python",
   "name": "python3"
  },
  "language_info": {
   "codemirror_mode": {
    "name": "ipython",
    "version": 3
   },
   "file_extension": ".py",
   "mimetype": "text/x-python",
   "name": "python",
   "nbconvert_exporter": "python",
   "pygments_lexer": "ipython3",
   "version": "3.10.6"
  }
 },
 "nbformat": 4,
 "nbformat_minor": 2
}
