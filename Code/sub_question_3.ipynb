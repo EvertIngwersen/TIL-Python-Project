{
 "cells": [
  {
   "cell_type": "code",
   "execution_count": null,
   "metadata": {},
   "outputs": [],
   "source": [
    "import pandas as pd\n",
    "import plotly.graph_objects as go\n",
    "import plotly.express as px\n",
    "import numpy as np\n",
    "import plotly.colors as pc"
   ]
  },
  {
   "cell_type": "code",
   "execution_count": null,
   "metadata": {},
   "outputs": [],
   "source": [
    "joined_df = pd.read_csv('../data/merged_dataset.csv')\n",
    "groups = joined_df.groupby('geo')"
   ]
  },
  {
   "cell_type": "code",
   "execution_count": null,
   "metadata": {},
   "outputs": [],
   "source": [
    "# I (Aurora) already made a timeplot of the outliers I found in subquestion 2 here:\n",
    "\n",
    "fig = go.Figure()\n",
    "\n",
    "for name, group in groups:\n",
    "    if name == \"Croatia\" or name == \"Poland\" or name == \"Romania\" or name == \"Netherlands\" or name == \"Germany\":\n",
    "        fig.add_trace(go.Scatter(\n",
    "            x=group['time_period'],\n",
    "            y=group['zev_norm'],\n",
    "            mode='lines+markers',\n",
    "            name=name\n",
    "        ))\n",
    "\n",
    "fig.update_layout(\n",
    "    title='Comparison of percentage increase in ZEV over time for three outliers and two typical countries',\n",
    "    xaxis_title='Time Period',\n",
    "    yaxis_title='Percentage increase ZEV',\n",
    "    legend_title='Country'\n",
    ")\n",
    "\n",
    "fig.show()"
   ]
  },
  {
   "cell_type": "code",
   "execution_count": null,
   "metadata": {},
   "outputs": [],
   "source": []
  }
 ],
 "metadata": {
  "kernelspec": {
   "display_name": "TIL6022",
   "language": "python",
   "name": "python3"
  },
  "language_info": {
   "codemirror_mode": {
    "name": "ipython",
    "version": 3
   },
   "file_extension": ".py",
   "mimetype": "text/x-python",
   "name": "python",
   "nbconvert_exporter": "python",
   "pygments_lexer": "ipython3",
   "version": "3.12.5"
  }
 },
 "nbformat": 4,
 "nbformat_minor": 2
}
