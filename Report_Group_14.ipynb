{
 "cells": [
  {
   "cell_type": "markdown",
   "metadata": {},
   "source": [
    "# TIL6022 Project Report Group 14\n",
    "\n",
    "Evert Ingwersen - 5096374\n",
    "\n",
    "Anniek Hellemans - 5119103\n",
    "\n",
    "Aurora Nieuwenhuis - 5273552\n",
    "\n",
    "Julia Lakeman - 5171156\n",
    "\n",
    "Felix Scheepens - 6279031"
   ]
  },
  {
   "cell_type": "markdown",
   "metadata": {},
   "source": [
    "## Objective\n",
    "The objective of this research is to investigate how the growing share of non-emission passenger vehicles has influenced the net CO2 footprint of EU member states over the past decade. As the climate crisis continues to worsen, understanding the role that non-emission vehicles play in reducing CO2 emissions is more important than ever. This research project aims to explore the connection between the increasing adoption of these vehicles and changes in CO2 emissions across different countries in the EU. This way, we intend to provide valuable insights to those who are working to create cleaner and more sustainable transportation solutions in the European Union.\n",
    "\n",
    "For this research there will be mainly focused on the passenger vehicles. Since the entire transport sector accounts for 21% of total emissions, and passenger car  transport accounts for 45% of transport emissions. This follows that passenger car transport accounts for 10% of total CO2 emissions. This proves that passenger vehicles can have an impact on the overall CO2 emissions and the focus of research.\n",
    "\n",
    "Another reason to look at the passenger vehicle, is that de grow of zero emission vehicles mainly have been in the passenger vehicle sector. Despite being very developed in electric trucks, they are not yet in widespread use. The trucks are to heavy and the bateries to small. So they have no more value yet in the research being done here. \n",
    "\n",
    "In past years transport is the only sector where greenhouse gas emissions have increased, however reducing CO2 emissions from transport will not be easy, as the CO2 emissions rate is is going slow. By anwsering the main and sub objectives there will be looked at the correlation between the zero emission \n",
    "- add image/link from project proposal here"
   ]
  },
  {
   "cell_type": "markdown",
   "metadata": {},
   "source": [
    "### Research Questions: \n",
    "\n",
    "Main question: To what extent does the share of non-emission passenger vehicles affect the net CO2 footprint per EU country over the past decade?\n",
    "\n",
    "Subquestion 0 (starting point): Which % of total CO2 emissions is caused by traffic in each country?\n",
    "\n",
    "Subquestion 1: Is there a relation between CO2 and change in zero emission vehicles in each EU country?\n",
    "\n",
    "Subquestion 2: Does an increase in zero emission vehicles lead to a decrease in emission vehicles?\n",
    "\n",
    "Subquestion 3: \"Is there any notable regional trends within specific EU countries?\""
   ]
  },
  {
   "cell_type": "markdown",
   "metadata": {},
   "source": [
    "# Data used"
   ]
  },
  {
   "cell_type": "markdown",
   "metadata": {},
   "source": [
    "### Databases (eurostat):\n",
    "1. Net greenhouse gas emissions (https://ec.europa.eu/eurostat/databrowser/view/sdg_13_10/default/table?lang=en&category=t_env.t_env_air)\n",
    "2. Passenger cars, by type of motor energy (https://ec.europa.eu/eurostat/databrowser/view/road_eqs_carpda__custom_13067669/default/table?lang=en)\n",
    "3. Stock of zero-emission vehicles at 31st December by type of vehicle and type of motor energy (https://ec.europa.eu/eurostat/databrowser/view/road_eqs_zev/default/table?lang=en&category=ro\n",
    "ad.road_eqs"
   ]
  },
  {
   "cell_type": "markdown",
   "metadata": {},
   "source": [
    "# Data Pipeline \n",
    "This project’s data pipeline consists of a series of steps designed to integrate, clean, and transform the data found from multiple sources into one cohesive dataset. The final output can then be used for the analysis of the ZEV vs emissions trends for the EU countries over the past decade. Below is an overview of the key parts in this pipeline:\n",
    "\n",
    "### 1. Data Collection\n",
    "The process begins by finding the data. The data was found on Eurostat and consists of the sources explained in the introduction. Next, the datasets are imported using pandas. Four different CSV files are loaded, each containing its own dataset:\n",
    "\n",
    "CSV1: Contains the number of passenger vehicles per country per year.\n",
    "CSV2: Records the number of zero-emission vehicles (ZEVs) per country per year.\n",
    "CSV3: Tracks emissions per capita by country per year.\n",
    "CSV4: Lists populations of countries per year.\n",
    "\n",
    "### 2. Initial Data Preparation\n",
    "After loading the data, CSV4 is modified to include only essential columns (geo, TIME_PERIOD, OBS_VALUE), with the OBS_VALUE column renamed to population. Sets of unique country codes from each dataset are then created and compared to ensure consistency. The shared set of countries across all datasets forms the base for subsequent data merging.\n",
    "\n",
    "### 3. Data Integration\n",
    "The merging of datasets follows a stepwise approach:\n",
    "\n",
    "Merging Datasets: CSV1 and CSV2 are merged using a right join on the geo and TIME_PERIOD columns to combine passenger vehicle data with zero-emission data.\n",
    "Adding Emissions and Population Data: The result is then merged with CSV3 (emissions data) and CSV4 (population data) using left joins. This ensures the data being aligned for each country-year combination.\n",
    "\n",
    "### 4. Data Transformation into Useful Metrics\n",
    "In the combined dataset, the columns are then renamed for clarity, e.g., OBS_VALUE_y to amount_zev, and TIME_PERIOD to time_period. Country codes (geo) are transformed to full country names using a predefined mapping dictionary to enhance readability.\n",
    "\n",
    "Afterwards, new metrics are calculated that for later use:\n",
    "\n",
    "share_zev: Proportion of ZEVs among total passenger vehicles.\n",
    "amount_ev: Number of non-zero-emission vehicles.\n",
    "zev_per_capita and ev_per_capita: Ratios of ZEVs and non-zero-emission vehicles to population size.\n",
    "total_emissions: Estimated total emissions by multiplying emissions per capita by population.\n",
    "\n",
    "\n",
    "### 5. Data Transformation for Yearly Differences\n",
    "The dataset is then used to calculate year-over-year differences: zev_diff, ev_diff, emmission_diff, and all_cars_diff show absolute changes in relevant variables compared to the previous year.\n",
    "\n",
    "These metrics from step are subsequently normalised by converting them into a percentage increase in order to use them as growth factors in the scatterplot and time plot. These new metrics have the underscore \"norm\" (e.g., zev_norm, ev_norm) to represent percentage change relative to the previous year.\n",
    "\n",
    "### 6. Data Cleaning and Validation\n",
    "Rows with missing values are identified and removed, ensuring data quality. Any non-numeric values in key columns are converted to numeric types to handle format inconsistencies. A final cleanup step drops remaining rows with NaN values to produce a robust dataset.\n",
    "\n",
    "### 7. Final Dataset and Grouping\n",
    "The processed dataset, df_cleaned, includes columns for yearly differences and normalized changes and is grouped by country (geo) to enable country-specific analysis."
   ]
  },
  {
   "cell_type": "markdown",
   "metadata": {},
   "source": [
    "# 0. Which % of total CO2 emissions is caused by traffic in each country?"
   ]
  },
  {
   "cell_type": "markdown",
   "metadata": {},
   "source": [
    "# 1. Is there a relation between CO2 and change in zero emission vehicles in each EU country?"
   ]
  },
  {
   "cell_type": "markdown",
   "metadata": {},
   "source": [
    "# 2. Does an increase in  zero emission vehicles lead to a decrease in emission vehicles?\n",
    "In this question it will be looked at whether a decrease in emission vehicles actually causes an increase in\n",
    "zero emission vehicles. \n",
    "\n",
    "If this is indeed the case, then the main research question is one step closer to being answered as a decrease in EVs due to an increase in ZEVs would imply an emission reduction that can be traced back to the rise in ZEVS."
   ]
  },
  {
   "cell_type": "markdown",
   "metadata": {},
   "source": [
    "### Scatterplot Analysis\n",
    "In the scatter plot the percentage difference of emission-vehicles versus non-emission vehicles in different EU countries over the years is shown. This percentage difference is a relative number, characterised by the percentage increase in the respective type of vehicle expressed as a growth factor. \n",
    "\n",
    "As can be seen from this scatterplot, a negative trend line can be found, implying that the fraction of emission vehicles over the non emission vehicles is decreasing. Thus, there are more non-emission vehicles per emission vehicle.\n",
    "\n",
    "### Notable Outliers\n",
    "However, there are a few notable outliers. Some of these inlcude Romania, Poland and Croatia. Zooming in on one of these outliers, the Romania 2018 data point in the top left of the scatterplot, it can be seen that in that year the ZEV percentage difference was - 0.9, thus implying a 90% decrease in amount of ZEV compared to the year before (2017). This seems to be quite high, as it would imply Romania got rid of 90% of its ZEVs in that year. On the other hand, Croatia seems to have experienced a dramatic increase in ZEVs, namely an increase of around 300% in 2015.\n",
    "\n",
    "Thus these outliers need to be further explored, and this is done in subquestion 3, where a timeplot is made in order to investigate the behaviour of the outliers Romania, Poland and Croatia.\n",
    "\n",
    "It is also worth to notice that Bulgaria seems to have had a 10% decrease in amount of EVs in 2017, while simultaneously having an increase of 80% in ZEVs. However, in the other years it seems to have experienced increases more similar to the typical countries, thus in the timeplot, this peak will be harder to perceive than for the other three outliers.\n",
    "\n",
    "### Conclusion\n",
    "Thus it can be concluded that there is a slight negative trend to be seen between EVs and ZEVs, thus implying that a decrease in EVs is connected to an increase in ZEVs."
   ]
  },
  {
   "cell_type": "markdown",
   "metadata": {},
   "source": [
    "# 3. Is there any notable regional trends within specific EU countries?"
   ]
  },
  {
   "cell_type": "markdown",
   "metadata": {},
   "source": [
    "### Scatterplot Analysis\n",
    "\n",
    "In this time plot, the percentage increase in ZEVs for each of the EU countries over the past decade is shown, given as a growth ratio. The three outliers considered in this plot are Croatia, Poland, and Romania. Furthermore, two typical countries identified in subquestion 2 are also shown, namely the Netherlands and Germany.\n",
    "\n",
    "### Notable Outliers\n",
    "\n",
    "As seen from this time plot, Croatia's ZEV growth experienced a relative decrease after its initial peak in 2015, similar to Poland, which experienced a decrease in 2018. Romania, in contrast to Poland, saw a sharp increase in 2018 that later leveled out.\n",
    "\n",
    "### Conclusion \n",
    "\n",
    "In answer to subquestion 3, there were regional differences in the increases and decreases for different countries. The Eastern European countries—Croatia, Romania, and Poland—show far more variation in the percentage increase and decrease of ZEVs compared to more developed countries like the Netherlands and Germany. However, it can be seen that, over the years, the differences in percentage increases in ZEVs between countries have become smaller."
   ]
  },
  {
   "cell_type": "markdown",
   "metadata": {},
   "source": [
    "# Conclusion\n"
   ]
  },
  {
   "cell_type": "markdown",
   "metadata": {},
   "source": [
    "# Contribustion Statement\n",
    "\n",
    "Evert Ingwersen \n",
    "- \n",
    "\n",
    "Anniek Hellemans \n",
    "-\n",
    "\n",
    "Aurora Nieuwenhuis \n",
    "-\n",
    "\n",
    "Julia Lakeman \n",
    "-\n",
    "\n",
    "Felix Scheepens \n",
    "-\n"
   ]
  }
 ],
 "metadata": {
  "kernelspec": {
   "display_name": "TIL6022",
   "language": "python",
   "name": "python3"
  },
  "language_info": {
   "codemirror_mode": {
    "name": "ipython",
    "version": 3
   },
   "file_extension": ".py",
   "mimetype": "text/x-python",
   "name": "python",
   "nbconvert_exporter": "python",
   "pygments_lexer": "ipython3",
   "version": "3.12.6"
  }
 },
 "nbformat": 4,
 "nbformat_minor": 2
}
