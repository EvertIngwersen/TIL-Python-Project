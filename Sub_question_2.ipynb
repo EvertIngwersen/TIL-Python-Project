{
 "cells": [
  {
   "cell_type": "code",
   "execution_count": 13,
   "id": "925aa255-5c94-4c83-8f1b-330a2834a900",
   "metadata": {},
   "outputs": [],
   "source": [
    "import pandas as pd\n",
    "import plotly.graph_objects as go\n",
    "import plotly.express as px"
   ]
  },
  {
   "cell_type": "code",
   "execution_count": 15,
   "id": "83f82de3-c777-4812-b9b1-35970cc624cc",
   "metadata": {},
   "outputs": [],
   "source": [
    "df_cleaned_EU = pd.read_csv('data/merged_dataset.csv')"
   ]
  },
  {
   "cell_type": "code",
   "execution_count": 17,
   "id": "c7d4dab8-e72d-4fb2-b5e6-6a38555ca60e",
   "metadata": {},
   "outputs": [
    {
     "data": {
      "text/html": [
       "<div>\n",
       "<style scoped>\n",
       "    .dataframe tbody tr th:only-of-type {\n",
       "        vertical-align: middle;\n",
       "    }\n",
       "\n",
       "    .dataframe tbody tr th {\n",
       "        vertical-align: top;\n",
       "    }\n",
       "\n",
       "    .dataframe thead th {\n",
       "        text-align: right;\n",
       "    }\n",
       "</style>\n",
       "<table border=\"1\" class=\"dataframe\">\n",
       "  <thead>\n",
       "    <tr style=\"text-align: right;\">\n",
       "      <th></th>\n",
       "      <th>Unnamed: 0</th>\n",
       "      <th>geo</th>\n",
       "      <th>time_period</th>\n",
       "      <th>amount_passenger_cars</th>\n",
       "      <th>amount_zev</th>\n",
       "      <th>amount_ev</th>\n",
       "      <th>share_zev</th>\n",
       "      <th>emission_per_capita</th>\n",
       "      <th>zev_per_capita</th>\n",
       "      <th>ev_per_capita</th>\n",
       "      <th>total_emissions</th>\n",
       "      <th>zev_diff</th>\n",
       "      <th>ev_diff</th>\n",
       "      <th>emmission_diff</th>\n",
       "      <th>all_cars_diff</th>\n",
       "      <th>zev_norm</th>\n",
       "      <th>ev_norm</th>\n",
       "      <th>emmission_norm</th>\n",
       "      <th>all_cars_norm</th>\n",
       "    </tr>\n",
       "  </thead>\n",
       "  <tbody>\n",
       "    <tr>\n",
       "      <th>0</th>\n",
       "      <td>0</td>\n",
       "      <td>Austria</td>\n",
       "      <td>2014</td>\n",
       "      <td>4694921</td>\n",
       "      <td>3389</td>\n",
       "      <td>4691532</td>\n",
       "      <td>0.000722</td>\n",
       "      <td>8.4</td>\n",
       "      <td>0.000398</td>\n",
       "      <td>0.551440</td>\n",
       "      <td>71465402.4</td>\n",
       "      <td>NaN</td>\n",
       "      <td>NaN</td>\n",
       "      <td>NaN</td>\n",
       "      <td>NaN</td>\n",
       "      <td>NaN</td>\n",
       "      <td>NaN</td>\n",
       "      <td>NaN</td>\n",
       "      <td>NaN</td>\n",
       "    </tr>\n",
       "    <tr>\n",
       "      <th>1</th>\n",
       "      <td>1</td>\n",
       "      <td>Austria</td>\n",
       "      <td>2015</td>\n",
       "      <td>4748048</td>\n",
       "      <td>5038</td>\n",
       "      <td>4743010</td>\n",
       "      <td>0.001061</td>\n",
       "      <td>8.7</td>\n",
       "      <td>0.000587</td>\n",
       "      <td>0.552481</td>\n",
       "      <td>74688856.2</td>\n",
       "      <td>1649.0</td>\n",
       "      <td>51478.0</td>\n",
       "      <td>3223453.8</td>\n",
       "      <td>53127.0</td>\n",
       "      <td>0.486574</td>\n",
       "      <td>0.010973</td>\n",
       "      <td>0.045105</td>\n",
       "      <td>0.011316</td>\n",
       "    </tr>\n",
       "    <tr>\n",
       "      <th>2</th>\n",
       "      <td>2</td>\n",
       "      <td>Austria</td>\n",
       "      <td>2016</td>\n",
       "      <td>4821557</td>\n",
       "      <td>9086</td>\n",
       "      <td>4812471</td>\n",
       "      <td>0.001884</td>\n",
       "      <td>8.6</td>\n",
       "      <td>0.001044</td>\n",
       "      <td>0.553128</td>\n",
       "      <td>74824050.6</td>\n",
       "      <td>4048.0</td>\n",
       "      <td>69461.0</td>\n",
       "      <td>135194.4</td>\n",
       "      <td>73509.0</td>\n",
       "      <td>0.803493</td>\n",
       "      <td>0.014645</td>\n",
       "      <td>0.001810</td>\n",
       "      <td>0.015482</td>\n",
       "    </tr>\n",
       "    <tr>\n",
       "      <th>3</th>\n",
       "      <td>3</td>\n",
       "      <td>Austria</td>\n",
       "      <td>2017</td>\n",
       "      <td>4898578</td>\n",
       "      <td>14637</td>\n",
       "      <td>4883941</td>\n",
       "      <td>0.002988</td>\n",
       "      <td>9.3</td>\n",
       "      <td>0.001668</td>\n",
       "      <td>0.556710</td>\n",
       "      <td>81587644.5</td>\n",
       "      <td>5551.0</td>\n",
       "      <td>71470.0</td>\n",
       "      <td>6763593.9</td>\n",
       "      <td>77021.0</td>\n",
       "      <td>0.610940</td>\n",
       "      <td>0.014851</td>\n",
       "      <td>0.090393</td>\n",
       "      <td>0.015974</td>\n",
       "    </tr>\n",
       "    <tr>\n",
       "      <th>4</th>\n",
       "      <td>4</td>\n",
       "      <td>Austria</td>\n",
       "      <td>2018</td>\n",
       "      <td>4978852</td>\n",
       "      <td>20855</td>\n",
       "      <td>4957997</td>\n",
       "      <td>0.004189</td>\n",
       "      <td>9.8</td>\n",
       "      <td>0.002364</td>\n",
       "      <td>0.561987</td>\n",
       "      <td>86458216.6</td>\n",
       "      <td>6218.0</td>\n",
       "      <td>74056.0</td>\n",
       "      <td>4870572.1</td>\n",
       "      <td>80274.0</td>\n",
       "      <td>0.424814</td>\n",
       "      <td>0.015163</td>\n",
       "      <td>0.059697</td>\n",
       "      <td>0.016387</td>\n",
       "    </tr>\n",
       "    <tr>\n",
       "      <th>...</th>\n",
       "      <td>...</td>\n",
       "      <td>...</td>\n",
       "      <td>...</td>\n",
       "      <td>...</td>\n",
       "      <td>...</td>\n",
       "      <td>...</td>\n",
       "      <td>...</td>\n",
       "      <td>...</td>\n",
       "      <td>...</td>\n",
       "      <td>...</td>\n",
       "      <td>...</td>\n",
       "      <td>...</td>\n",
       "      <td>...</td>\n",
       "      <td>...</td>\n",
       "      <td>...</td>\n",
       "      <td>...</td>\n",
       "      <td>...</td>\n",
       "      <td>...</td>\n",
       "      <td>...</td>\n",
       "    </tr>\n",
       "    <tr>\n",
       "      <th>275</th>\n",
       "      <td>255</td>\n",
       "      <td>Sweden</td>\n",
       "      <td>2019</td>\n",
       "      <td>4887116</td>\n",
       "      <td>30382</td>\n",
       "      <td>4856734</td>\n",
       "      <td>0.006217</td>\n",
       "      <td>1.2</td>\n",
       "      <td>0.002970</td>\n",
       "      <td>0.474745</td>\n",
       "      <td>12276222.0</td>\n",
       "      <td>13677.0</td>\n",
       "      <td>3460.0</td>\n",
       "      <td>-3916165.2</td>\n",
       "      <td>17137.0</td>\n",
       "      <td>0.818737</td>\n",
       "      <td>0.000713</td>\n",
       "      <td>-0.241852</td>\n",
       "      <td>0.003519</td>\n",
       "    </tr>\n",
       "    <tr>\n",
       "      <th>276</th>\n",
       "      <td>256</td>\n",
       "      <td>Sweden</td>\n",
       "      <td>2020</td>\n",
       "      <td>4943293</td>\n",
       "      <td>55829</td>\n",
       "      <td>4887464</td>\n",
       "      <td>0.011294</td>\n",
       "      <td>0.4</td>\n",
       "      <td>0.005406</td>\n",
       "      <td>0.473243</td>\n",
       "      <td>4131035.6</td>\n",
       "      <td>25447.0</td>\n",
       "      <td>30730.0</td>\n",
       "      <td>-8145186.4</td>\n",
       "      <td>56177.0</td>\n",
       "      <td>0.837568</td>\n",
       "      <td>0.006327</td>\n",
       "      <td>-0.663493</td>\n",
       "      <td>0.011495</td>\n",
       "    </tr>\n",
       "    <tr>\n",
       "      <th>277</th>\n",
       "      <td>257</td>\n",
       "      <td>Sweden</td>\n",
       "      <td>2021</td>\n",
       "      <td>4985979</td>\n",
       "      <td>110221</td>\n",
       "      <td>4875758</td>\n",
       "      <td>0.022106</td>\n",
       "      <td>0.5</td>\n",
       "      <td>0.010619</td>\n",
       "      <td>0.469758</td>\n",
       "      <td>5189647.5</td>\n",
       "      <td>54392.0</td>\n",
       "      <td>-11706.0</td>\n",
       "      <td>1058611.9</td>\n",
       "      <td>42686.0</td>\n",
       "      <td>0.974261</td>\n",
       "      <td>-0.002395</td>\n",
       "      <td>0.256258</td>\n",
       "      <td>0.008635</td>\n",
       "    </tr>\n",
       "    <tr>\n",
       "      <th>278</th>\n",
       "      <td>258</td>\n",
       "      <td>Sweden</td>\n",
       "      <td>2022</td>\n",
       "      <td>4979761</td>\n",
       "      <td>197751</td>\n",
       "      <td>4782010</td>\n",
       "      <td>0.039711</td>\n",
       "      <td>0.6</td>\n",
       "      <td>0.018919</td>\n",
       "      <td>0.457507</td>\n",
       "      <td>6271395.6</td>\n",
       "      <td>87530.0</td>\n",
       "      <td>-93748.0</td>\n",
       "      <td>1081748.1</td>\n",
       "      <td>-6218.0</td>\n",
       "      <td>0.794132</td>\n",
       "      <td>-0.019227</td>\n",
       "      <td>0.208443</td>\n",
       "      <td>-0.001247</td>\n",
       "    </tr>\n",
       "    <tr>\n",
       "      <th>279</th>\n",
       "      <td>259</td>\n",
       "      <td>Sweden</td>\n",
       "      <td>2023</td>\n",
       "      <td>4976366</td>\n",
       "      <td>291716</td>\n",
       "      <td>4684650</td>\n",
       "      <td>0.058620</td>\n",
       "      <td>NaN</td>\n",
       "      <td>0.027726</td>\n",
       "      <td>0.445243</td>\n",
       "      <td>NaN</td>\n",
       "      <td>93965.0</td>\n",
       "      <td>-97360.0</td>\n",
       "      <td>NaN</td>\n",
       "      <td>-3395.0</td>\n",
       "      <td>0.475168</td>\n",
       "      <td>-0.020360</td>\n",
       "      <td>NaN</td>\n",
       "      <td>-0.000682</td>\n",
       "    </tr>\n",
       "  </tbody>\n",
       "</table>\n",
       "<p>270 rows × 19 columns</p>\n",
       "</div>"
      ],
      "text/plain": [
       "     Unnamed: 0      geo  time_period  amount_passenger_cars  amount_zev  \\\n",
       "0             0  Austria         2014                4694921        3389   \n",
       "1             1  Austria         2015                4748048        5038   \n",
       "2             2  Austria         2016                4821557        9086   \n",
       "3             3  Austria         2017                4898578       14637   \n",
       "4             4  Austria         2018                4978852       20855   \n",
       "..          ...      ...          ...                    ...         ...   \n",
       "275         255   Sweden         2019                4887116       30382   \n",
       "276         256   Sweden         2020                4943293       55829   \n",
       "277         257   Sweden         2021                4985979      110221   \n",
       "278         258   Sweden         2022                4979761      197751   \n",
       "279         259   Sweden         2023                4976366      291716   \n",
       "\n",
       "     amount_ev  share_zev  emission_per_capita  zev_per_capita  ev_per_capita  \\\n",
       "0      4691532   0.000722                  8.4        0.000398       0.551440   \n",
       "1      4743010   0.001061                  8.7        0.000587       0.552481   \n",
       "2      4812471   0.001884                  8.6        0.001044       0.553128   \n",
       "3      4883941   0.002988                  9.3        0.001668       0.556710   \n",
       "4      4957997   0.004189                  9.8        0.002364       0.561987   \n",
       "..         ...        ...                  ...             ...            ...   \n",
       "275    4856734   0.006217                  1.2        0.002970       0.474745   \n",
       "276    4887464   0.011294                  0.4        0.005406       0.473243   \n",
       "277    4875758   0.022106                  0.5        0.010619       0.469758   \n",
       "278    4782010   0.039711                  0.6        0.018919       0.457507   \n",
       "279    4684650   0.058620                  NaN        0.027726       0.445243   \n",
       "\n",
       "     total_emissions  zev_diff  ev_diff  emmission_diff  all_cars_diff  \\\n",
       "0         71465402.4       NaN      NaN             NaN            NaN   \n",
       "1         74688856.2    1649.0  51478.0       3223453.8        53127.0   \n",
       "2         74824050.6    4048.0  69461.0        135194.4        73509.0   \n",
       "3         81587644.5    5551.0  71470.0       6763593.9        77021.0   \n",
       "4         86458216.6    6218.0  74056.0       4870572.1        80274.0   \n",
       "..               ...       ...      ...             ...            ...   \n",
       "275       12276222.0   13677.0   3460.0      -3916165.2        17137.0   \n",
       "276        4131035.6   25447.0  30730.0      -8145186.4        56177.0   \n",
       "277        5189647.5   54392.0 -11706.0       1058611.9        42686.0   \n",
       "278        6271395.6   87530.0 -93748.0       1081748.1        -6218.0   \n",
       "279              NaN   93965.0 -97360.0             NaN        -3395.0   \n",
       "\n",
       "     zev_norm   ev_norm  emmission_norm  all_cars_norm  \n",
       "0         NaN       NaN             NaN            NaN  \n",
       "1    0.486574  0.010973        0.045105       0.011316  \n",
       "2    0.803493  0.014645        0.001810       0.015482  \n",
       "3    0.610940  0.014851        0.090393       0.015974  \n",
       "4    0.424814  0.015163        0.059697       0.016387  \n",
       "..        ...       ...             ...            ...  \n",
       "275  0.818737  0.000713       -0.241852       0.003519  \n",
       "276  0.837568  0.006327       -0.663493       0.011495  \n",
       "277  0.974261 -0.002395        0.256258       0.008635  \n",
       "278  0.794132 -0.019227        0.208443      -0.001247  \n",
       "279  0.475168 -0.020360             NaN      -0.000682  \n",
       "\n",
       "[270 rows x 19 columns]"
      ]
     },
     "execution_count": 17,
     "metadata": {},
     "output_type": "execute_result"
    }
   ],
   "source": [
    "point_to_exclude = df_cleaned_EU[df_cleaned_EU['geo'] == 'European Union'].index\n",
    "df_cleaned = df_cleaned_EU.drop(index=point_to_exclude)\n",
    "df_cleaned"
   ]
  },
  {
   "cell_type": "code",
   "execution_count": 24,
   "id": "088abcd9-93ce-4aaf-948b-455f1812d5af",
   "metadata": {},
   "outputs": [
    {
     "data": {
      "application/vnd.plotly.v1+json": {
       "config": {
        "plotlyServerURL": "https://plot.ly"
       },
       "data": [
        {
         "hovertemplate": "geo=Austria<br>time_period=2014<br>ZEV percent difference=%{x}<br>EV percent difference=%{y}<extra></extra>",
         "legendgroup": "Austria, 2014",
         "marker": {
          "color": "#636efa",
          "symbol": "circle"
         },
         "mode": "markers",
         "name": "Austria, 2014",
         "orientation": "v",
         "showlegend": true,
         "type": "scatter",
         "x": [
          null
         ],
         "xaxis": "x",
         "y": [
          null
         ],
         "yaxis": "y"
        },
        {
         "hovertemplate": "geo=Austria<br>time_period=2015<br>ZEV percent difference=%{x}<br>EV percent difference=%{y}<extra></extra>",
         "legendgroup": "Austria, 2015",
         "marker": {
          "color": "#636efa",
          "symbol": "diamond"
         },
         "mode": "markers",
         "name": "Austria, 2015",
         "orientation": "v",
         "showlegend": true,
         "type": "scatter",
         "x": [
          0.486574210681617
         ],
         "xaxis": "x",
         "y": [
          0.0109725351974578
         ],
         "yaxis": "y"
        },
        {
         "hovertemplate": "geo=Austria<br>time_period=2016<br>ZEV percent difference=%{x}<br>EV percent difference=%{y}<extra></extra>",
         "legendgroup": "Austria, 2016",
         "marker": {
          "color": "#636efa",
          "symbol": "square"
         },
         "mode": "markers",
         "name": "Austria, 2016",
         "orientation": "v",
         "showlegend": true,
         "type": "scatter",
         "x": [
          0.8034934497816594
         ],
         "xaxis": "x",
         "y": [
          0.0146449195763871
         ],
         "yaxis": "y"
        },
        {
         "hovertemplate": "geo=Austria<br>time_period=2017<br>ZEV percent difference=%{x}<br>EV percent difference=%{y}<extra></extra>",
         "legendgroup": "Austria, 2017",
         "marker": {
          "color": "#636efa",
          "symbol": "x"
         },
         "mode": "markers",
         "name": "Austria, 2017",
         "orientation": "v",
         "showlegend": true,
         "type": "scatter",
         "x": [
          0.610939907550077
         ],
         "xaxis": "x",
         "y": [
          0.0148509985826408
         ],
         "yaxis": "y"
        },
        {
         "hovertemplate": "geo=Austria<br>time_period=2018<br>ZEV percent difference=%{x}<br>EV percent difference=%{y}<extra></extra>",
         "legendgroup": "Austria, 2018",
         "marker": {
          "color": "#636efa",
          "symbol": "cross"
         },
         "mode": "markers",
         "name": "Austria, 2018",
         "orientation": "v",
         "showlegend": true,
         "type": "scatter",
         "x": [
          0.4248138279702125
         ],
         "xaxis": "x",
         "y": [
          0.0151631643379803
         ],
         "yaxis": "y"
        },
        {
         "hovertemplate": "geo=Austria<br>time_period=2019<br>ZEV percent difference=%{x}<br>EV percent difference=%{y}<extra></extra>",
         "legendgroup": "Austria, 2019",
         "marker": {
          "color": "#636efa",
          "symbol": "circle"
         },
         "mode": "markers",
         "name": "Austria, 2019",
         "orientation": "v",
         "showlegend": true,
         "type": "scatter",
         "x": [
          0.4175976983936705
         ],
         "xaxis": "x",
         "y": [
          0.0104854843599138
         ],
         "yaxis": "y"
        },
        {
         "hovertemplate": "geo=Austria<br>time_period=2020<br>ZEV percent difference=%{x}<br>EV percent difference=%{y}<extra></extra>",
         "legendgroup": "Austria, 2020",
         "marker": {
          "color": "#636efa",
          "symbol": "diamond"
         },
         "mode": "markers",
         "name": "Austria, 2020",
         "orientation": "v",
         "showlegend": true,
         "type": "scatter",
         "x": [
          0.5069679339737518
         ],
         "xaxis": "x",
         "y": [
          0.00744333714439
         ],
         "yaxis": "y"
        },
        {
         "hovertemplate": "geo=Austria<br>time_period=2021<br>ZEV percent difference=%{x}<br>EV percent difference=%{y}<extra></extra>",
         "legendgroup": "Austria, 2021",
         "marker": {
          "color": "#636efa",
          "symbol": "square"
         },
         "mode": "markers",
         "name": "Austria, 2021",
         "orientation": "v",
         "showlegend": true,
         "type": "scatter",
         "x": [
          0.7192045250493805
         ],
         "xaxis": "x",
         "y": [
          0.0019747289378922
         ],
         "yaxis": "y"
        },
        {
         "hovertemplate": "geo=Austria<br>time_period=2022<br>ZEV percent difference=%{x}<br>EV percent difference=%{y}<extra></extra>",
         "legendgroup": "Austria, 2022",
         "marker": {
          "color": "#636efa",
          "symbol": "x"
         },
         "mode": "markers",
         "name": "Austria, 2022",
         "orientation": "v",
         "showlegend": true,
         "type": "scatter",
         "x": [
          0.439890853069431
         ],
         "xaxis": "x",
         "y": [
          -0.0032901332386308
         ],
         "yaxis": "y"
        },
        {
         "hovertemplate": "geo=Austria<br>time_period=2023<br>ZEV percent difference=%{x}<br>EV percent difference=%{y}<extra></extra>",
         "legendgroup": "Austria, 2023",
         "marker": {
          "color": "#636efa",
          "symbol": "cross"
         },
         "mode": "markers",
         "name": "Austria, 2023",
         "orientation": "v",
         "showlegend": true,
         "type": "scatter",
         "x": [
          0.410474489287042
         ],
         "xaxis": "x",
         "y": [
          -0.0022128304887331
         ],
         "yaxis": "y"
        },
        {
         "hovertemplate": "geo=Belgium<br>time_period=2014<br>ZEV percent difference=%{x}<br>EV percent difference=%{y}<extra></extra>",
         "legendgroup": "Belgium, 2014",
         "marker": {
          "color": "#EF553B",
          "symbol": "circle"
         },
         "mode": "markers",
         "name": "Belgium, 2014",
         "orientation": "v",
         "showlegend": true,
         "type": "scatter",
         "x": [
          null
         ],
         "xaxis": "x",
         "y": [
          null
         ],
         "yaxis": "y"
        },
        {
         "hovertemplate": "geo=Belgium<br>time_period=2015<br>ZEV percent difference=%{x}<br>EV percent difference=%{y}<extra></extra>",
         "legendgroup": "Belgium, 2015",
         "marker": {
          "color": "#EF553B",
          "symbol": "diamond"
         },
         "mode": "markers",
         "name": "Belgium, 2015",
         "orientation": "v",
         "showlegend": true,
         "type": "scatter",
         "x": [
          0.4816964285714286
         ],
         "xaxis": "x",
         "y": [
          0.0136660426873505
         ],
         "yaxis": "y"
        },
        {
         "hovertemplate": "geo=Belgium<br>time_period=2016<br>ZEV percent difference=%{x}<br>EV percent difference=%{y}<extra></extra>",
         "legendgroup": "Belgium, 2016",
         "marker": {
          "color": "#EF553B",
          "symbol": "square"
         },
         "mode": "markers",
         "name": "Belgium, 2016",
         "orientation": "v",
         "showlegend": true,
         "type": "scatter",
         "x": [
          0.5703525158180175
         ],
         "xaxis": "x",
         "y": [
          0.0119001756574785
         ],
         "yaxis": "y"
        },
        {
         "hovertemplate": "geo=Belgium<br>time_period=2017<br>ZEV percent difference=%{x}<br>EV percent difference=%{y}<extra></extra>",
         "legendgroup": "Belgium, 2017",
         "marker": {
          "color": "#EF553B",
          "symbol": "x"
         },
         "mode": "markers",
         "name": "Belgium, 2017",
         "orientation": "v",
         "showlegend": true,
         "type": "scatter",
         "x": [
          0.4508825786646201
         ],
         "xaxis": "x",
         "y": [
          0.0114034383033419
         ],
         "yaxis": "y"
        },
        {
         "hovertemplate": "geo=Belgium<br>time_period=2018<br>ZEV percent difference=%{x}<br>EV percent difference=%{y}<extra></extra>",
         "legendgroup": "Belgium, 2018",
         "marker": {
          "color": "#EF553B",
          "symbol": "cross"
         },
         "mode": "markers",
         "name": "Belgium, 2018",
         "orientation": "v",
         "showlegend": true,
         "type": "scatter",
         "x": [
          0.441549854535837
         ],
         "xaxis": "x",
         "y": [
          0.0079682258640734
         ],
         "yaxis": "y"
        },
        {
         "hovertemplate": "geo=Belgium<br>time_period=2019<br>ZEV percent difference=%{x}<br>EV percent difference=%{y}<extra></extra>",
         "legendgroup": "Belgium, 2019",
         "marker": {
          "color": "#EF553B",
          "symbol": "circle"
         },
         "mode": "markers",
         "name": "Belgium, 2019",
         "orientation": "v",
         "showlegend": true,
         "type": "scatter",
         "x": [
          0.7184661957618567
         ],
         "xaxis": "x",
         "y": [
          0.0043883331357609
         ],
         "yaxis": "y"
        },
        {
         "hovertemplate": "geo=Belgium<br>time_period=2020<br>ZEV percent difference=%{x}<br>EV percent difference=%{y}<extra></extra>",
         "legendgroup": "Belgium, 2020",
         "marker": {
          "color": "#EF553B",
          "symbol": "diamond"
         },
         "mode": "markers",
         "name": "Belgium, 2020",
         "orientation": "v",
         "showlegend": true,
         "type": "scatter",
         "x": [
          0.6971654299898574
         ],
         "xaxis": "x",
         "y": [
          0.0004356026914583
         ],
         "yaxis": "y"
        },
        {
         "hovertemplate": "geo=Belgium<br>time_period=2021<br>ZEV percent difference=%{x}<br>EV percent difference=%{y}<extra></extra>",
         "legendgroup": "Belgium, 2021",
         "marker": {
          "color": "#EF553B",
          "symbol": "square"
         },
         "mode": "markers",
         "name": "Belgium, 2021",
         "orientation": "v",
         "showlegend": true,
         "type": "scatter",
         "x": [
          0.6480357311357846
         ],
         "xaxis": "x",
         "y": [
          0.0013498826652255
         ],
         "yaxis": "y"
        },
        {
         "hovertemplate": "geo=Belgium<br>time_period=2022<br>ZEV percent difference=%{x}<br>EV percent difference=%{y}<extra></extra>",
         "legendgroup": "Belgium, 2022",
         "marker": {
          "color": "#EF553B",
          "symbol": "x"
         },
         "mode": "markers",
         "name": "Belgium, 2022",
         "orientation": "v",
         "showlegend": true,
         "type": "scatter",
         "x": [
          0.71461561951294
         ],
         "xaxis": "x",
         "y": [
          -0.0014173558932125
         ],
         "yaxis": "y"
        },
        {
         "hovertemplate": "geo=Belgium<br>time_period=2023<br>ZEV percent difference=%{x}<br>EV percent difference=%{y}<extra></extra>",
         "legendgroup": "Belgium, 2023",
         "marker": {
          "color": "#EF553B",
          "symbol": "cross"
         },
         "mode": "markers",
         "name": "Belgium, 2023",
         "orientation": "v",
         "showlegend": true,
         "type": "scatter",
         "x": [
          1.0200135798483954
         ],
         "xaxis": "x",
         "y": [
          0.0001341792593986
         ],
         "yaxis": "y"
        },
        {
         "hovertemplate": "geo=Bulgaria<br>time_period=2014<br>ZEV percent difference=%{x}<br>EV percent difference=%{y}<extra></extra>",
         "legendgroup": "Bulgaria, 2014",
         "marker": {
          "color": "#00cc96",
          "symbol": "circle"
         },
         "mode": "markers",
         "name": "Bulgaria, 2014",
         "orientation": "v",
         "showlegend": true,
         "type": "scatter",
         "x": [
          null
         ],
         "xaxis": "x",
         "y": [
          null
         ],
         "yaxis": "y"
        },
        {
         "hovertemplate": "geo=Bulgaria<br>time_period=2015<br>ZEV percent difference=%{x}<br>EV percent difference=%{y}<extra></extra>",
         "legendgroup": "Bulgaria, 2015",
         "marker": {
          "color": "#00cc96",
          "symbol": "diamond"
         },
         "mode": "markers",
         "name": "Bulgaria, 2015",
         "orientation": "v",
         "showlegend": true,
         "type": "scatter",
         "x": [
          0.2448979591836734
         ],
         "xaxis": "x",
         "y": [
          0.0491545985089504
         ],
         "yaxis": "y"
        },
        {
         "hovertemplate": "geo=Bulgaria<br>time_period=2016<br>ZEV percent difference=%{x}<br>EV percent difference=%{y}<extra></extra>",
         "legendgroup": "Bulgaria, 2016",
         "marker": {
          "color": "#00cc96",
          "symbol": "square"
         },
         "mode": "markers",
         "name": "Bulgaria, 2016",
         "orientation": "v",
         "showlegend": true,
         "type": "scatter",
         "x": [
          0.174863387978142
         ],
         "xaxis": "x",
         "y": [
          -0.005851313817779
         ],
         "yaxis": "y"
        },
        {
         "hovertemplate": "geo=Bulgaria<br>time_period=2017<br>ZEV percent difference=%{x}<br>EV percent difference=%{y}<extra></extra>",
         "legendgroup": "Bulgaria, 2017",
         "marker": {
          "color": "#00cc96",
          "symbol": "x"
         },
         "mode": "markers",
         "name": "Bulgaria, 2017",
         "orientation": "v",
         "showlegend": true,
         "type": "scatter",
         "x": [
          0.786046511627907
         ],
         "xaxis": "x",
         "y": [
          -0.1187019084398093
         ],
         "yaxis": "y"
        },
        {
         "hovertemplate": "geo=Bulgaria<br>time_period=2018<br>ZEV percent difference=%{x}<br>EV percent difference=%{y}<extra></extra>",
         "legendgroup": "Bulgaria, 2018",
         "marker": {
          "color": "#00cc96",
          "symbol": "cross"
         },
         "mode": "markers",
         "name": "Bulgaria, 2018",
         "orientation": "v",
         "showlegend": true,
         "type": "scatter",
         "x": [
          0.8489583333333334
         ],
         "xaxis": "x",
         "y": [
          0.0008605780528771
         ],
         "yaxis": "y"
        },
        {
         "hovertemplate": "geo=Bulgaria<br>time_period=2019<br>ZEV percent difference=%{x}<br>EV percent difference=%{y}<extra></extra>",
         "legendgroup": "Bulgaria, 2019",
         "marker": {
          "color": "#00cc96",
          "symbol": "circle"
         },
         "mode": "markers",
         "name": "Bulgaria, 2019",
         "orientation": "v",
         "showlegend": true,
         "type": "scatter",
         "x": [
          0.6690140845070423
         ],
         "xaxis": "x",
         "y": [
          0.0202501970161742
         ],
         "yaxis": "y"
        },
        {
         "hovertemplate": "geo=Bulgaria<br>time_period=2020<br>ZEV percent difference=%{x}<br>EV percent difference=%{y}<extra></extra>",
         "legendgroup": "Bulgaria, 2020",
         "marker": {
          "color": "#00cc96",
          "symbol": "diamond"
         },
         "mode": "markers",
         "name": "Bulgaria, 2020",
         "orientation": "v",
         "showlegend": true,
         "type": "scatter",
         "x": [
          0.6312236286919831
         ],
         "xaxis": "x",
         "y": [
          0.0127508121046634
         ],
         "yaxis": "y"
        },
        {
         "hovertemplate": "geo=Bulgaria<br>time_period=2021<br>ZEV percent difference=%{x}<br>EV percent difference=%{y}<extra></extra>",
         "legendgroup": "Bulgaria, 2021",
         "marker": {
          "color": "#00cc96",
          "symbol": "square"
         },
         "mode": "markers",
         "name": "Bulgaria, 2021",
         "orientation": "v",
         "showlegend": true,
         "type": "scatter",
         "x": [
          0.7428867046042421
         ],
         "xaxis": "x",
         "y": [
          -0.0131718112418537
         ],
         "yaxis": "y"
        },
        {
         "hovertemplate": "geo=Bulgaria<br>time_period=2022<br>ZEV percent difference=%{x}<br>EV percent difference=%{y}<extra></extra>",
         "legendgroup": "Bulgaria, 2022",
         "marker": {
          "color": "#00cc96",
          "symbol": "x"
         },
         "mode": "markers",
         "name": "Bulgaria, 2022",
         "orientation": "v",
         "showlegend": true,
         "type": "scatter",
         "x": [
          0.8679133273968537
         ],
         "xaxis": "x",
         "y": [
          0.0224219561068871
         ],
         "yaxis": "y"
        },
        {
         "hovertemplate": "geo=Bulgaria<br>time_period=2023<br>ZEV percent difference=%{x}<br>EV percent difference=%{y}<extra></extra>",
         "legendgroup": "Bulgaria, 2023",
         "marker": {
          "color": "#00cc96",
          "symbol": "cross"
         },
         "mode": "markers",
         "name": "Bulgaria, 2023",
         "orientation": "v",
         "showlegend": true,
         "type": "scatter",
         "x": [
          0.8231368186874305
         ],
         "xaxis": "x",
         "y": [
          0.0360693918388754
         ],
         "yaxis": "y"
        },
        {
         "hovertemplate": "geo=Croatia<br>time_period=2014<br>ZEV percent difference=%{x}<br>EV percent difference=%{y}<extra></extra>",
         "legendgroup": "Croatia, 2014",
         "marker": {
          "color": "#ab63fa",
          "symbol": "circle"
         },
         "mode": "markers",
         "name": "Croatia, 2014",
         "orientation": "v",
         "showlegend": true,
         "type": "scatter",
         "x": [
          null
         ],
         "xaxis": "x",
         "y": [
          null
         ],
         "yaxis": "y"
        },
        {
         "hovertemplate": "geo=Croatia<br>time_period=2015<br>ZEV percent difference=%{x}<br>EV percent difference=%{y}<extra></extra>",
         "legendgroup": "Croatia, 2015",
         "marker": {
          "color": "#ab63fa",
          "symbol": "diamond"
         },
         "mode": "markers",
         "name": "Croatia, 2015",
         "orientation": "v",
         "showlegend": true,
         "type": "scatter",
         "x": [
          3.1794871794871797
         ],
         "xaxis": "x",
         "y": [
          0.0170795194973603
         ],
         "yaxis": "y"
        },
        {
         "hovertemplate": "geo=Croatia<br>time_period=2016<br>ZEV percent difference=%{x}<br>EV percent difference=%{y}<extra></extra>",
         "legendgroup": "Croatia, 2016",
         "marker": {
          "color": "#ab63fa",
          "symbol": "square"
         },
         "mode": "markers",
         "name": "Croatia, 2016",
         "orientation": "v",
         "showlegend": true,
         "type": "scatter",
         "x": [
          0.4355828220858895
         ],
         "xaxis": "x",
         "y": [
          0.0353625105775456
         ],
         "yaxis": "y"
        },
        {
         "hovertemplate": "geo=Croatia<br>time_period=2017<br>ZEV percent difference=%{x}<br>EV percent difference=%{y}<extra></extra>",
         "legendgroup": "Croatia, 2017",
         "marker": {
          "color": "#ab63fa",
          "symbol": "x"
         },
         "mode": "markers",
         "name": "Croatia, 2017",
         "orientation": "v",
         "showlegend": true,
         "type": "scatter",
         "x": [
          0.2222222222222222
         ],
         "xaxis": "x",
         "y": [
          0.027778600732931
         ],
         "yaxis": "y"
        },
        {
         "hovertemplate": "geo=Croatia<br>time_period=2018<br>ZEV percent difference=%{x}<br>EV percent difference=%{y}<extra></extra>",
         "legendgroup": "Croatia, 2018",
         "marker": {
          "color": "#ab63fa",
          "symbol": "cross"
         },
         "mode": "markers",
         "name": "Croatia, 2018",
         "orientation": "v",
         "showlegend": true,
         "type": "scatter",
         "x": [
          0.6153846153846154
         ],
         "xaxis": "x",
         "y": [
          0.0439591152029607
         ],
         "yaxis": "y"
        },
        {
         "hovertemplate": "geo=Croatia<br>time_period=2019<br>ZEV percent difference=%{x}<br>EV percent difference=%{y}<extra></extra>",
         "legendgroup": "Croatia, 2019",
         "marker": {
          "color": "#ab63fa",
          "symbol": "circle"
         },
         "mode": "markers",
         "name": "Croatia, 2019",
         "orientation": "v",
         "showlegend": true,
         "type": "scatter",
         "x": [
          0.5714285714285714
         ],
         "xaxis": "x",
         "y": [
          0.0349488070177334
         ],
         "yaxis": "y"
        },
        {
         "hovertemplate": "geo=Croatia<br>time_period=2020<br>ZEV percent difference=%{x}<br>EV percent difference=%{y}<extra></extra>",
         "legendgroup": "Croatia, 2020",
         "marker": {
          "color": "#ab63fa",
          "symbol": "diamond"
         },
         "mode": "markers",
         "name": "Croatia, 2020",
         "orientation": "v",
         "showlegend": true,
         "type": "scatter",
         "x": [
          0.8099173553719008
         ],
         "xaxis": "x",
         "y": [
          0.0120620076627996
         ],
         "yaxis": "y"
        },
        {
         "hovertemplate": "geo=Croatia<br>time_period=2021<br>ZEV percent difference=%{x}<br>EV percent difference=%{y}<extra></extra>",
         "legendgroup": "Croatia, 2021",
         "marker": {
          "color": "#ab63fa",
          "symbol": "square"
         },
         "mode": "markers",
         "name": "Croatia, 2021",
         "orientation": "v",
         "showlegend": true,
         "type": "scatter",
         "x": [
          1.265601217656012
         ],
         "xaxis": "x",
         "y": [
          0.0272308250394992
         ],
         "yaxis": "y"
        },
        {
         "hovertemplate": "geo=Croatia<br>time_period=2022<br>ZEV percent difference=%{x}<br>EV percent difference=%{y}<extra></extra>",
         "legendgroup": "Croatia, 2022",
         "marker": {
          "color": "#ab63fa",
          "symbol": "x"
         },
         "mode": "markers",
         "name": "Croatia, 2022",
         "orientation": "v",
         "showlegend": true,
         "type": "scatter",
         "x": [
          0.6130332549546523
         ],
         "xaxis": "x",
         "y": [
          0.0242551135628244
         ],
         "yaxis": "y"
        },
        {
         "hovertemplate": "geo=Croatia<br>time_period=2023<br>ZEV percent difference=%{x}<br>EV percent difference=%{y}<extra></extra>",
         "legendgroup": "Croatia, 2023",
         "marker": {
          "color": "#ab63fa",
          "symbol": "cross"
         },
         "mode": "markers",
         "name": "Croatia, 2023",
         "orientation": "v",
         "showlegend": true,
         "type": "scatter",
         "x": [
          0.4700124947938359
         ],
         "xaxis": "x",
         "y": [
          0.036551350379773
         ],
         "yaxis": "y"
        },
        {
         "hovertemplate": "geo=Cyprus<br>time_period=2014<br>ZEV percent difference=%{x}<br>EV percent difference=%{y}<extra></extra>",
         "legendgroup": "Cyprus, 2014",
         "marker": {
          "color": "#FFA15A",
          "symbol": "circle"
         },
         "mode": "markers",
         "name": "Cyprus, 2014",
         "orientation": "v",
         "showlegend": true,
         "type": "scatter",
         "x": [
          null
         ],
         "xaxis": "x",
         "y": [
          null
         ],
         "yaxis": "y"
        },
        {
         "hovertemplate": "geo=Cyprus<br>time_period=2015<br>ZEV percent difference=%{x}<br>EV percent difference=%{y}<extra></extra>",
         "legendgroup": "Cyprus, 2015",
         "marker": {
          "color": "#FFA15A",
          "symbol": "diamond"
         },
         "mode": "markers",
         "name": "Cyprus, 2015",
         "orientation": "v",
         "showlegend": true,
         "type": "scatter",
         "x": [
          0.5333333333333333
         ],
         "xaxis": "x",
         "y": [
          0.0192109547585359
         ],
         "yaxis": "y"
        },
        {
         "hovertemplate": "geo=Cyprus<br>time_period=2016<br>ZEV percent difference=%{x}<br>EV percent difference=%{y}<extra></extra>",
         "legendgroup": "Cyprus, 2016",
         "marker": {
          "color": "#FFA15A",
          "symbol": "square"
         },
         "mode": "markers",
         "name": "Cyprus, 2016",
         "orientation": "v",
         "showlegend": true,
         "type": "scatter",
         "x": [
          0.7391304347826086
         ],
         "xaxis": "x",
         "y": [
          0.0421905021643778
         ],
         "yaxis": "y"
        },
        {
         "hovertemplate": "geo=Cyprus<br>time_period=2017<br>ZEV percent difference=%{x}<br>EV percent difference=%{y}<extra></extra>",
         "legendgroup": "Cyprus, 2017",
         "marker": {
          "color": "#FFA15A",
          "symbol": "x"
         },
         "mode": "markers",
         "name": "Cyprus, 2017",
         "orientation": "v",
         "showlegend": true,
         "type": "scatter",
         "x": [
          1.175
         ],
         "xaxis": "x",
         "y": [
          0.0359787818449406
         ],
         "yaxis": "y"
        },
        {
         "hovertemplate": "geo=Cyprus<br>time_period=2018<br>ZEV percent difference=%{x}<br>EV percent difference=%{y}<extra></extra>",
         "legendgroup": "Cyprus, 2018",
         "marker": {
          "color": "#FFA15A",
          "symbol": "cross"
         },
         "mode": "markers",
         "name": "Cyprus, 2018",
         "orientation": "v",
         "showlegend": true,
         "type": "scatter",
         "x": [
          0.3103448275862069
         ],
         "xaxis": "x",
         "y": [
          0.0456783089282661
         ],
         "yaxis": "y"
        },
        {
         "hovertemplate": "geo=Cyprus<br>time_period=2019<br>ZEV percent difference=%{x}<br>EV percent difference=%{y}<extra></extra>",
         "legendgroup": "Cyprus, 2019",
         "marker": {
          "color": "#FFA15A",
          "symbol": "circle"
         },
         "mode": "markers",
         "name": "Cyprus, 2019",
         "orientation": "v",
         "showlegend": true,
         "type": "scatter",
         "x": [
          0.4649122807017544
         ],
         "xaxis": "x",
         "y": [
          0.0395091730372097
         ],
         "yaxis": "y"
        },
        {
         "hovertemplate": "geo=Cyprus<br>time_period=2020<br>ZEV percent difference=%{x}<br>EV percent difference=%{y}<extra></extra>",
         "legendgroup": "Cyprus, 2020",
         "marker": {
          "color": "#FFA15A",
          "symbol": "diamond"
         },
         "mode": "markers",
         "name": "Cyprus, 2020",
         "orientation": "v",
         "showlegend": true,
         "type": "scatter",
         "x": [
          0.437125748502994
         ],
         "xaxis": "x",
         "y": [
          0.0097565407611639
         ],
         "yaxis": "y"
        },
        {
         "hovertemplate": "geo=Cyprus<br>time_period=2021<br>ZEV percent difference=%{x}<br>EV percent difference=%{y}<extra></extra>",
         "legendgroup": "Cyprus, 2021",
         "marker": {
          "color": "#FFA15A",
          "symbol": "square"
         },
         "mode": "markers",
         "name": "Cyprus, 2021",
         "orientation": "v",
         "showlegend": true,
         "type": "scatter",
         "x": [
          0.3875
         ],
         "xaxis": "x",
         "y": [
          0.0240605068539135
         ],
         "yaxis": "y"
        },
        {
         "hovertemplate": "geo=Cyprus<br>time_period=2022<br>ZEV percent difference=%{x}<br>EV percent difference=%{y}<extra></extra>",
         "legendgroup": "Cyprus, 2022",
         "marker": {
          "color": "#FFA15A",
          "symbol": "x"
         },
         "mode": "markers",
         "name": "Cyprus, 2022",
         "orientation": "v",
         "showlegend": true,
         "type": "scatter",
         "x": [
          1.4924924924924925
         ],
         "xaxis": "x",
         "y": [
          0.0143252289958315
         ],
         "yaxis": "y"
        },
        {
         "hovertemplate": "geo=Cyprus<br>time_period=2023<br>ZEV percent difference=%{x}<br>EV percent difference=%{y}<extra></extra>",
         "legendgroup": "Cyprus, 2023",
         "marker": {
          "color": "#FFA15A",
          "symbol": "cross"
         },
         "mode": "markers",
         "name": "Cyprus, 2023",
         "orientation": "v",
         "showlegend": true,
         "type": "scatter",
         "x": [
          0.5096385542168674
         ],
         "xaxis": "x",
         "y": [
          0.0325869855289263
         ],
         "yaxis": "y"
        },
        {
         "hovertemplate": "geo=Czech Republic<br>time_period=2014<br>ZEV percent difference=%{x}<br>EV percent difference=%{y}<extra></extra>",
         "legendgroup": "Czech Republic, 2014",
         "marker": {
          "color": "#19d3f3",
          "symbol": "circle"
         },
         "mode": "markers",
         "name": "Czech Republic, 2014",
         "orientation": "v",
         "showlegend": true,
         "type": "scatter",
         "x": [
          null
         ],
         "xaxis": "x",
         "y": [
          null
         ],
         "yaxis": "y"
        },
        {
         "hovertemplate": "geo=Czech Republic<br>time_period=2015<br>ZEV percent difference=%{x}<br>EV percent difference=%{y}<extra></extra>",
         "legendgroup": "Czech Republic, 2015",
         "marker": {
          "color": "#19d3f3",
          "symbol": "diamond"
         },
         "mode": "markers",
         "name": "Czech Republic, 2015",
         "orientation": "v",
         "showlegend": true,
         "type": "scatter",
         "x": [
          0.709832134292566
         ],
         "xaxis": "x",
         "y": [
          0.0582734960642205
         ],
         "yaxis": "y"
        },
        {
         "hovertemplate": "geo=Czech Republic<br>time_period=2016<br>ZEV percent difference=%{x}<br>EV percent difference=%{y}<extra></extra>",
         "legendgroup": "Czech Republic, 2016",
         "marker": {
          "color": "#19d3f3",
          "symbol": "square"
         },
         "mode": "markers",
         "name": "Czech Republic, 2016",
         "orientation": "v",
         "showlegend": true,
         "type": "scatter",
         "x": [
          0.3660589060308555
         ],
         "xaxis": "x",
         "y": [
          0.0375847353157224
         ],
         "yaxis": "y"
        },
        {
         "hovertemplate": "geo=Czech Republic<br>time_period=2017<br>ZEV percent difference=%{x}<br>EV percent difference=%{y}<extra></extra>",
         "legendgroup": "Czech Republic, 2017",
         "marker": {
          "color": "#19d3f3",
          "symbol": "x"
         },
         "mode": "markers",
         "name": "Czech Republic, 2017",
         "orientation": "v",
         "showlegend": true,
         "type": "scatter",
         "x": [
          0.5657084188911704
         ],
         "xaxis": "x",
         "y": [
          0.0433145261374295
         ],
         "yaxis": "y"
        },
        {
         "hovertemplate": "geo=Czech Republic<br>time_period=2018<br>ZEV percent difference=%{x}<br>EV percent difference=%{y}<extra></extra>",
         "legendgroup": "Czech Republic, 2018",
         "marker": {
          "color": "#19d3f3",
          "symbol": "cross"
         },
         "mode": "markers",
         "name": "Czech Republic, 2018",
         "orientation": "v",
         "showlegend": true,
         "type": "scatter",
         "x": [
          1.2327868852459016
         ],
         "xaxis": "x",
         "y": [
          0.0375333885889005
         ],
         "yaxis": "y"
        },
        {
         "hovertemplate": "geo=Czech Republic<br>time_period=2019<br>ZEV percent difference=%{x}<br>EV percent difference=%{y}<extra></extra>",
         "legendgroup": "Czech Republic, 2019",
         "marker": {
          "color": "#19d3f3",
          "symbol": "circle"
         },
         "mode": "markers",
         "name": "Czech Republic, 2019",
         "orientation": "v",
         "showlegend": true,
         "type": "scatter",
         "x": [
          0.4537444933920704
         ],
         "xaxis": "x",
         "y": [
          0.0305573601777558
         ],
         "yaxis": "y"
        },
        {
         "hovertemplate": "geo=Czech Republic<br>time_period=2020<br>ZEV percent difference=%{x}<br>EV percent difference=%{y}<extra></extra>",
         "legendgroup": "Czech Republic, 2020",
         "marker": {
          "color": "#19d3f3",
          "symbol": "diamond"
         },
         "mode": "markers",
         "name": "Czech Republic, 2020",
         "orientation": "v",
         "showlegend": true,
         "type": "scatter",
         "x": [
          0.6383838383838384
         ],
         "xaxis": "x",
         "y": [
          0.0204559255884034
         ],
         "yaxis": "y"
        },
        {
         "hovertemplate": "geo=Czech Republic<br>time_period=2021<br>ZEV percent difference=%{x}<br>EV percent difference=%{y}<extra></extra>",
         "legendgroup": "Czech Republic, 2021",
         "marker": {
          "color": "#19d3f3",
          "symbol": "square"
         },
         "mode": "markers",
         "name": "Czech Republic, 2021",
         "orientation": "v",
         "showlegend": true,
         "type": "scatter",
         "x": [
          0.1167694204685573
         ],
         "xaxis": "x",
         "y": [
          0.0063775989485436
         ],
         "yaxis": "y"
        },
        {
         "hovertemplate": "geo=Czech Republic<br>time_period=2022<br>ZEV percent difference=%{x}<br>EV percent difference=%{y}<extra></extra>",
         "legendgroup": "Czech Republic, 2022",
         "marker": {
          "color": "#19d3f3",
          "symbol": "x"
         },
         "mode": "markers",
         "name": "Czech Republic, 2022",
         "orientation": "v",
         "showlegend": true,
         "type": "scatter",
         "x": [
          0.5686209561665011
         ],
         "xaxis": "x",
         "y": [
          0.0348791785347665
         ],
         "yaxis": "y"
        },
        {
         "hovertemplate": "geo=Czech Republic<br>time_period=2023<br>ZEV percent difference=%{x}<br>EV percent difference=%{y}<extra></extra>",
         "legendgroup": "Czech Republic, 2023",
         "marker": {
          "color": "#19d3f3",
          "symbol": "cross"
         },
         "mode": "markers",
         "name": "Czech Republic, 2023",
         "orientation": "v",
         "showlegend": true,
         "type": "scatter",
         "x": [
          0.5815443091433801
         ],
         "xaxis": "x",
         "y": [
          0.0315617635666646
         ],
         "yaxis": "y"
        },
        {
         "hovertemplate": "geo=Denmark<br>time_period=2014<br>ZEV percent difference=%{x}<br>EV percent difference=%{y}<extra></extra>",
         "legendgroup": "Denmark, 2014",
         "marker": {
          "color": "#FF6692",
          "symbol": "circle"
         },
         "mode": "markers",
         "name": "Denmark, 2014",
         "orientation": "v",
         "showlegend": true,
         "type": "scatter",
         "x": [
          null
         ],
         "xaxis": "x",
         "y": [
          null
         ],
         "yaxis": "y"
        },
        {
         "hovertemplate": "geo=Denmark<br>time_period=2015<br>ZEV percent difference=%{x}<br>EV percent difference=%{y}<extra></extra>",
         "legendgroup": "Denmark, 2015",
         "marker": {
          "color": "#FF6692",
          "symbol": "diamond"
         },
         "mode": "markers",
         "name": "Denmark, 2015",
         "orientation": "v",
         "showlegend": true,
         "type": "scatter",
         "x": [
          1.7068847989093388
         ],
         "xaxis": "x",
         "y": [
          0.0287565412194503
         ],
         "yaxis": "y"
        },
        {
         "hovertemplate": "geo=Denmark<br>time_period=2016<br>ZEV percent difference=%{x}<br>EV percent difference=%{y}<extra></extra>",
         "legendgroup": "Denmark, 2016",
         "marker": {
          "color": "#FF6692",
          "symbol": "square"
         },
         "mode": "markers",
         "name": "Denmark, 2016",
         "orientation": "v",
         "showlegend": true,
         "type": "scatter",
         "x": [
          0.0993452530848652
         ],
         "xaxis": "x",
         "y": [
          0.0310221114692676
         ],
         "yaxis": "y"
        },
        {
         "hovertemplate": "geo=Denmark<br>time_period=2017<br>ZEV percent difference=%{x}<br>EV percent difference=%{y}<extra></extra>",
         "legendgroup": "Denmark, 2017",
         "marker": {
          "color": "#FF6692",
          "symbol": "x"
         },
         "mode": "markers",
         "name": "Denmark, 2017",
         "orientation": "v",
         "showlegend": true,
         "type": "scatter",
         "x": [
          0.0135150612759134
         ],
         "xaxis": "x",
         "y": [
          0.0262129279392771
         ],
         "yaxis": "y"
        },
        {
         "hovertemplate": "geo=Denmark<br>time_period=2018<br>ZEV percent difference=%{x}<br>EV percent difference=%{y}<extra></extra>",
         "legendgroup": "Denmark, 2018",
         "marker": {
          "color": "#FF6692",
          "symbol": "cross"
         },
         "mode": "markers",
         "name": "Denmark, 2018",
         "orientation": "v",
         "showlegend": true,
         "type": "scatter",
         "x": [
          0.1437450559385241
         ],
         "xaxis": "x",
         "y": [
          0.0250507396667384
         ],
         "yaxis": "y"
        },
        {
         "hovertemplate": "geo=Denmark<br>time_period=2019<br>ZEV percent difference=%{x}<br>EV percent difference=%{y}<extra></extra>",
         "legendgroup": "Denmark, 2019",
         "marker": {
          "color": "#FF6692",
          "symbol": "circle"
         },
         "mode": "markers",
         "name": "Denmark, 2019",
         "orientation": "v",
         "showlegend": true,
         "type": "scatter",
         "x": [
          0.5394723841517637
         ],
         "xaxis": "x",
         "y": [
          0.0200432524713072
         ],
         "yaxis": "y"
        },
        {
         "hovertemplate": "geo=Denmark<br>time_period=2020<br>ZEV percent difference=%{x}<br>EV percent difference=%{y}<extra></extra>",
         "legendgroup": "Denmark, 2020",
         "marker": {
          "color": "#FF6692",
          "symbol": "diamond"
         },
         "mode": "markers",
         "name": "Denmark, 2020",
         "orientation": "v",
         "showlegend": true,
         "type": "scatter",
         "x": [
          1.053719273474103
         ],
         "xaxis": "x",
         "y": [
          0.0210355213644088
         ],
         "yaxis": "y"
        },
        {
         "hovertemplate": "geo=Denmark<br>time_period=2021<br>ZEV percent difference=%{x}<br>EV percent difference=%{y}<extra></extra>",
         "legendgroup": "Denmark, 2021",
         "marker": {
          "color": "#FF6692",
          "symbol": "square"
         },
         "mode": "markers",
         "name": "Denmark, 2021",
         "orientation": "v",
         "showlegend": true,
         "type": "scatter",
         "x": [
          1.0870339698115563
         ],
         "xaxis": "x",
         "y": [
          0.0108325379614379
         ],
         "yaxis": "y"
        },
        {
         "hovertemplate": "geo=Denmark<br>time_period=2022<br>ZEV percent difference=%{x}<br>EV percent difference=%{y}<extra></extra>",
         "legendgroup": "Denmark, 2022",
         "marker": {
          "color": "#FF6692",
          "symbol": "x"
         },
         "mode": "markers",
         "name": "Denmark, 2022",
         "orientation": "v",
         "showlegend": true,
         "type": "scatter",
         "x": [
          0.6893670544899151
         ],
         "xaxis": "x",
         "y": [
          -0.0119506610261065
         ],
         "yaxis": "y"
        },
        {
         "hovertemplate": "geo=Denmark<br>time_period=2023<br>ZEV percent difference=%{x}<br>EV percent difference=%{y}<extra></extra>",
         "legendgroup": "Denmark, 2023",
         "marker": {
          "color": "#FF6692",
          "symbol": "cross"
         },
         "mode": "markers",
         "name": "Denmark, 2023",
         "orientation": "v",
         "showlegend": true,
         "type": "scatter",
         "x": [
          0.7740668847111797
         ],
         "xaxis": "x",
         "y": [
          -0.0225213009926513
         ],
         "yaxis": "y"
        },
        {
         "hovertemplate": "geo=Estonia<br>time_period=2014<br>ZEV percent difference=%{x}<br>EV percent difference=%{y}<extra></extra>",
         "legendgroup": "Estonia, 2014",
         "marker": {
          "color": "#B6E880",
          "symbol": "circle"
         },
         "mode": "markers",
         "name": "Estonia, 2014",
         "orientation": "v",
         "showlegend": true,
         "type": "scatter",
         "x": [
          null
         ],
         "xaxis": "x",
         "y": [
          null
         ],
         "yaxis": "y"
        },
        {
         "hovertemplate": "geo=Estonia<br>time_period=2015<br>ZEV percent difference=%{x}<br>EV percent difference=%{y}<extra></extra>",
         "legendgroup": "Estonia, 2015",
         "marker": {
          "color": "#B6E880",
          "symbol": "diamond"
         },
         "mode": "markers",
         "name": "Estonia, 2015",
         "orientation": "v",
         "showlegend": true,
         "type": "scatter",
         "x": [
          0.0459231490159325
         ],
         "xaxis": "x",
         "y": [
          0.0361982134830943
         ],
         "yaxis": "y"
        },
        {
         "hovertemplate": "geo=Estonia<br>time_period=2016<br>ZEV percent difference=%{x}<br>EV percent difference=%{y}<extra></extra>",
         "legendgroup": "Estonia, 2016",
         "marker": {
          "color": "#B6E880",
          "symbol": "square"
         },
         "mode": "markers",
         "name": "Estonia, 2016",
         "orientation": "v",
         "showlegend": true,
         "type": "scatter",
         "x": [
          0.03584229390681
         ],
         "xaxis": "x",
         "y": [
          0.0392535678332445
         ],
         "yaxis": "y"
        },
        {
         "hovertemplate": "geo=Estonia<br>time_period=2017<br>ZEV percent difference=%{x}<br>EV percent difference=%{y}<extra></extra>",
         "legendgroup": "Estonia, 2017",
         "marker": {
          "color": "#B6E880",
          "symbol": "x"
         },
         "mode": "markers",
         "name": "Estonia, 2017",
         "orientation": "v",
         "showlegend": true,
         "type": "scatter",
         "x": [
          0.0302768166089965
         ],
         "xaxis": "x",
         "y": [
          0.0324190343236062
         ],
         "yaxis": "y"
        },
        {
         "hovertemplate": "geo=Estonia<br>time_period=2018<br>ZEV percent difference=%{x}<br>EV percent difference=%{y}<extra></extra>",
         "legendgroup": "Estonia, 2018",
         "marker": {
          "color": "#B6E880",
          "symbol": "cross"
         },
         "mode": "markers",
         "name": "Estonia, 2018",
         "orientation": "v",
         "showlegend": true,
         "type": "scatter",
         "x": [
          0.052896725440806
         ],
         "xaxis": "x",
         "y": [
          0.0282261680876105
         ],
         "yaxis": "y"
        },
        {
         "hovertemplate": "geo=Estonia<br>time_period=2019<br>ZEV percent difference=%{x}<br>EV percent difference=%{y}<extra></extra>",
         "legendgroup": "Estonia, 2019",
         "marker": {
          "color": "#B6E880",
          "symbol": "circle"
         },
         "mode": "markers",
         "name": "Estonia, 2019",
         "orientation": "v",
         "showlegend": true,
         "type": "scatter",
         "x": [
          0.1020733652312599
         ],
         "xaxis": "x",
         "y": [
          0.0648595697856979
         ],
         "yaxis": "y"
        },
        {
         "hovertemplate": "geo=Estonia<br>time_period=2020<br>ZEV percent difference=%{x}<br>EV percent difference=%{y}<extra></extra>",
         "legendgroup": "Estonia, 2020",
         "marker": {
          "color": "#B6E880",
          "symbol": "diamond"
         },
         "mode": "markers",
         "name": "Estonia, 2020",
         "orientation": "v",
         "showlegend": true,
         "type": "scatter",
         "x": [
          0.2829232995658466
         ],
         "xaxis": "x",
         "y": [
          0.0168509874688738
         ],
         "yaxis": "y"
        },
        {
         "hovertemplate": "geo=Estonia<br>time_period=2021<br>ZEV percent difference=%{x}<br>EV percent difference=%{y}<extra></extra>",
         "legendgroup": "Estonia, 2021",
         "marker": {
          "color": "#B6E880",
          "symbol": "square"
         },
         "mode": "markers",
         "name": "Estonia, 2021",
         "orientation": "v",
         "showlegend": true,
         "type": "scatter",
         "x": [
          0.3857868020304568
         ],
         "xaxis": "x",
         "y": [
          0.02052630013533
         ],
         "yaxis": "y"
        },
        {
         "hovertemplate": "geo=Estonia<br>time_period=2022<br>ZEV percent difference=%{x}<br>EV percent difference=%{y}<extra></extra>",
         "legendgroup": "Estonia, 2022",
         "marker": {
          "color": "#B6E880",
          "symbol": "x"
         },
         "mode": "markers",
         "name": "Estonia, 2022",
         "orientation": "v",
         "showlegend": true,
         "type": "scatter",
         "x": [
          0.4094424094424094
         ],
         "xaxis": "x",
         "y": [
          0.0271433758480787
         ],
         "yaxis": "y"
        },
        {
         "hovertemplate": "geo=Estonia<br>time_period=2023<br>ZEV percent difference=%{x}<br>EV percent difference=%{y}<extra></extra>",
         "legendgroup": "Estonia, 2023",
         "marker": {
          "color": "#B6E880",
          "symbol": "cross"
         },
         "mode": "markers",
         "name": "Estonia, 2023",
         "orientation": "v",
         "showlegend": true,
         "type": "scatter",
         "x": [
          0.6745596303782847
         ],
         "xaxis": "x",
         "y": [
          0.0167208343037793
         ],
         "yaxis": "y"
        },
        {
         "hovertemplate": "geo=Finland<br>time_period=2014<br>ZEV percent difference=%{x}<br>EV percent difference=%{y}<extra></extra>",
         "legendgroup": "Finland, 2014",
         "marker": {
          "color": "#FF97FF",
          "symbol": "circle"
         },
         "mode": "markers",
         "name": "Finland, 2014",
         "orientation": "v",
         "showlegend": true,
         "type": "scatter",
         "x": [
          null
         ],
         "xaxis": "x",
         "y": [
          null
         ],
         "yaxis": "y"
        },
        {
         "hovertemplate": "geo=Finland<br>time_period=2015<br>ZEV percent difference=%{x}<br>EV percent difference=%{y}<extra></extra>",
         "legendgroup": "Finland, 2015",
         "marker": {
          "color": "#FF97FF",
          "symbol": "diamond"
         },
         "mode": "markers",
         "name": "Finland, 2015",
         "orientation": "v",
         "showlegend": true,
         "type": "scatter",
         "x": [
          0.7020725388601037
         ],
         "xaxis": "x",
         "y": [
          0.0194978547442289
         ],
         "yaxis": "y"
        },
        {
         "hovertemplate": "geo=Finland<br>time_period=2016<br>ZEV percent difference=%{x}<br>EV percent difference=%{y}<extra></extra>",
         "legendgroup": "Finland, 2016",
         "marker": {
          "color": "#FF97FF",
          "symbol": "square"
         },
         "mode": "markers",
         "name": "Finland, 2016",
         "orientation": "v",
         "showlegend": true,
         "type": "scatter",
         "x": [
          0.3546423135464231
         ],
         "xaxis": "x",
         "y": [
          0.0270790052448779
         ],
         "yaxis": "y"
        },
        {
         "hovertemplate": "geo=Finland<br>time_period=2017<br>ZEV percent difference=%{x}<br>EV percent difference=%{y}<extra></extra>",
         "legendgroup": "Finland, 2017",
         "marker": {
          "color": "#FF97FF",
          "symbol": "x"
         },
         "mode": "markers",
         "name": "Finland, 2017",
         "orientation": "v",
         "showlegend": true,
         "type": "scatter",
         "x": [
          0.7292134831460674
         ],
         "xaxis": "x",
         "y": [
          0.0227636852749518
         ],
         "yaxis": "y"
        },
        {
         "hovertemplate": "geo=Finland<br>time_period=2018<br>ZEV percent difference=%{x}<br>EV percent difference=%{y}<extra></extra>",
         "legendgroup": "Finland, 2018",
         "marker": {
          "color": "#FF97FF",
          "symbol": "cross"
         },
         "mode": "markers",
         "name": "Finland, 2018",
         "orientation": "v",
         "showlegend": true,
         "type": "scatter",
         "x": [
          0.6250812215724496
         ],
         "xaxis": "x",
         "y": [
          0.020782963903552
         ],
         "yaxis": "y"
        },
        {
         "hovertemplate": "geo=Finland<br>time_period=2019<br>ZEV percent difference=%{x}<br>EV percent difference=%{y}<extra></extra>",
         "legendgroup": "Finland, 2019",
         "marker": {
          "color": "#FF97FF",
          "symbol": "circle"
         },
         "mode": "markers",
         "name": "Finland, 2019",
         "orientation": "v",
         "showlegend": true,
         "type": "scatter",
         "x": [
          0.9316273490603758
         ],
         "xaxis": "x",
         "y": [
          0.0221931565285642
         ],
         "yaxis": "y"
        },
        {
         "hovertemplate": "geo=Finland<br>time_period=2020<br>ZEV percent difference=%{x}<br>EV percent difference=%{y}<extra></extra>",
         "legendgroup": "Finland, 2020",
         "marker": {
          "color": "#FF97FF",
          "symbol": "diamond"
         },
         "mode": "markers",
         "name": "Finland, 2020",
         "orientation": "v",
         "showlegend": true,
         "type": "scatter",
         "x": [
          1.0616849513558269
         ],
         "xaxis": "x",
         "y": [
          0.0148376348247602
         ],
         "yaxis": "y"
        },
        {
         "hovertemplate": "geo=Finland<br>time_period=2021<br>ZEV percent difference=%{x}<br>EV percent difference=%{y}<extra></extra>",
         "legendgroup": "Finland, 2021",
         "marker": {
          "color": "#FF97FF",
          "symbol": "square"
         },
         "mode": "markers",
         "name": "Finland, 2021",
         "orientation": "v",
         "showlegend": true,
         "type": "scatter",
         "x": [
          1.3593373493975904
         ],
         "xaxis": "x",
         "y": [
          0.0056877265243688
         ],
         "yaxis": "y"
        },
        {
         "hovertemplate": "geo=Finland<br>time_period=2022<br>ZEV percent difference=%{x}<br>EV percent difference=%{y}<extra></extra>",
         "legendgroup": "Finland, 2022",
         "marker": {
          "color": "#FF97FF",
          "symbol": "x"
         },
         "mode": "markers",
         "name": "Finland, 2022",
         "orientation": "v",
         "showlegend": true,
         "type": "scatter",
         "x": [
          0.9824673390357036
         ],
         "xaxis": "x",
         "y": [
          0.0025237470194439
         ],
         "yaxis": "y"
        },
        {
         "hovertemplate": "geo=Finland<br>time_period=2023<br>ZEV percent difference=%{x}<br>EV percent difference=%{y}<extra></extra>",
         "legendgroup": "Finland, 2023",
         "marker": {
          "color": "#FF97FF",
          "symbol": "cross"
         },
         "mode": "markers",
         "name": "Finland, 2023",
         "orientation": "v",
         "showlegend": true,
         "type": "scatter",
         "x": [
          0.8463272227707895
         ],
         "xaxis": "x",
         "y": [
          0.001406332881557
         ],
         "yaxis": "y"
        },
        {
         "hovertemplate": "geo=France<br>time_period=2014<br>ZEV percent difference=%{x}<br>EV percent difference=%{y}<extra></extra>",
         "legendgroup": "France, 2014",
         "marker": {
          "color": "#FECB52",
          "symbol": "circle"
         },
         "mode": "markers",
         "name": "France, 2014",
         "orientation": "v",
         "showlegend": true,
         "type": "scatter",
         "x": [
          null
         ],
         "xaxis": "x",
         "y": [
          null
         ],
         "yaxis": "y"
        },
        {
         "hovertemplate": "geo=France<br>time_period=2015<br>ZEV percent difference=%{x}<br>EV percent difference=%{y}<extra></extra>",
         "legendgroup": "France, 2015",
         "marker": {
          "color": "#FECB52",
          "symbol": "diamond"
         },
         "mode": "markers",
         "name": "France, 2015",
         "orientation": "v",
         "showlegend": true,
         "type": "scatter",
         "x": [
          0.6148364980934407
         ],
         "xaxis": "x",
         "y": [
          0.0140968851441977
         ],
         "yaxis": "y"
        },
        {
         "hovertemplate": "geo=France<br>time_period=2016<br>ZEV percent difference=%{x}<br>EV percent difference=%{y}<extra></extra>",
         "legendgroup": "France, 2016",
         "marker": {
          "color": "#FECB52",
          "symbol": "square"
         },
         "mode": "markers",
         "name": "France, 2016",
         "orientation": "v",
         "showlegend": true,
         "type": "scatter",
         "x": [
          0.4638887563802891
         ],
         "xaxis": "x",
         "y": [
          0.0127611547955708
         ],
         "yaxis": "y"
        },
        {
         "hovertemplate": "geo=France<br>time_period=2017<br>ZEV percent difference=%{x}<br>EV percent difference=%{y}<extra></extra>",
         "legendgroup": "France, 2017",
         "marker": {
          "color": "#FECB52",
          "symbol": "x"
         },
         "mode": "markers",
         "name": "France, 2017",
         "orientation": "v",
         "showlegend": true,
         "type": "scatter",
         "x": [
          0.3453849287169043
         ],
         "xaxis": "x",
         "y": [
          0.011246088060861
         ],
         "yaxis": "y"
        },
        {
         "hovertemplate": "geo=France<br>time_period=2018<br>ZEV percent difference=%{x}<br>EV percent difference=%{y}<extra></extra>",
         "legendgroup": "France, 2018",
         "marker": {
          "color": "#FECB52",
          "symbol": "cross"
         },
         "mode": "markers",
         "name": "France, 2018",
         "orientation": "v",
         "showlegend": true,
         "type": "scatter",
         "x": [
          0.2911242173591852
         ],
         "xaxis": "x",
         "y": [
          0.0023032152677961
         ],
         "yaxis": "y"
        },
        {
         "hovertemplate": "geo=France<br>time_period=2019<br>ZEV percent difference=%{x}<br>EV percent difference=%{y}<extra></extra>",
         "legendgroup": "France, 2019",
         "marker": {
          "color": "#FECB52",
          "symbol": "circle"
         },
         "mode": "markers",
         "name": "France, 2019",
         "orientation": "v",
         "showlegend": true,
         "type": "scatter",
         "x": [
          0.3276366637901924
         ],
         "xaxis": "x",
         "y": [
          0.0041178360615814
         ],
         "yaxis": "y"
        },
        {
         "hovertemplate": "geo=France<br>time_period=2020<br>ZEV percent difference=%{x}<br>EV percent difference=%{y}<extra></extra>",
         "legendgroup": "France, 2020",
         "marker": {
          "color": "#FECB52",
          "symbol": "diamond"
         },
         "mode": "markers",
         "name": "France, 2020",
         "orientation": "v",
         "showlegend": true,
         "type": "scatter",
         "x": [
          0.7340718655946645
         ],
         "xaxis": "x",
         "y": [
          -0.0015015017368485
         ],
         "yaxis": "y"
        },
        {
         "hovertemplate": "geo=France<br>time_period=2021<br>ZEV percent difference=%{x}<br>EV percent difference=%{y}<extra></extra>",
         "legendgroup": "France, 2021",
         "marker": {
          "color": "#FECB52",
          "symbol": "square"
         },
         "mode": "markers",
         "name": "France, 2021",
         "orientation": "v",
         "showlegend": true,
         "type": "scatter",
         "x": [
          0.6448028878277734
         ],
         "xaxis": "x",
         "y": [
          0.0049383082328675
         ],
         "yaxis": "y"
        },
        {
         "hovertemplate": "geo=France<br>time_period=2022<br>ZEV percent difference=%{x}<br>EV percent difference=%{y}<extra></extra>",
         "legendgroup": "France, 2022",
         "marker": {
          "color": "#FECB52",
          "symbol": "x"
         },
         "mode": "markers",
         "name": "France, 2022",
         "orientation": "v",
         "showlegend": true,
         "type": "scatter",
         "x": [
          0.4771950944620727
         ],
         "xaxis": "x",
         "y": [
          -0.0039263280951745
         ],
         "yaxis": "y"
        },
        {
         "hovertemplate": "geo=France<br>time_period=2023<br>ZEV percent difference=%{x}<br>EV percent difference=%{y}<extra></extra>",
         "legendgroup": "France, 2023",
         "marker": {
          "color": "#FECB52",
          "symbol": "cross"
         },
         "mode": "markers",
         "name": "France, 2023",
         "orientation": "v",
         "showlegend": true,
         "type": "scatter",
         "x": [
          0.5371675213044601
         ],
         "xaxis": "x",
         "y": [
          0.0087480604487103
         ],
         "yaxis": "y"
        },
        {
         "hovertemplate": "geo=Germany<br>time_period=2014<br>ZEV percent difference=%{x}<br>EV percent difference=%{y}<extra></extra>",
         "legendgroup": "Germany, 2014",
         "marker": {
          "color": "#636efa",
          "symbol": "circle"
         },
         "mode": "markers",
         "name": "Germany, 2014",
         "orientation": "v",
         "showlegend": true,
         "type": "scatter",
         "x": [
          null
         ],
         "xaxis": "x",
         "y": [
          null
         ],
         "yaxis": "y"
        },
        {
         "hovertemplate": "geo=Germany<br>time_period=2015<br>ZEV percent difference=%{x}<br>EV percent difference=%{y}<extra></extra>",
         "legendgroup": "Germany, 2015",
         "marker": {
          "color": "#636efa",
          "symbol": "diamond"
         },
         "mode": "markers",
         "name": "Germany, 2015",
         "orientation": "v",
         "showlegend": true,
         "type": "scatter",
         "x": [
          0.3727511835875854
         ],
         "xaxis": "x",
         "y": [
          0.0148908198654514
         ],
         "yaxis": "y"
        },
        {
         "hovertemplate": "geo=Germany<br>time_period=2016<br>ZEV percent difference=%{x}<br>EV percent difference=%{y}<extra></extra>",
         "legendgroup": "Germany, 2016",
         "marker": {
          "color": "#636efa",
          "symbol": "square"
         },
         "mode": "markers",
         "name": "Germany, 2016",
         "orientation": "v",
         "showlegend": true,
         "type": "scatter",
         "x": [
          0.3092811158798283
         ],
         "xaxis": "x",
         "y": [
          0.0160837061613007
         ],
         "yaxis": "y"
        },
        {
         "hovertemplate": "geo=Germany<br>time_period=2017<br>ZEV percent difference=%{x}<br>EV percent difference=%{y}<extra></extra>",
         "legendgroup": "Germany, 2017",
         "marker": {
          "color": "#636efa",
          "symbol": "x"
         },
         "mode": "markers",
         "name": "Germany, 2017",
         "orientation": "v",
         "showlegend": true,
         "type": "scatter",
         "x": [
          0.5875845113706207
         ],
         "xaxis": "x",
         "y": [
          0.0142225613522993
         ],
         "yaxis": "y"
        },
        {
         "hovertemplate": "geo=Germany<br>time_period=2018<br>ZEV percent difference=%{x}<br>EV percent difference=%{y}<extra></extra>",
         "legendgroup": "Germany, 2018",
         "marker": {
          "color": "#636efa",
          "symbol": "cross"
         },
         "mode": "markers",
         "name": "Germany, 2018",
         "orientation": "v",
         "showlegend": true,
         "type": "scatter",
         "x": [
          0.5413233043895065
         ],
         "xaxis": "x",
         "y": [
          0.0127493004092106
         ],
         "yaxis": "y"
        },
        {
         "hovertemplate": "geo=Germany<br>time_period=2019<br>ZEV percent difference=%{x}<br>EV percent difference=%{y}<extra></extra>",
         "legendgroup": "Germany, 2019",
         "marker": {
          "color": "#636efa",
          "symbol": "circle"
         },
         "mode": "markers",
         "name": "Germany, 2019",
         "orientation": "v",
         "showlegend": true,
         "type": "scatter",
         "x": [
          0.6409468219984211
         ],
         "xaxis": "x",
         "y": [
          0.0120523239744391
         ],
         "yaxis": "y"
        },
        {
         "hovertemplate": "geo=Germany<br>time_period=2020<br>ZEV percent difference=%{x}<br>EV percent difference=%{y}<extra></extra>",
         "legendgroup": "Germany, 2020",
         "marker": {
          "color": "#636efa",
          "symbol": "diamond"
         },
         "mode": "markers",
         "name": "Germany, 2020",
         "orientation": "v",
         "showlegend": true,
         "type": "scatter",
         "x": [
          1.259291654822039
         ],
         "xaxis": "x",
         "y": [
          0.0075630558359793
         ],
         "yaxis": "y"
        },
        {
         "hovertemplate": "geo=Germany<br>time_period=2021<br>ZEV percent difference=%{x}<br>EV percent difference=%{y}<extra></extra>",
         "legendgroup": "Germany, 2021",
         "marker": {
          "color": "#636efa",
          "symbol": "square"
         },
         "mode": "markers",
         "name": "Germany, 2021",
         "orientation": "v",
         "showlegend": true,
         "type": "scatter",
         "x": [
          0.9994676715307508
         ],
         "xaxis": "x",
         "y": [
          -0.0003650501031266
         ],
         "yaxis": "y"
        },
        {
         "hovertemplate": "geo=Germany<br>time_period=2022<br>ZEV percent difference=%{x}<br>EV percent difference=%{y}<extra></extra>",
         "legendgroup": "Germany, 2022",
         "marker": {
          "color": "#636efa",
          "symbol": "x"
         },
         "mode": "markers",
         "name": "Germany, 2022",
         "orientation": "v",
         "showlegend": true,
         "type": "scatter",
         "x": [
          0.637878316038809
         ],
         "xaxis": "x",
         "y": [
          -0.0036136255148434
         ],
         "yaxis": "y"
        },
        {
         "hovertemplate": "geo=Germany<br>time_period=2023<br>ZEV percent difference=%{x}<br>EV percent difference=%{y}<extra></extra>",
         "legendgroup": "Germany, 2023",
         "marker": {
          "color": "#636efa",
          "symbol": "cross"
         },
         "mode": "markers",
         "name": "Germany, 2023",
         "orientation": "v",
         "showlegend": true,
         "type": "scatter",
         "x": [
          0.3899269023131181
         ],
         "xaxis": "x",
         "y": [
          -0.0012599073350909
         ],
         "yaxis": "y"
        },
        {
         "hovertemplate": "geo=Greece<br>time_period=2014<br>ZEV percent difference=%{x}<br>EV percent difference=%{y}<extra></extra>",
         "legendgroup": "Greece, 2014",
         "marker": {
          "color": "#EF553B",
          "symbol": "circle"
         },
         "mode": "markers",
         "name": "Greece, 2014",
         "orientation": "v",
         "showlegend": true,
         "type": "scatter",
         "x": [
          null
         ],
         "xaxis": "x",
         "y": [
          null
         ],
         "yaxis": "y"
        },
        {
         "hovertemplate": "geo=Greece<br>time_period=2015<br>ZEV percent difference=%{x}<br>EV percent difference=%{y}<extra></extra>",
         "legendgroup": "Greece, 2015",
         "marker": {
          "color": "#EF553B",
          "symbol": "diamond"
         },
         "mode": "markers",
         "name": "Greece, 2015",
         "orientation": "v",
         "showlegend": true,
         "type": "scatter",
         "x": [
          0.8666666666666667
         ],
         "xaxis": "x",
         "y": [
          -0.0006441226353146
         ],
         "yaxis": "y"
        },
        {
         "hovertemplate": "geo=Greece<br>time_period=2016<br>ZEV percent difference=%{x}<br>EV percent difference=%{y}<extra></extra>",
         "legendgroup": "Greece, 2016",
         "marker": {
          "color": "#EF553B",
          "symbol": "square"
         },
         "mode": "markers",
         "name": "Greece, 2016",
         "orientation": "v",
         "showlegend": true,
         "type": "scatter",
         "x": [
          0.3571428571428571
         ],
         "xaxis": "x",
         "y": [
          0.0102605248401577
         ],
         "yaxis": "y"
        },
        {
         "hovertemplate": "geo=Greece<br>time_period=2017<br>ZEV percent difference=%{x}<br>EV percent difference=%{y}<extra></extra>",
         "legendgroup": "Greece, 2017",
         "marker": {
          "color": "#EF553B",
          "symbol": "x"
         },
         "mode": "markers",
         "name": "Greece, 2017",
         "orientation": "v",
         "showlegend": true,
         "type": "scatter",
         "x": [
          0.2982456140350877
         ],
         "xaxis": "x",
         "y": [
          0.0146974520256235
         ],
         "yaxis": "y"
        },
        {
         "hovertemplate": "geo=Greece<br>time_period=2018<br>ZEV percent difference=%{x}<br>EV percent difference=%{y}<extra></extra>",
         "legendgroup": "Greece, 2018",
         "marker": {
          "color": "#EF553B",
          "symbol": "cross"
         },
         "mode": "markers",
         "name": "Greece, 2018",
         "orientation": "v",
         "showlegend": true,
         "type": "scatter",
         "x": [
          0.4527027027027027
         ],
         "xaxis": "x",
         "y": [
          0.0089193969188926
         ],
         "yaxis": "y"
        },
        {
         "hovertemplate": "geo=Greece<br>time_period=2019<br>ZEV percent difference=%{x}<br>EV percent difference=%{y}<extra></extra>",
         "legendgroup": "Greece, 2019",
         "marker": {
          "color": "#EF553B",
          "symbol": "circle"
         },
         "mode": "markers",
         "name": "Greece, 2019",
         "orientation": "v",
         "showlegend": true,
         "type": "scatter",
         "x": [
          0.9813953488372092
         ],
         "xaxis": "x",
         "y": [
          0.0234066196180581
         ],
         "yaxis": "y"
        },
        {
         "hovertemplate": "geo=Greece<br>time_period=2020<br>ZEV percent difference=%{x}<br>EV percent difference=%{y}<extra></extra>",
         "legendgroup": "Greece, 2020",
         "marker": {
          "color": "#EF553B",
          "symbol": "diamond"
         },
         "mode": "markers",
         "name": "Greece, 2020",
         "orientation": "v",
         "showlegend": true,
         "type": "scatter",
         "x": [
          1.591549295774648
         ],
         "xaxis": "x",
         "y": [
          0.0157131031931374
         ],
         "yaxis": "y"
        },
        {
         "hovertemplate": "geo=Greece<br>time_period=2021<br>ZEV percent difference=%{x}<br>EV percent difference=%{y}<extra></extra>",
         "legendgroup": "Greece, 2021",
         "marker": {
          "color": "#EF553B",
          "symbol": "square"
         },
         "mode": "markers",
         "name": "Greece, 2021",
         "orientation": "v",
         "showlegend": true,
         "type": "scatter",
         "x": [
          1.9710144927536235
         ],
         "xaxis": "x",
         "y": [
          0.0200033800321685
         ],
         "yaxis": "y"
        },
        {
         "hovertemplate": "geo=Greece<br>time_period=2022<br>ZEV percent difference=%{x}<br>EV percent difference=%{y}<extra></extra>",
         "legendgroup": "Greece, 2022",
         "marker": {
          "color": "#EF553B",
          "symbol": "x"
         },
         "mode": "markers",
         "name": "Greece, 2022",
         "orientation": "v",
         "showlegend": true,
         "type": "scatter",
         "x": [
          0.922560975609756
         ],
         "xaxis": "x",
         "y": [
          0.0212097601247796
         ],
         "yaxis": "y"
        },
        {
         "hovertemplate": "geo=Greece<br>time_period=2023<br>ZEV percent difference=%{x}<br>EV percent difference=%{y}<extra></extra>",
         "legendgroup": "Greece, 2023",
         "marker": {
          "color": "#EF553B",
          "symbol": "cross"
         },
         "mode": "markers",
         "name": "Greece, 2023",
         "orientation": "v",
         "showlegend": true,
         "type": "scatter",
         "x": [
          0.9529019980970505
         ],
         "xaxis": "x",
         "y": [
          0.0254799809640565
         ],
         "yaxis": "y"
        },
        {
         "hovertemplate": "geo=Hungary<br>time_period=2014<br>ZEV percent difference=%{x}<br>EV percent difference=%{y}<extra></extra>",
         "legendgroup": "Hungary, 2014",
         "marker": {
          "color": "#00cc96",
          "symbol": "circle"
         },
         "mode": "markers",
         "name": "Hungary, 2014",
         "orientation": "v",
         "showlegend": true,
         "type": "scatter",
         "x": [
          null
         ],
         "xaxis": "x",
         "y": [
          null
         ],
         "yaxis": "y"
        },
        {
         "hovertemplate": "geo=Hungary<br>time_period=2015<br>ZEV percent difference=%{x}<br>EV percent difference=%{y}<extra></extra>",
         "legendgroup": "Hungary, 2015",
         "marker": {
          "color": "#00cc96",
          "symbol": "diamond"
         },
         "mode": "markers",
         "name": "Hungary, 2015",
         "orientation": "v",
         "showlegend": true,
         "type": "scatter",
         "x": [
          0.9542857142857144
         ],
         "xaxis": "x",
         "y": [
          0.0286382710328493
         ],
         "yaxis": "y"
        },
        {
         "hovertemplate": "geo=Hungary<br>time_period=2016<br>ZEV percent difference=%{x}<br>EV percent difference=%{y}<extra></extra>",
         "legendgroup": "Hungary, 2016",
         "marker": {
          "color": "#00cc96",
          "symbol": "square"
         },
         "mode": "markers",
         "name": "Hungary, 2016",
         "orientation": "v",
         "showlegend": true,
         "type": "scatter",
         "x": [
          1.216374269005848
         ],
         "xaxis": "x",
         "y": [
          0.0362688854170512
         ],
         "yaxis": "y"
        },
        {
         "hovertemplate": "geo=Hungary<br>time_period=2017<br>ZEV percent difference=%{x}<br>EV percent difference=%{y}<extra></extra>",
         "legendgroup": "Hungary, 2017",
         "marker": {
          "color": "#00cc96",
          "symbol": "x"
         },
         "mode": "markers",
         "name": "Hungary, 2017",
         "orientation": "v",
         "showlegend": true,
         "type": "scatter",
         "x": [
          1.633245382585752
         ],
         "xaxis": "x",
         "y": [
          0.0475639164750661
         ],
         "yaxis": "y"
        },
        {
         "hovertemplate": "geo=Hungary<br>time_period=2018<br>ZEV percent difference=%{x}<br>EV percent difference=%{y}<extra></extra>",
         "legendgroup": "Hungary, 2018",
         "marker": {
          "color": "#00cc96",
          "symbol": "cross"
         },
         "mode": "markers",
         "name": "Hungary, 2018",
         "orientation": "v",
         "showlegend": true,
         "type": "scatter",
         "x": [
          0.9233466933867736
         ],
         "xaxis": "x",
         "y": [
          0.0484100725043018
         ],
         "yaxis": "y"
        },
        {
         "hovertemplate": "geo=Hungary<br>time_period=2019<br>ZEV percent difference=%{x}<br>EV percent difference=%{y}<extra></extra>",
         "legendgroup": "Hungary, 2019",
         "marker": {
          "color": "#00cc96",
          "symbol": "circle"
         },
         "mode": "markers",
         "name": "Hungary, 2019",
         "orientation": "v",
         "showlegend": true,
         "type": "scatter",
         "x": [
          0.7178952852305288
         ],
         "xaxis": "x",
         "y": [
          0.0460238417761045
         ],
         "yaxis": "y"
        },
        {
         "hovertemplate": "geo=Hungary<br>time_period=2020<br>ZEV percent difference=%{x}<br>EV percent difference=%{y}<extra></extra>",
         "legendgroup": "Hungary, 2020",
         "marker": {
          "color": "#00cc96",
          "symbol": "diamond"
         },
         "mode": "markers",
         "name": "Hungary, 2020",
         "orientation": "v",
         "showlegend": true,
         "type": "scatter",
         "x": [
          0.6697498104624716
         ],
         "xaxis": "x",
         "y": [
          0.0274264220119839
         ],
         "yaxis": "y"
        },
        {
         "hovertemplate": "geo=Hungary<br>time_period=2021<br>ZEV percent difference=%{x}<br>EV percent difference=%{y}<extra></extra>",
         "legendgroup": "Hungary, 2021",
         "marker": {
          "color": "#00cc96",
          "symbol": "square"
         },
         "mode": "markers",
         "name": "Hungary, 2021",
         "orientation": "v",
         "showlegend": true,
         "type": "scatter",
         "x": [
          0.7094079186342173
         ],
         "xaxis": "x",
         "y": [
          0.0234150862949823
         ],
         "yaxis": "y"
        },
        {
         "hovertemplate": "geo=Hungary<br>time_period=2022<br>ZEV percent difference=%{x}<br>EV percent difference=%{y}<extra></extra>",
         "legendgroup": "Hungary, 2022",
         "marker": {
          "color": "#00cc96",
          "symbol": "x"
         },
         "mode": "markers",
         "name": "Hungary, 2022",
         "orientation": "v",
         "showlegend": true,
         "type": "scatter",
         "x": [
          0.5851572460688482
         ],
         "xaxis": "x",
         "y": [
          0.0157334989447271
         ],
         "yaxis": "y"
        },
        {
         "hovertemplate": "geo=Hungary<br>time_period=2023<br>ZEV percent difference=%{x}<br>EV percent difference=%{y}<extra></extra>",
         "legendgroup": "Hungary, 2023",
         "marker": {
          "color": "#00cc96",
          "symbol": "cross"
         },
         "mode": "markers",
         "name": "Hungary, 2023",
         "orientation": "v",
         "showlegend": true,
         "type": "scatter",
         "x": [
          0.3812460203089916
         ],
         "xaxis": "x",
         "y": [
          0.0155367850227222
         ],
         "yaxis": "y"
        },
        {
         "hovertemplate": "geo=Ireland<br>time_period=2014<br>ZEV percent difference=%{x}<br>EV percent difference=%{y}<extra></extra>",
         "legendgroup": "Ireland, 2014",
         "marker": {
          "color": "#ab63fa",
          "symbol": "circle"
         },
         "mode": "markers",
         "name": "Ireland, 2014",
         "orientation": "v",
         "showlegend": true,
         "type": "scatter",
         "x": [
          null
         ],
         "xaxis": "x",
         "y": [
          null
         ],
         "yaxis": "y"
        },
        {
         "hovertemplate": "geo=Ireland<br>time_period=2015<br>ZEV percent difference=%{x}<br>EV percent difference=%{y}<extra></extra>",
         "legendgroup": "Ireland, 2015",
         "marker": {
          "color": "#ab63fa",
          "symbol": "diamond"
         },
         "mode": "markers",
         "name": "Ireland, 2015",
         "orientation": "v",
         "showlegend": true,
         "type": "scatter",
         "x": [
          1
         ],
         "xaxis": "x",
         "y": [
          0.0204683434518647
         ],
         "yaxis": "y"
        },
        {
         "hovertemplate": "geo=Ireland<br>time_period=2016<br>ZEV percent difference=%{x}<br>EV percent difference=%{y}<extra></extra>",
         "legendgroup": "Ireland, 2016",
         "marker": {
          "color": "#ab63fa",
          "symbol": "square"
         },
         "mode": "markers",
         "name": "Ireland, 2016",
         "orientation": "v",
         "showlegend": true,
         "type": "scatter",
         "x": [
          0.51875
         ],
         "xaxis": "x",
         "y": [
          0.0203827007600592
         ],
         "yaxis": "y"
        },
        {
         "hovertemplate": "geo=Ireland<br>time_period=2017<br>ZEV percent difference=%{x}<br>EV percent difference=%{y}<extra></extra>",
         "legendgroup": "Ireland, 2017",
         "marker": {
          "color": "#ab63fa",
          "symbol": "x"
         },
         "mode": "markers",
         "name": "Ireland, 2017",
         "orientation": "v",
         "showlegend": true,
         "type": "scatter",
         "x": [
          0.6284538506760728
         ],
         "xaxis": "x",
         "y": [
          0.0183725135279595
         ],
         "yaxis": "y"
        },
        {
         "hovertemplate": "geo=Ireland<br>time_period=2018<br>ZEV percent difference=%{x}<br>EV percent difference=%{y}<extra></extra>",
         "legendgroup": "Ireland, 2018",
         "marker": {
          "color": "#ab63fa",
          "symbol": "cross"
         },
         "mode": "markers",
         "name": "Ireland, 2018",
         "orientation": "v",
         "showlegend": true,
         "type": "scatter",
         "x": [
          0.6642599277978339
         ],
         "xaxis": "x",
         "y": [
          0.0180826501902206
         ],
         "yaxis": "y"
        },
        {
         "hovertemplate": "geo=Ireland<br>time_period=2019<br>ZEV percent difference=%{x}<br>EV percent difference=%{y}<extra></extra>",
         "legendgroup": "Ireland, 2019",
         "marker": {
          "color": "#ab63fa",
          "symbol": "circle"
         },
         "mode": "markers",
         "name": "Ireland, 2019",
         "orientation": "v",
         "showlegend": true,
         "type": "scatter",
         "x": [
          0.8633405639913232
         ],
         "xaxis": "x",
         "y": [
          0.030441029972777
         ],
         "yaxis": "y"
        },
        {
         "hovertemplate": "geo=Ireland<br>time_period=2020<br>ZEV percent difference=%{x}<br>EV percent difference=%{y}<extra></extra>",
         "legendgroup": "Ireland, 2020",
         "marker": {
          "color": "#ab63fa",
          "symbol": "diamond"
         },
         "mode": "markers",
         "name": "Ireland, 2020",
         "orientation": "v",
         "showlegend": true,
         "type": "scatter",
         "x": [
          0.4807916181606519
         ],
         "xaxis": "x",
         "y": [
          0.0154146358849159
         ],
         "yaxis": "y"
        },
        {
         "hovertemplate": "geo=Ireland<br>time_period=2021<br>ZEV percent difference=%{x}<br>EV percent difference=%{y}<extra></extra>",
         "legendgroup": "Ireland, 2021",
         "marker": {
          "color": "#ab63fa",
          "symbol": "square"
         },
         "mode": "markers",
         "name": "Ireland, 2021",
         "orientation": "v",
         "showlegend": true,
         "type": "scatter",
         "x": [
          0.6855345911949685
         ],
         "xaxis": "x",
         "y": [
          0.0039925939575819
         ],
         "yaxis": "y"
        },
        {
         "hovertemplate": "geo=Ireland<br>time_period=2022<br>ZEV percent difference=%{x}<br>EV percent difference=%{y}<extra></extra>",
         "legendgroup": "Ireland, 2022",
         "marker": {
          "color": "#ab63fa",
          "symbol": "x"
         },
         "mode": "markers",
         "name": "Ireland, 2022",
         "orientation": "v",
         "showlegend": true,
         "type": "scatter",
         "x": [
          0.7243470149253731
         ],
         "xaxis": "x",
         "y": [
          0.0043000978884072
         ],
         "yaxis": "y"
        },
        {
         "hovertemplate": "geo=Ireland<br>time_period=2023<br>ZEV percent difference=%{x}<br>EV percent difference=%{y}<extra></extra>",
         "legendgroup": "Ireland, 2023",
         "marker": {
          "color": "#ab63fa",
          "symbol": "cross"
         },
         "mode": "markers",
         "name": "Ireland, 2023",
         "orientation": "v",
         "showlegend": true,
         "type": "scatter",
         "x": [
          0.5859615904787666
         ],
         "xaxis": "x",
         "y": [
          0.0270451143523514
         ],
         "yaxis": "y"
        },
        {
         "hovertemplate": "geo=Italy<br>time_period=2014<br>ZEV percent difference=%{x}<br>EV percent difference=%{y}<extra></extra>",
         "legendgroup": "Italy, 2014",
         "marker": {
          "color": "#FFA15A",
          "symbol": "circle"
         },
         "mode": "markers",
         "name": "Italy, 2014",
         "orientation": "v",
         "showlegend": true,
         "type": "scatter",
         "x": [
          null
         ],
         "xaxis": "x",
         "y": [
          null
         ],
         "yaxis": "y"
        },
        {
         "hovertemplate": "geo=Italy<br>time_period=2015<br>ZEV percent difference=%{x}<br>EV percent difference=%{y}<extra></extra>",
         "legendgroup": "Italy, 2015",
         "marker": {
          "color": "#FFA15A",
          "symbol": "diamond"
         },
         "mode": "markers",
         "name": "Italy, 2015",
         "orientation": "v",
         "showlegend": true,
         "type": "scatter",
         "x": [
          0.3357558139534883
         ],
         "xaxis": "x",
         "y": [
          0.0072638758908985
         ],
         "yaxis": "y"
        },
        {
         "hovertemplate": "geo=Italy<br>time_period=2016<br>ZEV percent difference=%{x}<br>EV percent difference=%{y}<extra></extra>",
         "legendgroup": "Italy, 2016",
         "marker": {
          "color": "#FFA15A",
          "symbol": "square"
         },
         "mode": "markers",
         "name": "Italy, 2016",
         "orientation": "v",
         "showlegend": true,
         "type": "scatter",
         "x": [
          0.2522306855277476
         ],
         "xaxis": "x",
         "y": [
          0.0140239129423108
         ],
         "yaxis": "y"
        },
        {
         "hovertemplate": "geo=Italy<br>time_period=2017<br>ZEV percent difference=%{x}<br>EV percent difference=%{y}<extra></extra>",
         "legendgroup": "Italy, 2017",
         "marker": {
          "color": "#FFA15A",
          "symbol": "x"
         },
         "mode": "markers",
         "name": "Italy, 2017",
         "orientation": "v",
         "showlegend": true,
         "type": "scatter",
         "x": [
          0.3157803267292318
         ],
         "xaxis": "x",
         "y": [
          0.0169622256800987
         ],
         "yaxis": "y"
        },
        {
         "hovertemplate": "geo=Italy<br>time_period=2018<br>ZEV percent difference=%{x}<br>EV percent difference=%{y}<extra></extra>",
         "legendgroup": "Italy, 2018",
         "marker": {
          "color": "#FFA15A",
          "symbol": "cross"
         },
         "mode": "markers",
         "name": "Italy, 2018",
         "orientation": "v",
         "showlegend": true,
         "type": "scatter",
         "x": [
          0.6070532294280808
         ],
         "xaxis": "x",
         "y": [
          0.0128075247807544
         ],
         "yaxis": "y"
        },
        {
         "hovertemplate": "geo=Italy<br>time_period=2019<br>ZEV percent difference=%{x}<br>EV percent difference=%{y}<extra></extra>",
         "legendgroup": "Italy, 2019",
         "marker": {
          "color": "#FFA15A",
          "symbol": "circle"
         },
         "mode": "markers",
         "name": "Italy, 2019",
         "orientation": "v",
         "showlegend": true,
         "type": "scatter",
         "x": [
          0.8703049231527903
         ],
         "xaxis": "x",
         "y": [
          0.0132408593620833
         ],
         "yaxis": "y"
        },
        {
         "hovertemplate": "geo=Italy<br>time_period=2020<br>ZEV percent difference=%{x}<br>EV percent difference=%{y}<extra></extra>",
         "legendgroup": "Italy, 2020",
         "marker": {
          "color": "#FFA15A",
          "symbol": "diamond"
         },
         "mode": "markers",
         "name": "Italy, 2020",
         "orientation": "v",
         "showlegend": true,
         "type": "scatter",
         "x": [
          1.334065740903498
         ],
         "xaxis": "x",
         "y": [
          0.0036000780922733
         ],
         "yaxis": "y"
        },
        {
         "hovertemplate": "geo=Italy<br>time_period=2021<br>ZEV percent difference=%{x}<br>EV percent difference=%{y}<extra></extra>",
         "legendgroup": "Italy, 2021",
         "marker": {
          "color": "#FFA15A",
          "symbol": "square"
         },
         "mode": "markers",
         "name": "Italy, 2021",
         "orientation": "v",
         "showlegend": true,
         "type": "scatter",
         "x": [
          1.2231238468200474
         ],
         "xaxis": "x",
         "y": [
          0.0010055273245066
         ],
         "yaxis": "y"
        },
        {
         "hovertemplate": "geo=Italy<br>time_period=2022<br>ZEV percent difference=%{x}<br>EV percent difference=%{y}<extra></extra>",
         "legendgroup": "Italy, 2022",
         "marker": {
          "color": "#FFA15A",
          "symbol": "x"
         },
         "mode": "markers",
         "name": "Italy, 2022",
         "orientation": "v",
         "showlegend": true,
         "type": "scatter",
         "x": [
          0.3396708982969029
         ],
         "xaxis": "x",
         "y": [
          0.008820882514398
         ],
         "yaxis": "y"
        },
        {
         "hovertemplate": "geo=Italy<br>time_period=2023<br>ZEV percent difference=%{x}<br>EV percent difference=%{y}<extra></extra>",
         "legendgroup": "Italy, 2023",
         "marker": {
          "color": "#FFA15A",
          "symbol": "cross"
         },
         "mode": "markers",
         "name": "Italy, 2023",
         "orientation": "v",
         "showlegend": true,
         "type": "scatter",
         "x": [
          0.3882177422923502
         ],
         "xaxis": "x",
         "y": [
          0.015996979543613
         ],
         "yaxis": "y"
        },
        {
         "hovertemplate": "geo=Latvia<br>time_period=2014<br>ZEV percent difference=%{x}<br>EV percent difference=%{y}<extra></extra>",
         "legendgroup": "Latvia, 2014",
         "marker": {
          "color": "#19d3f3",
          "symbol": "circle"
         },
         "mode": "markers",
         "name": "Latvia, 2014",
         "orientation": "v",
         "showlegend": true,
         "type": "scatter",
         "x": [
          null
         ],
         "xaxis": "x",
         "y": [
          null
         ],
         "yaxis": "y"
        },
        {
         "hovertemplate": "geo=Latvia<br>time_period=2015<br>ZEV percent difference=%{x}<br>EV percent difference=%{y}<extra></extra>",
         "legendgroup": "Latvia, 2015",
         "marker": {
          "color": "#19d3f3",
          "symbol": "diamond"
         },
         "mode": "markers",
         "name": "Latvia, 2015",
         "orientation": "v",
         "showlegend": true,
         "type": "scatter",
         "x": [
          0.1223404255319148
         ],
         "xaxis": "x",
         "y": [
          0.0322774406145882
         ],
         "yaxis": "y"
        },
        {
         "hovertemplate": "geo=Latvia<br>time_period=2016<br>ZEV percent difference=%{x}<br>EV percent difference=%{y}<extra></extra>",
         "legendgroup": "Latvia, 2016",
         "marker": {
          "color": "#19d3f3",
          "symbol": "square"
         },
         "mode": "markers",
         "name": "Latvia, 2016",
         "orientation": "v",
         "showlegend": true,
         "type": "scatter",
         "x": [
          0.1421800947867298
         ],
         "xaxis": "x",
         "y": [
          -0.0219507775798903
         ],
         "yaxis": "y"
        },
        {
         "hovertemplate": "geo=Latvia<br>time_period=2017<br>ZEV percent difference=%{x}<br>EV percent difference=%{y}<extra></extra>",
         "legendgroup": "Latvia, 2017",
         "marker": {
          "color": "#19d3f3",
          "symbol": "x"
         },
         "mode": "markers",
         "name": "Latvia, 2017",
         "orientation": "v",
         "showlegend": true,
         "type": "scatter",
         "x": [
          0.2946058091286307
         ],
         "xaxis": "x",
         "y": [
          0.0380880084827453
         ],
         "yaxis": "y"
        },
        {
         "hovertemplate": "geo=Latvia<br>time_period=2018<br>ZEV percent difference=%{x}<br>EV percent difference=%{y}<extra></extra>",
         "legendgroup": "Latvia, 2018",
         "marker": {
          "color": "#19d3f3",
          "symbol": "cross"
         },
         "mode": "markers",
         "name": "Latvia, 2018",
         "orientation": "v",
         "showlegend": true,
         "type": "scatter",
         "x": [
          0.4166666666666667
         ],
         "xaxis": "x",
         "y": [
          0.0263702366719673
         ],
         "yaxis": "y"
        },
        {
         "hovertemplate": "geo=Latvia<br>time_period=2019<br>ZEV percent difference=%{x}<br>EV percent difference=%{y}<extra></extra>",
         "legendgroup": "Latvia, 2019",
         "marker": {
          "color": "#19d3f3",
          "symbol": "circle"
         },
         "mode": "markers",
         "name": "Latvia, 2019",
         "orientation": "v",
         "showlegend": true,
         "type": "scatter",
         "x": [
          0.4886877828054298
         ],
         "xaxis": "x",
         "y": [
          0.0270102162994293
         ],
         "yaxis": "y"
        },
        {
         "hovertemplate": "geo=Latvia<br>time_period=2020<br>ZEV percent difference=%{x}<br>EV percent difference=%{y}<extra></extra>",
         "legendgroup": "Latvia, 2020",
         "marker": {
          "color": "#19d3f3",
          "symbol": "diamond"
         },
         "mode": "markers",
         "name": "Latvia, 2020",
         "orientation": "v",
         "showlegend": true,
         "type": "scatter",
         "x": [
          0.831306990881459
         ],
         "xaxis": "x",
         "y": [
          0.0157094366736131
         ],
         "yaxis": "y"
        },
        {
         "hovertemplate": "geo=Latvia<br>time_period=2021<br>ZEV percent difference=%{x}<br>EV percent difference=%{y}<extra></extra>",
         "legendgroup": "Latvia, 2021",
         "marker": {
          "color": "#19d3f3",
          "symbol": "square"
         },
         "mode": "markers",
         "name": "Latvia, 2021",
         "orientation": "v",
         "showlegend": true,
         "type": "scatter",
         "x": [
          0.7477178423236515
         ],
         "xaxis": "x",
         "y": [
          0.025291393770861
         ],
         "yaxis": "y"
        },
        {
         "hovertemplate": "geo=Latvia<br>time_period=2022<br>ZEV percent difference=%{x}<br>EV percent difference=%{y}<extra></extra>",
         "legendgroup": "Latvia, 2022",
         "marker": {
          "color": "#19d3f3",
          "symbol": "x"
         },
         "mode": "markers",
         "name": "Latvia, 2022",
         "orientation": "v",
         "showlegend": true,
         "type": "scatter",
         "x": [
          0.8195631528964862
         ],
         "xaxis": "x",
         "y": [
          0.0123040199211717
         ],
         "yaxis": "y"
        },
        {
         "hovertemplate": "geo=Latvia<br>time_period=2023<br>ZEV percent difference=%{x}<br>EV percent difference=%{y}<extra></extra>",
         "legendgroup": "Latvia, 2023",
         "marker": {
          "color": "#19d3f3",
          "symbol": "cross"
         },
         "mode": "markers",
         "name": "Latvia, 2023",
         "orientation": "v",
         "showlegend": true,
         "type": "scatter",
         "x": [
          0.6620563674321504
         ],
         "xaxis": "x",
         "y": [
          0.0123124569945331
         ],
         "yaxis": "y"
        },
        {
         "hovertemplate": "geo=Lithuania<br>time_period=2014<br>ZEV percent difference=%{x}<br>EV percent difference=%{y}<extra></extra>",
         "legendgroup": "Lithuania, 2014",
         "marker": {
          "color": "#FF6692",
          "symbol": "circle"
         },
         "mode": "markers",
         "name": "Lithuania, 2014",
         "orientation": "v",
         "showlegend": true,
         "type": "scatter",
         "x": [
          null
         ],
         "xaxis": "x",
         "y": [
          null
         ],
         "yaxis": "y"
        },
        {
         "hovertemplate": "geo=Lithuania<br>time_period=2015<br>ZEV percent difference=%{x}<br>EV percent difference=%{y}<extra></extra>",
         "legendgroup": "Lithuania, 2015",
         "marker": {
          "color": "#FF6692",
          "symbol": "diamond"
         },
         "mode": "markers",
         "name": "Lithuania, 2015",
         "orientation": "v",
         "showlegend": true,
         "type": "scatter",
         "x": [
          1.4142857142857144
         ],
         "xaxis": "x",
         "y": [
          0.0317651489136511
         ],
         "yaxis": "y"
        },
        {
         "hovertemplate": "geo=Lithuania<br>time_period=2016<br>ZEV percent difference=%{x}<br>EV percent difference=%{y}<extra></extra>",
         "legendgroup": "Lithuania, 2016",
         "marker": {
          "color": "#FF6692",
          "symbol": "square"
         },
         "mode": "markers",
         "name": "Lithuania, 2016",
         "orientation": "v",
         "showlegend": true,
         "type": "scatter",
         "x": [
          1.118343195266272
         ],
         "xaxis": "x",
         "y": [
          0.0438019638329311
         ],
         "yaxis": "y"
        },
        {
         "hovertemplate": "geo=Lithuania<br>time_period=2017<br>ZEV percent difference=%{x}<br>EV percent difference=%{y}<extra></extra>",
         "legendgroup": "Lithuania, 2017",
         "marker": {
          "color": "#FF6692",
          "symbol": "x"
         },
         "mode": "markers",
         "name": "Lithuania, 2017",
         "orientation": "v",
         "showlegend": true,
         "type": "scatter",
         "x": [
          0.729050279329609
         ],
         "xaxis": "x",
         "y": [
          0.0446626139208967
         ],
         "yaxis": "y"
        },
        {
         "hovertemplate": "geo=Lithuania<br>time_period=2018<br>ZEV percent difference=%{x}<br>EV percent difference=%{y}<extra></extra>",
         "legendgroup": "Lithuania, 2018",
         "marker": {
          "color": "#FF6692",
          "symbol": "cross"
         },
         "mode": "markers",
         "name": "Lithuania, 2018",
         "orientation": "v",
         "showlegend": true,
         "type": "scatter",
         "x": [
          0.5589660743134087
         ],
         "xaxis": "x",
         "y": [
          0.0539580703761811
         ],
         "yaxis": "y"
        },
        {
         "hovertemplate": "geo=Lithuania<br>time_period=2019<br>ZEV percent difference=%{x}<br>EV percent difference=%{y}<extra></extra>",
         "legendgroup": "Lithuania, 2019",
         "marker": {
          "color": "#FF6692",
          "symbol": "circle"
         },
         "mode": "markers",
         "name": "Lithuania, 2019",
         "orientation": "v",
         "showlegend": true,
         "type": "scatter",
         "x": [
          0.4455958549222797
         ],
         "xaxis": "x",
         "y": [
          0.0473839761324328
         ],
         "yaxis": "y"
        },
        {
         "hovertemplate": "geo=Lithuania<br>time_period=2020<br>ZEV percent difference=%{x}<br>EV percent difference=%{y}<extra></extra>",
         "legendgroup": "Lithuania, 2020",
         "marker": {
          "color": "#FF6692",
          "symbol": "diamond"
         },
         "mode": "markers",
         "name": "Lithuania, 2020",
         "orientation": "v",
         "showlegend": true,
         "type": "scatter",
         "x": [
          0.7741935483870968
         ],
         "xaxis": "x",
         "y": [
          0.043877183690834
         ],
         "yaxis": "y"
        },
        {
         "hovertemplate": "geo=Lithuania<br>time_period=2021<br>ZEV percent difference=%{x}<br>EV percent difference=%{y}<extra></extra>",
         "legendgroup": "Lithuania, 2021",
         "marker": {
          "color": "#FF6692",
          "symbol": "square"
         },
         "mode": "markers",
         "name": "Lithuania, 2021",
         "orientation": "v",
         "showlegend": true,
         "type": "scatter",
         "x": [
          0.951919191919192
         ],
         "xaxis": "x",
         "y": [
          0.0277173878271773
         ],
         "yaxis": "y"
        },
        {
         "hovertemplate": "geo=Lithuania<br>time_period=2022<br>ZEV percent difference=%{x}<br>EV percent difference=%{y}<extra></extra>",
         "legendgroup": "Lithuania, 2022",
         "marker": {
          "color": "#FF6692",
          "symbol": "x"
         },
         "mode": "markers",
         "name": "Lithuania, 2022",
         "orientation": "v",
         "showlegend": true,
         "type": "scatter",
         "x": [
          0.5123162906230594
         ],
         "xaxis": "x",
         "y": [
          0.022888455044848
         ],
         "yaxis": "y"
        },
        {
         "hovertemplate": "geo=Lithuania<br>time_period=2023<br>ZEV percent difference=%{x}<br>EV percent difference=%{y}<extra></extra>",
         "legendgroup": "Lithuania, 2023",
         "marker": {
          "color": "#FF6692",
          "symbol": "cross"
         },
         "mode": "markers",
         "name": "Lithuania, 2023",
         "orientation": "v",
         "showlegend": true,
         "type": "scatter",
         "x": [
          0.5637831918970709
         ],
         "xaxis": "x",
         "y": [
          0.0280090172225542
         ],
         "yaxis": "y"
        },
        {
         "hovertemplate": "geo=Luxembourg<br>time_period=2014<br>ZEV percent difference=%{x}<br>EV percent difference=%{y}<extra></extra>",
         "legendgroup": "Luxembourg, 2014",
         "marker": {
          "color": "#B6E880",
          "symbol": "circle"
         },
         "mode": "markers",
         "name": "Luxembourg, 2014",
         "orientation": "v",
         "showlegend": true,
         "type": "scatter",
         "x": [
          null
         ],
         "xaxis": "x",
         "y": [
          null
         ],
         "yaxis": "y"
        },
        {
         "hovertemplate": "geo=Luxembourg<br>time_period=2015<br>ZEV percent difference=%{x}<br>EV percent difference=%{y}<extra></extra>",
         "legendgroup": "Luxembourg, 2015",
         "marker": {
          "color": "#B6E880",
          "symbol": "diamond"
         },
         "mode": "markers",
         "name": "Luxembourg, 2015",
         "orientation": "v",
         "showlegend": true,
         "type": "scatter",
         "x": [
          0.1068702290076335
         ],
         "xaxis": "x",
         "y": [
          0.0220787906624442
         ],
         "yaxis": "y"
        },
        {
         "hovertemplate": "geo=Luxembourg<br>time_period=2016<br>ZEV percent difference=%{x}<br>EV percent difference=%{y}<extra></extra>",
         "legendgroup": "Luxembourg, 2016",
         "marker": {
          "color": "#B6E880",
          "symbol": "square"
         },
         "mode": "markers",
         "name": "Luxembourg, 2016",
         "orientation": "v",
         "showlegend": true,
         "type": "scatter",
         "x": [
          0.1810344827586207
         ],
         "xaxis": "x",
         "y": [
          0.0255621867797741
         ],
         "yaxis": "y"
        },
        {
         "hovertemplate": "geo=Luxembourg<br>time_period=2017<br>ZEV percent difference=%{x}<br>EV percent difference=%{y}<extra></extra>",
         "legendgroup": "Luxembourg, 2017",
         "marker": {
          "color": "#B6E880",
          "symbol": "x"
         },
         "mode": "markers",
         "name": "Luxembourg, 2017",
         "orientation": "v",
         "showlegend": true,
         "type": "scatter",
         "x": [
          0.4160583941605839
         ],
         "xaxis": "x",
         "y": [
          0.0309083920563741
         ],
         "yaxis": "y"
        },
        {
         "hovertemplate": "geo=Luxembourg<br>time_period=2018<br>ZEV percent difference=%{x}<br>EV percent difference=%{y}<extra></extra>",
         "legendgroup": "Luxembourg, 2018",
         "marker": {
          "color": "#B6E880",
          "symbol": "cross"
         },
         "mode": "markers",
         "name": "Luxembourg, 2018",
         "orientation": "v",
         "showlegend": true,
         "type": "scatter",
         "x": [
          0.379381443298969
         ],
         "xaxis": "x",
         "y": [
          0.028572351806558
         ],
         "yaxis": "y"
        },
        {
         "hovertemplate": "geo=Luxembourg<br>time_period=2019<br>ZEV percent difference=%{x}<br>EV percent difference=%{y}<extra></extra>",
         "legendgroup": "Luxembourg, 2019",
         "marker": {
          "color": "#B6E880",
          "symbol": "circle"
         },
         "mode": "markers",
         "name": "Luxembourg, 2019",
         "orientation": "v",
         "showlegend": true,
         "type": "scatter",
         "x": [
          0.6420029895366218
         ],
         "xaxis": "x",
         "y": [
          0.0249923273410067
         ],
         "yaxis": "y"
        },
        {
         "hovertemplate": "geo=Luxembourg<br>time_period=2020<br>ZEV percent difference=%{x}<br>EV percent difference=%{y}<extra></extra>",
         "legendgroup": "Luxembourg, 2020",
         "marker": {
          "color": "#B6E880",
          "symbol": "diamond"
         },
         "mode": "markers",
         "name": "Luxembourg, 2020",
         "orientation": "v",
         "showlegend": true,
         "type": "scatter",
         "x": [
          0.836140191169777
         ],
         "xaxis": "x",
         "y": [
          0.0117883102400335
         ],
         "yaxis": "y"
        },
        {
         "hovertemplate": "geo=Luxembourg<br>time_period=2021<br>ZEV percent difference=%{x}<br>EV percent difference=%{y}<extra></extra>",
         "legendgroup": "Luxembourg, 2021",
         "marker": {
          "color": "#B6E880",
          "symbol": "square"
         },
         "mode": "markers",
         "name": "Luxembourg, 2021",
         "orientation": "v",
         "showlegend": true,
         "type": "scatter",
         "x": [
          0.9737233515121468
         ],
         "xaxis": "x",
         "y": [
          0.0065431819717627
         ],
         "yaxis": "y"
        },
        {
         "hovertemplate": "geo=Luxembourg<br>time_period=2022<br>ZEV percent difference=%{x}<br>EV percent difference=%{y}<extra></extra>",
         "legendgroup": "Luxembourg, 2022",
         "marker": {
          "color": "#B6E880",
          "symbol": "x"
         },
         "mode": "markers",
         "name": "Luxembourg, 2022",
         "orientation": "v",
         "showlegend": true,
         "type": "scatter",
         "x": [
          0.7474252700326551
         ],
         "xaxis": "x",
         "y": [
          -0.0024354276004324
         ],
         "yaxis": "y"
        },
        {
         "hovertemplate": "geo=Luxembourg<br>time_period=2023<br>ZEV percent difference=%{x}<br>EV percent difference=%{y}<extra></extra>",
         "legendgroup": "Luxembourg, 2023",
         "marker": {
          "color": "#B6E880",
          "symbol": "cross"
         },
         "mode": "markers",
         "name": "Luxembourg, 2023",
         "orientation": "v",
         "showlegend": true,
         "type": "scatter",
         "x": [
          0.6726083519010997
         ],
         "xaxis": "x",
         "y": [
          -0.00130423179123
         ],
         "yaxis": "y"
        },
        {
         "hovertemplate": "geo=Malta<br>time_period=2014<br>ZEV percent difference=%{x}<br>EV percent difference=%{y}<extra></extra>",
         "legendgroup": "Malta, 2014",
         "marker": {
          "color": "#FF97FF",
          "symbol": "circle"
         },
         "mode": "markers",
         "name": "Malta, 2014",
         "orientation": "v",
         "showlegend": true,
         "type": "scatter",
         "x": [
          null
         ],
         "xaxis": "x",
         "y": [
          null
         ],
         "yaxis": "y"
        },
        {
         "hovertemplate": "geo=Malta<br>time_period=2015<br>ZEV percent difference=%{x}<br>EV percent difference=%{y}<extra></extra>",
         "legendgroup": "Malta, 2015",
         "marker": {
          "color": "#FF97FF",
          "symbol": "diamond"
         },
         "mode": "markers",
         "name": "Malta, 2015",
         "orientation": "v",
         "showlegend": true,
         "type": "scatter",
         "x": [
          0.5632183908045977
         ],
         "xaxis": "x",
         "y": [
          0.0352850904413175
         ],
         "yaxis": "y"
        },
        {
         "hovertemplate": "geo=Malta<br>time_period=2016<br>ZEV percent difference=%{x}<br>EV percent difference=%{y}<extra></extra>",
         "legendgroup": "Malta, 2016",
         "marker": {
          "color": "#FF97FF",
          "symbol": "square"
         },
         "mode": "markers",
         "name": "Malta, 2016",
         "orientation": "v",
         "showlegend": true,
         "type": "scatter",
         "x": [
          0.0294117647058823
         ],
         "xaxis": "x",
         "y": [
          0.0273829765589803
         ],
         "yaxis": "y"
        },
        {
         "hovertemplate": "geo=Malta<br>time_period=2017<br>ZEV percent difference=%{x}<br>EV percent difference=%{y}<extra></extra>",
         "legendgroup": "Malta, 2017",
         "marker": {
          "color": "#FF97FF",
          "symbol": "x"
         },
         "mode": "markers",
         "name": "Malta, 2017",
         "orientation": "v",
         "showlegend": true,
         "type": "scatter",
         "x": [
          0.35
         ],
         "xaxis": "x",
         "y": [
          0.0312185047793168
         ],
         "yaxis": "y"
        },
        {
         "hovertemplate": "geo=Malta<br>time_period=2018<br>ZEV percent difference=%{x}<br>EV percent difference=%{y}<extra></extra>",
         "legendgroup": "Malta, 2018",
         "marker": {
          "color": "#FF97FF",
          "symbol": "cross"
         },
         "mode": "markers",
         "name": "Malta, 2018",
         "orientation": "v",
         "showlegend": true,
         "type": "scatter",
         "x": [
          2.1904761904761907
         ],
         "xaxis": "x",
         "y": [
          0.0271870895617076
         ],
         "yaxis": "y"
        },
        {
         "hovertemplate": "geo=Malta<br>time_period=2019<br>ZEV percent difference=%{x}<br>EV percent difference=%{y}<extra></extra>",
         "legendgroup": "Malta, 2019",
         "marker": {
          "color": "#FF97FF",
          "symbol": "circle"
         },
         "mode": "markers",
         "name": "Malta, 2019",
         "orientation": "v",
         "showlegend": true,
         "type": "scatter",
         "x": [
          0.6301824212271974
         ],
         "xaxis": "x",
         "y": [
          0.0220673906729385
         ],
         "yaxis": "y"
        },
        {
         "hovertemplate": "geo=Malta<br>time_period=2020<br>ZEV percent difference=%{x}<br>EV percent difference=%{y}<extra></extra>",
         "legendgroup": "Malta, 2020",
         "marker": {
          "color": "#FF97FF",
          "symbol": "diamond"
         },
         "mode": "markers",
         "name": "Malta, 2020",
         "orientation": "v",
         "showlegend": true,
         "type": "scatter",
         "x": [
          0.3153611393692777
         ],
         "xaxis": "x",
         "y": [
          0.0029985595155268
         ],
         "yaxis": "y"
        },
        {
         "hovertemplate": "geo=Malta<br>time_period=2021<br>ZEV percent difference=%{x}<br>EV percent difference=%{y}<extra></extra>",
         "legendgroup": "Malta, 2021",
         "marker": {
          "color": "#FF97FF",
          "symbol": "square"
         },
         "mode": "markers",
         "name": "Malta, 2021",
         "orientation": "v",
         "showlegend": true,
         "type": "scatter",
         "x": [
          0.3789636504253673
         ],
         "xaxis": "x",
         "y": [
          0.0140979922817644
         ],
         "yaxis": "y"
        },
        {
         "hovertemplate": "geo=Malta<br>time_period=2022<br>ZEV percent difference=%{x}<br>EV percent difference=%{y}<extra></extra>",
         "legendgroup": "Malta, 2022",
         "marker": {
          "color": "#FF97FF",
          "symbol": "x"
         },
         "mode": "markers",
         "name": "Malta, 2022",
         "orientation": "v",
         "showlegend": true,
         "type": "scatter",
         "x": [
          0.5720695457094784
         ],
         "xaxis": "x",
         "y": [
          0.0097529175257069
         ],
         "yaxis": "y"
        },
        {
         "hovertemplate": "geo=Malta<br>time_period=2023<br>ZEV percent difference=%{x}<br>EV percent difference=%{y}<extra></extra>",
         "legendgroup": "Malta, 2023",
         "marker": {
          "color": "#FF97FF",
          "symbol": "cross"
         },
         "mode": "markers",
         "name": "Malta, 2023",
         "orientation": "v",
         "showlegend": true,
         "type": "scatter",
         "x": [
          0.5569033178737067
         ],
         "xaxis": "x",
         "y": [
          0.0160830198040269
         ],
         "yaxis": "y"
        },
        {
         "hovertemplate": "geo=Netherlands<br>time_period=2014<br>ZEV percent difference=%{x}<br>EV percent difference=%{y}<extra></extra>",
         "legendgroup": "Netherlands, 2014",
         "marker": {
          "color": "#FECB52",
          "symbol": "circle"
         },
         "mode": "markers",
         "name": "Netherlands, 2014",
         "orientation": "v",
         "showlegend": true,
         "type": "scatter",
         "x": [
          null
         ],
         "xaxis": "x",
         "y": [
          null
         ],
         "yaxis": "y"
        },
        {
         "hovertemplate": "geo=Netherlands<br>time_period=2015<br>ZEV percent difference=%{x}<br>EV percent difference=%{y}<extra></extra>",
         "legendgroup": "Netherlands, 2015",
         "marker": {
          "color": "#FECB52",
          "symbol": "diamond"
         },
         "mode": "markers",
         "name": "Netherlands, 2015",
         "orientation": "v",
         "showlegend": true,
         "type": "scatter",
         "x": [
          0.4627106227106227
         ],
         "xaxis": "x",
         "y": [
          0.0148794732935135
         ],
         "yaxis": "y"
        },
        {
         "hovertemplate": "geo=Netherlands<br>time_period=2016<br>ZEV percent difference=%{x}<br>EV percent difference=%{y}<extra></extra>",
         "legendgroup": "Netherlands, 2016",
         "marker": {
          "color": "#FECB52",
          "symbol": "square"
         },
         "mode": "markers",
         "name": "Netherlands, 2016",
         "orientation": "v",
         "showlegend": true,
         "type": "scatter",
         "x": [
          0.3748372232795753
         ],
         "xaxis": "x",
         "y": [
          0.0146298036023518
         ],
         "yaxis": "y"
        },
        {
         "hovertemplate": "geo=Netherlands<br>time_period=2017<br>ZEV percent difference=%{x}<br>EV percent difference=%{y}<extra></extra>",
         "legendgroup": "Netherlands, 2017",
         "marker": {
          "color": "#FECB52",
          "symbol": "x"
         },
         "mode": "markers",
         "name": "Netherlands, 2017",
         "orientation": "v",
         "showlegend": true,
         "type": "scatter",
         "x": [
          0.5929326047358834
         ],
         "xaxis": "x",
         "y": [
          0.0173136422101461
         ],
         "yaxis": "y"
        },
        {
         "hovertemplate": "geo=Netherlands<br>time_period=2018<br>ZEV percent difference=%{x}<br>EV percent difference=%{y}<extra></extra>",
         "legendgroup": "Netherlands, 2018",
         "marker": {
          "color": "#FECB52",
          "symbol": "cross"
         },
         "mode": "markers",
         "name": "Netherlands, 2018",
         "orientation": "v",
         "showlegend": true,
         "type": "scatter",
         "x": [
          1.039747518638796
         ],
         "xaxis": "x",
         "y": [
          0.0056285301796193
         ],
         "yaxis": "y"
        },
        {
         "hovertemplate": "geo=Netherlands<br>time_period=2019<br>ZEV percent difference=%{x}<br>EV percent difference=%{y}<extra></extra>",
         "legendgroup": "Netherlands, 2019",
         "marker": {
          "color": "#FECB52",
          "symbol": "circle"
         },
         "mode": "markers",
         "name": "Netherlands, 2019",
         "orientation": "v",
         "showlegend": true,
         "type": "scatter",
         "x": [
          1.3825316739544793
         ],
         "xaxis": "x",
         "y": [
          0.0094964664047989
         ],
         "yaxis": "y"
        },
        {
         "hovertemplate": "geo=Netherlands<br>time_period=2020<br>ZEV percent difference=%{x}<br>EV percent difference=%{y}<extra></extra>",
         "legendgroup": "Netherlands, 2020",
         "marker": {
          "color": "#FECB52",
          "symbol": "diamond"
         },
         "mode": "markers",
         "name": "Netherlands, 2020",
         "orientation": "v",
         "showlegend": true,
         "type": "scatter",
         "x": [
          0.6359212792590989
         ],
         "xaxis": "x",
         "y": [
          0.0040648057086092
         ],
         "yaxis": "y"
        },
        {
         "hovertemplate": "geo=Netherlands<br>time_period=2021<br>ZEV percent difference=%{x}<br>EV percent difference=%{y}<extra></extra>",
         "legendgroup": "Netherlands, 2021",
         "marker": {
          "color": "#FECB52",
          "symbol": "square"
         },
         "mode": "markers",
         "name": "Netherlands, 2021",
         "orientation": "v",
         "showlegend": true,
         "type": "scatter",
         "x": [
          0.4102120070189569
         ],
         "xaxis": "x",
         "y": [
          0.0082218085088887
         ],
         "yaxis": "y"
        },
        {
         "hovertemplate": "geo=Netherlands<br>time_period=2022<br>ZEV percent difference=%{x}<br>EV percent difference=%{y}<extra></extra>",
         "legendgroup": "Netherlands, 2022",
         "marker": {
          "color": "#FECB52",
          "symbol": "x"
         },
         "mode": "markers",
         "name": "Netherlands, 2022",
         "orientation": "v",
         "showlegend": true,
         "type": "scatter",
         "x": [
          0.3468684214820738
         ],
         "xaxis": "x",
         "y": [
          0.0005097527052721
         ],
         "yaxis": "y"
        },
        {
         "hovertemplate": "geo=Netherlands<br>time_period=2023<br>ZEV percent difference=%{x}<br>EV percent difference=%{y}<extra></extra>",
         "legendgroup": "Netherlands, 2023",
         "marker": {
          "color": "#FECB52",
          "symbol": "cross"
         },
         "mode": "markers",
         "name": "Netherlands, 2023",
         "orientation": "v",
         "showlegend": true,
         "type": "scatter",
         "x": [
          0.3419317317857024
         ],
         "xaxis": "x",
         "y": [
          -0.0113131899408499
         ],
         "yaxis": "y"
        },
        {
         "hovertemplate": "geo=Poland<br>time_period=2014<br>ZEV percent difference=%{x}<br>EV percent difference=%{y}<extra></extra>",
         "legendgroup": "Poland, 2014",
         "marker": {
          "color": "#636efa",
          "symbol": "circle"
         },
         "mode": "markers",
         "name": "Poland, 2014",
         "orientation": "v",
         "showlegend": true,
         "type": "scatter",
         "x": [
          null
         ],
         "xaxis": "x",
         "y": [
          null
         ],
         "yaxis": "y"
        },
        {
         "hovertemplate": "geo=Poland<br>time_period=2015<br>ZEV percent difference=%{x}<br>EV percent difference=%{y}<extra></extra>",
         "legendgroup": "Poland, 2015",
         "marker": {
          "color": "#636efa",
          "symbol": "diamond"
         },
         "mode": "markers",
         "name": "Poland, 2015",
         "orientation": "v",
         "showlegend": true,
         "type": "scatter",
         "x": [
          0.4313725490196078
         ],
         "xaxis": "x",
         "y": [
          -0.0995892261985401
         ],
         "yaxis": "y"
        },
        {
         "hovertemplate": "geo=Poland<br>time_period=2016<br>ZEV percent difference=%{x}<br>EV percent difference=%{y}<extra></extra>",
         "legendgroup": "Poland, 2016",
         "marker": {
          "color": "#636efa",
          "symbol": "square"
         },
         "mode": "markers",
         "name": "Poland, 2016",
         "orientation": "v",
         "showlegend": true,
         "type": "scatter",
         "x": [
          0.589041095890411
         ],
         "xaxis": "x",
         "y": [
          0.0392250397467048
         ],
         "yaxis": "y"
        },
        {
         "hovertemplate": "geo=Poland<br>time_period=2017<br>ZEV percent difference=%{x}<br>EV percent difference=%{y}<extra></extra>",
         "legendgroup": "Poland, 2017",
         "marker": {
          "color": "#636efa",
          "symbol": "x"
         },
         "mode": "markers",
         "name": "Poland, 2017",
         "orientation": "v",
         "showlegend": true,
         "type": "scatter",
         "x": [
          1.5747126436781609
         ],
         "xaxis": "x",
         "y": [
          0.0292317152525421
         ],
         "yaxis": "y"
        },
        {
         "hovertemplate": "geo=Poland<br>time_period=2018<br>ZEV percent difference=%{x}<br>EV percent difference=%{y}<extra></extra>",
         "legendgroup": "Poland, 2018",
         "marker": {
          "color": "#636efa",
          "symbol": "cross"
         },
         "mode": "markers",
         "name": "Poland, 2018",
         "orientation": "v",
         "showlegend": true,
         "type": "scatter",
         "x": [
          2.369419642857143
         ],
         "xaxis": "x",
         "y": [
          0.0333693031603426
         ],
         "yaxis": "y"
        },
        {
         "hovertemplate": "geo=Poland<br>time_period=2019<br>ZEV percent difference=%{x}<br>EV percent difference=%{y}<extra></extra>",
         "legendgroup": "Poland, 2019",
         "marker": {
          "color": "#636efa",
          "symbol": "circle"
         },
         "mode": "markers",
         "name": "Poland, 2019",
         "orientation": "v",
         "showlegend": true,
         "type": "scatter",
         "x": [
          0.7214309373964889
         ],
         "xaxis": "x",
         "y": [
          0.0316986241973613
         ],
         "yaxis": "y"
        },
        {
         "hovertemplate": "geo=Poland<br>time_period=2020<br>ZEV percent difference=%{x}<br>EV percent difference=%{y}<extra></extra>",
         "legendgroup": "Poland, 2020",
         "marker": {
          "color": "#636efa",
          "symbol": "diamond"
         },
         "mode": "markers",
         "name": "Poland, 2020",
         "orientation": "v",
         "showlegend": true,
         "type": "scatter",
         "x": [
          0.8805079853761786
         ],
         "xaxis": "x",
         "y": [
          0.0212737656534616
         ],
         "yaxis": "y"
        },
        {
         "hovertemplate": "geo=Poland<br>time_period=2021<br>ZEV percent difference=%{x}<br>EV percent difference=%{y}<extra></extra>",
         "legendgroup": "Poland, 2021",
         "marker": {
          "color": "#636efa",
          "symbol": "square"
         },
         "mode": "markers",
         "name": "Poland, 2021",
         "orientation": "v",
         "showlegend": true,
         "type": "scatter",
         "x": [
          0.8614550291619769
         ],
         "xaxis": "x",
         "y": [
          0.0172445372569876
         ],
         "yaxis": "y"
        },
        {
         "hovertemplate": "geo=Poland<br>time_period=2022<br>ZEV percent difference=%{x}<br>EV percent difference=%{y}<extra></extra>",
         "legendgroup": "Poland, 2022",
         "marker": {
          "color": "#636efa",
          "symbol": "x"
         },
         "mode": "markers",
         "name": "Poland, 2022",
         "orientation": "v",
         "showlegend": true,
         "type": "scatter",
         "x": [
          0.6999230430958663
         ],
         "xaxis": "x",
         "y": [
          0.004187917085231
         ],
         "yaxis": "y"
        },
        {
         "hovertemplate": "geo=Poland<br>time_period=2023<br>ZEV percent difference=%{x}<br>EV percent difference=%{y}<extra></extra>",
         "legendgroup": "Poland, 2023",
         "marker": {
          "color": "#636efa",
          "symbol": "cross"
         },
         "mode": "markers",
         "name": "Poland, 2023",
         "orientation": "v",
         "showlegend": true,
         "type": "scatter",
         "x": [
          0.6630234438156831
         ],
         "xaxis": "x",
         "y": [
          0.0239973760424612
         ],
         "yaxis": "y"
        },
        {
         "hovertemplate": "geo=Portugal<br>time_period=2014<br>ZEV percent difference=%{x}<br>EV percent difference=%{y}<extra></extra>",
         "legendgroup": "Portugal, 2014",
         "marker": {
          "color": "#EF553B",
          "symbol": "circle"
         },
         "mode": "markers",
         "name": "Portugal, 2014",
         "orientation": "v",
         "showlegend": true,
         "type": "scatter",
         "x": [
          null
         ],
         "xaxis": "x",
         "y": [
          null
         ],
         "yaxis": "y"
        },
        {
         "hovertemplate": "geo=Portugal<br>time_period=2015<br>ZEV percent difference=%{x}<br>EV percent difference=%{y}<extra></extra>",
         "legendgroup": "Portugal, 2015",
         "marker": {
          "color": "#EF553B",
          "symbol": "diamond"
         },
         "mode": "markers",
         "name": "Portugal, 2015",
         "orientation": "v",
         "showlegend": true,
         "type": "scatter",
         "x": [
          1.0803571428571428
         ],
         "xaxis": "x",
         "y": [
          0.0048078590789944
         ],
         "yaxis": "y"
        },
        {
         "hovertemplate": "geo=Portugal<br>time_period=2016<br>ZEV percent difference=%{x}<br>EV percent difference=%{y}<extra></extra>",
         "legendgroup": "Portugal, 2016",
         "marker": {
          "color": "#EF553B",
          "symbol": "square"
         },
         "mode": "markers",
         "name": "Portugal, 2016",
         "orientation": "v",
         "showlegend": true,
         "type": "scatter",
         "x": [
          0.7045779685264664
         ],
         "xaxis": "x",
         "y": [
          0.0267455811791217
         ],
         "yaxis": "y"
        },
        {
         "hovertemplate": "geo=Portugal<br>time_period=2017<br>ZEV percent difference=%{x}<br>EV percent difference=%{y}<extra></extra>",
         "legendgroup": "Portugal, 2017",
         "marker": {
          "color": "#EF553B",
          "symbol": "x"
         },
         "mode": "markers",
         "name": "Portugal, 2017",
         "orientation": "v",
         "showlegend": true,
         "type": "scatter",
         "x": [
          0.9584557280738564
         ],
         "xaxis": "x",
         "y": [
          0.0426909188121899
         ],
         "yaxis": "y"
        },
        {
         "hovertemplate": "geo=Portugal<br>time_period=2018<br>ZEV percent difference=%{x}<br>EV percent difference=%{y}<extra></extra>",
         "legendgroup": "Portugal, 2018",
         "marker": {
          "color": "#EF553B",
          "symbol": "cross"
         },
         "mode": "markers",
         "name": "Portugal, 2018",
         "orientation": "v",
         "showlegend": true,
         "type": "scatter",
         "x": [
          1.138418684379687
         ],
         "xaxis": "x",
         "y": [
          0.0431638807036077
         ],
         "yaxis": "y"
        },
        {
         "hovertemplate": "geo=Portugal<br>time_period=2019<br>ZEV percent difference=%{x}<br>EV percent difference=%{y}<extra></extra>",
         "legendgroup": "Portugal, 2019",
         "marker": {
          "color": "#EF553B",
          "symbol": "circle"
         },
         "mode": "markers",
         "name": "Portugal, 2019",
         "orientation": "v",
         "showlegend": true,
         "type": "scatter",
         "x": [
          0.8175350701402806
         ],
         "xaxis": "x",
         "y": [
          0.0305310649176273
         ],
         "yaxis": "y"
        },
        {
         "hovertemplate": "geo=Portugal<br>time_period=2020<br>ZEV percent difference=%{x}<br>EV percent difference=%{y}<extra></extra>",
         "legendgroup": "Portugal, 2020",
         "marker": {
          "color": "#EF553B",
          "symbol": "diamond"
         },
         "mode": "markers",
         "name": "Portugal, 2020",
         "orientation": "v",
         "showlegend": true,
         "type": "scatter",
         "x": [
          0.4856938089200066
         ],
         "xaxis": "x",
         "y": [
          0.019329110523042
         ],
         "yaxis": "y"
        },
        {
         "hovertemplate": "geo=Portugal<br>time_period=2021<br>ZEV percent difference=%{x}<br>EV percent difference=%{y}<extra></extra>",
         "legendgroup": "Portugal, 2021",
         "marker": {
          "color": "#EF553B",
          "symbol": "square"
         },
         "mode": "markers",
         "name": "Portugal, 2021",
         "orientation": "v",
         "showlegend": true,
         "type": "scatter",
         "x": [
          0.6070726186500427
         ],
         "xaxis": "x",
         "y": [
          0.0090848298993286
         ],
         "yaxis": "y"
        },
        {
         "hovertemplate": "geo=Portugal<br>time_period=2022<br>ZEV percent difference=%{x}<br>EV percent difference=%{y}<extra></extra>",
         "legendgroup": "Portugal, 2022",
         "marker": {
          "color": "#EF553B",
          "symbol": "x"
         },
         "mode": "markers",
         "name": "Portugal, 2022",
         "orientation": "v",
         "showlegend": true,
         "type": "scatter",
         "x": [
          0.5550347502828511
         ],
         "xaxis": "x",
         "y": [
          0.0218097501760048
         ],
         "yaxis": "y"
        },
        {
         "hovertemplate": "geo=Portugal<br>time_period=2023<br>ZEV percent difference=%{x}<br>EV percent difference=%{y}<extra></extra>",
         "legendgroup": "Portugal, 2023",
         "marker": {
          "color": "#EF553B",
          "symbol": "cross"
         },
         "mode": "markers",
         "name": "Portugal, 2023",
         "orientation": "v",
         "showlegend": true,
         "type": "scatter",
         "x": [
          0.6482248652501225
         ],
         "xaxis": "x",
         "y": [
          0.0191695774488083
         ],
         "yaxis": "y"
        },
        {
         "hovertemplate": "geo=Romania<br>time_period=2014<br>ZEV percent difference=%{x}<br>EV percent difference=%{y}<extra></extra>",
         "legendgroup": "Romania, 2014",
         "marker": {
          "color": "#00cc96",
          "symbol": "circle"
         },
         "mode": "markers",
         "name": "Romania, 2014",
         "orientation": "v",
         "showlegend": true,
         "type": "scatter",
         "x": [
          null
         ],
         "xaxis": "x",
         "y": [
          null
         ],
         "yaxis": "y"
        },
        {
         "hovertemplate": "geo=Romania<br>time_period=2015<br>ZEV percent difference=%{x}<br>EV percent difference=%{y}<extra></extra>",
         "legendgroup": "Romania, 2015",
         "marker": {
          "color": "#00cc96",
          "symbol": "diamond"
         },
         "mode": "markers",
         "name": "Romania, 2015",
         "orientation": "v",
         "showlegend": true,
         "type": "scatter",
         "x": [
          0.4113993423456339
         ],
         "xaxis": "x",
         "y": [
          0.0502299061720219
         ],
         "yaxis": "y"
        },
        {
         "hovertemplate": "geo=Romania<br>time_period=2016<br>ZEV percent difference=%{x}<br>EV percent difference=%{y}<extra></extra>",
         "legendgroup": "Romania, 2016",
         "marker": {
          "color": "#00cc96",
          "symbol": "square"
         },
         "mode": "markers",
         "name": "Romania, 2016",
         "orientation": "v",
         "showlegend": true,
         "type": "scatter",
         "x": [
          0.6432824229873155
         ],
         "xaxis": "x",
         "y": [
          0.0611273576078254
         ],
         "yaxis": "y"
        },
        {
         "hovertemplate": "geo=Romania<br>time_period=2017<br>ZEV percent difference=%{x}<br>EV percent difference=%{y}<extra></extra>",
         "legendgroup": "Romania, 2017",
         "marker": {
          "color": "#00cc96",
          "symbol": "x"
         },
         "mode": "markers",
         "name": "Romania, 2017",
         "orientation": "v",
         "showlegend": true,
         "type": "scatter",
         "x": [
          0.5669502205419029
         ],
         "xaxis": "x",
         "y": [
          0.0955296076252155
         ],
         "yaxis": "y"
        },
        {
         "hovertemplate": "geo=Romania<br>time_period=2018<br>ZEV percent difference=%{x}<br>EV percent difference=%{y}<extra></extra>",
         "legendgroup": "Romania, 2018",
         "marker": {
          "color": "#00cc96",
          "symbol": "cross"
         },
         "mode": "markers",
         "name": "Romania, 2018",
         "orientation": "v",
         "showlegend": true,
         "type": "scatter",
         "x": [
          -0.8891122951643712
         ],
         "xaxis": "x",
         "y": [
          0.0773491808203636
         ],
         "yaxis": "y"
        },
        {
         "hovertemplate": "geo=Romania<br>time_period=2019<br>ZEV percent difference=%{x}<br>EV percent difference=%{y}<extra></extra>",
         "legendgroup": "Romania, 2019",
         "marker": {
          "color": "#00cc96",
          "symbol": "circle"
         },
         "mode": "markers",
         "name": "Romania, 2019",
         "orientation": "v",
         "showlegend": true,
         "type": "scatter",
         "x": [
          1.5367180417044424
         ],
         "xaxis": "x",
         "y": [
          0.0695586546430847
         ],
         "yaxis": "y"
        },
        {
         "hovertemplate": "geo=Romania<br>time_period=2020<br>ZEV percent difference=%{x}<br>EV percent difference=%{y}<extra></extra>",
         "legendgroup": "Romania, 2020",
         "marker": {
          "color": "#00cc96",
          "symbol": "diamond"
         },
         "mode": "markers",
         "name": "Romania, 2020",
         "orientation": "v",
         "showlegend": true,
         "type": "scatter",
         "x": [
          1.0739814152966405
         ],
         "xaxis": "x",
         "y": [
          0.0534389942531983
         ],
         "yaxis": "y"
        },
        {
         "hovertemplate": "geo=Romania<br>time_period=2021<br>ZEV percent difference=%{x}<br>EV percent difference=%{y}<extra></extra>",
         "legendgroup": "Romania, 2021",
         "marker": {
          "color": "#00cc96",
          "symbol": "square"
         },
         "mode": "markers",
         "name": "Romania, 2021",
         "orientation": "v",
         "showlegend": true,
         "type": "scatter",
         "x": [
          1.1425124935378252
         ],
         "xaxis": "x",
         "y": [
          0.0453548495822972
         ],
         "yaxis": "y"
        },
        {
         "hovertemplate": "geo=Romania<br>time_period=2022<br>ZEV percent difference=%{x}<br>EV percent difference=%{y}<extra></extra>",
         "legendgroup": "Romania, 2022",
         "marker": {
          "color": "#00cc96",
          "symbol": "x"
         },
         "mode": "markers",
         "name": "Romania, 2022",
         "orientation": "v",
         "showlegend": true,
         "type": "scatter",
         "x": [
          0.9859245556181132
         ],
         "xaxis": "x",
         "y": [
          0.0318333389045306
         ],
         "yaxis": "y"
        },
        {
         "hovertemplate": "geo=Romania<br>time_period=2023<br>ZEV percent difference=%{x}<br>EV percent difference=%{y}<extra></extra>",
         "legendgroup": "Romania, 2023",
         "marker": {
          "color": "#00cc96",
          "symbol": "cross"
         },
         "mode": "markers",
         "name": "Romania, 2023",
         "orientation": "v",
         "showlegend": true,
         "type": "scatter",
         "x": [
          0.5904985622291523
         ],
         "xaxis": "x",
         "y": [
          0.0289272552306965
         ],
         "yaxis": "y"
        },
        {
         "hovertemplate": "geo=Slovakia<br>time_period=2014<br>ZEV percent difference=%{x}<br>EV percent difference=%{y}<extra></extra>",
         "legendgroup": "Slovakia, 2014",
         "marker": {
          "color": "#ab63fa",
          "symbol": "circle"
         },
         "mode": "markers",
         "name": "Slovakia, 2014",
         "orientation": "v",
         "showlegend": true,
         "type": "scatter",
         "x": [
          null
         ],
         "xaxis": "x",
         "y": [
          null
         ],
         "yaxis": "y"
        },
        {
         "hovertemplate": "geo=Slovakia<br>time_period=2015<br>ZEV percent difference=%{x}<br>EV percent difference=%{y}<extra></extra>",
         "legendgroup": "Slovakia, 2015",
         "marker": {
          "color": "#ab63fa",
          "symbol": "diamond"
         },
         "mode": "markers",
         "name": "Slovakia, 2015",
         "orientation": "v",
         "showlegend": true,
         "type": "scatter",
         "x": [
          0.2123893805309734
         ],
         "xaxis": "x",
         "y": [
          0.0438432888469753
         ],
         "yaxis": "y"
        },
        {
         "hovertemplate": "geo=Slovakia<br>time_period=2016<br>ZEV percent difference=%{x}<br>EV percent difference=%{y}<extra></extra>",
         "legendgroup": "Slovakia, 2016",
         "marker": {
          "color": "#ab63fa",
          "symbol": "square"
         },
         "mode": "markers",
         "name": "Slovakia, 2016",
         "orientation": "v",
         "showlegend": true,
         "type": "scatter",
         "x": [
          0.4452554744525547
         ],
         "xaxis": "x",
         "y": [
          0.0428319972552603
         ],
         "yaxis": "y"
        },
        {
         "hovertemplate": "geo=Slovakia<br>time_period=2017<br>ZEV percent difference=%{x}<br>EV percent difference=%{y}<extra></extra>",
         "legendgroup": "Slovakia, 2017",
         "marker": {
          "color": "#ab63fa",
          "symbol": "x"
         },
         "mode": "markers",
         "name": "Slovakia, 2017",
         "orientation": "v",
         "showlegend": true,
         "type": "scatter",
         "x": [
          1.0101010101010102
         ],
         "xaxis": "x",
         "y": [
          0.047673521947835
         ],
         "yaxis": "y"
        },
        {
         "hovertemplate": "geo=Slovakia<br>time_period=2018<br>ZEV percent difference=%{x}<br>EV percent difference=%{y}<extra></extra>",
         "legendgroup": "Slovakia, 2018",
         "marker": {
          "color": "#ab63fa",
          "symbol": "cross"
         },
         "mode": "markers",
         "name": "Slovakia, 2018",
         "orientation": "v",
         "showlegend": true,
         "type": "scatter",
         "x": [
          0.9974874371859296
         ],
         "xaxis": "x",
         "y": [
          0.0441324341943358
         ],
         "yaxis": "y"
        },
        {
         "hovertemplate": "geo=Slovakia<br>time_period=2019<br>ZEV percent difference=%{x}<br>EV percent difference=%{y}<extra></extra>",
         "legendgroup": "Slovakia, 2019",
         "marker": {
          "color": "#ab63fa",
          "symbol": "circle"
         },
         "mode": "markers",
         "name": "Slovakia, 2019",
         "orientation": "v",
         "showlegend": true,
         "type": "scatter",
         "x": [
          0.2025157232704402
         ],
         "xaxis": "x",
         "y": [
          0.0309408814928216
         ],
         "yaxis": "y"
        },
        {
         "hovertemplate": "geo=Slovakia<br>time_period=2020<br>ZEV percent difference=%{x}<br>EV percent difference=%{y}<extra></extra>",
         "legendgroup": "Slovakia, 2020",
         "marker": {
          "color": "#ab63fa",
          "symbol": "diamond"
         },
         "mode": "markers",
         "name": "Slovakia, 2020",
         "orientation": "v",
         "showlegend": true,
         "type": "scatter",
         "x": [
          0.948744769874477
         ],
         "xaxis": "x",
         "y": [
          0.0190176379794376
         ],
         "yaxis": "y"
        },
        {
         "hovertemplate": "geo=Slovakia<br>time_period=2021<br>ZEV percent difference=%{x}<br>EV percent difference=%{y}<extra></extra>",
         "legendgroup": "Slovakia, 2021",
         "marker": {
          "color": "#ab63fa",
          "symbol": "square"
         },
         "mode": "markers",
         "name": "Slovakia, 2021",
         "orientation": "v",
         "showlegend": true,
         "type": "scatter",
         "x": [
          0.6108427267847558
         ],
         "xaxis": "x",
         "y": [
          0.0213520810886079
         ],
         "yaxis": "y"
        },
        {
         "hovertemplate": "geo=Slovakia<br>time_period=2022<br>ZEV percent difference=%{x}<br>EV percent difference=%{y}<extra></extra>",
         "legendgroup": "Slovakia, 2022",
         "marker": {
          "color": "#ab63fa",
          "symbol": "x"
         },
         "mode": "markers",
         "name": "Slovakia, 2022",
         "orientation": "v",
         "showlegend": true,
         "type": "scatter",
         "x": [
          0.509830056647784
         ],
         "xaxis": "x",
         "y": [
          0.0244070513721487
         ],
         "yaxis": "y"
        },
        {
         "hovertemplate": "geo=Slovakia<br>time_period=2023<br>ZEV percent difference=%{x}<br>EV percent difference=%{y}<extra></extra>",
         "legendgroup": "Slovakia, 2023",
         "marker": {
          "color": "#ab63fa",
          "symbol": "cross"
         },
         "mode": "markers",
         "name": "Slovakia, 2023",
         "orientation": "v",
         "showlegend": true,
         "type": "scatter",
         "x": [
          0.7433237695872875
         ],
         "xaxis": "x",
         "y": [
          0.0335175776962398
         ],
         "yaxis": "y"
        },
        {
         "hovertemplate": "geo=Slovenia<br>time_period=2014<br>ZEV percent difference=%{x}<br>EV percent difference=%{y}<extra></extra>",
         "legendgroup": "Slovenia, 2014",
         "marker": {
          "color": "#FFA15A",
          "symbol": "circle"
         },
         "mode": "markers",
         "name": "Slovenia, 2014",
         "orientation": "v",
         "showlegend": true,
         "type": "scatter",
         "x": [
          null
         ],
         "xaxis": "x",
         "y": [
          null
         ],
         "yaxis": "y"
        },
        {
         "hovertemplate": "geo=Slovenia<br>time_period=2015<br>ZEV percent difference=%{x}<br>EV percent difference=%{y}<extra></extra>",
         "legendgroup": "Slovenia, 2015",
         "marker": {
          "color": "#FFA15A",
          "symbol": "diamond"
         },
         "mode": "markers",
         "name": "Slovenia, 2015",
         "orientation": "v",
         "showlegend": true,
         "type": "scatter",
         "x": [
          1.1654135338345866
         ],
         "xaxis": "x",
         "y": [
          0.0095672369875747
         ],
         "yaxis": "y"
        },
        {
         "hovertemplate": "geo=Slovenia<br>time_period=2016<br>ZEV percent difference=%{x}<br>EV percent difference=%{y}<extra></extra>",
         "legendgroup": "Slovenia, 2016",
         "marker": {
          "color": "#FFA15A",
          "symbol": "square"
         },
         "mode": "markers",
         "name": "Slovenia, 2016",
         "orientation": "v",
         "showlegend": true,
         "type": "scatter",
         "x": [
          0.5868055555555556
         ],
         "xaxis": "x",
         "y": [
          0.016335496625246
         ],
         "yaxis": "y"
        },
        {
         "hovertemplate": "geo=Slovenia<br>time_period=2017<br>ZEV percent difference=%{x}<br>EV percent difference=%{y}<extra></extra>",
         "legendgroup": "Slovenia, 2017",
         "marker": {
          "color": "#FFA15A",
          "symbol": "x"
         },
         "mode": "markers",
         "name": "Slovenia, 2017",
         "orientation": "v",
         "showlegend": true,
         "type": "scatter",
         "x": [
          0.7045951859956237
         ],
         "xaxis": "x",
         "y": [
          0.0192415420239292
         ],
         "yaxis": "y"
        },
        {
         "hovertemplate": "geo=Slovenia<br>time_period=2018<br>ZEV percent difference=%{x}<br>EV percent difference=%{y}<extra></extra>",
         "legendgroup": "Slovenia, 2018",
         "marker": {
          "color": "#FFA15A",
          "symbol": "cross"
         },
         "mode": "markers",
         "name": "Slovenia, 2018",
         "orientation": "v",
         "showlegend": true,
         "type": "scatter",
         "x": [
          0.6790757381258024
         ],
         "xaxis": "x",
         "y": [
          0.0220971824883901
         ],
         "yaxis": "y"
        },
        {
         "hovertemplate": "geo=Slovenia<br>time_period=2019<br>ZEV percent difference=%{x}<br>EV percent difference=%{y}<extra></extra>",
         "legendgroup": "Slovenia, 2019",
         "marker": {
          "color": "#FFA15A",
          "symbol": "circle"
         },
         "mode": "markers",
         "name": "Slovenia, 2019",
         "orientation": "v",
         "showlegend": true,
         "type": "scatter",
         "x": [
          0.5275229357798165
         ],
         "xaxis": "x",
         "y": [
          0.0188563741743603
         ],
         "yaxis": "y"
        },
        {
         "hovertemplate": "geo=Slovenia<br>time_period=2020<br>ZEV percent difference=%{x}<br>EV percent difference=%{y}<extra></extra>",
         "legendgroup": "Slovenia, 2020",
         "marker": {
          "color": "#FFA15A",
          "symbol": "diamond"
         },
         "mode": "markers",
         "name": "Slovenia, 2020",
         "orientation": "v",
         "showlegend": true,
         "type": "scatter",
         "x": [
          0.8368368368368369
         ],
         "xaxis": "x",
         "y": [
          0.003134850129752
         ],
         "yaxis": "y"
        },
        {
         "hovertemplate": "geo=Slovenia<br>time_period=2021<br>ZEV percent difference=%{x}<br>EV percent difference=%{y}<extra></extra>",
         "legendgroup": "Slovenia, 2021",
         "marker": {
          "color": "#FFA15A",
          "symbol": "square"
         },
         "mode": "markers",
         "name": "Slovenia, 2021",
         "orientation": "v",
         "showlegend": true,
         "type": "scatter",
         "x": [
          0.4749318801089918
         ],
         "xaxis": "x",
         "y": [
          0.0145875820465801
         ],
         "yaxis": "y"
        },
        {
         "hovertemplate": "geo=Slovenia<br>time_period=2022<br>ZEV percent difference=%{x}<br>EV percent difference=%{y}<extra></extra>",
         "legendgroup": "Slovenia, 2022",
         "marker": {
          "color": "#FFA15A",
          "symbol": "x"
         },
         "mode": "markers",
         "name": "Slovenia, 2022",
         "orientation": "v",
         "showlegend": true,
         "type": "scatter",
         "x": [
          0.4736744873452799
         ],
         "xaxis": "x",
         "y": [
          0.013288357527254
         ],
         "yaxis": "y"
        },
        {
         "hovertemplate": "geo=Slovenia<br>time_period=2023<br>ZEV percent difference=%{x}<br>EV percent difference=%{y}<extra></extra>",
         "legendgroup": "Slovenia, 2023",
         "marker": {
          "color": "#FFA15A",
          "symbol": "cross"
         },
         "mode": "markers",
         "name": "Slovenia, 2023",
         "orientation": "v",
         "showlegend": true,
         "type": "scatter",
         "x": [
          0.5974677196941206
         ],
         "xaxis": "x",
         "y": [
          0.0150394489647251
         ],
         "yaxis": "y"
        },
        {
         "hovertemplate": "geo=Spain<br>time_period=2014<br>ZEV percent difference=%{x}<br>EV percent difference=%{y}<extra></extra>",
         "legendgroup": "Spain, 2014",
         "marker": {
          "color": "#19d3f3",
          "symbol": "circle"
         },
         "mode": "markers",
         "name": "Spain, 2014",
         "orientation": "v",
         "showlegend": true,
         "type": "scatter",
         "x": [
          null
         ],
         "xaxis": "x",
         "y": [
          null
         ],
         "yaxis": "y"
        },
        {
         "hovertemplate": "geo=Spain<br>time_period=2015<br>ZEV percent difference=%{x}<br>EV percent difference=%{y}<extra></extra>",
         "legendgroup": "Spain, 2015",
         "marker": {
          "color": "#19d3f3",
          "symbol": "diamond"
         },
         "mode": "markers",
         "name": "Spain, 2015",
         "orientation": "v",
         "showlegend": true,
         "type": "scatter",
         "x": [
          0.8507410021171489
         ],
         "xaxis": "x",
         "y": [
          0.0146924561207096
         ],
         "yaxis": "y"
        },
        {
         "hovertemplate": "geo=Spain<br>time_period=2016<br>ZEV percent difference=%{x}<br>EV percent difference=%{y}<extra></extra>",
         "legendgroup": "Spain, 2016",
         "marker": {
          "color": "#19d3f3",
          "symbol": "square"
         },
         "mode": "markers",
         "name": "Spain, 2016",
         "orientation": "v",
         "showlegend": true,
         "type": "scatter",
         "x": [
          0.0974261201143946
         ],
         "xaxis": "x",
         "y": [
          0.073774119582445
         ],
         "yaxis": "y"
        },
        {
         "hovertemplate": "geo=Spain<br>time_period=2017<br>ZEV percent difference=%{x}<br>EV percent difference=%{y}<extra></extra>",
         "legendgroup": "Spain, 2017",
         "marker": {
          "color": "#19d3f3",
          "symbol": "x"
         },
         "mode": "markers",
         "name": "Spain, 2017",
         "orientation": "v",
         "showlegend": true,
         "type": "scatter",
         "x": [
          1.6626129256428075
         ],
         "xaxis": "x",
         "y": [
          0.0275864865038294
         ],
         "yaxis": "y"
        },
        {
         "hovertemplate": "geo=Spain<br>time_period=2018<br>ZEV percent difference=%{x}<br>EV percent difference=%{y}<extra></extra>",
         "legendgroup": "Spain, 2018",
         "marker": {
          "color": "#19d3f3",
          "symbol": "cross"
         },
         "mode": "markers",
         "name": "Spain, 2018",
         "orientation": "v",
         "showlegend": true,
         "type": "scatter",
         "x": [
          0.035234242463787
         ],
         "xaxis": "x",
         "y": [
          0.0254282926914718
         ],
         "yaxis": "y"
        },
        {
         "hovertemplate": "geo=Spain<br>time_period=2019<br>ZEV percent difference=%{x}<br>EV percent difference=%{y}<extra></extra>",
         "legendgroup": "Spain, 2019",
         "marker": {
          "color": "#19d3f3",
          "symbol": "circle"
         },
         "mode": "markers",
         "name": "Spain, 2019",
         "orientation": "v",
         "showlegend": true,
         "type": "scatter",
         "x": [
          0.6512668599520989
         ],
         "xaxis": "x",
         "y": [
          0.0206444286303829
         ],
         "yaxis": "y"
        },
        {
         "hovertemplate": "geo=Spain<br>time_period=2020<br>ZEV percent difference=%{x}<br>EV percent difference=%{y}<extra></extra>",
         "legendgroup": "Spain, 2020",
         "marker": {
          "color": "#19d3f3",
          "symbol": "diamond"
         },
         "mode": "markers",
         "name": "Spain, 2020",
         "orientation": "v",
         "showlegend": true,
         "type": "scatter",
         "x": [
          0.6493759303790221
         ],
         "xaxis": "x",
         "y": [
          0.007002917081406
         ],
         "yaxis": "y"
        },
        {
         "hovertemplate": "geo=Spain<br>time_period=2021<br>ZEV percent difference=%{x}<br>EV percent difference=%{y}<extra></extra>",
         "legendgroup": "Spain, 2021",
         "marker": {
          "color": "#19d3f3",
          "symbol": "square"
         },
         "mode": "markers",
         "name": "Spain, 2021",
         "orientation": "v",
         "showlegend": true,
         "type": "scatter",
         "x": [
          0.5297371100620198
         ],
         "xaxis": "x",
         "y": [
          0.0091047966931801
         ],
         "yaxis": "y"
        },
        {
         "hovertemplate": "geo=Spain<br>time_period=2022<br>ZEV percent difference=%{x}<br>EV percent difference=%{y}<extra></extra>",
         "legendgroup": "Spain, 2022",
         "marker": {
          "color": "#19d3f3",
          "symbol": "x"
         },
         "mode": "markers",
         "name": "Spain, 2022",
         "orientation": "v",
         "showlegend": true,
         "type": "scatter",
         "x": [
          0.447816286704083
         ],
         "xaxis": "x",
         "y": [
          0.0107517300645243
         ],
         "yaxis": "y"
        },
        {
         "hovertemplate": "geo=Spain<br>time_period=2023<br>ZEV percent difference=%{x}<br>EV percent difference=%{y}<extra></extra>",
         "legendgroup": "Spain, 2023",
         "marker": {
          "color": "#19d3f3",
          "symbol": "cross"
         },
         "mode": "markers",
         "name": "Spain, 2023",
         "orientation": "v",
         "showlegend": true,
         "type": "scatter",
         "x": [
          0.5706075962593385
         ],
         "xaxis": "x",
         "y": [
          0.0044532256085331
         ],
         "yaxis": "y"
        },
        {
         "hovertemplate": "geo=Sweden<br>time_period=2014<br>ZEV percent difference=%{x}<br>EV percent difference=%{y}<extra></extra>",
         "legendgroup": "Sweden, 2014",
         "marker": {
          "color": "#FF6692",
          "symbol": "circle"
         },
         "mode": "markers",
         "name": "Sweden, 2014",
         "orientation": "v",
         "showlegend": true,
         "type": "scatter",
         "x": [
          null
         ],
         "xaxis": "x",
         "y": [
          null
         ],
         "yaxis": "y"
        },
        {
         "hovertemplate": "geo=Sweden<br>time_period=2015<br>ZEV percent difference=%{x}<br>EV percent difference=%{y}<extra></extra>",
         "legendgroup": "Sweden, 2015",
         "marker": {
          "color": "#FF6692",
          "symbol": "diamond"
         },
         "mode": "markers",
         "name": "Sweden, 2015",
         "orientation": "v",
         "showlegend": true,
         "type": "scatter",
         "x": [
          1.1926436781609195
         ],
         "xaxis": "x",
         "y": [
          0.017666418768996
         ],
         "yaxis": "y"
        },
        {
         "hovertemplate": "geo=Sweden<br>time_period=2016<br>ZEV percent difference=%{x}<br>EV percent difference=%{y}<extra></extra>",
         "legendgroup": "Sweden, 2016",
         "marker": {
          "color": "#FF6692",
          "symbol": "square"
         },
         "mode": "markers",
         "name": "Sweden, 2016",
         "orientation": "v",
         "showlegend": true,
         "type": "scatter",
         "x": [
          0.5841895575592367
         ],
         "xaxis": "x",
         "y": [
          0.0206313164831597
         ],
         "yaxis": "y"
        },
        {
         "hovertemplate": "geo=Sweden<br>time_period=2017<br>ZEV percent difference=%{x}<br>EV percent difference=%{y}<extra></extra>",
         "legendgroup": "Sweden, 2017",
         "marker": {
          "color": "#FF6692",
          "symbol": "x"
         },
         "mode": "markers",
         "name": "Sweden, 2017",
         "orientation": "v",
         "showlegend": true,
         "type": "scatter",
         "x": [
          0.4649900727994705
         ],
         "xaxis": "x",
         "y": [
          0.0155572601422734
         ],
         "yaxis": "y"
        },
        {
         "hovertemplate": "geo=Sweden<br>time_period=2018<br>ZEV percent difference=%{x}<br>EV percent difference=%{y}<extra></extra>",
         "legendgroup": "Sweden, 2018",
         "marker": {
          "color": "#FF6692",
          "symbol": "cross"
         },
         "mode": "markers",
         "name": "Sweden, 2018",
         "orientation": "v",
         "showlegend": true,
         "type": "scatter",
         "x": [
          0.5093061076978678
         ],
         "xaxis": "x",
         "y": [
          0.0040380615070478
         ],
         "yaxis": "y"
        },
        {
         "hovertemplate": "geo=Sweden<br>time_period=2019<br>ZEV percent difference=%{x}<br>EV percent difference=%{y}<extra></extra>",
         "legendgroup": "Sweden, 2019",
         "marker": {
          "color": "#FF6692",
          "symbol": "circle"
         },
         "mode": "markers",
         "name": "Sweden, 2019",
         "orientation": "v",
         "showlegend": true,
         "type": "scatter",
         "x": [
          0.818736905118228
         ],
         "xaxis": "x",
         "y": [
          0.0007129208035647
         ],
         "yaxis": "y"
        },
        {
         "hovertemplate": "geo=Sweden<br>time_period=2020<br>ZEV percent difference=%{x}<br>EV percent difference=%{y}<extra></extra>",
         "legendgroup": "Sweden, 2020",
         "marker": {
          "color": "#FF6692",
          "symbol": "diamond"
         },
         "mode": "markers",
         "name": "Sweden, 2020",
         "orientation": "v",
         "showlegend": true,
         "type": "scatter",
         "x": [
          0.8375682970179712
         ],
         "xaxis": "x",
         "y": [
          0.0063272973154387
         ],
         "yaxis": "y"
        },
        {
         "hovertemplate": "geo=Sweden<br>time_period=2021<br>ZEV percent difference=%{x}<br>EV percent difference=%{y}<extra></extra>",
         "legendgroup": "Sweden, 2021",
         "marker": {
          "color": "#FF6692",
          "symbol": "square"
         },
         "mode": "markers",
         "name": "Sweden, 2021",
         "orientation": "v",
         "showlegend": true,
         "type": "scatter",
         "x": [
          0.974260688889287
         ],
         "xaxis": "x",
         "y": [
          -0.0023951071557764
         ],
         "yaxis": "y"
        },
        {
         "hovertemplate": "geo=Sweden<br>time_period=2022<br>ZEV percent difference=%{x}<br>EV percent difference=%{y}<extra></extra>",
         "legendgroup": "Sweden, 2022",
         "marker": {
          "color": "#FF6692",
          "symbol": "x"
         },
         "mode": "markers",
         "name": "Sweden, 2022",
         "orientation": "v",
         "showlegend": true,
         "type": "scatter",
         "x": [
          0.79413178976783
         ],
         "xaxis": "x",
         "y": [
          -0.0192273693649274
         ],
         "yaxis": "y"
        },
        {
         "hovertemplate": "geo=Sweden<br>time_period=2023<br>ZEV percent difference=%{x}<br>EV percent difference=%{y}<extra></extra>",
         "legendgroup": "Sweden, 2023",
         "marker": {
          "color": "#FF6692",
          "symbol": "cross"
         },
         "mode": "markers",
         "name": "Sweden, 2023",
         "orientation": "v",
         "showlegend": true,
         "type": "scatter",
         "x": [
          0.4751682671642621
         ],
         "xaxis": "x",
         "y": [
          -0.0203596395657892
         ],
         "yaxis": "y"
        },
        {
         "hovertemplate": "<b>OLS trendline</b><br>ev_norm = -0.000878332 * zev_norm + 0.0199099<br>R<sup>2</sup>=0.000308<br><br>ZEV percent difference=%{x}<br>EV percent difference=%{y} <b>(trend)</b><extra></extra>",
         "legendgroup": "Overall Trendline",
         "line": {
          "color": "#B6E880"
         },
         "mode": "lines",
         "name": "Overall Trendline",
         "showlegend": true,
         "type": "scatter",
         "x": [
          -0.8891122951643712,
          0.0135150612759134,
          0.0294117647058823,
          0.0302768166089965,
          0.035234242463787,
          0.03584229390681,
          0.0459231490159325,
          0.052896725440806,
          0.0974261201143946,
          0.0993452530848652,
          0.1020733652312599,
          0.1068702290076335,
          0.1167694204685573,
          0.1223404255319148,
          0.1421800947867298,
          0.1437450559385241,
          0.174863387978142,
          0.1810344827586207,
          0.2025157232704402,
          0.2123893805309734,
          0.2222222222222222,
          0.2448979591836734,
          0.2522306855277476,
          0.2829232995658466,
          0.2911242173591852,
          0.2946058091286307,
          0.2982456140350877,
          0.3092811158798283,
          0.3103448275862069,
          0.3153611393692777,
          0.3157803267292318,
          0.3276366637901924,
          0.3357558139534883,
          0.3396708982969029,
          0.3419317317857024,
          0.3453849287169043,
          0.3468684214820738,
          0.35,
          0.3546423135464231,
          0.3571428571428571,
          0.3660589060308555,
          0.3727511835875854,
          0.3748372232795753,
          0.3789636504253673,
          0.379381443298969,
          0.3812460203089916,
          0.3857868020304568,
          0.3875,
          0.3882177422923502,
          0.3899269023131181,
          0.4094424094424094,
          0.4102120070189569,
          0.410474489287042,
          0.4113993423456339,
          0.4160583941605839,
          0.4166666666666667,
          0.4175976983936705,
          0.4248138279702125,
          0.4313725490196078,
          0.4355828220858895,
          0.437125748502994,
          0.439890853069431,
          0.441549854535837,
          0.4452554744525547,
          0.4455958549222797,
          0.447816286704083,
          0.4508825786646201,
          0.4527027027027027,
          0.4537444933920704,
          0.4627106227106227,
          0.4638887563802891,
          0.4649122807017544,
          0.4649900727994705,
          0.4700124947938359,
          0.4736744873452799,
          0.4749318801089918,
          0.4751682671642621,
          0.4771950944620727,
          0.4807916181606519,
          0.4816964285714286,
          0.4856938089200066,
          0.486574210681617,
          0.4886877828054298,
          0.5069679339737518,
          0.5093061076978678,
          0.5096385542168674,
          0.509830056647784,
          0.5123162906230594,
          0.51875,
          0.5275229357798165,
          0.5297371100620198,
          0.5333333333333333,
          0.5371675213044601,
          0.5394723841517637,
          0.5413233043895065,
          0.5550347502828511,
          0.5569033178737067,
          0.5589660743134087,
          0.5632183908045977,
          0.5637831918970709,
          0.5657084188911704,
          0.5669502205419029,
          0.5686209561665011,
          0.5703525158180175,
          0.5706075962593385,
          0.5714285714285714,
          0.5720695457094784,
          0.5815443091433801,
          0.5841895575592367,
          0.5851572460688482,
          0.5859615904787666,
          0.5868055555555556,
          0.5875845113706207,
          0.589041095890411,
          0.5904985622291523,
          0.5929326047358834,
          0.5974677196941206,
          0.6070532294280808,
          0.6070726186500427,
          0.6108427267847558,
          0.610939907550077,
          0.6130332549546523,
          0.6148364980934407,
          0.6153846153846154,
          0.6250812215724496,
          0.6284538506760728,
          0.6301824212271974,
          0.6312236286919831,
          0.6359212792590989,
          0.637878316038809,
          0.6383838383838384,
          0.6409468219984211,
          0.6420029895366218,
          0.6432824229873155,
          0.6448028878277734,
          0.6480357311357846,
          0.6482248652501225,
          0.6493759303790221,
          0.6512668599520989,
          0.6620563674321504,
          0.6630234438156831,
          0.6642599277978339,
          0.6690140845070423,
          0.6697498104624716,
          0.6726083519010997,
          0.6745596303782847,
          0.6790757381258024,
          0.6855345911949685,
          0.6893670544899151,
          0.6971654299898574,
          0.6999230430958663,
          0.7020725388601037,
          0.7045779685264664,
          0.7045951859956237,
          0.7094079186342173,
          0.709832134292566,
          0.71461561951294,
          0.7178952852305288,
          0.7184661957618567,
          0.7192045250493805,
          0.7214309373964889,
          0.7243470149253731,
          0.729050279329609,
          0.7292134831460674,
          0.7340718655946645,
          0.7391304347826086,
          0.7428867046042421,
          0.7433237695872875,
          0.7474252700326551,
          0.7477178423236515,
          0.7740668847111797,
          0.7741935483870968,
          0.786046511627907,
          0.79413178976783,
          0.8034934497816594,
          0.8099173553719008,
          0.8175350701402806,
          0.818736905118228,
          0.8195631528964862,
          0.8231368186874305,
          0.831306990881459,
          0.836140191169777,
          0.8368368368368369,
          0.8375682970179712,
          0.8463272227707895,
          0.8489583333333334,
          0.8507410021171489,
          0.8614550291619769,
          0.8633405639913232,
          0.8666666666666667,
          0.8679133273968537,
          0.8703049231527903,
          0.8805079853761786,
          0.922560975609756,
          0.9233466933867736,
          0.9316273490603758,
          0.948744769874477,
          0.951919191919192,
          0.9529019980970505,
          0.9542857142857144,
          0.9584557280738564,
          0.9737233515121468,
          0.974260688889287,
          0.9813953488372092,
          0.9824673390357036,
          0.9859245556181132,
          0.9974874371859296,
          0.9994676715307508,
          1,
          1.0101010101010102,
          1.0200135798483954,
          1.039747518638796,
          1.053719273474103,
          1.0616849513558269,
          1.0739814152966405,
          1.0803571428571428,
          1.0870339698115563,
          1.118343195266272,
          1.138418684379687,
          1.1425124935378252,
          1.1654135338345866,
          1.175,
          1.1926436781609195,
          1.216374269005848,
          1.2231238468200474,
          1.2327868852459016,
          1.259291654822039,
          1.265601217656012,
          1.334065740903498,
          1.3593373493975904,
          1.3825316739544793,
          1.4142857142857144,
          1.4924924924924925,
          1.5367180417044424,
          1.5747126436781609,
          1.591549295774648,
          1.633245382585752,
          1.6626129256428075,
          1.7068847989093388,
          1.9710144927536235,
          2.1904761904761907,
          2.369419642857143,
          3.1794871794871797
         ],
         "xaxis": "x",
         "y": [
          0.020690885589481796,
          0.019898078662624927,
          0.019884116071635913,
          0.019883356268450263,
          0.019879002000291853,
          0.019878467928958345,
          0.019869613586463483,
          0.019863488467769534,
          0.01982437685399661,
          0.019822691217170195,
          0.019820295027655803,
          0.019816081786386344,
          0.019807387004974607,
          0.019802493810266657,
          0.019785067984315848,
          0.019783693428102198,
          0.019756361186267057,
          0.019750940913268077,
          0.019732073241959715,
          0.0197234008880656,
          0.01971476438381178,
          0.019694847547471344,
          0.01968840697573723,
          0.019661448655851253,
          0.019654245523366122,
          0.01965118752822382,
          0.019647990569344104,
          0.01963829772961193,
          0.01963736343706808,
          0.019632957447486093,
          0.019632589261611544,
          0.019622175455646092,
          0.019615044142326454,
          0.01961160539657546,
          0.01960961963308447,
          0.019606586578050936,
          0.019605283578167564,
          0.019602533011033416,
          0.019598455516251116,
          0.01959625920758618,
          0.019588427952231282,
          0.01958254990747054,
          0.019580717671049047,
          0.019577093296049758,
          0.01957672633499787,
          0.019575088616443633,
          0.019571100300361213,
          0.019569595542935418,
          0.0195689651265659,
          0.019567463915801678,
          0.019550322811975347,
          0.019549646849425326,
          0.019549416302723156,
          0.01954860397424015,
          0.019544511777692904,
          0.01954397751219253,
          0.01954315975678436,
          0.019536821595778534,
          0.01953106085803645,
          0.019527362838441663,
          0.01952600763605124,
          0.019523578954892717,
          0.019522121800016067,
          0.019518867033674996,
          0.01951856806645199,
          0.019516617789092604,
          0.019513924565262488,
          0.019512325891197457,
          0.0195114108525949,
          0.019503535609971104,
          0.019502500816900175,
          0.019501601822241886,
          0.019501533494915572,
          0.01949712213853653,
          0.019493905691527508,
          0.019492801282619737,
          0.019492593656190625,
          0.01949081342793831,
          0.01948765448434936,
          0.019486859759974967,
          0.019483348730969453,
          0.01948257544550448,
          0.019480719026453788,
          0.01946466297589557,
          0.019462609281963687,
          0.019462317283387317,
          0.019462149080581744,
          0.019459965340521884,
          0.019454314404592422,
          0.019446608850129127,
          0.019444664068934903,
          0.01944150538922098,
          0.01943813769738149,
          0.019436113261474736,
          0.0194344875381072,
          0.019422444329795483,
          0.019420803106184475,
          0.019418991320199766,
          0.0194152563724992,
          0.019414760289353468,
          0.019413069299948144,
          0.019411978585221343,
          0.0194105111238524,
          0.01940899023876489,
          0.019408766193327598,
          0.019408045104169044,
          0.019407482115637604,
          0.01939916012314853,
          0.0193968367155403,
          0.01939598676328926,
          0.01939528028146682,
          0.019394538999525684,
          0.019393854817330792,
          0.01939257545183339,
          0.019391295311805758,
          0.019389157413208034,
          0.019385174074427827,
          0.019376754809866083,
          0.019376737779682622,
          0.01937342637124494,
          0.019373341014222074,
          0.01937150235919924,
          0.01936991851217639,
          0.01936943708295527,
          0.019360920238769386,
          0.01935795794907587,
          0.01935643968941233,
          0.019355525163074868,
          0.0193513990639898,
          0.019349680135016513,
          0.019349236118320186,
          0.019346984966559094,
          0.01934605730030321,
          0.019344933532344125,
          0.019343598058686077,
          0.019340758547397453,
          0.01934059242476126,
          0.019339581406868943,
          0.019337920542002576,
          0.019328443767111448,
          0.01932759435251062,
          0.019326508308464867,
          0.019322332578199736,
          0.01932168636619478,
          0.019319175616396338,
          0.019317461745127204,
          0.01931349510099758,
          0.019307822080546502,
          0.01930445590354613,
          0.01929760633703291,
          0.019295184235867423,
          0.019293296263916456,
          0.019291095663657585,
          0.019291080540995157,
          0.019286853361588547,
          0.019286480759196187,
          0.01928227926874703,
          0.01927939863181516,
          0.01927889718255083,
          0.01927824868395473,
          0.019276293153670573,
          0.019273731868055137,
          0.01926960083815458,
          0.019269457490941295,
          0.019265190215823735,
          0.019260747110190414,
          0.019257447856392614,
          0.019257063968020995,
          0.019253461486952374,
          0.019253204511205678,
          0.01923006129139096,
          0.019229950038570035,
          0.019219539195940407,
          0.019212437633519153,
          0.01920421498343782,
          0.019198572658492674,
          0.019191881772168323,
          0.01919082616146845,
          0.01919010044120612,
          0.019186961574459926,
          0.01917978544683337,
          0.01917554029002516,
          0.019174928403506913,
          0.019174285938270086,
          0.019166592689268586,
          0.019164281699396157,
          0.01916271592349759,
          0.019153305445524522,
          0.019151649319036807,
          0.019148727895016544,
          0.019147632912402426,
          0.019145532296164704,
          0.019136570615191778,
          0.019099634107878606,
          0.019098943986432887,
          0.019091670817577424,
          0.019076636030857838,
          0.019073847832862444,
          0.019072984602272317,
          0.019071769239397095,
          0.019068106580834025,
          0.019054696531235867,
          0.0190542245703634,
          0.01904795796677874,
          0.01904701640296636,
          0.019043979817342602,
          0.019033823762868978,
          0.019032084458720736,
          0.019031616897334774,
          0.01902274485205585,
          0.01901403832006055,
          0.01899670536061104,
          0.018984433514500083,
          0.01897743700087053,
          0.01896663661717003,
          0.018961036608553347,
          0.0189551721345585,
          0.01892767222483616,
          0.018910039270643497,
          0.018906443545082283,
          0.018886328817504003,
          0.018877908712877447,
          0.018862411697235935,
          0.01884156834846523,
          0.01883563997502709,
          0.018827152614496925,
          0.018803872614434024,
          0.018798330720445854,
          0.018738196105770953,
          0.018715999231142706,
          0.018695626902472114,
          0.01866773629739498,
          0.018599044743735433,
          0.018560200007301166,
          0.018526828114223685,
          0.018512039935788878,
          0.018475416908344824,
          0.018449622441343266,
          0.018410737016987134,
          0.018178743327260993,
          0.017985982989461802,
          0.017828811142684645,
          0.017117302512151947
         ],
         "yaxis": "y"
        }
       ],
       "layout": {
        "autosize": true,
        "legend": {
         "title": {
          "text": "geo, time_period"
         },
         "tracegroupgap": 0
        },
        "template": {
         "data": {
          "bar": [
           {
            "error_x": {
             "color": "#2a3f5f"
            },
            "error_y": {
             "color": "#2a3f5f"
            },
            "marker": {
             "line": {
              "color": "#E5ECF6",
              "width": 0.5
             },
             "pattern": {
              "fillmode": "overlay",
              "size": 10,
              "solidity": 0.2
             }
            },
            "type": "bar"
           }
          ],
          "barpolar": [
           {
            "marker": {
             "line": {
              "color": "#E5ECF6",
              "width": 0.5
             },
             "pattern": {
              "fillmode": "overlay",
              "size": 10,
              "solidity": 0.2
             }
            },
            "type": "barpolar"
           }
          ],
          "carpet": [
           {
            "aaxis": {
             "endlinecolor": "#2a3f5f",
             "gridcolor": "white",
             "linecolor": "white",
             "minorgridcolor": "white",
             "startlinecolor": "#2a3f5f"
            },
            "baxis": {
             "endlinecolor": "#2a3f5f",
             "gridcolor": "white",
             "linecolor": "white",
             "minorgridcolor": "white",
             "startlinecolor": "#2a3f5f"
            },
            "type": "carpet"
           }
          ],
          "choropleth": [
           {
            "colorbar": {
             "outlinewidth": 0,
             "ticks": ""
            },
            "type": "choropleth"
           }
          ],
          "contour": [
           {
            "colorbar": {
             "outlinewidth": 0,
             "ticks": ""
            },
            "colorscale": [
             [
              0,
              "#0d0887"
             ],
             [
              0.1111111111111111,
              "#46039f"
             ],
             [
              0.2222222222222222,
              "#7201a8"
             ],
             [
              0.3333333333333333,
              "#9c179e"
             ],
             [
              0.4444444444444444,
              "#bd3786"
             ],
             [
              0.5555555555555556,
              "#d8576b"
             ],
             [
              0.6666666666666666,
              "#ed7953"
             ],
             [
              0.7777777777777778,
              "#fb9f3a"
             ],
             [
              0.8888888888888888,
              "#fdca26"
             ],
             [
              1,
              "#f0f921"
             ]
            ],
            "type": "contour"
           }
          ],
          "contourcarpet": [
           {
            "colorbar": {
             "outlinewidth": 0,
             "ticks": ""
            },
            "type": "contourcarpet"
           }
          ],
          "heatmap": [
           {
            "colorbar": {
             "outlinewidth": 0,
             "ticks": ""
            },
            "colorscale": [
             [
              0,
              "#0d0887"
             ],
             [
              0.1111111111111111,
              "#46039f"
             ],
             [
              0.2222222222222222,
              "#7201a8"
             ],
             [
              0.3333333333333333,
              "#9c179e"
             ],
             [
              0.4444444444444444,
              "#bd3786"
             ],
             [
              0.5555555555555556,
              "#d8576b"
             ],
             [
              0.6666666666666666,
              "#ed7953"
             ],
             [
              0.7777777777777778,
              "#fb9f3a"
             ],
             [
              0.8888888888888888,
              "#fdca26"
             ],
             [
              1,
              "#f0f921"
             ]
            ],
            "type": "heatmap"
           }
          ],
          "heatmapgl": [
           {
            "colorbar": {
             "outlinewidth": 0,
             "ticks": ""
            },
            "colorscale": [
             [
              0,
              "#0d0887"
             ],
             [
              0.1111111111111111,
              "#46039f"
             ],
             [
              0.2222222222222222,
              "#7201a8"
             ],
             [
              0.3333333333333333,
              "#9c179e"
             ],
             [
              0.4444444444444444,
              "#bd3786"
             ],
             [
              0.5555555555555556,
              "#d8576b"
             ],
             [
              0.6666666666666666,
              "#ed7953"
             ],
             [
              0.7777777777777778,
              "#fb9f3a"
             ],
             [
              0.8888888888888888,
              "#fdca26"
             ],
             [
              1,
              "#f0f921"
             ]
            ],
            "type": "heatmapgl"
           }
          ],
          "histogram": [
           {
            "marker": {
             "pattern": {
              "fillmode": "overlay",
              "size": 10,
              "solidity": 0.2
             }
            },
            "type": "histogram"
           }
          ],
          "histogram2d": [
           {
            "colorbar": {
             "outlinewidth": 0,
             "ticks": ""
            },
            "colorscale": [
             [
              0,
              "#0d0887"
             ],
             [
              0.1111111111111111,
              "#46039f"
             ],
             [
              0.2222222222222222,
              "#7201a8"
             ],
             [
              0.3333333333333333,
              "#9c179e"
             ],
             [
              0.4444444444444444,
              "#bd3786"
             ],
             [
              0.5555555555555556,
              "#d8576b"
             ],
             [
              0.6666666666666666,
              "#ed7953"
             ],
             [
              0.7777777777777778,
              "#fb9f3a"
             ],
             [
              0.8888888888888888,
              "#fdca26"
             ],
             [
              1,
              "#f0f921"
             ]
            ],
            "type": "histogram2d"
           }
          ],
          "histogram2dcontour": [
           {
            "colorbar": {
             "outlinewidth": 0,
             "ticks": ""
            },
            "colorscale": [
             [
              0,
              "#0d0887"
             ],
             [
              0.1111111111111111,
              "#46039f"
             ],
             [
              0.2222222222222222,
              "#7201a8"
             ],
             [
              0.3333333333333333,
              "#9c179e"
             ],
             [
              0.4444444444444444,
              "#bd3786"
             ],
             [
              0.5555555555555556,
              "#d8576b"
             ],
             [
              0.6666666666666666,
              "#ed7953"
             ],
             [
              0.7777777777777778,
              "#fb9f3a"
             ],
             [
              0.8888888888888888,
              "#fdca26"
             ],
             [
              1,
              "#f0f921"
             ]
            ],
            "type": "histogram2dcontour"
           }
          ],
          "mesh3d": [
           {
            "colorbar": {
             "outlinewidth": 0,
             "ticks": ""
            },
            "type": "mesh3d"
           }
          ],
          "parcoords": [
           {
            "line": {
             "colorbar": {
              "outlinewidth": 0,
              "ticks": ""
             }
            },
            "type": "parcoords"
           }
          ],
          "pie": [
           {
            "automargin": true,
            "type": "pie"
           }
          ],
          "scatter": [
           {
            "fillpattern": {
             "fillmode": "overlay",
             "size": 10,
             "solidity": 0.2
            },
            "type": "scatter"
           }
          ],
          "scatter3d": [
           {
            "line": {
             "colorbar": {
              "outlinewidth": 0,
              "ticks": ""
             }
            },
            "marker": {
             "colorbar": {
              "outlinewidth": 0,
              "ticks": ""
             }
            },
            "type": "scatter3d"
           }
          ],
          "scattercarpet": [
           {
            "marker": {
             "colorbar": {
              "outlinewidth": 0,
              "ticks": ""
             }
            },
            "type": "scattercarpet"
           }
          ],
          "scattergeo": [
           {
            "marker": {
             "colorbar": {
              "outlinewidth": 0,
              "ticks": ""
             }
            },
            "type": "scattergeo"
           }
          ],
          "scattergl": [
           {
            "marker": {
             "colorbar": {
              "outlinewidth": 0,
              "ticks": ""
             }
            },
            "type": "scattergl"
           }
          ],
          "scattermapbox": [
           {
            "marker": {
             "colorbar": {
              "outlinewidth": 0,
              "ticks": ""
             }
            },
            "type": "scattermapbox"
           }
          ],
          "scatterpolar": [
           {
            "marker": {
             "colorbar": {
              "outlinewidth": 0,
              "ticks": ""
             }
            },
            "type": "scatterpolar"
           }
          ],
          "scatterpolargl": [
           {
            "marker": {
             "colorbar": {
              "outlinewidth": 0,
              "ticks": ""
             }
            },
            "type": "scatterpolargl"
           }
          ],
          "scatterternary": [
           {
            "marker": {
             "colorbar": {
              "outlinewidth": 0,
              "ticks": ""
             }
            },
            "type": "scatterternary"
           }
          ],
          "surface": [
           {
            "colorbar": {
             "outlinewidth": 0,
             "ticks": ""
            },
            "colorscale": [
             [
              0,
              "#0d0887"
             ],
             [
              0.1111111111111111,
              "#46039f"
             ],
             [
              0.2222222222222222,
              "#7201a8"
             ],
             [
              0.3333333333333333,
              "#9c179e"
             ],
             [
              0.4444444444444444,
              "#bd3786"
             ],
             [
              0.5555555555555556,
              "#d8576b"
             ],
             [
              0.6666666666666666,
              "#ed7953"
             ],
             [
              0.7777777777777778,
              "#fb9f3a"
             ],
             [
              0.8888888888888888,
              "#fdca26"
             ],
             [
              1,
              "#f0f921"
             ]
            ],
            "type": "surface"
           }
          ],
          "table": [
           {
            "cells": {
             "fill": {
              "color": "#EBF0F8"
             },
             "line": {
              "color": "white"
             }
            },
            "header": {
             "fill": {
              "color": "#C8D4E3"
             },
             "line": {
              "color": "white"
             }
            },
            "type": "table"
           }
          ]
         },
         "layout": {
          "annotationdefaults": {
           "arrowcolor": "#2a3f5f",
           "arrowhead": 0,
           "arrowwidth": 1
          },
          "autotypenumbers": "strict",
          "coloraxis": {
           "colorbar": {
            "outlinewidth": 0,
            "ticks": ""
           }
          },
          "colorscale": {
           "diverging": [
            [
             0,
             "#8e0152"
            ],
            [
             0.1,
             "#c51b7d"
            ],
            [
             0.2,
             "#de77ae"
            ],
            [
             0.3,
             "#f1b6da"
            ],
            [
             0.4,
             "#fde0ef"
            ],
            [
             0.5,
             "#f7f7f7"
            ],
            [
             0.6,
             "#e6f5d0"
            ],
            [
             0.7,
             "#b8e186"
            ],
            [
             0.8,
             "#7fbc41"
            ],
            [
             0.9,
             "#4d9221"
            ],
            [
             1,
             "#276419"
            ]
           ],
           "sequential": [
            [
             0,
             "#0d0887"
            ],
            [
             0.1111111111111111,
             "#46039f"
            ],
            [
             0.2222222222222222,
             "#7201a8"
            ],
            [
             0.3333333333333333,
             "#9c179e"
            ],
            [
             0.4444444444444444,
             "#bd3786"
            ],
            [
             0.5555555555555556,
             "#d8576b"
            ],
            [
             0.6666666666666666,
             "#ed7953"
            ],
            [
             0.7777777777777778,
             "#fb9f3a"
            ],
            [
             0.8888888888888888,
             "#fdca26"
            ],
            [
             1,
             "#f0f921"
            ]
           ],
           "sequentialminus": [
            [
             0,
             "#0d0887"
            ],
            [
             0.1111111111111111,
             "#46039f"
            ],
            [
             0.2222222222222222,
             "#7201a8"
            ],
            [
             0.3333333333333333,
             "#9c179e"
            ],
            [
             0.4444444444444444,
             "#bd3786"
            ],
            [
             0.5555555555555556,
             "#d8576b"
            ],
            [
             0.6666666666666666,
             "#ed7953"
            ],
            [
             0.7777777777777778,
             "#fb9f3a"
            ],
            [
             0.8888888888888888,
             "#fdca26"
            ],
            [
             1,
             "#f0f921"
            ]
           ]
          },
          "colorway": [
           "#636efa",
           "#EF553B",
           "#00cc96",
           "#ab63fa",
           "#FFA15A",
           "#19d3f3",
           "#FF6692",
           "#B6E880",
           "#FF97FF",
           "#FECB52"
          ],
          "font": {
           "color": "#2a3f5f"
          },
          "geo": {
           "bgcolor": "white",
           "lakecolor": "white",
           "landcolor": "#E5ECF6",
           "showlakes": true,
           "showland": true,
           "subunitcolor": "white"
          },
          "hoverlabel": {
           "align": "left"
          },
          "hovermode": "closest",
          "mapbox": {
           "style": "light"
          },
          "paper_bgcolor": "white",
          "plot_bgcolor": "#E5ECF6",
          "polar": {
           "angularaxis": {
            "gridcolor": "white",
            "linecolor": "white",
            "ticks": ""
           },
           "bgcolor": "#E5ECF6",
           "radialaxis": {
            "gridcolor": "white",
            "linecolor": "white",
            "ticks": ""
           }
          },
          "scene": {
           "xaxis": {
            "backgroundcolor": "#E5ECF6",
            "gridcolor": "white",
            "gridwidth": 2,
            "linecolor": "white",
            "showbackground": true,
            "ticks": "",
            "zerolinecolor": "white"
           },
           "yaxis": {
            "backgroundcolor": "#E5ECF6",
            "gridcolor": "white",
            "gridwidth": 2,
            "linecolor": "white",
            "showbackground": true,
            "ticks": "",
            "zerolinecolor": "white"
           },
           "zaxis": {
            "backgroundcolor": "#E5ECF6",
            "gridcolor": "white",
            "gridwidth": 2,
            "linecolor": "white",
            "showbackground": true,
            "ticks": "",
            "zerolinecolor": "white"
           }
          },
          "shapedefaults": {
           "line": {
            "color": "#2a3f5f"
           }
          },
          "ternary": {
           "aaxis": {
            "gridcolor": "white",
            "linecolor": "white",
            "ticks": ""
           },
           "baxis": {
            "gridcolor": "white",
            "linecolor": "white",
            "ticks": ""
           },
           "bgcolor": "#E5ECF6",
           "caxis": {
            "gridcolor": "white",
            "linecolor": "white",
            "ticks": ""
           }
          },
          "title": {
           "x": 0.05
          },
          "xaxis": {
           "automargin": true,
           "gridcolor": "white",
           "linecolor": "white",
           "ticks": "",
           "title": {
            "standoff": 15
           },
           "zerolinecolor": "white",
           "zerolinewidth": 2
          },
          "yaxis": {
           "automargin": true,
           "gridcolor": "white",
           "linecolor": "white",
           "ticks": "",
           "title": {
            "standoff": 15
           },
           "zerolinecolor": "white",
           "zerolinewidth": 2
          }
         }
        },
        "title": {
         "text": "Scatter Plot of EV vs ZEV Percent Difference"
        },
        "xaxis": {
         "anchor": "y",
         "autorange": true,
         "domain": [
          0,
          1
         ],
         "range": [
          -1.1384672361407455,
          3.428842120463554
         ],
         "title": {
          "text": "ZEV percent difference"
         }
        },
        "yaxis": {
         "anchor": "x",
         "autorange": true,
         "domain": [
          0,
          1
         ],
         "range": [
          -0.1363812083092531,
          0.1132089074946593
         ],
         "title": {
          "text": "EV percent difference"
         }
        }
       }
      },
      "image/png": "[encoded data removed]",
      "text/html": [
       "<div>                            <div id=\"7fd39af2-089e-477f-b8f6-fcf37f6e706f\" class=\"plotly-graph-div\" style=\"height:525px; width:100%;\"></div>            <script type=\"text/javascript\">                require([\"plotly\"], function(Plotly) {                    window.PLOTLYENV=window.PLOTLYENV || {};                                    if (document.getElementById(\"7fd39af2-089e-477f-b8f6-fcf37f6e706f\")) {                    Plotly.newPlot(                        \"7fd39af2-089e-477f-b8f6-fcf37f6e706f\",                        [{\"hovertemplate\":\"geo=Austria\\u003cbr\\u003etime_period=2014\\u003cbr\\u003eZEV percent difference=%{x}\\u003cbr\\u003eEV percent difference=%{y}\\u003cextra\\u003e\\u003c\\u002fextra\\u003e\",\"legendgroup\":\"Austria, 2014\",\"marker\":{\"color\":\"#636efa\",\"symbol\":\"circle\"},\"mode\":\"markers\",\"name\":\"Austria, 2014\",\"orientation\":\"v\",\"showlegend\":true,\"x\":[null],\"xaxis\":\"x\",\"y\":[null],\"yaxis\":\"y\",\"type\":\"scatter\"},{\"hovertemplate\":\"geo=Austria\\u003cbr\\u003etime_period=2015\\u003cbr\\u003eZEV percent difference=%{x}\\u003cbr\\u003eEV percent difference=%{y}\\u003cextra\\u003e\\u003c\\u002fextra\\u003e\",\"legendgroup\":\"Austria, 2015\",\"marker\":{\"color\":\"#636efa\",\"symbol\":\"diamond\"},\"mode\":\"markers\",\"name\":\"Austria, 2015\",\"orientation\":\"v\",\"showlegend\":true,\"x\":[0.486574210681617],\"xaxis\":\"x\",\"y\":[0.0109725351974578],\"yaxis\":\"y\",\"type\":\"scatter\"},{\"hovertemplate\":\"geo=Austria\\u003cbr\\u003etime_period=2016\\u003cbr\\u003eZEV percent difference=%{x}\\u003cbr\\u003eEV percent difference=%{y}\\u003cextra\\u003e\\u003c\\u002fextra\\u003e\",\"legendgroup\":\"Austria, 2016\",\"marker\":{\"color\":\"#636efa\",\"symbol\":\"square\"},\"mode\":\"markers\",\"name\":\"Austria, 2016\",\"orientation\":\"v\",\"showlegend\":true,\"x\":[0.8034934497816594],\"xaxis\":\"x\",\"y\":[0.0146449195763871],\"yaxis\":\"y\",\"type\":\"scatter\"},{\"hovertemplate\":\"geo=Austria\\u003cbr\\u003etime_period=2017\\u003cbr\\u003eZEV percent difference=%{x}\\u003cbr\\u003eEV percent difference=%{y}\\u003cextra\\u003e\\u003c\\u002fextra\\u003e\",\"legendgroup\":\"Austria, 2017\",\"marker\":{\"color\":\"#636efa\",\"symbol\":\"x\"},\"mode\":\"markers\",\"name\":\"Austria, 2017\",\"orientation\":\"v\",\"showlegend\":true,\"x\":[0.610939907550077],\"xaxis\":\"x\",\"y\":[0.0148509985826408],\"yaxis\":\"y\",\"type\":\"scatter\"},{\"hovertemplate\":\"geo=Austria\\u003cbr\\u003etime_period=2018\\u003cbr\\u003eZEV percent difference=%{x}\\u003cbr\\u003eEV percent difference=%{y}\\u003cextra\\u003e\\u003c\\u002fextra\\u003e\",\"legendgroup\":\"Austria, 2018\",\"marker\":{\"color\":\"#636efa\",\"symbol\":\"cross\"},\"mode\":\"markers\",\"name\":\"Austria, 2018\",\"orientation\":\"v\",\"showlegend\":true,\"x\":[0.4248138279702125],\"xaxis\":\"x\",\"y\":[0.0151631643379803],\"yaxis\":\"y\",\"type\":\"scatter\"},{\"hovertemplate\":\"geo=Austria\\u003cbr\\u003etime_period=2019\\u003cbr\\u003eZEV percent difference=%{x}\\u003cbr\\u003eEV percent difference=%{y}\\u003cextra\\u003e\\u003c\\u002fextra\\u003e\",\"legendgroup\":\"Austria, 2019\",\"marker\":{\"color\":\"#636efa\",\"symbol\":\"circle\"},\"mode\":\"markers\",\"name\":\"Austria, 2019\",\"orientation\":\"v\",\"showlegend\":true,\"x\":[0.4175976983936705],\"xaxis\":\"x\",\"y\":[0.0104854843599138],\"yaxis\":\"y\",\"type\":\"scatter\"},{\"hovertemplate\":\"geo=Austria\\u003cbr\\u003etime_period=2020\\u003cbr\\u003eZEV percent difference=%{x}\\u003cbr\\u003eEV percent difference=%{y}\\u003cextra\\u003e\\u003c\\u002fextra\\u003e\",\"legendgroup\":\"Austria, 2020\",\"marker\":{\"color\":\"#636efa\",\"symbol\":\"diamond\"},\"mode\":\"markers\",\"name\":\"Austria, 2020\",\"orientation\":\"v\",\"showlegend\":true,\"x\":[0.5069679339737518],\"xaxis\":\"x\",\"y\":[0.00744333714439],\"yaxis\":\"y\",\"type\":\"scatter\"},{\"hovertemplate\":\"geo=Austria\\u003cbr\\u003etime_period=2021\\u003cbr\\u003eZEV percent difference=%{x}\\u003cbr\\u003eEV percent difference=%{y}\\u003cextra\\u003e\\u003c\\u002fextra\\u003e\",\"legendgroup\":\"Austria, 2021\",\"marker\":{\"color\":\"#636efa\",\"symbol\":\"square\"},\"mode\":\"markers\",\"name\":\"Austria, 2021\",\"orientation\":\"v\",\"showlegend\":true,\"x\":[0.7192045250493805],\"xaxis\":\"x\",\"y\":[0.0019747289378922],\"yaxis\":\"y\",\"type\":\"scatter\"},{\"hovertemplate\":\"geo=Austria\\u003cbr\\u003etime_period=2022\\u003cbr\\u003eZEV percent difference=%{x}\\u003cbr\\u003eEV percent difference=%{y}\\u003cextra\\u003e\\u003c\\u002fextra\\u003e\",\"legendgroup\":\"Austria, 2022\",\"marker\":{\"color\":\"#636efa\",\"symbol\":\"x\"},\"mode\":\"markers\",\"name\":\"Austria, 2022\",\"orientation\":\"v\",\"showlegend\":true,\"x\":[0.439890853069431],\"xaxis\":\"x\",\"y\":[-0.0032901332386308],\"yaxis\":\"y\",\"type\":\"scatter\"},{\"hovertemplate\":\"geo=Austria\\u003cbr\\u003etime_period=2023\\u003cbr\\u003eZEV percent difference=%{x}\\u003cbr\\u003eEV percent difference=%{y}\\u003cextra\\u003e\\u003c\\u002fextra\\u003e\",\"legendgroup\":\"Austria, 2023\",\"marker\":{\"color\":\"#636efa\",\"symbol\":\"cross\"},\"mode\":\"markers\",\"name\":\"Austria, 2023\",\"orientation\":\"v\",\"showlegend\":true,\"x\":[0.410474489287042],\"xaxis\":\"x\",\"y\":[-0.0022128304887331],\"yaxis\":\"y\",\"type\":\"scatter\"},{\"hovertemplate\":\"geo=Belgium\\u003cbr\\u003etime_period=2014\\u003cbr\\u003eZEV percent difference=%{x}\\u003cbr\\u003eEV percent difference=%{y}\\u003cextra\\u003e\\u003c\\u002fextra\\u003e\",\"legendgroup\":\"Belgium, 2014\",\"marker\":{\"color\":\"#EF553B\",\"symbol\":\"circle\"},\"mode\":\"markers\",\"name\":\"Belgium, 2014\",\"orientation\":\"v\",\"showlegend\":true,\"x\":[null],\"xaxis\":\"x\",\"y\":[null],\"yaxis\":\"y\",\"type\":\"scatter\"},{\"hovertemplate\":\"geo=Belgium\\u003cbr\\u003etime_period=2015\\u003cbr\\u003eZEV percent difference=%{x}\\u003cbr\\u003eEV percent difference=%{y}\\u003cextra\\u003e\\u003c\\u002fextra\\u003e\",\"legendgroup\":\"Belgium, 2015\",\"marker\":{\"color\":\"#EF553B\",\"symbol\":\"diamond\"},\"mode\":\"markers\",\"name\":\"Belgium, 2015\",\"orientation\":\"v\",\"showlegend\":true,\"x\":[0.4816964285714286],\"xaxis\":\"x\",\"y\":[0.0136660426873505],\"yaxis\":\"y\",\"type\":\"scatter\"},{\"hovertemplate\":\"geo=Belgium\\u003cbr\\u003etime_period=2016\\u003cbr\\u003eZEV percent difference=%{x}\\u003cbr\\u003eEV percent difference=%{y}\\u003cextra\\u003e\\u003c\\u002fextra\\u003e\",\"legendgroup\":\"Belgium, 2016\",\"marker\":{\"color\":\"#EF553B\",\"symbol\":\"square\"},\"mode\":\"markers\",\"name\":\"Belgium, 2016\",\"orientation\":\"v\",\"showlegend\":true,\"x\":[0.5703525158180175],\"xaxis\":\"x\",\"y\":[0.0119001756574785],\"yaxis\":\"y\",\"type\":\"scatter\"},{\"hovertemplate\":\"geo=Belgium\\u003cbr\\u003etime_period=2017\\u003cbr\\u003eZEV percent difference=%{x}\\u003cbr\\u003eEV percent difference=%{y}\\u003cextra\\u003e\\u003c\\u002fextra\\u003e\",\"legendgroup\":\"Belgium, 2017\",\"marker\":{\"color\":\"#EF553B\",\"symbol\":\"x\"},\"mode\":\"markers\",\"name\":\"Belgium, 2017\",\"orientation\":\"v\",\"showlegend\":true,\"x\":[0.4508825786646201],\"xaxis\":\"x\",\"y\":[0.0114034383033419],\"yaxis\":\"y\",\"type\":\"scatter\"},{\"hovertemplate\":\"geo=Belgium\\u003cbr\\u003etime_period=2018\\u003cbr\\u003eZEV percent difference=%{x}\\u003cbr\\u003eEV percent difference=%{y}\\u003cextra\\u003e\\u003c\\u002fextra\\u003e\",\"legendgroup\":\"Belgium, 2018\",\"marker\":{\"color\":\"#EF553B\",\"symbol\":\"cross\"},\"mode\":\"markers\",\"name\":\"Belgium, 2018\",\"orientation\":\"v\",\"showlegend\":true,\"x\":[0.441549854535837],\"xaxis\":\"x\",\"y\":[0.0079682258640734],\"yaxis\":\"y\",\"type\":\"scatter\"},{\"hovertemplate\":\"geo=Belgium\\u003cbr\\u003etime_period=2019\\u003cbr\\u003eZEV percent difference=%{x}\\u003cbr\\u003eEV percent difference=%{y}\\u003cextra\\u003e\\u003c\\u002fextra\\u003e\",\"legendgroup\":\"Belgium, 2019\",\"marker\":{\"color\":\"#EF553B\",\"symbol\":\"circle\"},\"mode\":\"markers\",\"name\":\"Belgium, 2019\",\"orientation\":\"v\",\"showlegend\":true,\"x\":[0.7184661957618567],\"xaxis\":\"x\",\"y\":[0.0043883331357609],\"yaxis\":\"y\",\"type\":\"scatter\"},{\"hovertemplate\":\"geo=Belgium\\u003cbr\\u003etime_period=2020\\u003cbr\\u003eZEV percent difference=%{x}\\u003cbr\\u003eEV percent difference=%{y}\\u003cextra\\u003e\\u003c\\u002fextra\\u003e\",\"legendgroup\":\"Belgium, 2020\",\"marker\":{\"color\":\"#EF553B\",\"symbol\":\"diamond\"},\"mode\":\"markers\",\"name\":\"Belgium, 2020\",\"orientation\":\"v\",\"showlegend\":true,\"x\":[0.6971654299898574],\"xaxis\":\"x\",\"y\":[0.0004356026914583],\"yaxis\":\"y\",\"type\":\"scatter\"},{\"hovertemplate\":\"geo=Belgium\\u003cbr\\u003etime_period=2021\\u003cbr\\u003eZEV percent difference=%{x}\\u003cbr\\u003eEV percent difference=%{y}\\u003cextra\\u003e\\u003c\\u002fextra\\u003e\",\"legendgroup\":\"Belgium, 2021\",\"marker\":{\"color\":\"#EF553B\",\"symbol\":\"square\"},\"mode\":\"markers\",\"name\":\"Belgium, 2021\",\"orientation\":\"v\",\"showlegend\":true,\"x\":[0.6480357311357846],\"xaxis\":\"x\",\"y\":[0.0013498826652255],\"yaxis\":\"y\",\"type\":\"scatter\"},{\"hovertemplate\":\"geo=Belgium\\u003cbr\\u003etime_period=2022\\u003cbr\\u003eZEV percent difference=%{x}\\u003cbr\\u003eEV percent difference=%{y}\\u003cextra\\u003e\\u003c\\u002fextra\\u003e\",\"legendgroup\":\"Belgium, 2022\",\"marker\":{\"color\":\"#EF553B\",\"symbol\":\"x\"},\"mode\":\"markers\",\"name\":\"Belgium, 2022\",\"orientation\":\"v\",\"showlegend\":true,\"x\":[0.71461561951294],\"xaxis\":\"x\",\"y\":[-0.0014173558932125],\"yaxis\":\"y\",\"type\":\"scatter\"},{\"hovertemplate\":\"geo=Belgium\\u003cbr\\u003etime_period=2023\\u003cbr\\u003eZEV percent difference=%{x}\\u003cbr\\u003eEV percent difference=%{y}\\u003cextra\\u003e\\u003c\\u002fextra\\u003e\",\"legendgroup\":\"Belgium, 2023\",\"marker\":{\"color\":\"#EF553B\",\"symbol\":\"cross\"},\"mode\":\"markers\",\"name\":\"Belgium, 2023\",\"orientation\":\"v\",\"showlegend\":true,\"x\":[1.0200135798483954],\"xaxis\":\"x\",\"y\":[0.0001341792593986],\"yaxis\":\"y\",\"type\":\"scatter\"},{\"hovertemplate\":\"geo=Bulgaria\\u003cbr\\u003etime_period=2014\\u003cbr\\u003eZEV percent difference=%{x}\\u003cbr\\u003eEV percent difference=%{y}\\u003cextra\\u003e\\u003c\\u002fextra\\u003e\",\"legendgroup\":\"Bulgaria, 2014\",\"marker\":{\"color\":\"#00cc96\",\"symbol\":\"circle\"},\"mode\":\"markers\",\"name\":\"Bulgaria, 2014\",\"orientation\":\"v\",\"showlegend\":true,\"x\":[null],\"xaxis\":\"x\",\"y\":[null],\"yaxis\":\"y\",\"type\":\"scatter\"},{\"hovertemplate\":\"geo=Bulgaria\\u003cbr\\u003etime_period=2015\\u003cbr\\u003eZEV percent difference=%{x}\\u003cbr\\u003eEV percent difference=%{y}\\u003cextra\\u003e\\u003c\\u002fextra\\u003e\",\"legendgroup\":\"Bulgaria, 2015\",\"marker\":{\"color\":\"#00cc96\",\"symbol\":\"diamond\"},\"mode\":\"markers\",\"name\":\"Bulgaria, 2015\",\"orientation\":\"v\",\"showlegend\":true,\"x\":[0.2448979591836734],\"xaxis\":\"x\",\"y\":[0.0491545985089504],\"yaxis\":\"y\",\"type\":\"scatter\"},{\"hovertemplate\":\"geo=Bulgaria\\u003cbr\\u003etime_period=2016\\u003cbr\\u003eZEV percent difference=%{x}\\u003cbr\\u003eEV percent difference=%{y}\\u003cextra\\u003e\\u003c\\u002fextra\\u003e\",\"legendgroup\":\"Bulgaria, 2016\",\"marker\":{\"color\":\"#00cc96\",\"symbol\":\"square\"},\"mode\":\"markers\",\"name\":\"Bulgaria, 2016\",\"orientation\":\"v\",\"showlegend\":true,\"x\":[0.174863387978142],\"xaxis\":\"x\",\"y\":[-0.005851313817779],\"yaxis\":\"y\",\"type\":\"scatter\"},{\"hovertemplate\":\"geo=Bulgaria\\u003cbr\\u003etime_period=2017\\u003cbr\\u003eZEV percent difference=%{x}\\u003cbr\\u003eEV percent difference=%{y}\\u003cextra\\u003e\\u003c\\u002fextra\\u003e\",\"legendgroup\":\"Bulgaria, 2017\",\"marker\":{\"color\":\"#00cc96\",\"symbol\":\"x\"},\"mode\":\"markers\",\"name\":\"Bulgaria, 2017\",\"orientation\":\"v\",\"showlegend\":true,\"x\":[0.786046511627907],\"xaxis\":\"x\",\"y\":[-0.1187019084398093],\"yaxis\":\"y\",\"type\":\"scatter\"},{\"hovertemplate\":\"geo=Bulgaria\\u003cbr\\u003etime_period=2018\\u003cbr\\u003eZEV percent difference=%{x}\\u003cbr\\u003eEV percent difference=%{y}\\u003cextra\\u003e\\u003c\\u002fextra\\u003e\",\"legendgroup\":\"Bulgaria, 2018\",\"marker\":{\"color\":\"#00cc96\",\"symbol\":\"cross\"},\"mode\":\"markers\",\"name\":\"Bulgaria, 2018\",\"orientation\":\"v\",\"showlegend\":true,\"x\":[0.8489583333333334],\"xaxis\":\"x\",\"y\":[0.0008605780528771],\"yaxis\":\"y\",\"type\":\"scatter\"},{\"hovertemplate\":\"geo=Bulgaria\\u003cbr\\u003etime_period=2019\\u003cbr\\u003eZEV percent difference=%{x}\\u003cbr\\u003eEV percent difference=%{y}\\u003cextra\\u003e\\u003c\\u002fextra\\u003e\",\"legendgroup\":\"Bulgaria, 2019\",\"marker\":{\"color\":\"#00cc96\",\"symbol\":\"circle\"},\"mode\":\"markers\",\"name\":\"Bulgaria, 2019\",\"orientation\":\"v\",\"showlegend\":true,\"x\":[0.6690140845070423],\"xaxis\":\"x\",\"y\":[0.0202501970161742],\"yaxis\":\"y\",\"type\":\"scatter\"},{\"hovertemplate\":\"geo=Bulgaria\\u003cbr\\u003etime_period=2020\\u003cbr\\u003eZEV percent difference=%{x}\\u003cbr\\u003eEV percent difference=%{y}\\u003cextra\\u003e\\u003c\\u002fextra\\u003e\",\"legendgroup\":\"Bulgaria, 2020\",\"marker\":{\"color\":\"#00cc96\",\"symbol\":\"diamond\"},\"mode\":\"markers\",\"name\":\"Bulgaria, 2020\",\"orientation\":\"v\",\"showlegend\":true,\"x\":[0.6312236286919831],\"xaxis\":\"x\",\"y\":[0.0127508121046634],\"yaxis\":\"y\",\"type\":\"scatter\"},{\"hovertemplate\":\"geo=Bulgaria\\u003cbr\\u003etime_period=2021\\u003cbr\\u003eZEV percent difference=%{x}\\u003cbr\\u003eEV percent difference=%{y}\\u003cextra\\u003e\\u003c\\u002fextra\\u003e\",\"legendgroup\":\"Bulgaria, 2021\",\"marker\":{\"color\":\"#00cc96\",\"symbol\":\"square\"},\"mode\":\"markers\",\"name\":\"Bulgaria, 2021\",\"orientation\":\"v\",\"showlegend\":true,\"x\":[0.7428867046042421],\"xaxis\":\"x\",\"y\":[-0.0131718112418537],\"yaxis\":\"y\",\"type\":\"scatter\"},{\"hovertemplate\":\"geo=Bulgaria\\u003cbr\\u003etime_period=2022\\u003cbr\\u003eZEV percent difference=%{x}\\u003cbr\\u003eEV percent difference=%{y}\\u003cextra\\u003e\\u003c\\u002fextra\\u003e\",\"legendgroup\":\"Bulgaria, 2022\",\"marker\":{\"color\":\"#00cc96\",\"symbol\":\"x\"},\"mode\":\"markers\",\"name\":\"Bulgaria, 2022\",\"orientation\":\"v\",\"showlegend\":true,\"x\":[0.8679133273968537],\"xaxis\":\"x\",\"y\":[0.0224219561068871],\"yaxis\":\"y\",\"type\":\"scatter\"},{\"hovertemplate\":\"geo=Bulgaria\\u003cbr\\u003etime_period=2023\\u003cbr\\u003eZEV percent difference=%{x}\\u003cbr\\u003eEV percent difference=%{y}\\u003cextra\\u003e\\u003c\\u002fextra\\u003e\",\"legendgroup\":\"Bulgaria, 2023\",\"marker\":{\"color\":\"#00cc96\",\"symbol\":\"cross\"},\"mode\":\"markers\",\"name\":\"Bulgaria, 2023\",\"orientation\":\"v\",\"showlegend\":true,\"x\":[0.8231368186874305],\"xaxis\":\"x\",\"y\":[0.0360693918388754],\"yaxis\":\"y\",\"type\":\"scatter\"},{\"hovertemplate\":\"geo=Croatia\\u003cbr\\u003etime_period=2014\\u003cbr\\u003eZEV percent difference=%{x}\\u003cbr\\u003eEV percent difference=%{y}\\u003cextra\\u003e\\u003c\\u002fextra\\u003e\",\"legendgroup\":\"Croatia, 2014\",\"marker\":{\"color\":\"#ab63fa\",\"symbol\":\"circle\"},\"mode\":\"markers\",\"name\":\"Croatia, 2014\",\"orientation\":\"v\",\"showlegend\":true,\"x\":[null],\"xaxis\":\"x\",\"y\":[null],\"yaxis\":\"y\",\"type\":\"scatter\"},{\"hovertemplate\":\"geo=Croatia\\u003cbr\\u003etime_period=2015\\u003cbr\\u003eZEV percent difference=%{x}\\u003cbr\\u003eEV percent difference=%{y}\\u003cextra\\u003e\\u003c\\u002fextra\\u003e\",\"legendgroup\":\"Croatia, 2015\",\"marker\":{\"color\":\"#ab63fa\",\"symbol\":\"diamond\"},\"mode\":\"markers\",\"name\":\"Croatia, 2015\",\"orientation\":\"v\",\"showlegend\":true,\"x\":[3.1794871794871797],\"xaxis\":\"x\",\"y\":[0.0170795194973603],\"yaxis\":\"y\",\"type\":\"scatter\"},{\"hovertemplate\":\"geo=Croatia\\u003cbr\\u003etime_period=2016\\u003cbr\\u003eZEV percent difference=%{x}\\u003cbr\\u003eEV percent difference=%{y}\\u003cextra\\u003e\\u003c\\u002fextra\\u003e\",\"legendgroup\":\"Croatia, 2016\",\"marker\":{\"color\":\"#ab63fa\",\"symbol\":\"square\"},\"mode\":\"markers\",\"name\":\"Croatia, 2016\",\"orientation\":\"v\",\"showlegend\":true,\"x\":[0.4355828220858895],\"xaxis\":\"x\",\"y\":[0.0353625105775456],\"yaxis\":\"y\",\"type\":\"scatter\"},{\"hovertemplate\":\"geo=Croatia\\u003cbr\\u003etime_period=2017\\u003cbr\\u003eZEV percent difference=%{x}\\u003cbr\\u003eEV percent difference=%{y}\\u003cextra\\u003e\\u003c\\u002fextra\\u003e\",\"legendgroup\":\"Croatia, 2017\",\"marker\":{\"color\":\"#ab63fa\",\"symbol\":\"x\"},\"mode\":\"markers\",\"name\":\"Croatia, 2017\",\"orientation\":\"v\",\"showlegend\":true,\"x\":[0.2222222222222222],\"xaxis\":\"x\",\"y\":[0.027778600732931],\"yaxis\":\"y\",\"type\":\"scatter\"},{\"hovertemplate\":\"geo=Croatia\\u003cbr\\u003etime_period=2018\\u003cbr\\u003eZEV percent difference=%{x}\\u003cbr\\u003eEV percent difference=%{y}\\u003cextra\\u003e\\u003c\\u002fextra\\u003e\",\"legendgroup\":\"Croatia, 2018\",\"marker\":{\"color\":\"#ab63fa\",\"symbol\":\"cross\"},\"mode\":\"markers\",\"name\":\"Croatia, 2018\",\"orientation\":\"v\",\"showlegend\":true,\"x\":[0.6153846153846154],\"xaxis\":\"x\",\"y\":[0.0439591152029607],\"yaxis\":\"y\",\"type\":\"scatter\"},{\"hovertemplate\":\"geo=Croatia\\u003cbr\\u003etime_period=2019\\u003cbr\\u003eZEV percent difference=%{x}\\u003cbr\\u003eEV percent difference=%{y}\\u003cextra\\u003e\\u003c\\u002fextra\\u003e\",\"legendgroup\":\"Croatia, 2019\",\"marker\":{\"color\":\"#ab63fa\",\"symbol\":\"circle\"},\"mode\":\"markers\",\"name\":\"Croatia, 2019\",\"orientation\":\"v\",\"showlegend\":true,\"x\":[0.5714285714285714],\"xaxis\":\"x\",\"y\":[0.0349488070177334],\"yaxis\":\"y\",\"type\":\"scatter\"},{\"hovertemplate\":\"geo=Croatia\\u003cbr\\u003etime_period=2020\\u003cbr\\u003eZEV percent difference=%{x}\\u003cbr\\u003eEV percent difference=%{y}\\u003cextra\\u003e\\u003c\\u002fextra\\u003e\",\"legendgroup\":\"Croatia, 2020\",\"marker\":{\"color\":\"#ab63fa\",\"symbol\":\"diamond\"},\"mode\":\"markers\",\"name\":\"Croatia, 2020\",\"orientation\":\"v\",\"showlegend\":true,\"x\":[0.8099173553719008],\"xaxis\":\"x\",\"y\":[0.0120620076627996],\"yaxis\":\"y\",\"type\":\"scatter\"},{\"hovertemplate\":\"geo=Croatia\\u003cbr\\u003etime_period=2021\\u003cbr\\u003eZEV percent difference=%{x}\\u003cbr\\u003eEV percent difference=%{y}\\u003cextra\\u003e\\u003c\\u002fextra\\u003e\",\"legendgroup\":\"Croatia, 2021\",\"marker\":{\"color\":\"#ab63fa\",\"symbol\":\"square\"},\"mode\":\"markers\",\"name\":\"Croatia, 2021\",\"orientation\":\"v\",\"showlegend\":true,\"x\":[1.265601217656012],\"xaxis\":\"x\",\"y\":[0.0272308250394992],\"yaxis\":\"y\",\"type\":\"scatter\"},{\"hovertemplate\":\"geo=Croatia\\u003cbr\\u003etime_period=2022\\u003cbr\\u003eZEV percent difference=%{x}\\u003cbr\\u003eEV percent difference=%{y}\\u003cextra\\u003e\\u003c\\u002fextra\\u003e\",\"legendgroup\":\"Croatia, 2022\",\"marker\":{\"color\":\"#ab63fa\",\"symbol\":\"x\"},\"mode\":\"markers\",\"name\":\"Croatia, 2022\",\"orientation\":\"v\",\"showlegend\":true,\"x\":[0.6130332549546523],\"xaxis\":\"x\",\"y\":[0.0242551135628244],\"yaxis\":\"y\",\"type\":\"scatter\"},{\"hovertemplate\":\"geo=Croatia\\u003cbr\\u003etime_period=2023\\u003cbr\\u003eZEV percent difference=%{x}\\u003cbr\\u003eEV percent difference=%{y}\\u003cextra\\u003e\\u003c\\u002fextra\\u003e\",\"legendgroup\":\"Croatia, 2023\",\"marker\":{\"color\":\"#ab63fa\",\"symbol\":\"cross\"},\"mode\":\"markers\",\"name\":\"Croatia, 2023\",\"orientation\":\"v\",\"showlegend\":true,\"x\":[0.4700124947938359],\"xaxis\":\"x\",\"y\":[0.036551350379773],\"yaxis\":\"y\",\"type\":\"scatter\"},{\"hovertemplate\":\"geo=Cyprus\\u003cbr\\u003etime_period=2014\\u003cbr\\u003eZEV percent difference=%{x}\\u003cbr\\u003eEV percent difference=%{y}\\u003cextra\\u003e\\u003c\\u002fextra\\u003e\",\"legendgroup\":\"Cyprus, 2014\",\"marker\":{\"color\":\"#FFA15A\",\"symbol\":\"circle\"},\"mode\":\"markers\",\"name\":\"Cyprus, 2014\",\"orientation\":\"v\",\"showlegend\":true,\"x\":[null],\"xaxis\":\"x\",\"y\":[null],\"yaxis\":\"y\",\"type\":\"scatter\"},{\"hovertemplate\":\"geo=Cyprus\\u003cbr\\u003etime_period=2015\\u003cbr\\u003eZEV percent difference=%{x}\\u003cbr\\u003eEV percent difference=%{y}\\u003cextra\\u003e\\u003c\\u002fextra\\u003e\",\"legendgroup\":\"Cyprus, 2015\",\"marker\":{\"color\":\"#FFA15A\",\"symbol\":\"diamond\"},\"mode\":\"markers\",\"name\":\"Cyprus, 2015\",\"orientation\":\"v\",\"showlegend\":true,\"x\":[0.5333333333333333],\"xaxis\":\"x\",\"y\":[0.0192109547585359],\"yaxis\":\"y\",\"type\":\"scatter\"},{\"hovertemplate\":\"geo=Cyprus\\u003cbr\\u003etime_period=2016\\u003cbr\\u003eZEV percent difference=%{x}\\u003cbr\\u003eEV percent difference=%{y}\\u003cextra\\u003e\\u003c\\u002fextra\\u003e\",\"legendgroup\":\"Cyprus, 2016\",\"marker\":{\"color\":\"#FFA15A\",\"symbol\":\"square\"},\"mode\":\"markers\",\"name\":\"Cyprus, 2016\",\"orientation\":\"v\",\"showlegend\":true,\"x\":[0.7391304347826086],\"xaxis\":\"x\",\"y\":[0.0421905021643778],\"yaxis\":\"y\",\"type\":\"scatter\"},{\"hovertemplate\":\"geo=Cyprus\\u003cbr\\u003etime_period=2017\\u003cbr\\u003eZEV percent difference=%{x}\\u003cbr\\u003eEV percent difference=%{y}\\u003cextra\\u003e\\u003c\\u002fextra\\u003e\",\"legendgroup\":\"Cyprus, 2017\",\"marker\":{\"color\":\"#FFA15A\",\"symbol\":\"x\"},\"mode\":\"markers\",\"name\":\"Cyprus, 2017\",\"orientation\":\"v\",\"showlegend\":true,\"x\":[1.175],\"xaxis\":\"x\",\"y\":[0.0359787818449406],\"yaxis\":\"y\",\"type\":\"scatter\"},{\"hovertemplate\":\"geo=Cyprus\\u003cbr\\u003etime_period=2018\\u003cbr\\u003eZEV percent difference=%{x}\\u003cbr\\u003eEV percent difference=%{y}\\u003cextra\\u003e\\u003c\\u002fextra\\u003e\",\"legendgroup\":\"Cyprus, 2018\",\"marker\":{\"color\":\"#FFA15A\",\"symbol\":\"cross\"},\"mode\":\"markers\",\"name\":\"Cyprus, 2018\",\"orientation\":\"v\",\"showlegend\":true,\"x\":[0.3103448275862069],\"xaxis\":\"x\",\"y\":[0.0456783089282661],\"yaxis\":\"y\",\"type\":\"scatter\"},{\"hovertemplate\":\"geo=Cyprus\\u003cbr\\u003etime_period=2019\\u003cbr\\u003eZEV percent difference=%{x}\\u003cbr\\u003eEV percent difference=%{y}\\u003cextra\\u003e\\u003c\\u002fextra\\u003e\",\"legendgroup\":\"Cyprus, 2019\",\"marker\":{\"color\":\"#FFA15A\",\"symbol\":\"circle\"},\"mode\":\"markers\",\"name\":\"Cyprus, 2019\",\"orientation\":\"v\",\"showlegend\":true,\"x\":[0.4649122807017544],\"xaxis\":\"x\",\"y\":[0.0395091730372097],\"yaxis\":\"y\",\"type\":\"scatter\"},{\"hovertemplate\":\"geo=Cyprus\\u003cbr\\u003etime_period=2020\\u003cbr\\u003eZEV percent difference=%{x}\\u003cbr\\u003eEV percent difference=%{y}\\u003cextra\\u003e\\u003c\\u002fextra\\u003e\",\"legendgroup\":\"Cyprus, 2020\",\"marker\":{\"color\":\"#FFA15A\",\"symbol\":\"diamond\"},\"mode\":\"markers\",\"name\":\"Cyprus, 2020\",\"orientation\":\"v\",\"showlegend\":true,\"x\":[0.437125748502994],\"xaxis\":\"x\",\"y\":[0.0097565407611639],\"yaxis\":\"y\",\"type\":\"scatter\"},{\"hovertemplate\":\"geo=Cyprus\\u003cbr\\u003etime_period=2021\\u003cbr\\u003eZEV percent difference=%{x}\\u003cbr\\u003eEV percent difference=%{y}\\u003cextra\\u003e\\u003c\\u002fextra\\u003e\",\"legendgroup\":\"Cyprus, 2021\",\"marker\":{\"color\":\"#FFA15A\",\"symbol\":\"square\"},\"mode\":\"markers\",\"name\":\"Cyprus, 2021\",\"orientation\":\"v\",\"showlegend\":true,\"x\":[0.3875],\"xaxis\":\"x\",\"y\":[0.0240605068539135],\"yaxis\":\"y\",\"type\":\"scatter\"},{\"hovertemplate\":\"geo=Cyprus\\u003cbr\\u003etime_period=2022\\u003cbr\\u003eZEV percent difference=%{x}\\u003cbr\\u003eEV percent difference=%{y}\\u003cextra\\u003e\\u003c\\u002fextra\\u003e\",\"legendgroup\":\"Cyprus, 2022\",\"marker\":{\"color\":\"#FFA15A\",\"symbol\":\"x\"},\"mode\":\"markers\",\"name\":\"Cyprus, 2022\",\"orientation\":\"v\",\"showlegend\":true,\"x\":[1.4924924924924925],\"xaxis\":\"x\",\"y\":[0.0143252289958315],\"yaxis\":\"y\",\"type\":\"scatter\"},{\"hovertemplate\":\"geo=Cyprus\\u003cbr\\u003etime_period=2023\\u003cbr\\u003eZEV percent difference=%{x}\\u003cbr\\u003eEV percent difference=%{y}\\u003cextra\\u003e\\u003c\\u002fextra\\u003e\",\"legendgroup\":\"Cyprus, 2023\",\"marker\":{\"color\":\"#FFA15A\",\"symbol\":\"cross\"},\"mode\":\"markers\",\"name\":\"Cyprus, 2023\",\"orientation\":\"v\",\"showlegend\":true,\"x\":[0.5096385542168674],\"xaxis\":\"x\",\"y\":[0.0325869855289263],\"yaxis\":\"y\",\"type\":\"scatter\"},{\"hovertemplate\":\"geo=Czech Republic\\u003cbr\\u003etime_period=2014\\u003cbr\\u003eZEV percent difference=%{x}\\u003cbr\\u003eEV percent difference=%{y}\\u003cextra\\u003e\\u003c\\u002fextra\\u003e\",\"legendgroup\":\"Czech Republic, 2014\",\"marker\":{\"color\":\"#19d3f3\",\"symbol\":\"circle\"},\"mode\":\"markers\",\"name\":\"Czech Republic, 2014\",\"orientation\":\"v\",\"showlegend\":true,\"x\":[null],\"xaxis\":\"x\",\"y\":[null],\"yaxis\":\"y\",\"type\":\"scatter\"},{\"hovertemplate\":\"geo=Czech Republic\\u003cbr\\u003etime_period=2015\\u003cbr\\u003eZEV percent difference=%{x}\\u003cbr\\u003eEV percent difference=%{y}\\u003cextra\\u003e\\u003c\\u002fextra\\u003e\",\"legendgroup\":\"Czech Republic, 2015\",\"marker\":{\"color\":\"#19d3f3\",\"symbol\":\"diamond\"},\"mode\":\"markers\",\"name\":\"Czech Republic, 2015\",\"orientation\":\"v\",\"showlegend\":true,\"x\":[0.709832134292566],\"xaxis\":\"x\",\"y\":[0.0582734960642205],\"yaxis\":\"y\",\"type\":\"scatter\"},{\"hovertemplate\":\"geo=Czech Republic\\u003cbr\\u003etime_period=2016\\u003cbr\\u003eZEV percent difference=%{x}\\u003cbr\\u003eEV percent difference=%{y}\\u003cextra\\u003e\\u003c\\u002fextra\\u003e\",\"legendgroup\":\"Czech Republic, 2016\",\"marker\":{\"color\":\"#19d3f3\",\"symbol\":\"square\"},\"mode\":\"markers\",\"name\":\"Czech Republic, 2016\",\"orientation\":\"v\",\"showlegend\":true,\"x\":[0.3660589060308555],\"xaxis\":\"x\",\"y\":[0.0375847353157224],\"yaxis\":\"y\",\"type\":\"scatter\"},{\"hovertemplate\":\"geo=Czech Republic\\u003cbr\\u003etime_period=2017\\u003cbr\\u003eZEV percent difference=%{x}\\u003cbr\\u003eEV percent difference=%{y}\\u003cextra\\u003e\\u003c\\u002fextra\\u003e\",\"legendgroup\":\"Czech Republic, 2017\",\"marker\":{\"color\":\"#19d3f3\",\"symbol\":\"x\"},\"mode\":\"markers\",\"name\":\"Czech Republic, 2017\",\"orientation\":\"v\",\"showlegend\":true,\"x\":[0.5657084188911704],\"xaxis\":\"x\",\"y\":[0.0433145261374295],\"yaxis\":\"y\",\"type\":\"scatter\"},{\"hovertemplate\":\"geo=Czech Republic\\u003cbr\\u003etime_period=2018\\u003cbr\\u003eZEV percent difference=%{x}\\u003cbr\\u003eEV percent difference=%{y}\\u003cextra\\u003e\\u003c\\u002fextra\\u003e\",\"legendgroup\":\"Czech Republic, 2018\",\"marker\":{\"color\":\"#19d3f3\",\"symbol\":\"cross\"},\"mode\":\"markers\",\"name\":\"Czech Republic, 2018\",\"orientation\":\"v\",\"showlegend\":true,\"x\":[1.2327868852459016],\"xaxis\":\"x\",\"y\":[0.0375333885889005],\"yaxis\":\"y\",\"type\":\"scatter\"},{\"hovertemplate\":\"geo=Czech Republic\\u003cbr\\u003etime_period=2019\\u003cbr\\u003eZEV percent difference=%{x}\\u003cbr\\u003eEV percent difference=%{y}\\u003cextra\\u003e\\u003c\\u002fextra\\u003e\",\"legendgroup\":\"Czech Republic, 2019\",\"marker\":{\"color\":\"#19d3f3\",\"symbol\":\"circle\"},\"mode\":\"markers\",\"name\":\"Czech Republic, 2019\",\"orientation\":\"v\",\"showlegend\":true,\"x\":[0.4537444933920704],\"xaxis\":\"x\",\"y\":[0.0305573601777558],\"yaxis\":\"y\",\"type\":\"scatter\"},{\"hovertemplate\":\"geo=Czech Republic\\u003cbr\\u003etime_period=2020\\u003cbr\\u003eZEV percent difference=%{x}\\u003cbr\\u003eEV percent difference=%{y}\\u003cextra\\u003e\\u003c\\u002fextra\\u003e\",\"legendgroup\":\"Czech Republic, 2020\",\"marker\":{\"color\":\"#19d3f3\",\"symbol\":\"diamond\"},\"mode\":\"markers\",\"name\":\"Czech Republic, 2020\",\"orientation\":\"v\",\"showlegend\":true,\"x\":[0.6383838383838384],\"xaxis\":\"x\",\"y\":[0.0204559255884034],\"yaxis\":\"y\",\"type\":\"scatter\"},{\"hovertemplate\":\"geo=Czech Republic\\u003cbr\\u003etime_period=2021\\u003cbr\\u003eZEV percent difference=%{x}\\u003cbr\\u003eEV percent difference=%{y}\\u003cextra\\u003e\\u003c\\u002fextra\\u003e\",\"legendgroup\":\"Czech Republic, 2021\",\"marker\":{\"color\":\"#19d3f3\",\"symbol\":\"square\"},\"mode\":\"markers\",\"name\":\"Czech Republic, 2021\",\"orientation\":\"v\",\"showlegend\":true,\"x\":[0.1167694204685573],\"xaxis\":\"x\",\"y\":[0.0063775989485436],\"yaxis\":\"y\",\"type\":\"scatter\"},{\"hovertemplate\":\"geo=Czech Republic\\u003cbr\\u003etime_period=2022\\u003cbr\\u003eZEV percent difference=%{x}\\u003cbr\\u003eEV percent difference=%{y}\\u003cextra\\u003e\\u003c\\u002fextra\\u003e\",\"legendgroup\":\"Czech Republic, 2022\",\"marker\":{\"color\":\"#19d3f3\",\"symbol\":\"x\"},\"mode\":\"markers\",\"name\":\"Czech Republic, 2022\",\"orientation\":\"v\",\"showlegend\":true,\"x\":[0.5686209561665011],\"xaxis\":\"x\",\"y\":[0.0348791785347665],\"yaxis\":\"y\",\"type\":\"scatter\"},{\"hovertemplate\":\"geo=Czech Republic\\u003cbr\\u003etime_period=2023\\u003cbr\\u003eZEV percent difference=%{x}\\u003cbr\\u003eEV percent difference=%{y}\\u003cextra\\u003e\\u003c\\u002fextra\\u003e\",\"legendgroup\":\"Czech Republic, 2023\",\"marker\":{\"color\":\"#19d3f3\",\"symbol\":\"cross\"},\"mode\":\"markers\",\"name\":\"Czech Republic, 2023\",\"orientation\":\"v\",\"showlegend\":true,\"x\":[0.5815443091433801],\"xaxis\":\"x\",\"y\":[0.0315617635666646],\"yaxis\":\"y\",\"type\":\"scatter\"},{\"hovertemplate\":\"geo=Denmark\\u003cbr\\u003etime_period=2014\\u003cbr\\u003eZEV percent difference=%{x}\\u003cbr\\u003eEV percent difference=%{y}\\u003cextra\\u003e\\u003c\\u002fextra\\u003e\",\"legendgroup\":\"Denmark, 2014\",\"marker\":{\"color\":\"#FF6692\",\"symbol\":\"circle\"},\"mode\":\"markers\",\"name\":\"Denmark, 2014\",\"orientation\":\"v\",\"showlegend\":true,\"x\":[null],\"xaxis\":\"x\",\"y\":[null],\"yaxis\":\"y\",\"type\":\"scatter\"},{\"hovertemplate\":\"geo=Denmark\\u003cbr\\u003etime_period=2015\\u003cbr\\u003eZEV percent difference=%{x}\\u003cbr\\u003eEV percent difference=%{y}\\u003cextra\\u003e\\u003c\\u002fextra\\u003e\",\"legendgroup\":\"Denmark, 2015\",\"marker\":{\"color\":\"#FF6692\",\"symbol\":\"diamond\"},\"mode\":\"markers\",\"name\":\"Denmark, 2015\",\"orientation\":\"v\",\"showlegend\":true,\"x\":[1.7068847989093388],\"xaxis\":\"x\",\"y\":[0.0287565412194503],\"yaxis\":\"y\",\"type\":\"scatter\"},{\"hovertemplate\":\"geo=Denmark\\u003cbr\\u003etime_period=2016\\u003cbr\\u003eZEV percent difference=%{x}\\u003cbr\\u003eEV percent difference=%{y}\\u003cextra\\u003e\\u003c\\u002fextra\\u003e\",\"legendgroup\":\"Denmark, 2016\",\"marker\":{\"color\":\"#FF6692\",\"symbol\":\"square\"},\"mode\":\"markers\",\"name\":\"Denmark, 2016\",\"orientation\":\"v\",\"showlegend\":true,\"x\":[0.0993452530848652],\"xaxis\":\"x\",\"y\":[0.0310221114692676],\"yaxis\":\"y\",\"type\":\"scatter\"},{\"hovertemplate\":\"geo=Denmark\\u003cbr\\u003etime_period=2017\\u003cbr\\u003eZEV percent difference=%{x}\\u003cbr\\u003eEV percent difference=%{y}\\u003cextra\\u003e\\u003c\\u002fextra\\u003e\",\"legendgroup\":\"Denmark, 2017\",\"marker\":{\"color\":\"#FF6692\",\"symbol\":\"x\"},\"mode\":\"markers\",\"name\":\"Denmark, 2017\",\"orientation\":\"v\",\"showlegend\":true,\"x\":[0.0135150612759134],\"xaxis\":\"x\",\"y\":[0.0262129279392771],\"yaxis\":\"y\",\"type\":\"scatter\"},{\"hovertemplate\":\"geo=Denmark\\u003cbr\\u003etime_period=2018\\u003cbr\\u003eZEV percent difference=%{x}\\u003cbr\\u003eEV percent difference=%{y}\\u003cextra\\u003e\\u003c\\u002fextra\\u003e\",\"legendgroup\":\"Denmark, 2018\",\"marker\":{\"color\":\"#FF6692\",\"symbol\":\"cross\"},\"mode\":\"markers\",\"name\":\"Denmark, 2018\",\"orientation\":\"v\",\"showlegend\":true,\"x\":[0.1437450559385241],\"xaxis\":\"x\",\"y\":[0.0250507396667384],\"yaxis\":\"y\",\"type\":\"scatter\"},{\"hovertemplate\":\"geo=Denmark\\u003cbr\\u003etime_period=2019\\u003cbr\\u003eZEV percent difference=%{x}\\u003cbr\\u003eEV percent difference=%{y}\\u003cextra\\u003e\\u003c\\u002fextra\\u003e\",\"legendgroup\":\"Denmark, 2019\",\"marker\":{\"color\":\"#FF6692\",\"symbol\":\"circle\"},\"mode\":\"markers\",\"name\":\"Denmark, 2019\",\"orientation\":\"v\",\"showlegend\":true,\"x\":[0.5394723841517637],\"xaxis\":\"x\",\"y\":[0.0200432524713072],\"yaxis\":\"y\",\"type\":\"scatter\"},{\"hovertemplate\":\"geo=Denmark\\u003cbr\\u003etime_period=2020\\u003cbr\\u003eZEV percent difference=%{x}\\u003cbr\\u003eEV percent difference=%{y}\\u003cextra\\u003e\\u003c\\u002fextra\\u003e\",\"legendgroup\":\"Denmark, 2020\",\"marker\":{\"color\":\"#FF6692\",\"symbol\":\"diamond\"},\"mode\":\"markers\",\"name\":\"Denmark, 2020\",\"orientation\":\"v\",\"showlegend\":true,\"x\":[1.053719273474103],\"xaxis\":\"x\",\"y\":[0.0210355213644088],\"yaxis\":\"y\",\"type\":\"scatter\"},{\"hovertemplate\":\"geo=Denmark\\u003cbr\\u003etime_period=2021\\u003cbr\\u003eZEV percent difference=%{x}\\u003cbr\\u003eEV percent difference=%{y}\\u003cextra\\u003e\\u003c\\u002fextra\\u003e\",\"legendgroup\":\"Denmark, 2021\",\"marker\":{\"color\":\"#FF6692\",\"symbol\":\"square\"},\"mode\":\"markers\",\"name\":\"Denmark, 2021\",\"orientation\":\"v\",\"showlegend\":true,\"x\":[1.0870339698115563],\"xaxis\":\"x\",\"y\":[0.0108325379614379],\"yaxis\":\"y\",\"type\":\"scatter\"},{\"hovertemplate\":\"geo=Denmark\\u003cbr\\u003etime_period=2022\\u003cbr\\u003eZEV percent difference=%{x}\\u003cbr\\u003eEV percent difference=%{y}\\u003cextra\\u003e\\u003c\\u002fextra\\u003e\",\"legendgroup\":\"Denmark, 2022\",\"marker\":{\"color\":\"#FF6692\",\"symbol\":\"x\"},\"mode\":\"markers\",\"name\":\"Denmark, 2022\",\"orientation\":\"v\",\"showlegend\":true,\"x\":[0.6893670544899151],\"xaxis\":\"x\",\"y\":[-0.0119506610261065],\"yaxis\":\"y\",\"type\":\"scatter\"},{\"hovertemplate\":\"geo=Denmark\\u003cbr\\u003etime_period=2023\\u003cbr\\u003eZEV percent difference=%{x}\\u003cbr\\u003eEV percent difference=%{y}\\u003cextra\\u003e\\u003c\\u002fextra\\u003e\",\"legendgroup\":\"Denmark, 2023\",\"marker\":{\"color\":\"#FF6692\",\"symbol\":\"cross\"},\"mode\":\"markers\",\"name\":\"Denmark, 2023\",\"orientation\":\"v\",\"showlegend\":true,\"x\":[0.7740668847111797],\"xaxis\":\"x\",\"y\":[-0.0225213009926513],\"yaxis\":\"y\",\"type\":\"scatter\"},{\"hovertemplate\":\"geo=Estonia\\u003cbr\\u003etime_period=2014\\u003cbr\\u003eZEV percent difference=%{x}\\u003cbr\\u003eEV percent difference=%{y}\\u003cextra\\u003e\\u003c\\u002fextra\\u003e\",\"legendgroup\":\"Estonia, 2014\",\"marker\":{\"color\":\"#B6E880\",\"symbol\":\"circle\"},\"mode\":\"markers\",\"name\":\"Estonia, 2014\",\"orientation\":\"v\",\"showlegend\":true,\"x\":[null],\"xaxis\":\"x\",\"y\":[null],\"yaxis\":\"y\",\"type\":\"scatter\"},{\"hovertemplate\":\"geo=Estonia\\u003cbr\\u003etime_period=2015\\u003cbr\\u003eZEV percent difference=%{x}\\u003cbr\\u003eEV percent difference=%{y}\\u003cextra\\u003e\\u003c\\u002fextra\\u003e\",\"legendgroup\":\"Estonia, 2015\",\"marker\":{\"color\":\"#B6E880\",\"symbol\":\"diamond\"},\"mode\":\"markers\",\"name\":\"Estonia, 2015\",\"orientation\":\"v\",\"showlegend\":true,\"x\":[0.0459231490159325],\"xaxis\":\"x\",\"y\":[0.0361982134830943],\"yaxis\":\"y\",\"type\":\"scatter\"},{\"hovertemplate\":\"geo=Estonia\\u003cbr\\u003etime_period=2016\\u003cbr\\u003eZEV percent difference=%{x}\\u003cbr\\u003eEV percent difference=%{y}\\u003cextra\\u003e\\u003c\\u002fextra\\u003e\",\"legendgroup\":\"Estonia, 2016\",\"marker\":{\"color\":\"#B6E880\",\"symbol\":\"square\"},\"mode\":\"markers\",\"name\":\"Estonia, 2016\",\"orientation\":\"v\",\"showlegend\":true,\"x\":[0.03584229390681],\"xaxis\":\"x\",\"y\":[0.0392535678332445],\"yaxis\":\"y\",\"type\":\"scatter\"},{\"hovertemplate\":\"geo=Estonia\\u003cbr\\u003etime_period=2017\\u003cbr\\u003eZEV percent difference=%{x}\\u003cbr\\u003eEV percent difference=%{y}\\u003cextra\\u003e\\u003c\\u002fextra\\u003e\",\"legendgroup\":\"Estonia, 2017\",\"marker\":{\"color\":\"#B6E880\",\"symbol\":\"x\"},\"mode\":\"markers\",\"name\":\"Estonia, 2017\",\"orientation\":\"v\",\"showlegend\":true,\"x\":[0.0302768166089965],\"xaxis\":\"x\",\"y\":[0.0324190343236062],\"yaxis\":\"y\",\"type\":\"scatter\"},{\"hovertemplate\":\"geo=Estonia\\u003cbr\\u003etime_period=2018\\u003cbr\\u003eZEV percent difference=%{x}\\u003cbr\\u003eEV percent difference=%{y}\\u003cextra\\u003e\\u003c\\u002fextra\\u003e\",\"legendgroup\":\"Estonia, 2018\",\"marker\":{\"color\":\"#B6E880\",\"symbol\":\"cross\"},\"mode\":\"markers\",\"name\":\"Estonia, 2018\",\"orientation\":\"v\",\"showlegend\":true,\"x\":[0.052896725440806],\"xaxis\":\"x\",\"y\":[0.0282261680876105],\"yaxis\":\"y\",\"type\":\"scatter\"},{\"hovertemplate\":\"geo=Estonia\\u003cbr\\u003etime_period=2019\\u003cbr\\u003eZEV percent difference=%{x}\\u003cbr\\u003eEV percent difference=%{y}\\u003cextra\\u003e\\u003c\\u002fextra\\u003e\",\"legendgroup\":\"Estonia, 2019\",\"marker\":{\"color\":\"#B6E880\",\"symbol\":\"circle\"},\"mode\":\"markers\",\"name\":\"Estonia, 2019\",\"orientation\":\"v\",\"showlegend\":true,\"x\":[0.1020733652312599],\"xaxis\":\"x\",\"y\":[0.0648595697856979],\"yaxis\":\"y\",\"type\":\"scatter\"},{\"hovertemplate\":\"geo=Estonia\\u003cbr\\u003etime_period=2020\\u003cbr\\u003eZEV percent difference=%{x}\\u003cbr\\u003eEV percent difference=%{y}\\u003cextra\\u003e\\u003c\\u002fextra\\u003e\",\"legendgroup\":\"Estonia, 2020\",\"marker\":{\"color\":\"#B6E880\",\"symbol\":\"diamond\"},\"mode\":\"markers\",\"name\":\"Estonia, 2020\",\"orientation\":\"v\",\"showlegend\":true,\"x\":[0.2829232995658466],\"xaxis\":\"x\",\"y\":[0.0168509874688738],\"yaxis\":\"y\",\"type\":\"scatter\"},{\"hovertemplate\":\"geo=Estonia\\u003cbr\\u003etime_period=2021\\u003cbr\\u003eZEV percent difference=%{x}\\u003cbr\\u003eEV percent difference=%{y}\\u003cextra\\u003e\\u003c\\u002fextra\\u003e\",\"legendgroup\":\"Estonia, 2021\",\"marker\":{\"color\":\"#B6E880\",\"symbol\":\"square\"},\"mode\":\"markers\",\"name\":\"Estonia, 2021\",\"orientation\":\"v\",\"showlegend\":true,\"x\":[0.3857868020304568],\"xaxis\":\"x\",\"y\":[0.02052630013533],\"yaxis\":\"y\",\"type\":\"scatter\"},{\"hovertemplate\":\"geo=Estonia\\u003cbr\\u003etime_period=2022\\u003cbr\\u003eZEV percent difference=%{x}\\u003cbr\\u003eEV percent difference=%{y}\\u003cextra\\u003e\\u003c\\u002fextra\\u003e\",\"legendgroup\":\"Estonia, 2022\",\"marker\":{\"color\":\"#B6E880\",\"symbol\":\"x\"},\"mode\":\"markers\",\"name\":\"Estonia, 2022\",\"orientation\":\"v\",\"showlegend\":true,\"x\":[0.4094424094424094],\"xaxis\":\"x\",\"y\":[0.0271433758480787],\"yaxis\":\"y\",\"type\":\"scatter\"},{\"hovertemplate\":\"geo=Estonia\\u003cbr\\u003etime_period=2023\\u003cbr\\u003eZEV percent difference=%{x}\\u003cbr\\u003eEV percent difference=%{y}\\u003cextra\\u003e\\u003c\\u002fextra\\u003e\",\"legendgroup\":\"Estonia, 2023\",\"marker\":{\"color\":\"#B6E880\",\"symbol\":\"cross\"},\"mode\":\"markers\",\"name\":\"Estonia, 2023\",\"orientation\":\"v\",\"showlegend\":true,\"x\":[0.6745596303782847],\"xaxis\":\"x\",\"y\":[0.0167208343037793],\"yaxis\":\"y\",\"type\":\"scatter\"},{\"hovertemplate\":\"geo=Finland\\u003cbr\\u003etime_period=2014\\u003cbr\\u003eZEV percent difference=%{x}\\u003cbr\\u003eEV percent difference=%{y}\\u003cextra\\u003e\\u003c\\u002fextra\\u003e\",\"legendgroup\":\"Finland, 2014\",\"marker\":{\"color\":\"#FF97FF\",\"symbol\":\"circle\"},\"mode\":\"markers\",\"name\":\"Finland, 2014\",\"orientation\":\"v\",\"showlegend\":true,\"x\":[null],\"xaxis\":\"x\",\"y\":[null],\"yaxis\":\"y\",\"type\":\"scatter\"},{\"hovertemplate\":\"geo=Finland\\u003cbr\\u003etime_period=2015\\u003cbr\\u003eZEV percent difference=%{x}\\u003cbr\\u003eEV percent difference=%{y}\\u003cextra\\u003e\\u003c\\u002fextra\\u003e\",\"legendgroup\":\"Finland, 2015\",\"marker\":{\"color\":\"#FF97FF\",\"symbol\":\"diamond\"},\"mode\":\"markers\",\"name\":\"Finland, 2015\",\"orientation\":\"v\",\"showlegend\":true,\"x\":[0.7020725388601037],\"xaxis\":\"x\",\"y\":[0.0194978547442289],\"yaxis\":\"y\",\"type\":\"scatter\"},{\"hovertemplate\":\"geo=Finland\\u003cbr\\u003etime_period=2016\\u003cbr\\u003eZEV percent difference=%{x}\\u003cbr\\u003eEV percent difference=%{y}\\u003cextra\\u003e\\u003c\\u002fextra\\u003e\",\"legendgroup\":\"Finland, 2016\",\"marker\":{\"color\":\"#FF97FF\",\"symbol\":\"square\"},\"mode\":\"markers\",\"name\":\"Finland, 2016\",\"orientation\":\"v\",\"showlegend\":true,\"x\":[0.3546423135464231],\"xaxis\":\"x\",\"y\":[0.0270790052448779],\"yaxis\":\"y\",\"type\":\"scatter\"},{\"hovertemplate\":\"geo=Finland\\u003cbr\\u003etime_period=2017\\u003cbr\\u003eZEV percent difference=%{x}\\u003cbr\\u003eEV percent difference=%{y}\\u003cextra\\u003e\\u003c\\u002fextra\\u003e\",\"legendgroup\":\"Finland, 2017\",\"marker\":{\"color\":\"#FF97FF\",\"symbol\":\"x\"},\"mode\":\"markers\",\"name\":\"Finland, 2017\",\"orientation\":\"v\",\"showlegend\":true,\"x\":[0.7292134831460674],\"xaxis\":\"x\",\"y\":[0.0227636852749518],\"yaxis\":\"y\",\"type\":\"scatter\"},{\"hovertemplate\":\"geo=Finland\\u003cbr\\u003etime_period=2018\\u003cbr\\u003eZEV percent difference=%{x}\\u003cbr\\u003eEV percent difference=%{y}\\u003cextra\\u003e\\u003c\\u002fextra\\u003e\",\"legendgroup\":\"Finland, 2018\",\"marker\":{\"color\":\"#FF97FF\",\"symbol\":\"cross\"},\"mode\":\"markers\",\"name\":\"Finland, 2018\",\"orientation\":\"v\",\"showlegend\":true,\"x\":[0.6250812215724496],\"xaxis\":\"x\",\"y\":[0.020782963903552],\"yaxis\":\"y\",\"type\":\"scatter\"},{\"hovertemplate\":\"geo=Finland\\u003cbr\\u003etime_period=2019\\u003cbr\\u003eZEV percent difference=%{x}\\u003cbr\\u003eEV percent difference=%{y}\\u003cextra\\u003e\\u003c\\u002fextra\\u003e\",\"legendgroup\":\"Finland, 2019\",\"marker\":{\"color\":\"#FF97FF\",\"symbol\":\"circle\"},\"mode\":\"markers\",\"name\":\"Finland, 2019\",\"orientation\":\"v\",\"showlegend\":true,\"x\":[0.9316273490603758],\"xaxis\":\"x\",\"y\":[0.0221931565285642],\"yaxis\":\"y\",\"type\":\"scatter\"},{\"hovertemplate\":\"geo=Finland\\u003cbr\\u003etime_period=2020\\u003cbr\\u003eZEV percent difference=%{x}\\u003cbr\\u003eEV percent difference=%{y}\\u003cextra\\u003e\\u003c\\u002fextra\\u003e\",\"legendgroup\":\"Finland, 2020\",\"marker\":{\"color\":\"#FF97FF\",\"symbol\":\"diamond\"},\"mode\":\"markers\",\"name\":\"Finland, 2020\",\"orientation\":\"v\",\"showlegend\":true,\"x\":[1.0616849513558269],\"xaxis\":\"x\",\"y\":[0.0148376348247602],\"yaxis\":\"y\",\"type\":\"scatter\"},{\"hovertemplate\":\"geo=Finland\\u003cbr\\u003etime_period=2021\\u003cbr\\u003eZEV percent difference=%{x}\\u003cbr\\u003eEV percent difference=%{y}\\u003cextra\\u003e\\u003c\\u002fextra\\u003e\",\"legendgroup\":\"Finland, 2021\",\"marker\":{\"color\":\"#FF97FF\",\"symbol\":\"square\"},\"mode\":\"markers\",\"name\":\"Finland, 2021\",\"orientation\":\"v\",\"showlegend\":true,\"x\":[1.3593373493975904],\"xaxis\":\"x\",\"y\":[0.0056877265243688],\"yaxis\":\"y\",\"type\":\"scatter\"},{\"hovertemplate\":\"geo=Finland\\u003cbr\\u003etime_period=2022\\u003cbr\\u003eZEV percent difference=%{x}\\u003cbr\\u003eEV percent difference=%{y}\\u003cextra\\u003e\\u003c\\u002fextra\\u003e\",\"legendgroup\":\"Finland, 2022\",\"marker\":{\"color\":\"#FF97FF\",\"symbol\":\"x\"},\"mode\":\"markers\",\"name\":\"Finland, 2022\",\"orientation\":\"v\",\"showlegend\":true,\"x\":[0.9824673390357036],\"xaxis\":\"x\",\"y\":[0.0025237470194439],\"yaxis\":\"y\",\"type\":\"scatter\"},{\"hovertemplate\":\"geo=Finland\\u003cbr\\u003etime_period=2023\\u003cbr\\u003eZEV percent difference=%{x}\\u003cbr\\u003eEV percent difference=%{y}\\u003cextra\\u003e\\u003c\\u002fextra\\u003e\",\"legendgroup\":\"Finland, 2023\",\"marker\":{\"color\":\"#FF97FF\",\"symbol\":\"cross\"},\"mode\":\"markers\",\"name\":\"Finland, 2023\",\"orientation\":\"v\",\"showlegend\":true,\"x\":[0.8463272227707895],\"xaxis\":\"x\",\"y\":[0.001406332881557],\"yaxis\":\"y\",\"type\":\"scatter\"},{\"hovertemplate\":\"geo=France\\u003cbr\\u003etime_period=2014\\u003cbr\\u003eZEV percent difference=%{x}\\u003cbr\\u003eEV percent difference=%{y}\\u003cextra\\u003e\\u003c\\u002fextra\\u003e\",\"legendgroup\":\"France, 2014\",\"marker\":{\"color\":\"#FECB52\",\"symbol\":\"circle\"},\"mode\":\"markers\",\"name\":\"France, 2014\",\"orientation\":\"v\",\"showlegend\":true,\"x\":[null],\"xaxis\":\"x\",\"y\":[null],\"yaxis\":\"y\",\"type\":\"scatter\"},{\"hovertemplate\":\"geo=France\\u003cbr\\u003etime_period=2015\\u003cbr\\u003eZEV percent difference=%{x}\\u003cbr\\u003eEV percent difference=%{y}\\u003cextra\\u003e\\u003c\\u002fextra\\u003e\",\"legendgroup\":\"France, 2015\",\"marker\":{\"color\":\"#FECB52\",\"symbol\":\"diamond\"},\"mode\":\"markers\",\"name\":\"France, 2015\",\"orientation\":\"v\",\"showlegend\":true,\"x\":[0.6148364980934407],\"xaxis\":\"x\",\"y\":[0.0140968851441977],\"yaxis\":\"y\",\"type\":\"scatter\"},{\"hovertemplate\":\"geo=France\\u003cbr\\u003etime_period=2016\\u003cbr\\u003eZEV percent difference=%{x}\\u003cbr\\u003eEV percent difference=%{y}\\u003cextra\\u003e\\u003c\\u002fextra\\u003e\",\"legendgroup\":\"France, 2016\",\"marker\":{\"color\":\"#FECB52\",\"symbol\":\"square\"},\"mode\":\"markers\",\"name\":\"France, 2016\",\"orientation\":\"v\",\"showlegend\":true,\"x\":[0.4638887563802891],\"xaxis\":\"x\",\"y\":[0.0127611547955708],\"yaxis\":\"y\",\"type\":\"scatter\"},{\"hovertemplate\":\"geo=France\\u003cbr\\u003etime_period=2017\\u003cbr\\u003eZEV percent difference=%{x}\\u003cbr\\u003eEV percent difference=%{y}\\u003cextra\\u003e\\u003c\\u002fextra\\u003e\",\"legendgroup\":\"France, 2017\",\"marker\":{\"color\":\"#FECB52\",\"symbol\":\"x\"},\"mode\":\"markers\",\"name\":\"France, 2017\",\"orientation\":\"v\",\"showlegend\":true,\"x\":[0.3453849287169043],\"xaxis\":\"x\",\"y\":[0.011246088060861],\"yaxis\":\"y\",\"type\":\"scatter\"},{\"hovertemplate\":\"geo=France\\u003cbr\\u003etime_period=2018\\u003cbr\\u003eZEV percent difference=%{x}\\u003cbr\\u003eEV percent difference=%{y}\\u003cextra\\u003e\\u003c\\u002fextra\\u003e\",\"legendgroup\":\"France, 2018\",\"marker\":{\"color\":\"#FECB52\",\"symbol\":\"cross\"},\"mode\":\"markers\",\"name\":\"France, 2018\",\"orientation\":\"v\",\"showlegend\":true,\"x\":[0.2911242173591852],\"xaxis\":\"x\",\"y\":[0.0023032152677961],\"yaxis\":\"y\",\"type\":\"scatter\"},{\"hovertemplate\":\"geo=France\\u003cbr\\u003etime_period=2019\\u003cbr\\u003eZEV percent difference=%{x}\\u003cbr\\u003eEV percent difference=%{y}\\u003cextra\\u003e\\u003c\\u002fextra\\u003e\",\"legendgroup\":\"France, 2019\",\"marker\":{\"color\":\"#FECB52\",\"symbol\":\"circle\"},\"mode\":\"markers\",\"name\":\"France, 2019\",\"orientation\":\"v\",\"showlegend\":true,\"x\":[0.3276366637901924],\"xaxis\":\"x\",\"y\":[0.0041178360615814],\"yaxis\":\"y\",\"type\":\"scatter\"},{\"hovertemplate\":\"geo=France\\u003cbr\\u003etime_period=2020\\u003cbr\\u003eZEV percent difference=%{x}\\u003cbr\\u003eEV percent difference=%{y}\\u003cextra\\u003e\\u003c\\u002fextra\\u003e\",\"legendgroup\":\"France, 2020\",\"marker\":{\"color\":\"#FECB52\",\"symbol\":\"diamond\"},\"mode\":\"markers\",\"name\":\"France, 2020\",\"orientation\":\"v\",\"showlegend\":true,\"x\":[0.7340718655946645],\"xaxis\":\"x\",\"y\":[-0.0015015017368485],\"yaxis\":\"y\",\"type\":\"scatter\"},{\"hovertemplate\":\"geo=France\\u003cbr\\u003etime_period=2021\\u003cbr\\u003eZEV percent difference=%{x}\\u003cbr\\u003eEV percent difference=%{y}\\u003cextra\\u003e\\u003c\\u002fextra\\u003e\",\"legendgroup\":\"France, 2021\",\"marker\":{\"color\":\"#FECB52\",\"symbol\":\"square\"},\"mode\":\"markers\",\"name\":\"France, 2021\",\"orientation\":\"v\",\"showlegend\":true,\"x\":[0.6448028878277734],\"xaxis\":\"x\",\"y\":[0.0049383082328675],\"yaxis\":\"y\",\"type\":\"scatter\"},{\"hovertemplate\":\"geo=France\\u003cbr\\u003etime_period=2022\\u003cbr\\u003eZEV percent difference=%{x}\\u003cbr\\u003eEV percent difference=%{y}\\u003cextra\\u003e\\u003c\\u002fextra\\u003e\",\"legendgroup\":\"France, 2022\",\"marker\":{\"color\":\"#FECB52\",\"symbol\":\"x\"},\"mode\":\"markers\",\"name\":\"France, 2022\",\"orientation\":\"v\",\"showlegend\":true,\"x\":[0.4771950944620727],\"xaxis\":\"x\",\"y\":[-0.0039263280951745],\"yaxis\":\"y\",\"type\":\"scatter\"},{\"hovertemplate\":\"geo=France\\u003cbr\\u003etime_period=2023\\u003cbr\\u003eZEV percent difference=%{x}\\u003cbr\\u003eEV percent difference=%{y}\\u003cextra\\u003e\\u003c\\u002fextra\\u003e\",\"legendgroup\":\"France, 2023\",\"marker\":{\"color\":\"#FECB52\",\"symbol\":\"cross\"},\"mode\":\"markers\",\"name\":\"France, 2023\",\"orientation\":\"v\",\"showlegend\":true,\"x\":[0.5371675213044601],\"xaxis\":\"x\",\"y\":[0.0087480604487103],\"yaxis\":\"y\",\"type\":\"scatter\"},{\"hovertemplate\":\"geo=Germany\\u003cbr\\u003etime_period=2014\\u003cbr\\u003eZEV percent difference=%{x}\\u003cbr\\u003eEV percent difference=%{y}\\u003cextra\\u003e\\u003c\\u002fextra\\u003e\",\"legendgroup\":\"Germany, 2014\",\"marker\":{\"color\":\"#636efa\",\"symbol\":\"circle\"},\"mode\":\"markers\",\"name\":\"Germany, 2014\",\"orientation\":\"v\",\"showlegend\":true,\"x\":[null],\"xaxis\":\"x\",\"y\":[null],\"yaxis\":\"y\",\"type\":\"scatter\"},{\"hovertemplate\":\"geo=Germany\\u003cbr\\u003etime_period=2015\\u003cbr\\u003eZEV percent difference=%{x}\\u003cbr\\u003eEV percent difference=%{y}\\u003cextra\\u003e\\u003c\\u002fextra\\u003e\",\"legendgroup\":\"Germany, 2015\",\"marker\":{\"color\":\"#636efa\",\"symbol\":\"diamond\"},\"mode\":\"markers\",\"name\":\"Germany, 2015\",\"orientation\":\"v\",\"showlegend\":true,\"x\":[0.3727511835875854],\"xaxis\":\"x\",\"y\":[0.0148908198654514],\"yaxis\":\"y\",\"type\":\"scatter\"},{\"hovertemplate\":\"geo=Germany\\u003cbr\\u003etime_period=2016\\u003cbr\\u003eZEV percent difference=%{x}\\u003cbr\\u003eEV percent difference=%{y}\\u003cextra\\u003e\\u003c\\u002fextra\\u003e\",\"legendgroup\":\"Germany, 2016\",\"marker\":{\"color\":\"#636efa\",\"symbol\":\"square\"},\"mode\":\"markers\",\"name\":\"Germany, 2016\",\"orientation\":\"v\",\"showlegend\":true,\"x\":[0.3092811158798283],\"xaxis\":\"x\",\"y\":[0.0160837061613007],\"yaxis\":\"y\",\"type\":\"scatter\"},{\"hovertemplate\":\"geo=Germany\\u003cbr\\u003etime_period=2017\\u003cbr\\u003eZEV percent difference=%{x}\\u003cbr\\u003eEV percent difference=%{y}\\u003cextra\\u003e\\u003c\\u002fextra\\u003e\",\"legendgroup\":\"Germany, 2017\",\"marker\":{\"color\":\"#636efa\",\"symbol\":\"x\"},\"mode\":\"markers\",\"name\":\"Germany, 2017\",\"orientation\":\"v\",\"showlegend\":true,\"x\":[0.5875845113706207],\"xaxis\":\"x\",\"y\":[0.0142225613522993],\"yaxis\":\"y\",\"type\":\"scatter\"},{\"hovertemplate\":\"geo=Germany\\u003cbr\\u003etime_period=2018\\u003cbr\\u003eZEV percent difference=%{x}\\u003cbr\\u003eEV percent difference=%{y}\\u003cextra\\u003e\\u003c\\u002fextra\\u003e\",\"legendgroup\":\"Germany, 2018\",\"marker\":{\"color\":\"#636efa\",\"symbol\":\"cross\"},\"mode\":\"markers\",\"name\":\"Germany, 2018\",\"orientation\":\"v\",\"showlegend\":true,\"x\":[0.5413233043895065],\"xaxis\":\"x\",\"y\":[0.0127493004092106],\"yaxis\":\"y\",\"type\":\"scatter\"},{\"hovertemplate\":\"geo=Germany\\u003cbr\\u003etime_period=2019\\u003cbr\\u003eZEV percent difference=%{x}\\u003cbr\\u003eEV percent difference=%{y}\\u003cextra\\u003e\\u003c\\u002fextra\\u003e\",\"legendgroup\":\"Germany, 2019\",\"marker\":{\"color\":\"#636efa\",\"symbol\":\"circle\"},\"mode\":\"markers\",\"name\":\"Germany, 2019\",\"orientation\":\"v\",\"showlegend\":true,\"x\":[0.6409468219984211],\"xaxis\":\"x\",\"y\":[0.0120523239744391],\"yaxis\":\"y\",\"type\":\"scatter\"},{\"hovertemplate\":\"geo=Germany\\u003cbr\\u003etime_period=2020\\u003cbr\\u003eZEV percent difference=%{x}\\u003cbr\\u003eEV percent difference=%{y}\\u003cextra\\u003e\\u003c\\u002fextra\\u003e\",\"legendgroup\":\"Germany, 2020\",\"marker\":{\"color\":\"#636efa\",\"symbol\":\"diamond\"},\"mode\":\"markers\",\"name\":\"Germany, 2020\",\"orientation\":\"v\",\"showlegend\":true,\"x\":[1.259291654822039],\"xaxis\":\"x\",\"y\":[0.0075630558359793],\"yaxis\":\"y\",\"type\":\"scatter\"},{\"hovertemplate\":\"geo=Germany\\u003cbr\\u003etime_period=2021\\u003cbr\\u003eZEV percent difference=%{x}\\u003cbr\\u003eEV percent difference=%{y}\\u003cextra\\u003e\\u003c\\u002fextra\\u003e\",\"legendgroup\":\"Germany, 2021\",\"marker\":{\"color\":\"#636efa\",\"symbol\":\"square\"},\"mode\":\"markers\",\"name\":\"Germany, 2021\",\"orientation\":\"v\",\"showlegend\":true,\"x\":[0.9994676715307508],\"xaxis\":\"x\",\"y\":[-0.0003650501031266],\"yaxis\":\"y\",\"type\":\"scatter\"},{\"hovertemplate\":\"geo=Germany\\u003cbr\\u003etime_period=2022\\u003cbr\\u003eZEV percent difference=%{x}\\u003cbr\\u003eEV percent difference=%{y}\\u003cextra\\u003e\\u003c\\u002fextra\\u003e\",\"legendgroup\":\"Germany, 2022\",\"marker\":{\"color\":\"#636efa\",\"symbol\":\"x\"},\"mode\":\"markers\",\"name\":\"Germany, 2022\",\"orientation\":\"v\",\"showlegend\":true,\"x\":[0.637878316038809],\"xaxis\":\"x\",\"y\":[-0.0036136255148434],\"yaxis\":\"y\",\"type\":\"scatter\"},{\"hovertemplate\":\"geo=Germany\\u003cbr\\u003etime_period=2023\\u003cbr\\u003eZEV percent difference=%{x}\\u003cbr\\u003eEV percent difference=%{y}\\u003cextra\\u003e\\u003c\\u002fextra\\u003e\",\"legendgroup\":\"Germany, 2023\",\"marker\":{\"color\":\"#636efa\",\"symbol\":\"cross\"},\"mode\":\"markers\",\"name\":\"Germany, 2023\",\"orientation\":\"v\",\"showlegend\":true,\"x\":[0.3899269023131181],\"xaxis\":\"x\",\"y\":[-0.0012599073350909],\"yaxis\":\"y\",\"type\":\"scatter\"},{\"hovertemplate\":\"geo=Greece\\u003cbr\\u003etime_period=2014\\u003cbr\\u003eZEV percent difference=%{x}\\u003cbr\\u003eEV percent difference=%{y}\\u003cextra\\u003e\\u003c\\u002fextra\\u003e\",\"legendgroup\":\"Greece, 2014\",\"marker\":{\"color\":\"#EF553B\",\"symbol\":\"circle\"},\"mode\":\"markers\",\"name\":\"Greece, 2014\",\"orientation\":\"v\",\"showlegend\":true,\"x\":[null],\"xaxis\":\"x\",\"y\":[null],\"yaxis\":\"y\",\"type\":\"scatter\"},{\"hovertemplate\":\"geo=Greece\\u003cbr\\u003etime_period=2015\\u003cbr\\u003eZEV percent difference=%{x}\\u003cbr\\u003eEV percent difference=%{y}\\u003cextra\\u003e\\u003c\\u002fextra\\u003e\",\"legendgroup\":\"Greece, 2015\",\"marker\":{\"color\":\"#EF553B\",\"symbol\":\"diamond\"},\"mode\":\"markers\",\"name\":\"Greece, 2015\",\"orientation\":\"v\",\"showlegend\":true,\"x\":[0.8666666666666667],\"xaxis\":\"x\",\"y\":[-0.0006441226353146],\"yaxis\":\"y\",\"type\":\"scatter\"},{\"hovertemplate\":\"geo=Greece\\u003cbr\\u003etime_period=2016\\u003cbr\\u003eZEV percent difference=%{x}\\u003cbr\\u003eEV percent difference=%{y}\\u003cextra\\u003e\\u003c\\u002fextra\\u003e\",\"legendgroup\":\"Greece, 2016\",\"marker\":{\"color\":\"#EF553B\",\"symbol\":\"square\"},\"mode\":\"markers\",\"name\":\"Greece, 2016\",\"orientation\":\"v\",\"showlegend\":true,\"x\":[0.3571428571428571],\"xaxis\":\"x\",\"y\":[0.0102605248401577],\"yaxis\":\"y\",\"type\":\"scatter\"},{\"hovertemplate\":\"geo=Greece\\u003cbr\\u003etime_period=2017\\u003cbr\\u003eZEV percent difference=%{x}\\u003cbr\\u003eEV percent difference=%{y}\\u003cextra\\u003e\\u003c\\u002fextra\\u003e\",\"legendgroup\":\"Greece, 2017\",\"marker\":{\"color\":\"#EF553B\",\"symbol\":\"x\"},\"mode\":\"markers\",\"name\":\"Greece, 2017\",\"orientation\":\"v\",\"showlegend\":true,\"x\":[0.2982456140350877],\"xaxis\":\"x\",\"y\":[0.0146974520256235],\"yaxis\":\"y\",\"type\":\"scatter\"},{\"hovertemplate\":\"geo=Greece\\u003cbr\\u003etime_period=2018\\u003cbr\\u003eZEV percent difference=%{x}\\u003cbr\\u003eEV percent difference=%{y}\\u003cextra\\u003e\\u003c\\u002fextra\\u003e\",\"legendgroup\":\"Greece, 2018\",\"marker\":{\"color\":\"#EF553B\",\"symbol\":\"cross\"},\"mode\":\"markers\",\"name\":\"Greece, 2018\",\"orientation\":\"v\",\"showlegend\":true,\"x\":[0.4527027027027027],\"xaxis\":\"x\",\"y\":[0.0089193969188926],\"yaxis\":\"y\",\"type\":\"scatter\"},{\"hovertemplate\":\"geo=Greece\\u003cbr\\u003etime_period=2019\\u003cbr\\u003eZEV percent difference=%{x}\\u003cbr\\u003eEV percent difference=%{y}\\u003cextra\\u003e\\u003c\\u002fextra\\u003e\",\"legendgroup\":\"Greece, 2019\",\"marker\":{\"color\":\"#EF553B\",\"symbol\":\"circle\"},\"mode\":\"markers\",\"name\":\"Greece, 2019\",\"orientation\":\"v\",\"showlegend\":true,\"x\":[0.9813953488372092],\"xaxis\":\"x\",\"y\":[0.0234066196180581],\"yaxis\":\"y\",\"type\":\"scatter\"},{\"hovertemplate\":\"geo=Greece\\u003cbr\\u003etime_period=2020\\u003cbr\\u003eZEV percent difference=%{x}\\u003cbr\\u003eEV percent difference=%{y}\\u003cextra\\u003e\\u003c\\u002fextra\\u003e\",\"legendgroup\":\"Greece, 2020\",\"marker\":{\"color\":\"#EF553B\",\"symbol\":\"diamond\"},\"mode\":\"markers\",\"name\":\"Greece, 2020\",\"orientation\":\"v\",\"showlegend\":true,\"x\":[1.591549295774648],\"xaxis\":\"x\",\"y\":[0.0157131031931374],\"yaxis\":\"y\",\"type\":\"scatter\"},{\"hovertemplate\":\"geo=Greece\\u003cbr\\u003etime_period=2021\\u003cbr\\u003eZEV percent difference=%{x}\\u003cbr\\u003eEV percent difference=%{y}\\u003cextra\\u003e\\u003c\\u002fextra\\u003e\",\"legendgroup\":\"Greece, 2021\",\"marker\":{\"color\":\"#EF553B\",\"symbol\":\"square\"},\"mode\":\"markers\",\"name\":\"Greece, 2021\",\"orientation\":\"v\",\"showlegend\":true,\"x\":[1.9710144927536235],\"xaxis\":\"x\",\"y\":[0.0200033800321685],\"yaxis\":\"y\",\"type\":\"scatter\"},{\"hovertemplate\":\"geo=Greece\\u003cbr\\u003etime_period=2022\\u003cbr\\u003eZEV percent difference=%{x}\\u003cbr\\u003eEV percent difference=%{y}\\u003cextra\\u003e\\u003c\\u002fextra\\u003e\",\"legendgroup\":\"Greece, 2022\",\"marker\":{\"color\":\"#EF553B\",\"symbol\":\"x\"},\"mode\":\"markers\",\"name\":\"Greece, 2022\",\"orientation\":\"v\",\"showlegend\":true,\"x\":[0.922560975609756],\"xaxis\":\"x\",\"y\":[0.0212097601247796],\"yaxis\":\"y\",\"type\":\"scatter\"},{\"hovertemplate\":\"geo=Greece\\u003cbr\\u003etime_period=2023\\u003cbr\\u003eZEV percent difference=%{x}\\u003cbr\\u003eEV percent difference=%{y}\\u003cextra\\u003e\\u003c\\u002fextra\\u003e\",\"legendgroup\":\"Greece, 2023\",\"marker\":{\"color\":\"#EF553B\",\"symbol\":\"cross\"},\"mode\":\"markers\",\"name\":\"Greece, 2023\",\"orientation\":\"v\",\"showlegend\":true,\"x\":[0.9529019980970505],\"xaxis\":\"x\",\"y\":[0.0254799809640565],\"yaxis\":\"y\",\"type\":\"scatter\"},{\"hovertemplate\":\"geo=Hungary\\u003cbr\\u003etime_period=2014\\u003cbr\\u003eZEV percent difference=%{x}\\u003cbr\\u003eEV percent difference=%{y}\\u003cextra\\u003e\\u003c\\u002fextra\\u003e\",\"legendgroup\":\"Hungary, 2014\",\"marker\":{\"color\":\"#00cc96\",\"symbol\":\"circle\"},\"mode\":\"markers\",\"name\":\"Hungary, 2014\",\"orientation\":\"v\",\"showlegend\":true,\"x\":[null],\"xaxis\":\"x\",\"y\":[null],\"yaxis\":\"y\",\"type\":\"scatter\"},{\"hovertemplate\":\"geo=Hungary\\u003cbr\\u003etime_period=2015\\u003cbr\\u003eZEV percent difference=%{x}\\u003cbr\\u003eEV percent difference=%{y}\\u003cextra\\u003e\\u003c\\u002fextra\\u003e\",\"legendgroup\":\"Hungary, 2015\",\"marker\":{\"color\":\"#00cc96\",\"symbol\":\"diamond\"},\"mode\":\"markers\",\"name\":\"Hungary, 2015\",\"orientation\":\"v\",\"showlegend\":true,\"x\":[0.9542857142857144],\"xaxis\":\"x\",\"y\":[0.0286382710328493],\"yaxis\":\"y\",\"type\":\"scatter\"},{\"hovertemplate\":\"geo=Hungary\\u003cbr\\u003etime_period=2016\\u003cbr\\u003eZEV percent difference=%{x}\\u003cbr\\u003eEV percent difference=%{y}\\u003cextra\\u003e\\u003c\\u002fextra\\u003e\",\"legendgroup\":\"Hungary, 2016\",\"marker\":{\"color\":\"#00cc96\",\"symbol\":\"square\"},\"mode\":\"markers\",\"name\":\"Hungary, 2016\",\"orientation\":\"v\",\"showlegend\":true,\"x\":[1.216374269005848],\"xaxis\":\"x\",\"y\":[0.0362688854170512],\"yaxis\":\"y\",\"type\":\"scatter\"},{\"hovertemplate\":\"geo=Hungary\\u003cbr\\u003etime_period=2017\\u003cbr\\u003eZEV percent difference=%{x}\\u003cbr\\u003eEV percent difference=%{y}\\u003cextra\\u003e\\u003c\\u002fextra\\u003e\",\"legendgroup\":\"Hungary, 2017\",\"marker\":{\"color\":\"#00cc96\",\"symbol\":\"x\"},\"mode\":\"markers\",\"name\":\"Hungary, 2017\",\"orientation\":\"v\",\"showlegend\":true,\"x\":[1.633245382585752],\"xaxis\":\"x\",\"y\":[0.0475639164750661],\"yaxis\":\"y\",\"type\":\"scatter\"},{\"hovertemplate\":\"geo=Hungary\\u003cbr\\u003etime_period=2018\\u003cbr\\u003eZEV percent difference=%{x}\\u003cbr\\u003eEV percent difference=%{y}\\u003cextra\\u003e\\u003c\\u002fextra\\u003e\",\"legendgroup\":\"Hungary, 2018\",\"marker\":{\"color\":\"#00cc96\",\"symbol\":\"cross\"},\"mode\":\"markers\",\"name\":\"Hungary, 2018\",\"orientation\":\"v\",\"showlegend\":true,\"x\":[0.9233466933867736],\"xaxis\":\"x\",\"y\":[0.0484100725043018],\"yaxis\":\"y\",\"type\":\"scatter\"},{\"hovertemplate\":\"geo=Hungary\\u003cbr\\u003etime_period=2019\\u003cbr\\u003eZEV percent difference=%{x}\\u003cbr\\u003eEV percent difference=%{y}\\u003cextra\\u003e\\u003c\\u002fextra\\u003e\",\"legendgroup\":\"Hungary, 2019\",\"marker\":{\"color\":\"#00cc96\",\"symbol\":\"circle\"},\"mode\":\"markers\",\"name\":\"Hungary, 2019\",\"orientation\":\"v\",\"showlegend\":true,\"x\":[0.7178952852305288],\"xaxis\":\"x\",\"y\":[0.0460238417761045],\"yaxis\":\"y\",\"type\":\"scatter\"},{\"hovertemplate\":\"geo=Hungary\\u003cbr\\u003etime_period=2020\\u003cbr\\u003eZEV percent difference=%{x}\\u003cbr\\u003eEV percent difference=%{y}\\u003cextra\\u003e\\u003c\\u002fextra\\u003e\",\"legendgroup\":\"Hungary, 2020\",\"marker\":{\"color\":\"#00cc96\",\"symbol\":\"diamond\"},\"mode\":\"markers\",\"name\":\"Hungary, 2020\",\"orientation\":\"v\",\"showlegend\":true,\"x\":[0.6697498104624716],\"xaxis\":\"x\",\"y\":[0.0274264220119839],\"yaxis\":\"y\",\"type\":\"scatter\"},{\"hovertemplate\":\"geo=Hungary\\u003cbr\\u003etime_period=2021\\u003cbr\\u003eZEV percent difference=%{x}\\u003cbr\\u003eEV percent difference=%{y}\\u003cextra\\u003e\\u003c\\u002fextra\\u003e\",\"legendgroup\":\"Hungary, 2021\",\"marker\":{\"color\":\"#00cc96\",\"symbol\":\"square\"},\"mode\":\"markers\",\"name\":\"Hungary, 2021\",\"orientation\":\"v\",\"showlegend\":true,\"x\":[0.7094079186342173],\"xaxis\":\"x\",\"y\":[0.0234150862949823],\"yaxis\":\"y\",\"type\":\"scatter\"},{\"hovertemplate\":\"geo=Hungary\\u003cbr\\u003etime_period=2022\\u003cbr\\u003eZEV percent difference=%{x}\\u003cbr\\u003eEV percent difference=%{y}\\u003cextra\\u003e\\u003c\\u002fextra\\u003e\",\"legendgroup\":\"Hungary, 2022\",\"marker\":{\"color\":\"#00cc96\",\"symbol\":\"x\"},\"mode\":\"markers\",\"name\":\"Hungary, 2022\",\"orientation\":\"v\",\"showlegend\":true,\"x\":[0.5851572460688482],\"xaxis\":\"x\",\"y\":[0.0157334989447271],\"yaxis\":\"y\",\"type\":\"scatter\"},{\"hovertemplate\":\"geo=Hungary\\u003cbr\\u003etime_period=2023\\u003cbr\\u003eZEV percent difference=%{x}\\u003cbr\\u003eEV percent difference=%{y}\\u003cextra\\u003e\\u003c\\u002fextra\\u003e\",\"legendgroup\":\"Hungary, 2023\",\"marker\":{\"color\":\"#00cc96\",\"symbol\":\"cross\"},\"mode\":\"markers\",\"name\":\"Hungary, 2023\",\"orientation\":\"v\",\"showlegend\":true,\"x\":[0.3812460203089916],\"xaxis\":\"x\",\"y\":[0.0155367850227222],\"yaxis\":\"y\",\"type\":\"scatter\"},{\"hovertemplate\":\"geo=Ireland\\u003cbr\\u003etime_period=2014\\u003cbr\\u003eZEV percent difference=%{x}\\u003cbr\\u003eEV percent difference=%{y}\\u003cextra\\u003e\\u003c\\u002fextra\\u003e\",\"legendgroup\":\"Ireland, 2014\",\"marker\":{\"color\":\"#ab63fa\",\"symbol\":\"circle\"},\"mode\":\"markers\",\"name\":\"Ireland, 2014\",\"orientation\":\"v\",\"showlegend\":true,\"x\":[null],\"xaxis\":\"x\",\"y\":[null],\"yaxis\":\"y\",\"type\":\"scatter\"},{\"hovertemplate\":\"geo=Ireland\\u003cbr\\u003etime_period=2015\\u003cbr\\u003eZEV percent difference=%{x}\\u003cbr\\u003eEV percent difference=%{y}\\u003cextra\\u003e\\u003c\\u002fextra\\u003e\",\"legendgroup\":\"Ireland, 2015\",\"marker\":{\"color\":\"#ab63fa\",\"symbol\":\"diamond\"},\"mode\":\"markers\",\"name\":\"Ireland, 2015\",\"orientation\":\"v\",\"showlegend\":true,\"x\":[1.0],\"xaxis\":\"x\",\"y\":[0.0204683434518647],\"yaxis\":\"y\",\"type\":\"scatter\"},{\"hovertemplate\":\"geo=Ireland\\u003cbr\\u003etime_period=2016\\u003cbr\\u003eZEV percent difference=%{x}\\u003cbr\\u003eEV percent difference=%{y}\\u003cextra\\u003e\\u003c\\u002fextra\\u003e\",\"legendgroup\":\"Ireland, 2016\",\"marker\":{\"color\":\"#ab63fa\",\"symbol\":\"square\"},\"mode\":\"markers\",\"name\":\"Ireland, 2016\",\"orientation\":\"v\",\"showlegend\":true,\"x\":[0.51875],\"xaxis\":\"x\",\"y\":[0.0203827007600592],\"yaxis\":\"y\",\"type\":\"scatter\"},{\"hovertemplate\":\"geo=Ireland\\u003cbr\\u003etime_period=2017\\u003cbr\\u003eZEV percent difference=%{x}\\u003cbr\\u003eEV percent difference=%{y}\\u003cextra\\u003e\\u003c\\u002fextra\\u003e\",\"legendgroup\":\"Ireland, 2017\",\"marker\":{\"color\":\"#ab63fa\",\"symbol\":\"x\"},\"mode\":\"markers\",\"name\":\"Ireland, 2017\",\"orientation\":\"v\",\"showlegend\":true,\"x\":[0.6284538506760728],\"xaxis\":\"x\",\"y\":[0.0183725135279595],\"yaxis\":\"y\",\"type\":\"scatter\"},{\"hovertemplate\":\"geo=Ireland\\u003cbr\\u003etime_period=2018\\u003cbr\\u003eZEV percent difference=%{x}\\u003cbr\\u003eEV percent difference=%{y}\\u003cextra\\u003e\\u003c\\u002fextra\\u003e\",\"legendgroup\":\"Ireland, 2018\",\"marker\":{\"color\":\"#ab63fa\",\"symbol\":\"cross\"},\"mode\":\"markers\",\"name\":\"Ireland, 2018\",\"orientation\":\"v\",\"showlegend\":true,\"x\":[0.6642599277978339],\"xaxis\":\"x\",\"y\":[0.0180826501902206],\"yaxis\":\"y\",\"type\":\"scatter\"},{\"hovertemplate\":\"geo=Ireland\\u003cbr\\u003etime_period=2019\\u003cbr\\u003eZEV percent difference=%{x}\\u003cbr\\u003eEV percent difference=%{y}\\u003cextra\\u003e\\u003c\\u002fextra\\u003e\",\"legendgroup\":\"Ireland, 2019\",\"marker\":{\"color\":\"#ab63fa\",\"symbol\":\"circle\"},\"mode\":\"markers\",\"name\":\"Ireland, 2019\",\"orientation\":\"v\",\"showlegend\":true,\"x\":[0.8633405639913232],\"xaxis\":\"x\",\"y\":[0.030441029972777],\"yaxis\":\"y\",\"type\":\"scatter\"},{\"hovertemplate\":\"geo=Ireland\\u003cbr\\u003etime_period=2020\\u003cbr\\u003eZEV percent difference=%{x}\\u003cbr\\u003eEV percent difference=%{y}\\u003cextra\\u003e\\u003c\\u002fextra\\u003e\",\"legendgroup\":\"Ireland, 2020\",\"marker\":{\"color\":\"#ab63fa\",\"symbol\":\"diamond\"},\"mode\":\"markers\",\"name\":\"Ireland, 2020\",\"orientation\":\"v\",\"showlegend\":true,\"x\":[0.4807916181606519],\"xaxis\":\"x\",\"y\":[0.0154146358849159],\"yaxis\":\"y\",\"type\":\"scatter\"},{\"hovertemplate\":\"geo=Ireland\\u003cbr\\u003etime_period=2021\\u003cbr\\u003eZEV percent difference=%{x}\\u003cbr\\u003eEV percent difference=%{y}\\u003cextra\\u003e\\u003c\\u002fextra\\u003e\",\"legendgroup\":\"Ireland, 2021\",\"marker\":{\"color\":\"#ab63fa\",\"symbol\":\"square\"},\"mode\":\"markers\",\"name\":\"Ireland, 2021\",\"orientation\":\"v\",\"showlegend\":true,\"x\":[0.6855345911949685],\"xaxis\":\"x\",\"y\":[0.0039925939575819],\"yaxis\":\"y\",\"type\":\"scatter\"},{\"hovertemplate\":\"geo=Ireland\\u003cbr\\u003etime_period=2022\\u003cbr\\u003eZEV percent difference=%{x}\\u003cbr\\u003eEV percent difference=%{y}\\u003cextra\\u003e\\u003c\\u002fextra\\u003e\",\"legendgroup\":\"Ireland, 2022\",\"marker\":{\"color\":\"#ab63fa\",\"symbol\":\"x\"},\"mode\":\"markers\",\"name\":\"Ireland, 2022\",\"orientation\":\"v\",\"showlegend\":true,\"x\":[0.7243470149253731],\"xaxis\":\"x\",\"y\":[0.0043000978884072],\"yaxis\":\"y\",\"type\":\"scatter\"},{\"hovertemplate\":\"geo=Ireland\\u003cbr\\u003etime_period=2023\\u003cbr\\u003eZEV percent difference=%{x}\\u003cbr\\u003eEV percent difference=%{y}\\u003cextra\\u003e\\u003c\\u002fextra\\u003e\",\"legendgroup\":\"Ireland, 2023\",\"marker\":{\"color\":\"#ab63fa\",\"symbol\":\"cross\"},\"mode\":\"markers\",\"name\":\"Ireland, 2023\",\"orientation\":\"v\",\"showlegend\":true,\"x\":[0.5859615904787666],\"xaxis\":\"x\",\"y\":[0.0270451143523514],\"yaxis\":\"y\",\"type\":\"scatter\"},{\"hovertemplate\":\"geo=Italy\\u003cbr\\u003etime_period=2014\\u003cbr\\u003eZEV percent difference=%{x}\\u003cbr\\u003eEV percent difference=%{y}\\u003cextra\\u003e\\u003c\\u002fextra\\u003e\",\"legendgroup\":\"Italy, 2014\",\"marker\":{\"color\":\"#FFA15A\",\"symbol\":\"circle\"},\"mode\":\"markers\",\"name\":\"Italy, 2014\",\"orientation\":\"v\",\"showlegend\":true,\"x\":[null],\"xaxis\":\"x\",\"y\":[null],\"yaxis\":\"y\",\"type\":\"scatter\"},{\"hovertemplate\":\"geo=Italy\\u003cbr\\u003etime_period=2015\\u003cbr\\u003eZEV percent difference=%{x}\\u003cbr\\u003eEV percent difference=%{y}\\u003cextra\\u003e\\u003c\\u002fextra\\u003e\",\"legendgroup\":\"Italy, 2015\",\"marker\":{\"color\":\"#FFA15A\",\"symbol\":\"diamond\"},\"mode\":\"markers\",\"name\":\"Italy, 2015\",\"orientation\":\"v\",\"showlegend\":true,\"x\":[0.3357558139534883],\"xaxis\":\"x\",\"y\":[0.0072638758908985],\"yaxis\":\"y\",\"type\":\"scatter\"},{\"hovertemplate\":\"geo=Italy\\u003cbr\\u003etime_period=2016\\u003cbr\\u003eZEV percent difference=%{x}\\u003cbr\\u003eEV percent difference=%{y}\\u003cextra\\u003e\\u003c\\u002fextra\\u003e\",\"legendgroup\":\"Italy, 2016\",\"marker\":{\"color\":\"#FFA15A\",\"symbol\":\"square\"},\"mode\":\"markers\",\"name\":\"Italy, 2016\",\"orientation\":\"v\",\"showlegend\":true,\"x\":[0.2522306855277476],\"xaxis\":\"x\",\"y\":[0.0140239129423108],\"yaxis\":\"y\",\"type\":\"scatter\"},{\"hovertemplate\":\"geo=Italy\\u003cbr\\u003etime_period=2017\\u003cbr\\u003eZEV percent difference=%{x}\\u003cbr\\u003eEV percent difference=%{y}\\u003cextra\\u003e\\u003c\\u002fextra\\u003e\",\"legendgroup\":\"Italy, 2017\",\"marker\":{\"color\":\"#FFA15A\",\"symbol\":\"x\"},\"mode\":\"markers\",\"name\":\"Italy, 2017\",\"orientation\":\"v\",\"showlegend\":true,\"x\":[0.3157803267292318],\"xaxis\":\"x\",\"y\":[0.0169622256800987],\"yaxis\":\"y\",\"type\":\"scatter\"},{\"hovertemplate\":\"geo=Italy\\u003cbr\\u003etime_period=2018\\u003cbr\\u003eZEV percent difference=%{x}\\u003cbr\\u003eEV percent difference=%{y}\\u003cextra\\u003e\\u003c\\u002fextra\\u003e\",\"legendgroup\":\"Italy, 2018\",\"marker\":{\"color\":\"#FFA15A\",\"symbol\":\"cross\"},\"mode\":\"markers\",\"name\":\"Italy, 2018\",\"orientation\":\"v\",\"showlegend\":true,\"x\":[0.6070532294280808],\"xaxis\":\"x\",\"y\":[0.0128075247807544],\"yaxis\":\"y\",\"type\":\"scatter\"},{\"hovertemplate\":\"geo=Italy\\u003cbr\\u003etime_period=2019\\u003cbr\\u003eZEV percent difference=%{x}\\u003cbr\\u003eEV percent difference=%{y}\\u003cextra\\u003e\\u003c\\u002fextra\\u003e\",\"legendgroup\":\"Italy, 2019\",\"marker\":{\"color\":\"#FFA15A\",\"symbol\":\"circle\"},\"mode\":\"markers\",\"name\":\"Italy, 2019\",\"orientation\":\"v\",\"showlegend\":true,\"x\":[0.8703049231527903],\"xaxis\":\"x\",\"y\":[0.0132408593620833],\"yaxis\":\"y\",\"type\":\"scatter\"},{\"hovertemplate\":\"geo=Italy\\u003cbr\\u003etime_period=2020\\u003cbr\\u003eZEV percent difference=%{x}\\u003cbr\\u003eEV percent difference=%{y}\\u003cextra\\u003e\\u003c\\u002fextra\\u003e\",\"legendgroup\":\"Italy, 2020\",\"marker\":{\"color\":\"#FFA15A\",\"symbol\":\"diamond\"},\"mode\":\"markers\",\"name\":\"Italy, 2020\",\"orientation\":\"v\",\"showlegend\":true,\"x\":[1.334065740903498],\"xaxis\":\"x\",\"y\":[0.0036000780922733],\"yaxis\":\"y\",\"type\":\"scatter\"},{\"hovertemplate\":\"geo=Italy\\u003cbr\\u003etime_period=2021\\u003cbr\\u003eZEV percent difference=%{x}\\u003cbr\\u003eEV percent difference=%{y}\\u003cextra\\u003e\\u003c\\u002fextra\\u003e\",\"legendgroup\":\"Italy, 2021\",\"marker\":{\"color\":\"#FFA15A\",\"symbol\":\"square\"},\"mode\":\"markers\",\"name\":\"Italy, 2021\",\"orientation\":\"v\",\"showlegend\":true,\"x\":[1.2231238468200474],\"xaxis\":\"x\",\"y\":[0.0010055273245066],\"yaxis\":\"y\",\"type\":\"scatter\"},{\"hovertemplate\":\"geo=Italy\\u003cbr\\u003etime_period=2022\\u003cbr\\u003eZEV percent difference=%{x}\\u003cbr\\u003eEV percent difference=%{y}\\u003cextra\\u003e\\u003c\\u002fextra\\u003e\",\"legendgroup\":\"Italy, 2022\",\"marker\":{\"color\":\"#FFA15A\",\"symbol\":\"x\"},\"mode\":\"markers\",\"name\":\"Italy, 2022\",\"orientation\":\"v\",\"showlegend\":true,\"x\":[0.3396708982969029],\"xaxis\":\"x\",\"y\":[0.008820882514398],\"yaxis\":\"y\",\"type\":\"scatter\"},{\"hovertemplate\":\"geo=Italy\\u003cbr\\u003etime_period=2023\\u003cbr\\u003eZEV percent difference=%{x}\\u003cbr\\u003eEV percent difference=%{y}\\u003cextra\\u003e\\u003c\\u002fextra\\u003e\",\"legendgroup\":\"Italy, 2023\",\"marker\":{\"color\":\"#FFA15A\",\"symbol\":\"cross\"},\"mode\":\"markers\",\"name\":\"Italy, 2023\",\"orientation\":\"v\",\"showlegend\":true,\"x\":[0.3882177422923502],\"xaxis\":\"x\",\"y\":[0.015996979543613],\"yaxis\":\"y\",\"type\":\"scatter\"},{\"hovertemplate\":\"geo=Latvia\\u003cbr\\u003etime_period=2014\\u003cbr\\u003eZEV percent difference=%{x}\\u003cbr\\u003eEV percent difference=%{y}\\u003cextra\\u003e\\u003c\\u002fextra\\u003e\",\"legendgroup\":\"Latvia, 2014\",\"marker\":{\"color\":\"#19d3f3\",\"symbol\":\"circle\"},\"mode\":\"markers\",\"name\":\"Latvia, 2014\",\"orientation\":\"v\",\"showlegend\":true,\"x\":[null],\"xaxis\":\"x\",\"y\":[null],\"yaxis\":\"y\",\"type\":\"scatter\"},{\"hovertemplate\":\"geo=Latvia\\u003cbr\\u003etime_period=2015\\u003cbr\\u003eZEV percent difference=%{x}\\u003cbr\\u003eEV percent difference=%{y}\\u003cextra\\u003e\\u003c\\u002fextra\\u003e\",\"legendgroup\":\"Latvia, 2015\",\"marker\":{\"color\":\"#19d3f3\",\"symbol\":\"diamond\"},\"mode\":\"markers\",\"name\":\"Latvia, 2015\",\"orientation\":\"v\",\"showlegend\":true,\"x\":[0.1223404255319148],\"xaxis\":\"x\",\"y\":[0.0322774406145882],\"yaxis\":\"y\",\"type\":\"scatter\"},{\"hovertemplate\":\"geo=Latvia\\u003cbr\\u003etime_period=2016\\u003cbr\\u003eZEV percent difference=%{x}\\u003cbr\\u003eEV percent difference=%{y}\\u003cextra\\u003e\\u003c\\u002fextra\\u003e\",\"legendgroup\":\"Latvia, 2016\",\"marker\":{\"color\":\"#19d3f3\",\"symbol\":\"square\"},\"mode\":\"markers\",\"name\":\"Latvia, 2016\",\"orientation\":\"v\",\"showlegend\":true,\"x\":[0.1421800947867298],\"xaxis\":\"x\",\"y\":[-0.0219507775798903],\"yaxis\":\"y\",\"type\":\"scatter\"},{\"hovertemplate\":\"geo=Latvia\\u003cbr\\u003etime_period=2017\\u003cbr\\u003eZEV percent difference=%{x}\\u003cbr\\u003eEV percent difference=%{y}\\u003cextra\\u003e\\u003c\\u002fextra\\u003e\",\"legendgroup\":\"Latvia, 2017\",\"marker\":{\"color\":\"#19d3f3\",\"symbol\":\"x\"},\"mode\":\"markers\",\"name\":\"Latvia, 2017\",\"orientation\":\"v\",\"showlegend\":true,\"x\":[0.2946058091286307],\"xaxis\":\"x\",\"y\":[0.0380880084827453],\"yaxis\":\"y\",\"type\":\"scatter\"},{\"hovertemplate\":\"geo=Latvia\\u003cbr\\u003etime_period=2018\\u003cbr\\u003eZEV percent difference=%{x}\\u003cbr\\u003eEV percent difference=%{y}\\u003cextra\\u003e\\u003c\\u002fextra\\u003e\",\"legendgroup\":\"Latvia, 2018\",\"marker\":{\"color\":\"#19d3f3\",\"symbol\":\"cross\"},\"mode\":\"markers\",\"name\":\"Latvia, 2018\",\"orientation\":\"v\",\"showlegend\":true,\"x\":[0.4166666666666667],\"xaxis\":\"x\",\"y\":[0.0263702366719673],\"yaxis\":\"y\",\"type\":\"scatter\"},{\"hovertemplate\":\"geo=Latvia\\u003cbr\\u003etime_period=2019\\u003cbr\\u003eZEV percent difference=%{x}\\u003cbr\\u003eEV percent difference=%{y}\\u003cextra\\u003e\\u003c\\u002fextra\\u003e\",\"legendgroup\":\"Latvia, 2019\",\"marker\":{\"color\":\"#19d3f3\",\"symbol\":\"circle\"},\"mode\":\"markers\",\"name\":\"Latvia, 2019\",\"orientation\":\"v\",\"showlegend\":true,\"x\":[0.4886877828054298],\"xaxis\":\"x\",\"y\":[0.0270102162994293],\"yaxis\":\"y\",\"type\":\"scatter\"},{\"hovertemplate\":\"geo=Latvia\\u003cbr\\u003etime_period=2020\\u003cbr\\u003eZEV percent difference=%{x}\\u003cbr\\u003eEV percent difference=%{y}\\u003cextra\\u003e\\u003c\\u002fextra\\u003e\",\"legendgroup\":\"Latvia, 2020\",\"marker\":{\"color\":\"#19d3f3\",\"symbol\":\"diamond\"},\"mode\":\"markers\",\"name\":\"Latvia, 2020\",\"orientation\":\"v\",\"showlegend\":true,\"x\":[0.831306990881459],\"xaxis\":\"x\",\"y\":[0.0157094366736131],\"yaxis\":\"y\",\"type\":\"scatter\"},{\"hovertemplate\":\"geo=Latvia\\u003cbr\\u003etime_period=2021\\u003cbr\\u003eZEV percent difference=%{x}\\u003cbr\\u003eEV percent difference=%{y}\\u003cextra\\u003e\\u003c\\u002fextra\\u003e\",\"legendgroup\":\"Latvia, 2021\",\"marker\":{\"color\":\"#19d3f3\",\"symbol\":\"square\"},\"mode\":\"markers\",\"name\":\"Latvia, 2021\",\"orientation\":\"v\",\"showlegend\":true,\"x\":[0.7477178423236515],\"xaxis\":\"x\",\"y\":[0.025291393770861],\"yaxis\":\"y\",\"type\":\"scatter\"},{\"hovertemplate\":\"geo=Latvia\\u003cbr\\u003etime_period=2022\\u003cbr\\u003eZEV percent difference=%{x}\\u003cbr\\u003eEV percent difference=%{y}\\u003cextra\\u003e\\u003c\\u002fextra\\u003e\",\"legendgroup\":\"Latvia, 2022\",\"marker\":{\"color\":\"#19d3f3\",\"symbol\":\"x\"},\"mode\":\"markers\",\"name\":\"Latvia, 2022\",\"orientation\":\"v\",\"showlegend\":true,\"x\":[0.8195631528964862],\"xaxis\":\"x\",\"y\":[0.0123040199211717],\"yaxis\":\"y\",\"type\":\"scatter\"},{\"hovertemplate\":\"geo=Latvia\\u003cbr\\u003etime_period=2023\\u003cbr\\u003eZEV percent difference=%{x}\\u003cbr\\u003eEV percent difference=%{y}\\u003cextra\\u003e\\u003c\\u002fextra\\u003e\",\"legendgroup\":\"Latvia, 2023\",\"marker\":{\"color\":\"#19d3f3\",\"symbol\":\"cross\"},\"mode\":\"markers\",\"name\":\"Latvia, 2023\",\"orientation\":\"v\",\"showlegend\":true,\"x\":[0.6620563674321504],\"xaxis\":\"x\",\"y\":[0.0123124569945331],\"yaxis\":\"y\",\"type\":\"scatter\"},{\"hovertemplate\":\"geo=Lithuania\\u003cbr\\u003etime_period=2014\\u003cbr\\u003eZEV percent difference=%{x}\\u003cbr\\u003eEV percent difference=%{y}\\u003cextra\\u003e\\u003c\\u002fextra\\u003e\",\"legendgroup\":\"Lithuania, 2014\",\"marker\":{\"color\":\"#FF6692\",\"symbol\":\"circle\"},\"mode\":\"markers\",\"name\":\"Lithuania, 2014\",\"orientation\":\"v\",\"showlegend\":true,\"x\":[null],\"xaxis\":\"x\",\"y\":[null],\"yaxis\":\"y\",\"type\":\"scatter\"},{\"hovertemplate\":\"geo=Lithuania\\u003cbr\\u003etime_period=2015\\u003cbr\\u003eZEV percent difference=%{x}\\u003cbr\\u003eEV percent difference=%{y}\\u003cextra\\u003e\\u003c\\u002fextra\\u003e\",\"legendgroup\":\"Lithuania, 2015\",\"marker\":{\"color\":\"#FF6692\",\"symbol\":\"diamond\"},\"mode\":\"markers\",\"name\":\"Lithuania, 2015\",\"orientation\":\"v\",\"showlegend\":true,\"x\":[1.4142857142857144],\"xaxis\":\"x\",\"y\":[0.0317651489136511],\"yaxis\":\"y\",\"type\":\"scatter\"},{\"hovertemplate\":\"geo=Lithuania\\u003cbr\\u003etime_period=2016\\u003cbr\\u003eZEV percent difference=%{x}\\u003cbr\\u003eEV percent difference=%{y}\\u003cextra\\u003e\\u003c\\u002fextra\\u003e\",\"legendgroup\":\"Lithuania, 2016\",\"marker\":{\"color\":\"#FF6692\",\"symbol\":\"square\"},\"mode\":\"markers\",\"name\":\"Lithuania, 2016\",\"orientation\":\"v\",\"showlegend\":true,\"x\":[1.118343195266272],\"xaxis\":\"x\",\"y\":[0.0438019638329311],\"yaxis\":\"y\",\"type\":\"scatter\"},{\"hovertemplate\":\"geo=Lithuania\\u003cbr\\u003etime_period=2017\\u003cbr\\u003eZEV percent difference=%{x}\\u003cbr\\u003eEV percent difference=%{y}\\u003cextra\\u003e\\u003c\\u002fextra\\u003e\",\"legendgroup\":\"Lithuania, 2017\",\"marker\":{\"color\":\"#FF6692\",\"symbol\":\"x\"},\"mode\":\"markers\",\"name\":\"Lithuania, 2017\",\"orientation\":\"v\",\"showlegend\":true,\"x\":[0.729050279329609],\"xaxis\":\"x\",\"y\":[0.0446626139208967],\"yaxis\":\"y\",\"type\":\"scatter\"},{\"hovertemplate\":\"geo=Lithuania\\u003cbr\\u003etime_period=2018\\u003cbr\\u003eZEV percent difference=%{x}\\u003cbr\\u003eEV percent difference=%{y}\\u003cextra\\u003e\\u003c\\u002fextra\\u003e\",\"legendgroup\":\"Lithuania, 2018\",\"marker\":{\"color\":\"#FF6692\",\"symbol\":\"cross\"},\"mode\":\"markers\",\"name\":\"Lithuania, 2018\",\"orientation\":\"v\",\"showlegend\":true,\"x\":[0.5589660743134087],\"xaxis\":\"x\",\"y\":[0.0539580703761811],\"yaxis\":\"y\",\"type\":\"scatter\"},{\"hovertemplate\":\"geo=Lithuania\\u003cbr\\u003etime_period=2019\\u003cbr\\u003eZEV percent difference=%{x}\\u003cbr\\u003eEV percent difference=%{y}\\u003cextra\\u003e\\u003c\\u002fextra\\u003e\",\"legendgroup\":\"Lithuania, 2019\",\"marker\":{\"color\":\"#FF6692\",\"symbol\":\"circle\"},\"mode\":\"markers\",\"name\":\"Lithuania, 2019\",\"orientation\":\"v\",\"showlegend\":true,\"x\":[0.4455958549222797],\"xaxis\":\"x\",\"y\":[0.0473839761324328],\"yaxis\":\"y\",\"type\":\"scatter\"},{\"hovertemplate\":\"geo=Lithuania\\u003cbr\\u003etime_period=2020\\u003cbr\\u003eZEV percent difference=%{x}\\u003cbr\\u003eEV percent difference=%{y}\\u003cextra\\u003e\\u003c\\u002fextra\\u003e\",\"legendgroup\":\"Lithuania, 2020\",\"marker\":{\"color\":\"#FF6692\",\"symbol\":\"diamond\"},\"mode\":\"markers\",\"name\":\"Lithuania, 2020\",\"orientation\":\"v\",\"showlegend\":true,\"x\":[0.7741935483870968],\"xaxis\":\"x\",\"y\":[0.043877183690834],\"yaxis\":\"y\",\"type\":\"scatter\"},{\"hovertemplate\":\"geo=Lithuania\\u003cbr\\u003etime_period=2021\\u003cbr\\u003eZEV percent difference=%{x}\\u003cbr\\u003eEV percent difference=%{y}\\u003cextra\\u003e\\u003c\\u002fextra\\u003e\",\"legendgroup\":\"Lithuania, 2021\",\"marker\":{\"color\":\"#FF6692\",\"symbol\":\"square\"},\"mode\":\"markers\",\"name\":\"Lithuania, 2021\",\"orientation\":\"v\",\"showlegend\":true,\"x\":[0.951919191919192],\"xaxis\":\"x\",\"y\":[0.0277173878271773],\"yaxis\":\"y\",\"type\":\"scatter\"},{\"hovertemplate\":\"geo=Lithuania\\u003cbr\\u003etime_period=2022\\u003cbr\\u003eZEV percent difference=%{x}\\u003cbr\\u003eEV percent difference=%{y}\\u003cextra\\u003e\\u003c\\u002fextra\\u003e\",\"legendgroup\":\"Lithuania, 2022\",\"marker\":{\"color\":\"#FF6692\",\"symbol\":\"x\"},\"mode\":\"markers\",\"name\":\"Lithuania, 2022\",\"orientation\":\"v\",\"showlegend\":true,\"x\":[0.5123162906230594],\"xaxis\":\"x\",\"y\":[0.022888455044848],\"yaxis\":\"y\",\"type\":\"scatter\"},{\"hovertemplate\":\"geo=Lithuania\\u003cbr\\u003etime_period=2023\\u003cbr\\u003eZEV percent difference=%{x}\\u003cbr\\u003eEV percent difference=%{y}\\u003cextra\\u003e\\u003c\\u002fextra\\u003e\",\"legendgroup\":\"Lithuania, 2023\",\"marker\":{\"color\":\"#FF6692\",\"symbol\":\"cross\"},\"mode\":\"markers\",\"name\":\"Lithuania, 2023\",\"orientation\":\"v\",\"showlegend\":true,\"x\":[0.5637831918970709],\"xaxis\":\"x\",\"y\":[0.0280090172225542],\"yaxis\":\"y\",\"type\":\"scatter\"},{\"hovertemplate\":\"geo=Luxembourg\\u003cbr\\u003etime_period=2014\\u003cbr\\u003eZEV percent difference=%{x}\\u003cbr\\u003eEV percent difference=%{y}\\u003cextra\\u003e\\u003c\\u002fextra\\u003e\",\"legendgroup\":\"Luxembourg, 2014\",\"marker\":{\"color\":\"#B6E880\",\"symbol\":\"circle\"},\"mode\":\"markers\",\"name\":\"Luxembourg, 2014\",\"orientation\":\"v\",\"showlegend\":true,\"x\":[null],\"xaxis\":\"x\",\"y\":[null],\"yaxis\":\"y\",\"type\":\"scatter\"},{\"hovertemplate\":\"geo=Luxembourg\\u003cbr\\u003etime_period=2015\\u003cbr\\u003eZEV percent difference=%{x}\\u003cbr\\u003eEV percent difference=%{y}\\u003cextra\\u003e\\u003c\\u002fextra\\u003e\",\"legendgroup\":\"Luxembourg, 2015\",\"marker\":{\"color\":\"#B6E880\",\"symbol\":\"diamond\"},\"mode\":\"markers\",\"name\":\"Luxembourg, 2015\",\"orientation\":\"v\",\"showlegend\":true,\"x\":[0.1068702290076335],\"xaxis\":\"x\",\"y\":[0.0220787906624442],\"yaxis\":\"y\",\"type\":\"scatter\"},{\"hovertemplate\":\"geo=Luxembourg\\u003cbr\\u003etime_period=2016\\u003cbr\\u003eZEV percent difference=%{x}\\u003cbr\\u003eEV percent difference=%{y}\\u003cextra\\u003e\\u003c\\u002fextra\\u003e\",\"legendgroup\":\"Luxembourg, 2016\",\"marker\":{\"color\":\"#B6E880\",\"symbol\":\"square\"},\"mode\":\"markers\",\"name\":\"Luxembourg, 2016\",\"orientation\":\"v\",\"showlegend\":true,\"x\":[0.1810344827586207],\"xaxis\":\"x\",\"y\":[0.0255621867797741],\"yaxis\":\"y\",\"type\":\"scatter\"},{\"hovertemplate\":\"geo=Luxembourg\\u003cbr\\u003etime_period=2017\\u003cbr\\u003eZEV percent difference=%{x}\\u003cbr\\u003eEV percent difference=%{y}\\u003cextra\\u003e\\u003c\\u002fextra\\u003e\",\"legendgroup\":\"Luxembourg, 2017\",\"marker\":{\"color\":\"#B6E880\",\"symbol\":\"x\"},\"mode\":\"markers\",\"name\":\"Luxembourg, 2017\",\"orientation\":\"v\",\"showlegend\":true,\"x\":[0.4160583941605839],\"xaxis\":\"x\",\"y\":[0.0309083920563741],\"yaxis\":\"y\",\"type\":\"scatter\"},{\"hovertemplate\":\"geo=Luxembourg\\u003cbr\\u003etime_period=2018\\u003cbr\\u003eZEV percent difference=%{x}\\u003cbr\\u003eEV percent difference=%{y}\\u003cextra\\u003e\\u003c\\u002fextra\\u003e\",\"legendgroup\":\"Luxembourg, 2018\",\"marker\":{\"color\":\"#B6E880\",\"symbol\":\"cross\"},\"mode\":\"markers\",\"name\":\"Luxembourg, 2018\",\"orientation\":\"v\",\"showlegend\":true,\"x\":[0.379381443298969],\"xaxis\":\"x\",\"y\":[0.028572351806558],\"yaxis\":\"y\",\"type\":\"scatter\"},{\"hovertemplate\":\"geo=Luxembourg\\u003cbr\\u003etime_period=2019\\u003cbr\\u003eZEV percent difference=%{x}\\u003cbr\\u003eEV percent difference=%{y}\\u003cextra\\u003e\\u003c\\u002fextra\\u003e\",\"legendgroup\":\"Luxembourg, 2019\",\"marker\":{\"color\":\"#B6E880\",\"symbol\":\"circle\"},\"mode\":\"markers\",\"name\":\"Luxembourg, 2019\",\"orientation\":\"v\",\"showlegend\":true,\"x\":[0.6420029895366218],\"xaxis\":\"x\",\"y\":[0.0249923273410067],\"yaxis\":\"y\",\"type\":\"scatter\"},{\"hovertemplate\":\"geo=Luxembourg\\u003cbr\\u003etime_period=2020\\u003cbr\\u003eZEV percent difference=%{x}\\u003cbr\\u003eEV percent difference=%{y}\\u003cextra\\u003e\\u003c\\u002fextra\\u003e\",\"legendgroup\":\"Luxembourg, 2020\",\"marker\":{\"color\":\"#B6E880\",\"symbol\":\"diamond\"},\"mode\":\"markers\",\"name\":\"Luxembourg, 2020\",\"orientation\":\"v\",\"showlegend\":true,\"x\":[0.836140191169777],\"xaxis\":\"x\",\"y\":[0.0117883102400335],\"yaxis\":\"y\",\"type\":\"scatter\"},{\"hovertemplate\":\"geo=Luxembourg\\u003cbr\\u003etime_period=2021\\u003cbr\\u003eZEV percent difference=%{x}\\u003cbr\\u003eEV percent difference=%{y}\\u003cextra\\u003e\\u003c\\u002fextra\\u003e\",\"legendgroup\":\"Luxembourg, 2021\",\"marker\":{\"color\":\"#B6E880\",\"symbol\":\"square\"},\"mode\":\"markers\",\"name\":\"Luxembourg, 2021\",\"orientation\":\"v\",\"showlegend\":true,\"x\":[0.9737233515121468],\"xaxis\":\"x\",\"y\":[0.0065431819717627],\"yaxis\":\"y\",\"type\":\"scatter\"},{\"hovertemplate\":\"geo=Luxembourg\\u003cbr\\u003etime_period=2022\\u003cbr\\u003eZEV percent difference=%{x}\\u003cbr\\u003eEV percent difference=%{y}\\u003cextra\\u003e\\u003c\\u002fextra\\u003e\",\"legendgroup\":\"Luxembourg, 2022\",\"marker\":{\"color\":\"#B6E880\",\"symbol\":\"x\"},\"mode\":\"markers\",\"name\":\"Luxembourg, 2022\",\"orientation\":\"v\",\"showlegend\":true,\"x\":[0.7474252700326551],\"xaxis\":\"x\",\"y\":[-0.0024354276004324],\"yaxis\":\"y\",\"type\":\"scatter\"},{\"hovertemplate\":\"geo=Luxembourg\\u003cbr\\u003etime_period=2023\\u003cbr\\u003eZEV percent difference=%{x}\\u003cbr\\u003eEV percent difference=%{y}\\u003cextra\\u003e\\u003c\\u002fextra\\u003e\",\"legendgroup\":\"Luxembourg, 2023\",\"marker\":{\"color\":\"#B6E880\",\"symbol\":\"cross\"},\"mode\":\"markers\",\"name\":\"Luxembourg, 2023\",\"orientation\":\"v\",\"showlegend\":true,\"x\":[0.6726083519010997],\"xaxis\":\"x\",\"y\":[-0.00130423179123],\"yaxis\":\"y\",\"type\":\"scatter\"},{\"hovertemplate\":\"geo=Malta\\u003cbr\\u003etime_period=2014\\u003cbr\\u003eZEV percent difference=%{x}\\u003cbr\\u003eEV percent difference=%{y}\\u003cextra\\u003e\\u003c\\u002fextra\\u003e\",\"legendgroup\":\"Malta, 2014\",\"marker\":{\"color\":\"#FF97FF\",\"symbol\":\"circle\"},\"mode\":\"markers\",\"name\":\"Malta, 2014\",\"orientation\":\"v\",\"showlegend\":true,\"x\":[null],\"xaxis\":\"x\",\"y\":[null],\"yaxis\":\"y\",\"type\":\"scatter\"},{\"hovertemplate\":\"geo=Malta\\u003cbr\\u003etime_period=2015\\u003cbr\\u003eZEV percent difference=%{x}\\u003cbr\\u003eEV percent difference=%{y}\\u003cextra\\u003e\\u003c\\u002fextra\\u003e\",\"legendgroup\":\"Malta, 2015\",\"marker\":{\"color\":\"#FF97FF\",\"symbol\":\"diamond\"},\"mode\":\"markers\",\"name\":\"Malta, 2015\",\"orientation\":\"v\",\"showlegend\":true,\"x\":[0.5632183908045977],\"xaxis\":\"x\",\"y\":[0.0352850904413175],\"yaxis\":\"y\",\"type\":\"scatter\"},{\"hovertemplate\":\"geo=Malta\\u003cbr\\u003etime_period=2016\\u003cbr\\u003eZEV percent difference=%{x}\\u003cbr\\u003eEV percent difference=%{y}\\u003cextra\\u003e\\u003c\\u002fextra\\u003e\",\"legendgroup\":\"Malta, 2016\",\"marker\":{\"color\":\"#FF97FF\",\"symbol\":\"square\"},\"mode\":\"markers\",\"name\":\"Malta, 2016\",\"orientation\":\"v\",\"showlegend\":true,\"x\":[0.0294117647058823],\"xaxis\":\"x\",\"y\":[0.0273829765589803],\"yaxis\":\"y\",\"type\":\"scatter\"},{\"hovertemplate\":\"geo=Malta\\u003cbr\\u003etime_period=2017\\u003cbr\\u003eZEV percent difference=%{x}\\u003cbr\\u003eEV percent difference=%{y}\\u003cextra\\u003e\\u003c\\u002fextra\\u003e\",\"legendgroup\":\"Malta, 2017\",\"marker\":{\"color\":\"#FF97FF\",\"symbol\":\"x\"},\"mode\":\"markers\",\"name\":\"Malta, 2017\",\"orientation\":\"v\",\"showlegend\":true,\"x\":[0.35],\"xaxis\":\"x\",\"y\":[0.0312185047793168],\"yaxis\":\"y\",\"type\":\"scatter\"},{\"hovertemplate\":\"geo=Malta\\u003cbr\\u003etime_period=2018\\u003cbr\\u003eZEV percent difference=%{x}\\u003cbr\\u003eEV percent difference=%{y}\\u003cextra\\u003e\\u003c\\u002fextra\\u003e\",\"legendgroup\":\"Malta, 2018\",\"marker\":{\"color\":\"#FF97FF\",\"symbol\":\"cross\"},\"mode\":\"markers\",\"name\":\"Malta, 2018\",\"orientation\":\"v\",\"showlegend\":true,\"x\":[2.1904761904761907],\"xaxis\":\"x\",\"y\":[0.0271870895617076],\"yaxis\":\"y\",\"type\":\"scatter\"},{\"hovertemplate\":\"geo=Malta\\u003cbr\\u003etime_period=2019\\u003cbr\\u003eZEV percent difference=%{x}\\u003cbr\\u003eEV percent difference=%{y}\\u003cextra\\u003e\\u003c\\u002fextra\\u003e\",\"legendgroup\":\"Malta, 2019\",\"marker\":{\"color\":\"#FF97FF\",\"symbol\":\"circle\"},\"mode\":\"markers\",\"name\":\"Malta, 2019\",\"orientation\":\"v\",\"showlegend\":true,\"x\":[0.6301824212271974],\"xaxis\":\"x\",\"y\":[0.0220673906729385],\"yaxis\":\"y\",\"type\":\"scatter\"},{\"hovertemplate\":\"geo=Malta\\u003cbr\\u003etime_period=2020\\u003cbr\\u003eZEV percent difference=%{x}\\u003cbr\\u003eEV percent difference=%{y}\\u003cextra\\u003e\\u003c\\u002fextra\\u003e\",\"legendgroup\":\"Malta, 2020\",\"marker\":{\"color\":\"#FF97FF\",\"symbol\":\"diamond\"},\"mode\":\"markers\",\"name\":\"Malta, 2020\",\"orientation\":\"v\",\"showlegend\":true,\"x\":[0.3153611393692777],\"xaxis\":\"x\",\"y\":[0.0029985595155268],\"yaxis\":\"y\",\"type\":\"scatter\"},{\"hovertemplate\":\"geo=Malta\\u003cbr\\u003etime_period=2021\\u003cbr\\u003eZEV percent difference=%{x}\\u003cbr\\u003eEV percent difference=%{y}\\u003cextra\\u003e\\u003c\\u002fextra\\u003e\",\"legendgroup\":\"Malta, 2021\",\"marker\":{\"color\":\"#FF97FF\",\"symbol\":\"square\"},\"mode\":\"markers\",\"name\":\"Malta, 2021\",\"orientation\":\"v\",\"showlegend\":true,\"x\":[0.3789636504253673],\"xaxis\":\"x\",\"y\":[0.0140979922817644],\"yaxis\":\"y\",\"type\":\"scatter\"},{\"hovertemplate\":\"geo=Malta\\u003cbr\\u003etime_period=2022\\u003cbr\\u003eZEV percent difference=%{x}\\u003cbr\\u003eEV percent difference=%{y}\\u003cextra\\u003e\\u003c\\u002fextra\\u003e\",\"legendgroup\":\"Malta, 2022\",\"marker\":{\"color\":\"#FF97FF\",\"symbol\":\"x\"},\"mode\":\"markers\",\"name\":\"Malta, 2022\",\"orientation\":\"v\",\"showlegend\":true,\"x\":[0.5720695457094784],\"xaxis\":\"x\",\"y\":[0.0097529175257069],\"yaxis\":\"y\",\"type\":\"scatter\"},{\"hovertemplate\":\"geo=Malta\\u003cbr\\u003etime_period=2023\\u003cbr\\u003eZEV percent difference=%{x}\\u003cbr\\u003eEV percent difference=%{y}\\u003cextra\\u003e\\u003c\\u002fextra\\u003e\",\"legendgroup\":\"Malta, 2023\",\"marker\":{\"color\":\"#FF97FF\",\"symbol\":\"cross\"},\"mode\":\"markers\",\"name\":\"Malta, 2023\",\"orientation\":\"v\",\"showlegend\":true,\"x\":[0.5569033178737067],\"xaxis\":\"x\",\"y\":[0.0160830198040269],\"yaxis\":\"y\",\"type\":\"scatter\"},{\"hovertemplate\":\"geo=Netherlands\\u003cbr\\u003etime_period=2014\\u003cbr\\u003eZEV percent difference=%{x}\\u003cbr\\u003eEV percent difference=%{y}\\u003cextra\\u003e\\u003c\\u002fextra\\u003e\",\"legendgroup\":\"Netherlands, 2014\",\"marker\":{\"color\":\"#FECB52\",\"symbol\":\"circle\"},\"mode\":\"markers\",\"name\":\"Netherlands, 2014\",\"orientation\":\"v\",\"showlegend\":true,\"x\":[null],\"xaxis\":\"x\",\"y\":[null],\"yaxis\":\"y\",\"type\":\"scatter\"},{\"hovertemplate\":\"geo=Netherlands\\u003cbr\\u003etime_period=2015\\u003cbr\\u003eZEV percent difference=%{x}\\u003cbr\\u003eEV percent difference=%{y}\\u003cextra\\u003e\\u003c\\u002fextra\\u003e\",\"legendgroup\":\"Netherlands, 2015\",\"marker\":{\"color\":\"#FECB52\",\"symbol\":\"diamond\"},\"mode\":\"markers\",\"name\":\"Netherlands, 2015\",\"orientation\":\"v\",\"showlegend\":true,\"x\":[0.4627106227106227],\"xaxis\":\"x\",\"y\":[0.0148794732935135],\"yaxis\":\"y\",\"type\":\"scatter\"},{\"hovertemplate\":\"geo=Netherlands\\u003cbr\\u003etime_period=2016\\u003cbr\\u003eZEV percent difference=%{x}\\u003cbr\\u003eEV percent difference=%{y}\\u003cextra\\u003e\\u003c\\u002fextra\\u003e\",\"legendgroup\":\"Netherlands, 2016\",\"marker\":{\"color\":\"#FECB52\",\"symbol\":\"square\"},\"mode\":\"markers\",\"name\":\"Netherlands, 2016\",\"orientation\":\"v\",\"showlegend\":true,\"x\":[0.3748372232795753],\"xaxis\":\"x\",\"y\":[0.0146298036023518],\"yaxis\":\"y\",\"type\":\"scatter\"},{\"hovertemplate\":\"geo=Netherlands\\u003cbr\\u003etime_period=2017\\u003cbr\\u003eZEV percent difference=%{x}\\u003cbr\\u003eEV percent difference=%{y}\\u003cextra\\u003e\\u003c\\u002fextra\\u003e\",\"legendgroup\":\"Netherlands, 2017\",\"marker\":{\"color\":\"#FECB52\",\"symbol\":\"x\"},\"mode\":\"markers\",\"name\":\"Netherlands, 2017\",\"orientation\":\"v\",\"showlegend\":true,\"x\":[0.5929326047358834],\"xaxis\":\"x\",\"y\":[0.0173136422101461],\"yaxis\":\"y\",\"type\":\"scatter\"},{\"hovertemplate\":\"geo=Netherlands\\u003cbr\\u003etime_period=2018\\u003cbr\\u003eZEV percent difference=%{x}\\u003cbr\\u003eEV percent difference=%{y}\\u003cextra\\u003e\\u003c\\u002fextra\\u003e\",\"legendgroup\":\"Netherlands, 2018\",\"marker\":{\"color\":\"#FECB52\",\"symbol\":\"cross\"},\"mode\":\"markers\",\"name\":\"Netherlands, 2018\",\"orientation\":\"v\",\"showlegend\":true,\"x\":[1.039747518638796],\"xaxis\":\"x\",\"y\":[0.0056285301796193],\"yaxis\":\"y\",\"type\":\"scatter\"},{\"hovertemplate\":\"geo=Netherlands\\u003cbr\\u003etime_period=2019\\u003cbr\\u003eZEV percent difference=%{x}\\u003cbr\\u003eEV percent difference=%{y}\\u003cextra\\u003e\\u003c\\u002fextra\\u003e\",\"legendgroup\":\"Netherlands, 2019\",\"marker\":{\"color\":\"#FECB52\",\"symbol\":\"circle\"},\"mode\":\"markers\",\"name\":\"Netherlands, 2019\",\"orientation\":\"v\",\"showlegend\":true,\"x\":[1.3825316739544793],\"xaxis\":\"x\",\"y\":[0.0094964664047989],\"yaxis\":\"y\",\"type\":\"scatter\"},{\"hovertemplate\":\"geo=Netherlands\\u003cbr\\u003etime_period=2020\\u003cbr\\u003eZEV percent difference=%{x}\\u003cbr\\u003eEV percent difference=%{y}\\u003cextra\\u003e\\u003c\\u002fextra\\u003e\",\"legendgroup\":\"Netherlands, 2020\",\"marker\":{\"color\":\"#FECB52\",\"symbol\":\"diamond\"},\"mode\":\"markers\",\"name\":\"Netherlands, 2020\",\"orientation\":\"v\",\"showlegend\":true,\"x\":[0.6359212792590989],\"xaxis\":\"x\",\"y\":[0.0040648057086092],\"yaxis\":\"y\",\"type\":\"scatter\"},{\"hovertemplate\":\"geo=Netherlands\\u003cbr\\u003etime_period=2021\\u003cbr\\u003eZEV percent difference=%{x}\\u003cbr\\u003eEV percent difference=%{y}\\u003cextra\\u003e\\u003c\\u002fextra\\u003e\",\"legendgroup\":\"Netherlands, 2021\",\"marker\":{\"color\":\"#FECB52\",\"symbol\":\"square\"},\"mode\":\"markers\",\"name\":\"Netherlands, 2021\",\"orientation\":\"v\",\"showlegend\":true,\"x\":[0.4102120070189569],\"xaxis\":\"x\",\"y\":[0.0082218085088887],\"yaxis\":\"y\",\"type\":\"scatter\"},{\"hovertemplate\":\"geo=Netherlands\\u003cbr\\u003etime_period=2022\\u003cbr\\u003eZEV percent difference=%{x}\\u003cbr\\u003eEV percent difference=%{y}\\u003cextra\\u003e\\u003c\\u002fextra\\u003e\",\"legendgroup\":\"Netherlands, 2022\",\"marker\":{\"color\":\"#FECB52\",\"symbol\":\"x\"},\"mode\":\"markers\",\"name\":\"Netherlands, 2022\",\"orientation\":\"v\",\"showlegend\":true,\"x\":[0.3468684214820738],\"xaxis\":\"x\",\"y\":[0.0005097527052721],\"yaxis\":\"y\",\"type\":\"scatter\"},{\"hovertemplate\":\"geo=Netherlands\\u003cbr\\u003etime_period=2023\\u003cbr\\u003eZEV percent difference=%{x}\\u003cbr\\u003eEV percent difference=%{y}\\u003cextra\\u003e\\u003c\\u002fextra\\u003e\",\"legendgroup\":\"Netherlands, 2023\",\"marker\":{\"color\":\"#FECB52\",\"symbol\":\"cross\"},\"mode\":\"markers\",\"name\":\"Netherlands, 2023\",\"orientation\":\"v\",\"showlegend\":true,\"x\":[0.3419317317857024],\"xaxis\":\"x\",\"y\":[-0.0113131899408499],\"yaxis\":\"y\",\"type\":\"scatter\"},{\"hovertemplate\":\"geo=Poland\\u003cbr\\u003etime_period=2014\\u003cbr\\u003eZEV percent difference=%{x}\\u003cbr\\u003eEV percent difference=%{y}\\u003cextra\\u003e\\u003c\\u002fextra\\u003e\",\"legendgroup\":\"Poland, 2014\",\"marker\":{\"color\":\"#636efa\",\"symbol\":\"circle\"},\"mode\":\"markers\",\"name\":\"Poland, 2014\",\"orientation\":\"v\",\"showlegend\":true,\"x\":[null],\"xaxis\":\"x\",\"y\":[null],\"yaxis\":\"y\",\"type\":\"scatter\"},{\"hovertemplate\":\"geo=Poland\\u003cbr\\u003etime_period=2015\\u003cbr\\u003eZEV percent difference=%{x}\\u003cbr\\u003eEV percent difference=%{y}\\u003cextra\\u003e\\u003c\\u002fextra\\u003e\",\"legendgroup\":\"Poland, 2015\",\"marker\":{\"color\":\"#636efa\",\"symbol\":\"diamond\"},\"mode\":\"markers\",\"name\":\"Poland, 2015\",\"orientation\":\"v\",\"showlegend\":true,\"x\":[0.4313725490196078],\"xaxis\":\"x\",\"y\":[-0.0995892261985401],\"yaxis\":\"y\",\"type\":\"scatter\"},{\"hovertemplate\":\"geo=Poland\\u003cbr\\u003etime_period=2016\\u003cbr\\u003eZEV percent difference=%{x}\\u003cbr\\u003eEV percent difference=%{y}\\u003cextra\\u003e\\u003c\\u002fextra\\u003e\",\"legendgroup\":\"Poland, 2016\",\"marker\":{\"color\":\"#636efa\",\"symbol\":\"square\"},\"mode\":\"markers\",\"name\":\"Poland, 2016\",\"orientation\":\"v\",\"showlegend\":true,\"x\":[0.589041095890411],\"xaxis\":\"x\",\"y\":[0.0392250397467048],\"yaxis\":\"y\",\"type\":\"scatter\"},{\"hovertemplate\":\"geo=Poland\\u003cbr\\u003etime_period=2017\\u003cbr\\u003eZEV percent difference=%{x}\\u003cbr\\u003eEV percent difference=%{y}\\u003cextra\\u003e\\u003c\\u002fextra\\u003e\",\"legendgroup\":\"Poland, 2017\",\"marker\":{\"color\":\"#636efa\",\"symbol\":\"x\"},\"mode\":\"markers\",\"name\":\"Poland, 2017\",\"orientation\":\"v\",\"showlegend\":true,\"x\":[1.5747126436781609],\"xaxis\":\"x\",\"y\":[0.0292317152525421],\"yaxis\":\"y\",\"type\":\"scatter\"},{\"hovertemplate\":\"geo=Poland\\u003cbr\\u003etime_period=2018\\u003cbr\\u003eZEV percent difference=%{x}\\u003cbr\\u003eEV percent difference=%{y}\\u003cextra\\u003e\\u003c\\u002fextra\\u003e\",\"legendgroup\":\"Poland, 2018\",\"marker\":{\"color\":\"#636efa\",\"symbol\":\"cross\"},\"mode\":\"markers\",\"name\":\"Poland, 2018\",\"orientation\":\"v\",\"showlegend\":true,\"x\":[2.369419642857143],\"xaxis\":\"x\",\"y\":[0.0333693031603426],\"yaxis\":\"y\",\"type\":\"scatter\"},{\"hovertemplate\":\"geo=Poland\\u003cbr\\u003etime_period=2019\\u003cbr\\u003eZEV percent difference=%{x}\\u003cbr\\u003eEV percent difference=%{y}\\u003cextra\\u003e\\u003c\\u002fextra\\u003e\",\"legendgroup\":\"Poland, 2019\",\"marker\":{\"color\":\"#636efa\",\"symbol\":\"circle\"},\"mode\":\"markers\",\"name\":\"Poland, 2019\",\"orientation\":\"v\",\"showlegend\":true,\"x\":[0.7214309373964889],\"xaxis\":\"x\",\"y\":[0.0316986241973613],\"yaxis\":\"y\",\"type\":\"scatter\"},{\"hovertemplate\":\"geo=Poland\\u003cbr\\u003etime_period=2020\\u003cbr\\u003eZEV percent difference=%{x}\\u003cbr\\u003eEV percent difference=%{y}\\u003cextra\\u003e\\u003c\\u002fextra\\u003e\",\"legendgroup\":\"Poland, 2020\",\"marker\":{\"color\":\"#636efa\",\"symbol\":\"diamond\"},\"mode\":\"markers\",\"name\":\"Poland, 2020\",\"orientation\":\"v\",\"showlegend\":true,\"x\":[0.8805079853761786],\"xaxis\":\"x\",\"y\":[0.0212737656534616],\"yaxis\":\"y\",\"type\":\"scatter\"},{\"hovertemplate\":\"geo=Poland\\u003cbr\\u003etime_period=2021\\u003cbr\\u003eZEV percent difference=%{x}\\u003cbr\\u003eEV percent difference=%{y}\\u003cextra\\u003e\\u003c\\u002fextra\\u003e\",\"legendgroup\":\"Poland, 2021\",\"marker\":{\"color\":\"#636efa\",\"symbol\":\"square\"},\"mode\":\"markers\",\"name\":\"Poland, 2021\",\"orientation\":\"v\",\"showlegend\":true,\"x\":[0.8614550291619769],\"xaxis\":\"x\",\"y\":[0.0172445372569876],\"yaxis\":\"y\",\"type\":\"scatter\"},{\"hovertemplate\":\"geo=Poland\\u003cbr\\u003etime_period=2022\\u003cbr\\u003eZEV percent difference=%{x}\\u003cbr\\u003eEV percent difference=%{y}\\u003cextra\\u003e\\u003c\\u002fextra\\u003e\",\"legendgroup\":\"Poland, 2022\",\"marker\":{\"color\":\"#636efa\",\"symbol\":\"x\"},\"mode\":\"markers\",\"name\":\"Poland, 2022\",\"orientation\":\"v\",\"showlegend\":true,\"x\":[0.6999230430958663],\"xaxis\":\"x\",\"y\":[0.004187917085231],\"yaxis\":\"y\",\"type\":\"scatter\"},{\"hovertemplate\":\"geo=Poland\\u003cbr\\u003etime_period=2023\\u003cbr\\u003eZEV percent difference=%{x}\\u003cbr\\u003eEV percent difference=%{y}\\u003cextra\\u003e\\u003c\\u002fextra\\u003e\",\"legendgroup\":\"Poland, 2023\",\"marker\":{\"color\":\"#636efa\",\"symbol\":\"cross\"},\"mode\":\"markers\",\"name\":\"Poland, 2023\",\"orientation\":\"v\",\"showlegend\":true,\"x\":[0.6630234438156831],\"xaxis\":\"x\",\"y\":[0.0239973760424612],\"yaxis\":\"y\",\"type\":\"scatter\"},{\"hovertemplate\":\"geo=Portugal\\u003cbr\\u003etime_period=2014\\u003cbr\\u003eZEV percent difference=%{x}\\u003cbr\\u003eEV percent difference=%{y}\\u003cextra\\u003e\\u003c\\u002fextra\\u003e\",\"legendgroup\":\"Portugal, 2014\",\"marker\":{\"color\":\"#EF553B\",\"symbol\":\"circle\"},\"mode\":\"markers\",\"name\":\"Portugal, 2014\",\"orientation\":\"v\",\"showlegend\":true,\"x\":[null],\"xaxis\":\"x\",\"y\":[null],\"yaxis\":\"y\",\"type\":\"scatter\"},{\"hovertemplate\":\"geo=Portugal\\u003cbr\\u003etime_period=2015\\u003cbr\\u003eZEV percent difference=%{x}\\u003cbr\\u003eEV percent difference=%{y}\\u003cextra\\u003e\\u003c\\u002fextra\\u003e\",\"legendgroup\":\"Portugal, 2015\",\"marker\":{\"color\":\"#EF553B\",\"symbol\":\"diamond\"},\"mode\":\"markers\",\"name\":\"Portugal, 2015\",\"orientation\":\"v\",\"showlegend\":true,\"x\":[1.0803571428571428],\"xaxis\":\"x\",\"y\":[0.0048078590789944],\"yaxis\":\"y\",\"type\":\"scatter\"},{\"hovertemplate\":\"geo=Portugal\\u003cbr\\u003etime_period=2016\\u003cbr\\u003eZEV percent difference=%{x}\\u003cbr\\u003eEV percent difference=%{y}\\u003cextra\\u003e\\u003c\\u002fextra\\u003e\",\"legendgroup\":\"Portugal, 2016\",\"marker\":{\"color\":\"#EF553B\",\"symbol\":\"square\"},\"mode\":\"markers\",\"name\":\"Portugal, 2016\",\"orientation\":\"v\",\"showlegend\":true,\"x\":[0.7045779685264664],\"xaxis\":\"x\",\"y\":[0.0267455811791217],\"yaxis\":\"y\",\"type\":\"scatter\"},{\"hovertemplate\":\"geo=Portugal\\u003cbr\\u003etime_period=2017\\u003cbr\\u003eZEV percent difference=%{x}\\u003cbr\\u003eEV percent difference=%{y}\\u003cextra\\u003e\\u003c\\u002fextra\\u003e\",\"legendgroup\":\"Portugal, 2017\",\"marker\":{\"color\":\"#EF553B\",\"symbol\":\"x\"},\"mode\":\"markers\",\"name\":\"Portugal, 2017\",\"orientation\":\"v\",\"showlegend\":true,\"x\":[0.9584557280738564],\"xaxis\":\"x\",\"y\":[0.0426909188121899],\"yaxis\":\"y\",\"type\":\"scatter\"},{\"hovertemplate\":\"geo=Portugal\\u003cbr\\u003etime_period=2018\\u003cbr\\u003eZEV percent difference=%{x}\\u003cbr\\u003eEV percent difference=%{y}\\u003cextra\\u003e\\u003c\\u002fextra\\u003e\",\"legendgroup\":\"Portugal, 2018\",\"marker\":{\"color\":\"#EF553B\",\"symbol\":\"cross\"},\"mode\":\"markers\",\"name\":\"Portugal, 2018\",\"orientation\":\"v\",\"showlegend\":true,\"x\":[1.138418684379687],\"xaxis\":\"x\",\"y\":[0.0431638807036077],\"yaxis\":\"y\",\"type\":\"scatter\"},{\"hovertemplate\":\"geo=Portugal\\u003cbr\\u003etime_period=2019\\u003cbr\\u003eZEV percent difference=%{x}\\u003cbr\\u003eEV percent difference=%{y}\\u003cextra\\u003e\\u003c\\u002fextra\\u003e\",\"legendgroup\":\"Portugal, 2019\",\"marker\":{\"color\":\"#EF553B\",\"symbol\":\"circle\"},\"mode\":\"markers\",\"name\":\"Portugal, 2019\",\"orientation\":\"v\",\"showlegend\":true,\"x\":[0.8175350701402806],\"xaxis\":\"x\",\"y\":[0.0305310649176273],\"yaxis\":\"y\",\"type\":\"scatter\"},{\"hovertemplate\":\"geo=Portugal\\u003cbr\\u003etime_period=2020\\u003cbr\\u003eZEV percent difference=%{x}\\u003cbr\\u003eEV percent difference=%{y}\\u003cextra\\u003e\\u003c\\u002fextra\\u003e\",\"legendgroup\":\"Portugal, 2020\",\"marker\":{\"color\":\"#EF553B\",\"symbol\":\"diamond\"},\"mode\":\"markers\",\"name\":\"Portugal, 2020\",\"orientation\":\"v\",\"showlegend\":true,\"x\":[0.4856938089200066],\"xaxis\":\"x\",\"y\":[0.019329110523042],\"yaxis\":\"y\",\"type\":\"scatter\"},{\"hovertemplate\":\"geo=Portugal\\u003cbr\\u003etime_period=2021\\u003cbr\\u003eZEV percent difference=%{x}\\u003cbr\\u003eEV percent difference=%{y}\\u003cextra\\u003e\\u003c\\u002fextra\\u003e\",\"legendgroup\":\"Portugal, 2021\",\"marker\":{\"color\":\"#EF553B\",\"symbol\":\"square\"},\"mode\":\"markers\",\"name\":\"Portugal, 2021\",\"orientation\":\"v\",\"showlegend\":true,\"x\":[0.6070726186500427],\"xaxis\":\"x\",\"y\":[0.0090848298993286],\"yaxis\":\"y\",\"type\":\"scatter\"},{\"hovertemplate\":\"geo=Portugal\\u003cbr\\u003etime_period=2022\\u003cbr\\u003eZEV percent difference=%{x}\\u003cbr\\u003eEV percent difference=%{y}\\u003cextra\\u003e\\u003c\\u002fextra\\u003e\",\"legendgroup\":\"Portugal, 2022\",\"marker\":{\"color\":\"#EF553B\",\"symbol\":\"x\"},\"mode\":\"markers\",\"name\":\"Portugal, 2022\",\"orientation\":\"v\",\"showlegend\":true,\"x\":[0.5550347502828511],\"xaxis\":\"x\",\"y\":[0.0218097501760048],\"yaxis\":\"y\",\"type\":\"scatter\"},{\"hovertemplate\":\"geo=Portugal\\u003cbr\\u003etime_period=2023\\u003cbr\\u003eZEV percent difference=%{x}\\u003cbr\\u003eEV percent difference=%{y}\\u003cextra\\u003e\\u003c\\u002fextra\\u003e\",\"legendgroup\":\"Portugal, 2023\",\"marker\":{\"color\":\"#EF553B\",\"symbol\":\"cross\"},\"mode\":\"markers\",\"name\":\"Portugal, 2023\",\"orientation\":\"v\",\"showlegend\":true,\"x\":[0.6482248652501225],\"xaxis\":\"x\",\"y\":[0.0191695774488083],\"yaxis\":\"y\",\"type\":\"scatter\"},{\"hovertemplate\":\"geo=Romania\\u003cbr\\u003etime_period=2014\\u003cbr\\u003eZEV percent difference=%{x}\\u003cbr\\u003eEV percent difference=%{y}\\u003cextra\\u003e\\u003c\\u002fextra\\u003e\",\"legendgroup\":\"Romania, 2014\",\"marker\":{\"color\":\"#00cc96\",\"symbol\":\"circle\"},\"mode\":\"markers\",\"name\":\"Romania, 2014\",\"orientation\":\"v\",\"showlegend\":true,\"x\":[null],\"xaxis\":\"x\",\"y\":[null],\"yaxis\":\"y\",\"type\":\"scatter\"},{\"hovertemplate\":\"geo=Romania\\u003cbr\\u003etime_period=2015\\u003cbr\\u003eZEV percent difference=%{x}\\u003cbr\\u003eEV percent difference=%{y}\\u003cextra\\u003e\\u003c\\u002fextra\\u003e\",\"legendgroup\":\"Romania, 2015\",\"marker\":{\"color\":\"#00cc96\",\"symbol\":\"diamond\"},\"mode\":\"markers\",\"name\":\"Romania, 2015\",\"orientation\":\"v\",\"showlegend\":true,\"x\":[0.4113993423456339],\"xaxis\":\"x\",\"y\":[0.0502299061720219],\"yaxis\":\"y\",\"type\":\"scatter\"},{\"hovertemplate\":\"geo=Romania\\u003cbr\\u003etime_period=2016\\u003cbr\\u003eZEV percent difference=%{x}\\u003cbr\\u003eEV percent difference=%{y}\\u003cextra\\u003e\\u003c\\u002fextra\\u003e\",\"legendgroup\":\"Romania, 2016\",\"marker\":{\"color\":\"#00cc96\",\"symbol\":\"square\"},\"mode\":\"markers\",\"name\":\"Romania, 2016\",\"orientation\":\"v\",\"showlegend\":true,\"x\":[0.6432824229873155],\"xaxis\":\"x\",\"y\":[0.0611273576078254],\"yaxis\":\"y\",\"type\":\"scatter\"},{\"hovertemplate\":\"geo=Romania\\u003cbr\\u003etime_period=2017\\u003cbr\\u003eZEV percent difference=%{x}\\u003cbr\\u003eEV percent difference=%{y}\\u003cextra\\u003e\\u003c\\u002fextra\\u003e\",\"legendgroup\":\"Romania, 2017\",\"marker\":{\"color\":\"#00cc96\",\"symbol\":\"x\"},\"mode\":\"markers\",\"name\":\"Romania, 2017\",\"orientation\":\"v\",\"showlegend\":true,\"x\":[0.5669502205419029],\"xaxis\":\"x\",\"y\":[0.0955296076252155],\"yaxis\":\"y\",\"type\":\"scatter\"},{\"hovertemplate\":\"geo=Romania\\u003cbr\\u003etime_period=2018\\u003cbr\\u003eZEV percent difference=%{x}\\u003cbr\\u003eEV percent difference=%{y}\\u003cextra\\u003e\\u003c\\u002fextra\\u003e\",\"legendgroup\":\"Romania, 2018\",\"marker\":{\"color\":\"#00cc96\",\"symbol\":\"cross\"},\"mode\":\"markers\",\"name\":\"Romania, 2018\",\"orientation\":\"v\",\"showlegend\":true,\"x\":[-0.8891122951643712],\"xaxis\":\"x\",\"y\":[0.0773491808203636],\"yaxis\":\"y\",\"type\":\"scatter\"},{\"hovertemplate\":\"geo=Romania\\u003cbr\\u003etime_period=2019\\u003cbr\\u003eZEV percent difference=%{x}\\u003cbr\\u003eEV percent difference=%{y}\\u003cextra\\u003e\\u003c\\u002fextra\\u003e\",\"legendgroup\":\"Romania, 2019\",\"marker\":{\"color\":\"#00cc96\",\"symbol\":\"circle\"},\"mode\":\"markers\",\"name\":\"Romania, 2019\",\"orientation\":\"v\",\"showlegend\":true,\"x\":[1.5367180417044424],\"xaxis\":\"x\",\"y\":[0.0695586546430847],\"yaxis\":\"y\",\"type\":\"scatter\"},{\"hovertemplate\":\"geo=Romania\\u003cbr\\u003etime_period=2020\\u003cbr\\u003eZEV percent difference=%{x}\\u003cbr\\u003eEV percent difference=%{y}\\u003cextra\\u003e\\u003c\\u002fextra\\u003e\",\"legendgroup\":\"Romania, 2020\",\"marker\":{\"color\":\"#00cc96\",\"symbol\":\"diamond\"},\"mode\":\"markers\",\"name\":\"Romania, 2020\",\"orientation\":\"v\",\"showlegend\":true,\"x\":[1.0739814152966405],\"xaxis\":\"x\",\"y\":[0.0534389942531983],\"yaxis\":\"y\",\"type\":\"scatter\"},{\"hovertemplate\":\"geo=Romania\\u003cbr\\u003etime_period=2021\\u003cbr\\u003eZEV percent difference=%{x}\\u003cbr\\u003eEV percent difference=%{y}\\u003cextra\\u003e\\u003c\\u002fextra\\u003e\",\"legendgroup\":\"Romania, 2021\",\"marker\":{\"color\":\"#00cc96\",\"symbol\":\"square\"},\"mode\":\"markers\",\"name\":\"Romania, 2021\",\"orientation\":\"v\",\"showlegend\":true,\"x\":[1.1425124935378252],\"xaxis\":\"x\",\"y\":[0.0453548495822972],\"yaxis\":\"y\",\"type\":\"scatter\"},{\"hovertemplate\":\"geo=Romania\\u003cbr\\u003etime_period=2022\\u003cbr\\u003eZEV percent difference=%{x}\\u003cbr\\u003eEV percent difference=%{y}\\u003cextra\\u003e\\u003c\\u002fextra\\u003e\",\"legendgroup\":\"Romania, 2022\",\"marker\":{\"color\":\"#00cc96\",\"symbol\":\"x\"},\"mode\":\"markers\",\"name\":\"Romania, 2022\",\"orientation\":\"v\",\"showlegend\":true,\"x\":[0.9859245556181132],\"xaxis\":\"x\",\"y\":[0.0318333389045306],\"yaxis\":\"y\",\"type\":\"scatter\"},{\"hovertemplate\":\"geo=Romania\\u003cbr\\u003etime_period=2023\\u003cbr\\u003eZEV percent difference=%{x}\\u003cbr\\u003eEV percent difference=%{y}\\u003cextra\\u003e\\u003c\\u002fextra\\u003e\",\"legendgroup\":\"Romania, 2023\",\"marker\":{\"color\":\"#00cc96\",\"symbol\":\"cross\"},\"mode\":\"markers\",\"name\":\"Romania, 2023\",\"orientation\":\"v\",\"showlegend\":true,\"x\":[0.5904985622291523],\"xaxis\":\"x\",\"y\":[0.0289272552306965],\"yaxis\":\"y\",\"type\":\"scatter\"},{\"hovertemplate\":\"geo=Slovakia\\u003cbr\\u003etime_period=2014\\u003cbr\\u003eZEV percent difference=%{x}\\u003cbr\\u003eEV percent difference=%{y}\\u003cextra\\u003e\\u003c\\u002fextra\\u003e\",\"legendgroup\":\"Slovakia, 2014\",\"marker\":{\"color\":\"#ab63fa\",\"symbol\":\"circle\"},\"mode\":\"markers\",\"name\":\"Slovakia, 2014\",\"orientation\":\"v\",\"showlegend\":true,\"x\":[null],\"xaxis\":\"x\",\"y\":[null],\"yaxis\":\"y\",\"type\":\"scatter\"},{\"hovertemplate\":\"geo=Slovakia\\u003cbr\\u003etime_period=2015\\u003cbr\\u003eZEV percent difference=%{x}\\u003cbr\\u003eEV percent difference=%{y}\\u003cextra\\u003e\\u003c\\u002fextra\\u003e\",\"legendgroup\":\"Slovakia, 2015\",\"marker\":{\"color\":\"#ab63fa\",\"symbol\":\"diamond\"},\"mode\":\"markers\",\"name\":\"Slovakia, 2015\",\"orientation\":\"v\",\"showlegend\":true,\"x\":[0.2123893805309734],\"xaxis\":\"x\",\"y\":[0.0438432888469753],\"yaxis\":\"y\",\"type\":\"scatter\"},{\"hovertemplate\":\"geo=Slovakia\\u003cbr\\u003etime_period=2016\\u003cbr\\u003eZEV percent difference=%{x}\\u003cbr\\u003eEV percent difference=%{y}\\u003cextra\\u003e\\u003c\\u002fextra\\u003e\",\"legendgroup\":\"Slovakia, 2016\",\"marker\":{\"color\":\"#ab63fa\",\"symbol\":\"square\"},\"mode\":\"markers\",\"name\":\"Slovakia, 2016\",\"orientation\":\"v\",\"showlegend\":true,\"x\":[0.4452554744525547],\"xaxis\":\"x\",\"y\":[0.0428319972552603],\"yaxis\":\"y\",\"type\":\"scatter\"},{\"hovertemplate\":\"geo=Slovakia\\u003cbr\\u003etime_period=2017\\u003cbr\\u003eZEV percent difference=%{x}\\u003cbr\\u003eEV percent difference=%{y}\\u003cextra\\u003e\\u003c\\u002fextra\\u003e\",\"legendgroup\":\"Slovakia, 2017\",\"marker\":{\"color\":\"#ab63fa\",\"symbol\":\"x\"},\"mode\":\"markers\",\"name\":\"Slovakia, 2017\",\"orientation\":\"v\",\"showlegend\":true,\"x\":[1.0101010101010102],\"xaxis\":\"x\",\"y\":[0.047673521947835],\"yaxis\":\"y\",\"type\":\"scatter\"},{\"hovertemplate\":\"geo=Slovakia\\u003cbr\\u003etime_period=2018\\u003cbr\\u003eZEV percent difference=%{x}\\u003cbr\\u003eEV percent difference=%{y}\\u003cextra\\u003e\\u003c\\u002fextra\\u003e\",\"legendgroup\":\"Slovakia, 2018\",\"marker\":{\"color\":\"#ab63fa\",\"symbol\":\"cross\"},\"mode\":\"markers\",\"name\":\"Slovakia, 2018\",\"orientation\":\"v\",\"showlegend\":true,\"x\":[0.9974874371859296],\"xaxis\":\"x\",\"y\":[0.0441324341943358],\"yaxis\":\"y\",\"type\":\"scatter\"},{\"hovertemplate\":\"geo=Slovakia\\u003cbr\\u003etime_period=2019\\u003cbr\\u003eZEV percent difference=%{x}\\u003cbr\\u003eEV percent difference=%{y}\\u003cextra\\u003e\\u003c\\u002fextra\\u003e\",\"legendgroup\":\"Slovakia, 2019\",\"marker\":{\"color\":\"#ab63fa\",\"symbol\":\"circle\"},\"mode\":\"markers\",\"name\":\"Slovakia, 2019\",\"orientation\":\"v\",\"showlegend\":true,\"x\":[0.2025157232704402],\"xaxis\":\"x\",\"y\":[0.0309408814928216],\"yaxis\":\"y\",\"type\":\"scatter\"},{\"hovertemplate\":\"geo=Slovakia\\u003cbr\\u003etime_period=2020\\u003cbr\\u003eZEV percent difference=%{x}\\u003cbr\\u003eEV percent difference=%{y}\\u003cextra\\u003e\\u003c\\u002fextra\\u003e\",\"legendgroup\":\"Slovakia, 2020\",\"marker\":{\"color\":\"#ab63fa\",\"symbol\":\"diamond\"},\"mode\":\"markers\",\"name\":\"Slovakia, 2020\",\"orientation\":\"v\",\"showlegend\":true,\"x\":[0.948744769874477],\"xaxis\":\"x\",\"y\":[0.0190176379794376],\"yaxis\":\"y\",\"type\":\"scatter\"},{\"hovertemplate\":\"geo=Slovakia\\u003cbr\\u003etime_period=2021\\u003cbr\\u003eZEV percent difference=%{x}\\u003cbr\\u003eEV percent difference=%{y}\\u003cextra\\u003e\\u003c\\u002fextra\\u003e\",\"legendgroup\":\"Slovakia, 2021\",\"marker\":{\"color\":\"#ab63fa\",\"symbol\":\"square\"},\"mode\":\"markers\",\"name\":\"Slovakia, 2021\",\"orientation\":\"v\",\"showlegend\":true,\"x\":[0.6108427267847558],\"xaxis\":\"x\",\"y\":[0.0213520810886079],\"yaxis\":\"y\",\"type\":\"scatter\"},{\"hovertemplate\":\"geo=Slovakia\\u003cbr\\u003etime_period=2022\\u003cbr\\u003eZEV percent difference=%{x}\\u003cbr\\u003eEV percent difference=%{y}\\u003cextra\\u003e\\u003c\\u002fextra\\u003e\",\"legendgroup\":\"Slovakia, 2022\",\"marker\":{\"color\":\"#ab63fa\",\"symbol\":\"x\"},\"mode\":\"markers\",\"name\":\"Slovakia, 2022\",\"orientation\":\"v\",\"showlegend\":true,\"x\":[0.509830056647784],\"xaxis\":\"x\",\"y\":[0.0244070513721487],\"yaxis\":\"y\",\"type\":\"scatter\"},{\"hovertemplate\":\"geo=Slovakia\\u003cbr\\u003etime_period=2023\\u003cbr\\u003eZEV percent difference=%{x}\\u003cbr\\u003eEV percent difference=%{y}\\u003cextra\\u003e\\u003c\\u002fextra\\u003e\",\"legendgroup\":\"Slovakia, 2023\",\"marker\":{\"color\":\"#ab63fa\",\"symbol\":\"cross\"},\"mode\":\"markers\",\"name\":\"Slovakia, 2023\",\"orientation\":\"v\",\"showlegend\":true,\"x\":[0.7433237695872875],\"xaxis\":\"x\",\"y\":[0.0335175776962398],\"yaxis\":\"y\",\"type\":\"scatter\"},{\"hovertemplate\":\"geo=Slovenia\\u003cbr\\u003etime_period=2014\\u003cbr\\u003eZEV percent difference=%{x}\\u003cbr\\u003eEV percent difference=%{y}\\u003cextra\\u003e\\u003c\\u002fextra\\u003e\",\"legendgroup\":\"Slovenia, 2014\",\"marker\":{\"color\":\"#FFA15A\",\"symbol\":\"circle\"},\"mode\":\"markers\",\"name\":\"Slovenia, 2014\",\"orientation\":\"v\",\"showlegend\":true,\"x\":[null],\"xaxis\":\"x\",\"y\":[null],\"yaxis\":\"y\",\"type\":\"scatter\"},{\"hovertemplate\":\"geo=Slovenia\\u003cbr\\u003etime_period=2015\\u003cbr\\u003eZEV percent difference=%{x}\\u003cbr\\u003eEV percent difference=%{y}\\u003cextra\\u003e\\u003c\\u002fextra\\u003e\",\"legendgroup\":\"Slovenia, 2015\",\"marker\":{\"color\":\"#FFA15A\",\"symbol\":\"diamond\"},\"mode\":\"markers\",\"name\":\"Slovenia, 2015\",\"orientation\":\"v\",\"showlegend\":true,\"x\":[1.1654135338345866],\"xaxis\":\"x\",\"y\":[0.0095672369875747],\"yaxis\":\"y\",\"type\":\"scatter\"},{\"hovertemplate\":\"geo=Slovenia\\u003cbr\\u003etime_period=2016\\u003cbr\\u003eZEV percent difference=%{x}\\u003cbr\\u003eEV percent difference=%{y}\\u003cextra\\u003e\\u003c\\u002fextra\\u003e\",\"legendgroup\":\"Slovenia, 2016\",\"marker\":{\"color\":\"#FFA15A\",\"symbol\":\"square\"},\"mode\":\"markers\",\"name\":\"Slovenia, 2016\",\"orientation\":\"v\",\"showlegend\":true,\"x\":[0.5868055555555556],\"xaxis\":\"x\",\"y\":[0.016335496625246],\"yaxis\":\"y\",\"type\":\"scatter\"},{\"hovertemplate\":\"geo=Slovenia\\u003cbr\\u003etime_period=2017\\u003cbr\\u003eZEV percent difference=%{x}\\u003cbr\\u003eEV percent difference=%{y}\\u003cextra\\u003e\\u003c\\u002fextra\\u003e\",\"legendgroup\":\"Slovenia, 2017\",\"marker\":{\"color\":\"#FFA15A\",\"symbol\":\"x\"},\"mode\":\"markers\",\"name\":\"Slovenia, 2017\",\"orientation\":\"v\",\"showlegend\":true,\"x\":[0.7045951859956237],\"xaxis\":\"x\",\"y\":[0.0192415420239292],\"yaxis\":\"y\",\"type\":\"scatter\"},{\"hovertemplate\":\"geo=Slovenia\\u003cbr\\u003etime_period=2018\\u003cbr\\u003eZEV percent difference=%{x}\\u003cbr\\u003eEV percent difference=%{y}\\u003cextra\\u003e\\u003c\\u002fextra\\u003e\",\"legendgroup\":\"Slovenia, 2018\",\"marker\":{\"color\":\"#FFA15A\",\"symbol\":\"cross\"},\"mode\":\"markers\",\"name\":\"Slovenia, 2018\",\"orientation\":\"v\",\"showlegend\":true,\"x\":[0.6790757381258024],\"xaxis\":\"x\",\"y\":[0.0220971824883901],\"yaxis\":\"y\",\"type\":\"scatter\"},{\"hovertemplate\":\"geo=Slovenia\\u003cbr\\u003etime_period=2019\\u003cbr\\u003eZEV percent difference=%{x}\\u003cbr\\u003eEV percent difference=%{y}\\u003cextra\\u003e\\u003c\\u002fextra\\u003e\",\"legendgroup\":\"Slovenia, 2019\",\"marker\":{\"color\":\"#FFA15A\",\"symbol\":\"circle\"},\"mode\":\"markers\",\"name\":\"Slovenia, 2019\",\"orientation\":\"v\",\"showlegend\":true,\"x\":[0.5275229357798165],\"xaxis\":\"x\",\"y\":[0.0188563741743603],\"yaxis\":\"y\",\"type\":\"scatter\"},{\"hovertemplate\":\"geo=Slovenia\\u003cbr\\u003etime_period=2020\\u003cbr\\u003eZEV percent difference=%{x}\\u003cbr\\u003eEV percent difference=%{y}\\u003cextra\\u003e\\u003c\\u002fextra\\u003e\",\"legendgroup\":\"Slovenia, 2020\",\"marker\":{\"color\":\"#FFA15A\",\"symbol\":\"diamond\"},\"mode\":\"markers\",\"name\":\"Slovenia, 2020\",\"orientation\":\"v\",\"showlegend\":true,\"x\":[0.8368368368368369],\"xaxis\":\"x\",\"y\":[0.003134850129752],\"yaxis\":\"y\",\"type\":\"scatter\"},{\"hovertemplate\":\"geo=Slovenia\\u003cbr\\u003etime_period=2021\\u003cbr\\u003eZEV percent difference=%{x}\\u003cbr\\u003eEV percent difference=%{y}\\u003cextra\\u003e\\u003c\\u002fextra\\u003e\",\"legendgroup\":\"Slovenia, 2021\",\"marker\":{\"color\":\"#FFA15A\",\"symbol\":\"square\"},\"mode\":\"markers\",\"name\":\"Slovenia, 2021\",\"orientation\":\"v\",\"showlegend\":true,\"x\":[0.4749318801089918],\"xaxis\":\"x\",\"y\":[0.0145875820465801],\"yaxis\":\"y\",\"type\":\"scatter\"},{\"hovertemplate\":\"geo=Slovenia\\u003cbr\\u003etime_period=2022\\u003cbr\\u003eZEV percent difference=%{x}\\u003cbr\\u003eEV percent difference=%{y}\\u003cextra\\u003e\\u003c\\u002fextra\\u003e\",\"legendgroup\":\"Slovenia, 2022\",\"marker\":{\"color\":\"#FFA15A\",\"symbol\":\"x\"},\"mode\":\"markers\",\"name\":\"Slovenia, 2022\",\"orientation\":\"v\",\"showlegend\":true,\"x\":[0.4736744873452799],\"xaxis\":\"x\",\"y\":[0.013288357527254],\"yaxis\":\"y\",\"type\":\"scatter\"},{\"hovertemplate\":\"geo=Slovenia\\u003cbr\\u003etime_period=2023\\u003cbr\\u003eZEV percent difference=%{x}\\u003cbr\\u003eEV percent difference=%{y}\\u003cextra\\u003e\\u003c\\u002fextra\\u003e\",\"legendgroup\":\"Slovenia, 2023\",\"marker\":{\"color\":\"#FFA15A\",\"symbol\":\"cross\"},\"mode\":\"markers\",\"name\":\"Slovenia, 2023\",\"orientation\":\"v\",\"showlegend\":true,\"x\":[0.5974677196941206],\"xaxis\":\"x\",\"y\":[0.0150394489647251],\"yaxis\":\"y\",\"type\":\"scatter\"},{\"hovertemplate\":\"geo=Spain\\u003cbr\\u003etime_period=2014\\u003cbr\\u003eZEV percent difference=%{x}\\u003cbr\\u003eEV percent difference=%{y}\\u003cextra\\u003e\\u003c\\u002fextra\\u003e\",\"legendgroup\":\"Spain, 2014\",\"marker\":{\"color\":\"#19d3f3\",\"symbol\":\"circle\"},\"mode\":\"markers\",\"name\":\"Spain, 2014\",\"orientation\":\"v\",\"showlegend\":true,\"x\":[null],\"xaxis\":\"x\",\"y\":[null],\"yaxis\":\"y\",\"type\":\"scatter\"},{\"hovertemplate\":\"geo=Spain\\u003cbr\\u003etime_period=2015\\u003cbr\\u003eZEV percent difference=%{x}\\u003cbr\\u003eEV percent difference=%{y}\\u003cextra\\u003e\\u003c\\u002fextra\\u003e\",\"legendgroup\":\"Spain, 2015\",\"marker\":{\"color\":\"#19d3f3\",\"symbol\":\"diamond\"},\"mode\":\"markers\",\"name\":\"Spain, 2015\",\"orientation\":\"v\",\"showlegend\":true,\"x\":[0.8507410021171489],\"xaxis\":\"x\",\"y\":[0.0146924561207096],\"yaxis\":\"y\",\"type\":\"scatter\"},{\"hovertemplate\":\"geo=Spain\\u003cbr\\u003etime_period=2016\\u003cbr\\u003eZEV percent difference=%{x}\\u003cbr\\u003eEV percent difference=%{y}\\u003cextra\\u003e\\u003c\\u002fextra\\u003e\",\"legendgroup\":\"Spain, 2016\",\"marker\":{\"color\":\"#19d3f3\",\"symbol\":\"square\"},\"mode\":\"markers\",\"name\":\"Spain, 2016\",\"orientation\":\"v\",\"showlegend\":true,\"x\":[0.0974261201143946],\"xaxis\":\"x\",\"y\":[0.073774119582445],\"yaxis\":\"y\",\"type\":\"scatter\"},{\"hovertemplate\":\"geo=Spain\\u003cbr\\u003etime_period=2017\\u003cbr\\u003eZEV percent difference=%{x}\\u003cbr\\u003eEV percent difference=%{y}\\u003cextra\\u003e\\u003c\\u002fextra\\u003e\",\"legendgroup\":\"Spain, 2017\",\"marker\":{\"color\":\"#19d3f3\",\"symbol\":\"x\"},\"mode\":\"markers\",\"name\":\"Spain, 2017\",\"orientation\":\"v\",\"showlegend\":true,\"x\":[1.6626129256428075],\"xaxis\":\"x\",\"y\":[0.0275864865038294],\"yaxis\":\"y\",\"type\":\"scatter\"},{\"hovertemplate\":\"geo=Spain\\u003cbr\\u003etime_period=2018\\u003cbr\\u003eZEV percent difference=%{x}\\u003cbr\\u003eEV percent difference=%{y}\\u003cextra\\u003e\\u003c\\u002fextra\\u003e\",\"legendgroup\":\"Spain, 2018\",\"marker\":{\"color\":\"#19d3f3\",\"symbol\":\"cross\"},\"mode\":\"markers\",\"name\":\"Spain, 2018\",\"orientation\":\"v\",\"showlegend\":true,\"x\":[0.035234242463787],\"xaxis\":\"x\",\"y\":[0.0254282926914718],\"yaxis\":\"y\",\"type\":\"scatter\"},{\"hovertemplate\":\"geo=Spain\\u003cbr\\u003etime_period=2019\\u003cbr\\u003eZEV percent difference=%{x}\\u003cbr\\u003eEV percent difference=%{y}\\u003cextra\\u003e\\u003c\\u002fextra\\u003e\",\"legendgroup\":\"Spain, 2019\",\"marker\":{\"color\":\"#19d3f3\",\"symbol\":\"circle\"},\"mode\":\"markers\",\"name\":\"Spain, 2019\",\"orientation\":\"v\",\"showlegend\":true,\"x\":[0.6512668599520989],\"xaxis\":\"x\",\"y\":[0.0206444286303829],\"yaxis\":\"y\",\"type\":\"scatter\"},{\"hovertemplate\":\"geo=Spain\\u003cbr\\u003etime_period=2020\\u003cbr\\u003eZEV percent difference=%{x}\\u003cbr\\u003eEV percent difference=%{y}\\u003cextra\\u003e\\u003c\\u002fextra\\u003e\",\"legendgroup\":\"Spain, 2020\",\"marker\":{\"color\":\"#19d3f3\",\"symbol\":\"diamond\"},\"mode\":\"markers\",\"name\":\"Spain, 2020\",\"orientation\":\"v\",\"showlegend\":true,\"x\":[0.6493759303790221],\"xaxis\":\"x\",\"y\":[0.007002917081406],\"yaxis\":\"y\",\"type\":\"scatter\"},{\"hovertemplate\":\"geo=Spain\\u003cbr\\u003etime_period=2021\\u003cbr\\u003eZEV percent difference=%{x}\\u003cbr\\u003eEV percent difference=%{y}\\u003cextra\\u003e\\u003c\\u002fextra\\u003e\",\"legendgroup\":\"Spain, 2021\",\"marker\":{\"color\":\"#19d3f3\",\"symbol\":\"square\"},\"mode\":\"markers\",\"name\":\"Spain, 2021\",\"orientation\":\"v\",\"showlegend\":true,\"x\":[0.5297371100620198],\"xaxis\":\"x\",\"y\":[0.0091047966931801],\"yaxis\":\"y\",\"type\":\"scatter\"},{\"hovertemplate\":\"geo=Spain\\u003cbr\\u003etime_period=2022\\u003cbr\\u003eZEV percent difference=%{x}\\u003cbr\\u003eEV percent difference=%{y}\\u003cextra\\u003e\\u003c\\u002fextra\\u003e\",\"legendgroup\":\"Spain, 2022\",\"marker\":{\"color\":\"#19d3f3\",\"symbol\":\"x\"},\"mode\":\"markers\",\"name\":\"Spain, 2022\",\"orientation\":\"v\",\"showlegend\":true,\"x\":[0.447816286704083],\"xaxis\":\"x\",\"y\":[0.0107517300645243],\"yaxis\":\"y\",\"type\":\"scatter\"},{\"hovertemplate\":\"geo=Spain\\u003cbr\\u003etime_period=2023\\u003cbr\\u003eZEV percent difference=%{x}\\u003cbr\\u003eEV percent difference=%{y}\\u003cextra\\u003e\\u003c\\u002fextra\\u003e\",\"legendgroup\":\"Spain, 2023\",\"marker\":{\"color\":\"#19d3f3\",\"symbol\":\"cross\"},\"mode\":\"markers\",\"name\":\"Spain, 2023\",\"orientation\":\"v\",\"showlegend\":true,\"x\":[0.5706075962593385],\"xaxis\":\"x\",\"y\":[0.0044532256085331],\"yaxis\":\"y\",\"type\":\"scatter\"},{\"hovertemplate\":\"geo=Sweden\\u003cbr\\u003etime_period=2014\\u003cbr\\u003eZEV percent difference=%{x}\\u003cbr\\u003eEV percent difference=%{y}\\u003cextra\\u003e\\u003c\\u002fextra\\u003e\",\"legendgroup\":\"Sweden, 2014\",\"marker\":{\"color\":\"#FF6692\",\"symbol\":\"circle\"},\"mode\":\"markers\",\"name\":\"Sweden, 2014\",\"orientation\":\"v\",\"showlegend\":true,\"x\":[null],\"xaxis\":\"x\",\"y\":[null],\"yaxis\":\"y\",\"type\":\"scatter\"},{\"hovertemplate\":\"geo=Sweden\\u003cbr\\u003etime_period=2015\\u003cbr\\u003eZEV percent difference=%{x}\\u003cbr\\u003eEV percent difference=%{y}\\u003cextra\\u003e\\u003c\\u002fextra\\u003e\",\"legendgroup\":\"Sweden, 2015\",\"marker\":{\"color\":\"#FF6692\",\"symbol\":\"diamond\"},\"mode\":\"markers\",\"name\":\"Sweden, 2015\",\"orientation\":\"v\",\"showlegend\":true,\"x\":[1.1926436781609195],\"xaxis\":\"x\",\"y\":[0.017666418768996],\"yaxis\":\"y\",\"type\":\"scatter\"},{\"hovertemplate\":\"geo=Sweden\\u003cbr\\u003etime_period=2016\\u003cbr\\u003eZEV percent difference=%{x}\\u003cbr\\u003eEV percent difference=%{y}\\u003cextra\\u003e\\u003c\\u002fextra\\u003e\",\"legendgroup\":\"Sweden, 2016\",\"marker\":{\"color\":\"#FF6692\",\"symbol\":\"square\"},\"mode\":\"markers\",\"name\":\"Sweden, 2016\",\"orientation\":\"v\",\"showlegend\":true,\"x\":[0.5841895575592367],\"xaxis\":\"x\",\"y\":[0.0206313164831597],\"yaxis\":\"y\",\"type\":\"scatter\"},{\"hovertemplate\":\"geo=Sweden\\u003cbr\\u003etime_period=2017\\u003cbr\\u003eZEV percent difference=%{x}\\u003cbr\\u003eEV percent difference=%{y}\\u003cextra\\u003e\\u003c\\u002fextra\\u003e\",\"legendgroup\":\"Sweden, 2017\",\"marker\":{\"color\":\"#FF6692\",\"symbol\":\"x\"},\"mode\":\"markers\",\"name\":\"Sweden, 2017\",\"orientation\":\"v\",\"showlegend\":true,\"x\":[0.4649900727994705],\"xaxis\":\"x\",\"y\":[0.0155572601422734],\"yaxis\":\"y\",\"type\":\"scatter\"},{\"hovertemplate\":\"geo=Sweden\\u003cbr\\u003etime_period=2018\\u003cbr\\u003eZEV percent difference=%{x}\\u003cbr\\u003eEV percent difference=%{y}\\u003cextra\\u003e\\u003c\\u002fextra\\u003e\",\"legendgroup\":\"Sweden, 2018\",\"marker\":{\"color\":\"#FF6692\",\"symbol\":\"cross\"},\"mode\":\"markers\",\"name\":\"Sweden, 2018\",\"orientation\":\"v\",\"showlegend\":true,\"x\":[0.5093061076978678],\"xaxis\":\"x\",\"y\":[0.0040380615070478],\"yaxis\":\"y\",\"type\":\"scatter\"},{\"hovertemplate\":\"geo=Sweden\\u003cbr\\u003etime_period=2019\\u003cbr\\u003eZEV percent difference=%{x}\\u003cbr\\u003eEV percent difference=%{y}\\u003cextra\\u003e\\u003c\\u002fextra\\u003e\",\"legendgroup\":\"Sweden, 2019\",\"marker\":{\"color\":\"#FF6692\",\"symbol\":\"circle\"},\"mode\":\"markers\",\"name\":\"Sweden, 2019\",\"orientation\":\"v\",\"showlegend\":true,\"x\":[0.818736905118228],\"xaxis\":\"x\",\"y\":[0.0007129208035647],\"yaxis\":\"y\",\"type\":\"scatter\"},{\"hovertemplate\":\"geo=Sweden\\u003cbr\\u003etime_period=2020\\u003cbr\\u003eZEV percent difference=%{x}\\u003cbr\\u003eEV percent difference=%{y}\\u003cextra\\u003e\\u003c\\u002fextra\\u003e\",\"legendgroup\":\"Sweden, 2020\",\"marker\":{\"color\":\"#FF6692\",\"symbol\":\"diamond\"},\"mode\":\"markers\",\"name\":\"Sweden, 2020\",\"orientation\":\"v\",\"showlegend\":true,\"x\":[0.8375682970179712],\"xaxis\":\"x\",\"y\":[0.0063272973154387],\"yaxis\":\"y\",\"type\":\"scatter\"},{\"hovertemplate\":\"geo=Sweden\\u003cbr\\u003etime_period=2021\\u003cbr\\u003eZEV percent difference=%{x}\\u003cbr\\u003eEV percent difference=%{y}\\u003cextra\\u003e\\u003c\\u002fextra\\u003e\",\"legendgroup\":\"Sweden, 2021\",\"marker\":{\"color\":\"#FF6692\",\"symbol\":\"square\"},\"mode\":\"markers\",\"name\":\"Sweden, 2021\",\"orientation\":\"v\",\"showlegend\":true,\"x\":[0.974260688889287],\"xaxis\":\"x\",\"y\":[-0.0023951071557764],\"yaxis\":\"y\",\"type\":\"scatter\"},{\"hovertemplate\":\"geo=Sweden\\u003cbr\\u003etime_period=2022\\u003cbr\\u003eZEV percent difference=%{x}\\u003cbr\\u003eEV percent difference=%{y}\\u003cextra\\u003e\\u003c\\u002fextra\\u003e\",\"legendgroup\":\"Sweden, 2022\",\"marker\":{\"color\":\"#FF6692\",\"symbol\":\"x\"},\"mode\":\"markers\",\"name\":\"Sweden, 2022\",\"orientation\":\"v\",\"showlegend\":true,\"x\":[0.79413178976783],\"xaxis\":\"x\",\"y\":[-0.0192273693649274],\"yaxis\":\"y\",\"type\":\"scatter\"},{\"hovertemplate\":\"geo=Sweden\\u003cbr\\u003etime_period=2023\\u003cbr\\u003eZEV percent difference=%{x}\\u003cbr\\u003eEV percent difference=%{y}\\u003cextra\\u003e\\u003c\\u002fextra\\u003e\",\"legendgroup\":\"Sweden, 2023\",\"marker\":{\"color\":\"#FF6692\",\"symbol\":\"cross\"},\"mode\":\"markers\",\"name\":\"Sweden, 2023\",\"orientation\":\"v\",\"showlegend\":true,\"x\":[0.4751682671642621],\"xaxis\":\"x\",\"y\":[-0.0203596395657892],\"yaxis\":\"y\",\"type\":\"scatter\"},{\"hovertemplate\":\"\\u003cb\\u003eOLS trendline\\u003c\\u002fb\\u003e\\u003cbr\\u003eev_norm = -0.000878332 * zev_norm + 0.0199099\\u003cbr\\u003eR\\u003csup\\u003e2\\u003c\\u002fsup\\u003e=0.000308\\u003cbr\\u003e\\u003cbr\\u003eZEV percent difference=%{x}\\u003cbr\\u003eEV percent difference=%{y} \\u003cb\\u003e(trend)\\u003c\\u002fb\\u003e\\u003cextra\\u003e\\u003c\\u002fextra\\u003e\",\"legendgroup\":\"Overall Trendline\",\"line\":{\"color\":\"#B6E880\"},\"mode\":\"lines\",\"name\":\"Overall Trendline\",\"showlegend\":true,\"x\":[-0.8891122951643712,0.0135150612759134,0.0294117647058823,0.0302768166089965,0.035234242463787,0.03584229390681,0.0459231490159325,0.052896725440806,0.0974261201143946,0.0993452530848652,0.1020733652312599,0.1068702290076335,0.1167694204685573,0.1223404255319148,0.1421800947867298,0.1437450559385241,0.174863387978142,0.1810344827586207,0.2025157232704402,0.2123893805309734,0.2222222222222222,0.2448979591836734,0.2522306855277476,0.2829232995658466,0.2911242173591852,0.2946058091286307,0.2982456140350877,0.3092811158798283,0.3103448275862069,0.3153611393692777,0.3157803267292318,0.3276366637901924,0.3357558139534883,0.3396708982969029,0.3419317317857024,0.3453849287169043,0.3468684214820738,0.35,0.3546423135464231,0.3571428571428571,0.3660589060308555,0.3727511835875854,0.3748372232795753,0.3789636504253673,0.379381443298969,0.3812460203089916,0.3857868020304568,0.3875,0.3882177422923502,0.3899269023131181,0.4094424094424094,0.4102120070189569,0.410474489287042,0.4113993423456339,0.4160583941605839,0.4166666666666667,0.4175976983936705,0.4248138279702125,0.4313725490196078,0.4355828220858895,0.437125748502994,0.439890853069431,0.441549854535837,0.4452554744525547,0.4455958549222797,0.447816286704083,0.4508825786646201,0.4527027027027027,0.4537444933920704,0.4627106227106227,0.4638887563802891,0.4649122807017544,0.4649900727994705,0.4700124947938359,0.4736744873452799,0.4749318801089918,0.4751682671642621,0.4771950944620727,0.4807916181606519,0.4816964285714286,0.4856938089200066,0.486574210681617,0.4886877828054298,0.5069679339737518,0.5093061076978678,0.5096385542168674,0.509830056647784,0.5123162906230594,0.51875,0.5275229357798165,0.5297371100620198,0.5333333333333333,0.5371675213044601,0.5394723841517637,0.5413233043895065,0.5550347502828511,0.5569033178737067,0.5589660743134087,0.5632183908045977,0.5637831918970709,0.5657084188911704,0.5669502205419029,0.5686209561665011,0.5703525158180175,0.5706075962593385,0.5714285714285714,0.5720695457094784,0.5815443091433801,0.5841895575592367,0.5851572460688482,0.5859615904787666,0.5868055555555556,0.5875845113706207,0.589041095890411,0.5904985622291523,0.5929326047358834,0.5974677196941206,0.6070532294280808,0.6070726186500427,0.6108427267847558,0.610939907550077,0.6130332549546523,0.6148364980934407,0.6153846153846154,0.6250812215724496,0.6284538506760728,0.6301824212271974,0.6312236286919831,0.6359212792590989,0.637878316038809,0.6383838383838384,0.6409468219984211,0.6420029895366218,0.6432824229873155,0.6448028878277734,0.6480357311357846,0.6482248652501225,0.6493759303790221,0.6512668599520989,0.6620563674321504,0.6630234438156831,0.6642599277978339,0.6690140845070423,0.6697498104624716,0.6726083519010997,0.6745596303782847,0.6790757381258024,0.6855345911949685,0.6893670544899151,0.6971654299898574,0.6999230430958663,0.7020725388601037,0.7045779685264664,0.7045951859956237,0.7094079186342173,0.709832134292566,0.71461561951294,0.7178952852305288,0.7184661957618567,0.7192045250493805,0.7214309373964889,0.7243470149253731,0.729050279329609,0.7292134831460674,0.7340718655946645,0.7391304347826086,0.7428867046042421,0.7433237695872875,0.7474252700326551,0.7477178423236515,0.7740668847111797,0.7741935483870968,0.786046511627907,0.79413178976783,0.8034934497816594,0.8099173553719008,0.8175350701402806,0.818736905118228,0.8195631528964862,0.8231368186874305,0.831306990881459,0.836140191169777,0.8368368368368369,0.8375682970179712,0.8463272227707895,0.8489583333333334,0.8507410021171489,0.8614550291619769,0.8633405639913232,0.8666666666666667,0.8679133273968537,0.8703049231527903,0.8805079853761786,0.922560975609756,0.9233466933867736,0.9316273490603758,0.948744769874477,0.951919191919192,0.9529019980970505,0.9542857142857144,0.9584557280738564,0.9737233515121468,0.974260688889287,0.9813953488372092,0.9824673390357036,0.9859245556181132,0.9974874371859296,0.9994676715307508,1.0,1.0101010101010102,1.0200135798483954,1.039747518638796,1.053719273474103,1.0616849513558269,1.0739814152966405,1.0803571428571428,1.0870339698115563,1.118343195266272,1.138418684379687,1.1425124935378252,1.1654135338345866,1.175,1.1926436781609195,1.216374269005848,1.2231238468200474,1.2327868852459016,1.259291654822039,1.265601217656012,1.334065740903498,1.3593373493975904,1.3825316739544793,1.4142857142857144,1.4924924924924925,1.5367180417044424,1.5747126436781609,1.591549295774648,1.633245382585752,1.6626129256428075,1.7068847989093388,1.9710144927536235,2.1904761904761907,2.369419642857143,3.1794871794871797],\"y\":[0.020690885589481796,0.019898078662624927,0.019884116071635913,0.019883356268450263,0.019879002000291853,0.019878467928958345,0.019869613586463483,0.019863488467769534,0.01982437685399661,0.019822691217170195,0.019820295027655803,0.019816081786386344,0.019807387004974607,0.019802493810266657,0.019785067984315848,0.019783693428102198,0.019756361186267057,0.019750940913268077,0.019732073241959715,0.0197234008880656,0.01971476438381178,0.019694847547471344,0.01968840697573723,0.019661448655851253,0.019654245523366122,0.01965118752822382,0.019647990569344104,0.01963829772961193,0.01963736343706808,0.019632957447486093,0.019632589261611544,0.019622175455646092,0.019615044142326454,0.01961160539657546,0.01960961963308447,0.019606586578050936,0.019605283578167564,0.019602533011033416,0.019598455516251116,0.01959625920758618,0.019588427952231282,0.01958254990747054,0.019580717671049047,0.019577093296049758,0.01957672633499787,0.019575088616443633,0.019571100300361213,0.019569595542935418,0.0195689651265659,0.019567463915801678,0.019550322811975347,0.019549646849425326,0.019549416302723156,0.01954860397424015,0.019544511777692904,0.01954397751219253,0.01954315975678436,0.019536821595778534,0.01953106085803645,0.019527362838441663,0.01952600763605124,0.019523578954892717,0.019522121800016067,0.019518867033674996,0.01951856806645199,0.019516617789092604,0.019513924565262488,0.019512325891197457,0.0195114108525949,0.019503535609971104,0.019502500816900175,0.019501601822241886,0.019501533494915572,0.01949712213853653,0.019493905691527508,0.019492801282619737,0.019492593656190625,0.01949081342793831,0.01948765448434936,0.019486859759974967,0.019483348730969453,0.01948257544550448,0.019480719026453788,0.01946466297589557,0.019462609281963687,0.019462317283387317,0.019462149080581744,0.019459965340521884,0.019454314404592422,0.019446608850129127,0.019444664068934903,0.01944150538922098,0.01943813769738149,0.019436113261474736,0.0194344875381072,0.019422444329795483,0.019420803106184475,0.019418991320199766,0.0194152563724992,0.019414760289353468,0.019413069299948144,0.019411978585221343,0.0194105111238524,0.01940899023876489,0.019408766193327598,0.019408045104169044,0.019407482115637604,0.01939916012314853,0.0193968367155403,0.01939598676328926,0.01939528028146682,0.019394538999525684,0.019393854817330792,0.01939257545183339,0.019391295311805758,0.019389157413208034,0.019385174074427827,0.019376754809866083,0.019376737779682622,0.01937342637124494,0.019373341014222074,0.01937150235919924,0.01936991851217639,0.01936943708295527,0.019360920238769386,0.01935795794907587,0.01935643968941233,0.019355525163074868,0.0193513990639898,0.019349680135016513,0.019349236118320186,0.019346984966559094,0.01934605730030321,0.019344933532344125,0.019343598058686077,0.019340758547397453,0.01934059242476126,0.019339581406868943,0.019337920542002576,0.019328443767111448,0.01932759435251062,0.019326508308464867,0.019322332578199736,0.01932168636619478,0.019319175616396338,0.019317461745127204,0.01931349510099758,0.019307822080546502,0.01930445590354613,0.01929760633703291,0.019295184235867423,0.019293296263916456,0.019291095663657585,0.019291080540995157,0.019286853361588547,0.019286480759196187,0.01928227926874703,0.01927939863181516,0.01927889718255083,0.01927824868395473,0.019276293153670573,0.019273731868055137,0.01926960083815458,0.019269457490941295,0.019265190215823735,0.019260747110190414,0.019257447856392614,0.019257063968020995,0.019253461486952374,0.019253204511205678,0.01923006129139096,0.019229950038570035,0.019219539195940407,0.019212437633519153,0.01920421498343782,0.019198572658492674,0.019191881772168323,0.01919082616146845,0.01919010044120612,0.019186961574459926,0.01917978544683337,0.01917554029002516,0.019174928403506913,0.019174285938270086,0.019166592689268586,0.019164281699396157,0.01916271592349759,0.019153305445524522,0.019151649319036807,0.019148727895016544,0.019147632912402426,0.019145532296164704,0.019136570615191778,0.019099634107878606,0.019098943986432887,0.019091670817577424,0.019076636030857838,0.019073847832862444,0.019072984602272317,0.019071769239397095,0.019068106580834025,0.019054696531235867,0.0190542245703634,0.01904795796677874,0.01904701640296636,0.019043979817342602,0.019033823762868978,0.019032084458720736,0.019031616897334774,0.01902274485205585,0.01901403832006055,0.01899670536061104,0.018984433514500083,0.01897743700087053,0.01896663661717003,0.018961036608553347,0.0189551721345585,0.01892767222483616,0.018910039270643497,0.018906443545082283,0.018886328817504003,0.018877908712877447,0.018862411697235935,0.01884156834846523,0.01883563997502709,0.018827152614496925,0.018803872614434024,0.018798330720445854,0.018738196105770953,0.018715999231142706,0.018695626902472114,0.01866773629739498,0.018599044743735433,0.018560200007301166,0.018526828114223685,0.018512039935788878,0.018475416908344824,0.018449622441343266,0.018410737016987134,0.018178743327260993,0.017985982989461802,0.017828811142684645,0.017117302512151947],\"type\":\"scatter\",\"xaxis\":\"x\",\"yaxis\":\"y\"}],                        {\"template\":{\"data\":{\"histogram2dcontour\":[{\"type\":\"histogram2dcontour\",\"colorbar\":{\"outlinewidth\":0,\"ticks\":\"\"},\"colorscale\":[[0.0,\"#0d0887\"],[0.1111111111111111,\"#46039f\"],[0.2222222222222222,\"#7201a8\"],[0.3333333333333333,\"#9c179e\"],[0.4444444444444444,\"#bd3786\"],[0.5555555555555556,\"#d8576b\"],[0.6666666666666666,\"#ed7953\"],[0.7777777777777778,\"#fb9f3a\"],[0.8888888888888888,\"#fdca26\"],[1.0,\"#f0f921\"]]}],\"choropleth\":[{\"type\":\"choropleth\",\"colorbar\":{\"outlinewidth\":0,\"ticks\":\"\"}}],\"histogram2d\":[{\"type\":\"histogram2d\",\"colorbar\":{\"outlinewidth\":0,\"ticks\":\"\"},\"colorscale\":[[0.0,\"#0d0887\"],[0.1111111111111111,\"#46039f\"],[0.2222222222222222,\"#7201a8\"],[0.3333333333333333,\"#9c179e\"],[0.4444444444444444,\"#bd3786\"],[0.5555555555555556,\"#d8576b\"],[0.6666666666666666,\"#ed7953\"],[0.7777777777777778,\"#fb9f3a\"],[0.8888888888888888,\"#fdca26\"],[1.0,\"#f0f921\"]]}],\"heatmap\":[{\"type\":\"heatmap\",\"colorbar\":{\"outlinewidth\":0,\"ticks\":\"\"},\"colorscale\":[[0.0,\"#0d0887\"],[0.1111111111111111,\"#46039f\"],[0.2222222222222222,\"#7201a8\"],[0.3333333333333333,\"#9c179e\"],[0.4444444444444444,\"#bd3786\"],[0.5555555555555556,\"#d8576b\"],[0.6666666666666666,\"#ed7953\"],[0.7777777777777778,\"#fb9f3a\"],[0.8888888888888888,\"#fdca26\"],[1.0,\"#f0f921\"]]}],\"heatmapgl\":[{\"type\":\"heatmapgl\",\"colorbar\":{\"outlinewidth\":0,\"ticks\":\"\"},\"colorscale\":[[0.0,\"#0d0887\"],[0.1111111111111111,\"#46039f\"],[0.2222222222222222,\"#7201a8\"],[0.3333333333333333,\"#9c179e\"],[0.4444444444444444,\"#bd3786\"],[0.5555555555555556,\"#d8576b\"],[0.6666666666666666,\"#ed7953\"],[0.7777777777777778,\"#fb9f3a\"],[0.8888888888888888,\"#fdca26\"],[1.0,\"#f0f921\"]]}],\"contourcarpet\":[{\"type\":\"contourcarpet\",\"colorbar\":{\"outlinewidth\":0,\"ticks\":\"\"}}],\"contour\":[{\"type\":\"contour\",\"colorbar\":{\"outlinewidth\":0,\"ticks\":\"\"},\"colorscale\":[[0.0,\"#0d0887\"],[0.1111111111111111,\"#46039f\"],[0.2222222222222222,\"#7201a8\"],[0.3333333333333333,\"#9c179e\"],[0.4444444444444444,\"#bd3786\"],[0.5555555555555556,\"#d8576b\"],[0.6666666666666666,\"#ed7953\"],[0.7777777777777778,\"#fb9f3a\"],[0.8888888888888888,\"#fdca26\"],[1.0,\"#f0f921\"]]}],\"surface\":[{\"type\":\"surface\",\"colorbar\":{\"outlinewidth\":0,\"ticks\":\"\"},\"colorscale\":[[0.0,\"#0d0887\"],[0.1111111111111111,\"#46039f\"],[0.2222222222222222,\"#7201a8\"],[0.3333333333333333,\"#9c179e\"],[0.4444444444444444,\"#bd3786\"],[0.5555555555555556,\"#d8576b\"],[0.6666666666666666,\"#ed7953\"],[0.7777777777777778,\"#fb9f3a\"],[0.8888888888888888,\"#fdca26\"],[1.0,\"#f0f921\"]]}],\"mesh3d\":[{\"type\":\"mesh3d\",\"colorbar\":{\"outlinewidth\":0,\"ticks\":\"\"}}],\"scatter\":[{\"fillpattern\":{\"fillmode\":\"overlay\",\"size\":10,\"solidity\":0.2},\"type\":\"scatter\"}],\"parcoords\":[{\"type\":\"parcoords\",\"line\":{\"colorbar\":{\"outlinewidth\":0,\"ticks\":\"\"}}}],\"scatterpolargl\":[{\"type\":\"scatterpolargl\",\"marker\":{\"colorbar\":{\"outlinewidth\":0,\"ticks\":\"\"}}}],\"bar\":[{\"error_x\":{\"color\":\"#2a3f5f\"},\"error_y\":{\"color\":\"#2a3f5f\"},\"marker\":{\"line\":{\"color\":\"#E5ECF6\",\"width\":0.5},\"pattern\":{\"fillmode\":\"overlay\",\"size\":10,\"solidity\":0.2}},\"type\":\"bar\"}],\"scattergeo\":[{\"type\":\"scattergeo\",\"marker\":{\"colorbar\":{\"outlinewidth\":0,\"ticks\":\"\"}}}],\"scatterpolar\":[{\"type\":\"scatterpolar\",\"marker\":{\"colorbar\":{\"outlinewidth\":0,\"ticks\":\"\"}}}],\"histogram\":[{\"marker\":{\"pattern\":{\"fillmode\":\"overlay\",\"size\":10,\"solidity\":0.2}},\"type\":\"histogram\"}],\"scattergl\":[{\"type\":\"scattergl\",\"marker\":{\"colorbar\":{\"outlinewidth\":0,\"ticks\":\"\"}}}],\"scatter3d\":[{\"type\":\"scatter3d\",\"line\":{\"colorbar\":{\"outlinewidth\":0,\"ticks\":\"\"}},\"marker\":{\"colorbar\":{\"outlinewidth\":0,\"ticks\":\"\"}}}],\"scattermapbox\":[{\"type\":\"scattermapbox\",\"marker\":{\"colorbar\":{\"outlinewidth\":0,\"ticks\":\"\"}}}],\"scatterternary\":[{\"type\":\"scatterternary\",\"marker\":{\"colorbar\":{\"outlinewidth\":0,\"ticks\":\"\"}}}],\"scattercarpet\":[{\"type\":\"scattercarpet\",\"marker\":{\"colorbar\":{\"outlinewidth\":0,\"ticks\":\"\"}}}],\"carpet\":[{\"aaxis\":{\"endlinecolor\":\"#2a3f5f\",\"gridcolor\":\"white\",\"linecolor\":\"white\",\"minorgridcolor\":\"white\",\"startlinecolor\":\"#2a3f5f\"},\"baxis\":{\"endlinecolor\":\"#2a3f5f\",\"gridcolor\":\"white\",\"linecolor\":\"white\",\"minorgridcolor\":\"white\",\"startlinecolor\":\"#2a3f5f\"},\"type\":\"carpet\"}],\"table\":[{\"cells\":{\"fill\":{\"color\":\"#EBF0F8\"},\"line\":{\"color\":\"white\"}},\"header\":{\"fill\":{\"color\":\"#C8D4E3\"},\"line\":{\"color\":\"white\"}},\"type\":\"table\"}],\"barpolar\":[{\"marker\":{\"line\":{\"color\":\"#E5ECF6\",\"width\":0.5},\"pattern\":{\"fillmode\":\"overlay\",\"size\":10,\"solidity\":0.2}},\"type\":\"barpolar\"}],\"pie\":[{\"automargin\":true,\"type\":\"pie\"}]},\"layout\":{\"autotypenumbers\":\"strict\",\"colorway\":[\"#636efa\",\"#EF553B\",\"#00cc96\",\"#ab63fa\",\"#FFA15A\",\"#19d3f3\",\"#FF6692\",\"#B6E880\",\"#FF97FF\",\"#FECB52\"],\"font\":{\"color\":\"#2a3f5f\"},\"hovermode\":\"closest\",\"hoverlabel\":{\"align\":\"left\"},\"paper_bgcolor\":\"white\",\"plot_bgcolor\":\"#E5ECF6\",\"polar\":{\"bgcolor\":\"#E5ECF6\",\"angularaxis\":{\"gridcolor\":\"white\",\"linecolor\":\"white\",\"ticks\":\"\"},\"radialaxis\":{\"gridcolor\":\"white\",\"linecolor\":\"white\",\"ticks\":\"\"}},\"ternary\":{\"bgcolor\":\"#E5ECF6\",\"aaxis\":{\"gridcolor\":\"white\",\"linecolor\":\"white\",\"ticks\":\"\"},\"baxis\":{\"gridcolor\":\"white\",\"linecolor\":\"white\",\"ticks\":\"\"},\"caxis\":{\"gridcolor\":\"white\",\"linecolor\":\"white\",\"ticks\":\"\"}},\"coloraxis\":{\"colorbar\":{\"outlinewidth\":0,\"ticks\":\"\"}},\"colorscale\":{\"sequential\":[[0.0,\"#0d0887\"],[0.1111111111111111,\"#46039f\"],[0.2222222222222222,\"#7201a8\"],[0.3333333333333333,\"#9c179e\"],[0.4444444444444444,\"#bd3786\"],[0.5555555555555556,\"#d8576b\"],[0.6666666666666666,\"#ed7953\"],[0.7777777777777778,\"#fb9f3a\"],[0.8888888888888888,\"#fdca26\"],[1.0,\"#f0f921\"]],\"sequentialminus\":[[0.0,\"#0d0887\"],[0.1111111111111111,\"#46039f\"],[0.2222222222222222,\"#7201a8\"],[0.3333333333333333,\"#9c179e\"],[0.4444444444444444,\"#bd3786\"],[0.5555555555555556,\"#d8576b\"],[0.6666666666666666,\"#ed7953\"],[0.7777777777777778,\"#fb9f3a\"],[0.8888888888888888,\"#fdca26\"],[1.0,\"#f0f921\"]],\"diverging\":[[0,\"#8e0152\"],[0.1,\"#c51b7d\"],[0.2,\"#de77ae\"],[0.3,\"#f1b6da\"],[0.4,\"#fde0ef\"],[0.5,\"#f7f7f7\"],[0.6,\"#e6f5d0\"],[0.7,\"#b8e186\"],[0.8,\"#7fbc41\"],[0.9,\"#4d9221\"],[1,\"#276419\"]]},\"xaxis\":{\"gridcolor\":\"white\",\"linecolor\":\"white\",\"ticks\":\"\",\"title\":{\"standoff\":15},\"zerolinecolor\":\"white\",\"automargin\":true,\"zerolinewidth\":2},\"yaxis\":{\"gridcolor\":\"white\",\"linecolor\":\"white\",\"ticks\":\"\",\"title\":{\"standoff\":15},\"zerolinecolor\":\"white\",\"automargin\":true,\"zerolinewidth\":2},\"scene\":{\"xaxis\":{\"backgroundcolor\":\"#E5ECF6\",\"gridcolor\":\"white\",\"linecolor\":\"white\",\"showbackground\":true,\"ticks\":\"\",\"zerolinecolor\":\"white\",\"gridwidth\":2},\"yaxis\":{\"backgroundcolor\":\"#E5ECF6\",\"gridcolor\":\"white\",\"linecolor\":\"white\",\"showbackground\":true,\"ticks\":\"\",\"zerolinecolor\":\"white\",\"gridwidth\":2},\"zaxis\":{\"backgroundcolor\":\"#E5ECF6\",\"gridcolor\":\"white\",\"linecolor\":\"white\",\"showbackground\":true,\"ticks\":\"\",\"zerolinecolor\":\"white\",\"gridwidth\":2}},\"shapedefaults\":{\"line\":{\"color\":\"#2a3f5f\"}},\"annotationdefaults\":{\"arrowcolor\":\"#2a3f5f\",\"arrowhead\":0,\"arrowwidth\":1},\"geo\":{\"bgcolor\":\"white\",\"landcolor\":\"#E5ECF6\",\"subunitcolor\":\"white\",\"showland\":true,\"showlakes\":true,\"lakecolor\":\"white\"},\"title\":{\"x\":0.05},\"mapbox\":{\"style\":\"light\"}}},\"xaxis\":{\"anchor\":\"y\",\"domain\":[0.0,1.0],\"title\":{\"text\":\"ZEV percent difference\"}},\"yaxis\":{\"anchor\":\"x\",\"domain\":[0.0,1.0],\"title\":{\"text\":\"EV percent difference\"}},\"legend\":{\"title\":{\"text\":\"geo, time_period\"},\"tracegroupgap\":0},\"title\":{\"text\":\"Scatter Plot of EV vs ZEV Percent Difference\"}},                        {\"responsive\": true}                    ).then(function(){\n",
       "                            \n",
       "var gd = document.getElementById('7fd39af2-089e-477f-b8f6-fcf37f6e706f');\n",
       "var x = new MutationObserver(function (mutations, observer) {{\n",
       "        var display = window.getComputedStyle(gd).display;\n",
       "        if (!display || display === 'none') {{\n",
       "            console.log([gd, 'removed!']);\n",
       "            Plotly.purge(gd);\n",
       "            observer.disconnect();\n",
       "        }}\n",
       "}});\n",
       "\n",
       "// Listen for the removal of the full notebook cells\n",
       "var notebookContainer = gd.closest('#notebook-container');\n",
       "if (notebookContainer) {{\n",
       "    x.observe(notebookContainer, {childList: true});\n",
       "}}\n",
       "\n",
       "// Listen for the clearing of the current output cell\n",
       "var outputEl = gd.closest('.output');\n",
       "if (outputEl) {{\n",
       "    x.observe(outputEl, {childList: true});\n",
       "}}\n",
       "\n",
       "                        })                };                });            </script>        </div>"
      ]
     },
     "metadata": {},
     "output_type": "display_data"
    }
   ],
   "source": [
    "fig = px.scatter(\n",
    "    df_cleaned,\n",
    "    x='zev_norm',\n",
    "    y='ev_norm',\n",
    "    color='geo',\n",
    "    symbol='time_period',\n",
    "    labels={'ev_norm': 'EV percent difference', 'zev_norm': 'ZEV percent difference'},\n",
    "    trendline='ols',\n",
    "    title=\"Scatter Plot of EV vs ZEV Percent Difference\",\n",
    "    trendline_scope='overall'\n",
    ")\n",
    "\n",
    "fig.show()"
   ]
  },
  {
   "cell_type": "code",
   "execution_count": null,
   "id": "f0059bc5-6dfe-4d8b-b227-5db49270d909",
   "metadata": {},
   "outputs": [],
   "source": []
  }
 ],
 "metadata": {
  "kernelspec": {
   "display_name": "Python 3 (ipykernel)",
   "language": "python",
   "name": "python3"
  },
  "language_info": {
   "codemirror_mode": {
    "name": "ipython",
    "version": 3
   },
   "file_extension": ".py",
   "mimetype": "text/x-python",
   "name": "python",
   "nbconvert_exporter": "python",
   "pygments_lexer": "ipython3",
   "version": "3.12.4"
  }
 },
 "nbformat": 4,
 "nbformat_minor": 5
}
