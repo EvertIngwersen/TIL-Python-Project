{
 "cells": [
  {
   "cell_type": "markdown",
   "metadata": {},
   "source": [
    "# TIL6022 Project Proposal \n",
    "## Group 14 \n",
    "\n",
    "### Evert Ingwersen - 5096374\n",
    "### Anniek Hellemans - 5119103\n",
    "### Aurora Nieuwenhuis - 5273552\n",
    "### Julia Lakeman - 5171156\n",
    "### Felix Scheepens - 6279031\n",
    "## Objective:\n",
    "### The objective of this research is to investigate how the growing share of non-emission passenger vehicles has influenced the net CO2 ### footprint of EU member states over the past decade. As the climate crisis continues to worsen, understanding the role that non-emission ### vehicles play in reducing CO2 emissions is more important than ever. This research project aims to explore the connection between the ### increasing adoption of these vehicles and changes in CO2 emissions across different countries in the EU. This way, we intend to provide ### valuable insights to those who are working to create cleaner and more sustainable transportation solutions in the European Union.\n",
    "## Research Questions:\n",
    "### To what extent does the share of non-emission passenger vehicles affect the net CO2 footprint per EU country over the past decade?\n",
    "### What is the growth trend of zero-emission passenger vehicles (ZEVs) and petrol powered passenger vehicles in each EU country over the ### past decade?\n",
    "#### Database: 1, 3 \n",
    "### ⁠Which EU countries have the highest/lowest CO2 emissions in relation to their percentage of non-emission passenger vehicles over the past decade?\n",
    "#### Database: 1, 2\n",
    "### ⁠Are there any regional trends within specific EU countries regarding the adoption of non-emission passenger vehicles over the past ### decade? \n",
    "#### Database: 2, 3\n",
    "## Databases (eurostat):\n",
    "### Net greenhouse gas emissions (https://ec.europa.eu/eurostat/databrowser/view/sdg_13_10/default/table?lang=en&category=t_env.t_env_air)\n",
    "### Passenger cars, by type of motor energy (https://ec.europa.eu/eurostat/databrowser/view/road_eqs_carpda__custom_13067669/default/table?lang=en)\n",
    "### Stock of zero-emission vehicles at 31st December by type of vehicle and type of motor energy (https://ec.europa.eu/eurostat/databrowser/view/road_eqs_zev/default/table?lang=en&category=road.road_eqs\n",
    ")\n",
    "\n",
    "\n"
   ]
  },
  {
   "cell_type": "markdown",
   "metadata": {},
   "source": []
  }
 ],
 "metadata": {
  "language_info": {
   "name": "python"
  }
 },
 "nbformat": 4,
 "nbformat_minor": 2
}
