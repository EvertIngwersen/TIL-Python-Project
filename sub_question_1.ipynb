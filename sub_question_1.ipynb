{
 "cells": [
  {
   "cell_type": "code",
   "execution_count": 148,
   "metadata": {},
   "outputs": [],
   "source": [
    "import pandas as pd\n",
    "import plotly.graph_objects as go\n",
    "import plotly.express as px\n",
    "import numpy as np\n",
    "import plotly.colors as pc"
   ]
  },
  {
   "cell_type": "code",
   "execution_count": null,
   "metadata": {},
   "outputs": [],
   "source": [
    "# Load dataset\n",
    "joined_df = pd.read_csv('../data/merged_dataset.csv')"
   ]
  },
  {
   "cell_type": "code",
   "execution_count": 150,
   "metadata": {},
   "outputs": [
    {
     "data": {
      "text/html": [
       "<div>\n",
       "<style scoped>\n",
       "    .dataframe tbody tr th:only-of-type {\n",
       "        vertical-align: middle;\n",
       "    }\n",
       "\n",
       "    .dataframe tbody tr th {\n",
       "        vertical-align: top;\n",
       "    }\n",
       "\n",
       "    .dataframe thead th {\n",
       "        text-align: right;\n",
       "    }\n",
       "</style>\n",
       "<table border=\"1\" class=\"dataframe\">\n",
       "  <thead>\n",
       "    <tr style=\"text-align: right;\">\n",
       "      <th></th>\n",
       "      <th>Unnamed: 0</th>\n",
       "      <th>geo</th>\n",
       "      <th>time_period</th>\n",
       "      <th>amount_passenger_cars</th>\n",
       "      <th>amount_zev</th>\n",
       "      <th>amount_ev</th>\n",
       "      <th>share_zev</th>\n",
       "      <th>emission_per_capita</th>\n",
       "      <th>zev_per_capita</th>\n",
       "      <th>ev_per_capita</th>\n",
       "      <th>total_emissions</th>\n",
       "      <th>zev_diff</th>\n",
       "      <th>ev_diff</th>\n",
       "      <th>emmission_diff</th>\n",
       "      <th>all_cars_diff</th>\n",
       "      <th>zev_norm</th>\n",
       "      <th>ev_norm</th>\n",
       "      <th>emmission_norm</th>\n",
       "      <th>all_cars_norm</th>\n",
       "    </tr>\n",
       "  </thead>\n",
       "  <tbody>\n",
       "    <tr>\n",
       "      <th>0</th>\n",
       "      <td>0</td>\n",
       "      <td>Austria</td>\n",
       "      <td>2014</td>\n",
       "      <td>4694921</td>\n",
       "      <td>3389</td>\n",
       "      <td>4691532</td>\n",
       "      <td>0.000722</td>\n",
       "      <td>8.4</td>\n",
       "      <td>0.000398</td>\n",
       "      <td>0.551440</td>\n",
       "      <td>71465402.4</td>\n",
       "      <td>NaN</td>\n",
       "      <td>NaN</td>\n",
       "      <td>NaN</td>\n",
       "      <td>NaN</td>\n",
       "      <td>NaN</td>\n",
       "      <td>NaN</td>\n",
       "      <td>NaN</td>\n",
       "      <td>NaN</td>\n",
       "    </tr>\n",
       "    <tr>\n",
       "      <th>1</th>\n",
       "      <td>1</td>\n",
       "      <td>Austria</td>\n",
       "      <td>2015</td>\n",
       "      <td>4748048</td>\n",
       "      <td>5038</td>\n",
       "      <td>4743010</td>\n",
       "      <td>0.001061</td>\n",
       "      <td>8.7</td>\n",
       "      <td>0.000587</td>\n",
       "      <td>0.552481</td>\n",
       "      <td>74688856.2</td>\n",
       "      <td>1649.0</td>\n",
       "      <td>51478.0</td>\n",
       "      <td>3223453.8</td>\n",
       "      <td>53127.0</td>\n",
       "      <td>0.486574</td>\n",
       "      <td>0.010973</td>\n",
       "      <td>0.045105</td>\n",
       "      <td>0.011316</td>\n",
       "    </tr>\n",
       "    <tr>\n",
       "      <th>2</th>\n",
       "      <td>2</td>\n",
       "      <td>Austria</td>\n",
       "      <td>2016</td>\n",
       "      <td>4821557</td>\n",
       "      <td>9086</td>\n",
       "      <td>4812471</td>\n",
       "      <td>0.001884</td>\n",
       "      <td>8.6</td>\n",
       "      <td>0.001044</td>\n",
       "      <td>0.553128</td>\n",
       "      <td>74824050.6</td>\n",
       "      <td>4048.0</td>\n",
       "      <td>69461.0</td>\n",
       "      <td>135194.4</td>\n",
       "      <td>73509.0</td>\n",
       "      <td>0.803493</td>\n",
       "      <td>0.014645</td>\n",
       "      <td>0.001810</td>\n",
       "      <td>0.015482</td>\n",
       "    </tr>\n",
       "    <tr>\n",
       "      <th>3</th>\n",
       "      <td>3</td>\n",
       "      <td>Austria</td>\n",
       "      <td>2017</td>\n",
       "      <td>4898578</td>\n",
       "      <td>14637</td>\n",
       "      <td>4883941</td>\n",
       "      <td>0.002988</td>\n",
       "      <td>9.3</td>\n",
       "      <td>0.001668</td>\n",
       "      <td>0.556710</td>\n",
       "      <td>81587644.5</td>\n",
       "      <td>5551.0</td>\n",
       "      <td>71470.0</td>\n",
       "      <td>6763593.9</td>\n",
       "      <td>77021.0</td>\n",
       "      <td>0.610940</td>\n",
       "      <td>0.014851</td>\n",
       "      <td>0.090393</td>\n",
       "      <td>0.015974</td>\n",
       "    </tr>\n",
       "    <tr>\n",
       "      <th>4</th>\n",
       "      <td>4</td>\n",
       "      <td>Austria</td>\n",
       "      <td>2018</td>\n",
       "      <td>4978852</td>\n",
       "      <td>20855</td>\n",
       "      <td>4957997</td>\n",
       "      <td>0.004189</td>\n",
       "      <td>9.8</td>\n",
       "      <td>0.002364</td>\n",
       "      <td>0.561987</td>\n",
       "      <td>86458216.6</td>\n",
       "      <td>6218.0</td>\n",
       "      <td>74056.0</td>\n",
       "      <td>4870572.1</td>\n",
       "      <td>80274.0</td>\n",
       "      <td>0.424814</td>\n",
       "      <td>0.015163</td>\n",
       "      <td>0.059697</td>\n",
       "      <td>0.016387</td>\n",
       "    </tr>\n",
       "    <tr>\n",
       "      <th>...</th>\n",
       "      <td>...</td>\n",
       "      <td>...</td>\n",
       "      <td>...</td>\n",
       "      <td>...</td>\n",
       "      <td>...</td>\n",
       "      <td>...</td>\n",
       "      <td>...</td>\n",
       "      <td>...</td>\n",
       "      <td>...</td>\n",
       "      <td>...</td>\n",
       "      <td>...</td>\n",
       "      <td>...</td>\n",
       "      <td>...</td>\n",
       "      <td>...</td>\n",
       "      <td>...</td>\n",
       "      <td>...</td>\n",
       "      <td>...</td>\n",
       "      <td>...</td>\n",
       "      <td>...</td>\n",
       "    </tr>\n",
       "    <tr>\n",
       "      <th>275</th>\n",
       "      <td>255</td>\n",
       "      <td>Sweden</td>\n",
       "      <td>2019</td>\n",
       "      <td>4887116</td>\n",
       "      <td>30382</td>\n",
       "      <td>4856734</td>\n",
       "      <td>0.006217</td>\n",
       "      <td>1.2</td>\n",
       "      <td>0.002970</td>\n",
       "      <td>0.474745</td>\n",
       "      <td>12276222.0</td>\n",
       "      <td>13677.0</td>\n",
       "      <td>3460.0</td>\n",
       "      <td>-3916165.2</td>\n",
       "      <td>17137.0</td>\n",
       "      <td>0.818737</td>\n",
       "      <td>0.000713</td>\n",
       "      <td>-0.241852</td>\n",
       "      <td>0.003519</td>\n",
       "    </tr>\n",
       "    <tr>\n",
       "      <th>276</th>\n",
       "      <td>256</td>\n",
       "      <td>Sweden</td>\n",
       "      <td>2020</td>\n",
       "      <td>4943293</td>\n",
       "      <td>55829</td>\n",
       "      <td>4887464</td>\n",
       "      <td>0.011294</td>\n",
       "      <td>0.4</td>\n",
       "      <td>0.005406</td>\n",
       "      <td>0.473243</td>\n",
       "      <td>4131035.6</td>\n",
       "      <td>25447.0</td>\n",
       "      <td>30730.0</td>\n",
       "      <td>-8145186.4</td>\n",
       "      <td>56177.0</td>\n",
       "      <td>0.837568</td>\n",
       "      <td>0.006327</td>\n",
       "      <td>-0.663493</td>\n",
       "      <td>0.011495</td>\n",
       "    </tr>\n",
       "    <tr>\n",
       "      <th>277</th>\n",
       "      <td>257</td>\n",
       "      <td>Sweden</td>\n",
       "      <td>2021</td>\n",
       "      <td>4985979</td>\n",
       "      <td>110221</td>\n",
       "      <td>4875758</td>\n",
       "      <td>0.022106</td>\n",
       "      <td>0.5</td>\n",
       "      <td>0.010619</td>\n",
       "      <td>0.469758</td>\n",
       "      <td>5189647.5</td>\n",
       "      <td>54392.0</td>\n",
       "      <td>-11706.0</td>\n",
       "      <td>1058611.9</td>\n",
       "      <td>42686.0</td>\n",
       "      <td>0.974261</td>\n",
       "      <td>-0.002395</td>\n",
       "      <td>0.256258</td>\n",
       "      <td>0.008635</td>\n",
       "    </tr>\n",
       "    <tr>\n",
       "      <th>278</th>\n",
       "      <td>258</td>\n",
       "      <td>Sweden</td>\n",
       "      <td>2022</td>\n",
       "      <td>4979761</td>\n",
       "      <td>197751</td>\n",
       "      <td>4782010</td>\n",
       "      <td>0.039711</td>\n",
       "      <td>0.6</td>\n",
       "      <td>0.018919</td>\n",
       "      <td>0.457507</td>\n",
       "      <td>6271395.6</td>\n",
       "      <td>87530.0</td>\n",
       "      <td>-93748.0</td>\n",
       "      <td>1081748.1</td>\n",
       "      <td>-6218.0</td>\n",
       "      <td>0.794132</td>\n",
       "      <td>-0.019227</td>\n",
       "      <td>0.208443</td>\n",
       "      <td>-0.001247</td>\n",
       "    </tr>\n",
       "    <tr>\n",
       "      <th>279</th>\n",
       "      <td>259</td>\n",
       "      <td>Sweden</td>\n",
       "      <td>2023</td>\n",
       "      <td>4976366</td>\n",
       "      <td>291716</td>\n",
       "      <td>4684650</td>\n",
       "      <td>0.058620</td>\n",
       "      <td>NaN</td>\n",
       "      <td>0.027726</td>\n",
       "      <td>0.445243</td>\n",
       "      <td>NaN</td>\n",
       "      <td>93965.0</td>\n",
       "      <td>-97360.0</td>\n",
       "      <td>NaN</td>\n",
       "      <td>-3395.0</td>\n",
       "      <td>0.475168</td>\n",
       "      <td>-0.020360</td>\n",
       "      <td>NaN</td>\n",
       "      <td>-0.000682</td>\n",
       "    </tr>\n",
       "  </tbody>\n",
       "</table>\n",
       "<p>270 rows × 19 columns</p>\n",
       "</div>"
      ],
      "text/plain": [
       "     Unnamed: 0      geo  time_period  amount_passenger_cars  amount_zev  \\\n",
       "0             0  Austria         2014                4694921        3389   \n",
       "1             1  Austria         2015                4748048        5038   \n",
       "2             2  Austria         2016                4821557        9086   \n",
       "3             3  Austria         2017                4898578       14637   \n",
       "4             4  Austria         2018                4978852       20855   \n",
       "..          ...      ...          ...                    ...         ...   \n",
       "275         255   Sweden         2019                4887116       30382   \n",
       "276         256   Sweden         2020                4943293       55829   \n",
       "277         257   Sweden         2021                4985979      110221   \n",
       "278         258   Sweden         2022                4979761      197751   \n",
       "279         259   Sweden         2023                4976366      291716   \n",
       "\n",
       "     amount_ev  share_zev  emission_per_capita  zev_per_capita  ev_per_capita  \\\n",
       "0      4691532   0.000722                  8.4        0.000398       0.551440   \n",
       "1      4743010   0.001061                  8.7        0.000587       0.552481   \n",
       "2      4812471   0.001884                  8.6        0.001044       0.553128   \n",
       "3      4883941   0.002988                  9.3        0.001668       0.556710   \n",
       "4      4957997   0.004189                  9.8        0.002364       0.561987   \n",
       "..         ...        ...                  ...             ...            ...   \n",
       "275    4856734   0.006217                  1.2        0.002970       0.474745   \n",
       "276    4887464   0.011294                  0.4        0.005406       0.473243   \n",
       "277    4875758   0.022106                  0.5        0.010619       0.469758   \n",
       "278    4782010   0.039711                  0.6        0.018919       0.457507   \n",
       "279    4684650   0.058620                  NaN        0.027726       0.445243   \n",
       "\n",
       "     total_emissions  zev_diff  ev_diff  emmission_diff  all_cars_diff  \\\n",
       "0         71465402.4       NaN      NaN             NaN            NaN   \n",
       "1         74688856.2    1649.0  51478.0       3223453.8        53127.0   \n",
       "2         74824050.6    4048.0  69461.0        135194.4        73509.0   \n",
       "3         81587644.5    5551.0  71470.0       6763593.9        77021.0   \n",
       "4         86458216.6    6218.0  74056.0       4870572.1        80274.0   \n",
       "..               ...       ...      ...             ...            ...   \n",
       "275       12276222.0   13677.0   3460.0      -3916165.2        17137.0   \n",
       "276        4131035.6   25447.0  30730.0      -8145186.4        56177.0   \n",
       "277        5189647.5   54392.0 -11706.0       1058611.9        42686.0   \n",
       "278        6271395.6   87530.0 -93748.0       1081748.1        -6218.0   \n",
       "279              NaN   93965.0 -97360.0             NaN        -3395.0   \n",
       "\n",
       "     zev_norm   ev_norm  emmission_norm  all_cars_norm  \n",
       "0         NaN       NaN             NaN            NaN  \n",
       "1    0.486574  0.010973        0.045105       0.011316  \n",
       "2    0.803493  0.014645        0.001810       0.015482  \n",
       "3    0.610940  0.014851        0.090393       0.015974  \n",
       "4    0.424814  0.015163        0.059697       0.016387  \n",
       "..        ...       ...             ...            ...  \n",
       "275  0.818737  0.000713       -0.241852       0.003519  \n",
       "276  0.837568  0.006327       -0.663493       0.011495  \n",
       "277  0.974261 -0.002395        0.256258       0.008635  \n",
       "278  0.794132 -0.019227        0.208443      -0.001247  \n",
       "279  0.475168 -0.020360             NaN      -0.000682  \n",
       "\n",
       "[270 rows x 19 columns]"
      ]
     },
     "execution_count": 150,
     "metadata": {},
     "output_type": "execute_result"
    }
   ],
   "source": [
    "# Exclude European Union\n",
    "point_to_exclude = joined_df[joined_df['geo'] == 'European Union'].index\n",
    "joined_df = joined_df.drop(index=point_to_exclude)\n",
    "joined_df"
   ]
  },
  {
   "cell_type": "code",
   "execution_count": 151,
   "metadata": {},
   "outputs": [
    {
     "data": {
      "text/plain": [
       "Index(['Unnamed: 0', 'geo', 'time_period', 'amount_passenger_cars',\n",
       "       'amount_zev', 'amount_ev', 'share_zev', 'emission_per_capita',\n",
       "       'zev_per_capita', 'ev_per_capita', 'total_emissions', 'zev_diff',\n",
       "       'ev_diff', 'emmission_diff', 'all_cars_diff', 'zev_norm', 'ev_norm',\n",
       "       'emmission_norm', 'all_cars_norm'],\n",
       "      dtype='object')"
      ]
     },
     "execution_count": 151,
     "metadata": {},
     "output_type": "execute_result"
    }
   ],
   "source": [
    "joined_df.columns"
   ]
  },
  {
   "cell_type": "code",
   "execution_count": 152,
   "metadata": {},
   "outputs": [],
   "source": [
    "joined_df['share_ev'] = joined_df['amount_ev'] / joined_df['amount_passenger_cars']\n",
    "joined_df['share_ev_diff'] = joined_df.groupby('geo')['share_ev'].transform(lambda x: x - x.shift(1))"
   ]
  },
  {
   "cell_type": "code",
   "execution_count": 153,
   "metadata": {},
   "outputs": [],
   "source": [
    "# Group databases by country\n",
    "groups = joined_df.groupby('geo')"
   ]
  },
  {
   "cell_type": "code",
   "execution_count": 154,
   "metadata": {},
   "outputs": [],
   "source": [
    "df_cleaned = joined_df[['share_ev_diff', 'ev_diff', 'emmission_diff', 'geo', 'time_period', 'all_cars_diff', 'zev_diff', 'ev_norm', 'zev_norm', 'emmission_norm', 'all_cars_norm']].dropna()\n",
    "\n",
    "# Convert to numeric in case they are not\n",
    "df_cleaned['ev_diff'] = pd.to_numeric(df_cleaned['ev_diff'], errors='coerce')\n",
    "df_cleaned['emmission_diff'] = pd.to_numeric(df_cleaned['emmission_diff'], errors='coerce')\n",
    "df_cleaned['all_cars_diff'] = pd.to_numeric(df_cleaned['all_cars_diff'], errors='coerce')\n",
    "\n",
    "# Drop any remaining NaN values after conversion\n",
    "df_cleaned = df_cleaned.dropna()\n"
   ]
  },
  {
   "cell_type": "code",
   "execution_count": 155,
   "metadata": {},
   "outputs": [
    {
     "data": {
      "text/html": [
       "<div>\n",
       "<style scoped>\n",
       "    .dataframe tbody tr th:only-of-type {\n",
       "        vertical-align: middle;\n",
       "    }\n",
       "\n",
       "    .dataframe tbody tr th {\n",
       "        vertical-align: top;\n",
       "    }\n",
       "\n",
       "    .dataframe thead th {\n",
       "        text-align: right;\n",
       "    }\n",
       "</style>\n",
       "<table border=\"1\" class=\"dataframe\">\n",
       "  <thead>\n",
       "    <tr style=\"text-align: right;\">\n",
       "      <th></th>\n",
       "      <th>share_ev_diff</th>\n",
       "      <th>ev_diff</th>\n",
       "      <th>emmission_diff</th>\n",
       "      <th>geo</th>\n",
       "      <th>time_period</th>\n",
       "      <th>all_cars_diff</th>\n",
       "      <th>zev_diff</th>\n",
       "      <th>ev_norm</th>\n",
       "      <th>zev_norm</th>\n",
       "      <th>emmission_norm</th>\n",
       "      <th>all_cars_norm</th>\n",
       "    </tr>\n",
       "  </thead>\n",
       "  <tbody>\n",
       "    <tr>\n",
       "      <th>1</th>\n",
       "      <td>-0.000339</td>\n",
       "      <td>51478.0</td>\n",
       "      <td>3223453.8</td>\n",
       "      <td>Austria</td>\n",
       "      <td>2015</td>\n",
       "      <td>53127.0</td>\n",
       "      <td>1649.0</td>\n",
       "      <td>0.010973</td>\n",
       "      <td>0.486574</td>\n",
       "      <td>0.045105</td>\n",
       "      <td>0.011316</td>\n",
       "    </tr>\n",
       "    <tr>\n",
       "      <th>2</th>\n",
       "      <td>-0.000823</td>\n",
       "      <td>69461.0</td>\n",
       "      <td>135194.4</td>\n",
       "      <td>Austria</td>\n",
       "      <td>2016</td>\n",
       "      <td>73509.0</td>\n",
       "      <td>4048.0</td>\n",
       "      <td>0.014645</td>\n",
       "      <td>0.803493</td>\n",
       "      <td>0.001810</td>\n",
       "      <td>0.015482</td>\n",
       "    </tr>\n",
       "    <tr>\n",
       "      <th>3</th>\n",
       "      <td>-0.001104</td>\n",
       "      <td>71470.0</td>\n",
       "      <td>6763593.9</td>\n",
       "      <td>Austria</td>\n",
       "      <td>2017</td>\n",
       "      <td>77021.0</td>\n",
       "      <td>5551.0</td>\n",
       "      <td>0.014851</td>\n",
       "      <td>0.610940</td>\n",
       "      <td>0.090393</td>\n",
       "      <td>0.015974</td>\n",
       "    </tr>\n",
       "    <tr>\n",
       "      <th>4</th>\n",
       "      <td>-0.001201</td>\n",
       "      <td>74056.0</td>\n",
       "      <td>4870572.1</td>\n",
       "      <td>Austria</td>\n",
       "      <td>2018</td>\n",
       "      <td>80274.0</td>\n",
       "      <td>6218.0</td>\n",
       "      <td>0.015163</td>\n",
       "      <td>0.424814</td>\n",
       "      <td>0.059697</td>\n",
       "      <td>0.016387</td>\n",
       "    </tr>\n",
       "    <tr>\n",
       "      <th>5</th>\n",
       "      <td>-0.001678</td>\n",
       "      <td>51987.0</td>\n",
       "      <td>-1413976.6</td>\n",
       "      <td>Austria</td>\n",
       "      <td>2019</td>\n",
       "      <td>60696.0</td>\n",
       "      <td>8709.0</td>\n",
       "      <td>0.010485</td>\n",
       "      <td>0.417598</td>\n",
       "      <td>-0.016354</td>\n",
       "      <td>0.012191</td>\n",
       "    </tr>\n",
       "  </tbody>\n",
       "</table>\n",
       "</div>"
      ],
      "text/plain": [
       "   share_ev_diff  ev_diff  emmission_diff      geo  time_period  \\\n",
       "1      -0.000339  51478.0       3223453.8  Austria         2015   \n",
       "2      -0.000823  69461.0        135194.4  Austria         2016   \n",
       "3      -0.001104  71470.0       6763593.9  Austria         2017   \n",
       "4      -0.001201  74056.0       4870572.1  Austria         2018   \n",
       "5      -0.001678  51987.0      -1413976.6  Austria         2019   \n",
       "\n",
       "   all_cars_diff  zev_diff   ev_norm  zev_norm  emmission_norm  all_cars_norm  \n",
       "1        53127.0    1649.0  0.010973  0.486574        0.045105       0.011316  \n",
       "2        73509.0    4048.0  0.014645  0.803493        0.001810       0.015482  \n",
       "3        77021.0    5551.0  0.014851  0.610940        0.090393       0.015974  \n",
       "4        80274.0    6218.0  0.015163  0.424814        0.059697       0.016387  \n",
       "5        60696.0    8709.0  0.010485  0.417598       -0.016354       0.012191  "
      ]
     },
     "execution_count": 155,
     "metadata": {},
     "output_type": "execute_result"
    }
   ],
   "source": [
    "df_cleaned.head()"
   ]
  },
  {
   "cell_type": "code",
   "execution_count": 157,
   "metadata": {},
   "outputs": [
    {
     "data": {
      "application/vnd.plotly.v1+json": {
       "config": {
        "plotlyServerURL": "https://plot.ly"
       },
       "data": [
        {
         "hovertemplate": "Countries=Austria<br>Change in Share of EV=%{x}<br>Change in Total Emmissions=%{y}<extra></extra>",
         "legendgroup": "Austria",
         "marker": {
          "color": "#AA0DFE",
          "symbol": "circle"
         },
         "mode": "markers",
         "name": "Austria",
         "orientation": "v",
         "showlegend": true,
         "type": "scatter",
         "x": [
          -0.00033922373996320143,
          -0.0008233858855515308,
          -0.0011035564823920208,
          -0.0012007066058753457,
          -0.0016776825337325718,
          -0.0028833089812186907,
          -0.006169740036880533,
          -0.006491803111946082
         ],
         "xaxis": "x",
         "y": [
          3223453.799999982,
          135194.40000000596,
          6763593.900000006,
          4870572.100000009,
          -1413976.600000009,
          -15615940.799999995,
          -2433319.200000003,
          3040666.200000003
         ],
         "yaxis": "y"
        },
        {
         "hovertemplate": "Countries=Belgium<br>Change in Share of EV=%{x}<br>Change in Total Emmissions=%{y}<extra></extra>",
         "legendgroup": "Belgium",
         "marker": {
          "color": "#3283FE",
          "symbol": "circle"
         },
         "mode": "markers",
         "name": "Belgium",
         "orientation": "v",
         "showlegend": true,
         "type": "scatter",
         "x": [
          -0.00018508594833155367,
          -0.0003232110361419682,
          -0.0003946380974627628,
          -0.0005598889768960724,
          -0.0013209486838561268,
          -0.0022060700166852687,
          -0.0034507617216587017,
          -0.006244291238258093
         ],
         "xaxis": "x",
         "y": [
          5087466.600000009,
          -1457334.700000018,
          434527,
          501423.400000006,
          -536400.900000006,
          -10813077.399999993,
          3776769.299999997,
          -6348299.399999991
         ],
         "yaxis": "y"
        },
        {
         "hovertemplate": "Countries=Bulgaria<br>Change in Share of EV=%{x}<br>Change in Total Emmissions=%{y}<extra></extra>",
         "legendgroup": "Bulgaria",
         "marker": {
          "color": "#85660D",
          "symbol": "circle"
         },
         "mode": "markers",
         "name": "Bulgaria",
         "orientation": "v",
         "showlegend": true,
         "type": "scatter",
         "x": [
          -0.000009099473081808362,
          -0.000010519535918129819,
          -0.00007020376570721076,
          -0.00011741299742396016,
          -0.00016272552056151302,
          -0.0002555437614403244,
          -0.0005159845444491218,
          -0.0009821501652937936
         ],
         "xaxis": "x",
         "y": [
          3603473,
          -4160455.1000000015,
          1421244.3000000045,
          -4060249,
          -1309780.6000000015,
          -6557681.1000000015,
          6312884.8000000045,
          4843519.5
         ],
         "yaxis": "y"
        },
        {
         "hovertemplate": "Countries=Croatia<br>Change in Share of EV=%{x}<br>Change in Total Emmissions=%{y}<extra></extra>",
         "legendgroup": "Croatia",
         "marker": {
          "color": "#782AB6",
          "symbol": "circle"
         },
         "mode": "markers",
         "name": "Croatia",
         "orientation": "v",
         "showlegend": true,
         "type": "scatter",
         "x": [
          -0.00008223127892270643,
          -0.000042004412939222746,
          -0.000028502801708629733,
          -0.00009805396905404606,
          -0.00014365176860531292,
          -0.0003315605313916059,
          -0.0009056117985446477,
          -0.0009506288849772115
         ],
         "xaxis": "x",
         "y": [
          659941.4000000022,
          577223,
          1767185.3000000007,
          -1571541.8999999985,
          -246591,
          -1369944.3000000045,
          182829.1000000015,
          998942.3000000007
         ],
         "yaxis": "y"
        },
        {
         "hovertemplate": "Countries=Cyprus<br>Change in Share of EV=%{x}<br>Change in Total Emmissions=%{y}<extra></extra>",
         "legendgroup": "Cyprus",
         "marker": {
          "color": "#565656",
          "symbol": "circle"
         },
         "mode": "markers",
         "name": "Cyprus",
         "orientation": "v",
         "showlegend": true,
         "type": "scatter",
         "x": [
          -0.00001581242654014048,
          -0.0000315352489529408,
          -0.00008650929093112492,
          -0.000041805687548635007,
          -0.00008469140677647147,
          -0.0001234088928809829,
          -0.00014724037257263234,
          -0.0008183788433486772
         ],
         "xaxis": "x",
         "y": [
          -28516.79999999888,
          607457.6999999993,
          157441.49999999814,
          -67186.39999999851,
          40703.09999999963,
          -1022451.0999999996,
          524822.6999999993,
          178320.30000000077
         ],
         "yaxis": "y"
        },
        {
         "hovertemplate": "Countries=Czech Republic<br>Change in Share of EV=%{x}<br>Change in Total Emmissions=%{y}<extra></extra>",
         "legendgroup": "Czech Republic",
         "marker": {
          "color": "#1C8356",
          "symbol": "circle"
         },
         "mode": "markers",
         "name": "Czech Republic",
         "orientation": "v",
         "showlegend": true,
         "type": "scatter",
         "x": [
          -0.00005311040632660635,
          -0.00004411791824154854,
          -0.00009185588496674058,
          -0.00031702979296233114,
          -0.00024305481852349153,
          -0.0005052172144331957,
          -0.00014684136243614532,
          -0.0007654549740160332
         ],
         "xaxis": "x",
         "y": [
          2404998.999999985,
          2292914.200000018,
          2412990.299999997,
          3560960,
          492838,
          -8007827.600000009,
          1888339.600000009,
          -6047572.200000003
         ],
         "yaxis": "y"
        },
        {
         "hovertemplate": "Countries=Denmark<br>Change in Share of EV=%{x}<br>Change in Total Emmissions=%{y}<extra></extra>",
         "legendgroup": "Denmark",
         "marker": {
          "color": "#16FF32",
          "symbol": "circle"
         },
         "mode": "markers",
         "name": "Denmark",
         "orientation": "v",
         "showlegend": true,
         "type": "scatter",
         "x": [
          -0.002056781069522784,
          -0.00021935202288680955,
          0.00004366411288980743,
          -0.000403414797276902,
          -0.001974791007254839,
          -0.005872974227694394,
          -0.012208834785488065,
          -0.0163201647374428
         ],
         "xaxis": "x",
         "y": [
          -3640248.500000008,
          3290956.700000003,
          -2471659.8999999985,
          1454511.200000003,
          -4410889.399999999,
          -5097021.5,
          133071.3999999985,
          -1505038.5
         ],
         "yaxis": "y"
        },
        {
         "hovertemplate": "Countries=Estonia<br>Change in Share of EV=%{x}<br>Change in Total Emmissions=%{y}<extra></extra>",
         "legendgroup": "Estonia",
         "marker": {
          "color": "#F7E1A0",
          "symbol": "circle"
         },
         "mode": "markers",
         "name": "Estonia",
         "orientation": "v",
         "showlegend": true,
         "type": "scatter",
         "x": [
          -0.000015311278422913688,
          0.000005405243453160402,
          0.0000034056792271863756,
          -0.00003929784691558691,
          -0.00005860634092047512,
          -0.00045391078441214816,
          -0.0007823693752844196,
          -0.0011026976095326324
         ],
         "xaxis": "x",
         "y": [
          -2513721.6999999997,
          2647353.5999999978,
          1047440.4000000022,
          983558.6999999993,
          -5594928.699999999,
          -5392280,
          941421.5999999996,
          683523.5999999996
         ],
         "yaxis": "y"
        },
        {
         "hovertemplate": "Countries=Finland<br>Change in Share of EV=%{x}<br>Change in Total Emmissions=%{y}<extra></extra>",
         "legendgroup": "Finland",
         "marker": {
          "color": "#E2E2E2",
          "symbol": "circle"
         },
         "mode": "markers",
         "name": "Finland",
         "orientation": "v",
         "showlegend": true,
         "type": "scatter",
         "x": [
          -0.00008143838479024446,
          -0.00006475673331329812,
          -0.0001849319089438639,
          -0.00026785536474471794,
          -0.0006402766053323905,
          -0.0013999704440706973,
          -0.0036921622393775166,
          -0.006227722498693078
         ],
         "xaxis": "x",
         "y": [
          1254118,
          6709209.599999994,
          -403230.8999999985,
          10564427.300000004,
          -8775991.399999999,
          -8771161,
          8920376.600000001,
          -419012.8999999985
         ],
         "yaxis": "y"
        },
        {
         "hovertemplate": "Countries=France<br>Change in Share of EV=%{x}<br>Change in Total Emmissions=%{y}<extra></extra>",
         "legendgroup": "France",
         "marker": {
          "color": "#1CBE4F",
          "symbol": "circle"
         },
         "mode": "markers",
         "name": "France",
         "orientation": "v",
         "showlegend": true,
         "type": "scatter",
         "x": [
          -0.00041920146899399047,
          -0.0005014840560737532,
          -0.000537135802744948,
          -0.0006224846024138753,
          -0.0008952033351032895,
          -0.002696577287962021,
          -0.004020358740036589,
          -0.0049467126257093375
         ],
         "xaxis": "x",
         "y": [
          8515722.5,
          7835386.099999964,
          14493368.200000048,
          -25338915.199999988,
          1691180.800000012,
          -52806568.80000007,
          21746105.600000083,
          -12243349.100000024
         ],
         "yaxis": "y"
        },
        {
         "hovertemplate": "Countries=Germany<br>Change in Share of EV=%{x}<br>Change in Total Emmissions=%{y}<extra></extra>",
         "legendgroup": "Germany",
         "marker": {
          "color": "#C4451C",
          "symbol": "circle"
         },
         "mode": "markers",
         "name": "Germany",
         "orientation": "v",
         "showlegend": true,
         "type": "scatter",
         "x": [
          -0.00015087335575292293,
          -0.00016694880335998974,
          -0.0004212074367667684,
          -0.0006080793923610717,
          -0.0010999672664621096,
          -0.003549008777079532,
          -0.006343441957915363,
          -0.008048936168397303
         ],
         "xaxis": "x",
         "y": [
          4816828.800000072,
          2737678,
          -12664074.699999928,
          -21887097.100000024,
          -55708711.899999976,
          -73389809.70000005,
          33156892.399999976,
          -7552038.199999928
         ],
         "yaxis": "y"
        },
        {
         "hovertemplate": "Countries=Greece<br>Change in Share of EV=%{x}<br>Change in Total Emmissions=%{y}<extra></extra>",
         "legendgroup": "Greece",
         "marker": {
          "color": "#DEA0FD",
          "symbol": "circle"
         },
         "mode": "markers",
         "name": "Greece",
         "orientation": "v",
         "showlegend": true,
         "type": "scatter",
         "x": [
          -0.000007641257939616786,
          -0.000005646767536560127,
          -0.000006173456993829873,
          -0.000012432683077823192,
          -0.00003809437738089283,
          -0.00012221992223249156,
          -0.00038426294152538176,
          -0.0005160138780037071
         ],
         "xaxis": "x",
         "y": [
          -7161427.399999991,
          -3888700.400000006,
          4175059.700000003,
          -3462898.700000003,
          -7649686.899999991,
          -12909946.600000007,
          4003901.700000003,
          1584099.599999994
         ],
         "yaxis": "y"
        },
        {
         "hovertemplate": "Countries=Hungary<br>Change in Share of EV=%{x}<br>Change in Total Emmissions=%{y}<extra></extra>",
         "legendgroup": "Hungary",
         "marker": {
          "color": "#FE00FA",
          "symbol": "circle"
         },
         "mode": "markers",
         "name": "Hungary",
         "orientation": "v",
         "showlegend": true,
         "type": "scatter",
         "x": [
          -0.0000506682755530008,
          -0.0001218013200625645,
          -0.0003461038613408185,
          -0.00047925710031737623,
          -0.0006759146694150786,
          -0.0010785541448998792,
          -0.0018737906612080746,
          -0.002605839418843736
         ],
         "xaxis": "x",
         "y": [
          2755782.8999999985,
          1745935.6000000015,
          1709201.3999999985,
          808913.1000000015,
          -1054340.1000000015,
          -3943305.6000000015,
          745239.1000000089,
          -3125363.100000009
         ],
         "yaxis": "y"
        },
        {
         "hovertemplate": "Countries=Ireland<br>Change in Share of EV=%{x}<br>Change in Total Emmissions=%{y}<extra></extra>",
         "legendgroup": "Ireland",
         "marker": {
          "color": "#325A9B",
          "symbol": "circle"
         },
         "mode": "markers",
         "name": "Ireland",
         "orientation": "v",
         "showlegend": true,
         "type": "scatter",
         "x": [
          -0.00026618460149818723,
          -0.00026530775774935567,
          -0.0004839963151712645,
          -0.0008189016528785675,
          -0.0017004886587066448,
          -0.0017375446637725167,
          -0.0037324661765484324,
          -0.006549745319782585
         ],
         "xaxis": "x",
         "y": [
          3359448.6999999955,
          1178184.099999994,
          2023748.000000015,
          -619395.1000000089,
          -2231836.700000003,
          -3513751.799999997,
          2220447.599999994,
          122613.40000000596
         ],
         "yaxis": "y"
        },
        {
         "hovertemplate": "Countries=Italy<br>Change in Share of EV=%{x}<br>Change in Total Emmissions=%{y}<extra></extra>",
         "legendgroup": "Italy",
         "marker": {
          "color": "#FEAF16",
          "symbol": "circle"
         },
         "mode": "markers",
         "name": "Italy",
         "orientation": "v",
         "showlegend": true,
         "type": "scatter",
         "x": [
          -0.0000302508737832774,
          -0.000028894853687067013,
          -0.000044629382729532985,
          -0.00011528346830347314,
          -0.0002636132402048519,
          -0.0007618397320863224,
          -0.001627834121595395,
          -0.0009686057592945829
         ],
         "xaxis": "x",
         "y": [
          11726327.399999976,
          -896138,
          17360569.800000012,
          -30884536,
          -799233.6000000238,
          -36941113.79999995,
          39033699.10000002,
          -1380736
         ],
         "yaxis": "y"
        },
        {
         "hovertemplate": "Countries=Latvia<br>Change in Share of EV=%{x}<br>Change in Total Emmissions=%{y}<extra></extra>",
         "legendgroup": "Latvia",
         "marker": {
          "color": "#F8A19F",
          "symbol": "circle"
         },
         "mode": "markers",
         "name": "Latvia",
         "orientation": "v",
         "showlegend": true,
         "type": "scatter",
         "x": [
          -0.000024927548593511872,
          -0.00005212594386394542,
          -0.00008962310592608436,
          -0.00017195583014328886,
          -0.00028045126197517867,
          -0.0007254230305699938,
          -0.0011455363050492107,
          -0.0022025696967127306
         ],
         "xaxis": "x",
         "y": [
          -1290038.4000000022,
          -1871467.499999998,
          -1262390.500000001,
          3027337.3000000017,
          -1620999.3000000026,
          1654213.2000000011,
          1806511,
          2316222.100000001
         ],
         "yaxis": "y"
        },
        {
         "hovertemplate": "Countries=Lithuania<br>Change in Share of EV=%{x}<br>Change in Total Emmissions=%{y}<extra></extra>",
         "legendgroup": "Lithuania",
         "marker": {
          "color": "#90AD1C",
          "symbol": "circle"
         },
         "mode": "markers",
         "name": "Lithuania",
         "orientation": "v",
         "showlegend": true,
         "type": "scatter",
         "x": [
          -0.00007778610956432619,
          -0.00013980721190354206,
          -0.00018050522694779136,
          -0.00021842222379053755,
          -0.00025623427905852036,
          -0.0006501857424883184,
          -0.001417492480068172,
          -0.0014283561648231746
         ],
         "xaxis": "x",
         "y": [
          1382693.5999999996,
          735066.5999999996,
          689841.5000000019,
          686762.6999999993,
          -72800,
          -573555,
          847148.2999999989,
          -1989442.5
         ],
         "yaxis": "y"
        },
        {
         "hovertemplate": "Countries=Luxembourg<br>Change in Share of EV=%{x}<br>Change in Total Emmissions=%{y}<extra></extra>",
         "legendgroup": "Luxembourg",
         "marker": {
          "color": "#F6222E",
          "symbol": "circle"
         },
         "mode": "markers",
         "name": "Luxembourg",
         "orientation": "v",
         "showlegend": true,
         "type": "scatter",
         "x": [
          -0.00011642067189110428,
          -0.00023031116711536015,
          -0.0006530553557140273,
          -0.0008177054851927767,
          -0.001930121332931023,
          -0.004159369856599149,
          -0.008786324890470265,
          -0.013179174506395053
         ],
         "xaxis": "x",
         "y": [
          -230479.80000000077,
          -196508.29999999888,
          511650.5999999996,
          522093.5,
          -7777.5999999996275,
          -1889372.8000000007,
          457041.4000000004,
          -1241734.5
         ],
         "yaxis": "y"
        },
        {
         "hovertemplate": "Countries=Malta<br>Change in Share of EV=%{x}<br>Change in Total Emmissions=%{y}<extra></extra>",
         "legendgroup": "Malta",
         "marker": {
          "color": "#1CFFCE",
          "symbol": "circle"
         },
         "mode": "markers",
         "name": "Malta",
         "orientation": "v",
         "showlegend": true,
         "type": "scatter",
         "x": [
          -0.0001667338660207296,
          -9.74755934302074e-7,
          -0.00015287056461310566,
          -0.0013613540913445243,
          -0.0011915366573166386,
          -0.0009925789644229521,
          -0.0015000880490342317,
          -0.0031424828971630125
         ],
         "xaxis": "x",
         "y": [
          -667165.9000000004,
          -297977,
          185538.5,
          80402.3999999999,
          94281.2000000002,
          -298071.6000000001,
          57200.5,
          278307.5
         ],
         "yaxis": "y"
        },
        {
         "hovertemplate": "Countries=Netherlands<br>Change in Share of EV=%{x}<br>Change in Total Emmissions=%{y}<extra></extra>",
         "legendgroup": "Netherlands",
         "marker": {
          "color": "#2ED9FF",
          "symbol": "circle"
         },
         "mode": "markers",
         "name": "Netherlands",
         "orientation": "v",
         "showlegend": true,
         "type": "scatter",
         "x": [
          -0.00037697623701948846,
          -0.00043676646005541553,
          -0.0009419507803551941,
          -0.002670846657201298,
          -0.007095097553093677,
          -0.007632972751145717,
          -0.007756688748111418,
          -0.009256445624396648
         ],
         "xaxis": "x",
         "y": [
          7624678.099999994,
          979925,
          -3844614.600000024,
          -5657594.199999958,
          -5720133,
          -21200049.700000014,
          2432624.5,
          -11137849
         ],
         "yaxis": "y"
        },
        {
         "hovertemplate": "Countries=Poland<br>Change in Share of EV=%{x}<br>Change in Total Emmissions=%{y}<extra></extra>",
         "legendgroup": "Poland",
         "marker": {
          "color": "#B10DA1",
          "symbol": "circle"
         },
         "mode": "markers",
         "name": "Poland",
         "orientation": "v",
         "showlegend": true,
         "type": "scatter",
         "x": [
          -0.000004510190154127791,
          -0.000006432611804885191,
          -0.000027915192468142003,
          -0.00010511739811980281,
          -0.00010134108574066936,
          -0.00021272940809458074,
          -0.0003861502264931316,
          -0.0005893360169092476
         ],
         "xaxis": "x",
         "y": [
          3689159.199999988,
          7240115.800000071,
          11445986.199999928,
          3833781.800000072,
          -3835256.200000048,
          -19121406.80000001,
          28933371.80000001,
          -31384487.99999994
         ],
         "yaxis": "y"
        },
        {
         "hovertemplate": "Countries=Portugal<br>Change in Share of EV=%{x}<br>Change in Total Emmissions=%{y}<extra></extra>",
         "legendgroup": "Portugal",
         "marker": {
          "color": "#C075A6",
          "symbol": "circle"
         },
         "mode": "markers",
         "name": "Portugal",
         "orientation": "v",
         "showlegend": true,
         "type": "scatter",
         "x": [
          -0.00015301110135457208,
          -0.00019531638288727837,
          -0.0004311112612762624,
          -0.000966660633448968,
          -0.0014378744303281676,
          -0.0015147864235390829,
          -0.0028471792793023365,
          -0.0039656562397488715
         ],
         "xaxis": "x",
         "y": [
          5948143.699999996,
          2937880.700000003,
          25697478.200000003,
          -27987563.40000001,
          -4148406.799999997,
          -9078081.700000005,
          -3018108.5,
          2218323.3999999985
         ],
         "yaxis": "y"
        },
        {
         "hovertemplate": "Countries=Romania<br>Change in Share of EV=%{x}<br>Change in Total Emmissions=%{y}<extra></extra>",
         "legendgroup": "Romania",
         "marker": {
          "color": "#FC1CBF",
          "symbol": "circle"
         },
         "mode": "markers",
         "name": "Romania",
         "orientation": "v",
         "showlegend": true,
         "type": "scatter",
         "x": [
          -0.00019165046188640567,
          -0.0004106370808498738,
          -0.0004983344430167236,
          0.0014873919495859145,
          -0.00023439141316494716,
          -0.00039236109964835286,
          -0.0008358552690508336,
          -0.0015057289928271933
         ],
         "xaxis": "x",
         "y": [
          -268324,
          -4337334,
          5508285.900000006,
          1555663.299999997,
          -2381830.900000006,
          -8039767.1999999955,
          5353535.399999999,
          -4365715.5
         ],
         "yaxis": "y"
        },
        {
         "hovertemplate": "Countries=Slovakia<br>Change in Share of EV=%{x}<br>Change in Total Emmissions=%{y}<extra></extra>",
         "legendgroup": "Slovakia",
         "marker": {
          "color": "#B00068",
          "symbol": "circle"
         },
         "mode": "markers",
         "name": "Slovakia",
         "orientation": "v",
         "showlegend": true,
         "type": "scatter",
         "x": [
          -0.00000936048734345718,
          -0.000025982175297034615,
          -0.00008570977590915962,
          -0.00016340715645435377,
          -0.00005696716269631974,
          -0.00036412673750696456,
          -0.00044015322955670566,
          -0.0005693625880285325
         ],
         "xaxis": "x",
         "y": [
          577234.8999999985,
          574985,
          1147978.3000000045,
          597973.299999997,
          -3219145.600000001,
          -4864392.899999999,
          4378318.799999997,
          -4505704.299999997
         ],
         "yaxis": "y"
        },
        {
         "hovertemplate": "Countries=Slovenia<br>Change in Share of EV=%{x}<br>Change in Total Emmissions=%{y}<extra></extra>",
         "legendgroup": "Slovenia",
         "marker": {
          "color": "#FBE426",
          "symbol": "circle"
         },
         "mode": "markers",
         "name": "Slovenia",
         "orientation": "v",
         "showlegend": true,
         "type": "scatter",
         "x": [
          -0.00014248924435933397,
          -0.00014979303997786353,
          -0.0002800485534234509,
          -0.0004473863199679906,
          -0.0005702686790418632,
          -0.001420427871548391,
          -0.0014159126970336722,
          -0.002054000329549721
         ],
         "xaxis": "x",
         "y": [
          221315,
          1043263,
          15363,
          -197823,
          -1956058.7999999989,
          -929801.8000000007,
          307956.0999999996,
          -434913.5
         ],
         "yaxis": "y"
        },
        {
         "hovertemplate": "Countries=Spain<br>Change in Share of EV=%{x}<br>Change in Total Emmissions=%{y}<extra></extra>",
         "legendgroup": "Spain",
         "marker": {
          "color": "#FA0087",
          "symbol": "circle"
         },
         "mode": "markers",
         "name": "Spain",
         "orientation": "v",
         "showlegend": true,
         "type": "scatter",
         "x": [
          -0.00010597175544146964,
          -0.000005166672709666642,
          -0.0003812912605768437,
          -0.000005935485281161057,
          -0.000387016379287064,
          -0.0006457801678007025,
          -0.0008541995398182456,
          -0.0010831846552495916
         ],
         "xaxis": "x",
         "y": [
          8844005.800000012,
          -9328223.800000012,
          9794085.300000012,
          -3704606.5,
          -17014742,
          -49655260.99999997,
          19365784.399999976,
          9953407.099999994
         ],
         "yaxis": "y"
        },
        {
         "hovertemplate": "Countries=Sweden<br>Change in Share of EV=%{x}<br>Change in Total Emmissions=%{y}<extra></extra>",
         "legendgroup": "Sweden",
         "marker": {
          "color": "#2E91E5",
          "symbol": "circle"
         },
         "mode": "markers",
         "name": "Sweden",
         "orientation": "v",
         "showlegend": true,
         "type": "scatter",
         "x": [
          -0.0005471764795631495,
          -0.0005631877680760677,
          -0.0006997332778813092,
          -0.0011456992131507748,
          -0.002786554824873666,
          -0.0050771340858976055,
          -0.010812301671384028,
          -0.017604751772330007
         ],
         "xaxis": "x",
         "y": [
          1959720.1,
          2001302,
          5069644.5,
          6197234.200000001,
          -3916165.200000001,
          -8145186.4,
          1058611.9,
          1081748.0999999996
         ],
         "yaxis": "y"
        },
        {
         "hovertemplate": "<b>OLS trendline</b><br>emmission_diff = 2.42842e+08 * share_ev_diff + -1.01753e+06<br>R<sup>2</sup>=0.003144<br><br>Change in Share of EV=%{x}<br>Change in Total Emmissions=%{y} <b>(trend)</b><extra></extra>",
         "legendgroup": "Overall Trendline",
         "line": {
          "color": "#E15F99"
         },
         "mode": "lines",
         "name": "Overall Trendline",
         "showlegend": true,
         "type": "scatter",
         "x": [
          -0.017604751772330007,
          -0.0163201647374428,
          -0.013179174506395053,
          -0.012208834785488065,
          -0.010812301671384028,
          -0.009256445624396648,
          -0.008786324890470265,
          -0.008048936168397303,
          -0.007756688748111418,
          -0.007632972751145717,
          -0.007095097553093677,
          -0.006549745319782585,
          -0.006491803111946082,
          -0.006343441957915363,
          -0.006244291238258093,
          -0.006227722498693078,
          -0.006169740036880533,
          -0.005872974227694394,
          -0.0050771340858976055,
          -0.0049467126257093375,
          -0.004159369856599149,
          -0.004020358740036589,
          -0.0039656562397488715,
          -0.0037324661765484324,
          -0.0036921622393775166,
          -0.003549008777079532,
          -0.0034507617216587017,
          -0.0031424828971630125,
          -0.0028833089812186907,
          -0.0028471792793023365,
          -0.002786554824873666,
          -0.002696577287962021,
          -0.002670846657201298,
          -0.002605839418843736,
          -0.0022060700166852687,
          -0.0022025696967127306,
          -0.002056781069522784,
          -0.002054000329549721,
          -0.001974791007254839,
          -0.001930121332931023,
          -0.0018737906612080746,
          -0.0017375446637725167,
          -0.0017004886587066448,
          -0.0016776825337325718,
          -0.001627834121595395,
          -0.0015147864235390829,
          -0.0015057289928271933,
          -0.0015000880490342317,
          -0.0014378744303281676,
          -0.0014283561648231746,
          -0.001420427871548391,
          -0.001417492480068172,
          -0.0014159126970336722,
          -0.0013999704440706973,
          -0.0013613540913445243,
          -0.0013209486838561268,
          -0.0012007066058753457,
          -0.0011915366573166386,
          -0.0011456992131507748,
          -0.0011455363050492107,
          -0.0011035564823920208,
          -0.0011026976095326324,
          -0.0010999672664621096,
          -0.0010831846552495916,
          -0.0010785541448998792,
          -0.0009925789644229521,
          -0.0009821501652937936,
          -0.0009686057592945829,
          -0.000966660633448968,
          -0.0009506288849772115,
          -0.0009419507803551941,
          -0.0009056117985446477,
          -0.0008952033351032895,
          -0.0008541995398182456,
          -0.0008358552690508336,
          -0.0008233858855515308,
          -0.0008189016528785675,
          -0.0008183788433486772,
          -0.0008177054851927767,
          -0.0007823693752844196,
          -0.0007654549740160332,
          -0.0007618397320863224,
          -0.0007254230305699938,
          -0.0006997332778813092,
          -0.0006759146694150786,
          -0.0006530553557140273,
          -0.0006501857424883184,
          -0.0006457801678007025,
          -0.0006402766053323905,
          -0.0006224846024138753,
          -0.0006080793923610717,
          -0.0005893360169092476,
          -0.0005702686790418632,
          -0.0005693625880285325,
          -0.0005631877680760677,
          -0.0005598889768960724,
          -0.0005471764795631495,
          -0.000537135802744948,
          -0.0005160138780037071,
          -0.0005159845444491218,
          -0.0005052172144331957,
          -0.0005014840560737532,
          -0.0004983344430167236,
          -0.0004839963151712645,
          -0.00047925710031737623,
          -0.00045391078441214816,
          -0.0004473863199679906,
          -0.00044015322955670566,
          -0.00043676646005541553,
          -0.0004311112612762624,
          -0.0004212074367667684,
          -0.00041920146899399047,
          -0.0004106370808498738,
          -0.000403414797276902,
          -0.0003946380974627628,
          -0.00039236109964835286,
          -0.000387016379287064,
          -0.0003861502264931316,
          -0.00038426294152538176,
          -0.0003812912605768437,
          -0.00037697623701948846,
          -0.00036412673750696456,
          -0.0003461038613408185,
          -0.00033922373996320143,
          -0.0003315605313916059,
          -0.0003232110361419682,
          -0.00031702979296233114,
          -0.00028045126197517867,
          -0.0002800485534234509,
          -0.00026785536474471794,
          -0.00026618460149818723,
          -0.00026530775774935567,
          -0.0002636132402048519,
          -0.00025623427905852036,
          -0.0002555437614403244,
          -0.00024305481852349153,
          -0.00023439141316494716,
          -0.00023031116711536015,
          -0.00021935202288680955,
          -0.00021842222379053755,
          -0.00021272940809458074,
          -0.00019531638288727837,
          -0.00019165046188640567,
          -0.00018508594833155367,
          -0.0001849319089438639,
          -0.00018050522694779136,
          -0.00017195583014328886,
          -0.00016694880335998974,
          -0.0001667338660207296,
          -0.00016340715645435377,
          -0.00016272552056151302,
          -0.00015301110135457208,
          -0.00015287056461310566,
          -0.00015087335575292293,
          -0.00014979303997786353,
          -0.00014724037257263234,
          -0.00014684136243614532,
          -0.00014365176860531292,
          -0.00014248924435933397,
          -0.00013980721190354206,
          -0.0001234088928809829,
          -0.00012221992223249156,
          -0.0001218013200625645,
          -0.00011741299742396016,
          -0.00011642067189110428,
          -0.00011528346830347314,
          -0.00010597175544146964,
          -0.00010511739811980281,
          -0.00010134108574066936,
          -0.00009805396905404606,
          -0.00009185588496674058,
          -0.00008962310592608436,
          -0.00008650929093112492,
          -0.00008570977590915962,
          -0.00008469140677647147,
          -0.00008223127892270643,
          -0.00008143838479024446,
          -0.00007778610956432619,
          -0.00007020376570721076,
          -0.00006475673331329812,
          -0.00005860634092047512,
          -0.00005696716269631974,
          -0.00005311040632660635,
          -0.00005212594386394542,
          -0.0000506682755530008,
          -0.000044629382729532985,
          -0.00004411791824154854,
          -0.000042004412939222746,
          -0.000041805687548635007,
          -0.00003929784691558691,
          -0.00003809437738089283,
          -0.0000315352489529408,
          -0.0000302508737832774,
          -0.000028894853687067013,
          -0.000028502801708629733,
          -0.000027915192468142003,
          -0.000025982175297034615,
          -0.000024927548593511872,
          -0.00001581242654014048,
          -0.000015311278422913688,
          -0.000012432683077823192,
          -0.000010519535918129819,
          -0.00000936048734345718,
          -0.000009099473081808362,
          -0.000007641257939616786,
          -0.000006432611804885191,
          -0.000006173456993829873,
          -0.000005935485281161057,
          -0.000005646767536560127,
          -0.000005166672709666642,
          -0.000004510190154127791,
          -9.74755934302074e-7,
          0.0000034056792271863756,
          0.000005405243453160402,
          0.00004366411288980743,
          0.0014873919495859145
         ],
         "xaxis": "x",
         "y": [
          -5292703.295845603,
          -4980751.84307701,
          -4217988.060556555,
          -3982348.9972660057,
          -3643212.3549423087,
          -3265385.4417202477,
          -3151220.467341654,
          -2972151.648446067,
          -2901181.753180029,
          -2871138.3353842436,
          -2740519.7436628495,
          -2608085.4150952026,
          -2594014.6239223774,
          -2557986.3313447777,
          -2533908.3901853818,
          -2529884.807323747,
          -2515804.24080214,
          -2443737.0917546707,
          -2250473.823745065,
          -2218802.0390601885,
          -2027602.2884941744,
          -1993844.576027084,
          -1980560.5213298276,
          -1923932.2221091648,
          -1914144.7406763746,
          -1879381.0934341843,
          -1855522.5997421197,
          -1780659.6091097503,
          -1717721.3438129537,
          -1708947.5412641116,
          -1694225.3884486835,
          -1672375.079677202,
          -1666126.6064881785,
          -1650340.1304492885,
          -1553259.4014765604,
          -1552409.377405841,
          -1517005.8019267875,
          -1516330.5219723664,
          -1497095.1860304356,
          -1486247.5210442808,
          -1472568.0782333487,
          -1439481.8523260008,
          -1430483.1046349858,
          -1424944.8237521271,
          -1412839.5446530234,
          -1385386.8359746204,
          -1383187.3130211812,
          -1381817.4559671944,
          -1366709.3876072704,
          -1364397.954694217,
          -1362472.6335303916,
          -1361759.797722595,
          -1361376.160336192,
          -1357504.714620845,
          -1348127.0492650585,
          -1338314.926595753,
          -1309115.1216068193,
          -1306888.2746147406,
          -1295757.0262754671,
          -1295717.4653756835,
          -1285523.0088622498,
          -1285314.4386144166,
          -1284651.397135502,
          -1280575.8772938626,
          -1279451.3957356475,
          -1258573.0264827816,
          -1256040.4779277835,
          -1252751.3297318325,
          -1252278.9718324624,
          -1248385.792864932,
          -1246278.3861493147,
          -1237453.7616901968,
          -1234926.1514906236,
          -1224968.7152400557,
          -1220513.959150775,
          -1217485.8713746301,
          -1216396.912153579,
          -1216269.952136125,
          -1216106.4326164178,
          -1207525.347394683,
          -1203417.8234160938,
          -1202539.8914882021,
          -1193696.3934343264,
          -1187457.8471506916,
          -1181673.6929344542,
          -1176122.4956043626,
          -1175425.6335075703,
          -1174355.7757347934,
          -1173019.2806116403,
          -1168698.6382515987,
          -1165200.4508331001,
          -1160648.7754361138,
          -1156018.4284167057,
          -1155798.391626459,
          -1154298.887114548,
          -1153497.8026624774,
          -1150410.6766806473,
          -1147972.3804538036,
          -1142843.0938197707,
          -1142835.9704060047,
          -1140221.2123945307,
          -1139314.6454263022,
          -1138549.7876610318,
          -1135067.8906078162,
          -1133917.0110500266,
          -1127761.8655797457,
          -1126177.4527633183,
          -1124420.955927738,
          -1123598.5066600535,
          -1122225.1878992838,
          -1119820.12513608,
          -1119332.99227242,
          -1117253.2006731953,
          -1115499.3281898932,
          -1113367.978438434,
          -1112815.028146344,
          -1111517.1065294624,
          -1111306.7684090792,
          -1110848.4566937273,
          -1110126.808285418,
          -1109078.940113865,
          -1105958.544273475,
          -1101581.8362339209,
          -1099911.0550406792,
          -1098050.1075284788,
          -1096022.5009107322,
          -1094521.4365706479,
          -1085638.63955364,
          -1085540.8450762383,
          -1082579.8289528377,
          -1082174.097766213,
          -1081961.1634348906,
          -1081549.6637113267,
          -1079757.743361046,
          -1079590.0568062947,
          -1076557.2191856096,
          -1074453.3820658785,
          -1073462.5276914735,
          -1070801.1891676132,
          -1070575.3950633698,
          -1069192.941342082,
          -1064964.3306189552,
          -1064074.0916932153,
          -1062479.9532778803,
          -1062442.5460727096,
          -1061367.5625627441,
          -1059291.411487707,
          -1058075.4959937143,
          -1058023.300219185,
          -1057215.43601537,
          -1057049.9063149635,
          -1054690.8390800413,
          -1054656.7108820467,
          -1054171.7050486577,
          -1053909.359200283,
          -1053289.4648031963,
          -1053192.5684556805,
          -1052418.0016865577,
          -1052135.6921835323,
          -1051484.3825421967,
          -1047502.1849151597,
          -1047213.4531196308,
          -1047111.7990070683,
          -1046046.1307532623,
          -1045805.1526153965,
          -1045528.9920271134,
          -1043267.718733692,
          -1043060.2450472547,
          -1042143.1984783688,
          -1041344.9490815095,
          -1039839.7950647662,
          -1039297.5829401474,
          -1038541.418441402,
          -1038347.2627588061,
          -1038099.9601457724,
          -1037502.5382217331,
          -1037309.9903679903,
          -1036423.0652070681,
          -1034581.75502926,
          -1033258.9877722265,
          -1031765.4152933429,
          -1031367.3542710185,
          -1030430.7725370979,
          -1030191.7038815045,
          -1029837.7210567488,
          -1028371.2253361532,
          -1028247.0203693171,
          -1027733.7728963248,
          -1027685.5140609074,
          -1027076.5054787367,
          -1026784.2527473026,
          -1025191.4220659818,
          -1024879.5220629496,
          -1024550.2236756018,
          -1024455.0170598468,
          -1024312.3209627727,
          -1023842.903555951,
          -1023586.7960884477,
          -1021373.2632646777,
          -1021251.5635440863,
          -1020552.5202130809,
          -1020087.9280759831,
          -1019806.4626113015,
          -1019743.0774331053,
          -1019388.9618148548,
          -1019095.4519884491,
          -1019032.5183626183,
          -1018974.7288789409,
          -1018904.6161365402,
          -1018788.0290352782,
          -1018628.6076170669,
          -1017770.0563386483,
          -1016706.303494136,
          -1016220.7256794327,
          -1006929.8722160908,
          -656332.377590627
         ],
         "yaxis": "y"
        }
       ],
       "layout": {
        "legend": {
         "orientation": "h",
         "title": {
          "text": "Countries"
         },
         "tracegroupgap": 0,
         "y": -0.5,
         "yanchor": "bottom"
        },
        "template": {
         "data": {
          "bar": [
           {
            "error_x": {
             "color": "#2a3f5f"
            },
            "error_y": {
             "color": "#2a3f5f"
            },
            "marker": {
             "line": {
              "color": "#E5ECF6",
              "width": 0.5
             },
             "pattern": {
              "fillmode": "overlay",
              "size": 10,
              "solidity": 0.2
             }
            },
            "type": "bar"
           }
          ],
          "barpolar": [
           {
            "marker": {
             "line": {
              "color": "#E5ECF6",
              "width": 0.5
             },
             "pattern": {
              "fillmode": "overlay",
              "size": 10,
              "solidity": 0.2
             }
            },
            "type": "barpolar"
           }
          ],
          "carpet": [
           {
            "aaxis": {
             "endlinecolor": "#2a3f5f",
             "gridcolor": "white",
             "linecolor": "white",
             "minorgridcolor": "white",
             "startlinecolor": "#2a3f5f"
            },
            "baxis": {
             "endlinecolor": "#2a3f5f",
             "gridcolor": "white",
             "linecolor": "white",
             "minorgridcolor": "white",
             "startlinecolor": "#2a3f5f"
            },
            "type": "carpet"
           }
          ],
          "choropleth": [
           {
            "colorbar": {
             "outlinewidth": 0,
             "ticks": ""
            },
            "type": "choropleth"
           }
          ],
          "contour": [
           {
            "colorbar": {
             "outlinewidth": 0,
             "ticks": ""
            },
            "colorscale": [
             [
              0,
              "#0d0887"
             ],
             [
              0.1111111111111111,
              "#46039f"
             ],
             [
              0.2222222222222222,
              "#7201a8"
             ],
             [
              0.3333333333333333,
              "#9c179e"
             ],
             [
              0.4444444444444444,
              "#bd3786"
             ],
             [
              0.5555555555555556,
              "#d8576b"
             ],
             [
              0.6666666666666666,
              "#ed7953"
             ],
             [
              0.7777777777777778,
              "#fb9f3a"
             ],
             [
              0.8888888888888888,
              "#fdca26"
             ],
             [
              1,
              "#f0f921"
             ]
            ],
            "type": "contour"
           }
          ],
          "contourcarpet": [
           {
            "colorbar": {
             "outlinewidth": 0,
             "ticks": ""
            },
            "type": "contourcarpet"
           }
          ],
          "heatmap": [
           {
            "colorbar": {
             "outlinewidth": 0,
             "ticks": ""
            },
            "colorscale": [
             [
              0,
              "#0d0887"
             ],
             [
              0.1111111111111111,
              "#46039f"
             ],
             [
              0.2222222222222222,
              "#7201a8"
             ],
             [
              0.3333333333333333,
              "#9c179e"
             ],
             [
              0.4444444444444444,
              "#bd3786"
             ],
             [
              0.5555555555555556,
              "#d8576b"
             ],
             [
              0.6666666666666666,
              "#ed7953"
             ],
             [
              0.7777777777777778,
              "#fb9f3a"
             ],
             [
              0.8888888888888888,
              "#fdca26"
             ],
             [
              1,
              "#f0f921"
             ]
            ],
            "type": "heatmap"
           }
          ],
          "heatmapgl": [
           {
            "colorbar": {
             "outlinewidth": 0,
             "ticks": ""
            },
            "colorscale": [
             [
              0,
              "#0d0887"
             ],
             [
              0.1111111111111111,
              "#46039f"
             ],
             [
              0.2222222222222222,
              "#7201a8"
             ],
             [
              0.3333333333333333,
              "#9c179e"
             ],
             [
              0.4444444444444444,
              "#bd3786"
             ],
             [
              0.5555555555555556,
              "#d8576b"
             ],
             [
              0.6666666666666666,
              "#ed7953"
             ],
             [
              0.7777777777777778,
              "#fb9f3a"
             ],
             [
              0.8888888888888888,
              "#fdca26"
             ],
             [
              1,
              "#f0f921"
             ]
            ],
            "type": "heatmapgl"
           }
          ],
          "histogram": [
           {
            "marker": {
             "pattern": {
              "fillmode": "overlay",
              "size": 10,
              "solidity": 0.2
             }
            },
            "type": "histogram"
           }
          ],
          "histogram2d": [
           {
            "colorbar": {
             "outlinewidth": 0,
             "ticks": ""
            },
            "colorscale": [
             [
              0,
              "#0d0887"
             ],
             [
              0.1111111111111111,
              "#46039f"
             ],
             [
              0.2222222222222222,
              "#7201a8"
             ],
             [
              0.3333333333333333,
              "#9c179e"
             ],
             [
              0.4444444444444444,
              "#bd3786"
             ],
             [
              0.5555555555555556,
              "#d8576b"
             ],
             [
              0.6666666666666666,
              "#ed7953"
             ],
             [
              0.7777777777777778,
              "#fb9f3a"
             ],
             [
              0.8888888888888888,
              "#fdca26"
             ],
             [
              1,
              "#f0f921"
             ]
            ],
            "type": "histogram2d"
           }
          ],
          "histogram2dcontour": [
           {
            "colorbar": {
             "outlinewidth": 0,
             "ticks": ""
            },
            "colorscale": [
             [
              0,
              "#0d0887"
             ],
             [
              0.1111111111111111,
              "#46039f"
             ],
             [
              0.2222222222222222,
              "#7201a8"
             ],
             [
              0.3333333333333333,
              "#9c179e"
             ],
             [
              0.4444444444444444,
              "#bd3786"
             ],
             [
              0.5555555555555556,
              "#d8576b"
             ],
             [
              0.6666666666666666,
              "#ed7953"
             ],
             [
              0.7777777777777778,
              "#fb9f3a"
             ],
             [
              0.8888888888888888,
              "#fdca26"
             ],
             [
              1,
              "#f0f921"
             ]
            ],
            "type": "histogram2dcontour"
           }
          ],
          "mesh3d": [
           {
            "colorbar": {
             "outlinewidth": 0,
             "ticks": ""
            },
            "type": "mesh3d"
           }
          ],
          "parcoords": [
           {
            "line": {
             "colorbar": {
              "outlinewidth": 0,
              "ticks": ""
             }
            },
            "type": "parcoords"
           }
          ],
          "pie": [
           {
            "automargin": true,
            "type": "pie"
           }
          ],
          "scatter": [
           {
            "fillpattern": {
             "fillmode": "overlay",
             "size": 10,
             "solidity": 0.2
            },
            "type": "scatter"
           }
          ],
          "scatter3d": [
           {
            "line": {
             "colorbar": {
              "outlinewidth": 0,
              "ticks": ""
             }
            },
            "marker": {
             "colorbar": {
              "outlinewidth": 0,
              "ticks": ""
             }
            },
            "type": "scatter3d"
           }
          ],
          "scattercarpet": [
           {
            "marker": {
             "colorbar": {
              "outlinewidth": 0,
              "ticks": ""
             }
            },
            "type": "scattercarpet"
           }
          ],
          "scattergeo": [
           {
            "marker": {
             "colorbar": {
              "outlinewidth": 0,
              "ticks": ""
             }
            },
            "type": "scattergeo"
           }
          ],
          "scattergl": [
           {
            "marker": {
             "colorbar": {
              "outlinewidth": 0,
              "ticks": ""
             }
            },
            "type": "scattergl"
           }
          ],
          "scattermapbox": [
           {
            "marker": {
             "colorbar": {
              "outlinewidth": 0,
              "ticks": ""
             }
            },
            "type": "scattermapbox"
           }
          ],
          "scatterpolar": [
           {
            "marker": {
             "colorbar": {
              "outlinewidth": 0,
              "ticks": ""
             }
            },
            "type": "scatterpolar"
           }
          ],
          "scatterpolargl": [
           {
            "marker": {
             "colorbar": {
              "outlinewidth": 0,
              "ticks": ""
             }
            },
            "type": "scatterpolargl"
           }
          ],
          "scatterternary": [
           {
            "marker": {
             "colorbar": {
              "outlinewidth": 0,
              "ticks": ""
             }
            },
            "type": "scatterternary"
           }
          ],
          "surface": [
           {
            "colorbar": {
             "outlinewidth": 0,
             "ticks": ""
            },
            "colorscale": [
             [
              0,
              "#0d0887"
             ],
             [
              0.1111111111111111,
              "#46039f"
             ],
             [
              0.2222222222222222,
              "#7201a8"
             ],
             [
              0.3333333333333333,
              "#9c179e"
             ],
             [
              0.4444444444444444,
              "#bd3786"
             ],
             [
              0.5555555555555556,
              "#d8576b"
             ],
             [
              0.6666666666666666,
              "#ed7953"
             ],
             [
              0.7777777777777778,
              "#fb9f3a"
             ],
             [
              0.8888888888888888,
              "#fdca26"
             ],
             [
              1,
              "#f0f921"
             ]
            ],
            "type": "surface"
           }
          ],
          "table": [
           {
            "cells": {
             "fill": {
              "color": "#EBF0F8"
             },
             "line": {
              "color": "white"
             }
            },
            "header": {
             "fill": {
              "color": "#C8D4E3"
             },
             "line": {
              "color": "white"
             }
            },
            "type": "table"
           }
          ]
         },
         "layout": {
          "annotationdefaults": {
           "arrowcolor": "#2a3f5f",
           "arrowhead": 0,
           "arrowwidth": 1
          },
          "autotypenumbers": "strict",
          "coloraxis": {
           "colorbar": {
            "outlinewidth": 0,
            "ticks": ""
           }
          },
          "colorscale": {
           "diverging": [
            [
             0,
             "#8e0152"
            ],
            [
             0.1,
             "#c51b7d"
            ],
            [
             0.2,
             "#de77ae"
            ],
            [
             0.3,
             "#f1b6da"
            ],
            [
             0.4,
             "#fde0ef"
            ],
            [
             0.5,
             "#f7f7f7"
            ],
            [
             0.6,
             "#e6f5d0"
            ],
            [
             0.7,
             "#b8e186"
            ],
            [
             0.8,
             "#7fbc41"
            ],
            [
             0.9,
             "#4d9221"
            ],
            [
             1,
             "#276419"
            ]
           ],
           "sequential": [
            [
             0,
             "#0d0887"
            ],
            [
             0.1111111111111111,
             "#46039f"
            ],
            [
             0.2222222222222222,
             "#7201a8"
            ],
            [
             0.3333333333333333,
             "#9c179e"
            ],
            [
             0.4444444444444444,
             "#bd3786"
            ],
            [
             0.5555555555555556,
             "#d8576b"
            ],
            [
             0.6666666666666666,
             "#ed7953"
            ],
            [
             0.7777777777777778,
             "#fb9f3a"
            ],
            [
             0.8888888888888888,
             "#fdca26"
            ],
            [
             1,
             "#f0f921"
            ]
           ],
           "sequentialminus": [
            [
             0,
             "#0d0887"
            ],
            [
             0.1111111111111111,
             "#46039f"
            ],
            [
             0.2222222222222222,
             "#7201a8"
            ],
            [
             0.3333333333333333,
             "#9c179e"
            ],
            [
             0.4444444444444444,
             "#bd3786"
            ],
            [
             0.5555555555555556,
             "#d8576b"
            ],
            [
             0.6666666666666666,
             "#ed7953"
            ],
            [
             0.7777777777777778,
             "#fb9f3a"
            ],
            [
             0.8888888888888888,
             "#fdca26"
            ],
            [
             1,
             "#f0f921"
            ]
           ]
          },
          "colorway": [
           "#636efa",
           "#EF553B",
           "#00cc96",
           "#ab63fa",
           "#FFA15A",
           "#19d3f3",
           "#FF6692",
           "#B6E880",
           "#FF97FF",
           "#FECB52"
          ],
          "font": {
           "color": "#2a3f5f"
          },
          "geo": {
           "bgcolor": "white",
           "lakecolor": "white",
           "landcolor": "#E5ECF6",
           "showlakes": true,
           "showland": true,
           "subunitcolor": "white"
          },
          "hoverlabel": {
           "align": "left"
          },
          "hovermode": "closest",
          "mapbox": {
           "style": "light"
          },
          "paper_bgcolor": "white",
          "plot_bgcolor": "#E5ECF6",
          "polar": {
           "angularaxis": {
            "gridcolor": "white",
            "linecolor": "white",
            "ticks": ""
           },
           "bgcolor": "#E5ECF6",
           "radialaxis": {
            "gridcolor": "white",
            "linecolor": "white",
            "ticks": ""
           }
          },
          "scene": {
           "xaxis": {
            "backgroundcolor": "#E5ECF6",
            "gridcolor": "white",
            "gridwidth": 2,
            "linecolor": "white",
            "showbackground": true,
            "ticks": "",
            "zerolinecolor": "white"
           },
           "yaxis": {
            "backgroundcolor": "#E5ECF6",
            "gridcolor": "white",
            "gridwidth": 2,
            "linecolor": "white",
            "showbackground": true,
            "ticks": "",
            "zerolinecolor": "white"
           },
           "zaxis": {
            "backgroundcolor": "#E5ECF6",
            "gridcolor": "white",
            "gridwidth": 2,
            "linecolor": "white",
            "showbackground": true,
            "ticks": "",
            "zerolinecolor": "white"
           }
          },
          "shapedefaults": {
           "line": {
            "color": "#2a3f5f"
           }
          },
          "ternary": {
           "aaxis": {
            "gridcolor": "white",
            "linecolor": "white",
            "ticks": ""
           },
           "baxis": {
            "gridcolor": "white",
            "linecolor": "white",
            "ticks": ""
           },
           "bgcolor": "#E5ECF6",
           "caxis": {
            "gridcolor": "white",
            "linecolor": "white",
            "ticks": ""
           }
          },
          "title": {
           "x": 0.05
          },
          "xaxis": {
           "automargin": true,
           "gridcolor": "white",
           "linecolor": "white",
           "ticks": "",
           "title": {
            "standoff": 15
           },
           "zerolinecolor": "white",
           "zerolinewidth": 2
          },
          "yaxis": {
           "automargin": true,
           "gridcolor": "white",
           "linecolor": "white",
           "ticks": "",
           "title": {
            "standoff": 15
           },
           "zerolinecolor": "white",
           "zerolinewidth": 2
          }
         }
        },
        "title": {
         "text": "Scatter Plot of change in Share Emission Vehicles vs change in Emission"
        },
        "xaxis": {
         "anchor": "y",
         "domain": [
          0,
          1
         ],
         "title": {
          "text": "Change in Share of EV"
         }
        },
        "yaxis": {
         "anchor": "x",
         "domain": [
          0,
          1
         ],
         "title": {
          "text": "Change in Total Emmissions"
         }
        }
       }
      }
     },
     "metadata": {},
     "output_type": "display_data"
    }
   ],
   "source": [
    "colors = pc.qualitative.Alphabet + pc.qualitative.Dark24 + pc.qualitative.Light24\n",
    "\n",
    "fig = px.scatter(\n",
    "    df_cleaned,\n",
    "    x='share_ev_diff',\n",
    "    y='emmission_diff',\n",
    "    color='geo',\n",
    "    #symbol='time_period',\n",
    "    labels={'share_ev_diff': 'Change in Share of EV', 'emmission_diff': 'Change in Total Emmissions', 'geo':'Countries'},\n",
    "    trendline='ols',\n",
    "    title=\"Scatter Plot of change in Share Emission Vehicles vs change in Emission\",\n",
    "    color_discrete_sequence=colors,\n",
    "    trendline_scope='overall'\n",
    ")\n",
    "\n",
    "fig.update_layout(\n",
    "    legend=dict(\n",
    "        orientation=\"h\",\n",
    "        yanchor=\"bottom\",\n",
    "        y=-0.5\n",
    "    )\n",
    ")\n",
    "\n",
    "fig.show()"
   ]
  },
  {
   "cell_type": "code",
   "execution_count": null,
   "metadata": {},
   "outputs": [],
   "source": []
  },
  {
   "cell_type": "code",
   "execution_count": null,
   "metadata": {},
   "outputs": [],
   "source": []
  }
 ],
 "metadata": {
  "kernelspec": {
   "display_name": "lewagon",
   "language": "python",
   "name": "python3"
  },
  "language_info": {
   "codemirror_mode": {
    "name": "ipython",
    "version": 3
   },
   "file_extension": ".py",
   "mimetype": "text/x-python",
   "name": "python",
   "nbconvert_exporter": "python",
   "pygments_lexer": "ipython3",
   "version": "3.10.6"
  }
 },
 "nbformat": 4,
 "nbformat_minor": 2
}
