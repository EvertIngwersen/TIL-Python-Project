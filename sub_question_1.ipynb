{
 "cells": [
  {
   "cell_type": "code",
   "execution_count": 130,
   "metadata": {},
   "outputs": [],
   "source": [
    "import pandas as pd\n",
    "import plotly.graph_objects as go\n",
    "import plotly.express as px\n",
    "import numpy as np\n",
    "import plotly.colors as pc"
   ]
  },
  {
   "cell_type": "code",
   "execution_count": null,
   "metadata": {},
   "outputs": [],
   "source": [
    "# Load dataset\n",
    "joined_df = pd.read_csv('../data/merged_dataset.csv')"
   ]
  },
  {
   "cell_type": "code",
   "execution_count": 131,
   "metadata": {},
   "outputs": [
    {
     "data": {
      "text/html": [
       "<div>\n",
       "<style scoped>\n",
       "    .dataframe tbody tr th:only-of-type {\n",
       "        vertical-align: middle;\n",
       "    }\n",
       "\n",
       "    .dataframe tbody tr th {\n",
       "        vertical-align: top;\n",
       "    }\n",
       "\n",
       "    .dataframe thead th {\n",
       "        text-align: right;\n",
       "    }\n",
       "</style>\n",
       "<table border=\"1\" class=\"dataframe\">\n",
       "  <thead>\n",
       "    <tr style=\"text-align: right;\">\n",
       "      <th></th>\n",
       "      <th>Unnamed: 0</th>\n",
       "      <th>geo</th>\n",
       "      <th>time_period</th>\n",
       "      <th>amount_passenger_cars</th>\n",
       "      <th>amount_zev</th>\n",
       "      <th>amount_ev</th>\n",
       "      <th>share_zev</th>\n",
       "      <th>emission_per_capita</th>\n",
       "      <th>zev_per_capita</th>\n",
       "      <th>ev_per_capita</th>\n",
       "      <th>total_emissions</th>\n",
       "      <th>zev_diff</th>\n",
       "      <th>ev_diff</th>\n",
       "      <th>emmission_diff</th>\n",
       "      <th>all_cars_diff</th>\n",
       "      <th>zev_norm</th>\n",
       "      <th>ev_norm</th>\n",
       "      <th>emmission_norm</th>\n",
       "      <th>all_cars_norm</th>\n",
       "      <th>share_zev_diff</th>\n",
       "    </tr>\n",
       "  </thead>\n",
       "  <tbody>\n",
       "    <tr>\n",
       "      <th>0</th>\n",
       "      <td>0</td>\n",
       "      <td>Austria</td>\n",
       "      <td>2014</td>\n",
       "      <td>4694921</td>\n",
       "      <td>3389</td>\n",
       "      <td>4691532</td>\n",
       "      <td>0.000722</td>\n",
       "      <td>8.4</td>\n",
       "      <td>0.000398</td>\n",
       "      <td>0.551440</td>\n",
       "      <td>71465402.4</td>\n",
       "      <td>NaN</td>\n",
       "      <td>NaN</td>\n",
       "      <td>NaN</td>\n",
       "      <td>NaN</td>\n",
       "      <td>NaN</td>\n",
       "      <td>NaN</td>\n",
       "      <td>NaN</td>\n",
       "      <td>NaN</td>\n",
       "      <td>NaN</td>\n",
       "    </tr>\n",
       "    <tr>\n",
       "      <th>1</th>\n",
       "      <td>1</td>\n",
       "      <td>Austria</td>\n",
       "      <td>2015</td>\n",
       "      <td>4748048</td>\n",
       "      <td>5038</td>\n",
       "      <td>4743010</td>\n",
       "      <td>0.001061</td>\n",
       "      <td>8.7</td>\n",
       "      <td>0.000587</td>\n",
       "      <td>0.552481</td>\n",
       "      <td>74688856.2</td>\n",
       "      <td>1649.0</td>\n",
       "      <td>51478.0</td>\n",
       "      <td>3223453.8</td>\n",
       "      <td>53127.0</td>\n",
       "      <td>0.486574</td>\n",
       "      <td>0.010973</td>\n",
       "      <td>0.045105</td>\n",
       "      <td>0.011316</td>\n",
       "      <td>0.000339</td>\n",
       "    </tr>\n",
       "    <tr>\n",
       "      <th>2</th>\n",
       "      <td>2</td>\n",
       "      <td>Austria</td>\n",
       "      <td>2016</td>\n",
       "      <td>4821557</td>\n",
       "      <td>9086</td>\n",
       "      <td>4812471</td>\n",
       "      <td>0.001884</td>\n",
       "      <td>8.6</td>\n",
       "      <td>0.001044</td>\n",
       "      <td>0.553128</td>\n",
       "      <td>74824050.6</td>\n",
       "      <td>4048.0</td>\n",
       "      <td>69461.0</td>\n",
       "      <td>135194.4</td>\n",
       "      <td>73509.0</td>\n",
       "      <td>0.803493</td>\n",
       "      <td>0.014645</td>\n",
       "      <td>0.001810</td>\n",
       "      <td>0.015482</td>\n",
       "      <td>0.000823</td>\n",
       "    </tr>\n",
       "    <tr>\n",
       "      <th>3</th>\n",
       "      <td>3</td>\n",
       "      <td>Austria</td>\n",
       "      <td>2017</td>\n",
       "      <td>4898578</td>\n",
       "      <td>14637</td>\n",
       "      <td>4883941</td>\n",
       "      <td>0.002988</td>\n",
       "      <td>9.3</td>\n",
       "      <td>0.001668</td>\n",
       "      <td>0.556710</td>\n",
       "      <td>81587644.5</td>\n",
       "      <td>5551.0</td>\n",
       "      <td>71470.0</td>\n",
       "      <td>6763593.9</td>\n",
       "      <td>77021.0</td>\n",
       "      <td>0.610940</td>\n",
       "      <td>0.014851</td>\n",
       "      <td>0.090393</td>\n",
       "      <td>0.015974</td>\n",
       "      <td>0.001104</td>\n",
       "    </tr>\n",
       "    <tr>\n",
       "      <th>4</th>\n",
       "      <td>4</td>\n",
       "      <td>Austria</td>\n",
       "      <td>2018</td>\n",
       "      <td>4978852</td>\n",
       "      <td>20855</td>\n",
       "      <td>4957997</td>\n",
       "      <td>0.004189</td>\n",
       "      <td>9.8</td>\n",
       "      <td>0.002364</td>\n",
       "      <td>0.561987</td>\n",
       "      <td>86458216.6</td>\n",
       "      <td>6218.0</td>\n",
       "      <td>74056.0</td>\n",
       "      <td>4870572.1</td>\n",
       "      <td>80274.0</td>\n",
       "      <td>0.424814</td>\n",
       "      <td>0.015163</td>\n",
       "      <td>0.059697</td>\n",
       "      <td>0.016387</td>\n",
       "      <td>0.001201</td>\n",
       "    </tr>\n",
       "    <tr>\n",
       "      <th>...</th>\n",
       "      <td>...</td>\n",
       "      <td>...</td>\n",
       "      <td>...</td>\n",
       "      <td>...</td>\n",
       "      <td>...</td>\n",
       "      <td>...</td>\n",
       "      <td>...</td>\n",
       "      <td>...</td>\n",
       "      <td>...</td>\n",
       "      <td>...</td>\n",
       "      <td>...</td>\n",
       "      <td>...</td>\n",
       "      <td>...</td>\n",
       "      <td>...</td>\n",
       "      <td>...</td>\n",
       "      <td>...</td>\n",
       "      <td>...</td>\n",
       "      <td>...</td>\n",
       "      <td>...</td>\n",
       "      <td>...</td>\n",
       "    </tr>\n",
       "    <tr>\n",
       "      <th>275</th>\n",
       "      <td>255</td>\n",
       "      <td>Sweden</td>\n",
       "      <td>2019</td>\n",
       "      <td>4887116</td>\n",
       "      <td>30382</td>\n",
       "      <td>4856734</td>\n",
       "      <td>0.006217</td>\n",
       "      <td>1.2</td>\n",
       "      <td>0.002970</td>\n",
       "      <td>0.474745</td>\n",
       "      <td>12276222.0</td>\n",
       "      <td>13677.0</td>\n",
       "      <td>3460.0</td>\n",
       "      <td>-3916165.2</td>\n",
       "      <td>17137.0</td>\n",
       "      <td>0.818737</td>\n",
       "      <td>0.000713</td>\n",
       "      <td>-0.241852</td>\n",
       "      <td>0.003519</td>\n",
       "      <td>0.002787</td>\n",
       "    </tr>\n",
       "    <tr>\n",
       "      <th>276</th>\n",
       "      <td>256</td>\n",
       "      <td>Sweden</td>\n",
       "      <td>2020</td>\n",
       "      <td>4943293</td>\n",
       "      <td>55829</td>\n",
       "      <td>4887464</td>\n",
       "      <td>0.011294</td>\n",
       "      <td>0.4</td>\n",
       "      <td>0.005406</td>\n",
       "      <td>0.473243</td>\n",
       "      <td>4131035.6</td>\n",
       "      <td>25447.0</td>\n",
       "      <td>30730.0</td>\n",
       "      <td>-8145186.4</td>\n",
       "      <td>56177.0</td>\n",
       "      <td>0.837568</td>\n",
       "      <td>0.006327</td>\n",
       "      <td>-0.663493</td>\n",
       "      <td>0.011495</td>\n",
       "      <td>0.005077</td>\n",
       "    </tr>\n",
       "    <tr>\n",
       "      <th>277</th>\n",
       "      <td>257</td>\n",
       "      <td>Sweden</td>\n",
       "      <td>2021</td>\n",
       "      <td>4985979</td>\n",
       "      <td>110221</td>\n",
       "      <td>4875758</td>\n",
       "      <td>0.022106</td>\n",
       "      <td>0.5</td>\n",
       "      <td>0.010619</td>\n",
       "      <td>0.469758</td>\n",
       "      <td>5189647.5</td>\n",
       "      <td>54392.0</td>\n",
       "      <td>-11706.0</td>\n",
       "      <td>1058611.9</td>\n",
       "      <td>42686.0</td>\n",
       "      <td>0.974261</td>\n",
       "      <td>-0.002395</td>\n",
       "      <td>0.256258</td>\n",
       "      <td>0.008635</td>\n",
       "      <td>0.010812</td>\n",
       "    </tr>\n",
       "    <tr>\n",
       "      <th>278</th>\n",
       "      <td>258</td>\n",
       "      <td>Sweden</td>\n",
       "      <td>2022</td>\n",
       "      <td>4979761</td>\n",
       "      <td>197751</td>\n",
       "      <td>4782010</td>\n",
       "      <td>0.039711</td>\n",
       "      <td>0.6</td>\n",
       "      <td>0.018919</td>\n",
       "      <td>0.457507</td>\n",
       "      <td>6271395.6</td>\n",
       "      <td>87530.0</td>\n",
       "      <td>-93748.0</td>\n",
       "      <td>1081748.1</td>\n",
       "      <td>-6218.0</td>\n",
       "      <td>0.794132</td>\n",
       "      <td>-0.019227</td>\n",
       "      <td>0.208443</td>\n",
       "      <td>-0.001247</td>\n",
       "      <td>0.017605</td>\n",
       "    </tr>\n",
       "    <tr>\n",
       "      <th>279</th>\n",
       "      <td>259</td>\n",
       "      <td>Sweden</td>\n",
       "      <td>2023</td>\n",
       "      <td>4976366</td>\n",
       "      <td>291716</td>\n",
       "      <td>4684650</td>\n",
       "      <td>0.058620</td>\n",
       "      <td>NaN</td>\n",
       "      <td>0.027726</td>\n",
       "      <td>0.445243</td>\n",
       "      <td>NaN</td>\n",
       "      <td>93965.0</td>\n",
       "      <td>-97360.0</td>\n",
       "      <td>NaN</td>\n",
       "      <td>-3395.0</td>\n",
       "      <td>0.475168</td>\n",
       "      <td>-0.020360</td>\n",
       "      <td>NaN</td>\n",
       "      <td>-0.000682</td>\n",
       "      <td>0.018909</td>\n",
       "    </tr>\n",
       "  </tbody>\n",
       "</table>\n",
       "<p>270 rows × 20 columns</p>\n",
       "</div>"
      ],
      "text/plain": [
       "     Unnamed: 0      geo  time_period  amount_passenger_cars  amount_zev  \\\n",
       "0             0  Austria         2014                4694921        3389   \n",
       "1             1  Austria         2015                4748048        5038   \n",
       "2             2  Austria         2016                4821557        9086   \n",
       "3             3  Austria         2017                4898578       14637   \n",
       "4             4  Austria         2018                4978852       20855   \n",
       "..          ...      ...          ...                    ...         ...   \n",
       "275         255   Sweden         2019                4887116       30382   \n",
       "276         256   Sweden         2020                4943293       55829   \n",
       "277         257   Sweden         2021                4985979      110221   \n",
       "278         258   Sweden         2022                4979761      197751   \n",
       "279         259   Sweden         2023                4976366      291716   \n",
       "\n",
       "     amount_ev  share_zev  emission_per_capita  zev_per_capita  ev_per_capita  \\\n",
       "0      4691532   0.000722                  8.4        0.000398       0.551440   \n",
       "1      4743010   0.001061                  8.7        0.000587       0.552481   \n",
       "2      4812471   0.001884                  8.6        0.001044       0.553128   \n",
       "3      4883941   0.002988                  9.3        0.001668       0.556710   \n",
       "4      4957997   0.004189                  9.8        0.002364       0.561987   \n",
       "..         ...        ...                  ...             ...            ...   \n",
       "275    4856734   0.006217                  1.2        0.002970       0.474745   \n",
       "276    4887464   0.011294                  0.4        0.005406       0.473243   \n",
       "277    4875758   0.022106                  0.5        0.010619       0.469758   \n",
       "278    4782010   0.039711                  0.6        0.018919       0.457507   \n",
       "279    4684650   0.058620                  NaN        0.027726       0.445243   \n",
       "\n",
       "     total_emissions  zev_diff  ev_diff  emmission_diff  all_cars_diff  \\\n",
       "0         71465402.4       NaN      NaN             NaN            NaN   \n",
       "1         74688856.2    1649.0  51478.0       3223453.8        53127.0   \n",
       "2         74824050.6    4048.0  69461.0        135194.4        73509.0   \n",
       "3         81587644.5    5551.0  71470.0       6763593.9        77021.0   \n",
       "4         86458216.6    6218.0  74056.0       4870572.1        80274.0   \n",
       "..               ...       ...      ...             ...            ...   \n",
       "275       12276222.0   13677.0   3460.0      -3916165.2        17137.0   \n",
       "276        4131035.6   25447.0  30730.0      -8145186.4        56177.0   \n",
       "277        5189647.5   54392.0 -11706.0       1058611.9        42686.0   \n",
       "278        6271395.6   87530.0 -93748.0       1081748.1        -6218.0   \n",
       "279              NaN   93965.0 -97360.0             NaN        -3395.0   \n",
       "\n",
       "     zev_norm   ev_norm  emmission_norm  all_cars_norm  share_zev_diff  \n",
       "0         NaN       NaN             NaN            NaN             NaN  \n",
       "1    0.486574  0.010973        0.045105       0.011316        0.000339  \n",
       "2    0.803493  0.014645        0.001810       0.015482        0.000823  \n",
       "3    0.610940  0.014851        0.090393       0.015974        0.001104  \n",
       "4    0.424814  0.015163        0.059697       0.016387        0.001201  \n",
       "..        ...       ...             ...            ...             ...  \n",
       "275  0.818737  0.000713       -0.241852       0.003519        0.002787  \n",
       "276  0.837568  0.006327       -0.663493       0.011495        0.005077  \n",
       "277  0.974261 -0.002395        0.256258       0.008635        0.010812  \n",
       "278  0.794132 -0.019227        0.208443      -0.001247        0.017605  \n",
       "279  0.475168 -0.020360             NaN      -0.000682        0.018909  \n",
       "\n",
       "[270 rows x 20 columns]"
      ]
     },
     "execution_count": 131,
     "metadata": {},
     "output_type": "execute_result"
    }
   ],
   "source": [
    "# Exclude European Union\n",
    "point_to_exclude = joined_df[joined_df['geo'] == 'European Union'].index\n",
    "joined_df = joined_df.drop(index=point_to_exclude)\n",
    "joined_df"
   ]
  },
  {
   "cell_type": "code",
   "execution_count": 132,
   "metadata": {},
   "outputs": [
    {
     "data": {
      "text/plain": [
       "Index(['Unnamed: 0', 'geo', 'time_period', 'amount_passenger_cars',\n",
       "       'amount_zev', 'amount_ev', 'share_zev', 'emission_per_capita',\n",
       "       'zev_per_capita', 'ev_per_capita', 'total_emissions', 'zev_diff',\n",
       "       'ev_diff', 'emmission_diff', 'all_cars_diff', 'zev_norm', 'ev_norm',\n",
       "       'emmission_norm', 'all_cars_norm', 'share_zev_diff'],\n",
       "      dtype='object')"
      ]
     },
     "execution_count": 132,
     "metadata": {},
     "output_type": "execute_result"
    }
   ],
   "source": [
    "joined_df.columns"
   ]
  },
  {
   "cell_type": "code",
   "execution_count": 133,
   "metadata": {},
   "outputs": [],
   "source": [
    "joined_df['share_zev_diff'] = joined_df.groupby('geo')['share_zev'].transform(lambda x: x - x.shift(1))"
   ]
  },
  {
   "cell_type": "code",
   "execution_count": 134,
   "metadata": {},
   "outputs": [],
   "source": [
    "# Group databases by country\n",
    "groups = joined_df.groupby('geo')"
   ]
  },
  {
   "cell_type": "code",
   "execution_count": 135,
   "metadata": {},
   "outputs": [],
   "source": [
    "df_cleaned = joined_df[['share_zev_diff', 'ev_diff', 'emmission_diff', 'geo', 'time_period', 'all_cars_diff', 'zev_diff', 'ev_norm', 'zev_norm', 'emmission_norm', 'all_cars_norm']].dropna()\n",
    "\n",
    "# Convert to numeric in case they are not\n",
    "df_cleaned['ev_diff'] = pd.to_numeric(df_cleaned['ev_diff'], errors='coerce')\n",
    "df_cleaned['emmission_diff'] = pd.to_numeric(df_cleaned['emmission_diff'], errors='coerce')\n",
    "df_cleaned['all_cars_diff'] = pd.to_numeric(df_cleaned['all_cars_diff'], errors='coerce')\n",
    "\n",
    "# Drop any remaining NaN values after conversion\n",
    "df_cleaned = df_cleaned.dropna()\n"
   ]
  },
  {
   "cell_type": "code",
   "execution_count": 136,
   "metadata": {},
   "outputs": [
    {
     "data": {
      "text/html": [
       "<div>\n",
       "<style scoped>\n",
       "    .dataframe tbody tr th:only-of-type {\n",
       "        vertical-align: middle;\n",
       "    }\n",
       "\n",
       "    .dataframe tbody tr th {\n",
       "        vertical-align: top;\n",
       "    }\n",
       "\n",
       "    .dataframe thead th {\n",
       "        text-align: right;\n",
       "    }\n",
       "</style>\n",
       "<table border=\"1\" class=\"dataframe\">\n",
       "  <thead>\n",
       "    <tr style=\"text-align: right;\">\n",
       "      <th></th>\n",
       "      <th>share_zev_diff</th>\n",
       "      <th>ev_diff</th>\n",
       "      <th>emmission_diff</th>\n",
       "      <th>geo</th>\n",
       "      <th>time_period</th>\n",
       "      <th>all_cars_diff</th>\n",
       "      <th>zev_diff</th>\n",
       "      <th>ev_norm</th>\n",
       "      <th>zev_norm</th>\n",
       "      <th>emmission_norm</th>\n",
       "      <th>all_cars_norm</th>\n",
       "    </tr>\n",
       "  </thead>\n",
       "  <tbody>\n",
       "    <tr>\n",
       "      <th>1</th>\n",
       "      <td>0.000339</td>\n",
       "      <td>51478.0</td>\n",
       "      <td>3223453.8</td>\n",
       "      <td>Austria</td>\n",
       "      <td>2015</td>\n",
       "      <td>53127.0</td>\n",
       "      <td>1649.0</td>\n",
       "      <td>0.010973</td>\n",
       "      <td>0.486574</td>\n",
       "      <td>0.045105</td>\n",
       "      <td>0.011316</td>\n",
       "    </tr>\n",
       "    <tr>\n",
       "      <th>2</th>\n",
       "      <td>0.000823</td>\n",
       "      <td>69461.0</td>\n",
       "      <td>135194.4</td>\n",
       "      <td>Austria</td>\n",
       "      <td>2016</td>\n",
       "      <td>73509.0</td>\n",
       "      <td>4048.0</td>\n",
       "      <td>0.014645</td>\n",
       "      <td>0.803493</td>\n",
       "      <td>0.001810</td>\n",
       "      <td>0.015482</td>\n",
       "    </tr>\n",
       "    <tr>\n",
       "      <th>3</th>\n",
       "      <td>0.001104</td>\n",
       "      <td>71470.0</td>\n",
       "      <td>6763593.9</td>\n",
       "      <td>Austria</td>\n",
       "      <td>2017</td>\n",
       "      <td>77021.0</td>\n",
       "      <td>5551.0</td>\n",
       "      <td>0.014851</td>\n",
       "      <td>0.610940</td>\n",
       "      <td>0.090393</td>\n",
       "      <td>0.015974</td>\n",
       "    </tr>\n",
       "    <tr>\n",
       "      <th>4</th>\n",
       "      <td>0.001201</td>\n",
       "      <td>74056.0</td>\n",
       "      <td>4870572.1</td>\n",
       "      <td>Austria</td>\n",
       "      <td>2018</td>\n",
       "      <td>80274.0</td>\n",
       "      <td>6218.0</td>\n",
       "      <td>0.015163</td>\n",
       "      <td>0.424814</td>\n",
       "      <td>0.059697</td>\n",
       "      <td>0.016387</td>\n",
       "    </tr>\n",
       "    <tr>\n",
       "      <th>5</th>\n",
       "      <td>0.001678</td>\n",
       "      <td>51987.0</td>\n",
       "      <td>-1413976.6</td>\n",
       "      <td>Austria</td>\n",
       "      <td>2019</td>\n",
       "      <td>60696.0</td>\n",
       "      <td>8709.0</td>\n",
       "      <td>0.010485</td>\n",
       "      <td>0.417598</td>\n",
       "      <td>-0.016354</td>\n",
       "      <td>0.012191</td>\n",
       "    </tr>\n",
       "  </tbody>\n",
       "</table>\n",
       "</div>"
      ],
      "text/plain": [
       "   share_zev_diff  ev_diff  emmission_diff      geo  time_period  \\\n",
       "1        0.000339  51478.0       3223453.8  Austria         2015   \n",
       "2        0.000823  69461.0        135194.4  Austria         2016   \n",
       "3        0.001104  71470.0       6763593.9  Austria         2017   \n",
       "4        0.001201  74056.0       4870572.1  Austria         2018   \n",
       "5        0.001678  51987.0      -1413976.6  Austria         2019   \n",
       "\n",
       "   all_cars_diff  zev_diff   ev_norm  zev_norm  emmission_norm  all_cars_norm  \n",
       "1        53127.0    1649.0  0.010973  0.486574        0.045105       0.011316  \n",
       "2        73509.0    4048.0  0.014645  0.803493        0.001810       0.015482  \n",
       "3        77021.0    5551.0  0.014851  0.610940        0.090393       0.015974  \n",
       "4        80274.0    6218.0  0.015163  0.424814        0.059697       0.016387  \n",
       "5        60696.0    8709.0  0.010485  0.417598       -0.016354       0.012191  "
      ]
     },
     "execution_count": 136,
     "metadata": {},
     "output_type": "execute_result"
    }
   ],
   "source": [
    "df_cleaned.head()"
   ]
  },
  {
   "cell_type": "code",
   "execution_count": null,
   "metadata": {},
   "outputs": [
    {
     "data": {
      "application/vnd.plotly.v1+json": {
       "config": {
        "plotlyServerURL": "https://plot.ly"
       },
       "data": [
        {
         "hovertemplate": "Countries=Austria<br>Change in Share of ZEV=%{x}<br>Change in Total Emmissions=%{y}<extra></extra>",
         "legendgroup": "Austria",
         "marker": {
          "color": "#AA0DFE",
          "symbol": "circle"
         },
         "mode": "markers",
         "name": "Austria",
         "orientation": "v",
         "showlegend": true,
         "type": "scatter",
         "x": [
          0.0003392237399631999,
          0.0008233858855515,
          0.0011035564823920002,
          0.0012007066058753995,
          0.0016776825337325007,
          0.0028833089812186994,
          0.006169740036880601,
          0.006491803111946
         ],
         "xaxis": "x",
         "y": [
          3223453.799999982,
          135194.40000000596,
          6763593.900000006,
          4870572.100000009,
          -1413976.600000009,
          -15615940.799999995,
          -2433319.200000003,
          3040666.200000003
         ],
         "yaxis": "y"
        },
        {
         "hovertemplate": "Countries=Belgium<br>Change in Share of ZEV=%{x}<br>Change in Total Emmissions=%{y}<extra></extra>",
         "legendgroup": "Belgium",
         "marker": {
          "color": "#3283FE",
          "symbol": "circle"
         },
         "mode": "markers",
         "name": "Belgium",
         "orientation": "v",
         "showlegend": true,
         "type": "scatter",
         "x": [
          0.0001850859483315,
          0.000323211036142,
          0.0003946380974628,
          0.0005598889768961,
          0.0013209486838560002,
          0.0022060700166853997,
          0.0034507617216586,
          0.0062442912382582
         ],
         "xaxis": "x",
         "y": [
          5087466.600000009,
          -1457334.700000018,
          434527,
          501423.400000006,
          -536400.900000006,
          -10813077.399999993,
          3776769.299999997,
          -6348299.399999991
         ],
         "yaxis": "y"
        },
        {
         "hovertemplate": "Countries=Bulgaria<br>Change in Share of ZEV=%{x}<br>Change in Total Emmissions=%{y}<extra></extra>",
         "legendgroup": "Bulgaria",
         "marker": {
          "color": "#85660D",
          "symbol": "circle"
         },
         "mode": "markers",
         "name": "Bulgaria",
         "orientation": "v",
         "showlegend": true,
         "type": "scatter",
         "x": [
          0.000009099473081788291,
          0.000010519535918070655,
          0.00007020376570717549,
          0.00011741299742390002,
          0.0001627255205615,
          0.00025554376144039994,
          0.0005159845444491001,
          0.0009821501652938999
         ],
         "xaxis": "x",
         "y": [
          3603473,
          -4160455.1000000015,
          1421244.3000000045,
          -4060249,
          -1309780.6000000015,
          -6557681.1000000015,
          6312884.8000000045,
          4843519.5
         ],
         "yaxis": "y"
        },
        {
         "hovertemplate": "Countries=Croatia<br>Change in Share of ZEV=%{x}<br>Change in Total Emmissions=%{y}<extra></extra>",
         "legendgroup": "Croatia",
         "marker": {
          "color": "#782AB6",
          "symbol": "circle"
         },
         "mode": "markers",
         "name": "Croatia",
         "orientation": "v",
         "showlegend": true,
         "type": "scatter",
         "x": [
          0.00008223127892268168,
          0.00004200441293920002,
          0.000028502801708599998,
          0.00009805396905409998,
          0.00014365176860530002,
          0.0003315605313917,
          0.0009056117985446,
          0.0009506288849771998
         ],
         "xaxis": "x",
         "y": [
          659941.4000000022,
          577223,
          1767185.3000000007,
          -1571541.8999999985,
          -246591,
          -1369944.3000000045,
          182829.1000000015,
          998942.3000000007
         ],
         "yaxis": "y"
        },
        {
         "hovertemplate": "Countries=Cyprus<br>Change in Share of ZEV=%{x}<br>Change in Total Emmissions=%{y}<extra></extra>",
         "legendgroup": "Cyprus",
         "marker": {
          "color": "#565656",
          "symbol": "circle"
         },
         "mode": "markers",
         "name": "Cyprus",
         "orientation": "v",
         "showlegend": true,
         "type": "scatter",
         "x": [
          0.000015812426540204345,
          0.000031535248952903474,
          0.00008650929093102017,
          0.000041805687548700004,
          0.00008469140677649998,
          0.0001234088928809,
          0.00014724037257270005,
          0.0008183788433486
         ],
         "xaxis": "x",
         "y": [
          -28516.79999999888,
          607457.6999999993,
          157441.49999999814,
          -67186.39999999851,
          40703.09999999963,
          -1022451.0999999996,
          524822.6999999993,
          178320.30000000077
         ],
         "yaxis": "y"
        },
        {
         "hovertemplate": "Countries=Czech Republic<br>Change in Share of ZEV=%{x}<br>Change in Total Emmissions=%{y}<extra></extra>",
         "legendgroup": "Czech Republic",
         "marker": {
          "color": "#1C8356",
          "symbol": "circle"
         },
         "mode": "markers",
         "name": "Czech Republic",
         "orientation": "v",
         "showlegend": true,
         "type": "scatter",
         "x": [
          0.00005311040632658422,
          0.00004411791824149999,
          0.0000918558849667,
          0.00031702979296240004,
          0.0002430548185235,
          0.0005052172144331,
          0.00014684136243619996,
          0.0007654549740159998
         ],
         "xaxis": "x",
         "y": [
          2404998.999999985,
          2292914.200000018,
          2412990.299999997,
          3560960,
          492838,
          -8007827.600000009,
          1888339.600000009,
          -6047572.200000003
         ],
         "yaxis": "y"
        },
        {
         "hovertemplate": "Countries=Denmark<br>Change in Share of ZEV=%{x}<br>Change in Total Emmissions=%{y}<extra></extra>",
         "legendgroup": "Denmark",
         "marker": {
          "color": "#16FF32",
          "symbol": "circle"
         },
         "mode": "markers",
         "name": "Denmark",
         "orientation": "v",
         "showlegend": true,
         "type": "scatter",
         "x": [
          0.0020567810695228,
          0.0002193520228868,
          -0.000043664112889900235,
          0.000403414797277,
          0.0019747910072548,
          0.0058729742276944,
          0.012208834785488098,
          0.0163201647374428
         ],
         "xaxis": "x",
         "y": [
          -3640248.500000008,
          3290956.700000003,
          -2471659.8999999985,
          1454511.200000003,
          -4410889.399999999,
          -5097021.5,
          133071.3999999985,
          -1505038.5
         ],
         "yaxis": "y"
        },
        {
         "hovertemplate": "Countries=Estonia<br>Change in Share of ZEV=%{x}<br>Change in Total Emmissions=%{y}<extra></extra>",
         "legendgroup": "Estonia",
         "marker": {
          "color": "#F7E1A0",
          "symbol": "circle"
         },
         "mode": "markers",
         "name": "Estonia",
         "orientation": "v",
         "showlegend": true,
         "type": "scatter",
         "x": [
          0.000015311278422900027,
          -0.000005405243453199867,
          -0.000003405679227100073,
          0.000039297846915499956,
          0.000058606340920500056,
          0.00045391078441219977,
          0.0007823693752844001,
          0.0011026976095327005
         ],
         "xaxis": "x",
         "y": [
          -2513721.6999999997,
          2647353.5999999978,
          1047440.4000000022,
          983558.6999999993,
          -5594928.699999999,
          -5392280,
          941421.5999999996,
          683523.5999999996
         ],
         "yaxis": "y"
        },
        {
         "hovertemplate": "Countries=Finland<br>Change in Share of ZEV=%{x}<br>Change in Total Emmissions=%{y}<extra></extra>",
         "legendgroup": "Finland",
         "marker": {
          "color": "#E2E2E2",
          "symbol": "circle"
         },
         "mode": "markers",
         "name": "Finland",
         "orientation": "v",
         "showlegend": true,
         "type": "scatter",
         "x": [
          0.0000814383847902,
          0.00006475673331330002,
          0.00018493190894389996,
          0.0002678553647446,
          0.0006402766053324,
          0.0013999704440706999,
          0.0036921622393776003,
          0.0062277224986931005
         ],
         "xaxis": "x",
         "y": [
          1254118,
          6709209.599999994,
          -403230.8999999985,
          10564427.300000004,
          -8775991.399999999,
          -8771161,
          8920376.600000001,
          -419012.8999999985
         ],
         "yaxis": "y"
        },
        {
         "hovertemplate": "Countries=France<br>Change in Share of ZEV=%{x}<br>Change in Total Emmissions=%{y}<extra></extra>",
         "legendgroup": "France",
         "marker": {
          "color": "#1CBE4F",
          "symbol": "circle"
         },
         "mode": "markers",
         "name": "France",
         "orientation": "v",
         "showlegend": true,
         "type": "scatter",
         "x": [
          0.00041920146899409997,
          0.0005014840560736999,
          0.0005371358027449001,
          0.0006224846024139,
          0.0008952033351032999,
          0.0026965772879620005,
          0.0040203587400366,
          0.004946712625709299
         ],
         "xaxis": "x",
         "y": [
          8515722.5,
          7835386.099999964,
          14493368.200000048,
          -25338915.199999988,
          1691180.800000012,
          -52806568.80000007,
          21746105.600000083,
          -12243349.100000024
         ],
         "yaxis": "y"
        },
        {
         "hovertemplate": "Countries=Germany<br>Change in Share of ZEV=%{x}<br>Change in Total Emmissions=%{y}<extra></extra>",
         "legendgroup": "Germany",
         "marker": {
          "color": "#C4451C",
          "symbol": "circle"
         },
         "mode": "markers",
         "name": "Germany",
         "orientation": "v",
         "showlegend": true,
         "type": "scatter",
         "x": [
          0.0001508733557529,
          0.00016694880336000004,
          0.00042120743676690004,
          0.0006080793923609999,
          0.0010999672664620999,
          0.0035490087770795,
          0.006343441957915401,
          0.0080489361683973
         ],
         "xaxis": "x",
         "y": [
          4816828.800000072,
          2737678,
          -12664074.699999928,
          -21887097.100000024,
          -55708711.899999976,
          -73389809.70000005,
          33156892.399999976,
          -7552038.199999928
         ],
         "yaxis": "y"
        },
        {
         "hovertemplate": "Countries=Greece<br>Change in Share of ZEV=%{x}<br>Change in Total Emmissions=%{y}<extra></extra>",
         "legendgroup": "Greece",
         "marker": {
          "color": "#DEA0FD",
          "symbol": "circle"
         },
         "mode": "markers",
         "name": "Greece",
         "orientation": "v",
         "showlegend": true,
         "type": "scatter",
         "x": [
          0.000007641257939669783,
          0.0000056467675365359625,
          0.0000061734569938909715,
          0.000012432683077733739,
          0.00003809437738096876,
          0.0001222199222324351,
          0.0003842629415253,
          0.0005160138780038
         ],
         "xaxis": "x",
         "y": [
          -7161427.399999991,
          -3888700.400000006,
          4175059.700000003,
          -3462898.700000003,
          -7649686.899999991,
          -12909946.600000007,
          4003901.700000003,
          1584099.599999994
         ],
         "yaxis": "y"
        },
        {
         "hovertemplate": "Countries=Hungary<br>Change in Share of ZEV=%{x}<br>Change in Total Emmissions=%{y}<extra></extra>",
         "legendgroup": "Hungary",
         "marker": {
          "color": "#FE00FA",
          "symbol": "circle"
         },
         "mode": "markers",
         "name": "Hungary",
         "orientation": "v",
         "showlegend": true,
         "type": "scatter",
         "x": [
          0.0000506682755528845,
          0.00012180132006260001,
          0.00034610386134079996,
          0.0004792571003174001,
          0.0006759146694149999,
          0.0010785541449,
          0.001873790661208,
          0.0026058394188436997
         ],
         "xaxis": "x",
         "y": [
          2755782.8999999985,
          1745935.6000000015,
          1709201.3999999985,
          808913.1000000015,
          -1054340.1000000015,
          -3943305.6000000015,
          745239.1000000089,
          -3125363.100000009
         ],
         "yaxis": "y"
        },
        {
         "hovertemplate": "Countries=Ireland<br>Change in Share of ZEV=%{x}<br>Change in Total Emmissions=%{y}<extra></extra>",
         "legendgroup": "Ireland",
         "marker": {
          "color": "#325A9B",
          "symbol": "circle"
         },
         "mode": "markers",
         "name": "Ireland",
         "orientation": "v",
         "showlegend": true,
         "type": "scatter",
         "x": [
          0.0002661846014982,
          0.0002653077577494,
          0.0004839963151712,
          0.0008189016528784999,
          0.0017004886587067003,
          0.0017375446637724998,
          0.0037324661765484003,
          0.006549745319782701
         ],
         "xaxis": "x",
         "y": [
          3359448.6999999955,
          1178184.099999994,
          2023748.000000015,
          -619395.1000000089,
          -2231836.700000003,
          -3513751.799999997,
          2220447.599999994,
          122613.40000000596
         ],
         "yaxis": "y"
        },
        {
         "hovertemplate": "Countries=Italy<br>Change in Share of ZEV=%{x}<br>Change in Total Emmissions=%{y}<extra></extra>",
         "legendgroup": "Italy",
         "marker": {
          "color": "#FEAF16",
          "symbol": "circle"
         },
         "mode": "markers",
         "name": "Italy",
         "orientation": "v",
         "showlegend": true,
         "type": "scatter",
         "x": [
          0.000030250873783256867,
          0.00002889485368700001,
          0.0000446293827295,
          0.0001152834683035,
          0.00026361324020489997,
          0.0007618397320862001,
          0.0016278341215955,
          0.0009686057592944997
         ],
         "xaxis": "x",
         "y": [
          11726327.399999976,
          -896138,
          17360569.800000012,
          -30884536,
          -799233.6000000238,
          -36941113.79999995,
          39033699.10000002,
          -1380736
         ],
         "yaxis": "y"
        },
        {
         "hovertemplate": "Countries=Latvia<br>Change in Share of ZEV=%{x}<br>Change in Total Emmissions=%{y}<extra></extra>",
         "legendgroup": "Latvia",
         "marker": {
          "color": "#F8A19F",
          "symbol": "circle"
         },
         "mode": "markers",
         "name": "Latvia",
         "orientation": "v",
         "showlegend": true,
         "type": "scatter",
         "x": [
          0.0000249275485935,
          0.00005212594386400001,
          0.00008962310592610002,
          0.00017195583014319995,
          0.0002804512619753,
          0.0007254230305700001,
          0.0011455363050491998,
          0.0022025696967127
         ],
         "xaxis": "x",
         "y": [
          -1290038.4000000022,
          -1871467.499999998,
          -1262390.500000001,
          3027337.3000000017,
          -1620999.3000000026,
          1654213.2000000011,
          1806511,
          2316222.100000001
         ],
         "yaxis": "y"
        },
        {
         "hovertemplate": "Countries=Lithuania<br>Change in Share of ZEV=%{x}<br>Change in Total Emmissions=%{y}<extra></extra>",
         "legendgroup": "Lithuania",
         "marker": {
          "color": "#90AD1C",
          "symbol": "circle"
         },
         "mode": "markers",
         "name": "Lithuania",
         "orientation": "v",
         "showlegend": true,
         "type": "scatter",
         "x": [
          0.00007778610956430067,
          0.00013980721190359998,
          0.00018050522694770002,
          0.00021842222379049998,
          0.00025623427905860005,
          0.0006501857424883,
          0.0014174924800681,
          0.0014283561648233
         ],
         "xaxis": "x",
         "y": [
          1382693.5999999996,
          735066.5999999996,
          689841.5000000019,
          686762.6999999993,
          -72800,
          -573555,
          847148.2999999989,
          -1989442.5
         ],
         "yaxis": "y"
        },
        {
         "hovertemplate": "Countries=Luxembourg<br>Change in Share of ZEV=%{x}<br>Change in Total Emmissions=%{y}<extra></extra>",
         "legendgroup": "Luxembourg",
         "marker": {
          "color": "#F6222E",
          "symbol": "circle"
         },
         "mode": "markers",
         "name": "Luxembourg",
         "orientation": "v",
         "showlegend": true,
         "type": "scatter",
         "x": [
          0.00011642067189099998,
          0.00023031116711540005,
          0.0006530553557140002,
          0.0008177054851927997,
          0.001930121332931,
          0.0041593698565992,
          0.008786324890470201,
          0.013179174506395198
         ],
         "xaxis": "x",
         "y": [
          -230479.80000000077,
          -196508.29999999888,
          511650.5999999996,
          522093.5,
          -7777.5999999996275,
          -1889372.8000000007,
          457041.4000000004,
          -1241734.5
         ],
         "yaxis": "y"
        },
        {
         "hovertemplate": "Countries=Malta<br>Change in Share of ZEV=%{x}<br>Change in Total Emmissions=%{y}<extra></extra>",
         "legendgroup": "Malta",
         "marker": {
          "color": "#1CFFCE",
          "symbol": "circle"
         },
         "mode": "markers",
         "name": "Malta",
         "orientation": "v",
         "showlegend": true,
         "type": "scatter",
         "x": [
          0.00016673386602089998,
          9.747559342000505e-7,
          0.00015287056461309992,
          0.0013613540913445,
          0.0011915366573167002,
          0.0009925789644228997,
          0.0015000880490342004,
          0.0031424828971630004
         ],
         "xaxis": "x",
         "y": [
          -667165.9000000004,
          -297977,
          185538.5,
          80402.3999999999,
          94281.2000000002,
          -298071.6000000001,
          57200.5,
          278307.5
         ],
         "yaxis": "y"
        },
        {
         "hovertemplate": "Countries=Netherlands<br>Change in Share of ZEV=%{x}<br>Change in Total Emmissions=%{y}<extra></extra>",
         "legendgroup": "Netherlands",
         "marker": {
          "color": "#2ED9FF",
          "symbol": "circle"
         },
         "mode": "markers",
         "name": "Netherlands",
         "orientation": "v",
         "showlegend": true,
         "type": "scatter",
         "x": [
          0.00037697623701950006,
          0.0004367664600553999,
          0.0009419507803552002,
          0.0026708466572013,
          0.007095097553093699,
          0.007632972751145701,
          0.007756688748111501,
          0.009256445624396498
         ],
         "xaxis": "x",
         "y": [
          7624678.099999994,
          979925,
          -3844614.600000024,
          -5657594.199999958,
          -5720133,
          -21200049.700000014,
          2432624.5,
          -11137849
         ],
         "yaxis": "y"
        },
        {
         "hovertemplate": "Countries=Poland<br>Change in Share of ZEV=%{x}<br>Change in Total Emmissions=%{y}<extra></extra>",
         "legendgroup": "Poland",
         "marker": {
          "color": "#B10DA1",
          "symbol": "circle"
         },
         "mode": "markers",
         "name": "Poland",
         "orientation": "v",
         "showlegend": true,
         "type": "scatter",
         "x": [
          0.000004510190154173004,
          0.000006432611804823778,
          0.000027915192468155572,
          0.00010511739811980481,
          0.0001013410857406,
          0.0002127294080947,
          0.000386150226493,
          0.0005893360169092999
         ],
         "xaxis": "x",
         "y": [
          3689159.199999988,
          7240115.800000071,
          11445986.199999928,
          3833781.800000072,
          -3835256.200000048,
          -19121406.80000001,
          28933371.80000001,
          -31384487.99999994
         ],
         "yaxis": "y"
        },
        {
         "hovertemplate": "Countries=Portugal<br>Change in Share of ZEV=%{x}<br>Change in Total Emmissions=%{y}<extra></extra>",
         "legendgroup": "Portugal",
         "marker": {
          "color": "#C075A6",
          "symbol": "circle"
         },
         "mode": "markers",
         "name": "Portugal",
         "orientation": "v",
         "showlegend": true,
         "type": "scatter",
         "x": [
          0.00015301110135459997,
          0.00019531638288719998,
          0.00043111126127630005,
          0.0009666606334488999,
          0.0014378744303283,
          0.0015147864235390998,
          0.0028471792793022003,
          0.003965656239749001
         ],
         "xaxis": "x",
         "y": [
          5948143.699999996,
          2937880.700000003,
          25697478.200000003,
          -27987563.40000001,
          -4148406.799999997,
          -9078081.700000005,
          -3018108.5,
          2218323.3999999985
         ],
         "yaxis": "y"
        },
        {
         "hovertemplate": "Countries=Romania<br>Change in Share of ZEV=%{x}<br>Change in Total Emmissions=%{y}<extra></extra>",
         "legendgroup": "Romania",
         "marker": {
          "color": "#FC1CBF",
          "symbol": "circle"
         },
         "mode": "markers",
         "name": "Romania",
         "orientation": "v",
         "showlegend": true,
         "type": "scatter",
         "x": [
          0.00019165046188640003,
          0.0004106370808497999,
          0.0004983344430168001,
          -0.0014873919495860001,
          0.000234391413165,
          0.0003923610996484,
          0.0008358552690507999,
          0.0015057289928272002
         ],
         "xaxis": "x",
         "y": [
          -268324,
          -4337334,
          5508285.900000006,
          1555663.299999997,
          -2381830.900000006,
          -8039767.1999999955,
          5353535.399999999,
          -4365715.5
         ],
         "yaxis": "y"
        },
        {
         "hovertemplate": "Countries=Slovakia<br>Change in Share of ZEV=%{x}<br>Change in Total Emmissions=%{y}<extra></extra>",
         "legendgroup": "Slovakia",
         "marker": {
          "color": "#B00068",
          "symbol": "circle"
         },
         "mode": "markers",
         "name": "Slovakia",
         "orientation": "v",
         "showlegend": true,
         "type": "scatter",
         "x": [
          0.000009360487343437244,
          0.000025982175296993592,
          0.00008570977590911551,
          0.0001634071564544,
          0.00005696716269630001,
          0.00036412673750690005,
          0.0004401532295568,
          0.0005693625880284999
         ],
         "xaxis": "x",
         "y": [
          577234.8999999985,
          574985,
          1147978.3000000045,
          597973.299999997,
          -3219145.600000001,
          -4864392.899999999,
          4378318.799999997,
          -4505704.299999997
         ],
         "yaxis": "y"
        },
        {
         "hovertemplate": "Countries=Slovenia<br>Change in Share of ZEV=%{x}<br>Change in Total Emmissions=%{y}<extra></extra>",
         "legendgroup": "Slovenia",
         "marker": {
          "color": "#FBE426",
          "symbol": "circle"
         },
         "mode": "markers",
         "name": "Slovenia",
         "orientation": "v",
         "showlegend": true,
         "type": "scatter",
         "x": [
          0.00014248924435940002,
          0.0001497930399778,
          0.0002800485534235,
          0.00044738631996799993,
          0.0005702686790419,
          0.0014204278715482998,
          0.0014159126970337004,
          0.0020540003295496994
         ],
         "xaxis": "x",
         "y": [
          221315,
          1043263,
          15363,
          -197823,
          -1956058.7999999989,
          -929801.8000000007,
          307956.0999999996,
          -434913.5
         ],
         "yaxis": "y"
        },
        {
         "hovertemplate": "Countries=Spain<br>Change in Share of ZEV=%{x}<br>Change in Total Emmissions=%{y}<extra></extra>",
         "legendgroup": "Spain",
         "marker": {
          "color": "#FA0087",
          "symbol": "circle"
         },
         "mode": "markers",
         "name": "Spain",
         "orientation": "v",
         "showlegend": true,
         "type": "scatter",
         "x": [
          0.0001059717554415,
          0.000005166672709599991,
          0.00038129126057690003,
          0.000005935485281100016,
          0.00038701637928719996,
          0.0006457801678007001,
          0.0008541995398180999,
          0.0010831846552495999
         ],
         "xaxis": "x",
         "y": [
          8844005.800000012,
          -9328223.800000012,
          9794085.300000012,
          -3704606.5,
          -17014742,
          -49655260.99999997,
          19365784.399999976,
          9953407.099999994
         ],
         "yaxis": "y"
        },
        {
         "hovertemplate": "Countries=Sweden<br>Change in Share of ZEV=%{x}<br>Change in Total Emmissions=%{y}<extra></extra>",
         "legendgroup": "Sweden",
         "marker": {
          "color": "#2E91E5",
          "symbol": "circle"
         },
         "mode": "markers",
         "name": "Sweden",
         "orientation": "v",
         "showlegend": true,
         "type": "scatter",
         "x": [
          0.0005471764795632,
          0.0005631877680760001,
          0.0006997332778813999,
          0.0011456992131507002,
          0.0027865548248736994,
          0.0050771340858976,
          0.010812301671383999,
          0.01760475177233
         ],
         "xaxis": "x",
         "y": [
          1959720.1,
          2001302,
          5069644.5,
          6197234.200000001,
          -3916165.200000001,
          -8145186.4,
          1058611.9,
          1081748.0999999996
         ],
         "yaxis": "y"
        },
        {
         "hovertemplate": "<b>OLS trendline</b><br>emmission_diff = -2.42842e+08 * share_zev_diff + -1.01753e+06<br>R<sup>2</sup>=0.003144<br><br>Change in Share of ZEV=%{x}<br>Change in Total Emmissions=%{y} <b>(trend)</b><extra></extra>",
         "legendgroup": "Overall Trendline",
         "line": {
          "color": "#E15F99"
         },
         "mode": "lines",
         "name": "Overall Trendline",
         "showlegend": true,
         "type": "scatter",
         "x": [
          -0.0014873919495860001,
          -0.000043664112889900235,
          -0.000005405243453199867,
          -0.000003405679227100073,
          9.747559342000505e-7,
          0.000004510190154173004,
          0.000005166672709599991,
          0.0000056467675365359625,
          0.000005935485281100016,
          0.0000061734569938909715,
          0.000006432611804823778,
          0.000007641257939669783,
          0.000009099473081788291,
          0.000009360487343437244,
          0.000010519535918070655,
          0.000012432683077733739,
          0.000015311278422900027,
          0.000015812426540204345,
          0.0000249275485935,
          0.000025982175296993592,
          0.000027915192468155572,
          0.000028502801708599998,
          0.00002889485368700001,
          0.000030250873783256867,
          0.000031535248952903474,
          0.00003809437738096876,
          0.000039297846915499956,
          0.000041805687548700004,
          0.00004200441293920002,
          0.00004411791824149999,
          0.0000446293827295,
          0.0000506682755528845,
          0.00005212594386400001,
          0.00005311040632658422,
          0.00005696716269630001,
          0.000058606340920500056,
          0.00006475673331330002,
          0.00007020376570717549,
          0.00007778610956430067,
          0.0000814383847902,
          0.00008223127892268168,
          0.00008469140677649998,
          0.00008570977590911551,
          0.00008650929093102017,
          0.00008962310592610002,
          0.0000918558849667,
          0.00009805396905409998,
          0.0001013410857406,
          0.00010511739811980481,
          0.0001059717554415,
          0.0001152834683035,
          0.00011642067189099998,
          0.00011741299742390002,
          0.00012180132006260001,
          0.0001222199222324351,
          0.0001234088928809,
          0.00013980721190359998,
          0.00014248924435940002,
          0.00014365176860530002,
          0.00014684136243619996,
          0.00014724037257270005,
          0.0001497930399778,
          0.0001508733557529,
          0.00015287056461309992,
          0.00015301110135459997,
          0.0001627255205615,
          0.0001634071564544,
          0.00016673386602089998,
          0.00016694880336000004,
          0.00017195583014319995,
          0.00018050522694770002,
          0.00018493190894389996,
          0.0001850859483315,
          0.00019165046188640003,
          0.00019531638288719998,
          0.0002127294080947,
          0.00021842222379049998,
          0.0002193520228868,
          0.00023031116711540005,
          0.000234391413165,
          0.0002430548185235,
          0.00025554376144039994,
          0.00025623427905860005,
          0.00026361324020489997,
          0.0002653077577494,
          0.0002661846014982,
          0.0002678553647446,
          0.0002800485534235,
          0.0002804512619753,
          0.00031702979296240004,
          0.000323211036142,
          0.0003315605313917,
          0.0003392237399631999,
          0.00034610386134079996,
          0.00036412673750690005,
          0.00037697623701950006,
          0.00038129126057690003,
          0.0003842629415253,
          0.000386150226493,
          0.00038701637928719996,
          0.0003923610996484,
          0.0003946380974628,
          0.000403414797277,
          0.0004106370808497999,
          0.00041920146899409997,
          0.00042120743676690004,
          0.00043111126127630005,
          0.0004367664600553999,
          0.0004401532295568,
          0.00044738631996799993,
          0.00045391078441219977,
          0.0004792571003174001,
          0.0004839963151712,
          0.0004983344430168001,
          0.0005014840560736999,
          0.0005052172144331,
          0.0005159845444491001,
          0.0005160138780038,
          0.0005371358027449001,
          0.0005471764795632,
          0.0005598889768961,
          0.0005631877680760001,
          0.0005693625880284999,
          0.0005702686790419,
          0.0005893360169092999,
          0.0006080793923609999,
          0.0006224846024139,
          0.0006402766053324,
          0.0006457801678007001,
          0.0006501857424883,
          0.0006530553557140002,
          0.0006759146694149999,
          0.0006997332778813999,
          0.0007254230305700001,
          0.0007618397320862001,
          0.0007654549740159998,
          0.0007823693752844001,
          0.0008177054851927997,
          0.0008183788433486,
          0.0008189016528784999,
          0.0008233858855515,
          0.0008358552690507999,
          0.0008541995398180999,
          0.0008952033351032999,
          0.0009056117985446,
          0.0009419507803552002,
          0.0009506288849771998,
          0.0009666606334488999,
          0.0009686057592944997,
          0.0009821501652938999,
          0.0009925789644228997,
          0.0010785541449,
          0.0010831846552495999,
          0.0010999672664620999,
          0.0011026976095327005,
          0.0011035564823920002,
          0.0011455363050491998,
          0.0011456992131507002,
          0.0011915366573167002,
          0.0012007066058753995,
          0.0013209486838560002,
          0.0013613540913445,
          0.0013999704440706999,
          0.0014159126970337004,
          0.0014174924800681,
          0.0014204278715482998,
          0.0014283561648233,
          0.0014378744303283,
          0.0015000880490342004,
          0.0015057289928272002,
          0.0015147864235390998,
          0.0016278341215955,
          0.0016776825337325007,
          0.0017004886587067003,
          0.0017375446637724998,
          0.001873790661208,
          0.001930121332931,
          0.0019747910072548,
          0.0020540003295496994,
          0.0020567810695228,
          0.0022025696967127,
          0.0022060700166853997,
          0.0026058394188436997,
          0.0026708466572013,
          0.0026965772879620005,
          0.0027865548248736994,
          0.0028471792793022003,
          0.0028833089812186994,
          0.0031424828971630004,
          0.0034507617216586,
          0.0035490087770795,
          0.0036921622393776003,
          0.0037324661765484003,
          0.003965656239749001,
          0.0040203587400366,
          0.0041593698565992,
          0.004946712625709299,
          0.0050771340858976,
          0.0058729742276944,
          0.006169740036880601,
          0.0062277224986931005,
          0.0062442912382582,
          0.006343441957915401,
          0.006491803111946,
          0.006549745319782701,
          0.007095097553093699,
          0.007632972751145701,
          0.007756688748111501,
          0.0080489361683973,
          0.008786324890470201,
          0.009256445624396498,
          0.010812301671383999,
          0.012208834785488098,
          0.013179174506395198,
          0.0163201647374428,
          0.01760475177233
         ],
         "xaxis": "x",
         "y": [
          -656332.3775906122,
          -1006929.8722160715,
          -1016220.7256794262,
          -1016706.3034941601,
          -1017770.0563386267,
          -1018628.6076170811,
          -1018788.0290352652,
          -1018904.6161365374,
          -1018974.7288789292,
          -1019032.5183626363,
          -1019095.4519884373,
          -1019388.9618148707,
          -1019743.0774331036,
          -1019806.4626112997,
          -1020087.9280759718,
          -1020552.5202130623,
          -1021251.5635440861,
          -1021373.2632646963,
          -1023586.7960884479,
          -1023842.9035559441,
          -1024312.3209627791,
          -1024455.0170598427,
          -1024550.2236755886,
          -1024879.5220629476,
          -1025191.4220659757,
          -1026784.2527473242,
          -1027076.5054787187,
          -1027685.5140609263,
          -1027733.7728963223,
          -1028247.0203693084,
          -1028371.2253361483,
          -1029837.7210567236,
          -1030191.7038815208,
          -1030430.7725370956,
          -1031367.3542710168,
          -1031765.4152933521,
          -1033258.98777223,
          -1034581.7550292545,
          -1036423.0652070649,
          -1037309.9903679825,
          -1037502.53822173,
          -1038099.9601457824,
          -1038347.2627587984,
          -1038541.4184413796,
          -1039297.5829401541,
          -1039839.7950647593,
          -1041344.9490815256,
          -1042143.198478355,
          -1043060.2450472582,
          -1043267.7187337022,
          -1045528.9920271229,
          -1045805.1526153741,
          -1046046.1307532507,
          -1047111.7990070798,
          -1047213.45311962,
          -1047502.1849151425,
          -1051484.3825422134,
          -1052135.6921835511,
          -1052418.0016865572,
          -1053192.5684556968,
          -1053289.4648032156,
          -1053909.3592002704,
          -1054171.705048655,
          -1054656.7108820484,
          -1054690.839080051,
          -1057049.9063149632,
          -1057215.436015384,
          -1058023.3002192292,
          -1058075.4959937197,
          -1059291.4114876883,
          -1061367.5625627246,
          -1062442.5460727212,
          -1062479.95327787,
          -1064074.0916932167,
          -1064964.330618939,
          -1069192.941342114,
          -1070575.3950633632,
          -1070801.1891676134,
          -1073462.5276914858,
          -1074453.382065894,
          -1076557.2191856145,
          -1079590.0568063157,
          -1079757.743361068,
          -1081549.663711341,
          -1081961.163434904,
          -1082174.0977662187,
          -1082579.8289528117,
          -1085540.8450762527,
          -1085638.6395536722,
          -1094521.4365706672,
          -1096022.5009107424,
          -1098050.1075285042,
          -1099911.0550406813,
          -1101581.836233919,
          -1105958.544273462,
          -1109078.9401138704,
          -1110126.808285434,
          -1110848.4566937098,
          -1111306.7684090496,
          -1111517.1065294978,
          -1112815.0281463577,
          -1113367.9784384456,
          -1115499.3281899195,
          -1117253.2006731797,
          -1119332.992272449,
          -1119820.1251361142,
          -1122225.1878992955,
          -1123598.506660052,
          -1124420.9559277631,
          -1126177.4527633227,
          -1127761.8655797606,
          -1133917.0110500348,
          -1135067.8906078027,
          -1138549.7876610525,
          -1139314.6454262915,
          -1140221.2123945097,
          -1142835.9704060017,
          -1142843.0938197954,
          -1147972.380453794,
          -1150410.6766806617,
          -1153497.802662486,
          -1154298.8871145337,
          -1155798.3916264533,
          -1156018.4284167169,
          -1160648.7754361285,
          -1165200.4508330848,
          -1168698.6382516066,
          -1173019.2806116445,
          -1174355.7757347948,
          -1175425.6335075677,
          -1176122.495604358,
          -1181673.692934437,
          -1187457.8471507155,
          -1193696.3934343297,
          -1202539.8914881742,
          -1203417.8234160873,
          -1207525.34739468,
          -1216106.432616425,
          -1216269.9521361077,
          -1216396.9121535642,
          -1217485.8713746243,
          -1220513.9591507686,
          -1224968.7152400217,
          -1234926.1514906276,
          -1237453.7616901866,
          -1246278.3861493175,
          -1248385.7928649306,
          -1252278.9718324472,
          -1252751.3297318136,
          -1256040.4779278105,
          -1258573.0264827702,
          -1279451.395735678,
          -1280575.8772938657,
          -1284651.3971355006,
          -1285314.4386144343,
          -1285523.0088622458,
          -1295717.4653756819,
          -1295757.0262754501,
          -1306888.2746147565,
          -1309115.1216068333,
          -1338314.926595723,
          -1348127.0492650534,
          -1357504.714620846,
          -1361376.1603361992,
          -1361759.797722578,
          -1362472.63353037,
          -1364397.954694248,
          -1366709.387607303,
          -1381817.455967187,
          -1383187.3130211832,
          -1385386.8359746248,
          -1412839.5446530487,
          -1424944.82375211,
          -1430483.1046349993,
          -1439481.8523259966,
          -1472568.0782333303,
          -1486247.5210442748,
          -1497095.1860304256,
          -1516330.5219723603,
          -1517005.8019267907,
          -1552409.3774058325,
          -1553259.4014765911,
          -1650340.130449278,
          -1666126.6064881773,
          -1672375.079677195,
          -1694225.3884486896,
          -1708947.5412640763,
          -1717721.3438129534,
          -1780659.6091097444,
          -1855522.5997420917,
          -1879381.093434173,
          -1914144.7406763912,
          -1923932.222109153,
          -1980560.5213298546,
          -1993844.576027082,
          -2027602.288494182,
          -2218802.039060173,
          -2250473.8237450575,
          -2443737.091754664,
          -2515804.240802148,
          -2529884.8073237436,
          -2533908.3901853994,
          -2557986.331344778,
          -2594014.6239223485,
          -2608085.4150952217,
          -2740519.743662845,
          -2871138.3353842287,
          -2901181.7531800377,
          -2972151.648446054,
          -3151220.467341625,
          -3265385.4417201974,
          -3643212.3549422845,
          -3982348.9972659936,
          -4217988.060556568,
          -4980751.843076983,
          -5292703.295845571
         ],
         "yaxis": "y"
        }
       ],
       "layout": {
        "legend": {
         "orientation": "h",
         "title": {
          "text": "Countries"
         },
         "tracegroupgap": 0,
         "y": -0.5,
         "yanchor": "bottom"
        },
        "template": {
         "data": {
          "bar": [
           {
            "error_x": {
             "color": "#2a3f5f"
            },
            "error_y": {
             "color": "#2a3f5f"
            },
            "marker": {
             "line": {
              "color": "#E5ECF6",
              "width": 0.5
             },
             "pattern": {
              "fillmode": "overlay",
              "size": 10,
              "solidity": 0.2
             }
            },
            "type": "bar"
           }
          ],
          "barpolar": [
           {
            "marker": {
             "line": {
              "color": "#E5ECF6",
              "width": 0.5
             },
             "pattern": {
              "fillmode": "overlay",
              "size": 10,
              "solidity": 0.2
             }
            },
            "type": "barpolar"
           }
          ],
          "carpet": [
           {
            "aaxis": {
             "endlinecolor": "#2a3f5f",
             "gridcolor": "white",
             "linecolor": "white",
             "minorgridcolor": "white",
             "startlinecolor": "#2a3f5f"
            },
            "baxis": {
             "endlinecolor": "#2a3f5f",
             "gridcolor": "white",
             "linecolor": "white",
             "minorgridcolor": "white",
             "startlinecolor": "#2a3f5f"
            },
            "type": "carpet"
           }
          ],
          "choropleth": [
           {
            "colorbar": {
             "outlinewidth": 0,
             "ticks": ""
            },
            "type": "choropleth"
           }
          ],
          "contour": [
           {
            "colorbar": {
             "outlinewidth": 0,
             "ticks": ""
            },
            "colorscale": [
             [
              0,
              "#0d0887"
             ],
             [
              0.1111111111111111,
              "#46039f"
             ],
             [
              0.2222222222222222,
              "#7201a8"
             ],
             [
              0.3333333333333333,
              "#9c179e"
             ],
             [
              0.4444444444444444,
              "#bd3786"
             ],
             [
              0.5555555555555556,
              "#d8576b"
             ],
             [
              0.6666666666666666,
              "#ed7953"
             ],
             [
              0.7777777777777778,
              "#fb9f3a"
             ],
             [
              0.8888888888888888,
              "#fdca26"
             ],
             [
              1,
              "#f0f921"
             ]
            ],
            "type": "contour"
           }
          ],
          "contourcarpet": [
           {
            "colorbar": {
             "outlinewidth": 0,
             "ticks": ""
            },
            "type": "contourcarpet"
           }
          ],
          "heatmap": [
           {
            "colorbar": {
             "outlinewidth": 0,
             "ticks": ""
            },
            "colorscale": [
             [
              0,
              "#0d0887"
             ],
             [
              0.1111111111111111,
              "#46039f"
             ],
             [
              0.2222222222222222,
              "#7201a8"
             ],
             [
              0.3333333333333333,
              "#9c179e"
             ],
             [
              0.4444444444444444,
              "#bd3786"
             ],
             [
              0.5555555555555556,
              "#d8576b"
             ],
             [
              0.6666666666666666,
              "#ed7953"
             ],
             [
              0.7777777777777778,
              "#fb9f3a"
             ],
             [
              0.8888888888888888,
              "#fdca26"
             ],
             [
              1,
              "#f0f921"
             ]
            ],
            "type": "heatmap"
           }
          ],
          "heatmapgl": [
           {
            "colorbar": {
             "outlinewidth": 0,
             "ticks": ""
            },
            "colorscale": [
             [
              0,
              "#0d0887"
             ],
             [
              0.1111111111111111,
              "#46039f"
             ],
             [
              0.2222222222222222,
              "#7201a8"
             ],
             [
              0.3333333333333333,
              "#9c179e"
             ],
             [
              0.4444444444444444,
              "#bd3786"
             ],
             [
              0.5555555555555556,
              "#d8576b"
             ],
             [
              0.6666666666666666,
              "#ed7953"
             ],
             [
              0.7777777777777778,
              "#fb9f3a"
             ],
             [
              0.8888888888888888,
              "#fdca26"
             ],
             [
              1,
              "#f0f921"
             ]
            ],
            "type": "heatmapgl"
           }
          ],
          "histogram": [
           {
            "marker": {
             "pattern": {
              "fillmode": "overlay",
              "size": 10,
              "solidity": 0.2
             }
            },
            "type": "histogram"
           }
          ],
          "histogram2d": [
           {
            "colorbar": {
             "outlinewidth": 0,
             "ticks": ""
            },
            "colorscale": [
             [
              0,
              "#0d0887"
             ],
             [
              0.1111111111111111,
              "#46039f"
             ],
             [
              0.2222222222222222,
              "#7201a8"
             ],
             [
              0.3333333333333333,
              "#9c179e"
             ],
             [
              0.4444444444444444,
              "#bd3786"
             ],
             [
              0.5555555555555556,
              "#d8576b"
             ],
             [
              0.6666666666666666,
              "#ed7953"
             ],
             [
              0.7777777777777778,
              "#fb9f3a"
             ],
             [
              0.8888888888888888,
              "#fdca26"
             ],
             [
              1,
              "#f0f921"
             ]
            ],
            "type": "histogram2d"
           }
          ],
          "histogram2dcontour": [
           {
            "colorbar": {
             "outlinewidth": 0,
             "ticks": ""
            },
            "colorscale": [
             [
              0,
              "#0d0887"
             ],
             [
              0.1111111111111111,
              "#46039f"
             ],
             [
              0.2222222222222222,
              "#7201a8"
             ],
             [
              0.3333333333333333,
              "#9c179e"
             ],
             [
              0.4444444444444444,
              "#bd3786"
             ],
             [
              0.5555555555555556,
              "#d8576b"
             ],
             [
              0.6666666666666666,
              "#ed7953"
             ],
             [
              0.7777777777777778,
              "#fb9f3a"
             ],
             [
              0.8888888888888888,
              "#fdca26"
             ],
             [
              1,
              "#f0f921"
             ]
            ],
            "type": "histogram2dcontour"
           }
          ],
          "mesh3d": [
           {
            "colorbar": {
             "outlinewidth": 0,
             "ticks": ""
            },
            "type": "mesh3d"
           }
          ],
          "parcoords": [
           {
            "line": {
             "colorbar": {
              "outlinewidth": 0,
              "ticks": ""
             }
            },
            "type": "parcoords"
           }
          ],
          "pie": [
           {
            "automargin": true,
            "type": "pie"
           }
          ],
          "scatter": [
           {
            "fillpattern": {
             "fillmode": "overlay",
             "size": 10,
             "solidity": 0.2
            },
            "type": "scatter"
           }
          ],
          "scatter3d": [
           {
            "line": {
             "colorbar": {
              "outlinewidth": 0,
              "ticks": ""
             }
            },
            "marker": {
             "colorbar": {
              "outlinewidth": 0,
              "ticks": ""
             }
            },
            "type": "scatter3d"
           }
          ],
          "scattercarpet": [
           {
            "marker": {
             "colorbar": {
              "outlinewidth": 0,
              "ticks": ""
             }
            },
            "type": "scattercarpet"
           }
          ],
          "scattergeo": [
           {
            "marker": {
             "colorbar": {
              "outlinewidth": 0,
              "ticks": ""
             }
            },
            "type": "scattergeo"
           }
          ],
          "scattergl": [
           {
            "marker": {
             "colorbar": {
              "outlinewidth": 0,
              "ticks": ""
             }
            },
            "type": "scattergl"
           }
          ],
          "scattermapbox": [
           {
            "marker": {
             "colorbar": {
              "outlinewidth": 0,
              "ticks": ""
             }
            },
            "type": "scattermapbox"
           }
          ],
          "scatterpolar": [
           {
            "marker": {
             "colorbar": {
              "outlinewidth": 0,
              "ticks": ""
             }
            },
            "type": "scatterpolar"
           }
          ],
          "scatterpolargl": [
           {
            "marker": {
             "colorbar": {
              "outlinewidth": 0,
              "ticks": ""
             }
            },
            "type": "scatterpolargl"
           }
          ],
          "scatterternary": [
           {
            "marker": {
             "colorbar": {
              "outlinewidth": 0,
              "ticks": ""
             }
            },
            "type": "scatterternary"
           }
          ],
          "surface": [
           {
            "colorbar": {
             "outlinewidth": 0,
             "ticks": ""
            },
            "colorscale": [
             [
              0,
              "#0d0887"
             ],
             [
              0.1111111111111111,
              "#46039f"
             ],
             [
              0.2222222222222222,
              "#7201a8"
             ],
             [
              0.3333333333333333,
              "#9c179e"
             ],
             [
              0.4444444444444444,
              "#bd3786"
             ],
             [
              0.5555555555555556,
              "#d8576b"
             ],
             [
              0.6666666666666666,
              "#ed7953"
             ],
             [
              0.7777777777777778,
              "#fb9f3a"
             ],
             [
              0.8888888888888888,
              "#fdca26"
             ],
             [
              1,
              "#f0f921"
             ]
            ],
            "type": "surface"
           }
          ],
          "table": [
           {
            "cells": {
             "fill": {
              "color": "#EBF0F8"
             },
             "line": {
              "color": "white"
             }
            },
            "header": {
             "fill": {
              "color": "#C8D4E3"
             },
             "line": {
              "color": "white"
             }
            },
            "type": "table"
           }
          ]
         },
         "layout": {
          "annotationdefaults": {
           "arrowcolor": "#2a3f5f",
           "arrowhead": 0,
           "arrowwidth": 1
          },
          "autotypenumbers": "strict",
          "coloraxis": {
           "colorbar": {
            "outlinewidth": 0,
            "ticks": ""
           }
          },
          "colorscale": {
           "diverging": [
            [
             0,
             "#8e0152"
            ],
            [
             0.1,
             "#c51b7d"
            ],
            [
             0.2,
             "#de77ae"
            ],
            [
             0.3,
             "#f1b6da"
            ],
            [
             0.4,
             "#fde0ef"
            ],
            [
             0.5,
             "#f7f7f7"
            ],
            [
             0.6,
             "#e6f5d0"
            ],
            [
             0.7,
             "#b8e186"
            ],
            [
             0.8,
             "#7fbc41"
            ],
            [
             0.9,
             "#4d9221"
            ],
            [
             1,
             "#276419"
            ]
           ],
           "sequential": [
            [
             0,
             "#0d0887"
            ],
            [
             0.1111111111111111,
             "#46039f"
            ],
            [
             0.2222222222222222,
             "#7201a8"
            ],
            [
             0.3333333333333333,
             "#9c179e"
            ],
            [
             0.4444444444444444,
             "#bd3786"
            ],
            [
             0.5555555555555556,
             "#d8576b"
            ],
            [
             0.6666666666666666,
             "#ed7953"
            ],
            [
             0.7777777777777778,
             "#fb9f3a"
            ],
            [
             0.8888888888888888,
             "#fdca26"
            ],
            [
             1,
             "#f0f921"
            ]
           ],
           "sequentialminus": [
            [
             0,
             "#0d0887"
            ],
            [
             0.1111111111111111,
             "#46039f"
            ],
            [
             0.2222222222222222,
             "#7201a8"
            ],
            [
             0.3333333333333333,
             "#9c179e"
            ],
            [
             0.4444444444444444,
             "#bd3786"
            ],
            [
             0.5555555555555556,
             "#d8576b"
            ],
            [
             0.6666666666666666,
             "#ed7953"
            ],
            [
             0.7777777777777778,
             "#fb9f3a"
            ],
            [
             0.8888888888888888,
             "#fdca26"
            ],
            [
             1,
             "#f0f921"
            ]
           ]
          },
          "colorway": [
           "#636efa",
           "#EF553B",
           "#00cc96",
           "#ab63fa",
           "#FFA15A",
           "#19d3f3",
           "#FF6692",
           "#B6E880",
           "#FF97FF",
           "#FECB52"
          ],
          "font": {
           "color": "#2a3f5f"
          },
          "geo": {
           "bgcolor": "white",
           "lakecolor": "white",
           "landcolor": "#E5ECF6",
           "showlakes": true,
           "showland": true,
           "subunitcolor": "white"
          },
          "hoverlabel": {
           "align": "left"
          },
          "hovermode": "closest",
          "mapbox": {
           "style": "light"
          },
          "paper_bgcolor": "white",
          "plot_bgcolor": "#E5ECF6",
          "polar": {
           "angularaxis": {
            "gridcolor": "white",
            "linecolor": "white",
            "ticks": ""
           },
           "bgcolor": "#E5ECF6",
           "radialaxis": {
            "gridcolor": "white",
            "linecolor": "white",
            "ticks": ""
           }
          },
          "scene": {
           "xaxis": {
            "backgroundcolor": "#E5ECF6",
            "gridcolor": "white",
            "gridwidth": 2,
            "linecolor": "white",
            "showbackground": true,
            "ticks": "",
            "zerolinecolor": "white"
           },
           "yaxis": {
            "backgroundcolor": "#E5ECF6",
            "gridcolor": "white",
            "gridwidth": 2,
            "linecolor": "white",
            "showbackground": true,
            "ticks": "",
            "zerolinecolor": "white"
           },
           "zaxis": {
            "backgroundcolor": "#E5ECF6",
            "gridcolor": "white",
            "gridwidth": 2,
            "linecolor": "white",
            "showbackground": true,
            "ticks": "",
            "zerolinecolor": "white"
           }
          },
          "shapedefaults": {
           "line": {
            "color": "#2a3f5f"
           }
          },
          "ternary": {
           "aaxis": {
            "gridcolor": "white",
            "linecolor": "white",
            "ticks": ""
           },
           "baxis": {
            "gridcolor": "white",
            "linecolor": "white",
            "ticks": ""
           },
           "bgcolor": "#E5ECF6",
           "caxis": {
            "gridcolor": "white",
            "linecolor": "white",
            "ticks": ""
           }
          },
          "title": {
           "x": 0.05
          },
          "xaxis": {
           "automargin": true,
           "gridcolor": "white",
           "linecolor": "white",
           "ticks": "",
           "title": {
            "standoff": 15
           },
           "zerolinecolor": "white",
           "zerolinewidth": 2
          },
          "yaxis": {
           "automargin": true,
           "gridcolor": "white",
           "linecolor": "white",
           "ticks": "",
           "title": {
            "standoff": 15
           },
           "zerolinecolor": "white",
           "zerolinewidth": 2
          }
         }
        },
        "title": {
         "text": "Scatter Plot of change in Share ZEV vs change in Emission"
        },
        "xaxis": {
         "anchor": "y",
         "domain": [
          0,
          1
         ],
         "title": {
          "text": "Change in Share of ZEV"
         }
        },
        "yaxis": {
         "anchor": "x",
         "domain": [
          0,
          1
         ],
         "title": {
          "text": "Change in Total Emmissions"
         }
        }
       }
      }
     },
     "metadata": {},
     "output_type": "display_data"
    }
   ],
   "source": [
    "colors = pc.qualitative.Alphabet + pc.qualitative.Dark24 + pc.qualitative.Light24\n",
    "\n",
    "fig = px.scatter(\n",
    "    df_cleaned,\n",
    "    x='share_zev_diff',\n",
    "    y='emmission_diff',\n",
    "    color='geo',\n",
    "    #symbol='time_period',\n",
    "    labels={'share_zev_diff': 'Change in Share of ZEV', 'emmission_diff': 'Change in Total Emmissions', 'geo':'Countries'},\n",
    "    trendline='ols',\n",
    "    title=\"Scatter Plot of change in Share ZEV vs change in Emission\",\n",
    "    color_discrete_sequence=colors,\n",
    "    trendline_scope='overall'\n",
    ")\n",
    "\n",
    "fig.update_layout(\n",
    "    legend=dict(\n",
    "        orientation=\"h\",\n",
    "        yanchor=\"bottom\",\n",
    "        y=-0.5\n",
    "    )\n",
    ")\n",
    "\n",
    "fig.show()"
   ]
  },
  {
   "cell_type": "code",
   "execution_count": null,
   "metadata": {},
   "outputs": [],
   "source": []
  },
  {
   "cell_type": "code",
   "execution_count": null,
   "metadata": {},
   "outputs": [],
   "source": []
  }
 ],
 "metadata": {
  "kernelspec": {
   "display_name": "lewagon",
   "language": "python",
   "name": "python3"
  },
  "language_info": {
   "codemirror_mode": {
    "name": "ipython",
    "version": 3
   },
   "file_extension": ".py",
   "mimetype": "text/x-python",
   "name": "python",
   "nbconvert_exporter": "python",
   "pygments_lexer": "ipython3",
   "version": "3.10.6"
  }
 },
 "nbformat": 4,
 "nbformat_minor": 2
}
