{
 "cells": [
  {
   "cell_type": "code",
   "execution_count": 10,
   "metadata": {},
   "outputs": [],
   "source": [
    "import pandas as pd\n",
    "import plotly.graph_objects as go\n",
    "import plotly.express as px\n",
    "import numpy as np"
   ]
  },
  {
   "cell_type": "code",
   "execution_count": null,
   "metadata": {},
   "outputs": [],
   "source": [
    "# Load dataset\n",
    "joined_df = pd.read_csv('data/merged_dataset.csv')"
   ]
  },
  {
   "cell_type": "code",
   "execution_count": 12,
   "metadata": {},
   "outputs": [],
   "source": [
    "# Group databases by country\n",
    "groups = joined_df.groupby('geo')"
   ]
  },
  {
   "cell_type": "code",
   "execution_count": 13,
   "metadata": {},
   "outputs": [],
   "source": [
    "df_cleaned = joined_df[['ev_diff', 'emmission_diff', 'geo', 'time_period', 'all_cars_diff', 'zev_diff', 'ev_norm', 'zev_norm', 'emmission_norm', 'all_cars_norm']].dropna()\n",
    "\n",
    "# Convert to numeric in case they are not\n",
    "df_cleaned['ev_diff'] = pd.to_numeric(df_cleaned['ev_diff'], errors='coerce')\n",
    "df_cleaned['emmission_diff'] = pd.to_numeric(df_cleaned['emmission_diff'], errors='coerce')\n",
    "df_cleaned['all_cars_diff'] = pd.to_numeric(df_cleaned['all_cars_diff'], errors='coerce')\n",
    "\n",
    "# Drop any remaining NaN values after conversion\n",
    "df_cleaned = df_cleaned.dropna()\n"
   ]
  },
  {
   "cell_type": "code",
   "execution_count": 14,
   "metadata": {},
   "outputs": [
    {
     "data": {
      "text/html": [
       "<div>\n",
       "<style scoped>\n",
       "    .dataframe tbody tr th:only-of-type {\n",
       "        vertical-align: middle;\n",
       "    }\n",
       "\n",
       "    .dataframe tbody tr th {\n",
       "        vertical-align: top;\n",
       "    }\n",
       "\n",
       "    .dataframe thead th {\n",
       "        text-align: right;\n",
       "    }\n",
       "</style>\n",
       "<table border=\"1\" class=\"dataframe\">\n",
       "  <thead>\n",
       "    <tr style=\"text-align: right;\">\n",
       "      <th></th>\n",
       "      <th>ev_diff</th>\n",
       "      <th>emmission_diff</th>\n",
       "      <th>geo</th>\n",
       "      <th>time_period</th>\n",
       "      <th>all_cars_diff</th>\n",
       "      <th>zev_diff</th>\n",
       "      <th>ev_norm</th>\n",
       "      <th>zev_norm</th>\n",
       "      <th>emmission_norm</th>\n",
       "      <th>all_cars_norm</th>\n",
       "    </tr>\n",
       "  </thead>\n",
       "  <tbody>\n",
       "    <tr>\n",
       "      <th>1</th>\n",
       "      <td>51478.0</td>\n",
       "      <td>3223453.8</td>\n",
       "      <td>Austria</td>\n",
       "      <td>2015</td>\n",
       "      <td>53127.0</td>\n",
       "      <td>1649.0</td>\n",
       "      <td>0.010973</td>\n",
       "      <td>0.486574</td>\n",
       "      <td>0.045105</td>\n",
       "      <td>0.011316</td>\n",
       "    </tr>\n",
       "    <tr>\n",
       "      <th>2</th>\n",
       "      <td>69461.0</td>\n",
       "      <td>135194.4</td>\n",
       "      <td>Austria</td>\n",
       "      <td>2016</td>\n",
       "      <td>73509.0</td>\n",
       "      <td>4048.0</td>\n",
       "      <td>0.014645</td>\n",
       "      <td>0.803493</td>\n",
       "      <td>0.001810</td>\n",
       "      <td>0.015482</td>\n",
       "    </tr>\n",
       "    <tr>\n",
       "      <th>3</th>\n",
       "      <td>71470.0</td>\n",
       "      <td>6763593.9</td>\n",
       "      <td>Austria</td>\n",
       "      <td>2017</td>\n",
       "      <td>77021.0</td>\n",
       "      <td>5551.0</td>\n",
       "      <td>0.014851</td>\n",
       "      <td>0.610940</td>\n",
       "      <td>0.090393</td>\n",
       "      <td>0.015974</td>\n",
       "    </tr>\n",
       "    <tr>\n",
       "      <th>4</th>\n",
       "      <td>74056.0</td>\n",
       "      <td>4870572.1</td>\n",
       "      <td>Austria</td>\n",
       "      <td>2018</td>\n",
       "      <td>80274.0</td>\n",
       "      <td>6218.0</td>\n",
       "      <td>0.015163</td>\n",
       "      <td>0.424814</td>\n",
       "      <td>0.059697</td>\n",
       "      <td>0.016387</td>\n",
       "    </tr>\n",
       "    <tr>\n",
       "      <th>5</th>\n",
       "      <td>51987.0</td>\n",
       "      <td>-1413976.6</td>\n",
       "      <td>Austria</td>\n",
       "      <td>2019</td>\n",
       "      <td>60696.0</td>\n",
       "      <td>8709.0</td>\n",
       "      <td>0.010485</td>\n",
       "      <td>0.417598</td>\n",
       "      <td>-0.016354</td>\n",
       "      <td>0.012191</td>\n",
       "    </tr>\n",
       "  </tbody>\n",
       "</table>\n",
       "</div>"
      ],
      "text/plain": [
       "   ev_diff  emmission_diff      geo  time_period  all_cars_diff  zev_diff  \\\n",
       "1  51478.0       3223453.8  Austria         2015        53127.0    1649.0   \n",
       "2  69461.0        135194.4  Austria         2016        73509.0    4048.0   \n",
       "3  71470.0       6763593.9  Austria         2017        77021.0    5551.0   \n",
       "4  74056.0       4870572.1  Austria         2018        80274.0    6218.0   \n",
       "5  51987.0      -1413976.6  Austria         2019        60696.0    8709.0   \n",
       "\n",
       "    ev_norm  zev_norm  emmission_norm  all_cars_norm  \n",
       "1  0.010973  0.486574        0.045105       0.011316  \n",
       "2  0.014645  0.803493        0.001810       0.015482  \n",
       "3  0.014851  0.610940        0.090393       0.015974  \n",
       "4  0.015163  0.424814        0.059697       0.016387  \n",
       "5  0.010485  0.417598       -0.016354       0.012191  "
      ]
     },
     "execution_count": 14,
     "metadata": {},
     "output_type": "execute_result"
    }
   ],
   "source": [
    "df_cleaned.head()"
   ]
  },
  {
   "cell_type": "code",
   "execution_count": 15,
   "metadata": {},
   "outputs": [
    {
     "data": {
      "application/vnd.plotly.v1+json": {
       "config": {
        "plotlyServerURL": "https://plot.ly"
       },
       "data": [
        {
         "hovertemplate": "geo=Austria<br>time_period=2015<br>all_cars_diff=%{x}<br>emmission_diff=%{y}<extra></extra>",
         "legendgroup": "Austria, 2015",
         "marker": {
          "color": "#636efa",
          "symbol": "circle"
         },
         "mode": "markers",
         "name": "Austria, 2015",
         "orientation": "v",
         "showlegend": true,
         "type": "scatter",
         "x": [
          53127
         ],
         "xaxis": "x",
         "y": [
          3223453.799999982
         ],
         "yaxis": "y"
        },
        {
         "hovertemplate": "geo=Austria<br>time_period=2016<br>all_cars_diff=%{x}<br>emmission_diff=%{y}<extra></extra>",
         "legendgroup": "Austria, 2016",
         "marker": {
          "color": "#636efa",
          "symbol": "diamond"
         },
         "mode": "markers",
         "name": "Austria, 2016",
         "orientation": "v",
         "showlegend": true,
         "type": "scatter",
         "x": [
          73509
         ],
         "xaxis": "x",
         "y": [
          135194.40000000596
         ],
         "yaxis": "y"
        },
        {
         "hovertemplate": "geo=Austria<br>time_period=2017<br>all_cars_diff=%{x}<br>emmission_diff=%{y}<extra></extra>",
         "legendgroup": "Austria, 2017",
         "marker": {
          "color": "#636efa",
          "symbol": "square"
         },
         "mode": "markers",
         "name": "Austria, 2017",
         "orientation": "v",
         "showlegend": true,
         "type": "scatter",
         "x": [
          77021
         ],
         "xaxis": "x",
         "y": [
          6763593.900000006
         ],
         "yaxis": "y"
        },
        {
         "hovertemplate": "geo=Austria<br>time_period=2018<br>all_cars_diff=%{x}<br>emmission_diff=%{y}<extra></extra>",
         "legendgroup": "Austria, 2018",
         "marker": {
          "color": "#636efa",
          "symbol": "x"
         },
         "mode": "markers",
         "name": "Austria, 2018",
         "orientation": "v",
         "showlegend": true,
         "type": "scatter",
         "x": [
          80274
         ],
         "xaxis": "x",
         "y": [
          4870572.100000009
         ],
         "yaxis": "y"
        },
        {
         "hovertemplate": "geo=Austria<br>time_period=2019<br>all_cars_diff=%{x}<br>emmission_diff=%{y}<extra></extra>",
         "legendgroup": "Austria, 2019",
         "marker": {
          "color": "#636efa",
          "symbol": "cross"
         },
         "mode": "markers",
         "name": "Austria, 2019",
         "orientation": "v",
         "showlegend": true,
         "type": "scatter",
         "x": [
          60696
         ],
         "xaxis": "x",
         "y": [
          -1413976.600000009
         ],
         "yaxis": "y"
        },
        {
         "hovertemplate": "geo=Austria<br>time_period=2020<br>all_cars_diff=%{x}<br>emmission_diff=%{y}<extra></extra>",
         "legendgroup": "Austria, 2020",
         "marker": {
          "color": "#636efa",
          "symbol": "circle"
         },
         "mode": "markers",
         "name": "Austria, 2020",
         "orientation": "v",
         "showlegend": true,
         "type": "scatter",
         "x": [
          52279
         ],
         "xaxis": "x",
         "y": [
          -15615940.799999995
         ],
         "yaxis": "y"
        },
        {
         "hovertemplate": "geo=Austria<br>time_period=2021<br>all_cars_diff=%{x}<br>emmission_diff=%{y}<extra></extra>",
         "legendgroup": "Austria, 2021",
         "marker": {
          "color": "#636efa",
          "symbol": "diamond"
         },
         "mode": "markers",
         "name": "Austria, 2021",
         "orientation": "v",
         "showlegend": true,
         "type": "scatter",
         "x": [
          42009
         ],
         "xaxis": "x",
         "y": [
          -2433319.200000003
         ],
         "yaxis": "y"
        },
        {
         "hovertemplate": "geo=Austria<br>time_period=2022<br>all_cars_diff=%{x}<br>emmission_diff=%{y}<extra></extra>",
         "legendgroup": "Austria, 2022",
         "marker": {
          "color": "#636efa",
          "symbol": "square"
         },
         "mode": "markers",
         "name": "Austria, 2022",
         "orientation": "v",
         "showlegend": true,
         "type": "scatter",
         "x": [
          17054
         ],
         "xaxis": "x",
         "y": [
          3040666.200000003
         ],
         "yaxis": "y"
        },
        {
         "hovertemplate": "geo=Belgium<br>time_period=2015<br>all_cars_diff=%{x}<br>emmission_diff=%{y}<extra></extra>",
         "legendgroup": "Belgium, 2015",
         "marker": {
          "color": "#EF553B",
          "symbol": "circle"
         },
         "mode": "markers",
         "name": "Belgium, 2015",
         "orientation": "v",
         "showlegend": true,
         "type": "scatter",
         "x": [
          77369
         ],
         "xaxis": "x",
         "y": [
          5087466.600000009
         ],
         "yaxis": "y"
        },
        {
         "hovertemplate": "geo=Belgium<br>time_period=2016<br>all_cars_diff=%{x}<br>emmission_diff=%{y}<extra></extra>",
         "legendgroup": "Belgium, 2016",
         "marker": {
          "color": "#EF553B",
          "symbol": "diamond"
         },
         "mode": "markers",
         "name": "Belgium, 2016",
         "orientation": "v",
         "showlegend": true,
         "type": "scatter",
         "x": [
          69233
         ],
         "xaxis": "x",
         "y": [
          -1457334.700000018
         ],
         "yaxis": "y"
        },
        {
         "hovertemplate": "geo=Belgium<br>time_period=2017<br>all_cars_diff=%{x}<br>emmission_diff=%{y}<extra></extra>",
         "legendgroup": "Belgium, 2017",
         "marker": {
          "color": "#EF553B",
          "symbol": "square"
         },
         "mode": "markers",
         "name": "Belgium, 2017",
         "orientation": "v",
         "showlegend": true,
         "type": "scatter",
         "x": [
          67647
         ],
         "xaxis": "x",
         "y": [
          434527
         ],
         "yaxis": "y"
        },
        {
         "hovertemplate": "geo=Belgium<br>time_period=2018<br>all_cars_diff=%{x}<br>emmission_diff=%{y}<extra></extra>",
         "legendgroup": "Belgium, 2018",
         "marker": {
          "color": "#EF553B",
          "symbol": "x"
         },
         "mode": "markers",
         "name": "Belgium, 2018",
         "orientation": "v",
         "showlegend": true,
         "type": "scatter",
         "x": [
          49486
         ],
         "xaxis": "x",
         "y": [
          501423.400000006
         ],
         "yaxis": "y"
        },
        {
         "hovertemplate": "geo=Belgium<br>time_period=2019<br>all_cars_diff=%{x}<br>emmission_diff=%{y}<extra></extra>",
         "legendgroup": "Belgium, 2019",
         "marker": {
          "color": "#EF553B",
          "symbol": "cross"
         },
         "mode": "markers",
         "name": "Belgium, 2019",
         "orientation": "v",
         "showlegend": true,
         "type": "scatter",
         "x": [
          33449
         ],
         "xaxis": "x",
         "y": [
          -536400.900000006
         ],
         "yaxis": "y"
        },
        {
         "hovertemplate": "geo=Belgium<br>time_period=2020<br>all_cars_diff=%{x}<br>emmission_diff=%{y}<extra></extra>",
         "legendgroup": "Belgium, 2020",
         "marker": {
          "color": "#EF553B",
          "symbol": "circle"
         },
         "mode": "markers",
         "name": "Belgium, 2020",
         "orientation": "v",
         "showlegend": true,
         "type": "scatter",
         "x": [
          15614
         ],
         "xaxis": "x",
         "y": [
          -10813077.399999993
         ],
         "yaxis": "y"
        },
        {
         "hovertemplate": "geo=Belgium<br>time_period=2021<br>all_cars_diff=%{x}<br>emmission_diff=%{y}<extra></extra>",
         "legendgroup": "Belgium, 2021",
         "marker": {
          "color": "#EF553B",
          "symbol": "diamond"
         },
         "mode": "markers",
         "name": "Belgium, 2021",
         "orientation": "v",
         "showlegend": true,
         "type": "scatter",
         "x": [
          28521
         ],
         "xaxis": "x",
         "y": [
          3776769.299999997
         ],
         "yaxis": "y"
        },
        {
         "hovertemplate": "geo=Belgium<br>time_period=2022<br>all_cars_diff=%{x}<br>emmission_diff=%{y}<extra></extra>",
         "legendgroup": "Belgium, 2022",
         "marker": {
          "color": "#EF553B",
          "symbol": "square"
         },
         "mode": "markers",
         "name": "Belgium, 2022",
         "orientation": "v",
         "showlegend": true,
         "type": "scatter",
         "x": [
          29118
         ],
         "xaxis": "x",
         "y": [
          -6348299.399999991
         ],
         "yaxis": "y"
        },
        {
         "hovertemplate": "geo=Bulgaria<br>time_period=2015<br>all_cars_diff=%{x}<br>emmission_diff=%{y}<extra></extra>",
         "legendgroup": "Bulgaria, 2015",
         "marker": {
          "color": "#00cc96",
          "symbol": "circle"
         },
         "mode": "markers",
         "name": "Bulgaria, 2015",
         "orientation": "v",
         "showlegend": true,
         "type": "scatter",
         "x": [
          148174
         ],
         "xaxis": "x",
         "y": [
          3603473
         ],
         "yaxis": "y"
        },
        {
         "hovertemplate": "geo=Bulgaria<br>time_period=2016<br>all_cars_diff=%{x}<br>emmission_diff=%{y}<extra></extra>",
         "legendgroup": "Bulgaria, 2016",
         "marker": {
          "color": "#00cc96",
          "symbol": "diamond"
         },
         "mode": "markers",
         "name": "Bulgaria, 2016",
         "orientation": "v",
         "showlegend": true,
         "type": "scatter",
         "x": [
          -18469
         ],
         "xaxis": "x",
         "y": [
          -4160455.1000000015
         ],
         "yaxis": "y"
        },
        {
         "hovertemplate": "geo=Bulgaria<br>time_period=2017<br>all_cars_diff=%{x}<br>emmission_diff=%{y}<extra></extra>",
         "legendgroup": "Bulgaria, 2017",
         "marker": {
          "color": "#00cc96",
          "symbol": "square"
         },
         "mode": "markers",
         "name": "Bulgaria, 2017",
         "orientation": "v",
         "showlegend": true,
         "type": "scatter",
         "x": [
          -372953
         ],
         "xaxis": "x",
         "y": [
          1421244.3000000045
         ],
         "yaxis": "y"
        },
        {
         "hovertemplate": "geo=Bulgaria<br>time_period=2018<br>all_cars_diff=%{x}<br>emmission_diff=%{y}<extra></extra>",
         "legendgroup": "Bulgaria, 2018",
         "marker": {
          "color": "#00cc96",
          "symbol": "x"
         },
         "mode": "markers",
         "name": "Bulgaria, 2018",
         "orientation": "v",
         "showlegend": true,
         "type": "scatter",
         "x": [
          2710
         ],
         "xaxis": "x",
         "y": [
          -4060249
         ],
         "yaxis": "y"
        },
        {
         "hovertemplate": "geo=Bulgaria<br>time_period=2019<br>all_cars_diff=%{x}<br>emmission_diff=%{y}<extra></extra>",
         "legendgroup": "Bulgaria, 2019",
         "marker": {
          "color": "#00cc96",
          "symbol": "cross"
         },
         "mode": "markers",
         "name": "Bulgaria, 2019",
         "orientation": "v",
         "showlegend": true,
         "type": "scatter",
         "x": [
          56621
         ],
         "xaxis": "x",
         "y": [
          -1309780.6000000015
         ],
         "yaxis": "y"
        },
        {
         "hovertemplate": "geo=Bulgaria<br>time_period=2020<br>all_cars_diff=%{x}<br>emmission_diff=%{y}<extra></extra>",
         "legendgroup": "Bulgaria, 2020",
         "marker": {
          "color": "#00cc96",
          "symbol": "circle"
         },
         "mode": "markers",
         "name": "Bulgaria, 2020",
         "orientation": "v",
         "showlegend": true,
         "type": "scatter",
         "x": [
          36817
         ],
         "xaxis": "x",
         "y": [
          -6557681.1000000015
         ],
         "yaxis": "y"
        },
        {
         "hovertemplate": "geo=Bulgaria<br>time_period=2021<br>all_cars_diff=%{x}<br>emmission_diff=%{y}<extra></extra>",
         "legendgroup": "Bulgaria, 2021",
         "marker": {
          "color": "#00cc96",
          "symbol": "diamond"
         },
         "mode": "markers",
         "name": "Bulgaria, 2021",
         "orientation": "v",
         "showlegend": true,
         "type": "scatter",
         "x": [
          -36299
         ],
         "xaxis": "x",
         "y": [
          6312884.8000000045
         ],
         "yaxis": "y"
        },
        {
         "hovertemplate": "geo=Bulgaria<br>time_period=2022<br>all_cars_diff=%{x}<br>emmission_diff=%{y}<extra></extra>",
         "legendgroup": "Bulgaria, 2022",
         "marker": {
          "color": "#00cc96",
          "symbol": "square"
         },
         "mode": "markers",
         "name": "Bulgaria, 2022",
         "orientation": "v",
         "showlegend": true,
         "type": "scatter",
         "x": [
          66313
         ],
         "xaxis": "x",
         "y": [
          4843519.5
         ],
         "yaxis": "y"
        },
        {
         "hovertemplate": "geo=Croatia<br>time_period=2015<br>all_cars_diff=%{x}<br>emmission_diff=%{y}<extra></extra>",
         "legendgroup": "Croatia, 2015",
         "marker": {
          "color": "#ab63fa",
          "symbol": "circle"
         },
         "mode": "markers",
         "name": "Croatia, 2015",
         "orientation": "v",
         "showlegend": true,
         "type": "scatter",
         "x": [
          25307
         ],
         "xaxis": "x",
         "y": [
          659941.4000000022
         ],
         "yaxis": "y"
        },
        {
         "hovertemplate": "geo=Croatia<br>time_period=2016<br>all_cars_diff=%{x}<br>emmission_diff=%{y}<extra></extra>",
         "legendgroup": "Croatia, 2016",
         "marker": {
          "color": "#ab63fa",
          "symbol": "diamond"
         },
         "mode": "markers",
         "name": "Croatia, 2016",
         "orientation": "v",
         "showlegend": true,
         "type": "scatter",
         "x": [
          53102
         ],
         "xaxis": "x",
         "y": [
          577223
         ],
         "yaxis": "y"
        },
        {
         "hovertemplate": "geo=Croatia<br>time_period=2017<br>all_cars_diff=%{x}<br>emmission_diff=%{y}<extra></extra>",
         "legendgroup": "Croatia, 2017",
         "marker": {
          "color": "#ab63fa",
          "symbol": "square"
         },
         "mode": "markers",
         "name": "Croatia, 2017",
         "orientation": "v",
         "showlegend": true,
         "type": "scatter",
         "x": [
          43183
         ],
         "xaxis": "x",
         "y": [
          1767185.3000000007
         ],
         "yaxis": "y"
        },
        {
         "hovertemplate": "geo=Croatia<br>time_period=2018<br>all_cars_diff=%{x}<br>emmission_diff=%{y}<extra></extra>",
         "legendgroup": "Croatia, 2018",
         "marker": {
          "color": "#ab63fa",
          "symbol": "x"
         },
         "mode": "markers",
         "name": "Croatia, 2018",
         "orientation": "v",
         "showlegend": true,
         "type": "scatter",
         "x": [
          70326
         ],
         "xaxis": "x",
         "y": [
          -1571541.8999999985
         ],
         "yaxis": "y"
        },
        {
         "hovertemplate": "geo=Croatia<br>time_period=2019<br>all_cars_diff=%{x}<br>emmission_diff=%{y}<extra></extra>",
         "legendgroup": "Croatia, 2019",
         "marker": {
          "color": "#ab63fa",
          "symbol": "cross"
         },
         "mode": "markers",
         "name": "Croatia, 2019",
         "orientation": "v",
         "showlegend": true,
         "type": "scatter",
         "x": [
          58487
         ],
         "xaxis": "x",
         "y": [
          -246591
         ],
         "yaxis": "y"
        },
        {
         "hovertemplate": "geo=Croatia<br>time_period=2020<br>all_cars_diff=%{x}<br>emmission_diff=%{y}<extra></extra>",
         "legendgroup": "Croatia, 2020",
         "marker": {
          "color": "#ab63fa",
          "symbol": "circle"
         },
         "mode": "markers",
         "name": "Croatia, 2020",
         "orientation": "v",
         "showlegend": true,
         "type": "scatter",
         "x": [
          21385
         ],
         "xaxis": "x",
         "y": [
          -1369944.3000000045
         ],
         "yaxis": "y"
        },
        {
         "hovertemplate": "geo=Croatia<br>time_period=2021<br>all_cars_diff=%{x}<br>emmission_diff=%{y}<extra></extra>",
         "legendgroup": "Croatia, 2021",
         "marker": {
          "color": "#ab63fa",
          "symbol": "diamond"
         },
         "mode": "markers",
         "name": "Croatia, 2021",
         "orientation": "v",
         "showlegend": true,
         "type": "scatter",
         "x": [
          49180
         ],
         "xaxis": "x",
         "y": [
          182829.1000000015
         ],
         "yaxis": "y"
        },
        {
         "hovertemplate": "geo=Croatia<br>time_period=2022<br>all_cars_diff=%{x}<br>emmission_diff=%{y}<extra></extra>",
         "legendgroup": "Croatia, 2022",
         "marker": {
          "color": "#ab63fa",
          "symbol": "square"
         },
         "mode": "markers",
         "name": "Croatia, 2022",
         "orientation": "v",
         "showlegend": true,
         "type": "scatter",
         "x": [
          45302
         ],
         "xaxis": "x",
         "y": [
          998942.3000000007
         ],
         "yaxis": "y"
        },
        {
         "hovertemplate": "geo=Cyprus<br>time_period=2015<br>all_cars_diff=%{x}<br>emmission_diff=%{y}<extra></extra>",
         "legendgroup": "Cyprus, 2015",
         "marker": {
          "color": "#FFA15A",
          "symbol": "circle"
         },
         "mode": "markers",
         "name": "Cyprus, 2015",
         "orientation": "v",
         "showlegend": true,
         "type": "scatter",
         "x": [
          9200
         ],
         "xaxis": "x",
         "y": [
          -28516.79999999888
         ],
         "yaxis": "y"
        },
        {
         "hovertemplate": "geo=Cyprus<br>time_period=2016<br>all_cars_diff=%{x}<br>emmission_diff=%{y}<extra></extra>",
         "legendgroup": "Cyprus, 2016",
         "marker": {
          "color": "#FFA15A",
          "symbol": "diamond"
         },
         "mode": "markers",
         "name": "Cyprus, 2016",
         "orientation": "v",
         "showlegend": true,
         "type": "scatter",
         "x": [
          20592
         ],
         "xaxis": "x",
         "y": [
          607457.6999999993
         ],
         "yaxis": "y"
        },
        {
         "hovertemplate": "geo=Cyprus<br>time_period=2017<br>all_cars_diff=%{x}<br>emmission_diff=%{y}<extra></extra>",
         "legendgroup": "Cyprus, 2017",
         "marker": {
          "color": "#FFA15A",
          "symbol": "square"
         },
         "mode": "markers",
         "name": "Cyprus, 2017",
         "orientation": "v",
         "showlegend": true,
         "type": "scatter",
         "x": [
          18333
         ],
         "xaxis": "x",
         "y": [
          157441.49999999814
         ],
         "yaxis": "y"
        },
        {
         "hovertemplate": "geo=Cyprus<br>time_period=2018<br>all_cars_diff=%{x}<br>emmission_diff=%{y}<extra></extra>",
         "legendgroup": "Cyprus, 2018",
         "marker": {
          "color": "#FFA15A",
          "symbol": "x"
         },
         "mode": "markers",
         "name": "Cyprus, 2018",
         "orientation": "v",
         "showlegend": true,
         "type": "scatter",
         "x": [
          24078
         ],
         "xaxis": "x",
         "y": [
          -67186.39999999851
         ],
         "yaxis": "y"
        },
        {
         "hovertemplate": "geo=Cyprus<br>time_period=2019<br>all_cars_diff=%{x}<br>emmission_diff=%{y}<extra></extra>",
         "legendgroup": "Cyprus, 2019",
         "marker": {
          "color": "#FFA15A",
          "symbol": "cross"
         },
         "mode": "markers",
         "name": "Cyprus, 2019",
         "orientation": "v",
         "showlegend": true,
         "type": "scatter",
         "x": [
          21806
         ],
         "xaxis": "x",
         "y": [
          40703.09999999963
         ],
         "yaxis": "y"
        },
        {
         "hovertemplate": "geo=Cyprus<br>time_period=2020<br>all_cars_diff=%{x}<br>emmission_diff=%{y}<extra></extra>",
         "legendgroup": "Cyprus, 2020",
         "marker": {
          "color": "#FFA15A",
          "symbol": "circle"
         },
         "mode": "markers",
         "name": "Cyprus, 2020",
         "orientation": "v",
         "showlegend": true,
         "type": "scatter",
         "x": [
          5657
         ],
         "xaxis": "x",
         "y": [
          -1022451.0999999996
         ],
         "yaxis": "y"
        },
        {
         "hovertemplate": "geo=Cyprus<br>time_period=2021<br>all_cars_diff=%{x}<br>emmission_diff=%{y}<extra></extra>",
         "legendgroup": "Cyprus, 2021",
         "marker": {
          "color": "#FFA15A",
          "symbol": "diamond"
         },
         "mode": "markers",
         "name": "Cyprus, 2021",
         "orientation": "v",
         "showlegend": true,
         "type": "scatter",
         "x": [
          13998
         ],
         "xaxis": "x",
         "y": [
          524822.6999999993
         ],
         "yaxis": "y"
        },
        {
         "hovertemplate": "geo=Cyprus<br>time_period=2022<br>all_cars_diff=%{x}<br>emmission_diff=%{y}<extra></extra>",
         "legendgroup": "Cyprus, 2022",
         "marker": {
          "color": "#FFA15A",
          "symbol": "square"
         },
         "mode": "markers",
         "name": "Cyprus, 2022",
         "orientation": "v",
         "showlegend": true,
         "type": "scatter",
         "x": [
          8975
         ],
         "xaxis": "x",
         "y": [
          178320.30000000077
         ],
         "yaxis": "y"
        },
        {
         "hovertemplate": "geo=Czech Republic<br>time_period=2015<br>all_cars_diff=%{x}<br>emmission_diff=%{y}<extra></extra>",
         "legendgroup": "Czech Republic, 2015",
         "marker": {
          "color": "#19d3f3",
          "symbol": "circle"
         },
         "mode": "markers",
         "name": "Czech Republic, 2015",
         "orientation": "v",
         "showlegend": true,
         "type": "scatter",
         "x": [
          281930
         ],
         "xaxis": "x",
         "y": [
          2404998.999999985
         ],
         "yaxis": "y"
        },
        {
         "hovertemplate": "geo=Czech Republic<br>time_period=2016<br>all_cars_diff=%{x}<br>emmission_diff=%{y}<extra></extra>",
         "legendgroup": "Czech Republic, 2016",
         "marker": {
          "color": "#19d3f3",
          "symbol": "diamond"
         },
         "mode": "markers",
         "name": "Czech Republic, 2016",
         "orientation": "v",
         "showlegend": true,
         "type": "scatter",
         "x": [
          192492
         ],
         "xaxis": "x",
         "y": [
          2292914.200000018
         ],
         "yaxis": "y"
        },
        {
         "hovertemplate": "geo=Czech Republic<br>time_period=2017<br>all_cars_diff=%{x}<br>emmission_diff=%{y}<extra></extra>",
         "legendgroup": "Czech Republic, 2017",
         "marker": {
          "color": "#19d3f3",
          "symbol": "square"
         },
         "mode": "markers",
         "name": "Czech Republic, 2017",
         "orientation": "v",
         "showlegend": true,
         "type": "scatter",
         "x": [
          230414
         ],
         "xaxis": "x",
         "y": [
          2412990.299999997
         ],
         "yaxis": "y"
        },
        {
         "hovertemplate": "geo=Czech Republic<br>time_period=2018<br>all_cars_diff=%{x}<br>emmission_diff=%{y}<extra></extra>",
         "legendgroup": "Czech Republic, 2018",
         "marker": {
          "color": "#19d3f3",
          "symbol": "x"
         },
         "mode": "markers",
         "name": "Czech Republic, 2018",
         "orientation": "v",
         "showlegend": true,
         "type": "scatter",
         "x": [
          209691
         ],
         "xaxis": "x",
         "y": [
          3560960
         ],
         "yaxis": "y"
        },
        {
         "hovertemplate": "geo=Czech Republic<br>time_period=2019<br>all_cars_diff=%{x}<br>emmission_diff=%{y}<extra></extra>",
         "legendgroup": "Czech Republic, 2019",
         "marker": {
          "color": "#19d3f3",
          "symbol": "cross"
         },
         "mode": "markers",
         "name": "Czech Republic, 2019",
         "orientation": "v",
         "showlegend": true,
         "type": "scatter",
         "x": [
          177082
         ],
         "xaxis": "x",
         "y": [
          492838
         ],
         "yaxis": "y"
        },
        {
         "hovertemplate": "geo=Czech Republic<br>time_period=2020<br>all_cars_diff=%{x}<br>emmission_diff=%{y}<extra></extra>",
         "legendgroup": "Czech Republic, 2020",
         "marker": {
          "color": "#19d3f3",
          "symbol": "circle"
         },
         "mode": "markers",
         "name": "Czech Republic, 2020",
         "orientation": "v",
         "showlegend": true,
         "type": "scatter",
         "x": [
          124260
         ],
         "xaxis": "x",
         "y": [
          -8007827.600000009
         ],
         "yaxis": "y"
        },
        {
         "hovertemplate": "geo=Czech Republic<br>time_period=2021<br>all_cars_diff=%{x}<br>emmission_diff=%{y}<extra></extra>",
         "legendgroup": "Czech Republic, 2021",
         "marker": {
          "color": "#19d3f3",
          "symbol": "diamond"
         },
         "mode": "markers",
         "name": "Czech Republic, 2021",
         "orientation": "v",
         "showlegend": true,
         "type": "scatter",
         "x": [
          39475
         ],
         "xaxis": "x",
         "y": [
          1888339.600000009
         ],
         "yaxis": "y"
        },
        {
         "hovertemplate": "geo=Czech Republic<br>time_period=2022<br>all_cars_diff=%{x}<br>emmission_diff=%{y}<extra></extra>",
         "legendgroup": "Czech Republic, 2022",
         "marker": {
          "color": "#19d3f3",
          "symbol": "square"
         },
         "mode": "markers",
         "name": "Czech Republic, 2022",
         "orientation": "v",
         "showlegend": true,
         "type": "scatter",
         "x": [
          217204
         ],
         "xaxis": "x",
         "y": [
          -6047572.200000003
         ],
         "yaxis": "y"
        },
        {
         "hovertemplate": "geo=Denmark<br>time_period=2015<br>all_cars_diff=%{x}<br>emmission_diff=%{y}<extra></extra>",
         "legendgroup": "Denmark, 2015",
         "marker": {
          "color": "#FF6692",
          "symbol": "circle"
         },
         "mode": "markers",
         "name": "Denmark, 2015",
         "orientation": "v",
         "showlegend": true,
         "type": "scatter",
         "x": [
          71616
         ],
         "xaxis": "x",
         "y": [
          -3640248.500000008
         ],
         "yaxis": "y"
        },
        {
         "hovertemplate": "geo=Denmark<br>time_period=2016<br>all_cars_diff=%{x}<br>emmission_diff=%{y}<extra></extra>",
         "legendgroup": "Denmark, 2016",
         "marker": {
          "color": "#FF6692",
          "symbol": "diamond"
         },
         "mode": "markers",
         "name": "Denmark, 2016",
         "orientation": "v",
         "showlegend": true,
         "type": "scatter",
         "x": [
          74711
         ],
         "xaxis": "x",
         "y": [
          3290956.700000003
         ],
         "yaxis": "y"
        },
        {
         "hovertemplate": "geo=Denmark<br>time_period=2017<br>all_cars_diff=%{x}<br>emmission_diff=%{y}<extra></extra>",
         "legendgroup": "Denmark, 2017",
         "marker": {
          "color": "#FF6692",
          "symbol": "square"
         },
         "mode": "markers",
         "name": "Denmark, 2017",
         "orientation": "v",
         "showlegend": true,
         "type": "scatter",
         "x": [
          64518
         ],
         "xaxis": "x",
         "y": [
          -2471659.8999999985
         ],
         "yaxis": "y"
        },
        {
         "hovertemplate": "geo=Denmark<br>time_period=2018<br>all_cars_diff=%{x}<br>emmission_diff=%{y}<extra></extra>",
         "legendgroup": "Denmark, 2018",
         "marker": {
          "color": "#FF6692",
          "symbol": "x"
         },
         "mode": "markers",
         "name": "Denmark, 2018",
         "orientation": "v",
         "showlegend": true,
         "type": "scatter",
         "x": [
          64430
         ],
         "xaxis": "x",
         "y": [
          1454511.200000003
         ],
         "yaxis": "y"
        },
        {
         "hovertemplate": "geo=Denmark<br>time_period=2019<br>all_cars_diff=%{x}<br>emmission_diff=%{y}<extra></extra>",
         "legendgroup": "Denmark, 2019",
         "marker": {
          "color": "#FF6692",
          "symbol": "cross"
         },
         "mode": "markers",
         "name": "Denmark, 2019",
         "orientation": "v",
         "showlegend": true,
         "type": "scatter",
         "x": [
          57259
         ],
         "xaxis": "x",
         "y": [
          -4410889.399999999
         ],
         "yaxis": "y"
        },
        {
         "hovertemplate": "geo=Denmark<br>time_period=2020<br>all_cars_diff=%{x}<br>emmission_diff=%{y}<extra></extra>",
         "legendgroup": "Denmark, 2020",
         "marker": {
          "color": "#FF6692",
          "symbol": "circle"
         },
         "mode": "markers",
         "name": "Denmark, 2020",
         "orientation": "v",
         "showlegend": true,
         "type": "scatter",
         "x": [
          71871
         ],
         "xaxis": "x",
         "y": [
          -5097021.5
         ],
         "yaxis": "y"
        },
        {
         "hovertemplate": "geo=Denmark<br>time_period=2021<br>all_cars_diff=%{x}<br>emmission_diff=%{y}<extra></extra>",
         "legendgroup": "Denmark, 2021",
         "marker": {
          "color": "#FF6692",
          "symbol": "diamond"
         },
         "mode": "markers",
         "name": "Denmark, 2021",
         "orientation": "v",
         "showlegend": true,
         "type": "scatter",
         "x": [
          63941
         ],
         "xaxis": "x",
         "y": [
          133071.3999999985
         ],
         "yaxis": "y"
        },
        {
         "hovertemplate": "geo=Denmark<br>time_period=2022<br>all_cars_diff=%{x}<br>emmission_diff=%{y}<extra></extra>",
         "legendgroup": "Denmark, 2022",
         "marker": {
          "color": "#FF6692",
          "symbol": "square"
         },
         "mode": "markers",
         "name": "Denmark, 2022",
         "orientation": "v",
         "showlegend": true,
         "type": "scatter",
         "x": [
          13523
         ],
         "xaxis": "x",
         "y": [
          -1505038.5
         ],
         "yaxis": "y"
        },
        {
         "hovertemplate": "geo=Estonia<br>time_period=2015<br>all_cars_diff=%{x}<br>emmission_diff=%{y}<extra></extra>",
         "legendgroup": "Estonia, 2015",
         "marker": {
          "color": "#B6E880",
          "symbol": "circle"
         },
         "mode": "markers",
         "name": "Estonia, 2015",
         "orientation": "v",
         "showlegend": true,
         "type": "scatter",
         "x": [
          23646
         ],
         "xaxis": "x",
         "y": [
          -2513721.6999999997
         ],
         "yaxis": "y"
        },
        {
         "hovertemplate": "geo=Estonia<br>time_period=2016<br>all_cars_diff=%{x}<br>emmission_diff=%{y}<extra></extra>",
         "legendgroup": "Estonia, 2016",
         "marker": {
          "color": "#B6E880",
          "symbol": "diamond"
         },
         "mode": "markers",
         "name": "Estonia, 2016",
         "orientation": "v",
         "showlegend": true,
         "type": "scatter",
         "x": [
          26555
         ],
         "xaxis": "x",
         "y": [
          2647353.5999999978
         ],
         "yaxis": "y"
        },
        {
         "hovertemplate": "geo=Estonia<br>time_period=2017<br>all_cars_diff=%{x}<br>emmission_diff=%{y}<extra></extra>",
         "legendgroup": "Estonia, 2017",
         "marker": {
          "color": "#B6E880",
          "symbol": "square"
         },
         "mode": "markers",
         "name": "Estonia, 2017",
         "orientation": "v",
         "showlegend": true,
         "type": "scatter",
         "x": [
          22793
         ],
         "xaxis": "x",
         "y": [
          1047440.4000000022
         ],
         "yaxis": "y"
        },
        {
         "hovertemplate": "geo=Estonia<br>time_period=2018<br>all_cars_diff=%{x}<br>emmission_diff=%{y}<extra></extra>",
         "legendgroup": "Estonia, 2018",
         "marker": {
          "color": "#B6E880",
          "symbol": "x"
         },
         "mode": "markers",
         "name": "Estonia, 2018",
         "orientation": "v",
         "showlegend": true,
         "type": "scatter",
         "x": [
          20520
         ],
         "xaxis": "x",
         "y": [
          983558.6999999993
         ],
         "yaxis": "y"
        },
        {
         "hovertemplate": "geo=Estonia<br>time_period=2019<br>all_cars_diff=%{x}<br>emmission_diff=%{y}<extra></extra>",
         "legendgroup": "Estonia, 2019",
         "marker": {
          "color": "#B6E880",
          "symbol": "cross"
         },
         "mode": "markers",
         "name": "Estonia, 2019",
         "orientation": "v",
         "showlegend": true,
         "type": "scatter",
         "x": [
          48462
         ],
         "xaxis": "x",
         "y": [
          -5594928.699999999
         ],
         "yaxis": "y"
        },
        {
         "hovertemplate": "geo=Estonia<br>time_period=2020<br>all_cars_diff=%{x}<br>emmission_diff=%{y}<extra></extra>",
         "legendgroup": "Estonia, 2020",
         "marker": {
          "color": "#B6E880",
          "symbol": "circle"
         },
         "mode": "markers",
         "name": "Estonia, 2020",
         "orientation": "v",
         "showlegend": true,
         "type": "scatter",
         "x": [
          13763
         ],
         "xaxis": "x",
         "y": [
          -5392280
         ],
         "yaxis": "y"
        },
        {
         "hovertemplate": "geo=Estonia<br>time_period=2021<br>all_cars_diff=%{x}<br>emmission_diff=%{y}<extra></extra>",
         "legendgroup": "Estonia, 2021",
         "marker": {
          "color": "#B6E880",
          "symbol": "diamond"
         },
         "mode": "markers",
         "name": "Estonia, 2021",
         "orientation": "v",
         "showlegend": true,
         "type": "scatter",
         "x": [
          17247
         ],
         "xaxis": "x",
         "y": [
          941421.5999999996
         ],
         "yaxis": "y"
        },
        {
         "hovertemplate": "geo=Estonia<br>time_period=2022<br>all_cars_diff=%{x}<br>emmission_diff=%{y}<extra></extra>",
         "legendgroup": "Estonia, 2022",
         "marker": {
          "color": "#B6E880",
          "symbol": "square"
         },
         "mode": "markers",
         "name": "Estonia, 2022",
         "orientation": "v",
         "showlegend": true,
         "type": "scatter",
         "x": [
          23358
         ],
         "xaxis": "x",
         "y": [
          683523.5999999996
         ],
         "yaxis": "y"
        },
        {
         "hovertemplate": "geo=European Union<br>time_period=2015<br>all_cars_diff=%{x}<br>emmission_diff=%{y}<extra></extra>",
         "legendgroup": "European Union, 2015",
         "marker": {
          "color": "#FF97FF",
          "symbol": "circle"
         },
         "mode": "markers",
         "name": "European Union, 2015",
         "orientation": "v",
         "showlegend": true,
         "type": "scatter",
         "x": [
          1334253
         ],
         "xaxis": "x",
         "y": [
          49450950.69999981
         ],
         "yaxis": "y"
        },
        {
         "hovertemplate": "geo=European Union<br>time_period=2016<br>all_cars_diff=%{x}<br>emmission_diff=%{y}<extra></extra>",
         "legendgroup": "European Union, 2016",
         "marker": {
          "color": "#FF97FF",
          "symbol": "diamond"
         },
         "mode": "markers",
         "name": "European Union, 2016",
         "orientation": "v",
         "showlegend": true,
         "type": "scatter",
         "x": [
          5725633
         ],
         "xaxis": "x",
         "y": [
          8722047.599999905
         ],
         "yaxis": "y"
        },
        {
         "hovertemplate": "geo=European Union<br>time_period=2017<br>all_cars_diff=%{x}<br>emmission_diff=%{y}<extra></extra>",
         "legendgroup": "European Union, 2017",
         "marker": {
          "color": "#FF97FF",
          "symbol": "square"
         },
         "mode": "markers",
         "name": "European Union, 2017",
         "orientation": "v",
         "showlegend": true,
         "type": "scatter",
         "x": [
          4670723
         ],
         "xaxis": "x",
         "y": [
          94339524.40000056
         ],
         "yaxis": "y"
        },
        {
         "hovertemplate": "geo=European Union<br>time_period=2018<br>all_cars_diff=%{x}<br>emmission_diff=%{y}<extra></extra>",
         "legendgroup": "European Union, 2018",
         "marker": {
          "color": "#FF97FF",
          "symbol": "x"
         },
         "mode": "markers",
         "name": "European Union, 2018",
         "orientation": "v",
         "showlegend": true,
         "type": "scatter",
         "x": [
          4361995
         ],
         "xaxis": "x",
         "y": [
          -83816101.60000038
         ],
         "yaxis": "y"
        },
        {
         "hovertemplate": "geo=European Union<br>time_period=2019<br>all_cars_diff=%{x}<br>emmission_diff=%{y}<extra></extra>",
         "legendgroup": "European Union, 2019",
         "marker": {
          "color": "#FF97FF",
          "symbol": "cross"
         },
         "mode": "markers",
         "name": "European Union, 2019",
         "orientation": "v",
         "showlegend": true,
         "type": "scatter",
         "x": [
          4440310
         ],
         "xaxis": "x",
         "y": [
          -126966882.9000001
         ],
         "yaxis": "y"
        },
        {
         "hovertemplate": "geo=European Union<br>time_period=2020<br>all_cars_diff=%{x}<br>emmission_diff=%{y}<extra></extra>",
         "legendgroup": "European Union, 2020",
         "marker": {
          "color": "#FF97FF",
          "symbol": "circle"
         },
         "mode": "markers",
         "name": "European Union, 2020",
         "orientation": "v",
         "showlegend": true,
         "type": "scatter",
         "x": [
          2805794
         ],
         "xaxis": "x",
         "y": [
          -350748706.1999998
         ],
         "yaxis": "y"
        },
        {
         "hovertemplate": "geo=European Union<br>time_period=2021<br>all_cars_diff=%{x}<br>emmission_diff=%{y}<extra></extra>",
         "legendgroup": "European Union, 2021",
         "marker": {
          "color": "#FF97FF",
          "symbol": "diamond"
         },
         "mode": "markers",
         "name": "European Union, 2021",
         "orientation": "v",
         "showlegend": true,
         "type": "scatter",
         "x": [
          2590834
         ],
         "xaxis": "x",
         "y": [
          170347610.8000002
         ],
         "yaxis": "y"
        },
        {
         "hovertemplate": "geo=European Union<br>time_period=2022<br>all_cars_diff=%{x}<br>emmission_diff=%{y}<extra></extra>",
         "legendgroup": "European Union, 2022",
         "marker": {
          "color": "#FF97FF",
          "symbol": "square"
         },
         "mode": "markers",
         "name": "European Union, 2022",
         "orientation": "v",
         "showlegend": true,
         "type": "scatter",
         "x": [
          2365349
         ],
         "xaxis": "x",
         "y": [
          -44843980.60000038
         ],
         "yaxis": "y"
        },
        {
         "hovertemplate": "geo=Finland<br>time_period=2015<br>all_cars_diff=%{x}<br>emmission_diff=%{y}<extra></extra>",
         "legendgroup": "Finland, 2015",
         "marker": {
          "color": "#FECB52",
          "symbol": "circle"
         },
         "mode": "markers",
         "name": "Finland, 2015",
         "orientation": "v",
         "showlegend": true,
         "type": "scatter",
         "x": [
          62125
         ],
         "xaxis": "x",
         "y": [
          1254118
         ],
         "yaxis": "y"
        },
        {
         "hovertemplate": "geo=Finland<br>time_period=2016<br>all_cars_diff=%{x}<br>emmission_diff=%{y}<extra></extra>",
         "legendgroup": "Finland, 2016",
         "marker": {
          "color": "#FECB52",
          "symbol": "diamond"
         },
         "mode": "markers",
         "name": "Finland, 2016",
         "orientation": "v",
         "showlegend": true,
         "type": "scatter",
         "x": [
          87812
         ],
         "xaxis": "x",
         "y": [
          6709209.599999994
         ],
         "yaxis": "y"
        },
        {
         "hovertemplate": "geo=Finland<br>time_period=2017<br>all_cars_diff=%{x}<br>emmission_diff=%{y}<extra></extra>",
         "legendgroup": "Finland, 2017",
         "marker": {
          "color": "#FECB52",
          "symbol": "square"
         },
         "mode": "markers",
         "name": "Finland, 2017",
         "orientation": "v",
         "showlegend": true,
         "type": "scatter",
         "x": [
          76265
         ],
         "xaxis": "x",
         "y": [
          -403230.8999999985
         ],
         "yaxis": "y"
        },
        {
         "hovertemplate": "geo=Finland<br>time_period=2018<br>all_cars_diff=%{x}<br>emmission_diff=%{y}<extra></extra>",
         "legendgroup": "Finland, 2018",
         "marker": {
          "color": "#FECB52",
          "symbol": "x"
         },
         "mode": "markers",
         "name": "Finland, 2018",
         "orientation": "v",
         "showlegend": true,
         "type": "scatter",
         "x": [
          71570
         ],
         "xaxis": "x",
         "y": [
          10564427.300000004
         ],
         "yaxis": "y"
        },
        {
         "hovertemplate": "geo=Finland<br>time_period=2019<br>all_cars_diff=%{x}<br>emmission_diff=%{y}<extra></extra>",
         "legendgroup": "Finland, 2019",
         "marker": {
          "color": "#FECB52",
          "symbol": "cross"
         },
         "mode": "markers",
         "name": "Finland, 2019",
         "orientation": "v",
         "showlegend": true,
         "type": "scatter",
         "x": [
          79296
         ],
         "xaxis": "x",
         "y": [
          -8775991.399999999
         ],
         "yaxis": "y"
        },
        {
         "hovertemplate": "geo=Finland<br>time_period=2020<br>all_cars_diff=%{x}<br>emmission_diff=%{y}<extra></extra>",
         "legendgroup": "Finland, 2020",
         "marker": {
          "color": "#FECB52",
          "symbol": "circle"
         },
         "mode": "markers",
         "name": "Finland, 2020",
         "orientation": "v",
         "showlegend": true,
         "type": "scatter",
         "x": [
          57728
         ],
         "xaxis": "x",
         "y": [
          -8771161
         ],
         "yaxis": "y"
        },
        {
         "hovertemplate": "geo=Finland<br>time_period=2021<br>all_cars_diff=%{x}<br>emmission_diff=%{y}<extra></extra>",
         "legendgroup": "Finland, 2021",
         "marker": {
          "color": "#FECB52",
          "symbol": "diamond"
         },
         "mode": "markers",
         "name": "Finland, 2021",
         "orientation": "v",
         "showlegend": true,
         "type": "scatter",
         "x": [
          34001
         ],
         "xaxis": "x",
         "y": [
          8920376.600000001
         ],
         "yaxis": "y"
        },
        {
         "hovertemplate": "geo=Finland<br>time_period=2022<br>all_cars_diff=%{x}<br>emmission_diff=%{y}<extra></extra>",
         "legendgroup": "Finland, 2022",
         "marker": {
          "color": "#FECB52",
          "symbol": "square"
         },
         "mode": "markers",
         "name": "Finland, 2022",
         "orientation": "v",
         "showlegend": true,
         "type": "scatter",
         "x": [
          32218
         ],
         "xaxis": "x",
         "y": [
          -419012.8999999985
         ],
         "yaxis": "y"
        },
        {
         "hovertemplate": "geo=France<br>time_period=2015<br>all_cars_diff=%{x}<br>emmission_diff=%{y}<extra></extra>",
         "legendgroup": "France, 2015",
         "marker": {
          "color": "#636efa",
          "symbol": "circle"
         },
         "mode": "markers",
         "name": "France, 2015",
         "orientation": "v",
         "showlegend": true,
         "type": "scatter",
         "x": [
          532218
         ],
         "xaxis": "x",
         "y": [
          8515722.5
         ],
         "yaxis": "y"
        },
        {
         "hovertemplate": "geo=France<br>time_period=2016<br>all_cars_diff=%{x}<br>emmission_diff=%{y}<extra></extra>",
         "legendgroup": "France, 2016",
         "marker": {
          "color": "#636efa",
          "symbol": "diamond"
         },
         "mode": "markers",
         "name": "France, 2016",
         "orientation": "v",
         "showlegend": true,
         "type": "scatter",
         "x": [
          493375
         ],
         "xaxis": "x",
         "y": [
          7835386.099999964
         ],
         "yaxis": "y"
        },
        {
         "hovertemplate": "geo=France<br>time_period=2017<br>all_cars_diff=%{x}<br>emmission_diff=%{y}<extra></extra>",
         "legendgroup": "France, 2017",
         "marker": {
          "color": "#636efa",
          "symbol": "square"
         },
         "mode": "markers",
         "name": "France, 2017",
         "orientation": "v",
         "showlegend": true,
         "type": "scatter",
         "x": [
          444187
         ],
         "xaxis": "x",
         "y": [
          14493368.200000048
         ],
         "yaxis": "y"
        },
        {
         "hovertemplate": "geo=France<br>time_period=2018<br>all_cars_diff=%{x}<br>emmission_diff=%{y}<extra></extra>",
         "legendgroup": "France, 2018",
         "marker": {
          "color": "#636efa",
          "symbol": "x"
         },
         "mode": "markers",
         "name": "France, 2018",
         "orientation": "v",
         "showlegend": true,
         "type": "scatter",
         "x": [
          111642
         ],
         "xaxis": "x",
         "y": [
          -25338915.199999988
         ],
         "yaxis": "y"
        },
        {
         "hovertemplate": "geo=France<br>time_period=2019<br>all_cars_diff=%{x}<br>emmission_diff=%{y}<extra></extra>",
         "legendgroup": "France, 2019",
         "marker": {
          "color": "#636efa",
          "symbol": "cross"
         },
         "mode": "markers",
         "name": "France, 2019",
         "orientation": "v",
         "showlegend": true,
         "type": "scatter",
         "x": [
          191913
         ],
         "xaxis": "x",
         "y": [
          1691180.800000012
         ],
         "yaxis": "y"
        },
        {
         "hovertemplate": "geo=France<br>time_period=2020<br>all_cars_diff=%{x}<br>emmission_diff=%{y}<extra></extra>",
         "legendgroup": "France, 2020",
         "marker": {
          "color": "#636efa",
          "symbol": "circle"
         },
         "mode": "markers",
         "name": "France, 2020",
         "orientation": "v",
         "showlegend": true,
         "type": "scatter",
         "x": [
          46425
         ],
         "xaxis": "x",
         "y": [
          -52806568.80000007
         ],
         "yaxis": "y"
        },
        {
         "hovertemplate": "geo=France<br>time_period=2021<br>all_cars_diff=%{x}<br>emmission_diff=%{y}<extra></extra>",
         "legendgroup": "France, 2021",
         "marker": {
          "color": "#636efa",
          "symbol": "diamond"
         },
         "mode": "markers",
         "name": "France, 2021",
         "orientation": "v",
         "showlegend": true,
         "type": "scatter",
         "x": [
          347016
         ],
         "xaxis": "x",
         "y": [
          21746105.600000083
         ],
         "yaxis": "y"
        },
        {
         "hovertemplate": "geo=France<br>time_period=2022<br>all_cars_diff=%{x}<br>emmission_diff=%{y}<extra></extra>",
         "legendgroup": "France, 2022",
         "marker": {
          "color": "#636efa",
          "symbol": "square"
         },
         "mode": "markers",
         "name": "France, 2022",
         "orientation": "v",
         "showlegend": true,
         "type": "scatter",
         "x": [
          41833
         ],
         "xaxis": "x",
         "y": [
          -12243349.100000024
         ],
         "yaxis": "y"
        },
        {
         "hovertemplate": "geo=Germany<br>time_period=2015<br>all_cars_diff=%{x}<br>emmission_diff=%{y}<extra></extra>",
         "legendgroup": "Germany, 2015",
         "marker": {
          "color": "#EF553B",
          "symbol": "circle"
         },
         "mode": "markers",
         "name": "Germany, 2015",
         "orientation": "v",
         "showlegend": true,
         "type": "scatter",
         "x": [
          668000
         ],
         "xaxis": "x",
         "y": [
          4816828.800000072
         ],
         "yaxis": "y"
        },
        {
         "hovertemplate": "geo=Germany<br>time_period=2016<br>all_cars_diff=%{x}<br>emmission_diff=%{y}<extra></extra>",
         "legendgroup": "Germany, 2016",
         "marker": {
          "color": "#EF553B",
          "symbol": "diamond"
         },
         "mode": "markers",
         "name": "Germany, 2016",
         "orientation": "v",
         "showlegend": true,
         "type": "scatter",
         "x": [
          732560
         ],
         "xaxis": "x",
         "y": [
          2737678
         ],
         "yaxis": "y"
        },
        {
         "hovertemplate": "geo=Germany<br>time_period=2017<br>all_cars_diff=%{x}<br>emmission_diff=%{y}<extra></extra>",
         "legendgroup": "Germany, 2017",
         "marker": {
          "color": "#EF553B",
          "symbol": "square"
         },
         "mode": "markers",
         "name": "Germany, 2017",
         "orientation": "v",
         "showlegend": true,
         "type": "scatter",
         "x": [
          671034
         ],
         "xaxis": "x",
         "y": [
          -12664074.699999928
         ],
         "yaxis": "y"
        },
        {
         "hovertemplate": "geo=Germany<br>time_period=2018<br>all_cars_diff=%{x}<br>emmission_diff=%{y}<extra></extra>",
         "legendgroup": "Germany, 2018",
         "marker": {
          "color": "#EF553B",
          "symbol": "x"
         },
         "mode": "markers",
         "name": "Germany, 2018",
         "orientation": "v",
         "showlegend": true,
         "type": "scatter",
         "x": [
          621190
         ],
         "xaxis": "x",
         "y": [
          -21887097.100000024
         ],
         "yaxis": "y"
        },
        {
         "hovertemplate": "geo=Germany<br>time_period=2019<br>all_cars_diff=%{x}<br>emmission_diff=%{y}<extra></extra>",
         "legendgroup": "Germany, 2019",
         "marker": {
          "color": "#EF553B",
          "symbol": "cross"
         },
         "mode": "markers",
         "name": "Germany, 2019",
         "orientation": "v",
         "showlegend": true,
         "type": "scatter",
         "x": [
          620193
         ],
         "xaxis": "x",
         "y": [
          -55708711.899999976
         ],
         "yaxis": "y"
        },
        {
         "hovertemplate": "geo=Germany<br>time_period=2020<br>all_cars_diff=%{x}<br>emmission_diff=%{y}<extra></extra>",
         "legendgroup": "Germany, 2020",
         "marker": {
          "color": "#EF553B",
          "symbol": "circle"
         },
         "mode": "markers",
         "name": "Germany, 2020",
         "orientation": "v",
         "showlegend": true,
         "type": "scatter",
         "x": [
          532607
         ],
         "xaxis": "x",
         "y": [
          -73389809.70000005
         ],
         "yaxis": "y"
        },
        {
         "hovertemplate": "geo=Germany<br>time_period=2021<br>all_cars_diff=%{x}<br>emmission_diff=%{y}<extra></extra>",
         "legendgroup": "Germany, 2021",
         "marker": {
          "color": "#EF553B",
          "symbol": "diamond"
         },
         "mode": "markers",
         "name": "Germany, 2021",
         "orientation": "v",
         "showlegend": true,
         "type": "scatter",
         "x": [
          292294
         ],
         "xaxis": "x",
         "y": [
          33156892.399999976
         ],
         "yaxis": "y"
        },
        {
         "hovertemplate": "geo=Germany<br>time_period=2022<br>all_cars_diff=%{x}<br>emmission_diff=%{y}<extra></extra>",
         "legendgroup": "Germany, 2022",
         "marker": {
          "color": "#EF553B",
          "symbol": "square"
         },
         "mode": "markers",
         "name": "Germany, 2022",
         "orientation": "v",
         "showlegend": true,
         "type": "scatter",
         "x": [
          222158
         ],
         "xaxis": "x",
         "y": [
          -7552038.199999928
         ],
         "yaxis": "y"
        },
        {
         "hovertemplate": "geo=Greece<br>time_period=2015<br>all_cars_diff=%{x}<br>emmission_diff=%{y}<extra></extra>",
         "legendgroup": "Greece, 2015",
         "marker": {
          "color": "#00cc96",
          "symbol": "circle"
         },
         "mode": "markers",
         "name": "Greece, 2015",
         "orientation": "v",
         "showlegend": true,
         "type": "scatter",
         "x": [
          -3253
         ],
         "xaxis": "x",
         "y": [
          -7161427.399999991
         ],
         "yaxis": "y"
        },
        {
         "hovertemplate": "geo=Greece<br>time_period=2016<br>all_cars_diff=%{x}<br>emmission_diff=%{y}<extra></extra>",
         "legendgroup": "Greece, 2016",
         "marker": {
          "color": "#00cc96",
          "symbol": "diamond"
         },
         "mode": "markers",
         "name": "Greece, 2016",
         "orientation": "v",
         "showlegend": true,
         "type": "scatter",
         "x": [
          52436
         ],
         "xaxis": "x",
         "y": [
          -3888700.400000006
         ],
         "yaxis": "y"
        },
        {
         "hovertemplate": "geo=Greece<br>time_period=2017<br>all_cars_diff=%{x}<br>emmission_diff=%{y}<extra></extra>",
         "legendgroup": "Greece, 2017",
         "marker": {
          "color": "#00cc96",
          "symbol": "square"
         },
         "mode": "markers",
         "name": "Greece, 2017",
         "orientation": "v",
         "showlegend": true,
         "type": "scatter",
         "x": [
          75872
         ],
         "xaxis": "x",
         "y": [
          4175059.700000003
         ],
         "yaxis": "y"
        },
        {
         "hovertemplate": "geo=Greece<br>time_period=2018<br>all_cars_diff=%{x}<br>emmission_diff=%{y}<extra></extra>",
         "legendgroup": "Greece, 2018",
         "marker": {
          "color": "#00cc96",
          "symbol": "x"
         },
         "mode": "markers",
         "name": "Greece, 2018",
         "orientation": "v",
         "showlegend": true,
         "type": "scatter",
         "x": [
          46767
         ],
         "xaxis": "x",
         "y": [
          -3462898.700000003
         ],
         "yaxis": "y"
        },
        {
         "hovertemplate": "geo=Greece<br>time_period=2019<br>all_cars_diff=%{x}<br>emmission_diff=%{y}<extra></extra>",
         "legendgroup": "Greece, 2019",
         "marker": {
          "color": "#00cc96",
          "symbol": "cross"
         },
         "mode": "markers",
         "name": "Greece, 2019",
         "orientation": "v",
         "showlegend": true,
         "type": "scatter",
         "x": [
          123856
         ],
         "xaxis": "x",
         "y": [
          -7649686.899999991
         ],
         "yaxis": "y"
        },
        {
         "hovertemplate": "geo=Greece<br>time_period=2020<br>all_cars_diff=%{x}<br>emmission_diff=%{y}<extra></extra>",
         "legendgroup": "Greece, 2020",
         "marker": {
          "color": "#00cc96",
          "symbol": "circle"
         },
         "mode": "markers",
         "name": "Greece, 2020",
         "orientation": "v",
         "showlegend": true,
         "type": "scatter",
         "x": [
          85625
         ],
         "xaxis": "x",
         "y": [
          -12909946.600000007
         ],
         "yaxis": "y"
        },
        {
         "hovertemplate": "geo=Greece<br>time_period=2021<br>all_cars_diff=%{x}<br>emmission_diff=%{y}<extra></extra>",
         "legendgroup": "Greece, 2021",
         "marker": {
          "color": "#00cc96",
          "symbol": "diamond"
         },
         "mode": "markers",
         "name": "Greece, 2021",
         "orientation": "v",
         "showlegend": true,
         "type": "scatter",
         "x": [
          112016
         ],
         "xaxis": "x",
         "y": [
          4003901.700000003
         ],
         "yaxis": "y"
        },
        {
         "hovertemplate": "geo=Greece<br>time_period=2022<br>all_cars_diff=%{x}<br>emmission_diff=%{y}<extra></extra>",
         "legendgroup": "Greece, 2022",
         "marker": {
          "color": "#00cc96",
          "symbol": "square"
         },
         "mode": "markers",
         "name": "Greece, 2022",
         "orientation": "v",
         "showlegend": true,
         "type": "scatter",
         "x": [
          121820
         ],
         "xaxis": "x",
         "y": [
          1584099.599999994
         ],
         "yaxis": "y"
        },
        {
         "hovertemplate": "geo=Hungary<br>time_period=2015<br>all_cars_diff=%{x}<br>emmission_diff=%{y}<extra></extra>",
         "legendgroup": "Hungary, 2015",
         "marker": {
          "color": "#ab63fa",
          "symbol": "circle"
         },
         "mode": "markers",
         "name": "Hungary, 2015",
         "orientation": "v",
         "showlegend": true,
         "type": "scatter",
         "x": [
          89161
         ],
         "xaxis": "x",
         "y": [
          2755782.8999999985
         ],
         "yaxis": "y"
        },
        {
         "hovertemplate": "geo=Hungary<br>time_period=2016<br>all_cars_diff=%{x}<br>emmission_diff=%{y}<extra></extra>",
         "legendgroup": "Hungary, 2016",
         "marker": {
          "color": "#ab63fa",
          "symbol": "diamond"
         },
         "mode": "markers",
         "name": "Hungary, 2016",
         "orientation": "v",
         "showlegend": true,
         "type": "scatter",
         "x": [
          116350
         ],
         "xaxis": "x",
         "y": [
          1745935.6000000015
         ],
         "yaxis": "y"
        },
        {
         "hovertemplate": "geo=Hungary<br>time_period=2017<br>all_cars_diff=%{x}<br>emmission_diff=%{y}<extra></extra>",
         "legendgroup": "Hungary, 2017",
         "marker": {
          "color": "#ab63fa",
          "symbol": "square"
         },
         "mode": "markers",
         "name": "Hungary, 2017",
         "orientation": "v",
         "showlegend": true,
         "type": "scatter",
         "x": [
          158791
         ],
         "xaxis": "x",
         "y": [
          1709201.3999999985
         ],
         "yaxis": "y"
        },
        {
         "hovertemplate": "geo=Hungary<br>time_period=2018<br>all_cars_diff=%{x}<br>emmission_diff=%{y}<extra></extra>",
         "legendgroup": "Hungary, 2018",
         "marker": {
          "color": "#ab63fa",
          "symbol": "x"
         },
         "mode": "markers",
         "name": "Hungary, 2018",
         "orientation": "v",
         "showlegend": true,
         "type": "scatter",
         "x": [
          169826
         ],
         "xaxis": "x",
         "y": [
          808913.1000000015
         ],
         "yaxis": "y"
        },
        {
         "hovertemplate": "geo=Hungary<br>time_period=2019<br>all_cars_diff=%{x}<br>emmission_diff=%{y}<extra></extra>",
         "legendgroup": "Hungary, 2019",
         "marker": {
          "color": "#ab63fa",
          "symbol": "cross"
         },
         "mode": "markers",
         "name": "Hungary, 2019",
         "orientation": "v",
         "showlegend": true,
         "type": "scatter",
         "x": [
          170190
         ],
         "xaxis": "x",
         "y": [
          -1054340.1000000015
         ],
         "yaxis": "y"
        },
        {
         "hovertemplate": "geo=Hungary<br>time_period=2020<br>all_cars_diff=%{x}<br>emmission_diff=%{y}<extra></extra>",
         "legendgroup": "Hungary, 2020",
         "marker": {
          "color": "#ab63fa",
          "symbol": "circle"
         },
         "mode": "markers",
         "name": "Hungary, 2020",
         "orientation": "v",
         "showlegend": true,
         "type": "scatter",
         "x": [
          108786
         ],
         "xaxis": "x",
         "y": [
          -3943305.6000000015
         ],
         "yaxis": "y"
        },
        {
         "hovertemplate": "geo=Hungary<br>time_period=2021<br>all_cars_diff=%{x}<br>emmission_diff=%{y}<extra></extra>",
         "legendgroup": "Hungary, 2021",
         "marker": {
          "color": "#ab63fa",
          "symbol": "diamond"
         },
         "mode": "markers",
         "name": "Hungary, 2021",
         "orientation": "v",
         "showlegend": true,
         "type": "scatter",
         "x": [
          99360
         ],
         "xaxis": "x",
         "y": [
          745239.1000000089
         ],
         "yaxis": "y"
        },
        {
         "hovertemplate": "geo=Hungary<br>time_period=2022<br>all_cars_diff=%{x}<br>emmission_diff=%{y}<extra></extra>",
         "legendgroup": "Hungary, 2022",
         "marker": {
          "color": "#ab63fa",
          "symbol": "square"
         },
         "mode": "markers",
         "name": "Hungary, 2022",
         "orientation": "v",
         "showlegend": true,
         "type": "scatter",
         "x": [
          73970
         ],
         "xaxis": "x",
         "y": [
          -3125363.100000009
         ],
         "yaxis": "y"
        },
        {
         "hovertemplate": "geo=Ireland<br>time_period=2015<br>all_cars_diff=%{x}<br>emmission_diff=%{y}<extra></extra>",
         "legendgroup": "Ireland, 2015",
         "marker": {
          "color": "#FFA15A",
          "symbol": "circle"
         },
         "mode": "markers",
         "name": "Ireland, 2015",
         "orientation": "v",
         "showlegend": true,
         "type": "scatter",
         "x": [
          41860
         ],
         "xaxis": "x",
         "y": [
          3359448.6999999955
         ],
         "yaxis": "y"
        },
        {
         "hovertemplate": "geo=Ireland<br>time_period=2016<br>all_cars_diff=%{x}<br>emmission_diff=%{y}<extra></extra>",
         "legendgroup": "Ireland, 2016",
         "marker": {
          "color": "#FFA15A",
          "symbol": "diamond"
         },
         "mode": "markers",
         "name": "Ireland, 2016",
         "orientation": "v",
         "showlegend": true,
         "type": "scatter",
         "x": [
          42550
         ],
         "xaxis": "x",
         "y": [
          1178184.099999994
         ],
         "yaxis": "y"
        },
        {
         "hovertemplate": "geo=Ireland<br>time_period=2017<br>all_cars_diff=%{x}<br>emmission_diff=%{y}<extra></extra>",
         "legendgroup": "Ireland, 2017",
         "marker": {
          "color": "#FFA15A",
          "symbol": "square"
         },
         "mode": "markers",
         "name": "Ireland, 2017",
         "orientation": "v",
         "showlegend": true,
         "type": "scatter",
         "x": [
          39670
         ],
         "xaxis": "x",
         "y": [
          2023748.000000015
         ],
         "yaxis": "y"
        },
        {
         "hovertemplate": "geo=Ireland<br>time_period=2018<br>all_cars_diff=%{x}<br>emmission_diff=%{y}<extra></extra>",
         "legendgroup": "Ireland, 2018",
         "marker": {
          "color": "#FFA15A",
          "symbol": "x"
         },
         "mode": "markers",
         "name": "Ireland, 2018",
         "orientation": "v",
         "showlegend": true,
         "type": "scatter",
         "x": [
          40530
         ],
         "xaxis": "x",
         "y": [
          -619395.1000000089
         ],
         "yaxis": "y"
        },
        {
         "hovertemplate": "geo=Ireland<br>time_period=2019<br>all_cars_diff=%{x}<br>emmission_diff=%{y}<extra></extra>",
         "legendgroup": "Ireland, 2019",
         "marker": {
          "color": "#FFA15A",
          "symbol": "cross"
         },
         "mode": "markers",
         "name": "Ireland, 2019",
         "orientation": "v",
         "showlegend": true,
         "type": "scatter",
         "x": [
          70290
         ],
         "xaxis": "x",
         "y": [
          -2231836.700000003
         ],
         "yaxis": "y"
        },
        {
         "hovertemplate": "geo=Ireland<br>time_period=2020<br>all_cars_diff=%{x}<br>emmission_diff=%{y}<extra></extra>",
         "legendgroup": "Ireland, 2020",
         "marker": {
          "color": "#FFA15A",
          "symbol": "circle"
         },
         "mode": "markers",
         "name": "Ireland, 2020",
         "orientation": "v",
         "showlegend": true,
         "type": "scatter",
         "x": [
          38730
         ],
         "xaxis": "x",
         "y": [
          -3513751.799999997
         ],
         "yaxis": "y"
        },
        {
         "hovertemplate": "geo=Ireland<br>time_period=2021<br>all_cars_diff=%{x}<br>emmission_diff=%{y}<extra></extra>",
         "legendgroup": "Ireland, 2021",
         "marker": {
          "color": "#FFA15A",
          "symbol": "diamond"
         },
         "mode": "markers",
         "name": "Ireland, 2021",
         "orientation": "v",
         "showlegend": true,
         "type": "scatter",
         "x": [
          17820
         ],
         "xaxis": "x",
         "y": [
          2220447.599999994
         ],
         "yaxis": "y"
        },
        {
         "hovertemplate": "geo=Ireland<br>time_period=2022<br>all_cars_diff=%{x}<br>emmission_diff=%{y}<extra></extra>",
         "legendgroup": "Ireland, 2022",
         "marker": {
          "color": "#FFA15A",
          "symbol": "square"
         },
         "mode": "markers",
         "name": "Ireland, 2022",
         "orientation": "v",
         "showlegend": true,
         "type": "scatter",
         "x": [
          25370
         ],
         "xaxis": "x",
         "y": [
          122613.40000000596
         ],
         "yaxis": "y"
        },
        {
         "hovertemplate": "geo=Italy<br>time_period=2015<br>all_cars_diff=%{x}<br>emmission_diff=%{y}<extra></extra>",
         "legendgroup": "Italy, 2015",
         "marker": {
          "color": "#19d3f3",
          "symbol": "circle"
         },
         "mode": "markers",
         "name": "Italy, 2015",
         "orientation": "v",
         "showlegend": true,
         "type": "scatter",
         "x": [
          270480
         ],
         "xaxis": "x",
         "y": [
          11726327.399999976
         ],
         "yaxis": "y"
        },
        {
         "hovertemplate": "geo=Italy<br>time_period=2016<br>all_cars_diff=%{x}<br>emmission_diff=%{y}<extra></extra>",
         "legendgroup": "Italy, 2016",
         "marker": {
          "color": "#19d3f3",
          "symbol": "diamond"
         },
         "mode": "markers",
         "name": "Italy, 2016",
         "orientation": "v",
         "showlegend": true,
         "type": "scatter",
         "x": [
          524905
         ],
         "xaxis": "x",
         "y": [
          -896138
         ],
         "yaxis": "y"
        },
        {
         "hovertemplate": "geo=Italy<br>time_period=2017<br>all_cars_diff=%{x}<br>emmission_diff=%{y}<extra></extra>",
         "legendgroup": "Italy, 2017",
         "marker": {
          "color": "#19d3f3",
          "symbol": "square"
         },
         "mode": "markers",
         "name": "Italy, 2017",
         "orientation": "v",
         "showlegend": true,
         "type": "scatter",
         "x": [
          644183
         ],
         "xaxis": "x",
         "y": [
          17360569.800000012
         ],
         "yaxis": "y"
        },
        {
         "hovertemplate": "geo=Italy<br>time_period=2018<br>all_cars_diff=%{x}<br>emmission_diff=%{y}<extra></extra>",
         "legendgroup": "Italy, 2018",
         "marker": {
          "color": "#19d3f3",
          "symbol": "x"
         },
         "mode": "markers",
         "name": "Italy, 2018",
         "orientation": "v",
         "showlegend": true,
         "type": "scatter",
         "x": [
          497849
         ],
         "xaxis": "x",
         "y": [
          -30884536
         ],
         "yaxis": "y"
        },
        {
         "hovertemplate": "geo=Italy<br>time_period=2019<br>all_cars_diff=%{x}<br>emmission_diff=%{y}<extra></extra>",
         "legendgroup": "Italy, 2019",
         "marker": {
          "color": "#19d3f3",
          "symbol": "cross"
         },
         "mode": "markers",
         "name": "Italy, 2019",
         "orientation": "v",
         "showlegend": true,
         "type": "scatter",
         "x": [
          527062
         ],
         "xaxis": "x",
         "y": [
          -799233.6000000238
         ],
         "yaxis": "y"
        },
        {
         "hovertemplate": "geo=Italy<br>time_period=2020<br>all_cars_diff=%{x}<br>emmission_diff=%{y}<extra></extra>",
         "legendgroup": "Italy, 2020",
         "marker": {
          "color": "#19d3f3",
          "symbol": "circle"
         },
         "mode": "markers",
         "name": "Italy, 2020",
         "orientation": "v",
         "showlegend": true,
         "type": "scatter",
         "x": [
          172642
         ],
         "xaxis": "x",
         "y": [
          -36941113.79999995
         ],
         "yaxis": "y"
        },
        {
         "hovertemplate": "geo=Italy<br>time_period=2021<br>all_cars_diff=%{x}<br>emmission_diff=%{y}<extra></extra>",
         "legendgroup": "Italy, 2021",
         "marker": {
          "color": "#19d3f3",
          "symbol": "diamond"
         },
         "mode": "markers",
         "name": "Italy, 2021",
         "orientation": "v",
         "showlegend": true,
         "type": "scatter",
         "x": [
          104849
         ],
         "xaxis": "x",
         "y": [
          39033699.10000002
         ],
         "yaxis": "y"
        },
        {
         "hovertemplate": "geo=Italy<br>time_period=2022<br>all_cars_diff=%{x}<br>emmission_diff=%{y}<extra></extra>",
         "legendgroup": "Italy, 2022",
         "marker": {
          "color": "#19d3f3",
          "symbol": "square"
         },
         "mode": "markers",
         "name": "Italy, 2022",
         "orientation": "v",
         "showlegend": true,
         "type": "scatter",
         "x": [
          390338
         ],
         "xaxis": "x",
         "y": [
          -1380736
         ],
         "yaxis": "y"
        },
        {
         "hovertemplate": "geo=Latvia<br>time_period=2015<br>all_cars_diff=%{x}<br>emmission_diff=%{y}<extra></extra>",
         "legendgroup": "Latvia, 2015",
         "marker": {
          "color": "#FF6692",
          "symbol": "circle"
         },
         "mode": "markers",
         "name": "Latvia, 2015",
         "orientation": "v",
         "showlegend": true,
         "type": "scatter",
         "x": [
          21249
         ],
         "xaxis": "x",
         "y": [
          -1290038.4000000022
         ],
         "yaxis": "y"
        },
        {
         "hovertemplate": "geo=Latvia<br>time_period=2016<br>all_cars_diff=%{x}<br>emmission_diff=%{y}<extra></extra>",
         "legendgroup": "Latvia, 2016",
         "marker": {
          "color": "#FF6692",
          "symbol": "diamond"
         },
         "mode": "markers",
         "name": "Latvia, 2016",
         "orientation": "v",
         "showlegend": true,
         "type": "scatter",
         "x": [
          -14871
         ],
         "xaxis": "x",
         "y": [
          -1871467.499999998
         ],
         "yaxis": "y"
        },
        {
         "hovertemplate": "geo=Latvia<br>time_period=2017<br>all_cars_diff=%{x}<br>emmission_diff=%{y}<extra></extra>",
         "legendgroup": "Latvia, 2017",
         "marker": {
          "color": "#FF6692",
          "symbol": "square"
         },
         "mode": "markers",
         "name": "Latvia, 2017",
         "orientation": "v",
         "showlegend": true,
         "type": "scatter",
         "x": [
          25359
         ],
         "xaxis": "x",
         "y": [
          -1262390.500000001
         ],
         "yaxis": "y"
        },
        {
         "hovertemplate": "geo=Latvia<br>time_period=2018<br>all_cars_diff=%{x}<br>emmission_diff=%{y}<extra></extra>",
         "legendgroup": "Latvia, 2018",
         "marker": {
          "color": "#FF6692",
          "symbol": "x"
         },
         "mode": "markers",
         "name": "Latvia, 2018",
         "orientation": "v",
         "showlegend": true,
         "type": "scatter",
         "x": [
          18305
         ],
         "xaxis": "x",
         "y": [
          3027337.3000000017
         ],
         "yaxis": "y"
        },
        {
         "hovertemplate": "geo=Latvia<br>time_period=2019<br>all_cars_diff=%{x}<br>emmission_diff=%{y}<extra></extra>",
         "legendgroup": "Latvia, 2019",
         "marker": {
          "color": "#FF6692",
          "symbol": "cross"
         },
         "mode": "markers",
         "name": "Latvia, 2019",
         "orientation": "v",
         "showlegend": true,
         "type": "scatter",
         "x": [
          19323
         ],
         "xaxis": "x",
         "y": [
          -1620999.3000000026
         ],
         "yaxis": "y"
        },
        {
         "hovertemplate": "geo=Latvia<br>time_period=2020<br>all_cars_diff=%{x}<br>emmission_diff=%{y}<extra></extra>",
         "legendgroup": "Latvia, 2020",
         "marker": {
          "color": "#FF6692",
          "symbol": "circle"
         },
         "mode": "markers",
         "name": "Latvia, 2020",
         "orientation": "v",
         "showlegend": true,
         "type": "scatter",
         "x": [
          11960
         ],
         "xaxis": "x",
         "y": [
          1654213.2000000011
         ],
         "yaxis": "y"
        },
        {
         "hovertemplate": "geo=Latvia<br>time_period=2021<br>all_cars_diff=%{x}<br>emmission_diff=%{y}<extra></extra>",
         "legendgroup": "Latvia, 2021",
         "marker": {
          "color": "#FF6692",
          "symbol": "diamond"
         },
         "mode": "markers",
         "name": "Latvia, 2021",
         "orientation": "v",
         "showlegend": true,
         "type": "scatter",
         "x": [
          19564
         ],
         "xaxis": "x",
         "y": [
          1806511
         ],
         "yaxis": "y"
        },
        {
         "hovertemplate": "geo=Latvia<br>time_period=2022<br>all_cars_diff=%{x}<br>emmission_diff=%{y}<extra></extra>",
         "legendgroup": "Latvia, 2022",
         "marker": {
          "color": "#FF6692",
          "symbol": "square"
         },
         "mode": "markers",
         "name": "Latvia, 2022",
         "orientation": "v",
         "showlegend": true,
         "type": "scatter",
         "x": [
          11035
         ],
         "xaxis": "x",
         "y": [
          2316222.100000001
         ],
         "yaxis": "y"
        },
        {
         "hovertemplate": "geo=Lithuania<br>time_period=2015<br>all_cars_diff=%{x}<br>emmission_diff=%{y}<extra></extra>",
         "legendgroup": "Lithuania, 2015",
         "marker": {
          "color": "#B6E880",
          "symbol": "circle"
         },
         "mode": "markers",
         "name": "Lithuania, 2015",
         "orientation": "v",
         "showlegend": true,
         "type": "scatter",
         "x": [
          38395
         ],
         "xaxis": "x",
         "y": [
          1382693.5999999996
         ],
         "yaxis": "y"
        },
        {
         "hovertemplate": "geo=Lithuania<br>time_period=2016<br>all_cars_diff=%{x}<br>emmission_diff=%{y}<extra></extra>",
         "legendgroup": "Lithuania, 2016",
         "marker": {
          "color": "#B6E880",
          "symbol": "diamond"
         },
         "mode": "markers",
         "name": "Lithuania, 2016",
         "orientation": "v",
         "showlegend": true,
         "type": "scatter",
         "x": [
          54674
         ],
         "xaxis": "x",
         "y": [
          735066.5999999996
         ],
         "yaxis": "y"
        },
        {
         "hovertemplate": "geo=Lithuania<br>time_period=2017<br>all_cars_diff=%{x}<br>emmission_diff=%{y}<extra></extra>",
         "legendgroup": "Lithuania, 2017",
         "marker": {
          "color": "#B6E880",
          "symbol": "square"
         },
         "mode": "markers",
         "name": "Lithuania, 2017",
         "orientation": "v",
         "showlegend": true,
         "type": "scatter",
         "x": [
          58250
         ],
         "xaxis": "x",
         "y": [
          689841.5000000019
         ],
         "yaxis": "y"
        },
        {
         "hovertemplate": "geo=Lithuania<br>time_period=2018<br>all_cars_diff=%{x}<br>emmission_diff=%{y}<extra></extra>",
         "legendgroup": "Lithuania, 2018",
         "marker": {
          "color": "#B6E880",
          "symbol": "x"
         },
         "mode": "markers",
         "name": "Lithuania, 2018",
         "orientation": "v",
         "showlegend": true,
         "type": "scatter",
         "x": [
          73533
         ],
         "xaxis": "x",
         "y": [
          686762.6999999993
         ],
         "yaxis": "y"
        },
        {
         "hovertemplate": "geo=Lithuania<br>time_period=2019<br>all_cars_diff=%{x}<br>emmission_diff=%{y}<extra></extra>",
         "legendgroup": "Lithuania, 2019",
         "marker": {
          "color": "#B6E880",
          "symbol": "cross"
         },
         "mode": "markers",
         "name": "Lithuania, 2019",
         "orientation": "v",
         "showlegend": true,
         "type": "scatter",
         "x": [
          68168
         ],
         "xaxis": "x",
         "y": [
          -72800
         ],
         "yaxis": "y"
        },
        {
         "hovertemplate": "geo=Lithuania<br>time_period=2020<br>all_cars_diff=%{x}<br>emmission_diff=%{y}<extra></extra>",
         "legendgroup": "Lithuania, 2020",
         "marker": {
          "color": "#B6E880",
          "symbol": "circle"
         },
         "mode": "markers",
         "name": "Lithuania, 2020",
         "orientation": "v",
         "showlegend": true,
         "type": "scatter",
         "x": [
          66777
         ],
         "xaxis": "x",
         "y": [
          -573555
         ],
         "yaxis": "y"
        },
        {
         "hovertemplate": "geo=Lithuania<br>time_period=2021<br>all_cars_diff=%{x}<br>emmission_diff=%{y}<extra></extra>",
         "legendgroup": "Lithuania, 2021",
         "marker": {
          "color": "#B6E880",
          "symbol": "diamond"
         },
         "mode": "markers",
         "name": "Lithuania, 2021",
         "orientation": "v",
         "showlegend": true,
         "type": "scatter",
         "x": [
          45678
         ],
         "xaxis": "x",
         "y": [
          847148.2999999989
         ],
         "yaxis": "y"
        },
        {
         "hovertemplate": "geo=Lithuania<br>time_period=2022<br>all_cars_diff=%{x}<br>emmission_diff=%{y}<extra></extra>",
         "legendgroup": "Lithuania, 2022",
         "marker": {
          "color": "#B6E880",
          "symbol": "square"
         },
         "mode": "markers",
         "name": "Lithuania, 2022",
         "orientation": "v",
         "showlegend": true,
         "type": "scatter",
         "x": [
          39241
         ],
         "xaxis": "x",
         "y": [
          -1989442.5
         ],
         "yaxis": "y"
        },
        {
         "hovertemplate": "geo=Luxembourg<br>time_period=2015<br>all_cars_diff=%{x}<br>emmission_diff=%{y}<extra></extra>",
         "legendgroup": "Luxembourg, 2015",
         "marker": {
          "color": "#FF97FF",
          "symbol": "circle"
         },
         "mode": "markers",
         "name": "Luxembourg, 2015",
         "orientation": "v",
         "showlegend": true,
         "type": "scatter",
         "x": [
          8276
         ],
         "xaxis": "x",
         "y": [
          -230479.80000000077
         ],
         "yaxis": "y"
        },
        {
         "hovertemplate": "geo=Luxembourg<br>time_period=2016<br>all_cars_diff=%{x}<br>emmission_diff=%{y}<extra></extra>",
         "legendgroup": "Luxembourg, 2016",
         "marker": {
          "color": "#FF97FF",
          "symbol": "diamond"
         },
         "mode": "markers",
         "name": "Luxembourg, 2016",
         "orientation": "v",
         "showlegend": true,
         "type": "scatter",
         "x": [
          9832
         ],
         "xaxis": "x",
         "y": [
          -196508.29999999888
         ],
         "yaxis": "y"
        },
        {
         "hovertemplate": "geo=Luxembourg<br>time_period=2017<br>all_cars_diff=%{x}<br>emmission_diff=%{y}<extra></extra>",
         "legendgroup": "Luxembourg, 2017",
         "marker": {
          "color": "#FF97FF",
          "symbol": "square"
         },
         "mode": "markers",
         "name": "Luxembourg, 2017",
         "orientation": "v",
         "showlegend": true,
         "type": "scatter",
         "x": [
          12347
         ],
         "xaxis": "x",
         "y": [
          511650.5999999996
         ],
         "yaxis": "y"
        },
        {
         "hovertemplate": "geo=Luxembourg<br>time_period=2018<br>all_cars_diff=%{x}<br>emmission_diff=%{y}<extra></extra>",
         "legendgroup": "Luxembourg, 2018",
         "marker": {
          "color": "#FF97FF",
          "symbol": "x"
         },
         "mode": "markers",
         "name": "Luxembourg, 2018",
         "orientation": "v",
         "showlegend": true,
         "type": "scatter",
         "x": [
          11863
         ],
         "xaxis": "x",
         "y": [
          522093.5
         ],
         "yaxis": "y"
        },
        {
         "hovertemplate": "geo=Luxembourg<br>time_period=2019<br>all_cars_diff=%{x}<br>emmission_diff=%{y}<extra></extra>",
         "legendgroup": "Luxembourg, 2019",
         "marker": {
          "color": "#FF97FF",
          "symbol": "cross"
         },
         "mode": "markers",
         "name": "Luxembourg, 2019",
         "orientation": "v",
         "showlegend": true,
         "type": "scatter",
         "x": [
          11201
         ],
         "xaxis": "x",
         "y": [
          -7777.5999999996275
         ],
         "yaxis": "y"
        },
        {
         "hovertemplate": "geo=Luxembourg<br>time_period=2020<br>all_cars_diff=%{x}<br>emmission_diff=%{y}<extra></extra>",
         "legendgroup": "Luxembourg, 2020",
         "marker": {
          "color": "#FF97FF",
          "symbol": "circle"
         },
         "mode": "markers",
         "name": "Luxembourg, 2020",
         "orientation": "v",
         "showlegend": true,
         "type": "scatter",
         "x": [
          6837
         ],
         "xaxis": "x",
         "y": [
          -1889372.8000000007
         ],
         "yaxis": "y"
        },
        {
         "hovertemplate": "geo=Luxembourg<br>time_period=2021<br>all_cars_diff=%{x}<br>emmission_diff=%{y}<extra></extra>",
         "legendgroup": "Luxembourg, 2021",
         "marker": {
          "color": "#FF97FF",
          "symbol": "diamond"
         },
         "mode": "markers",
         "name": "Luxembourg, 2021",
         "orientation": "v",
         "showlegend": true,
         "type": "scatter",
         "x": [
          6736
         ],
         "xaxis": "x",
         "y": [
          457041.4000000004
         ],
         "yaxis": "y"
        },
        {
         "hovertemplate": "geo=Luxembourg<br>time_period=2022<br>all_cars_diff=%{x}<br>emmission_diff=%{y}<extra></extra>",
         "legendgroup": "Luxembourg, 2022",
         "marker": {
          "color": "#FF97FF",
          "symbol": "square"
         },
         "mode": "markers",
         "name": "Luxembourg, 2022",
         "orientation": "v",
         "showlegend": true,
         "type": "scatter",
         "x": [
          4899
         ],
         "xaxis": "x",
         "y": [
          -1241734.5
         ],
         "yaxis": "y"
        },
        {
         "hovertemplate": "geo=Malta<br>time_period=2015<br>all_cars_diff=%{x}<br>emmission_diff=%{y}<extra></extra>",
         "legendgroup": "Malta, 2015",
         "marker": {
          "color": "#FECB52",
          "symbol": "circle"
         },
         "mode": "markers",
         "name": "Malta, 2015",
         "orientation": "v",
         "showlegend": true,
         "type": "scatter",
         "x": [
          9430
         ],
         "xaxis": "x",
         "y": [
          -667165.9000000004
         ],
         "yaxis": "y"
        },
        {
         "hovertemplate": "geo=Malta<br>time_period=2016<br>all_cars_diff=%{x}<br>emmission_diff=%{y}<extra></extra>",
         "legendgroup": "Malta, 2016",
         "marker": {
          "color": "#FECB52",
          "symbol": "diamond"
         },
         "mode": "markers",
         "name": "Malta, 2016",
         "orientation": "v",
         "showlegend": true,
         "type": "scatter",
         "x": [
          7541
         ],
         "xaxis": "x",
         "y": [
          -297977
         ],
         "yaxis": "y"
        },
        {
         "hovertemplate": "geo=Malta<br>time_period=2017<br>all_cars_diff=%{x}<br>emmission_diff=%{y}<extra></extra>",
         "legendgroup": "Malta, 2017",
         "marker": {
          "color": "#FECB52",
          "symbol": "square"
         },
         "mode": "markers",
         "name": "Malta, 2017",
         "orientation": "v",
         "showlegend": true,
         "type": "scatter",
         "x": [
          8877
         ],
         "xaxis": "x",
         "y": [
          185538.5
         ],
         "yaxis": "y"
        },
        {
         "hovertemplate": "geo=Malta<br>time_period=2018<br>all_cars_diff=%{x}<br>emmission_diff=%{y}<extra></extra>",
         "legendgroup": "Malta, 2018",
         "marker": {
          "color": "#FECB52",
          "symbol": "x"
         },
         "mode": "markers",
         "name": "Malta, 2018",
         "orientation": "v",
         "showlegend": true,
         "type": "scatter",
         "x": [
          8342
         ],
         "xaxis": "x",
         "y": [
          80402.3999999999
         ],
         "yaxis": "y"
        },
        {
         "hovertemplate": "geo=Malta<br>time_period=2019<br>all_cars_diff=%{x}<br>emmission_diff=%{y}<extra></extra>",
         "legendgroup": "Malta, 2019",
         "marker": {
          "color": "#FECB52",
          "symbol": "cross"
         },
         "mode": "markers",
         "name": "Malta, 2019",
         "orientation": "v",
         "showlegend": true,
         "type": "scatter",
         "x": [
          6990
         ],
         "xaxis": "x",
         "y": [
          94281.2000000002
         ],
         "yaxis": "y"
        },
        {
         "hovertemplate": "geo=Malta<br>time_period=2020<br>all_cars_diff=%{x}<br>emmission_diff=%{y}<extra></extra>",
         "legendgroup": "Malta, 2020",
         "marker": {
          "color": "#FECB52",
          "symbol": "circle"
         },
         "mode": "markers",
         "name": "Malta, 2020",
         "orientation": "v",
         "showlegend": true,
         "type": "scatter",
         "x": [
          1228
         ],
         "xaxis": "x",
         "y": [
          -298071.6000000001
         ],
         "yaxis": "y"
        },
        {
         "hovertemplate": "geo=Malta<br>time_period=2021<br>all_cars_diff=%{x}<br>emmission_diff=%{y}<extra></extra>",
         "legendgroup": "Malta, 2021",
         "marker": {
          "color": "#FECB52",
          "symbol": "diamond"
         },
         "mode": "markers",
         "name": "Malta, 2021",
         "orientation": "v",
         "showlegend": true,
         "type": "scatter",
         "x": [
          4819
         ],
         "xaxis": "x",
         "y": [
          57200.5
         ],
         "yaxis": "y"
        },
        {
         "hovertemplate": "geo=Malta<br>time_period=2022<br>all_cars_diff=%{x}<br>emmission_diff=%{y}<extra></extra>",
         "legendgroup": "Malta, 2022",
         "marker": {
          "color": "#FECB52",
          "symbol": "square"
         },
         "mode": "markers",
         "name": "Malta, 2022",
         "orientation": "v",
         "showlegend": true,
         "type": "scatter",
         "x": [
          4057
         ],
         "xaxis": "x",
         "y": [
          278307.5
         ],
         "yaxis": "y"
        },
        {
         "hovertemplate": "geo=Netherlands<br>time_period=2015<br>all_cars_diff=%{x}<br>emmission_diff=%{y}<extra></extra>",
         "legendgroup": "Netherlands, 2015",
         "marker": {
          "color": "#636efa",
          "symbol": "circle"
         },
         "mode": "markers",
         "name": "Netherlands, 2015",
         "orientation": "v",
         "showlegend": true,
         "type": "scatter",
         "x": [
          121781
         ],
         "xaxis": "x",
         "y": [
          7624678.099999994
         ],
         "yaxis": "y"
        },
        {
         "hovertemplate": "geo=Netherlands<br>time_period=2016<br>all_cars_diff=%{x}<br>emmission_diff=%{y}<extra></extra>",
         "legendgroup": "Netherlands, 2016",
         "marker": {
          "color": "#636efa",
          "symbol": "diamond"
         },
         "mode": "markers",
         "name": "Netherlands, 2016",
         "orientation": "v",
         "showlegend": true,
         "type": "scatter",
         "x": [
          122110
         ],
         "xaxis": "x",
         "y": [
          979925
         ],
         "yaxis": "y"
        },
        {
         "hovertemplate": "geo=Netherlands<br>time_period=2017<br>all_cars_diff=%{x}<br>emmission_diff=%{y}<extra></extra>",
         "legendgroup": "Netherlands, 2017",
         "marker": {
          "color": "#636efa",
          "symbol": "square"
         },
         "mode": "markers",
         "name": "Netherlands, 2017",
         "orientation": "v",
         "showlegend": true,
         "type": "scatter",
         "x": [
          150270
         ],
         "xaxis": "x",
         "y": [
          -3844614.600000024
         ],
         "yaxis": "y"
        },
        {
         "hovertemplate": "geo=Netherlands<br>time_period=2018<br>all_cars_diff=%{x}<br>emmission_diff=%{y}<extra></extra>",
         "legendgroup": "Netherlands, 2018",
         "marker": {
          "color": "#636efa",
          "symbol": "x"
         },
         "mode": "markers",
         "name": "Netherlands, 2018",
         "orientation": "v",
         "showlegend": true,
         "type": "scatter",
         "x": [
          69738
         ],
         "xaxis": "x",
         "y": [
          -5657594.199999958
         ],
         "yaxis": "y"
        },
        {
         "hovertemplate": "geo=Netherlands<br>time_period=2019<br>all_cars_diff=%{x}<br>emmission_diff=%{y}<extra></extra>",
         "legendgroup": "Netherlands, 2019",
         "marker": {
          "color": "#636efa",
          "symbol": "cross"
         },
         "mode": "markers",
         "name": "Netherlands, 2019",
         "orientation": "v",
         "showlegend": true,
         "type": "scatter",
         "x": [
          141409
         ],
         "xaxis": "x",
         "y": [
          -5720133
         ],
         "yaxis": "y"
        },
        {
         "hovertemplate": "geo=Netherlands<br>time_period=2020<br>all_cars_diff=%{x}<br>emmission_diff=%{y}<extra></extra>",
         "legendgroup": "Netherlands, 2020",
         "marker": {
          "color": "#636efa",
          "symbol": "circle"
         },
         "mode": "markers",
         "name": "Netherlands, 2020",
         "orientation": "v",
         "showlegend": true,
         "type": "scatter",
         "x": [
          102028
         ],
         "xaxis": "x",
         "y": [
          -21200049.700000014
         ],
         "yaxis": "y"
        },
        {
         "hovertemplate": "geo=Netherlands<br>time_period=2021<br>all_cars_diff=%{x}<br>emmission_diff=%{y}<extra></extra>",
         "legendgroup": "Netherlands, 2021",
         "marker": {
          "color": "#636efa",
          "symbol": "diamond"
         },
         "mode": "markers",
         "name": "Netherlands, 2021",
         "orientation": "v",
         "showlegend": true,
         "type": "scatter",
         "x": [
          141290
         ],
         "xaxis": "x",
         "y": [
          2432624.5
         ],
         "yaxis": "y"
        },
        {
         "hovertemplate": "geo=Netherlands<br>time_period=2022<br>all_cars_diff=%{x}<br>emmission_diff=%{y}<extra></extra>",
         "legendgroup": "Netherlands, 2022",
         "marker": {
          "color": "#636efa",
          "symbol": "square"
         },
         "mode": "markers",
         "name": "Netherlands, 2022",
         "orientation": "v",
         "showlegend": true,
         "type": "scatter",
         "x": [
          89398
         ],
         "xaxis": "x",
         "y": [
          -11137849
         ],
         "yaxis": "y"
        },
        {
         "hovertemplate": "geo=Poland<br>time_period=2015<br>all_cars_diff=%{x}<br>emmission_diff=%{y}<extra></extra>",
         "legendgroup": "Poland, 2015",
         "marker": {
          "color": "#EF553B",
          "symbol": "circle"
         },
         "mode": "markers",
         "name": "Poland, 2015",
         "orientation": "v",
         "showlegend": true,
         "type": "scatter",
         "x": [
          -1992088
         ],
         "xaxis": "x",
         "y": [
          3689159.199999988
         ],
         "yaxis": "y"
        },
        {
         "hovertemplate": "geo=Poland<br>time_period=2016<br>all_cars_diff=%{x}<br>emmission_diff=%{y}<extra></extra>",
         "legendgroup": "Poland, 2016",
         "marker": {
          "color": "#EF553B",
          "symbol": "diamond"
         },
         "mode": "markers",
         "name": "Poland, 2016",
         "orientation": "v",
         "showlegend": true,
         "type": "scatter",
         "x": [
          706633
         ],
         "xaxis": "x",
         "y": [
          7240115.800000071
         ],
         "yaxis": "y"
        },
        {
         "hovertemplate": "geo=Poland<br>time_period=2017<br>all_cars_diff=%{x}<br>emmission_diff=%{y}<extra></extra>",
         "legendgroup": "Poland, 2017",
         "marker": {
          "color": "#EF553B",
          "symbol": "square"
         },
         "mode": "markers",
         "name": "Poland, 2017",
         "orientation": "v",
         "showlegend": true,
         "type": "scatter",
         "x": [
          547709
         ],
         "xaxis": "x",
         "y": [
          11445986.199999928
         ],
         "yaxis": "y"
        },
        {
         "hovertemplate": "geo=Poland<br>time_period=2018<br>all_cars_diff=%{x}<br>emmission_diff=%{y}<extra></extra>",
         "legendgroup": "Poland, 2018",
         "marker": {
          "color": "#EF553B",
          "symbol": "x"
         },
         "mode": "markers",
         "name": "Poland, 2018",
         "orientation": "v",
         "showlegend": true,
         "type": "scatter",
         "x": [
          644990
         ],
         "xaxis": "x",
         "y": [
          3833781.800000072
         ],
         "yaxis": "y"
        },
        {
         "hovertemplate": "geo=Poland<br>time_period=2019<br>all_cars_diff=%{x}<br>emmission_diff=%{y}<extra></extra>",
         "legendgroup": "Poland, 2019",
         "marker": {
          "color": "#EF553B",
          "symbol": "cross"
         },
         "mode": "markers",
         "name": "Poland, 2019",
         "orientation": "v",
         "showlegend": true,
         "type": "scatter",
         "x": [
          633237
         ],
         "xaxis": "x",
         "y": [
          -3835256.200000048
         ],
         "yaxis": "y"
        },
        {
         "hovertemplate": "geo=Poland<br>time_period=2020<br>all_cars_diff=%{x}<br>emmission_diff=%{y}<extra></extra>",
         "legendgroup": "Poland, 2020",
         "marker": {
          "color": "#EF553B",
          "symbol": "circle"
         },
         "mode": "markers",
         "name": "Poland, 2020",
         "orientation": "v",
         "showlegend": true,
         "type": "scatter",
         "x": [
          441521
         ],
         "xaxis": "x",
         "y": [
          -19121406.80000001
         ],
         "yaxis": "y"
        },
        {
         "hovertemplate": "geo=Poland<br>time_period=2021<br>all_cars_diff=%{x}<br>emmission_diff=%{y}<extra></extra>",
         "legendgroup": "Poland, 2021",
         "marker": {
          "color": "#EF553B",
          "symbol": "diamond"
         },
         "mode": "markers",
         "name": "Poland, 2021",
         "orientation": "v",
         "showlegend": true,
         "type": "scatter",
         "x": [
          370142
         ],
         "xaxis": "x",
         "y": [
          28933371.80000001
         ],
         "yaxis": "y"
        },
        {
         "hovertemplate": "geo=Poland<br>time_period=2022<br>all_cars_diff=%{x}<br>emmission_diff=%{y}<extra></extra>",
         "legendgroup": "Poland, 2022",
         "marker": {
          "color": "#EF553B",
          "symbol": "square"
         },
         "mode": "markers",
         "name": "Poland, 2022",
         "orientation": "v",
         "showlegend": true,
         "type": "scatter",
         "x": [
          102094
         ],
         "xaxis": "x",
         "y": [
          -31384487.99999994
         ],
         "yaxis": "y"
        },
        {
         "hovertemplate": "geo=Portugal<br>time_period=2015<br>all_cars_diff=%{x}<br>emmission_diff=%{y}<extra></extra>",
         "legendgroup": "Portugal, 2015",
         "marker": {
          "color": "#00cc96",
          "symbol": "circle"
         },
         "mode": "markers",
         "name": "Portugal, 2015",
         "orientation": "v",
         "showlegend": true,
         "type": "scatter",
         "x": [
          23318
         ],
         "xaxis": "x",
         "y": [
          5948143.699999996
         ],
         "yaxis": "y"
        },
        {
         "hovertemplate": "geo=Portugal<br>time_period=2016<br>all_cars_diff=%{x}<br>emmission_diff=%{y}<extra></extra>",
         "legendgroup": "Portugal, 2016",
         "marker": {
          "color": "#00cc96",
          "symbol": "diamond"
         },
         "mode": "markers",
         "name": "Portugal, 2016",
         "orientation": "v",
         "showlegend": true,
         "type": "scatter",
         "x": [
          127266
         ],
         "xaxis": "x",
         "y": [
          2937880.700000003
         ],
         "yaxis": "y"
        },
        {
         "hovertemplate": "geo=Portugal<br>time_period=2017<br>all_cars_diff=%{x}<br>emmission_diff=%{y}<extra></extra>",
         "legendgroup": "Portugal, 2017",
         "marker": {
          "color": "#00cc96",
          "symbol": "square"
         },
         "mode": "markers",
         "name": "Portugal, 2017",
         "orientation": "v",
         "showlegend": true,
         "type": "scatter",
         "x": [
          209243
         ],
         "xaxis": "x",
         "y": [
          25697478.200000003
         ],
         "yaxis": "y"
        },
        {
         "hovertemplate": "geo=Portugal<br>time_period=2018<br>all_cars_diff=%{x}<br>emmission_diff=%{y}<extra></extra>",
         "legendgroup": "Portugal, 2018",
         "marker": {
          "color": "#00cc96",
          "symbol": "x"
         },
         "mode": "markers",
         "name": "Portugal, 2018",
         "orientation": "v",
         "showlegend": true,
         "type": "scatter",
         "x": [
          223498
         ],
         "xaxis": "x",
         "y": [
          -27987563.40000001
         ],
         "yaxis": "y"
        },
        {
         "hovertemplate": "geo=Portugal<br>time_period=2019<br>all_cars_diff=%{x}<br>emmission_diff=%{y}<extra></extra>",
         "legendgroup": "Portugal, 2019",
         "marker": {
          "color": "#00cc96",
          "symbol": "cross"
         },
         "mode": "markers",
         "name": "Portugal, 2019",
         "orientation": "v",
         "showlegend": true,
         "type": "scatter",
         "x": [
          169149
         ],
         "xaxis": "x",
         "y": [
          -4148406.799999997
         ],
         "yaxis": "y"
        },
        {
         "hovertemplate": "geo=Portugal<br>time_period=2020<br>all_cars_diff=%{x}<br>emmission_diff=%{y}<extra></extra>",
         "legendgroup": "Portugal, 2020",
         "marker": {
          "color": "#00cc96",
          "symbol": "circle"
         },
         "mode": "markers",
         "name": "Portugal, 2020",
         "orientation": "v",
         "showlegend": true,
         "type": "scatter",
         "x": [
          113844
         ],
         "xaxis": "x",
         "y": [
          -9078081.700000005
         ],
         "yaxis": "y"
        },
        {
         "hovertemplate": "geo=Portugal<br>time_period=2021<br>all_cars_diff=%{x}<br>emmission_diff=%{y}<extra></extra>",
         "legendgroup": "Portugal, 2021",
         "marker": {
          "color": "#00cc96",
          "symbol": "diamond"
         },
         "mode": "markers",
         "name": "Portugal, 2021",
         "orientation": "v",
         "showlegend": true,
         "type": "scatter",
         "x": [
          66681
         ],
         "xaxis": "x",
         "y": [
          -3018108.5
         ],
         "yaxis": "y"
        },
        {
         "hovertemplate": "geo=Portugal<br>time_period=2022<br>all_cars_diff=%{x}<br>emmission_diff=%{y}<extra></extra>",
         "legendgroup": "Portugal, 2022",
         "marker": {
          "color": "#00cc96",
          "symbol": "square"
         },
         "mode": "markers",
         "name": "Portugal, 2022",
         "orientation": "v",
         "showlegend": true,
         "type": "scatter",
         "x": [
          145940
         ],
         "xaxis": "x",
         "y": [
          2218323.3999999985
         ],
         "yaxis": "y"
        },
        {
         "hovertemplate": "geo=Romania<br>time_period=2015<br>all_cars_diff=%{x}<br>emmission_diff=%{y}<extra></extra>",
         "legendgroup": "Romania, 2015",
         "marker": {
          "color": "#ab63fa",
          "symbol": "circle"
         },
         "mode": "markers",
         "name": "Romania, 2015",
         "orientation": "v",
         "showlegend": true,
         "type": "scatter",
         "x": [
          247495
         ],
         "xaxis": "x",
         "y": [
          -268324
         ],
         "yaxis": "y"
        },
        {
         "hovertemplate": "geo=Romania<br>time_period=2016<br>all_cars_diff=%{x}<br>emmission_diff=%{y}<extra></extra>",
         "legendgroup": "Romania, 2016",
         "marker": {
          "color": "#ab63fa",
          "symbol": "diamond"
         },
         "mode": "markers",
         "name": "Romania, 2016",
         "orientation": "v",
         "showlegend": true,
         "type": "scatter",
         "x": [
          317364
         ],
         "xaxis": "x",
         "y": [
          -4337334
         ],
         "yaxis": "y"
        },
        {
         "hovertemplate": "geo=Romania<br>time_period=2017<br>all_cars_diff=%{x}<br>emmission_diff=%{y}<extra></extra>",
         "legendgroup": "Romania, 2017",
         "marker": {
          "color": "#ab63fa",
          "symbol": "square"
         },
         "mode": "markers",
         "name": "Romania, 2017",
         "orientation": "v",
         "showlegend": true,
         "type": "scatter",
         "x": [
          525771
         ],
         "xaxis": "x",
         "y": [
          5508285.900000006
         ],
         "yaxis": "y"
        },
        {
         "hovertemplate": "geo=Romania<br>time_period=2018<br>all_cars_diff=%{x}<br>emmission_diff=%{y}<extra></extra>",
         "legendgroup": "Romania, 2018",
         "marker": {
          "color": "#ab63fa",
          "symbol": "x"
         },
         "mode": "markers",
         "name": "Romania, 2018",
         "orientation": "v",
         "showlegend": true,
         "type": "scatter",
         "x": [
          454342
         ],
         "xaxis": "x",
         "y": [
          1555663.299999997
         ],
         "yaxis": "y"
        },
        {
         "hovertemplate": "geo=Romania<br>time_period=2019<br>all_cars_diff=%{x}<br>emmission_diff=%{y}<extra></extra>",
         "legendgroup": "Romania, 2019",
         "marker": {
          "color": "#ab63fa",
          "symbol": "cross"
         },
         "mode": "markers",
         "name": "Romania, 2019",
         "orientation": "v",
         "showlegend": true,
         "type": "scatter",
         "x": [
          450448
         ],
         "xaxis": "x",
         "y": [
          -2381830.900000006
         ],
         "yaxis": "y"
        },
        {
         "hovertemplate": "geo=Romania<br>time_period=2020<br>all_cars_diff=%{x}<br>emmission_diff=%{y}<extra></extra>",
         "legendgroup": "Romania, 2020",
         "marker": {
          "color": "#ab63fa",
          "symbol": "circle"
         },
         "mode": "markers",
         "name": "Romania, 2020",
         "orientation": "v",
         "showlegend": true,
         "type": "scatter",
         "x": [
          371744
         ],
         "xaxis": "x",
         "y": [
          -8039767.1999999955
         ],
         "yaxis": "y"
        },
        {
         "hovertemplate": "geo=Romania<br>time_period=2021<br>all_cars_diff=%{x}<br>emmission_diff=%{y}<extra></extra>",
         "legendgroup": "Romania, 2021",
         "marker": {
          "color": "#ab63fa",
          "symbol": "diamond"
         },
         "mode": "markers",
         "name": "Romania, 2021",
         "orientation": "v",
         "showlegend": true,
         "type": "scatter",
         "x": [
          336311
         ],
         "xaxis": "x",
         "y": [
          5353535.399999999
         ],
         "yaxis": "y"
        },
        {
         "hovertemplate": "geo=Romania<br>time_period=2022<br>all_cars_diff=%{x}<br>emmission_diff=%{y}<extra></extra>",
         "legendgroup": "Romania, 2022",
         "marker": {
          "color": "#ab63fa",
          "symbol": "square"
         },
         "mode": "markers",
         "name": "Romania, 2022",
         "orientation": "v",
         "showlegend": true,
         "type": "scatter",
         "x": [
          254147
         ],
         "xaxis": "x",
         "y": [
          -4365715.5
         ],
         "yaxis": "y"
        },
        {
         "hovertemplate": "geo=Slovakia<br>time_period=2015<br>all_cars_diff=%{x}<br>emmission_diff=%{y}<extra></extra>",
         "legendgroup": "Slovakia, 2015",
         "marker": {
          "color": "#FFA15A",
          "symbol": "circle"
         },
         "mode": "markers",
         "name": "Slovakia, 2015",
         "orientation": "v",
         "showlegend": true,
         "type": "scatter",
         "x": [
          85474
         ],
         "xaxis": "x",
         "y": [
          577234.8999999985
         ],
         "yaxis": "y"
        },
        {
         "hovertemplate": "geo=Slovakia<br>time_period=2016<br>all_cars_diff=%{x}<br>emmission_diff=%{y}<extra></extra>",
         "legendgroup": "Slovakia, 2016",
         "marker": {
          "color": "#FFA15A",
          "symbol": "diamond"
         },
         "mode": "markers",
         "name": "Slovakia, 2016",
         "orientation": "v",
         "showlegend": true,
         "type": "scatter",
         "x": [
          87200
         ],
         "xaxis": "x",
         "y": [
          574985
         ],
         "yaxis": "y"
        },
        {
         "hovertemplate": "geo=Slovakia<br>time_period=2017<br>all_cars_diff=%{x}<br>emmission_diff=%{y}<extra></extra>",
         "legendgroup": "Slovakia, 2017",
         "marker": {
          "color": "#FFA15A",
          "symbol": "square"
         },
         "mode": "markers",
         "name": "Slovakia, 2017",
         "orientation": "v",
         "showlegend": true,
         "type": "scatter",
         "x": [
          101343
         ],
         "xaxis": "x",
         "y": [
          1147978.3000000045
         ],
         "yaxis": "y"
        },
        {
         "hovertemplate": "geo=Slovakia<br>time_period=2018<br>all_cars_diff=%{x}<br>emmission_diff=%{y}<extra></extra>",
         "legendgroup": "Slovakia, 2018",
         "marker": {
          "color": "#FFA15A",
          "symbol": "x"
         },
         "mode": "markers",
         "name": "Slovakia, 2018",
         "orientation": "v",
         "showlegend": true,
         "type": "scatter",
         "x": [
          98491
         ],
         "xaxis": "x",
         "y": [
          597973.299999997
         ],
         "yaxis": "y"
        },
        {
         "hovertemplate": "geo=Slovakia<br>time_period=2019<br>all_cars_diff=%{x}<br>emmission_diff=%{y}<extra></extra>",
         "legendgroup": "Slovakia, 2019",
         "marker": {
          "color": "#FFA15A",
          "symbol": "cross"
         },
         "mode": "markers",
         "name": "Slovakia, 2019",
         "orientation": "v",
         "showlegend": true,
         "type": "scatter",
         "x": [
          71969
         ],
         "xaxis": "x",
         "y": [
          -3219145.600000001
         ],
         "yaxis": "y"
        },
        {
         "hovertemplate": "geo=Slovakia<br>time_period=2020<br>all_cars_diff=%{x}<br>emmission_diff=%{y}<extra></extra>",
         "legendgroup": "Slovakia, 2020",
         "marker": {
          "color": "#FFA15A",
          "symbol": "circle"
         },
         "mode": "markers",
         "name": "Slovakia, 2020",
         "orientation": "v",
         "showlegend": true,
         "type": "scatter",
         "x": [
          46409
         ],
         "xaxis": "x",
         "y": [
          -4864392.899999999
         ],
         "yaxis": "y"
        },
        {
         "hovertemplate": "geo=Slovakia<br>time_period=2021<br>all_cars_diff=%{x}<br>emmission_diff=%{y}<extra></extra>",
         "legendgroup": "Slovakia, 2021",
         "marker": {
          "color": "#FFA15A",
          "symbol": "diamond"
         },
         "mode": "markers",
         "name": "Slovakia, 2021",
         "orientation": "v",
         "showlegend": true,
         "type": "scatter",
         "x": [
          53197
         ],
         "xaxis": "x",
         "y": [
          4378318.799999997
         ],
         "yaxis": "y"
        },
        {
         "hovertemplate": "geo=Slovakia<br>time_period=2022<br>all_cars_diff=%{x}<br>emmission_diff=%{y}<extra></extra>",
         "legendgroup": "Slovakia, 2022",
         "marker": {
          "color": "#FFA15A",
          "symbol": "square"
         },
         "mode": "markers",
         "name": "Slovakia, 2022",
         "orientation": "v",
         "showlegend": true,
         "type": "scatter",
         "x": [
          62308
         ],
         "xaxis": "x",
         "y": [
          -4505704.299999997
         ],
         "yaxis": "y"
        },
        {
         "hovertemplate": "geo=Slovenia<br>time_period=2015<br>all_cars_diff=%{x}<br>emmission_diff=%{y}<extra></extra>",
         "legendgroup": "Slovenia, 2015",
         "marker": {
          "color": "#19d3f3",
          "symbol": "circle"
         },
         "mode": "markers",
         "name": "Slovenia, 2015",
         "orientation": "v",
         "showlegend": true,
         "type": "scatter",
         "x": [
          10375
         ],
         "xaxis": "x",
         "y": [
          221315
         ],
         "yaxis": "y"
        },
        {
         "hovertemplate": "geo=Slovenia<br>time_period=2016<br>all_cars_diff=%{x}<br>emmission_diff=%{y}<extra></extra>",
         "legendgroup": "Slovenia, 2016",
         "marker": {
          "color": "#19d3f3",
          "symbol": "diamond"
         },
         "mode": "markers",
         "name": "Slovenia, 2016",
         "orientation": "v",
         "showlegend": true,
         "type": "scatter",
         "x": [
          17786
         ],
         "xaxis": "x",
         "y": [
          1043263
         ],
         "yaxis": "y"
        },
        {
         "hovertemplate": "geo=Slovenia<br>time_period=2017<br>all_cars_diff=%{x}<br>emmission_diff=%{y}<extra></extra>",
         "legendgroup": "Slovenia, 2017",
         "marker": {
          "color": "#19d3f3",
          "symbol": "square"
         },
         "mode": "markers",
         "name": "Slovenia, 2017",
         "orientation": "v",
         "showlegend": true,
         "type": "scatter",
         "x": [
          21412
         ],
         "xaxis": "x",
         "y": [
          15363
         ],
         "yaxis": "y"
        },
        {
         "hovertemplate": "geo=Slovenia<br>time_period=2018<br>all_cars_diff=%{x}<br>emmission_diff=%{y}<extra></extra>",
         "legendgroup": "Slovenia, 2018",
         "marker": {
          "color": "#19d3f3",
          "symbol": "x"
         },
         "mode": "markers",
         "name": "Slovenia, 2018",
         "orientation": "v",
         "showlegend": true,
         "type": "scatter",
         "x": [
          25215
         ],
         "xaxis": "x",
         "y": [
          -197823
         ],
         "yaxis": "y"
        },
        {
         "hovertemplate": "geo=Slovenia<br>time_period=2019<br>all_cars_diff=%{x}<br>emmission_diff=%{y}<extra></extra>",
         "legendgroup": "Slovenia, 2019",
         "marker": {
          "color": "#19d3f3",
          "symbol": "cross"
         },
         "mode": "markers",
         "name": "Slovenia, 2019",
         "orientation": "v",
         "showlegend": true,
         "type": "scatter",
         "x": [
          22221
         ],
         "xaxis": "x",
         "y": [
          -1956058.7999999989
         ],
         "yaxis": "y"
        },
        {
         "hovertemplate": "geo=Slovenia<br>time_period=2020<br>all_cars_diff=%{x}<br>emmission_diff=%{y}<extra></extra>",
         "legendgroup": "Slovenia, 2020",
         "marker": {
          "color": "#19d3f3",
          "symbol": "circle"
         },
         "mode": "markers",
         "name": "Slovenia, 2020",
         "orientation": "v",
         "showlegend": true,
         "type": "scatter",
         "x": [
          5319
         ],
         "xaxis": "x",
         "y": [
          -929801.8000000007
         ],
         "yaxis": "y"
        },
        {
         "hovertemplate": "geo=Slovenia<br>time_period=2021<br>all_cars_diff=%{x}<br>emmission_diff=%{y}<extra></extra>",
         "legendgroup": "Slovenia, 2021",
         "marker": {
          "color": "#19d3f3",
          "symbol": "diamond"
         },
         "mode": "markers",
         "name": "Slovenia, 2021",
         "orientation": "v",
         "showlegend": true,
         "type": "scatter",
         "x": [
          18767
         ],
         "xaxis": "x",
         "y": [
          307956.0999999996
         ],
         "yaxis": "y"
        },
        {
         "hovertemplate": "geo=Slovenia<br>time_period=2022<br>all_cars_diff=%{x}<br>emmission_diff=%{y}<extra></extra>",
         "legendgroup": "Slovenia, 2022",
         "marker": {
          "color": "#19d3f3",
          "symbol": "square"
         },
         "mode": "markers",
         "name": "Slovenia, 2022",
         "orientation": "v",
         "showlegend": true,
         "type": "scatter",
         "x": [
          18298
         ],
         "xaxis": "x",
         "y": [
          -434913.5
         ],
         "yaxis": "y"
        },
        {
         "hovertemplate": "geo=Spain<br>time_period=2015<br>all_cars_diff=%{x}<br>emmission_diff=%{y}<extra></extra>",
         "legendgroup": "Spain, 2015",
         "marker": {
          "color": "#FF6692",
          "symbol": "circle"
         },
         "mode": "markers",
         "name": "Spain, 2015",
         "orientation": "v",
         "showlegend": true,
         "type": "scatter",
         "x": [
          326037
         ],
         "xaxis": "x",
         "y": [
          8844005.800000012
         ],
         "yaxis": "y"
        },
        {
         "hovertemplate": "geo=Spain<br>time_period=2016<br>all_cars_diff=%{x}<br>emmission_diff=%{y}<extra></extra>",
         "legendgroup": "Spain, 2016",
         "marker": {
          "color": "#FF6692",
          "symbol": "diamond"
         },
         "mode": "markers",
         "name": "Spain, 2016",
         "orientation": "v",
         "showlegend": true,
         "type": "scatter",
         "x": [
          1649385
         ],
         "xaxis": "x",
         "y": [
          -9328223.800000012
         ],
         "yaxis": "y"
        },
        {
         "hovertemplate": "geo=Spain<br>time_period=2017<br>all_cars_diff=%{x}<br>emmission_diff=%{y}<extra></extra>",
         "legendgroup": "Spain, 2017",
         "marker": {
          "color": "#FF6692",
          "symbol": "square"
         },
         "mode": "markers",
         "name": "Spain, 2017",
         "orientation": "v",
         "showlegend": true,
         "type": "scatter",
         "x": [
          671623
         ],
         "xaxis": "x",
         "y": [
          9794085.300000012
         ],
         "yaxis": "y"
        },
        {
         "hovertemplate": "geo=Spain<br>time_period=2018<br>all_cars_diff=%{x}<br>emmission_diff=%{y}<extra></extra>",
         "legendgroup": "Spain, 2018",
         "marker": {
          "color": "#FF6692",
          "symbol": "x"
         },
         "mode": "markers",
         "name": "Spain, 2018",
         "orientation": "v",
         "showlegend": true,
         "type": "scatter",
         "x": [
          627633
         ],
         "xaxis": "x",
         "y": [
          -3704606.5
         ],
         "yaxis": "y"
        },
        {
         "hovertemplate": "geo=Spain<br>time_period=2019<br>all_cars_diff=%{x}<br>emmission_diff=%{y}<extra></extra>",
         "legendgroup": "Spain, 2019",
         "marker": {
          "color": "#FF6692",
          "symbol": "cross"
         },
         "mode": "markers",
         "name": "Spain, 2019",
         "orientation": "v",
         "showlegend": true,
         "type": "scatter",
         "x": [
          532396
         ],
         "xaxis": "x",
         "y": [
          -17014742
         ],
         "yaxis": "y"
        },
        {
         "hovertemplate": "geo=Spain<br>time_period=2020<br>all_cars_diff=%{x}<br>emmission_diff=%{y}<extra></extra>",
         "legendgroup": "Spain, 2020",
         "marker": {
          "color": "#FF6692",
          "symbol": "circle"
         },
         "mode": "markers",
         "name": "Spain, 2020",
         "orientation": "v",
         "showlegend": true,
         "type": "scatter",
         "x": [
          197761
         ],
         "xaxis": "x",
         "y": [
          -49655260.99999997
         ],
         "yaxis": "y"
        },
        {
         "hovertemplate": "geo=Spain<br>time_period=2021<br>all_cars_diff=%{x}<br>emmission_diff=%{y}<extra></extra>",
         "legendgroup": "Spain, 2021",
         "marker": {
          "color": "#FF6692",
          "symbol": "diamond"
         },
         "mode": "markers",
         "name": "Spain, 2021",
         "orientation": "v",
         "showlegend": true,
         "type": "scatter",
         "x": [
          259535
         ],
         "xaxis": "x",
         "y": [
          19365784.399999976
         ],
         "yaxis": "y"
        },
        {
         "hovertemplate": "geo=Spain<br>time_period=2022<br>all_cars_diff=%{x}<br>emmission_diff=%{y}<extra></extra>",
         "legendgroup": "Spain, 2022",
         "marker": {
          "color": "#FF6692",
          "symbol": "square"
         },
         "mode": "markers",
         "name": "Spain, 2022",
         "orientation": "v",
         "showlegend": true,
         "type": "scatter",
         "x": [
          311596
         ],
         "xaxis": "x",
         "y": [
          9953407.099999994
         ],
         "yaxis": "y"
        },
        {
         "hovertemplate": "geo=Sweden<br>time_period=2015<br>all_cars_diff=%{x}<br>emmission_diff=%{y}<extra></extra>",
         "legendgroup": "Sweden, 2015",
         "marker": {
          "color": "#B6E880",
          "symbol": "circle"
         },
         "mode": "markers",
         "name": "Sweden, 2015",
         "orientation": "v",
         "showlegend": true,
         "type": "scatter",
         "x": [
          83551
         ],
         "xaxis": "x",
         "y": [
          1959720.1
         ],
         "yaxis": "y"
        },
        {
         "hovertemplate": "geo=Sweden<br>time_period=2016<br>all_cars_diff=%{x}<br>emmission_diff=%{y}<extra></extra>",
         "legendgroup": "Sweden, 2016",
         "marker": {
          "color": "#B6E880",
          "symbol": "diamond"
         },
         "mode": "markers",
         "name": "Sweden, 2016",
         "orientation": "v",
         "showlegend": true,
         "type": "scatter",
         "x": [
          99000
         ],
         "xaxis": "x",
         "y": [
          2001302
         ],
         "yaxis": "y"
        },
        {
         "hovertemplate": "geo=Sweden<br>time_period=2017<br>all_cars_diff=%{x}<br>emmission_diff=%{y}<extra></extra>",
         "legendgroup": "Sweden, 2017",
         "marker": {
          "color": "#B6E880",
          "symbol": "square"
         },
         "mode": "markers",
         "name": "Sweden, 2017",
         "orientation": "v",
         "showlegend": true,
         "type": "scatter",
         "x": [
          77561
         ],
         "xaxis": "x",
         "y": [
          5069644.5
         ],
         "yaxis": "y"
        },
        {
         "hovertemplate": "geo=Sweden<br>time_period=2018<br>all_cars_diff=%{x}<br>emmission_diff=%{y}<extra></extra>",
         "legendgroup": "Sweden, 2018",
         "marker": {
          "color": "#B6E880",
          "symbol": "x"
         },
         "mode": "markers",
         "name": "Sweden, 2018",
         "orientation": "v",
         "showlegend": true,
         "type": "scatter",
         "x": [
          25156
         ],
         "xaxis": "x",
         "y": [
          6197234.200000001
         ],
         "yaxis": "y"
        },
        {
         "hovertemplate": "geo=Sweden<br>time_period=2019<br>all_cars_diff=%{x}<br>emmission_diff=%{y}<extra></extra>",
         "legendgroup": "Sweden, 2019",
         "marker": {
          "color": "#B6E880",
          "symbol": "cross"
         },
         "mode": "markers",
         "name": "Sweden, 2019",
         "orientation": "v",
         "showlegend": true,
         "type": "scatter",
         "x": [
          17137
         ],
         "xaxis": "x",
         "y": [
          -3916165.200000001
         ],
         "yaxis": "y"
        },
        {
         "hovertemplate": "geo=Sweden<br>time_period=2020<br>all_cars_diff=%{x}<br>emmission_diff=%{y}<extra></extra>",
         "legendgroup": "Sweden, 2020",
         "marker": {
          "color": "#B6E880",
          "symbol": "circle"
         },
         "mode": "markers",
         "name": "Sweden, 2020",
         "orientation": "v",
         "showlegend": true,
         "type": "scatter",
         "x": [
          56177
         ],
         "xaxis": "x",
         "y": [
          -8145186.4
         ],
         "yaxis": "y"
        },
        {
         "hovertemplate": "geo=Sweden<br>time_period=2021<br>all_cars_diff=%{x}<br>emmission_diff=%{y}<extra></extra>",
         "legendgroup": "Sweden, 2021",
         "marker": {
          "color": "#B6E880",
          "symbol": "diamond"
         },
         "mode": "markers",
         "name": "Sweden, 2021",
         "orientation": "v",
         "showlegend": true,
         "type": "scatter",
         "x": [
          42686
         ],
         "xaxis": "x",
         "y": [
          1058611.9
         ],
         "yaxis": "y"
        },
        {
         "hovertemplate": "geo=Sweden<br>time_period=2022<br>all_cars_diff=%{x}<br>emmission_diff=%{y}<extra></extra>",
         "legendgroup": "Sweden, 2022",
         "marker": {
          "color": "#B6E880",
          "symbol": "square"
         },
         "mode": "markers",
         "name": "Sweden, 2022",
         "orientation": "v",
         "showlegend": true,
         "type": "scatter",
         "x": [
          -6218
         ],
         "xaxis": "x",
         "y": [
          1081748.0999999996
         ],
         "yaxis": "y"
        },
        {
         "hovertemplate": "<b>OLS trendline</b><br>emmission_diff = -8.18236 * all_cars_diff + -516260<br>R<sup>2</sup>=0.036620<br><br>all_cars_diff=%{x}<br>emmission_diff=%{y} <b>(trend)</b><extra></extra>",
         "legendgroup": "Overall Trendline",
         "line": {
          "color": "#FF97FF"
         },
         "mode": "lines",
         "name": "Overall Trendline",
         "showlegend": true,
         "type": "scatter",
         "x": [
          -1992088,
          -372953,
          -36299,
          -18469,
          -14871,
          -6218,
          -3253,
          1228,
          2710,
          4057,
          4819,
          4899,
          5319,
          5657,
          6736,
          6837,
          6990,
          7541,
          8276,
          8342,
          8877,
          8975,
          9200,
          9430,
          9832,
          10375,
          11035,
          11201,
          11863,
          11960,
          12347,
          13523,
          13763,
          13998,
          15614,
          17054,
          17137,
          17247,
          17786,
          17820,
          18298,
          18305,
          18333,
          18767,
          19323,
          19564,
          20520,
          20592,
          21249,
          21385,
          21412,
          21806,
          22221,
          22793,
          23318,
          23358,
          23646,
          24078,
          25156,
          25215,
          25307,
          25359,
          25370,
          26555,
          28521,
          29118,
          32218,
          33449,
          34001,
          36817,
          38395,
          38730,
          39241,
          39475,
          39670,
          40530,
          41833,
          41860,
          42009,
          42550,
          42686,
          43183,
          45302,
          45678,
          46409,
          46425,
          46767,
          48462,
          49180,
          49486,
          52279,
          52436,
          53102,
          53127,
          53197,
          54674,
          56177,
          56621,
          57259,
          57728,
          58250,
          58487,
          60696,
          62125,
          62308,
          63941,
          64430,
          64518,
          66313,
          66681,
          66777,
          67647,
          68168,
          69233,
          69738,
          70290,
          70326,
          71570,
          71616,
          71871,
          71969,
          73509,
          73533,
          73970,
          74711,
          75872,
          76265,
          77021,
          77369,
          77561,
          79296,
          80274,
          83551,
          85474,
          85625,
          87200,
          87812,
          89161,
          89398,
          98491,
          99000,
          99360,
          101343,
          102028,
          102094,
          104849,
          108786,
          111642,
          112016,
          113844,
          116350,
          121781,
          121820,
          122110,
          123856,
          124260,
          127266,
          141290,
          141409,
          145940,
          148174,
          150270,
          158791,
          169149,
          169826,
          170190,
          172642,
          177082,
          191913,
          192492,
          197761,
          209243,
          209691,
          217204,
          222158,
          223498,
          230414,
          247495,
          254147,
          259535,
          270480,
          281930,
          292294,
          311596,
          317364,
          326037,
          336311,
          347016,
          370142,
          371744,
          390338,
          441521,
          444187,
          450448,
          454342,
          493375,
          497849,
          524905,
          525771,
          527062,
          532218,
          532396,
          532607,
          547709,
          620193,
          621190,
          627633,
          633237,
          644183,
          644990,
          668000,
          671034,
          671623,
          706633,
          732560,
          1334253,
          1649385,
          2365349,
          2590834,
          2805794,
          4361995,
          4440310,
          4670723,
          5725633
         ],
         "xaxis": "x",
         "y": [
          15783715.619400991,
          2535374.905525895,
          -219248.3313807908,
          -365139.75793162995,
          -394579.8786680248,
          -465381.814391211,
          -489642.5031025536,
          -526307.6451313988,
          -538433.8983085353,
          -549455.5332812768,
          -555690.4893683065,
          -556345.0779338739,
          -559781.6679031028,
          -562547.3045926252,
          -571376.0678707159,
          -572202.4859347447,
          -573454.3865663924,
          -577962.865311738,
          -583976.8977578887,
          -584516.9333244818,
          -588894.494356714,
          -589696.3653495341,
          -591537.3956901925,
          -593419.3378161987,
          -596708.645358175,
          -601151.665246964,
          -606552.0209128952,
          -607910.2921864475,
          -613327.012566518,
          -614120.7012022685,
          -617287.2733882009,
          -626909.725302042,
          -628873.4909987443,
          -630796.3449100986,
          -644019.0339345605,
          -655801.6281147741,
          -656480.7637515502,
          -657380.8230292054,
          -661791.113489716,
          -662069.3136300822,
          -665980.4803093475,
          -666037.7568088346,
          -666266.8628067832,
          -669818.0057749865,
          -674367.39630568,
          -676339.3443594519,
          -684161.6777179827,
          -684750.8074269933,
          -690126.6160217158,
          -691239.4165831804,
          -691460.3402240594,
          -694684.188909479,
          -698079.8670933599,
          -702760.175337167,
          -707055.9127987032,
          -707383.2070814869,
          -709739.7259175297,
          -713274.5041715937,
          -722095.0850926148,
          -722577.8441597207,
          -723330.6210101233,
          -723756.103577742,
          -723846.1095055076,
          -733542.2026329751,
          -749628.7166317945,
          -754513.5838023413,
          -779878.8907180789,
          -789951.3722707476,
          -794468.0333731628,
          -817509.5508811361,
          -830421.3103369535,
          -833162.3999552671,
          -837343.5844178289,
          -839258.2559721137,
          -840853.8156006843,
          -847890.642680534,
          -858552.2539422134,
          -858773.1775830925,
          -859992.3487864617,
          -864419.0039611114,
          -865531.804522576,
          -869598.4359861637,
          -886936.8506166307,
          -890013.4168747977,
          -895994.7198926699,
          -896125.6376057834,
          -898924.0037235841,
          -912793.098956544,
          -918668.0313325116,
          -921171.8325958069,
          -944025.1558911796,
          -945309.7859511056,
          -950759.2357594544,
          -950963.7946861942,
          -951536.5596810657,
          -963621.9010728542,
          -975919.9837484522,
          -979552.9502873514,
          -984773.2940977515,
          -988610.8195633906,
          -992882.0099537179,
          -994821.2285792115,
          -1012896.0553459419,
          -1024588.6435983899,
          -1026086.0149421254,
          -1039447.8040367705,
          -1043448.9766438013,
          -1044169.0240659255,
          -1058856.3550058445,
          -1061867.4624074546,
          -1062652.9686861355,
          -1069771.6193366812,
          -1074034.6273699391,
          -1082748.8376490555,
          -1086880.9279691998,
          -1091397.589071615,
          -1091692.1539261204,
          -1101871.0061206936,
          -1102247.394545895,
          -1104333.8955986411,
          -1105135.7665914611,
          -1117736.596478634,
          -1117932.9730483044,
          -1121508.6630877163,
          -1127571.7896762847,
          -1137071.506234082,
          -1140287.1725624318,
          -1146473.034507044,
          -1149320.4947672621,
          -1150891.507324624,
          -1165087.8968403675,
          -1173090.2420544291,
          -1199903.8261714848,
          -1215638.4988163116,
          -1216874.0347338202,
          -1229761.2471184288,
          -1234768.8496450195,
          -1245806.8493319002,
          -1247746.0679573936,
          -1322148.240791201,
          -1326313.0605396235,
          -1329258.7090846768,
          -1345484.3231536795,
          -1351089.2377463505,
          -1351629.2733129435,
          -1374171.6670396717,
          -1406385.6068226583,
          -1429754.4186134154,
          -1432814.620157443,
          -1447771.9688806587,
          -1468276.9556970582,
          -1512715.3369420166,
          -1513034.4488677306,
          -1515407.3324179125,
          -1529693.7278614214,
          -1532999.400117537,
          -1557595.565468733,
          -1672344.941012702,
          -1673318.6415039834,
          -1710392.9013863083,
          -1728672.2870797785,
          -1745822.507497645,
          -1815544.372087645,
          -1900297.2266144871,
          -1905836.6823506013,
          -1908815.0603239331,
          -1928878.1998585747,
          -1965207.8652475665,
          -2086560.4029466968,
          -2091297.987689991,
          -2134410.8270896752,
          -2228360.6509627397,
          -2232026.346929917,
          -2293500.395593768,
          -2334035.7925165305,
          -2345000.150989785,
          -2401589.332483088,
          -2541352.1735888026,
          -2595781.2128157336,
          -2639867.7527066995,
          -2729423.6508333925,
          -2823111.63928023,
          -2907913.5879494892,
          -3065849.444106769,
          -3113045.27968418,
          -3184010.8625487583,
          -3268076.3990817545,
          -3355668.531511745,
          -3544893.7211031476,
          -3558001.857128635,
          -3710144.6044806433,
          -4128942.18637361,
          -4150756.3503211443,
          -4201986.087933864,
          -4233848.186362859,
          -4553230.129860274,
          -4589837.995389632,
          -4811219.848264534,
          -4818305.769486801,
          -4828869.192463646,
          -4871057.425514466,
          -4872513.885072853,
          -4874240.362414537,
          -4997810.318879527,
          -5590900.28871189,
          -5599058.098710274,
          -5651777.0253096605,
          -5697630.954327658,
          -5787195.03481142,
          -5793798.196966582,
          -5982074.233137912,
          -6006899.504487056,
          -6011718.912801047,
          -6298183.233807489,
          -6510327.2055508215,
          -11433594.177825306,
          -14012116.725880217,
          -19870389.822854135,
          -21715388.606691264,
          -23474268.082370926,
          -36207660.33642827,
          -36848461.63033343,
          -38733783.06980951,
          -47365433.36609362
         ],
         "yaxis": "y"
        }
       ],
       "layout": {
        "legend": {
         "title": {
          "text": "geo, time_period"
         },
         "tracegroupgap": 0
        },
        "template": {
         "data": {
          "bar": [
           {
            "error_x": {
             "color": "#2a3f5f"
            },
            "error_y": {
             "color": "#2a3f5f"
            },
            "marker": {
             "line": {
              "color": "#E5ECF6",
              "width": 0.5
             },
             "pattern": {
              "fillmode": "overlay",
              "size": 10,
              "solidity": 0.2
             }
            },
            "type": "bar"
           }
          ],
          "barpolar": [
           {
            "marker": {
             "line": {
              "color": "#E5ECF6",
              "width": 0.5
             },
             "pattern": {
              "fillmode": "overlay",
              "size": 10,
              "solidity": 0.2
             }
            },
            "type": "barpolar"
           }
          ],
          "carpet": [
           {
            "aaxis": {
             "endlinecolor": "#2a3f5f",
             "gridcolor": "white",
             "linecolor": "white",
             "minorgridcolor": "white",
             "startlinecolor": "#2a3f5f"
            },
            "baxis": {
             "endlinecolor": "#2a3f5f",
             "gridcolor": "white",
             "linecolor": "white",
             "minorgridcolor": "white",
             "startlinecolor": "#2a3f5f"
            },
            "type": "carpet"
           }
          ],
          "choropleth": [
           {
            "colorbar": {
             "outlinewidth": 0,
             "ticks": ""
            },
            "type": "choropleth"
           }
          ],
          "contour": [
           {
            "colorbar": {
             "outlinewidth": 0,
             "ticks": ""
            },
            "colorscale": [
             [
              0,
              "#0d0887"
             ],
             [
              0.1111111111111111,
              "#46039f"
             ],
             [
              0.2222222222222222,
              "#7201a8"
             ],
             [
              0.3333333333333333,
              "#9c179e"
             ],
             [
              0.4444444444444444,
              "#bd3786"
             ],
             [
              0.5555555555555556,
              "#d8576b"
             ],
             [
              0.6666666666666666,
              "#ed7953"
             ],
             [
              0.7777777777777778,
              "#fb9f3a"
             ],
             [
              0.8888888888888888,
              "#fdca26"
             ],
             [
              1,
              "#f0f921"
             ]
            ],
            "type": "contour"
           }
          ],
          "contourcarpet": [
           {
            "colorbar": {
             "outlinewidth": 0,
             "ticks": ""
            },
            "type": "contourcarpet"
           }
          ],
          "heatmap": [
           {
            "colorbar": {
             "outlinewidth": 0,
             "ticks": ""
            },
            "colorscale": [
             [
              0,
              "#0d0887"
             ],
             [
              0.1111111111111111,
              "#46039f"
             ],
             [
              0.2222222222222222,
              "#7201a8"
             ],
             [
              0.3333333333333333,
              "#9c179e"
             ],
             [
              0.4444444444444444,
              "#bd3786"
             ],
             [
              0.5555555555555556,
              "#d8576b"
             ],
             [
              0.6666666666666666,
              "#ed7953"
             ],
             [
              0.7777777777777778,
              "#fb9f3a"
             ],
             [
              0.8888888888888888,
              "#fdca26"
             ],
             [
              1,
              "#f0f921"
             ]
            ],
            "type": "heatmap"
           }
          ],
          "heatmapgl": [
           {
            "colorbar": {
             "outlinewidth": 0,
             "ticks": ""
            },
            "colorscale": [
             [
              0,
              "#0d0887"
             ],
             [
              0.1111111111111111,
              "#46039f"
             ],
             [
              0.2222222222222222,
              "#7201a8"
             ],
             [
              0.3333333333333333,
              "#9c179e"
             ],
             [
              0.4444444444444444,
              "#bd3786"
             ],
             [
              0.5555555555555556,
              "#d8576b"
             ],
             [
              0.6666666666666666,
              "#ed7953"
             ],
             [
              0.7777777777777778,
              "#fb9f3a"
             ],
             [
              0.8888888888888888,
              "#fdca26"
             ],
             [
              1,
              "#f0f921"
             ]
            ],
            "type": "heatmapgl"
           }
          ],
          "histogram": [
           {
            "marker": {
             "pattern": {
              "fillmode": "overlay",
              "size": 10,
              "solidity": 0.2
             }
            },
            "type": "histogram"
           }
          ],
          "histogram2d": [
           {
            "colorbar": {
             "outlinewidth": 0,
             "ticks": ""
            },
            "colorscale": [
             [
              0,
              "#0d0887"
             ],
             [
              0.1111111111111111,
              "#46039f"
             ],
             [
              0.2222222222222222,
              "#7201a8"
             ],
             [
              0.3333333333333333,
              "#9c179e"
             ],
             [
              0.4444444444444444,
              "#bd3786"
             ],
             [
              0.5555555555555556,
              "#d8576b"
             ],
             [
              0.6666666666666666,
              "#ed7953"
             ],
             [
              0.7777777777777778,
              "#fb9f3a"
             ],
             [
              0.8888888888888888,
              "#fdca26"
             ],
             [
              1,
              "#f0f921"
             ]
            ],
            "type": "histogram2d"
           }
          ],
          "histogram2dcontour": [
           {
            "colorbar": {
             "outlinewidth": 0,
             "ticks": ""
            },
            "colorscale": [
             [
              0,
              "#0d0887"
             ],
             [
              0.1111111111111111,
              "#46039f"
             ],
             [
              0.2222222222222222,
              "#7201a8"
             ],
             [
              0.3333333333333333,
              "#9c179e"
             ],
             [
              0.4444444444444444,
              "#bd3786"
             ],
             [
              0.5555555555555556,
              "#d8576b"
             ],
             [
              0.6666666666666666,
              "#ed7953"
             ],
             [
              0.7777777777777778,
              "#fb9f3a"
             ],
             [
              0.8888888888888888,
              "#fdca26"
             ],
             [
              1,
              "#f0f921"
             ]
            ],
            "type": "histogram2dcontour"
           }
          ],
          "mesh3d": [
           {
            "colorbar": {
             "outlinewidth": 0,
             "ticks": ""
            },
            "type": "mesh3d"
           }
          ],
          "parcoords": [
           {
            "line": {
             "colorbar": {
              "outlinewidth": 0,
              "ticks": ""
             }
            },
            "type": "parcoords"
           }
          ],
          "pie": [
           {
            "automargin": true,
            "type": "pie"
           }
          ],
          "scatter": [
           {
            "fillpattern": {
             "fillmode": "overlay",
             "size": 10,
             "solidity": 0.2
            },
            "type": "scatter"
           }
          ],
          "scatter3d": [
           {
            "line": {
             "colorbar": {
              "outlinewidth": 0,
              "ticks": ""
             }
            },
            "marker": {
             "colorbar": {
              "outlinewidth": 0,
              "ticks": ""
             }
            },
            "type": "scatter3d"
           }
          ],
          "scattercarpet": [
           {
            "marker": {
             "colorbar": {
              "outlinewidth": 0,
              "ticks": ""
             }
            },
            "type": "scattercarpet"
           }
          ],
          "scattergeo": [
           {
            "marker": {
             "colorbar": {
              "outlinewidth": 0,
              "ticks": ""
             }
            },
            "type": "scattergeo"
           }
          ],
          "scattergl": [
           {
            "marker": {
             "colorbar": {
              "outlinewidth": 0,
              "ticks": ""
             }
            },
            "type": "scattergl"
           }
          ],
          "scattermapbox": [
           {
            "marker": {
             "colorbar": {
              "outlinewidth": 0,
              "ticks": ""
             }
            },
            "type": "scattermapbox"
           }
          ],
          "scatterpolar": [
           {
            "marker": {
             "colorbar": {
              "outlinewidth": 0,
              "ticks": ""
             }
            },
            "type": "scatterpolar"
           }
          ],
          "scatterpolargl": [
           {
            "marker": {
             "colorbar": {
              "outlinewidth": 0,
              "ticks": ""
             }
            },
            "type": "scatterpolargl"
           }
          ],
          "scatterternary": [
           {
            "marker": {
             "colorbar": {
              "outlinewidth": 0,
              "ticks": ""
             }
            },
            "type": "scatterternary"
           }
          ],
          "surface": [
           {
            "colorbar": {
             "outlinewidth": 0,
             "ticks": ""
            },
            "colorscale": [
             [
              0,
              "#0d0887"
             ],
             [
              0.1111111111111111,
              "#46039f"
             ],
             [
              0.2222222222222222,
              "#7201a8"
             ],
             [
              0.3333333333333333,
              "#9c179e"
             ],
             [
              0.4444444444444444,
              "#bd3786"
             ],
             [
              0.5555555555555556,
              "#d8576b"
             ],
             [
              0.6666666666666666,
              "#ed7953"
             ],
             [
              0.7777777777777778,
              "#fb9f3a"
             ],
             [
              0.8888888888888888,
              "#fdca26"
             ],
             [
              1,
              "#f0f921"
             ]
            ],
            "type": "surface"
           }
          ],
          "table": [
           {
            "cells": {
             "fill": {
              "color": "#EBF0F8"
             },
             "line": {
              "color": "white"
             }
            },
            "header": {
             "fill": {
              "color": "#C8D4E3"
             },
             "line": {
              "color": "white"
             }
            },
            "type": "table"
           }
          ]
         },
         "layout": {
          "annotationdefaults": {
           "arrowcolor": "#2a3f5f",
           "arrowhead": 0,
           "arrowwidth": 1
          },
          "autotypenumbers": "strict",
          "coloraxis": {
           "colorbar": {
            "outlinewidth": 0,
            "ticks": ""
           }
          },
          "colorscale": {
           "diverging": [
            [
             0,
             "#8e0152"
            ],
            [
             0.1,
             "#c51b7d"
            ],
            [
             0.2,
             "#de77ae"
            ],
            [
             0.3,
             "#f1b6da"
            ],
            [
             0.4,
             "#fde0ef"
            ],
            [
             0.5,
             "#f7f7f7"
            ],
            [
             0.6,
             "#e6f5d0"
            ],
            [
             0.7,
             "#b8e186"
            ],
            [
             0.8,
             "#7fbc41"
            ],
            [
             0.9,
             "#4d9221"
            ],
            [
             1,
             "#276419"
            ]
           ],
           "sequential": [
            [
             0,
             "#0d0887"
            ],
            [
             0.1111111111111111,
             "#46039f"
            ],
            [
             0.2222222222222222,
             "#7201a8"
            ],
            [
             0.3333333333333333,
             "#9c179e"
            ],
            [
             0.4444444444444444,
             "#bd3786"
            ],
            [
             0.5555555555555556,
             "#d8576b"
            ],
            [
             0.6666666666666666,
             "#ed7953"
            ],
            [
             0.7777777777777778,
             "#fb9f3a"
            ],
            [
             0.8888888888888888,
             "#fdca26"
            ],
            [
             1,
             "#f0f921"
            ]
           ],
           "sequentialminus": [
            [
             0,
             "#0d0887"
            ],
            [
             0.1111111111111111,
             "#46039f"
            ],
            [
             0.2222222222222222,
             "#7201a8"
            ],
            [
             0.3333333333333333,
             "#9c179e"
            ],
            [
             0.4444444444444444,
             "#bd3786"
            ],
            [
             0.5555555555555556,
             "#d8576b"
            ],
            [
             0.6666666666666666,
             "#ed7953"
            ],
            [
             0.7777777777777778,
             "#fb9f3a"
            ],
            [
             0.8888888888888888,
             "#fdca26"
            ],
            [
             1,
             "#f0f921"
            ]
           ]
          },
          "colorway": [
           "#636efa",
           "#EF553B",
           "#00cc96",
           "#ab63fa",
           "#FFA15A",
           "#19d3f3",
           "#FF6692",
           "#B6E880",
           "#FF97FF",
           "#FECB52"
          ],
          "font": {
           "color": "#2a3f5f"
          },
          "geo": {
           "bgcolor": "white",
           "lakecolor": "white",
           "landcolor": "#E5ECF6",
           "showlakes": true,
           "showland": true,
           "subunitcolor": "white"
          },
          "hoverlabel": {
           "align": "left"
          },
          "hovermode": "closest",
          "mapbox": {
           "style": "light"
          },
          "paper_bgcolor": "white",
          "plot_bgcolor": "#E5ECF6",
          "polar": {
           "angularaxis": {
            "gridcolor": "white",
            "linecolor": "white",
            "ticks": ""
           },
           "bgcolor": "#E5ECF6",
           "radialaxis": {
            "gridcolor": "white",
            "linecolor": "white",
            "ticks": ""
           }
          },
          "scene": {
           "xaxis": {
            "backgroundcolor": "#E5ECF6",
            "gridcolor": "white",
            "gridwidth": 2,
            "linecolor": "white",
            "showbackground": true,
            "ticks": "",
            "zerolinecolor": "white"
           },
           "yaxis": {
            "backgroundcolor": "#E5ECF6",
            "gridcolor": "white",
            "gridwidth": 2,
            "linecolor": "white",
            "showbackground": true,
            "ticks": "",
            "zerolinecolor": "white"
           },
           "zaxis": {
            "backgroundcolor": "#E5ECF6",
            "gridcolor": "white",
            "gridwidth": 2,
            "linecolor": "white",
            "showbackground": true,
            "ticks": "",
            "zerolinecolor": "white"
           }
          },
          "shapedefaults": {
           "line": {
            "color": "#2a3f5f"
           }
          },
          "ternary": {
           "aaxis": {
            "gridcolor": "white",
            "linecolor": "white",
            "ticks": ""
           },
           "baxis": {
            "gridcolor": "white",
            "linecolor": "white",
            "ticks": ""
           },
           "bgcolor": "#E5ECF6",
           "caxis": {
            "gridcolor": "white",
            "linecolor": "white",
            "ticks": ""
           }
          },
          "title": {
           "x": 0.05
          },
          "xaxis": {
           "automargin": true,
           "gridcolor": "white",
           "linecolor": "white",
           "ticks": "",
           "title": {
            "standoff": 15
           },
           "zerolinecolor": "white",
           "zerolinewidth": 2
          },
          "yaxis": {
           "automargin": true,
           "gridcolor": "white",
           "linecolor": "white",
           "ticks": "",
           "title": {
            "standoff": 15
           },
           "zerolinecolor": "white",
           "zerolinewidth": 2
          }
         }
        },
        "title": {
         "text": "Scatter Plot of EV Diff vs Emission Diff"
        },
        "xaxis": {
         "anchor": "y",
         "domain": [
          0,
          1
         ],
         "title": {
          "text": "all_cars_diff"
         }
        },
        "yaxis": {
         "anchor": "x",
         "domain": [
          0,
          1
         ],
         "title": {
          "text": "emmission_diff"
         }
        }
       }
      }
     },
     "metadata": {},
     "output_type": "display_data"
    }
   ],
   "source": [
    "fig = px.scatter(\n",
    "    df_cleaned,\n",
    "    x='all_cars_diff',\n",
    "    y='emmission_diff',\n",
    "    color='geo',\n",
    "    symbol='time_period',\n",
    "    labels={'ev_diff': 'EV Diff', 'emission_diff': 'Emission Diff'},\n",
    "    trendline='ols',\n",
    "    title=\"Scatter Plot of EV Diff vs Emission Diff\",\n",
    "    trendline_scope='overall'\n",
    ")\n",
    "\n",
    "fig.show()"
   ]
  },
  {
   "cell_type": "code",
   "execution_count": 16,
   "metadata": {},
   "outputs": [
    {
     "data": {
      "application/vnd.plotly.v1+json": {
       "config": {
        "plotlyServerURL": "https://plot.ly"
       },
       "data": [
        {
         "hovertemplate": "geo=Austria<br>time_period=2015<br>EV Diff=%{x}<br>emmission_diff=%{y}<extra></extra>",
         "legendgroup": "Austria, 2015",
         "marker": {
          "color": "#636efa",
          "symbol": "circle"
         },
         "mode": "markers",
         "name": "Austria, 2015",
         "orientation": "v",
         "showlegend": true,
         "type": "scatter",
         "x": [
          51478
         ],
         "xaxis": "x",
         "y": [
          3223453.799999982
         ],
         "yaxis": "y"
        },
        {
         "hovertemplate": "geo=Austria<br>time_period=2016<br>EV Diff=%{x}<br>emmission_diff=%{y}<extra></extra>",
         "legendgroup": "Austria, 2016",
         "marker": {
          "color": "#636efa",
          "symbol": "diamond"
         },
         "mode": "markers",
         "name": "Austria, 2016",
         "orientation": "v",
         "showlegend": true,
         "type": "scatter",
         "x": [
          69461
         ],
         "xaxis": "x",
         "y": [
          135194.40000000596
         ],
         "yaxis": "y"
        },
        {
         "hovertemplate": "geo=Austria<br>time_period=2017<br>EV Diff=%{x}<br>emmission_diff=%{y}<extra></extra>",
         "legendgroup": "Austria, 2017",
         "marker": {
          "color": "#636efa",
          "symbol": "square"
         },
         "mode": "markers",
         "name": "Austria, 2017",
         "orientation": "v",
         "showlegend": true,
         "type": "scatter",
         "x": [
          71470
         ],
         "xaxis": "x",
         "y": [
          6763593.900000006
         ],
         "yaxis": "y"
        },
        {
         "hovertemplate": "geo=Austria<br>time_period=2018<br>EV Diff=%{x}<br>emmission_diff=%{y}<extra></extra>",
         "legendgroup": "Austria, 2018",
         "marker": {
          "color": "#636efa",
          "symbol": "x"
         },
         "mode": "markers",
         "name": "Austria, 2018",
         "orientation": "v",
         "showlegend": true,
         "type": "scatter",
         "x": [
          74056
         ],
         "xaxis": "x",
         "y": [
          4870572.100000009
         ],
         "yaxis": "y"
        },
        {
         "hovertemplate": "geo=Austria<br>time_period=2019<br>EV Diff=%{x}<br>emmission_diff=%{y}<extra></extra>",
         "legendgroup": "Austria, 2019",
         "marker": {
          "color": "#636efa",
          "symbol": "cross"
         },
         "mode": "markers",
         "name": "Austria, 2019",
         "orientation": "v",
         "showlegend": true,
         "type": "scatter",
         "x": [
          51987
         ],
         "xaxis": "x",
         "y": [
          -1413976.600000009
         ],
         "yaxis": "y"
        },
        {
         "hovertemplate": "geo=Austria<br>time_period=2020<br>EV Diff=%{x}<br>emmission_diff=%{y}<extra></extra>",
         "legendgroup": "Austria, 2020",
         "marker": {
          "color": "#636efa",
          "symbol": "circle"
         },
         "mode": "markers",
         "name": "Austria, 2020",
         "orientation": "v",
         "showlegend": true,
         "type": "scatter",
         "x": [
          37291
         ],
         "xaxis": "x",
         "y": [
          -15615940.799999995
         ],
         "yaxis": "y"
        },
        {
         "hovertemplate": "geo=Austria<br>time_period=2021<br>EV Diff=%{x}<br>emmission_diff=%{y}<extra></extra>",
         "legendgroup": "Austria, 2021",
         "marker": {
          "color": "#636efa",
          "symbol": "diamond"
         },
         "mode": "markers",
         "name": "Austria, 2021",
         "orientation": "v",
         "showlegend": true,
         "type": "scatter",
         "x": [
          9967
         ],
         "xaxis": "x",
         "y": [
          -2433319.200000003
         ],
         "yaxis": "y"
        },
        {
         "hovertemplate": "geo=Austria<br>time_period=2022<br>EV Diff=%{x}<br>emmission_diff=%{y}<extra></extra>",
         "legendgroup": "Austria, 2022",
         "marker": {
          "color": "#636efa",
          "symbol": "square"
         },
         "mode": "markers",
         "name": "Austria, 2022",
         "orientation": "v",
         "showlegend": true,
         "type": "scatter",
         "x": [
          -16639
         ],
         "xaxis": "x",
         "y": [
          3040666.200000003
         ],
         "yaxis": "y"
        },
        {
         "hovertemplate": "geo=Belgium<br>time_period=2015<br>EV Diff=%{x}<br>emmission_diff=%{y}<extra></extra>",
         "legendgroup": "Belgium, 2015",
         "marker": {
          "color": "#EF553B",
          "symbol": "circle"
         },
         "mode": "markers",
         "name": "Belgium, 2015",
         "orientation": "v",
         "showlegend": true,
         "type": "scatter",
         "x": [
          76290
         ],
         "xaxis": "x",
         "y": [
          5087466.600000009
         ],
         "yaxis": "y"
        },
        {
         "hovertemplate": "geo=Belgium<br>time_period=2016<br>EV Diff=%{x}<br>emmission_diff=%{y}<extra></extra>",
         "legendgroup": "Belgium, 2016",
         "marker": {
          "color": "#EF553B",
          "symbol": "diamond"
         },
         "mode": "markers",
         "name": "Belgium, 2016",
         "orientation": "v",
         "showlegend": true,
         "type": "scatter",
         "x": [
          67340
         ],
         "xaxis": "x",
         "y": [
          -1457334.700000018
         ],
         "yaxis": "y"
        },
        {
         "hovertemplate": "geo=Belgium<br>time_period=2017<br>EV Diff=%{x}<br>emmission_diff=%{y}<extra></extra>",
         "legendgroup": "Belgium, 2017",
         "marker": {
          "color": "#EF553B",
          "symbol": "square"
         },
         "mode": "markers",
         "name": "Belgium, 2017",
         "orientation": "v",
         "showlegend": true,
         "type": "scatter",
         "x": [
          65297
         ],
         "xaxis": "x",
         "y": [
          434527
         ],
         "yaxis": "y"
        },
        {
         "hovertemplate": "geo=Belgium<br>time_period=2018<br>EV Diff=%{x}<br>emmission_diff=%{y}<extra></extra>",
         "legendgroup": "Belgium, 2018",
         "marker": {
          "color": "#EF553B",
          "symbol": "x"
         },
         "mode": "markers",
         "name": "Belgium, 2018",
         "orientation": "v",
         "showlegend": true,
         "type": "scatter",
         "x": [
          46147
         ],
         "xaxis": "x",
         "y": [
          501423.400000006
         ],
         "yaxis": "y"
        },
        {
         "hovertemplate": "geo=Belgium<br>time_period=2019<br>EV Diff=%{x}<br>emmission_diff=%{y}<extra></extra>",
         "legendgroup": "Belgium, 2019",
         "marker": {
          "color": "#EF553B",
          "symbol": "cross"
         },
         "mode": "markers",
         "name": "Belgium, 2019",
         "orientation": "v",
         "showlegend": true,
         "type": "scatter",
         "x": [
          25617
         ],
         "xaxis": "x",
         "y": [
          -536400.900000006
         ],
         "yaxis": "y"
        },
        {
         "hovertemplate": "geo=Belgium<br>time_period=2020<br>EV Diff=%{x}<br>emmission_diff=%{y}<extra></extra>",
         "legendgroup": "Belgium, 2020",
         "marker": {
          "color": "#EF553B",
          "symbol": "circle"
         },
         "mode": "markers",
         "name": "Belgium, 2020",
         "orientation": "v",
         "showlegend": true,
         "type": "scatter",
         "x": [
          2554
         ],
         "xaxis": "x",
         "y": [
          -10813077.399999993
         ],
         "yaxis": "y"
        },
        {
         "hovertemplate": "geo=Belgium<br>time_period=2021<br>EV Diff=%{x}<br>emmission_diff=%{y}<extra></extra>",
         "legendgroup": "Belgium, 2021",
         "marker": {
          "color": "#EF553B",
          "symbol": "diamond"
         },
         "mode": "markers",
         "name": "Belgium, 2021",
         "orientation": "v",
         "showlegend": true,
         "type": "scatter",
         "x": [
          7918
         ],
         "xaxis": "x",
         "y": [
          3776769.299999997
         ],
         "yaxis": "y"
        },
        {
         "hovertemplate": "geo=Belgium<br>time_period=2022<br>EV Diff=%{x}<br>emmission_diff=%{y}<extra></extra>",
         "legendgroup": "Belgium, 2022",
         "marker": {
          "color": "#EF553B",
          "symbol": "square"
         },
         "mode": "markers",
         "name": "Belgium, 2022",
         "orientation": "v",
         "showlegend": true,
         "type": "scatter",
         "x": [
          -8325
         ],
         "xaxis": "x",
         "y": [
          -6348299.399999991
         ],
         "yaxis": "y"
        },
        {
         "hovertemplate": "geo=Bulgaria<br>time_period=2015<br>EV Diff=%{x}<br>emmission_diff=%{y}<extra></extra>",
         "legendgroup": "Bulgaria, 2015",
         "marker": {
          "color": "#00cc96",
          "symbol": "circle"
         },
         "mode": "markers",
         "name": "Bulgaria, 2015",
         "orientation": "v",
         "showlegend": true,
         "type": "scatter",
         "x": [
          148138
         ],
         "xaxis": "x",
         "y": [
          3603473
         ],
         "yaxis": "y"
        },
        {
         "hovertemplate": "geo=Bulgaria<br>time_period=2016<br>EV Diff=%{x}<br>emmission_diff=%{y}<extra></extra>",
         "legendgroup": "Bulgaria, 2016",
         "marker": {
          "color": "#00cc96",
          "symbol": "diamond"
         },
         "mode": "markers",
         "name": "Bulgaria, 2016",
         "orientation": "v",
         "showlegend": true,
         "type": "scatter",
         "x": [
          -18501
         ],
         "xaxis": "x",
         "y": [
          -4160455.1000000015
         ],
         "yaxis": "y"
        },
        {
         "hovertemplate": "geo=Bulgaria<br>time_period=2017<br>EV Diff=%{x}<br>emmission_diff=%{y}<extra></extra>",
         "legendgroup": "Bulgaria, 2017",
         "marker": {
          "color": "#00cc96",
          "symbol": "square"
         },
         "mode": "markers",
         "name": "Bulgaria, 2017",
         "orientation": "v",
         "showlegend": true,
         "type": "scatter",
         "x": [
          -373122
         ],
         "xaxis": "x",
         "y": [
          1421244.3000000045
         ],
         "yaxis": "y"
        },
        {
         "hovertemplate": "geo=Bulgaria<br>time_period=2018<br>EV Diff=%{x}<br>emmission_diff=%{y}<extra></extra>",
         "legendgroup": "Bulgaria, 2018",
         "marker": {
          "color": "#00cc96",
          "symbol": "x"
         },
         "mode": "markers",
         "name": "Bulgaria, 2018",
         "orientation": "v",
         "showlegend": true,
         "type": "scatter",
         "x": [
          2384
         ],
         "xaxis": "x",
         "y": [
          -4060249
         ],
         "yaxis": "y"
        },
        {
         "hovertemplate": "geo=Bulgaria<br>time_period=2019<br>EV Diff=%{x}<br>emmission_diff=%{y}<extra></extra>",
         "legendgroup": "Bulgaria, 2019",
         "marker": {
          "color": "#00cc96",
          "symbol": "cross"
         },
         "mode": "markers",
         "name": "Bulgaria, 2019",
         "orientation": "v",
         "showlegend": true,
         "type": "scatter",
         "x": [
          56146
         ],
         "xaxis": "x",
         "y": [
          -1309780.6000000015
         ],
         "yaxis": "y"
        },
        {
         "hovertemplate": "geo=Bulgaria<br>time_period=2020<br>EV Diff=%{x}<br>emmission_diff=%{y}<extra></extra>",
         "legendgroup": "Bulgaria, 2020",
         "marker": {
          "color": "#00cc96",
          "symbol": "circle"
         },
         "mode": "markers",
         "name": "Bulgaria, 2020",
         "orientation": "v",
         "showlegend": true,
         "type": "scatter",
         "x": [
          36069
         ],
         "xaxis": "x",
         "y": [
          -6557681.1000000015
         ],
         "yaxis": "y"
        },
        {
         "hovertemplate": "geo=Bulgaria<br>time_period=2021<br>EV Diff=%{x}<br>emmission_diff=%{y}<extra></extra>",
         "legendgroup": "Bulgaria, 2021",
         "marker": {
          "color": "#00cc96",
          "symbol": "diamond"
         },
         "mode": "markers",
         "name": "Bulgaria, 2021",
         "orientation": "v",
         "showlegend": true,
         "type": "scatter",
         "x": [
          -37735
         ],
         "xaxis": "x",
         "y": [
          6312884.8000000045
         ],
         "yaxis": "y"
        },
        {
         "hovertemplate": "geo=Bulgaria<br>time_period=2022<br>EV Diff=%{x}<br>emmission_diff=%{y}<extra></extra>",
         "legendgroup": "Bulgaria, 2022",
         "marker": {
          "color": "#00cc96",
          "symbol": "square"
         },
         "mode": "markers",
         "name": "Bulgaria, 2022",
         "orientation": "v",
         "showlegend": true,
         "type": "scatter",
         "x": [
          63389
         ],
         "xaxis": "x",
         "y": [
          4843519.5
         ],
         "yaxis": "y"
        },
        {
         "hovertemplate": "geo=Croatia<br>time_period=2015<br>EV Diff=%{x}<br>emmission_diff=%{y}<extra></extra>",
         "legendgroup": "Croatia, 2015",
         "marker": {
          "color": "#ab63fa",
          "symbol": "circle"
         },
         "mode": "markers",
         "name": "Croatia, 2015",
         "orientation": "v",
         "showlegend": true,
         "type": "scatter",
         "x": [
          25183
         ],
         "xaxis": "x",
         "y": [
          659941.4000000022
         ],
         "yaxis": "y"
        },
        {
         "hovertemplate": "geo=Croatia<br>time_period=2016<br>EV Diff=%{x}<br>emmission_diff=%{y}<extra></extra>",
         "legendgroup": "Croatia, 2016",
         "marker": {
          "color": "#ab63fa",
          "symbol": "diamond"
         },
         "mode": "markers",
         "name": "Croatia, 2016",
         "orientation": "v",
         "showlegend": true,
         "type": "scatter",
         "x": [
          53031
         ],
         "xaxis": "x",
         "y": [
          577223
         ],
         "yaxis": "y"
        },
        {
         "hovertemplate": "geo=Croatia<br>time_period=2017<br>EV Diff=%{x}<br>emmission_diff=%{y}<extra></extra>",
         "legendgroup": "Croatia, 2017",
         "marker": {
          "color": "#ab63fa",
          "symbol": "square"
         },
         "mode": "markers",
         "name": "Croatia, 2017",
         "orientation": "v",
         "showlegend": true,
         "type": "scatter",
         "x": [
          43131
         ],
         "xaxis": "x",
         "y": [
          1767185.3000000007
         ],
         "yaxis": "y"
        },
        {
         "hovertemplate": "geo=Croatia<br>time_period=2018<br>EV Diff=%{x}<br>emmission_diff=%{y}<extra></extra>",
         "legendgroup": "Croatia, 2018",
         "marker": {
          "color": "#ab63fa",
          "symbol": "x"
         },
         "mode": "markers",
         "name": "Croatia, 2018",
         "orientation": "v",
         "showlegend": true,
         "type": "scatter",
         "x": [
          70150
         ],
         "xaxis": "x",
         "y": [
          -1571541.8999999985
         ],
         "yaxis": "y"
        },
        {
         "hovertemplate": "geo=Croatia<br>time_period=2019<br>EV Diff=%{x}<br>emmission_diff=%{y}<extra></extra>",
         "legendgroup": "Croatia, 2019",
         "marker": {
          "color": "#ab63fa",
          "symbol": "cross"
         },
         "mode": "markers",
         "name": "Croatia, 2019",
         "orientation": "v",
         "showlegend": true,
         "type": "scatter",
         "x": [
          58223
         ],
         "xaxis": "x",
         "y": [
          -246591
         ],
         "yaxis": "y"
        },
        {
         "hovertemplate": "geo=Croatia<br>time_period=2020<br>EV Diff=%{x}<br>emmission_diff=%{y}<extra></extra>",
         "legendgroup": "Croatia, 2020",
         "marker": {
          "color": "#ab63fa",
          "symbol": "circle"
         },
         "mode": "markers",
         "name": "Croatia, 2020",
         "orientation": "v",
         "showlegend": true,
         "type": "scatter",
         "x": [
          20797
         ],
         "xaxis": "x",
         "y": [
          -1369944.3000000045
         ],
         "yaxis": "y"
        },
        {
         "hovertemplate": "geo=Croatia<br>time_period=2021<br>EV Diff=%{x}<br>emmission_diff=%{y}<extra></extra>",
         "legendgroup": "Croatia, 2021",
         "marker": {
          "color": "#ab63fa",
          "symbol": "diamond"
         },
         "mode": "markers",
         "name": "Croatia, 2021",
         "orientation": "v",
         "showlegend": true,
         "type": "scatter",
         "x": [
          47517
         ],
         "xaxis": "x",
         "y": [
          182829.1000000015
         ],
         "yaxis": "y"
        },
        {
         "hovertemplate": "geo=Croatia<br>time_period=2022<br>EV Diff=%{x}<br>emmission_diff=%{y}<extra></extra>",
         "legendgroup": "Croatia, 2022",
         "marker": {
          "color": "#ab63fa",
          "symbol": "square"
         },
         "mode": "markers",
         "name": "Croatia, 2022",
         "orientation": "v",
         "showlegend": true,
         "type": "scatter",
         "x": [
          43477
         ],
         "xaxis": "x",
         "y": [
          998942.3000000007
         ],
         "yaxis": "y"
        },
        {
         "hovertemplate": "geo=Cyprus<br>time_period=2015<br>EV Diff=%{x}<br>emmission_diff=%{y}<extra></extra>",
         "legendgroup": "Cyprus, 2015",
         "marker": {
          "color": "#FFA15A",
          "symbol": "circle"
         },
         "mode": "markers",
         "name": "Cyprus, 2015",
         "orientation": "v",
         "showlegend": true,
         "type": "scatter",
         "x": [
          9192
         ],
         "xaxis": "x",
         "y": [
          -28516.79999999888
         ],
         "yaxis": "y"
        },
        {
         "hovertemplate": "geo=Cyprus<br>time_period=2016<br>EV Diff=%{x}<br>emmission_diff=%{y}<extra></extra>",
         "legendgroup": "Cyprus, 2016",
         "marker": {
          "color": "#FFA15A",
          "symbol": "diamond"
         },
         "mode": "markers",
         "name": "Cyprus, 2016",
         "orientation": "v",
         "showlegend": true,
         "type": "scatter",
         "x": [
          20575
         ],
         "xaxis": "x",
         "y": [
          607457.6999999993
         ],
         "yaxis": "y"
        },
        {
         "hovertemplate": "geo=Cyprus<br>time_period=2017<br>EV Diff=%{x}<br>emmission_diff=%{y}<extra></extra>",
         "legendgroup": "Cyprus, 2017",
         "marker": {
          "color": "#FFA15A",
          "symbol": "square"
         },
         "mode": "markers",
         "name": "Cyprus, 2017",
         "orientation": "v",
         "showlegend": true,
         "type": "scatter",
         "x": [
          18286
         ],
         "xaxis": "x",
         "y": [
          157441.49999999814
         ],
         "yaxis": "y"
        },
        {
         "hovertemplate": "geo=Cyprus<br>time_period=2018<br>EV Diff=%{x}<br>emmission_diff=%{y}<extra></extra>",
         "legendgroup": "Cyprus, 2018",
         "marker": {
          "color": "#FFA15A",
          "symbol": "x"
         },
         "mode": "markers",
         "name": "Cyprus, 2018",
         "orientation": "v",
         "showlegend": true,
         "type": "scatter",
         "x": [
          24051
         ],
         "xaxis": "x",
         "y": [
          -67186.39999999851
         ],
         "yaxis": "y"
        },
        {
         "hovertemplate": "geo=Cyprus<br>time_period=2019<br>EV Diff=%{x}<br>emmission_diff=%{y}<extra></extra>",
         "legendgroup": "Cyprus, 2019",
         "marker": {
          "color": "#FFA15A",
          "symbol": "cross"
         },
         "mode": "markers",
         "name": "Cyprus, 2019",
         "orientation": "v",
         "showlegend": true,
         "type": "scatter",
         "x": [
          21753
         ],
         "xaxis": "x",
         "y": [
          40703.09999999963
         ],
         "yaxis": "y"
        },
        {
         "hovertemplate": "geo=Cyprus<br>time_period=2020<br>EV Diff=%{x}<br>emmission_diff=%{y}<extra></extra>",
         "legendgroup": "Cyprus, 2020",
         "marker": {
          "color": "#FFA15A",
          "symbol": "circle"
         },
         "mode": "markers",
         "name": "Cyprus, 2020",
         "orientation": "v",
         "showlegend": true,
         "type": "scatter",
         "x": [
          5584
         ],
         "xaxis": "x",
         "y": [
          -1022451.0999999996
         ],
         "yaxis": "y"
        },
        {
         "hovertemplate": "geo=Cyprus<br>time_period=2021<br>EV Diff=%{x}<br>emmission_diff=%{y}<extra></extra>",
         "legendgroup": "Cyprus, 2021",
         "marker": {
          "color": "#FFA15A",
          "symbol": "diamond"
         },
         "mode": "markers",
         "name": "Cyprus, 2021",
         "orientation": "v",
         "showlegend": true,
         "type": "scatter",
         "x": [
          13905
         ],
         "xaxis": "x",
         "y": [
          524822.6999999993
         ],
         "yaxis": "y"
        },
        {
         "hovertemplate": "geo=Cyprus<br>time_period=2022<br>EV Diff=%{x}<br>emmission_diff=%{y}<extra></extra>",
         "legendgroup": "Cyprus, 2022",
         "marker": {
          "color": "#FFA15A",
          "symbol": "square"
         },
         "mode": "markers",
         "name": "Cyprus, 2022",
         "orientation": "v",
         "showlegend": true,
         "type": "scatter",
         "x": [
          8478
         ],
         "xaxis": "x",
         "y": [
          178320.30000000077
         ],
         "yaxis": "y"
        },
        {
         "hovertemplate": "geo=Czech Republic<br>time_period=2015<br>EV Diff=%{x}<br>emmission_diff=%{y}<extra></extra>",
         "legendgroup": "Czech Republic, 2015",
         "marker": {
          "color": "#19d3f3",
          "symbol": "circle"
         },
         "mode": "markers",
         "name": "Czech Republic, 2015",
         "orientation": "v",
         "showlegend": true,
         "type": "scatter",
         "x": [
          281634
         ],
         "xaxis": "x",
         "y": [
          2404998.999999985
         ],
         "yaxis": "y"
        },
        {
         "hovertemplate": "geo=Czech Republic<br>time_period=2016<br>EV Diff=%{x}<br>emmission_diff=%{y}<extra></extra>",
         "legendgroup": "Czech Republic, 2016",
         "marker": {
          "color": "#19d3f3",
          "symbol": "diamond"
         },
         "mode": "markers",
         "name": "Czech Republic, 2016",
         "orientation": "v",
         "showlegend": true,
         "type": "scatter",
         "x": [
          192231
         ],
         "xaxis": "x",
         "y": [
          2292914.200000018
         ],
         "yaxis": "y"
        },
        {
         "hovertemplate": "geo=Czech Republic<br>time_period=2017<br>EV Diff=%{x}<br>emmission_diff=%{y}<extra></extra>",
         "legendgroup": "Czech Republic, 2017",
         "marker": {
          "color": "#19d3f3",
          "symbol": "square"
         },
         "mode": "markers",
         "name": "Czech Republic, 2017",
         "orientation": "v",
         "showlegend": true,
         "type": "scatter",
         "x": [
          229863
         ],
         "xaxis": "x",
         "y": [
          2412990.299999997
         ],
         "yaxis": "y"
        },
        {
         "hovertemplate": "geo=Czech Republic<br>time_period=2018<br>EV Diff=%{x}<br>emmission_diff=%{y}<extra></extra>",
         "legendgroup": "Czech Republic, 2018",
         "marker": {
          "color": "#19d3f3",
          "symbol": "x"
         },
         "mode": "markers",
         "name": "Czech Republic, 2018",
         "orientation": "v",
         "showlegend": true,
         "type": "scatter",
         "x": [
          207811
         ],
         "xaxis": "x",
         "y": [
          3560960
         ],
         "yaxis": "y"
        },
        {
         "hovertemplate": "geo=Czech Republic<br>time_period=2019<br>EV Diff=%{x}<br>emmission_diff=%{y}<extra></extra>",
         "legendgroup": "Czech Republic, 2019",
         "marker": {
          "color": "#19d3f3",
          "symbol": "cross"
         },
         "mode": "markers",
         "name": "Czech Republic, 2019",
         "orientation": "v",
         "showlegend": true,
         "type": "scatter",
         "x": [
          175537
         ],
         "xaxis": "x",
         "y": [
          492838
         ],
         "yaxis": "y"
        },
        {
         "hovertemplate": "geo=Czech Republic<br>time_period=2020<br>EV Diff=%{x}<br>emmission_diff=%{y}<extra></extra>",
         "legendgroup": "Czech Republic, 2020",
         "marker": {
          "color": "#19d3f3",
          "symbol": "circle"
         },
         "mode": "markers",
         "name": "Czech Republic, 2020",
         "orientation": "v",
         "showlegend": true,
         "type": "scatter",
         "x": [
          121100
         ],
         "xaxis": "x",
         "y": [
          -8007827.600000009
         ],
         "yaxis": "y"
        },
        {
         "hovertemplate": "geo=Czech Republic<br>time_period=2021<br>EV Diff=%{x}<br>emmission_diff=%{y}<extra></extra>",
         "legendgroup": "Czech Republic, 2021",
         "marker": {
          "color": "#19d3f3",
          "symbol": "diamond"
         },
         "mode": "markers",
         "name": "Czech Republic, 2021",
         "orientation": "v",
         "showlegend": true,
         "type": "scatter",
         "x": [
          38528
         ],
         "xaxis": "x",
         "y": [
          1888339.600000009
         ],
         "yaxis": "y"
        },
        {
         "hovertemplate": "geo=Czech Republic<br>time_period=2022<br>EV Diff=%{x}<br>emmission_diff=%{y}<extra></extra>",
         "legendgroup": "Czech Republic, 2022",
         "marker": {
          "color": "#19d3f3",
          "symbol": "square"
         },
         "mode": "markers",
         "name": "Czech Republic, 2022",
         "orientation": "v",
         "showlegend": true,
         "type": "scatter",
         "x": [
          212054
         ],
         "xaxis": "x",
         "y": [
          -6047572.200000003
         ],
         "yaxis": "y"
        },
        {
         "hovertemplate": "geo=Denmark<br>time_period=2015<br>EV Diff=%{x}<br>emmission_diff=%{y}<extra></extra>",
         "legendgroup": "Denmark, 2015",
         "marker": {
          "color": "#FF6692",
          "symbol": "circle"
         },
         "mode": "markers",
         "name": "Denmark, 2015",
         "orientation": "v",
         "showlegend": true,
         "type": "scatter",
         "x": [
          66608
         ],
         "xaxis": "x",
         "y": [
          -3640248.500000008
         ],
         "yaxis": "y"
        },
        {
         "hovertemplate": "geo=Denmark<br>time_period=2016<br>EV Diff=%{x}<br>emmission_diff=%{y}<extra></extra>",
         "legendgroup": "Denmark, 2016",
         "marker": {
          "color": "#FF6692",
          "symbol": "diamond"
         },
         "mode": "markers",
         "name": "Denmark, 2016",
         "orientation": "v",
         "showlegend": true,
         "type": "scatter",
         "x": [
          73922
         ],
         "xaxis": "x",
         "y": [
          3290956.700000003
         ],
         "yaxis": "y"
        },
        {
         "hovertemplate": "geo=Denmark<br>time_period=2017<br>EV Diff=%{x}<br>emmission_diff=%{y}<extra></extra>",
         "legendgroup": "Denmark, 2017",
         "marker": {
          "color": "#FF6692",
          "symbol": "square"
         },
         "mode": "markers",
         "name": "Denmark, 2017",
         "orientation": "v",
         "showlegend": true,
         "type": "scatter",
         "x": [
          64400
         ],
         "xaxis": "x",
         "y": [
          -2471659.8999999985
         ],
         "yaxis": "y"
        },
        {
         "hovertemplate": "geo=Denmark<br>time_period=2018<br>EV Diff=%{x}<br>emmission_diff=%{y}<extra></extra>",
         "legendgroup": "Denmark, 2018",
         "marker": {
          "color": "#FF6692",
          "symbol": "x"
         },
         "mode": "markers",
         "name": "Denmark, 2018",
         "orientation": "v",
         "showlegend": true,
         "type": "scatter",
         "x": [
          63158
         ],
         "xaxis": "x",
         "y": [
          1454511.200000003
         ],
         "yaxis": "y"
        },
        {
         "hovertemplate": "geo=Denmark<br>time_period=2019<br>EV Diff=%{x}<br>emmission_diff=%{y}<extra></extra>",
         "legendgroup": "Denmark, 2019",
         "marker": {
          "color": "#FF6692",
          "symbol": "cross"
         },
         "mode": "markers",
         "name": "Denmark, 2019",
         "orientation": "v",
         "showlegend": true,
         "type": "scatter",
         "x": [
          51799
         ],
         "xaxis": "x",
         "y": [
          -4410889.399999999
         ],
         "yaxis": "y"
        },
        {
         "hovertemplate": "geo=Denmark<br>time_period=2020<br>EV Diff=%{x}<br>emmission_diff=%{y}<extra></extra>",
         "legendgroup": "Denmark, 2020",
         "marker": {
          "color": "#FF6692",
          "symbol": "circle"
         },
         "mode": "markers",
         "name": "Denmark, 2020",
         "orientation": "v",
         "showlegend": true,
         "type": "scatter",
         "x": [
          55453
         ],
         "xaxis": "x",
         "y": [
          -5097021.5
         ],
         "yaxis": "y"
        },
        {
         "hovertemplate": "geo=Denmark<br>time_period=2021<br>EV Diff=%{x}<br>emmission_diff=%{y}<extra></extra>",
         "legendgroup": "Denmark, 2021",
         "marker": {
          "color": "#FF6692",
          "symbol": "diamond"
         },
         "mode": "markers",
         "name": "Denmark, 2021",
         "orientation": "v",
         "showlegend": true,
         "type": "scatter",
         "x": [
          29157
         ],
         "xaxis": "x",
         "y": [
          133071.3999999985
         ],
         "yaxis": "y"
        },
        {
         "hovertemplate": "geo=Denmark<br>time_period=2022<br>EV Diff=%{x}<br>emmission_diff=%{y}<extra></extra>",
         "legendgroup": "Denmark, 2022",
         "marker": {
          "color": "#FF6692",
          "symbol": "square"
         },
         "mode": "markers",
         "name": "Denmark, 2022",
         "orientation": "v",
         "showlegend": true,
         "type": "scatter",
         "x": [
          -32515
         ],
         "xaxis": "x",
         "y": [
          -1505038.5
         ],
         "yaxis": "y"
        },
        {
         "hovertemplate": "geo=Estonia<br>time_period=2015<br>EV Diff=%{x}<br>emmission_diff=%{y}<extra></extra>",
         "legendgroup": "Estonia, 2015",
         "marker": {
          "color": "#B6E880",
          "symbol": "circle"
         },
         "mode": "markers",
         "name": "Estonia, 2015",
         "orientation": "v",
         "showlegend": true,
         "type": "scatter",
         "x": [
          23597
         ],
         "xaxis": "x",
         "y": [
          -2513721.6999999997
         ],
         "yaxis": "y"
        },
        {
         "hovertemplate": "geo=Estonia<br>time_period=2016<br>EV Diff=%{x}<br>emmission_diff=%{y}<extra></extra>",
         "legendgroup": "Estonia, 2016",
         "marker": {
          "color": "#B6E880",
          "symbol": "diamond"
         },
         "mode": "markers",
         "name": "Estonia, 2016",
         "orientation": "v",
         "showlegend": true,
         "type": "scatter",
         "x": [
          26515
         ],
         "xaxis": "x",
         "y": [
          2647353.5999999978
         ],
         "yaxis": "y"
        },
        {
         "hovertemplate": "geo=Estonia<br>time_period=2017<br>EV Diff=%{x}<br>emmission_diff=%{y}<extra></extra>",
         "legendgroup": "Estonia, 2017",
         "marker": {
          "color": "#B6E880",
          "symbol": "square"
         },
         "mode": "markers",
         "name": "Estonia, 2017",
         "orientation": "v",
         "showlegend": true,
         "type": "scatter",
         "x": [
          22758
         ],
         "xaxis": "x",
         "y": [
          1047440.4000000022
         ],
         "yaxis": "y"
        },
        {
         "hovertemplate": "geo=Estonia<br>time_period=2018<br>EV Diff=%{x}<br>emmission_diff=%{y}<extra></extra>",
         "legendgroup": "Estonia, 2018",
         "marker": {
          "color": "#B6E880",
          "symbol": "x"
         },
         "mode": "markers",
         "name": "Estonia, 2018",
         "orientation": "v",
         "showlegend": true,
         "type": "scatter",
         "x": [
          20457
         ],
         "xaxis": "x",
         "y": [
          983558.6999999993
         ],
         "yaxis": "y"
        },
        {
         "hovertemplate": "geo=Estonia<br>time_period=2019<br>EV Diff=%{x}<br>emmission_diff=%{y}<extra></extra>",
         "legendgroup": "Estonia, 2019",
         "marker": {
          "color": "#B6E880",
          "symbol": "cross"
         },
         "mode": "markers",
         "name": "Estonia, 2019",
         "orientation": "v",
         "showlegend": true,
         "type": "scatter",
         "x": [
          48334
         ],
         "xaxis": "x",
         "y": [
          -5594928.699999999
         ],
         "yaxis": "y"
        },
        {
         "hovertemplate": "geo=Estonia<br>time_period=2020<br>EV Diff=%{x}<br>emmission_diff=%{y}<extra></extra>",
         "legendgroup": "Estonia, 2020",
         "marker": {
          "color": "#B6E880",
          "symbol": "circle"
         },
         "mode": "markers",
         "name": "Estonia, 2020",
         "orientation": "v",
         "showlegend": true,
         "type": "scatter",
         "x": [
          13372
         ],
         "xaxis": "x",
         "y": [
          -5392280
         ],
         "yaxis": "y"
        },
        {
         "hovertemplate": "geo=Estonia<br>time_period=2021<br>EV Diff=%{x}<br>emmission_diff=%{y}<extra></extra>",
         "legendgroup": "Estonia, 2021",
         "marker": {
          "color": "#B6E880",
          "symbol": "diamond"
         },
         "mode": "markers",
         "name": "Estonia, 2021",
         "orientation": "v",
         "showlegend": true,
         "type": "scatter",
         "x": [
          16563
         ],
         "xaxis": "x",
         "y": [
          941421.5999999996
         ],
         "yaxis": "y"
        },
        {
         "hovertemplate": "geo=Estonia<br>time_period=2022<br>EV Diff=%{x}<br>emmission_diff=%{y}<extra></extra>",
         "legendgroup": "Estonia, 2022",
         "marker": {
          "color": "#B6E880",
          "symbol": "square"
         },
         "mode": "markers",
         "name": "Estonia, 2022",
         "orientation": "v",
         "showlegend": true,
         "type": "scatter",
         "x": [
          22352
         ],
         "xaxis": "x",
         "y": [
          683523.5999999996
         ],
         "yaxis": "y"
        },
        {
         "hovertemplate": "geo=European Union<br>time_period=2015<br>EV Diff=%{x}<br>emmission_diff=%{y}<extra></extra>",
         "legendgroup": "European Union, 2015",
         "marker": {
          "color": "#FF97FF",
          "symbol": "circle"
         },
         "mode": "markers",
         "name": "European Union, 2015",
         "orientation": "v",
         "showlegend": true,
         "type": "scatter",
         "x": [
          1290276
         ],
         "xaxis": "x",
         "y": [
          49450950.69999981
         ],
         "yaxis": "y"
        },
        {
         "hovertemplate": "geo=European Union<br>time_period=2016<br>EV Diff=%{x}<br>emmission_diff=%{y}<extra></extra>",
         "legendgroup": "European Union, 2016",
         "marker": {
          "color": "#FF97FF",
          "symbol": "diamond"
         },
         "mode": "markers",
         "name": "European Union, 2016",
         "orientation": "v",
         "showlegend": true,
         "type": "scatter",
         "x": [
          5677347
         ],
         "xaxis": "x",
         "y": [
          8722047.599999905
         ],
         "yaxis": "y"
        },
        {
         "hovertemplate": "geo=European Union<br>time_period=2017<br>EV Diff=%{x}<br>emmission_diff=%{y}<extra></extra>",
         "legendgroup": "European Union, 2017",
         "marker": {
          "color": "#FF97FF",
          "symbol": "square"
         },
         "mode": "markers",
         "name": "European Union, 2017",
         "orientation": "v",
         "showlegend": true,
         "type": "scatter",
         "x": [
          4586929
         ],
         "xaxis": "x",
         "y": [
          94339524.40000056
         ],
         "yaxis": "y"
        },
        {
         "hovertemplate": "geo=European Union<br>time_period=2018<br>EV Diff=%{x}<br>emmission_diff=%{y}<extra></extra>",
         "legendgroup": "European Union, 2018",
         "marker": {
          "color": "#FF97FF",
          "symbol": "x"
         },
         "mode": "markers",
         "name": "European Union, 2018",
         "orientation": "v",
         "showlegend": true,
         "type": "scatter",
         "x": [
          4256299
         ],
         "xaxis": "x",
         "y": [
          -83816101.60000038
         ],
         "yaxis": "y"
        },
        {
         "hovertemplate": "geo=European Union<br>time_period=2019<br>EV Diff=%{x}<br>emmission_diff=%{y}<extra></extra>",
         "legendgroup": "European Union, 2019",
         "marker": {
          "color": "#FF97FF",
          "symbol": "cross"
         },
         "mode": "markers",
         "name": "European Union, 2019",
         "orientation": "v",
         "showlegend": true,
         "type": "scatter",
         "x": [
          4207029
         ],
         "xaxis": "x",
         "y": [
          -126966882.9000001
         ],
         "yaxis": "y"
        },
        {
         "hovertemplate": "geo=European Union<br>time_period=2020<br>EV Diff=%{x}<br>emmission_diff=%{y}<extra></extra>",
         "legendgroup": "European Union, 2020",
         "marker": {
          "color": "#FF97FF",
          "symbol": "circle"
         },
         "mode": "markers",
         "name": "European Union, 2020",
         "orientation": "v",
         "showlegend": true,
         "type": "scatter",
         "x": [
          2302218
         ],
         "xaxis": "x",
         "y": [
          -350748706.1999998
         ],
         "yaxis": "y"
        },
        {
         "hovertemplate": "geo=European Union<br>time_period=2021<br>EV Diff=%{x}<br>emmission_diff=%{y}<extra></extra>",
         "legendgroup": "European Union, 2021",
         "marker": {
          "color": "#FF97FF",
          "symbol": "diamond"
         },
         "mode": "markers",
         "name": "European Union, 2021",
         "orientation": "v",
         "showlegend": true,
         "type": "scatter",
         "x": [
          1742764
         ],
         "xaxis": "x",
         "y": [
          170347610.8000002
         ],
         "yaxis": "y"
        },
        {
         "hovertemplate": "geo=European Union<br>time_period=2022<br>EV Diff=%{x}<br>emmission_diff=%{y}<extra></extra>",
         "legendgroup": "European Union, 2022",
         "marker": {
          "color": "#FF97FF",
          "symbol": "square"
         },
         "mode": "markers",
         "name": "European Union, 2022",
         "orientation": "v",
         "showlegend": true,
         "type": "scatter",
         "x": [
          1289583
         ],
         "xaxis": "x",
         "y": [
          -44843980.60000038
         ],
         "yaxis": "y"
        },
        {
         "hovertemplate": "geo=Finland<br>time_period=2015<br>EV Diff=%{x}<br>emmission_diff=%{y}<extra></extra>",
         "legendgroup": "Finland, 2015",
         "marker": {
          "color": "#FECB52",
          "symbol": "circle"
         },
         "mode": "markers",
         "name": "Finland, 2015",
         "orientation": "v",
         "showlegend": true,
         "type": "scatter",
         "x": [
          61854
         ],
         "xaxis": "x",
         "y": [
          1254118
         ],
         "yaxis": "y"
        },
        {
         "hovertemplate": "geo=Finland<br>time_period=2016<br>EV Diff=%{x}<br>emmission_diff=%{y}<extra></extra>",
         "legendgroup": "Finland, 2016",
         "marker": {
          "color": "#FECB52",
          "symbol": "diamond"
         },
         "mode": "markers",
         "name": "Finland, 2016",
         "orientation": "v",
         "showlegend": true,
         "type": "scatter",
         "x": [
          87579
         ],
         "xaxis": "x",
         "y": [
          6709209.599999994
         ],
         "yaxis": "y"
        },
        {
         "hovertemplate": "geo=Finland<br>time_period=2017<br>EV Diff=%{x}<br>emmission_diff=%{y}<extra></extra>",
         "legendgroup": "Finland, 2017",
         "marker": {
          "color": "#FECB52",
          "symbol": "square"
         },
         "mode": "markers",
         "name": "Finland, 2017",
         "orientation": "v",
         "showlegend": true,
         "type": "scatter",
         "x": [
          75616
         ],
         "xaxis": "x",
         "y": [
          -403230.8999999985
         ],
         "yaxis": "y"
        },
        {
         "hovertemplate": "geo=Finland<br>time_period=2018<br>EV Diff=%{x}<br>emmission_diff=%{y}<extra></extra>",
         "legendgroup": "Finland, 2018",
         "marker": {
          "color": "#FECB52",
          "symbol": "x"
         },
         "mode": "markers",
         "name": "Finland, 2018",
         "orientation": "v",
         "showlegend": true,
         "type": "scatter",
         "x": [
          70608
         ],
         "xaxis": "x",
         "y": [
          10564427.300000004
         ],
         "yaxis": "y"
        },
        {
         "hovertemplate": "geo=Finland<br>time_period=2019<br>EV Diff=%{x}<br>emmission_diff=%{y}<extra></extra>",
         "legendgroup": "Finland, 2019",
         "marker": {
          "color": "#FECB52",
          "symbol": "cross"
         },
         "mode": "markers",
         "name": "Finland, 2019",
         "orientation": "v",
         "showlegend": true,
         "type": "scatter",
         "x": [
          76966
         ],
         "xaxis": "x",
         "y": [
          -8775991.399999999
         ],
         "yaxis": "y"
        },
        {
         "hovertemplate": "geo=Finland<br>time_period=2020<br>EV Diff=%{x}<br>emmission_diff=%{y}<extra></extra>",
         "legendgroup": "Finland, 2020",
         "marker": {
          "color": "#FECB52",
          "symbol": "circle"
         },
         "mode": "markers",
         "name": "Finland, 2020",
         "orientation": "v",
         "showlegend": true,
         "type": "scatter",
         "x": [
          52599
         ],
         "xaxis": "x",
         "y": [
          -8771161
         ],
         "yaxis": "y"
        },
        {
         "hovertemplate": "geo=Finland<br>time_period=2021<br>EV Diff=%{x}<br>emmission_diff=%{y}<extra></extra>",
         "legendgroup": "Finland, 2021",
         "marker": {
          "color": "#FECB52",
          "symbol": "diamond"
         },
         "mode": "markers",
         "name": "Finland, 2021",
         "orientation": "v",
         "showlegend": true,
         "type": "scatter",
         "x": [
          20462
         ],
         "xaxis": "x",
         "y": [
          8920376.600000001
         ],
         "yaxis": "y"
        },
        {
         "hovertemplate": "geo=Finland<br>time_period=2022<br>EV Diff=%{x}<br>emmission_diff=%{y}<extra></extra>",
         "legendgroup": "Finland, 2022",
         "marker": {
          "color": "#FECB52",
          "symbol": "square"
         },
         "mode": "markers",
         "name": "Finland, 2022",
         "orientation": "v",
         "showlegend": true,
         "type": "scatter",
         "x": [
          9131
         ],
         "xaxis": "x",
         "y": [
          -419012.8999999985
         ],
         "yaxis": "y"
        },
        {
         "hovertemplate": "geo=France<br>time_period=2015<br>EV Diff=%{x}<br>emmission_diff=%{y}<extra></extra>",
         "legendgroup": "France, 2015",
         "marker": {
          "color": "#636efa",
          "symbol": "circle"
         },
         "mode": "markers",
         "name": "France, 2015",
         "orientation": "v",
         "showlegend": true,
         "type": "scatter",
         "x": [
          516255
         ],
         "xaxis": "x",
         "y": [
          8515722.5
         ],
         "yaxis": "y"
        },
        {
         "hovertemplate": "geo=France<br>time_period=2016<br>EV Diff=%{x}<br>emmission_diff=%{y}<extra></extra>",
         "legendgroup": "France, 2016",
         "marker": {
          "color": "#636efa",
          "symbol": "diamond"
         },
         "mode": "markers",
         "name": "France, 2016",
         "orientation": "v",
         "showlegend": true,
         "type": "scatter",
         "x": [
          473926
         ],
         "xaxis": "x",
         "y": [
          7835386.099999964
         ],
         "yaxis": "y"
        },
        {
         "hovertemplate": "geo=France<br>time_period=2017<br>EV Diff=%{x}<br>emmission_diff=%{y}<extra></extra>",
         "legendgroup": "France, 2017",
         "marker": {
          "color": "#636efa",
          "symbol": "square"
         },
         "mode": "markers",
         "name": "France, 2017",
         "orientation": "v",
         "showlegend": true,
         "type": "scatter",
         "x": [
          422989
         ],
         "xaxis": "x",
         "y": [
          14493368.200000048
         ],
         "yaxis": "y"
        },
        {
         "hovertemplate": "geo=France<br>time_period=2018<br>EV Diff=%{x}<br>emmission_diff=%{y}<extra></extra>",
         "legendgroup": "France, 2018",
         "marker": {
          "color": "#636efa",
          "symbol": "x"
         },
         "mode": "markers",
         "name": "France, 2018",
         "orientation": "v",
         "showlegend": true,
         "type": "scatter",
         "x": [
          87603
         ],
         "xaxis": "x",
         "y": [
          -25338915.199999988
         ],
         "yaxis": "y"
        },
        {
         "hovertemplate": "geo=France<br>time_period=2019<br>EV Diff=%{x}<br>emmission_diff=%{y}<extra></extra>",
         "legendgroup": "France, 2019",
         "marker": {
          "color": "#636efa",
          "symbol": "cross"
         },
         "mode": "markers",
         "name": "France, 2019",
         "orientation": "v",
         "showlegend": true,
         "type": "scatter",
         "x": [
          156983
         ],
         "xaxis": "x",
         "y": [
          1691180.800000012
         ],
         "yaxis": "y"
        },
        {
         "hovertemplate": "geo=France<br>time_period=2020<br>EV Diff=%{x}<br>emmission_diff=%{y}<extra></extra>",
         "legendgroup": "France, 2020",
         "marker": {
          "color": "#636efa",
          "symbol": "circle"
         },
         "mode": "markers",
         "name": "France, 2020",
         "orientation": "v",
         "showlegend": true,
         "type": "scatter",
         "x": [
          -57477
         ],
         "xaxis": "x",
         "y": [
          -52806568.80000007
         ],
         "yaxis": "y"
        },
        {
         "hovertemplate": "geo=France<br>time_period=2021<br>EV Diff=%{x}<br>emmission_diff=%{y}<extra></extra>",
         "legendgroup": "France, 2021",
         "marker": {
          "color": "#636efa",
          "symbol": "diamond"
         },
         "mode": "markers",
         "name": "France, 2021",
         "orientation": "v",
         "showlegend": true,
         "type": "scatter",
         "x": [
          188753
         ],
         "xaxis": "x",
         "y": [
          21746105.600000083
         ],
         "yaxis": "y"
        },
        {
         "hovertemplate": "geo=France<br>time_period=2022<br>EV Diff=%{x}<br>emmission_diff=%{y}<extra></extra>",
         "legendgroup": "France, 2022",
         "marker": {
          "color": "#636efa",
          "symbol": "square"
         },
         "mode": "markers",
         "name": "France, 2022",
         "orientation": "v",
         "showlegend": true,
         "type": "scatter",
         "x": [
          -150814
         ],
         "xaxis": "x",
         "y": [
          -12243349.100000024
         ],
         "yaxis": "y"
        },
        {
         "hovertemplate": "geo=Germany<br>time_period=2015<br>EV Diff=%{x}<br>emmission_diff=%{y}<extra></extra>",
         "legendgroup": "Germany, 2015",
         "marker": {
          "color": "#EF553B",
          "symbol": "circle"
         },
         "mode": "markers",
         "name": "Germany, 2015",
         "orientation": "v",
         "showlegend": true,
         "type": "scatter",
         "x": [
          660914
         ],
         "xaxis": "x",
         "y": [
          4816828.800000072
         ],
         "yaxis": "y"
        },
        {
         "hovertemplate": "geo=Germany<br>time_period=2016<br>EV Diff=%{x}<br>emmission_diff=%{y}<extra></extra>",
         "legendgroup": "Germany, 2016",
         "marker": {
          "color": "#EF553B",
          "symbol": "diamond"
         },
         "mode": "markers",
         "name": "Germany, 2016",
         "orientation": "v",
         "showlegend": true,
         "type": "scatter",
         "x": [
          724489
         ],
         "xaxis": "x",
         "y": [
          2737678
         ],
         "yaxis": "y"
        },
        {
         "hovertemplate": "geo=Germany<br>time_period=2017<br>EV Diff=%{x}<br>emmission_diff=%{y}<extra></extra>",
         "legendgroup": "Germany, 2017",
         "marker": {
          "color": "#EF553B",
          "symbol": "square"
         },
         "mode": "markers",
         "name": "Germany, 2017",
         "orientation": "v",
         "showlegend": true,
         "type": "scatter",
         "x": [
          650958
         ],
         "xaxis": "x",
         "y": [
          -12664074.699999928
         ],
         "yaxis": "y"
        },
        {
         "hovertemplate": "geo=Germany<br>time_period=2018<br>EV Diff=%{x}<br>emmission_diff=%{y}<extra></extra>",
         "legendgroup": "Germany, 2018",
         "marker": {
          "color": "#EF553B",
          "symbol": "x"
         },
         "mode": "markers",
         "name": "Germany, 2018",
         "orientation": "v",
         "showlegend": true,
         "type": "scatter",
         "x": [
          591827
         ],
         "xaxis": "x",
         "y": [
          -21887097.100000024
         ],
         "yaxis": "y"
        },
        {
         "hovertemplate": "geo=Germany<br>time_period=2019<br>EV Diff=%{x}<br>emmission_diff=%{y}<extra></extra>",
         "legendgroup": "Germany, 2019",
         "marker": {
          "color": "#EF553B",
          "symbol": "cross"
         },
         "mode": "markers",
         "name": "Germany, 2019",
         "orientation": "v",
         "showlegend": true,
         "type": "scatter",
         "x": [
          566606
         ],
         "xaxis": "x",
         "y": [
          -55708711.899999976
         ],
         "yaxis": "y"
        },
        {
         "hovertemplate": "geo=Germany<br>time_period=2020<br>EV Diff=%{x}<br>emmission_diff=%{y}<extra></extra>",
         "legendgroup": "Germany, 2020",
         "marker": {
          "color": "#EF553B",
          "symbol": "circle"
         },
         "mode": "markers",
         "name": "Germany, 2020",
         "orientation": "v",
         "showlegend": true,
         "type": "scatter",
         "x": [
          359841
         ],
         "xaxis": "x",
         "y": [
          -73389809.70000005
         ],
         "yaxis": "y"
        },
        {
         "hovertemplate": "geo=Germany<br>time_period=2021<br>EV Diff=%{x}<br>emmission_diff=%{y}<extra></extra>",
         "legendgroup": "Germany, 2021",
         "marker": {
          "color": "#EF553B",
          "symbol": "diamond"
         },
         "mode": "markers",
         "name": "Germany, 2021",
         "orientation": "v",
         "showlegend": true,
         "type": "scatter",
         "x": [
          -17500
         ],
         "xaxis": "x",
         "y": [
          33156892.399999976
         ],
         "yaxis": "y"
        },
        {
         "hovertemplate": "geo=Germany<br>time_period=2022<br>EV Diff=%{x}<br>emmission_diff=%{y}<extra></extra>",
         "legendgroup": "Germany, 2022",
         "marker": {
          "color": "#EF553B",
          "symbol": "square"
         },
         "mode": "markers",
         "name": "Germany, 2022",
         "orientation": "v",
         "showlegend": true,
         "type": "scatter",
         "x": [
          -173169
         ],
         "xaxis": "x",
         "y": [
          -7552038.199999928
         ],
         "yaxis": "y"
        },
        {
         "hovertemplate": "geo=Greece<br>time_period=2015<br>EV Diff=%{x}<br>emmission_diff=%{y}<extra></extra>",
         "legendgroup": "Greece, 2015",
         "marker": {
          "color": "#00cc96",
          "symbol": "circle"
         },
         "mode": "markers",
         "name": "Greece, 2015",
         "orientation": "v",
         "showlegend": true,
         "type": "scatter",
         "x": [
          -3292
         ],
         "xaxis": "x",
         "y": [
          -7161427.399999991
         ],
         "yaxis": "y"
        },
        {
         "hovertemplate": "geo=Greece<br>time_period=2016<br>EV Diff=%{x}<br>emmission_diff=%{y}<extra></extra>",
         "legendgroup": "Greece, 2016",
         "marker": {
          "color": "#00cc96",
          "symbol": "diamond"
         },
         "mode": "markers",
         "name": "Greece, 2016",
         "orientation": "v",
         "showlegend": true,
         "type": "scatter",
         "x": [
          52406
         ],
         "xaxis": "x",
         "y": [
          -3888700.400000006
         ],
         "yaxis": "y"
        },
        {
         "hovertemplate": "geo=Greece<br>time_period=2017<br>EV Diff=%{x}<br>emmission_diff=%{y}<extra></extra>",
         "legendgroup": "Greece, 2017",
         "marker": {
          "color": "#00cc96",
          "symbol": "square"
         },
         "mode": "markers",
         "name": "Greece, 2017",
         "orientation": "v",
         "showlegend": true,
         "type": "scatter",
         "x": [
          75838
         ],
         "xaxis": "x",
         "y": [
          4175059.700000003
         ],
         "yaxis": "y"
        },
        {
         "hovertemplate": "geo=Greece<br>time_period=2018<br>EV Diff=%{x}<br>emmission_diff=%{y}<extra></extra>",
         "legendgroup": "Greece, 2018",
         "marker": {
          "color": "#00cc96",
          "symbol": "x"
         },
         "mode": "markers",
         "name": "Greece, 2018",
         "orientation": "v",
         "showlegend": true,
         "type": "scatter",
         "x": [
          46700
         ],
         "xaxis": "x",
         "y": [
          -3462898.700000003
         ],
         "yaxis": "y"
        },
        {
         "hovertemplate": "geo=Greece<br>time_period=2019<br>EV Diff=%{x}<br>emmission_diff=%{y}<extra></extra>",
         "legendgroup": "Greece, 2019",
         "marker": {
          "color": "#00cc96",
          "symbol": "cross"
         },
         "mode": "markers",
         "name": "Greece, 2019",
         "orientation": "v",
         "showlegend": true,
         "type": "scatter",
         "x": [
          123645
         ],
         "xaxis": "x",
         "y": [
          -7649686.899999991
         ],
         "yaxis": "y"
        },
        {
         "hovertemplate": "geo=Greece<br>time_period=2020<br>EV Diff=%{x}<br>emmission_diff=%{y}<extra></extra>",
         "legendgroup": "Greece, 2020",
         "marker": {
          "color": "#00cc96",
          "symbol": "circle"
         },
         "mode": "markers",
         "name": "Greece, 2020",
         "orientation": "v",
         "showlegend": true,
         "type": "scatter",
         "x": [
          84947
         ],
         "xaxis": "x",
         "y": [
          -12909946.600000007
         ],
         "yaxis": "y"
        },
        {
         "hovertemplate": "geo=Greece<br>time_period=2021<br>EV Diff=%{x}<br>emmission_diff=%{y}<extra></extra>",
         "legendgroup": "Greece, 2021",
         "marker": {
          "color": "#00cc96",
          "symbol": "diamond"
         },
         "mode": "markers",
         "name": "Greece, 2021",
         "orientation": "v",
         "showlegend": true,
         "type": "scatter",
         "x": [
          109840
         ],
         "xaxis": "x",
         "y": [
          4003901.700000003
         ],
         "yaxis": "y"
        },
        {
         "hovertemplate": "geo=Greece<br>time_period=2022<br>EV Diff=%{x}<br>emmission_diff=%{y}<extra></extra>",
         "legendgroup": "Greece, 2022",
         "marker": {
          "color": "#00cc96",
          "symbol": "square"
         },
         "mode": "markers",
         "name": "Greece, 2022",
         "orientation": "v",
         "showlegend": true,
         "type": "scatter",
         "x": [
          118794
         ],
         "xaxis": "x",
         "y": [
          1584099.599999994
         ],
         "yaxis": "y"
        },
        {
         "hovertemplate": "geo=Hungary<br>time_period=2015<br>EV Diff=%{x}<br>emmission_diff=%{y}<extra></extra>",
         "legendgroup": "Hungary, 2015",
         "marker": {
          "color": "#ab63fa",
          "symbol": "circle"
         },
         "mode": "markers",
         "name": "Hungary, 2015",
         "orientation": "v",
         "showlegend": true,
         "type": "scatter",
         "x": [
          88994
         ],
         "xaxis": "x",
         "y": [
          2755782.8999999985
         ],
         "yaxis": "y"
        },
        {
         "hovertemplate": "geo=Hungary<br>time_period=2016<br>EV Diff=%{x}<br>emmission_diff=%{y}<extra></extra>",
         "legendgroup": "Hungary, 2016",
         "marker": {
          "color": "#ab63fa",
          "symbol": "diamond"
         },
         "mode": "markers",
         "name": "Hungary, 2016",
         "orientation": "v",
         "showlegend": true,
         "type": "scatter",
         "x": [
          115934
         ],
         "xaxis": "x",
         "y": [
          1745935.6000000015
         ],
         "yaxis": "y"
        },
        {
         "hovertemplate": "geo=Hungary<br>time_period=2017<br>EV Diff=%{x}<br>emmission_diff=%{y}<extra></extra>",
         "legendgroup": "Hungary, 2017",
         "marker": {
          "color": "#ab63fa",
          "symbol": "square"
         },
         "mode": "markers",
         "name": "Hungary, 2017",
         "orientation": "v",
         "showlegend": true,
         "type": "scatter",
         "x": [
          157553
         ],
         "xaxis": "x",
         "y": [
          1709201.3999999985
         ],
         "yaxis": "y"
        },
        {
         "hovertemplate": "geo=Hungary<br>time_period=2018<br>EV Diff=%{x}<br>emmission_diff=%{y}<extra></extra>",
         "legendgroup": "Hungary, 2018",
         "marker": {
          "color": "#ab63fa",
          "symbol": "x"
         },
         "mode": "markers",
         "name": "Hungary, 2018",
         "orientation": "v",
         "showlegend": true,
         "type": "scatter",
         "x": [
          167983
         ],
         "xaxis": "x",
         "y": [
          808913.1000000015
         ],
         "yaxis": "y"
        },
        {
         "hovertemplate": "geo=Hungary<br>time_period=2019<br>EV Diff=%{x}<br>emmission_diff=%{y}<extra></extra>",
         "legendgroup": "Hungary, 2019",
         "marker": {
          "color": "#ab63fa",
          "symbol": "cross"
         },
         "mode": "markers",
         "name": "Hungary, 2019",
         "orientation": "v",
         "showlegend": true,
         "type": "scatter",
         "x": [
          167434
         ],
         "xaxis": "x",
         "y": [
          -1054340.1000000015
         ],
         "yaxis": "y"
        },
        {
         "hovertemplate": "geo=Hungary<br>time_period=2020<br>EV Diff=%{x}<br>emmission_diff=%{y}<extra></extra>",
         "legendgroup": "Hungary, 2020",
         "marker": {
          "color": "#ab63fa",
          "symbol": "circle"
         },
         "mode": "markers",
         "name": "Hungary, 2020",
         "orientation": "v",
         "showlegend": true,
         "type": "scatter",
         "x": [
          104369
         ],
         "xaxis": "x",
         "y": [
          -3943305.6000000015
         ],
         "yaxis": "y"
        },
        {
         "hovertemplate": "geo=Hungary<br>time_period=2021<br>EV Diff=%{x}<br>emmission_diff=%{y}<extra></extra>",
         "legendgroup": "Hungary, 2021",
         "marker": {
          "color": "#ab63fa",
          "symbol": "diamond"
         },
         "mode": "markers",
         "name": "Hungary, 2021",
         "orientation": "v",
         "showlegend": true,
         "type": "scatter",
         "x": [
          91548
         ],
         "xaxis": "x",
         "y": [
          745239.1000000089
         ],
         "yaxis": "y"
        },
        {
         "hovertemplate": "geo=Hungary<br>time_period=2022<br>EV Diff=%{x}<br>emmission_diff=%{y}<extra></extra>",
         "legendgroup": "Hungary, 2022",
         "marker": {
          "color": "#ab63fa",
          "symbol": "square"
         },
         "mode": "markers",
         "name": "Hungary, 2022",
         "orientation": "v",
         "showlegend": true,
         "type": "scatter",
         "x": [
          62955
         ],
         "xaxis": "x",
         "y": [
          -3125363.100000009
         ],
         "yaxis": "y"
        },
        {
         "hovertemplate": "geo=Ireland<br>time_period=2015<br>EV Diff=%{x}<br>emmission_diff=%{y}<extra></extra>",
         "legendgroup": "Ireland, 2015",
         "marker": {
          "color": "#FFA15A",
          "symbol": "circle"
         },
         "mode": "markers",
         "name": "Ireland, 2015",
         "orientation": "v",
         "showlegend": true,
         "type": "scatter",
         "x": [
          41300
         ],
         "xaxis": "x",
         "y": [
          3359448.6999999955
         ],
         "yaxis": "y"
        },
        {
         "hovertemplate": "geo=Ireland<br>time_period=2016<br>EV Diff=%{x}<br>emmission_diff=%{y}<extra></extra>",
         "legendgroup": "Ireland, 2016",
         "marker": {
          "color": "#FFA15A",
          "symbol": "diamond"
         },
         "mode": "markers",
         "name": "Ireland, 2016",
         "orientation": "v",
         "showlegend": true,
         "type": "scatter",
         "x": [
          41969
         ],
         "xaxis": "x",
         "y": [
          1178184.099999994
         ],
         "yaxis": "y"
        },
        {
         "hovertemplate": "geo=Ireland<br>time_period=2017<br>EV Diff=%{x}<br>emmission_diff=%{y}<extra></extra>",
         "legendgroup": "Ireland, 2017",
         "marker": {
          "color": "#FFA15A",
          "symbol": "square"
         },
         "mode": "markers",
         "name": "Ireland, 2017",
         "orientation": "v",
         "showlegend": true,
         "type": "scatter",
         "x": [
          38601
         ],
         "xaxis": "x",
         "y": [
          2023748.000000015
         ],
         "yaxis": "y"
        },
        {
         "hovertemplate": "geo=Ireland<br>time_period=2018<br>EV Diff=%{x}<br>emmission_diff=%{y}<extra></extra>",
         "legendgroup": "Ireland, 2018",
         "marker": {
          "color": "#FFA15A",
          "symbol": "x"
         },
         "mode": "markers",
         "name": "Ireland, 2018",
         "orientation": "v",
         "showlegend": true,
         "type": "scatter",
         "x": [
          38690
         ],
         "xaxis": "x",
         "y": [
          -619395.1000000089
         ],
         "yaxis": "y"
        },
        {
         "hovertemplate": "geo=Ireland<br>time_period=2019<br>EV Diff=%{x}<br>emmission_diff=%{y}<extra></extra>",
         "legendgroup": "Ireland, 2019",
         "marker": {
          "color": "#FFA15A",
          "symbol": "cross"
         },
         "mode": "markers",
         "name": "Ireland, 2019",
         "orientation": "v",
         "showlegend": true,
         "type": "scatter",
         "x": [
          66310
         ],
         "xaxis": "x",
         "y": [
          -2231836.700000003
         ],
         "yaxis": "y"
        },
        {
         "hovertemplate": "geo=Ireland<br>time_period=2020<br>EV Diff=%{x}<br>emmission_diff=%{y}<extra></extra>",
         "legendgroup": "Ireland, 2020",
         "marker": {
          "color": "#FFA15A",
          "symbol": "circle"
         },
         "mode": "markers",
         "name": "Ireland, 2020",
         "orientation": "v",
         "showlegend": true,
         "type": "scatter",
         "x": [
          34600
         ],
         "xaxis": "x",
         "y": [
          -3513751.799999997
         ],
         "yaxis": "y"
        },
        {
         "hovertemplate": "geo=Ireland<br>time_period=2021<br>EV Diff=%{x}<br>emmission_diff=%{y}<extra></extra>",
         "legendgroup": "Ireland, 2021",
         "marker": {
          "color": "#FFA15A",
          "symbol": "diamond"
         },
         "mode": "markers",
         "name": "Ireland, 2021",
         "orientation": "v",
         "showlegend": true,
         "type": "scatter",
         "x": [
          9100
         ],
         "xaxis": "x",
         "y": [
          2220447.599999994
         ],
         "yaxis": "y"
        },
        {
         "hovertemplate": "geo=Ireland<br>time_period=2022<br>EV Diff=%{x}<br>emmission_diff=%{y}<extra></extra>",
         "legendgroup": "Ireland, 2022",
         "marker": {
          "color": "#FFA15A",
          "symbol": "square"
         },
         "mode": "markers",
         "name": "Ireland, 2022",
         "orientation": "v",
         "showlegend": true,
         "type": "scatter",
         "x": [
          9840
         ],
         "xaxis": "x",
         "y": [
          122613.40000000596
         ],
         "yaxis": "y"
        },
        {
         "hovertemplate": "geo=Italy<br>time_period=2015<br>EV Diff=%{x}<br>emmission_diff=%{y}<extra></extra>",
         "legendgroup": "Italy, 2015",
         "marker": {
          "color": "#19d3f3",
          "symbol": "circle"
         },
         "mode": "markers",
         "name": "Italy, 2015",
         "orientation": "v",
         "showlegend": true,
         "type": "scatter",
         "x": [
          269325
         ],
         "xaxis": "x",
         "y": [
          11726327.399999976
         ],
         "yaxis": "y"
        },
        {
         "hovertemplate": "geo=Italy<br>time_period=2016<br>EV Diff=%{x}<br>emmission_diff=%{y}<extra></extra>",
         "legendgroup": "Italy, 2016",
         "marker": {
          "color": "#19d3f3",
          "symbol": "diamond"
         },
         "mode": "markers",
         "name": "Italy, 2016",
         "orientation": "v",
         "showlegend": true,
         "type": "scatter",
         "x": [
          523746
         ],
         "xaxis": "x",
         "y": [
          -896138
         ],
         "yaxis": "y"
        },
        {
         "hovertemplate": "geo=Italy<br>time_period=2017<br>EV Diff=%{x}<br>emmission_diff=%{y}<extra></extra>",
         "legendgroup": "Italy, 2017",
         "marker": {
          "color": "#19d3f3",
          "symbol": "square"
         },
         "mode": "markers",
         "name": "Italy, 2017",
         "orientation": "v",
         "showlegend": true,
         "type": "scatter",
         "x": [
          642366
         ],
         "xaxis": "x",
         "y": [
          17360569.800000012
         ],
         "yaxis": "y"
        },
        {
         "hovertemplate": "geo=Italy<br>time_period=2018<br>EV Diff=%{x}<br>emmission_diff=%{y}<extra></extra>",
         "legendgroup": "Italy, 2018",
         "marker": {
          "color": "#19d3f3",
          "symbol": "x"
         },
         "mode": "markers",
         "name": "Italy, 2018",
         "orientation": "v",
         "showlegend": true,
         "type": "scatter",
         "x": [
          493253
         ],
         "xaxis": "x",
         "y": [
          -30884536
         ],
         "yaxis": "y"
        },
        {
         "hovertemplate": "geo=Italy<br>time_period=2019<br>EV Diff=%{x}<br>emmission_diff=%{y}<extra></extra>",
         "legendgroup": "Italy, 2019",
         "marker": {
          "color": "#19d3f3",
          "symbol": "cross"
         },
         "mode": "markers",
         "name": "Italy, 2019",
         "orientation": "v",
         "showlegend": true,
         "type": "scatter",
         "x": [
          516473
         ],
         "xaxis": "x",
         "y": [
          -799233.6000000238
         ],
         "yaxis": "y"
        },
        {
         "hovertemplate": "geo=Italy<br>time_period=2020<br>EV Diff=%{x}<br>emmission_diff=%{y}<extra></extra>",
         "legendgroup": "Italy, 2020",
         "marker": {
          "color": "#19d3f3",
          "symbol": "circle"
         },
         "mode": "markers",
         "name": "Italy, 2020",
         "orientation": "v",
         "showlegend": true,
         "type": "scatter",
         "x": [
          142284
         ],
         "xaxis": "x",
         "y": [
          -36941113.79999995
         ],
         "yaxis": "y"
        },
        {
         "hovertemplate": "geo=Italy<br>time_period=2021<br>EV Diff=%{x}<br>emmission_diff=%{y}<extra></extra>",
         "legendgroup": "Italy, 2021",
         "marker": {
          "color": "#19d3f3",
          "symbol": "diamond"
         },
         "mode": "markers",
         "name": "Italy, 2021",
         "orientation": "v",
         "showlegend": true,
         "type": "scatter",
         "x": [
          39884
         ],
         "xaxis": "x",
         "y": [
          39033699.10000002
         ],
         "yaxis": "y"
        },
        {
         "hovertemplate": "geo=Italy<br>time_period=2022<br>EV Diff=%{x}<br>emmission_diff=%{y}<extra></extra>",
         "legendgroup": "Italy, 2022",
         "marker": {
          "color": "#19d3f3",
          "symbol": "square"
         },
         "mode": "markers",
         "name": "Italy, 2022",
         "orientation": "v",
         "showlegend": true,
         "type": "scatter",
         "x": [
          350230
         ],
         "xaxis": "x",
         "y": [
          -1380736
         ],
         "yaxis": "y"
        },
        {
         "hovertemplate": "geo=Latvia<br>time_period=2015<br>EV Diff=%{x}<br>emmission_diff=%{y}<extra></extra>",
         "legendgroup": "Latvia, 2015",
         "marker": {
          "color": "#FF6692",
          "symbol": "circle"
         },
         "mode": "markers",
         "name": "Latvia, 2015",
         "orientation": "v",
         "showlegend": true,
         "type": "scatter",
         "x": [
          21226
         ],
         "xaxis": "x",
         "y": [
          -1290038.4000000022
         ],
         "yaxis": "y"
        },
        {
         "hovertemplate": "geo=Latvia<br>time_period=2016<br>EV Diff=%{x}<br>emmission_diff=%{y}<extra></extra>",
         "legendgroup": "Latvia, 2016",
         "marker": {
          "color": "#FF6692",
          "symbol": "diamond"
         },
         "mode": "markers",
         "name": "Latvia, 2016",
         "orientation": "v",
         "showlegend": true,
         "type": "scatter",
         "x": [
          -14901
         ],
         "xaxis": "x",
         "y": [
          -1871467.499999998
         ],
         "yaxis": "y"
        },
        {
         "hovertemplate": "geo=Latvia<br>time_period=2017<br>EV Diff=%{x}<br>emmission_diff=%{y}<extra></extra>",
         "legendgroup": "Latvia, 2017",
         "marker": {
          "color": "#FF6692",
          "symbol": "square"
         },
         "mode": "markers",
         "name": "Latvia, 2017",
         "orientation": "v",
         "showlegend": true,
         "type": "scatter",
         "x": [
          25288
         ],
         "xaxis": "x",
         "y": [
          -1262390.500000001
         ],
         "yaxis": "y"
        },
        {
         "hovertemplate": "geo=Latvia<br>time_period=2018<br>EV Diff=%{x}<br>emmission_diff=%{y}<extra></extra>",
         "legendgroup": "Latvia, 2018",
         "marker": {
          "color": "#FF6692",
          "symbol": "x"
         },
         "mode": "markers",
         "name": "Latvia, 2018",
         "orientation": "v",
         "showlegend": true,
         "type": "scatter",
         "x": [
          18175
         ],
         "xaxis": "x",
         "y": [
          3027337.3000000017
         ],
         "yaxis": "y"
        },
        {
         "hovertemplate": "geo=Latvia<br>time_period=2019<br>EV Diff=%{x}<br>emmission_diff=%{y}<extra></extra>",
         "legendgroup": "Latvia, 2019",
         "marker": {
          "color": "#FF6692",
          "symbol": "cross"
         },
         "mode": "markers",
         "name": "Latvia, 2019",
         "orientation": "v",
         "showlegend": true,
         "type": "scatter",
         "x": [
          19107
         ],
         "xaxis": "x",
         "y": [
          -1620999.3000000026
         ],
         "yaxis": "y"
        },
        {
         "hovertemplate": "geo=Latvia<br>time_period=2020<br>EV Diff=%{x}<br>emmission_diff=%{y}<extra></extra>",
         "legendgroup": "Latvia, 2020",
         "marker": {
          "color": "#FF6692",
          "symbol": "circle"
         },
         "mode": "markers",
         "name": "Latvia, 2020",
         "orientation": "v",
         "showlegend": true,
         "type": "scatter",
         "x": [
          11413
         ],
         "xaxis": "x",
         "y": [
          1654213.2000000011
         ],
         "yaxis": "y"
        },
        {
         "hovertemplate": "geo=Latvia<br>time_period=2021<br>EV Diff=%{x}<br>emmission_diff=%{y}<extra></extra>",
         "legendgroup": "Latvia, 2021",
         "marker": {
          "color": "#FF6692",
          "symbol": "diamond"
         },
         "mode": "markers",
         "name": "Latvia, 2021",
         "orientation": "v",
         "showlegend": true,
         "type": "scatter",
         "x": [
          18663
         ],
         "xaxis": "x",
         "y": [
          1806511
         ],
         "yaxis": "y"
        },
        {
         "hovertemplate": "geo=Latvia<br>time_period=2022<br>EV Diff=%{x}<br>emmission_diff=%{y}<extra></extra>",
         "legendgroup": "Latvia, 2022",
         "marker": {
          "color": "#FF6692",
          "symbol": "square"
         },
         "mode": "markers",
         "name": "Latvia, 2022",
         "orientation": "v",
         "showlegend": true,
         "type": "scatter",
         "x": [
          9309
         ],
         "xaxis": "x",
         "y": [
          2316222.100000001
         ],
         "yaxis": "y"
        },
        {
         "hovertemplate": "geo=Lithuania<br>time_period=2015<br>EV Diff=%{x}<br>emmission_diff=%{y}<extra></extra>",
         "legendgroup": "Lithuania, 2015",
         "marker": {
          "color": "#B6E880",
          "symbol": "circle"
         },
         "mode": "markers",
         "name": "Lithuania, 2015",
         "orientation": "v",
         "showlegend": true,
         "type": "scatter",
         "x": [
          38296
         ],
         "xaxis": "x",
         "y": [
          1382693.5999999996
         ],
         "yaxis": "y"
        },
        {
         "hovertemplate": "geo=Lithuania<br>time_period=2016<br>EV Diff=%{x}<br>emmission_diff=%{y}<extra></extra>",
         "legendgroup": "Lithuania, 2016",
         "marker": {
          "color": "#B6E880",
          "symbol": "diamond"
         },
         "mode": "markers",
         "name": "Lithuania, 2016",
         "orientation": "v",
         "showlegend": true,
         "type": "scatter",
         "x": [
          54485
         ],
         "xaxis": "x",
         "y": [
          735066.5999999996
         ],
         "yaxis": "y"
        },
        {
         "hovertemplate": "geo=Lithuania<br>time_period=2017<br>EV Diff=%{x}<br>emmission_diff=%{y}<extra></extra>",
         "legendgroup": "Lithuania, 2017",
         "marker": {
          "color": "#B6E880",
          "symbol": "square"
         },
         "mode": "markers",
         "name": "Lithuania, 2017",
         "orientation": "v",
         "showlegend": true,
         "type": "scatter",
         "x": [
          57989
         ],
         "xaxis": "x",
         "y": [
          689841.5000000019
         ],
         "yaxis": "y"
        },
        {
         "hovertemplate": "geo=Lithuania<br>time_period=2018<br>EV Diff=%{x}<br>emmission_diff=%{y}<extra></extra>",
         "legendgroup": "Lithuania, 2018",
         "marker": {
          "color": "#B6E880",
          "symbol": "x"
         },
         "mode": "markers",
         "name": "Lithuania, 2018",
         "orientation": "v",
         "showlegend": true,
         "type": "scatter",
         "x": [
          73187
         ],
         "xaxis": "x",
         "y": [
          686762.6999999993
         ],
         "yaxis": "y"
        },
        {
         "hovertemplate": "geo=Lithuania<br>time_period=2019<br>EV Diff=%{x}<br>emmission_diff=%{y}<extra></extra>",
         "legendgroup": "Lithuania, 2019",
         "marker": {
          "color": "#B6E880",
          "symbol": "cross"
         },
         "mode": "markers",
         "name": "Lithuania, 2019",
         "orientation": "v",
         "showlegend": true,
         "type": "scatter",
         "x": [
          67738
         ],
         "xaxis": "x",
         "y": [
          -72800
         ],
         "yaxis": "y"
        },
        {
         "hovertemplate": "geo=Lithuania<br>time_period=2020<br>EV Diff=%{x}<br>emmission_diff=%{y}<extra></extra>",
         "legendgroup": "Lithuania, 2020",
         "marker": {
          "color": "#B6E880",
          "symbol": "circle"
         },
         "mode": "markers",
         "name": "Lithuania, 2020",
         "orientation": "v",
         "showlegend": true,
         "type": "scatter",
         "x": [
          65697
         ],
         "xaxis": "x",
         "y": [
          -573555
         ],
         "yaxis": "y"
        },
        {
         "hovertemplate": "geo=Lithuania<br>time_period=2021<br>EV Diff=%{x}<br>emmission_diff=%{y}<extra></extra>",
         "legendgroup": "Lithuania, 2021",
         "marker": {
          "color": "#B6E880",
          "symbol": "diamond"
         },
         "mode": "markers",
         "name": "Lithuania, 2021",
         "orientation": "v",
         "showlegend": true,
         "type": "scatter",
         "x": [
          43322
         ],
         "xaxis": "x",
         "y": [
          847148.2999999989
         ],
         "yaxis": "y"
        },
        {
         "hovertemplate": "geo=Lithuania<br>time_period=2022<br>EV Diff=%{x}<br>emmission_diff=%{y}<extra></extra>",
         "legendgroup": "Lithuania, 2022",
         "marker": {
          "color": "#B6E880",
          "symbol": "square"
         },
         "mode": "markers",
         "name": "Lithuania, 2022",
         "orientation": "v",
         "showlegend": true,
         "type": "scatter",
         "x": [
          36766
         ],
         "xaxis": "x",
         "y": [
          -1989442.5
         ],
         "yaxis": "y"
        },
        {
         "hovertemplate": "geo=Luxembourg<br>time_period=2015<br>EV Diff=%{x}<br>emmission_diff=%{y}<extra></extra>",
         "legendgroup": "Luxembourg, 2015",
         "marker": {
          "color": "#FF97FF",
          "symbol": "circle"
         },
         "mode": "markers",
         "name": "Luxembourg, 2015",
         "orientation": "v",
         "showlegend": true,
         "type": "scatter",
         "x": [
          8220
         ],
         "xaxis": "x",
         "y": [
          -230479.80000000077
         ],
         "yaxis": "y"
        },
        {
         "hovertemplate": "geo=Luxembourg<br>time_period=2016<br>EV Diff=%{x}<br>emmission_diff=%{y}<extra></extra>",
         "legendgroup": "Luxembourg, 2016",
         "marker": {
          "color": "#FF97FF",
          "symbol": "diamond"
         },
         "mode": "markers",
         "name": "Luxembourg, 2016",
         "orientation": "v",
         "showlegend": true,
         "type": "scatter",
         "x": [
          9727
         ],
         "xaxis": "x",
         "y": [
          -196508.29999999888
         ],
         "yaxis": "y"
        },
        {
         "hovertemplate": "geo=Luxembourg<br>time_period=2017<br>EV Diff=%{x}<br>emmission_diff=%{y}<extra></extra>",
         "legendgroup": "Luxembourg, 2017",
         "marker": {
          "color": "#FF97FF",
          "symbol": "square"
         },
         "mode": "markers",
         "name": "Luxembourg, 2017",
         "orientation": "v",
         "showlegend": true,
         "type": "scatter",
         "x": [
          12062
         ],
         "xaxis": "x",
         "y": [
          511650.5999999996
         ],
         "yaxis": "y"
        },
        {
         "hovertemplate": "geo=Luxembourg<br>time_period=2018<br>EV Diff=%{x}<br>emmission_diff=%{y}<extra></extra>",
         "legendgroup": "Luxembourg, 2018",
         "marker": {
          "color": "#FF97FF",
          "symbol": "x"
         },
         "mode": "markers",
         "name": "Luxembourg, 2018",
         "orientation": "v",
         "showlegend": true,
         "type": "scatter",
         "x": [
          11495
         ],
         "xaxis": "x",
         "y": [
          522093.5
         ],
         "yaxis": "y"
        },
        {
         "hovertemplate": "geo=Luxembourg<br>time_period=2019<br>EV Diff=%{x}<br>emmission_diff=%{y}<extra></extra>",
         "legendgroup": "Luxembourg, 2019",
         "marker": {
          "color": "#FF97FF",
          "symbol": "cross"
         },
         "mode": "markers",
         "name": "Luxembourg, 2019",
         "orientation": "v",
         "showlegend": true,
         "type": "scatter",
         "x": [
          10342
         ],
         "xaxis": "x",
         "y": [
          -7777.5999999996275
         ],
         "yaxis": "y"
        },
        {
         "hovertemplate": "geo=Luxembourg<br>time_period=2020<br>EV Diff=%{x}<br>emmission_diff=%{y}<extra></extra>",
         "legendgroup": "Luxembourg, 2020",
         "marker": {
          "color": "#FF97FF",
          "symbol": "circle"
         },
         "mode": "markers",
         "name": "Luxembourg, 2020",
         "orientation": "v",
         "showlegend": true,
         "type": "scatter",
         "x": [
          5000
         ],
         "xaxis": "x",
         "y": [
          -1889372.8000000007
         ],
         "yaxis": "y"
        },
        {
         "hovertemplate": "geo=Luxembourg<br>time_period=2021<br>EV Diff=%{x}<br>emmission_diff=%{y}<extra></extra>",
         "legendgroup": "Luxembourg, 2021",
         "marker": {
          "color": "#FF97FF",
          "symbol": "diamond"
         },
         "mode": "markers",
         "name": "Luxembourg, 2021",
         "orientation": "v",
         "showlegend": true,
         "type": "scatter",
         "x": [
          2808
         ],
         "xaxis": "x",
         "y": [
          457041.4000000004
         ],
         "yaxis": "y"
        },
        {
         "hovertemplate": "geo=Luxembourg<br>time_period=2022<br>EV Diff=%{x}<br>emmission_diff=%{y}<extra></extra>",
         "legendgroup": "Luxembourg, 2022",
         "marker": {
          "color": "#FF97FF",
          "symbol": "square"
         },
         "mode": "markers",
         "name": "Luxembourg, 2022",
         "orientation": "v",
         "showlegend": true,
         "type": "scatter",
         "x": [
          -1052
         ],
         "xaxis": "x",
         "y": [
          -1241734.5
         ],
         "yaxis": "y"
        },
        {
         "hovertemplate": "geo=Malta<br>time_period=2015<br>EV Diff=%{x}<br>emmission_diff=%{y}<extra></extra>",
         "legendgroup": "Malta, 2015",
         "marker": {
          "color": "#FECB52",
          "symbol": "circle"
         },
         "mode": "markers",
         "name": "Malta, 2015",
         "orientation": "v",
         "showlegend": true,
         "type": "scatter",
         "x": [
          9381
         ],
         "xaxis": "x",
         "y": [
          -667165.9000000004
         ],
         "yaxis": "y"
        },
        {
         "hovertemplate": "geo=Malta<br>time_period=2016<br>EV Diff=%{x}<br>emmission_diff=%{y}<extra></extra>",
         "legendgroup": "Malta, 2016",
         "marker": {
          "color": "#FECB52",
          "symbol": "diamond"
         },
         "mode": "markers",
         "name": "Malta, 2016",
         "orientation": "v",
         "showlegend": true,
         "type": "scatter",
         "x": [
          7537
         ],
         "xaxis": "x",
         "y": [
          -297977
         ],
         "yaxis": "y"
        },
        {
         "hovertemplate": "geo=Malta<br>time_period=2017<br>EV Diff=%{x}<br>emmission_diff=%{y}<extra></extra>",
         "legendgroup": "Malta, 2017",
         "marker": {
          "color": "#FECB52",
          "symbol": "square"
         },
         "mode": "markers",
         "name": "Malta, 2017",
         "orientation": "v",
         "showlegend": true,
         "type": "scatter",
         "x": [
          8828
         ],
         "xaxis": "x",
         "y": [
          185538.5
         ],
         "yaxis": "y"
        },
        {
         "hovertemplate": "geo=Malta<br>time_period=2018<br>EV Diff=%{x}<br>emmission_diff=%{y}<extra></extra>",
         "legendgroup": "Malta, 2018",
         "marker": {
          "color": "#FECB52",
          "symbol": "x"
         },
         "mode": "markers",
         "name": "Malta, 2018",
         "orientation": "v",
         "showlegend": true,
         "type": "scatter",
         "x": [
          7928
         ],
         "xaxis": "x",
         "y": [
          80402.3999999999
         ],
         "yaxis": "y"
        },
        {
         "hovertemplate": "geo=Malta<br>time_period=2019<br>EV Diff=%{x}<br>emmission_diff=%{y}<extra></extra>",
         "legendgroup": "Malta, 2019",
         "marker": {
          "color": "#FECB52",
          "symbol": "cross"
         },
         "mode": "markers",
         "name": "Malta, 2019",
         "orientation": "v",
         "showlegend": true,
         "type": "scatter",
         "x": [
          6610
         ],
         "xaxis": "x",
         "y": [
          94281.2000000002
         ],
         "yaxis": "y"
        },
        {
         "hovertemplate": "geo=Malta<br>time_period=2020<br>EV Diff=%{x}<br>emmission_diff=%{y}<extra></extra>",
         "legendgroup": "Malta, 2020",
         "marker": {
          "color": "#FECB52",
          "symbol": "circle"
         },
         "mode": "markers",
         "name": "Malta, 2020",
         "orientation": "v",
         "showlegend": true,
         "type": "scatter",
         "x": [
          918
         ],
         "xaxis": "x",
         "y": [
          -298071.6000000001
         ],
         "yaxis": "y"
        },
        {
         "hovertemplate": "geo=Malta<br>time_period=2021<br>EV Diff=%{x}<br>emmission_diff=%{y}<extra></extra>",
         "legendgroup": "Malta, 2021",
         "marker": {
          "color": "#FECB52",
          "symbol": "diamond"
         },
         "mode": "markers",
         "name": "Malta, 2021",
         "orientation": "v",
         "showlegend": true,
         "type": "scatter",
         "x": [
          4329
         ],
         "xaxis": "x",
         "y": [
          57200.5
         ],
         "yaxis": "y"
        },
        {
         "hovertemplate": "geo=Malta<br>time_period=2022<br>EV Diff=%{x}<br>emmission_diff=%{y}<extra></extra>",
         "legendgroup": "Malta, 2022",
         "marker": {
          "color": "#FECB52",
          "symbol": "square"
         },
         "mode": "markers",
         "name": "Malta, 2022",
         "orientation": "v",
         "showlegend": true,
         "type": "scatter",
         "x": [
          3037
         ],
         "xaxis": "x",
         "y": [
          278307.5
         ],
         "yaxis": "y"
        },
        {
         "hovertemplate": "geo=Netherlands<br>time_period=2015<br>EV Diff=%{x}<br>emmission_diff=%{y}<extra></extra>",
         "legendgroup": "Netherlands, 2015",
         "marker": {
          "color": "#636efa",
          "symbol": "circle"
         },
         "mode": "markers",
         "name": "Netherlands, 2015",
         "orientation": "v",
         "showlegend": true,
         "type": "scatter",
         "x": [
          118623
         ],
         "xaxis": "x",
         "y": [
          7624678.099999994
         ],
         "yaxis": "y"
        },
        {
         "hovertemplate": "geo=Netherlands<br>time_period=2016<br>EV Diff=%{x}<br>emmission_diff=%{y}<extra></extra>",
         "legendgroup": "Netherlands, 2016",
         "marker": {
          "color": "#636efa",
          "symbol": "diamond"
         },
         "mode": "markers",
         "name": "Netherlands, 2016",
         "orientation": "v",
         "showlegend": true,
         "type": "scatter",
         "x": [
          118368
         ],
         "xaxis": "x",
         "y": [
          979925
         ],
         "yaxis": "y"
        },
        {
         "hovertemplate": "geo=Netherlands<br>time_period=2017<br>EV Diff=%{x}<br>emmission_diff=%{y}<extra></extra>",
         "legendgroup": "Netherlands, 2017",
         "marker": {
          "color": "#636efa",
          "symbol": "square"
         },
         "mode": "markers",
         "name": "Netherlands, 2017",
         "orientation": "v",
         "showlegend": true,
         "type": "scatter",
         "x": [
          142132
         ],
         "xaxis": "x",
         "y": [
          -3844614.600000024
         ],
         "yaxis": "y"
        },
        {
         "hovertemplate": "geo=Netherlands<br>time_period=2018<br>EV Diff=%{x}<br>emmission_diff=%{y}<extra></extra>",
         "legendgroup": "Netherlands, 2018",
         "marker": {
          "color": "#636efa",
          "symbol": "x"
         },
         "mode": "markers",
         "name": "Netherlands, 2018",
         "orientation": "v",
         "showlegend": true,
         "type": "scatter",
         "x": [
          47006
         ],
         "xaxis": "x",
         "y": [
          -5657594.199999958
         ],
         "yaxis": "y"
        },
        {
         "hovertemplate": "geo=Netherlands<br>time_period=2019<br>EV Diff=%{x}<br>emmission_diff=%{y}<extra></extra>",
         "legendgroup": "Netherlands, 2019",
         "marker": {
          "color": "#636efa",
          "symbol": "cross"
         },
         "mode": "markers",
         "name": "Netherlands, 2019",
         "orientation": "v",
         "showlegend": true,
         "type": "scatter",
         "x": [
          79755
         ],
         "xaxis": "x",
         "y": [
          -5720133
         ],
         "yaxis": "y"
        },
        {
         "hovertemplate": "geo=Netherlands<br>time_period=2020<br>EV Diff=%{x}<br>emmission_diff=%{y}<extra></extra>",
         "legendgroup": "Netherlands, 2020",
         "marker": {
          "color": "#636efa",
          "symbol": "circle"
         },
         "mode": "markers",
         "name": "Netherlands, 2020",
         "orientation": "v",
         "showlegend": true,
         "type": "scatter",
         "x": [
          34462
         ],
         "xaxis": "x",
         "y": [
          -21200049.700000014
         ],
         "yaxis": "y"
        },
        {
         "hovertemplate": "geo=Netherlands<br>time_period=2021<br>EV Diff=%{x}<br>emmission_diff=%{y}<extra></extra>",
         "legendgroup": "Netherlands, 2021",
         "marker": {
          "color": "#636efa",
          "symbol": "diamond"
         },
         "mode": "markers",
         "name": "Netherlands, 2021",
         "orientation": "v",
         "showlegend": true,
         "type": "scatter",
         "x": [
          69989
         ],
         "xaxis": "x",
         "y": [
          2432624.5
         ],
         "yaxis": "y"
        },
        {
         "hovertemplate": "geo=Netherlands<br>time_period=2022<br>EV Diff=%{x}<br>emmission_diff=%{y}<extra></extra>",
         "legendgroup": "Netherlands, 2022",
         "marker": {
          "color": "#636efa",
          "symbol": "square"
         },
         "mode": "markers",
         "name": "Netherlands, 2022",
         "orientation": "v",
         "showlegend": true,
         "type": "scatter",
         "x": [
          4375
         ],
         "xaxis": "x",
         "y": [
          -11137849
         ],
         "yaxis": "y"
        },
        {
         "hovertemplate": "geo=Poland<br>time_period=2015<br>EV Diff=%{x}<br>emmission_diff=%{y}<extra></extra>",
         "legendgroup": "Poland, 2015",
         "marker": {
          "color": "#EF553B",
          "symbol": "circle"
         },
         "mode": "markers",
         "name": "Poland, 2015",
         "orientation": "v",
         "showlegend": true,
         "type": "scatter",
         "x": [
          -1992154
         ],
         "xaxis": "x",
         "y": [
          3689159.199999988
         ],
         "yaxis": "y"
        },
        {
         "hovertemplate": "geo=Poland<br>time_period=2016<br>EV Diff=%{x}<br>emmission_diff=%{y}<extra></extra>",
         "legendgroup": "Poland, 2016",
         "marker": {
          "color": "#EF553B",
          "symbol": "diamond"
         },
         "mode": "markers",
         "name": "Poland, 2016",
         "orientation": "v",
         "showlegend": true,
         "type": "scatter",
         "x": [
          706504
         ],
         "xaxis": "x",
         "y": [
          7240115.800000071
         ],
         "yaxis": "y"
        },
        {
         "hovertemplate": "geo=Poland<br>time_period=2017<br>EV Diff=%{x}<br>emmission_diff=%{y}<extra></extra>",
         "legendgroup": "Poland, 2017",
         "marker": {
          "color": "#EF553B",
          "symbol": "square"
         },
         "mode": "markers",
         "name": "Poland, 2017",
         "orientation": "v",
         "showlegend": true,
         "type": "scatter",
         "x": [
          547161
         ],
         "xaxis": "x",
         "y": [
          11445986.199999928
         ],
         "yaxis": "y"
        },
        {
         "hovertemplate": "geo=Poland<br>time_period=2018<br>EV Diff=%{x}<br>emmission_diff=%{y}<extra></extra>",
         "legendgroup": "Poland, 2018",
         "marker": {
          "color": "#EF553B",
          "symbol": "x"
         },
         "mode": "markers",
         "name": "Poland, 2018",
         "orientation": "v",
         "showlegend": true,
         "type": "scatter",
         "x": [
          642867
         ],
         "xaxis": "x",
         "y": [
          3833781.800000072
         ],
         "yaxis": "y"
        },
        {
         "hovertemplate": "geo=Poland<br>time_period=2019<br>EV Diff=%{x}<br>emmission_diff=%{y}<extra></extra>",
         "legendgroup": "Poland, 2019",
         "marker": {
          "color": "#EF553B",
          "symbol": "cross"
         },
         "mode": "markers",
         "name": "Poland, 2019",
         "orientation": "v",
         "showlegend": true,
         "type": "scatter",
         "x": [
          631059
         ],
         "xaxis": "x",
         "y": [
          -3835256.200000048
         ],
         "yaxis": "y"
        },
        {
         "hovertemplate": "geo=Poland<br>time_period=2020<br>EV Diff=%{x}<br>emmission_diff=%{y}<extra></extra>",
         "legendgroup": "Poland, 2020",
         "marker": {
          "color": "#EF553B",
          "symbol": "circle"
         },
         "mode": "markers",
         "name": "Poland, 2020",
         "orientation": "v",
         "showlegend": true,
         "type": "scatter",
         "x": [
          436945
         ],
         "xaxis": "x",
         "y": [
          -19121406.80000001
         ],
         "yaxis": "y"
        },
        {
         "hovertemplate": "geo=Poland<br>time_period=2021<br>EV Diff=%{x}<br>emmission_diff=%{y}<extra></extra>",
         "legendgroup": "Poland, 2021",
         "marker": {
          "color": "#EF553B",
          "symbol": "diamond"
         },
         "mode": "markers",
         "name": "Poland, 2021",
         "orientation": "v",
         "showlegend": true,
         "type": "scatter",
         "x": [
          361723
         ],
         "xaxis": "x",
         "y": [
          28933371.80000001
         ],
         "yaxis": "y"
        },
        {
         "hovertemplate": "geo=Poland<br>time_period=2022<br>EV Diff=%{x}<br>emmission_diff=%{y}<extra></extra>",
         "legendgroup": "Poland, 2022",
         "marker": {
          "color": "#EF553B",
          "symbol": "square"
         },
         "mode": "markers",
         "name": "Poland, 2022",
         "orientation": "v",
         "showlegend": true,
         "type": "scatter",
         "x": [
          89361
         ],
         "xaxis": "x",
         "y": [
          -31384487.99999994
         ],
         "yaxis": "y"
        },
        {
         "hovertemplate": "geo=Portugal<br>time_period=2015<br>EV Diff=%{x}<br>emmission_diff=%{y}<extra></extra>",
         "legendgroup": "Portugal, 2015",
         "marker": {
          "color": "#00cc96",
          "symbol": "circle"
         },
         "mode": "markers",
         "name": "Portugal, 2015",
         "orientation": "v",
         "showlegend": true,
         "type": "scatter",
         "x": [
          22592
         ],
         "xaxis": "x",
         "y": [
          5948143.699999996
         ],
         "yaxis": "y"
        },
        {
         "hovertemplate": "geo=Portugal<br>time_period=2016<br>EV Diff=%{x}<br>emmission_diff=%{y}<extra></extra>",
         "legendgroup": "Portugal, 2016",
         "marker": {
          "color": "#00cc96",
          "symbol": "diamond"
         },
         "mode": "markers",
         "name": "Portugal, 2016",
         "orientation": "v",
         "showlegend": true,
         "type": "scatter",
         "x": [
          126281
         ],
         "xaxis": "x",
         "y": [
          2937880.700000003
         ],
         "yaxis": "y"
        },
        {
         "hovertemplate": "geo=Portugal<br>time_period=2017<br>EV Diff=%{x}<br>emmission_diff=%{y}<extra></extra>",
         "legendgroup": "Portugal, 2017",
         "marker": {
          "color": "#00cc96",
          "symbol": "square"
         },
         "mode": "markers",
         "name": "Portugal, 2017",
         "orientation": "v",
         "showlegend": true,
         "type": "scatter",
         "x": [
          206959
         ],
         "xaxis": "x",
         "y": [
          25697478.200000003
         ],
         "yaxis": "y"
        },
        {
         "hovertemplate": "geo=Portugal<br>time_period=2018<br>EV Diff=%{x}<br>emmission_diff=%{y}<extra></extra>",
         "legendgroup": "Portugal, 2018",
         "marker": {
          "color": "#00cc96",
          "symbol": "x"
         },
         "mode": "markers",
         "name": "Portugal, 2018",
         "orientation": "v",
         "showlegend": true,
         "type": "scatter",
         "x": [
          218185
         ],
         "xaxis": "x",
         "y": [
          -27987563.40000001
         ],
         "yaxis": "y"
        },
        {
         "hovertemplate": "geo=Portugal<br>time_period=2019<br>EV Diff=%{x}<br>emmission_diff=%{y}<extra></extra>",
         "legendgroup": "Portugal, 2019",
         "marker": {
          "color": "#00cc96",
          "symbol": "cross"
         },
         "mode": "markers",
         "name": "Portugal, 2019",
         "orientation": "v",
         "showlegend": true,
         "type": "scatter",
         "x": [
          160990
         ],
         "xaxis": "x",
         "y": [
          -4148406.799999997
         ],
         "yaxis": "y"
        },
        {
         "hovertemplate": "geo=Portugal<br>time_period=2020<br>EV Diff=%{x}<br>emmission_diff=%{y}<extra></extra>",
         "legendgroup": "Portugal, 2020",
         "marker": {
          "color": "#00cc96",
          "symbol": "circle"
         },
         "mode": "markers",
         "name": "Portugal, 2020",
         "orientation": "v",
         "showlegend": true,
         "type": "scatter",
         "x": [
          105034
         ],
         "xaxis": "x",
         "y": [
          -9078081.700000005
         ],
         "yaxis": "y"
        },
        {
         "hovertemplate": "geo=Portugal<br>time_period=2021<br>EV Diff=%{x}<br>emmission_diff=%{y}<extra></extra>",
         "legendgroup": "Portugal, 2021",
         "marker": {
          "color": "#00cc96",
          "symbol": "diamond"
         },
         "mode": "markers",
         "name": "Portugal, 2021",
         "orientation": "v",
         "showlegend": true,
         "type": "scatter",
         "x": [
          50321
         ],
         "xaxis": "x",
         "y": [
          -3018108.5
         ],
         "yaxis": "y"
        },
        {
         "hovertemplate": "geo=Portugal<br>time_period=2022<br>EV Diff=%{x}<br>emmission_diff=%{y}<extra></extra>",
         "legendgroup": "Portugal, 2022",
         "marker": {
          "color": "#00cc96",
          "symbol": "square"
         },
         "mode": "markers",
         "name": "Portugal, 2022",
         "orientation": "v",
         "showlegend": true,
         "type": "scatter",
         "x": [
          121902
         ],
         "xaxis": "x",
         "y": [
          2218323.3999999985
         ],
         "yaxis": "y"
        },
        {
         "hovertemplate": "geo=Romania<br>time_period=2015<br>EV Diff=%{x}<br>emmission_diff=%{y}<extra></extra>",
         "legendgroup": "Romania, 2015",
         "marker": {
          "color": "#ab63fa",
          "symbol": "circle"
         },
         "mode": "markers",
         "name": "Romania, 2015",
         "orientation": "v",
         "showlegend": true,
         "type": "scatter",
         "x": [
          246369
         ],
         "xaxis": "x",
         "y": [
          -268324
         ],
         "yaxis": "y"
        },
        {
         "hovertemplate": "geo=Romania<br>time_period=2016<br>EV Diff=%{x}<br>emmission_diff=%{y}<extra></extra>",
         "legendgroup": "Romania, 2016",
         "marker": {
          "color": "#ab63fa",
          "symbol": "diamond"
         },
         "mode": "markers",
         "name": "Romania, 2016",
         "orientation": "v",
         "showlegend": true,
         "type": "scatter",
         "x": [
          314879
         ],
         "xaxis": "x",
         "y": [
          -4337334
         ],
         "yaxis": "y"
        },
        {
         "hovertemplate": "geo=Romania<br>time_period=2017<br>EV Diff=%{x}<br>emmission_diff=%{y}<extra></extra>",
         "legendgroup": "Romania, 2017",
         "marker": {
          "color": "#ab63fa",
          "symbol": "square"
         },
         "mode": "markers",
         "name": "Romania, 2017",
         "orientation": "v",
         "showlegend": true,
         "type": "scatter",
         "x": [
          522172
         ],
         "xaxis": "x",
         "y": [
          5508285.900000006
         ],
         "yaxis": "y"
        },
        {
         "hovertemplate": "geo=Romania<br>time_period=2018<br>EV Diff=%{x}<br>emmission_diff=%{y}<extra></extra>",
         "legendgroup": "Romania, 2018",
         "marker": {
          "color": "#ab63fa",
          "symbol": "x"
         },
         "mode": "markers",
         "name": "Romania, 2018",
         "orientation": "v",
         "showlegend": true,
         "type": "scatter",
         "x": [
          463186
         ],
         "xaxis": "x",
         "y": [
          1555663.299999997
         ],
         "yaxis": "y"
        },
        {
         "hovertemplate": "geo=Romania<br>time_period=2019<br>EV Diff=%{x}<br>emmission_diff=%{y}<extra></extra>",
         "legendgroup": "Romania, 2019",
         "marker": {
          "color": "#ab63fa",
          "symbol": "cross"
         },
         "mode": "markers",
         "name": "Romania, 2019",
         "orientation": "v",
         "showlegend": true,
         "type": "scatter",
         "x": [
          448753
         ],
         "xaxis": "x",
         "y": [
          -2381830.900000006
         ],
         "yaxis": "y"
        },
        {
         "hovertemplate": "geo=Romania<br>time_period=2020<br>EV Diff=%{x}<br>emmission_diff=%{y}<extra></extra>",
         "legendgroup": "Romania, 2020",
         "marker": {
          "color": "#ab63fa",
          "symbol": "circle"
         },
         "mode": "markers",
         "name": "Romania, 2020",
         "orientation": "v",
         "showlegend": true,
         "type": "scatter",
         "x": [
          368739
         ],
         "xaxis": "x",
         "y": [
          -8039767.1999999955
         ],
         "yaxis": "y"
        },
        {
         "hovertemplate": "geo=Romania<br>time_period=2021<br>EV Diff=%{x}<br>emmission_diff=%{y}<extra></extra>",
         "legendgroup": "Romania, 2021",
         "marker": {
          "color": "#ab63fa",
          "symbol": "diamond"
         },
         "mode": "markers",
         "name": "Romania, 2021",
         "orientation": "v",
         "showlegend": true,
         "type": "scatter",
         "x": [
          329681
         ],
         "xaxis": "x",
         "y": [
          5353535.399999999
         ],
         "yaxis": "y"
        },
        {
         "hovertemplate": "geo=Romania<br>time_period=2022<br>EV Diff=%{x}<br>emmission_diff=%{y}<extra></extra>",
         "legendgroup": "Romania, 2022",
         "marker": {
          "color": "#ab63fa",
          "symbol": "square"
         },
         "mode": "markers",
         "name": "Romania, 2022",
         "orientation": "v",
         "showlegend": true,
         "type": "scatter",
         "x": [
          241889
         ],
         "xaxis": "x",
         "y": [
          -4365715.5
         ],
         "yaxis": "y"
        },
        {
         "hovertemplate": "geo=Slovakia<br>time_period=2015<br>EV Diff=%{x}<br>emmission_diff=%{y}<extra></extra>",
         "legendgroup": "Slovakia, 2015",
         "marker": {
          "color": "#FFA15A",
          "symbol": "circle"
         },
         "mode": "markers",
         "name": "Slovakia, 2015",
         "orientation": "v",
         "showlegend": true,
         "type": "scatter",
         "x": [
          85450
         ],
         "xaxis": "x",
         "y": [
          577234.8999999985
         ],
         "yaxis": "y"
        },
        {
         "hovertemplate": "geo=Slovakia<br>time_period=2016<br>EV Diff=%{x}<br>emmission_diff=%{y}<extra></extra>",
         "legendgroup": "Slovakia, 2016",
         "marker": {
          "color": "#FFA15A",
          "symbol": "diamond"
         },
         "mode": "markers",
         "name": "Slovakia, 2016",
         "orientation": "v",
         "showlegend": true,
         "type": "scatter",
         "x": [
          87139
         ],
         "xaxis": "x",
         "y": [
          574985
         ],
         "yaxis": "y"
        },
        {
         "hovertemplate": "geo=Slovakia<br>time_period=2017<br>EV Diff=%{x}<br>emmission_diff=%{y}<extra></extra>",
         "legendgroup": "Slovakia, 2017",
         "marker": {
          "color": "#FFA15A",
          "symbol": "square"
         },
         "mode": "markers",
         "name": "Slovakia, 2017",
         "orientation": "v",
         "showlegend": true,
         "type": "scatter",
         "x": [
          101143
         ],
         "xaxis": "x",
         "y": [
          1147978.3000000045
         ],
         "yaxis": "y"
        },
        {
         "hovertemplate": "geo=Slovakia<br>time_period=2018<br>EV Diff=%{x}<br>emmission_diff=%{y}<extra></extra>",
         "legendgroup": "Slovakia, 2018",
         "marker": {
          "color": "#FFA15A",
          "symbol": "x"
         },
         "mode": "markers",
         "name": "Slovakia, 2018",
         "orientation": "v",
         "showlegend": true,
         "type": "scatter",
         "x": [
          98094
         ],
         "xaxis": "x",
         "y": [
          597973.299999997
         ],
         "yaxis": "y"
        },
        {
         "hovertemplate": "geo=Slovakia<br>time_period=2019<br>EV Diff=%{x}<br>emmission_diff=%{y}<extra></extra>",
         "legendgroup": "Slovakia, 2019",
         "marker": {
          "color": "#FFA15A",
          "symbol": "cross"
         },
         "mode": "markers",
         "name": "Slovakia, 2019",
         "orientation": "v",
         "showlegend": true,
         "type": "scatter",
         "x": [
          71808
         ],
         "xaxis": "x",
         "y": [
          -3219145.600000001
         ],
         "yaxis": "y"
        },
        {
         "hovertemplate": "geo=Slovakia<br>time_period=2020<br>EV Diff=%{x}<br>emmission_diff=%{y}<extra></extra>",
         "legendgroup": "Slovakia, 2020",
         "marker": {
          "color": "#FFA15A",
          "symbol": "circle"
         },
         "mode": "markers",
         "name": "Slovakia, 2020",
         "orientation": "v",
         "showlegend": true,
         "type": "scatter",
         "x": [
          45502
         ],
         "xaxis": "x",
         "y": [
          -4864392.899999999
         ],
         "yaxis": "y"
        },
        {
         "hovertemplate": "geo=Slovakia<br>time_period=2021<br>EV Diff=%{x}<br>emmission_diff=%{y}<extra></extra>",
         "legendgroup": "Slovakia, 2021",
         "marker": {
          "color": "#FFA15A",
          "symbol": "diamond"
         },
         "mode": "markers",
         "name": "Slovakia, 2021",
         "orientation": "v",
         "showlegend": true,
         "type": "scatter",
         "x": [
          52059
         ],
         "xaxis": "x",
         "y": [
          4378318.799999997
         ],
         "yaxis": "y"
        },
        {
         "hovertemplate": "geo=Slovakia<br>time_period=2022<br>EV Diff=%{x}<br>emmission_diff=%{y}<extra></extra>",
         "legendgroup": "Slovakia, 2022",
         "marker": {
          "color": "#FFA15A",
          "symbol": "square"
         },
         "mode": "markers",
         "name": "Slovakia, 2022",
         "orientation": "v",
         "showlegend": true,
         "type": "scatter",
         "x": [
          60778
         ],
         "xaxis": "x",
         "y": [
          -4505704.299999997
         ],
         "yaxis": "y"
        },
        {
         "hovertemplate": "geo=Slovenia<br>time_period=2015<br>EV Diff=%{x}<br>emmission_diff=%{y}<extra></extra>",
         "legendgroup": "Slovenia, 2015",
         "marker": {
          "color": "#19d3f3",
          "symbol": "circle"
         },
         "mode": "markers",
         "name": "Slovenia, 2015",
         "orientation": "v",
         "showlegend": true,
         "type": "scatter",
         "x": [
          10220
         ],
         "xaxis": "x",
         "y": [
          221315
         ],
         "yaxis": "y"
        },
        {
         "hovertemplate": "geo=Slovenia<br>time_period=2016<br>EV Diff=%{x}<br>emmission_diff=%{y}<extra></extra>",
         "legendgroup": "Slovenia, 2016",
         "marker": {
          "color": "#19d3f3",
          "symbol": "diamond"
         },
         "mode": "markers",
         "name": "Slovenia, 2016",
         "orientation": "v",
         "showlegend": true,
         "type": "scatter",
         "x": [
          17617
         ],
         "xaxis": "x",
         "y": [
          1043263
         ],
         "yaxis": "y"
        },
        {
         "hovertemplate": "geo=Slovenia<br>time_period=2017<br>EV Diff=%{x}<br>emmission_diff=%{y}<extra></extra>",
         "legendgroup": "Slovenia, 2017",
         "marker": {
          "color": "#19d3f3",
          "symbol": "square"
         },
         "mode": "markers",
         "name": "Slovenia, 2017",
         "orientation": "v",
         "showlegend": true,
         "type": "scatter",
         "x": [
          21090
         ],
         "xaxis": "x",
         "y": [
          15363
         ],
         "yaxis": "y"
        },
        {
         "hovertemplate": "geo=Slovenia<br>time_period=2018<br>EV Diff=%{x}<br>emmission_diff=%{y}<extra></extra>",
         "legendgroup": "Slovenia, 2018",
         "marker": {
          "color": "#19d3f3",
          "symbol": "x"
         },
         "mode": "markers",
         "name": "Slovenia, 2018",
         "orientation": "v",
         "showlegend": true,
         "type": "scatter",
         "x": [
          24686
         ],
         "xaxis": "x",
         "y": [
          -197823
         ],
         "yaxis": "y"
        },
        {
         "hovertemplate": "geo=Slovenia<br>time_period=2019<br>EV Diff=%{x}<br>emmission_diff=%{y}<extra></extra>",
         "legendgroup": "Slovenia, 2019",
         "marker": {
          "color": "#19d3f3",
          "symbol": "cross"
         },
         "mode": "markers",
         "name": "Slovenia, 2019",
         "orientation": "v",
         "showlegend": true,
         "type": "scatter",
         "x": [
          21531
         ],
         "xaxis": "x",
         "y": [
          -1956058.7999999989
         ],
         "yaxis": "y"
        },
        {
         "hovertemplate": "geo=Slovenia<br>time_period=2020<br>EV Diff=%{x}<br>emmission_diff=%{y}<extra></extra>",
         "legendgroup": "Slovenia, 2020",
         "marker": {
          "color": "#19d3f3",
          "symbol": "circle"
         },
         "mode": "markers",
         "name": "Slovenia, 2020",
         "orientation": "v",
         "showlegend": true,
         "type": "scatter",
         "x": [
          3647
         ],
         "xaxis": "x",
         "y": [
          -929801.8000000007
         ],
         "yaxis": "y"
        },
        {
         "hovertemplate": "geo=Slovenia<br>time_period=2021<br>EV Diff=%{x}<br>emmission_diff=%{y}<extra></extra>",
         "legendgroup": "Slovenia, 2021",
         "marker": {
          "color": "#19d3f3",
          "symbol": "diamond"
         },
         "mode": "markers",
         "name": "Slovenia, 2021",
         "orientation": "v",
         "showlegend": true,
         "type": "scatter",
         "x": [
          17024
         ],
         "xaxis": "x",
         "y": [
          307956.0999999996
         ],
         "yaxis": "y"
        },
        {
         "hovertemplate": "geo=Slovenia<br>time_period=2022<br>EV Diff=%{x}<br>emmission_diff=%{y}<extra></extra>",
         "legendgroup": "Slovenia, 2022",
         "marker": {
          "color": "#19d3f3",
          "symbol": "square"
         },
         "mode": "markers",
         "name": "Slovenia, 2022",
         "orientation": "v",
         "showlegend": true,
         "type": "scatter",
         "x": [
          15734
         ],
         "xaxis": "x",
         "y": [
          -434913.5
         ],
         "yaxis": "y"
        },
        {
         "hovertemplate": "geo=Spain<br>time_period=2015<br>EV Diff=%{x}<br>emmission_diff=%{y}<extra></extra>",
         "legendgroup": "Spain, 2015",
         "marker": {
          "color": "#FF6692",
          "symbol": "circle"
         },
         "mode": "markers",
         "name": "Spain, 2015",
         "orientation": "v",
         "showlegend": true,
         "type": "scatter",
         "x": [
          323626
         ],
         "xaxis": "x",
         "y": [
          8844005.800000012
         ],
         "yaxis": "y"
        },
        {
         "hovertemplate": "geo=Spain<br>time_period=2016<br>EV Diff=%{x}<br>emmission_diff=%{y}<extra></extra>",
         "legendgroup": "Spain, 2016",
         "marker": {
          "color": "#FF6692",
          "symbol": "diamond"
         },
         "mode": "markers",
         "name": "Spain, 2016",
         "orientation": "v",
         "showlegend": true,
         "type": "scatter",
         "x": [
          1648874
         ],
         "xaxis": "x",
         "y": [
          -9328223.800000012
         ],
         "yaxis": "y"
        },
        {
         "hovertemplate": "geo=Spain<br>time_period=2017<br>EV Diff=%{x}<br>emmission_diff=%{y}<extra></extra>",
         "legendgroup": "Spain, 2017",
         "marker": {
          "color": "#FF6692",
          "symbol": "square"
         },
         "mode": "markers",
         "name": "Spain, 2017",
         "orientation": "v",
         "showlegend": true,
         "type": "scatter",
         "x": [
          662053
         ],
         "xaxis": "x",
         "y": [
          9794085.300000012
         ],
         "yaxis": "y"
        },
        {
         "hovertemplate": "geo=Spain<br>time_period=2018<br>EV Diff=%{x}<br>emmission_diff=%{y}<extra></extra>",
         "legendgroup": "Spain, 2018",
         "marker": {
          "color": "#FF6692",
          "symbol": "x"
         },
         "mode": "markers",
         "name": "Spain, 2018",
         "orientation": "v",
         "showlegend": true,
         "type": "scatter",
         "x": [
          627093
         ],
         "xaxis": "x",
         "y": [
          -3704606.5
         ],
         "yaxis": "y"
        },
        {
         "hovertemplate": "geo=Spain<br>time_period=2019<br>EV Diff=%{x}<br>emmission_diff=%{y}<extra></extra>",
         "legendgroup": "Spain, 2019",
         "marker": {
          "color": "#FF6692",
          "symbol": "cross"
         },
         "mode": "markers",
         "name": "Spain, 2019",
         "orientation": "v",
         "showlegend": true,
         "type": "scatter",
         "x": [
          522063
         ],
         "xaxis": "x",
         "y": [
          -17014742
         ],
         "yaxis": "y"
        },
        {
         "hovertemplate": "geo=Spain<br>time_period=2020<br>EV Diff=%{x}<br>emmission_diff=%{y}<extra></extra>",
         "legendgroup": "Spain, 2020",
         "marker": {
          "color": "#FF6692",
          "symbol": "circle"
         },
         "mode": "markers",
         "name": "Spain, 2020",
         "orientation": "v",
         "showlegend": true,
         "type": "scatter",
         "x": [
          180748
         ],
         "xaxis": "x",
         "y": [
          -49655260.99999997
         ],
         "yaxis": "y"
        },
        {
         "hovertemplate": "geo=Spain<br>time_period=2021<br>EV Diff=%{x}<br>emmission_diff=%{y}<extra></extra>",
         "legendgroup": "Spain, 2021",
         "marker": {
          "color": "#FF6692",
          "symbol": "diamond"
         },
         "mode": "markers",
         "name": "Spain, 2021",
         "orientation": "v",
         "showlegend": true,
         "type": "scatter",
         "x": [
          236644
         ],
         "xaxis": "x",
         "y": [
          19365784.399999976
         ],
         "yaxis": "y"
        },
        {
         "hovertemplate": "geo=Spain<br>time_period=2022<br>EV Diff=%{x}<br>emmission_diff=%{y}<extra></extra>",
         "legendgroup": "Spain, 2022",
         "marker": {
          "color": "#FF6692",
          "symbol": "square"
         },
         "mode": "markers",
         "name": "Spain, 2022",
         "orientation": "v",
         "showlegend": true,
         "type": "scatter",
         "x": [
          281994
         ],
         "xaxis": "x",
         "y": [
          9953407.099999994
         ],
         "yaxis": "y"
        },
        {
         "hovertemplate": "geo=Sweden<br>time_period=2015<br>EV Diff=%{x}<br>emmission_diff=%{y}<extra></extra>",
         "legendgroup": "Sweden, 2015",
         "marker": {
          "color": "#B6E880",
          "symbol": "circle"
         },
         "mode": "markers",
         "name": "Sweden, 2015",
         "orientation": "v",
         "showlegend": true,
         "type": "scatter",
         "x": [
          80957
         ],
         "xaxis": "x",
         "y": [
          1959720.1
         ],
         "yaxis": "y"
        },
        {
         "hovertemplate": "geo=Sweden<br>time_period=2016<br>EV Diff=%{x}<br>emmission_diff=%{y}<extra></extra>",
         "legendgroup": "Sweden, 2016",
         "marker": {
          "color": "#B6E880",
          "symbol": "diamond"
         },
         "mode": "markers",
         "name": "Sweden, 2016",
         "orientation": "v",
         "showlegend": true,
         "type": "scatter",
         "x": [
          96214
         ],
         "xaxis": "x",
         "y": [
          2001302
         ],
         "yaxis": "y"
        },
        {
         "hovertemplate": "geo=Sweden<br>time_period=2017<br>EV Diff=%{x}<br>emmission_diff=%{y}<extra></extra>",
         "legendgroup": "Sweden, 2017",
         "marker": {
          "color": "#B6E880",
          "symbol": "square"
         },
         "mode": "markers",
         "name": "Sweden, 2017",
         "orientation": "v",
         "showlegend": true,
         "type": "scatter",
         "x": [
          74048
         ],
         "xaxis": "x",
         "y": [
          5069644.5
         ],
         "yaxis": "y"
        },
        {
         "hovertemplate": "geo=Sweden<br>time_period=2018<br>EV Diff=%{x}<br>emmission_diff=%{y}<extra></extra>",
         "legendgroup": "Sweden, 2018",
         "marker": {
          "color": "#B6E880",
          "symbol": "x"
         },
         "mode": "markers",
         "name": "Sweden, 2018",
         "orientation": "v",
         "showlegend": true,
         "type": "scatter",
         "x": [
          19519
         ],
         "xaxis": "x",
         "y": [
          6197234.200000001
         ],
         "yaxis": "y"
        },
        {
         "hovertemplate": "geo=Sweden<br>time_period=2019<br>EV Diff=%{x}<br>emmission_diff=%{y}<extra></extra>",
         "legendgroup": "Sweden, 2019",
         "marker": {
          "color": "#B6E880",
          "symbol": "cross"
         },
         "mode": "markers",
         "name": "Sweden, 2019",
         "orientation": "v",
         "showlegend": true,
         "type": "scatter",
         "x": [
          3460
         ],
         "xaxis": "x",
         "y": [
          -3916165.200000001
         ],
         "yaxis": "y"
        },
        {
         "hovertemplate": "geo=Sweden<br>time_period=2020<br>EV Diff=%{x}<br>emmission_diff=%{y}<extra></extra>",
         "legendgroup": "Sweden, 2020",
         "marker": {
          "color": "#B6E880",
          "symbol": "circle"
         },
         "mode": "markers",
         "name": "Sweden, 2020",
         "orientation": "v",
         "showlegend": true,
         "type": "scatter",
         "x": [
          30730
         ],
         "xaxis": "x",
         "y": [
          -8145186.4
         ],
         "yaxis": "y"
        },
        {
         "hovertemplate": "geo=Sweden<br>time_period=2021<br>EV Diff=%{x}<br>emmission_diff=%{y}<extra></extra>",
         "legendgroup": "Sweden, 2021",
         "marker": {
          "color": "#B6E880",
          "symbol": "diamond"
         },
         "mode": "markers",
         "name": "Sweden, 2021",
         "orientation": "v",
         "showlegend": true,
         "type": "scatter",
         "x": [
          -11706
         ],
         "xaxis": "x",
         "y": [
          1058611.9
         ],
         "yaxis": "y"
        },
        {
         "hovertemplate": "geo=Sweden<br>time_period=2022<br>EV Diff=%{x}<br>emmission_diff=%{y}<extra></extra>",
         "legendgroup": "Sweden, 2022",
         "marker": {
          "color": "#B6E880",
          "symbol": "square"
         },
         "mode": "markers",
         "name": "Sweden, 2022",
         "orientation": "v",
         "showlegend": true,
         "type": "scatter",
         "x": [
          -93748
         ],
         "xaxis": "x",
         "y": [
          1081748.0999999996
         ],
         "yaxis": "y"
        }
       ],
       "layout": {
        "legend": {
         "title": {
          "text": "geo, time_period"
         },
         "tracegroupgap": 0
        },
        "template": {
         "data": {
          "bar": [
           {
            "error_x": {
             "color": "#2a3f5f"
            },
            "error_y": {
             "color": "#2a3f5f"
            },
            "marker": {
             "line": {
              "color": "#E5ECF6",
              "width": 0.5
             },
             "pattern": {
              "fillmode": "overlay",
              "size": 10,
              "solidity": 0.2
             }
            },
            "type": "bar"
           }
          ],
          "barpolar": [
           {
            "marker": {
             "line": {
              "color": "#E5ECF6",
              "width": 0.5
             },
             "pattern": {
              "fillmode": "overlay",
              "size": 10,
              "solidity": 0.2
             }
            },
            "type": "barpolar"
           }
          ],
          "carpet": [
           {
            "aaxis": {
             "endlinecolor": "#2a3f5f",
             "gridcolor": "white",
             "linecolor": "white",
             "minorgridcolor": "white",
             "startlinecolor": "#2a3f5f"
            },
            "baxis": {
             "endlinecolor": "#2a3f5f",
             "gridcolor": "white",
             "linecolor": "white",
             "minorgridcolor": "white",
             "startlinecolor": "#2a3f5f"
            },
            "type": "carpet"
           }
          ],
          "choropleth": [
           {
            "colorbar": {
             "outlinewidth": 0,
             "ticks": ""
            },
            "type": "choropleth"
           }
          ],
          "contour": [
           {
            "colorbar": {
             "outlinewidth": 0,
             "ticks": ""
            },
            "colorscale": [
             [
              0,
              "#0d0887"
             ],
             [
              0.1111111111111111,
              "#46039f"
             ],
             [
              0.2222222222222222,
              "#7201a8"
             ],
             [
              0.3333333333333333,
              "#9c179e"
             ],
             [
              0.4444444444444444,
              "#bd3786"
             ],
             [
              0.5555555555555556,
              "#d8576b"
             ],
             [
              0.6666666666666666,
              "#ed7953"
             ],
             [
              0.7777777777777778,
              "#fb9f3a"
             ],
             [
              0.8888888888888888,
              "#fdca26"
             ],
             [
              1,
              "#f0f921"
             ]
            ],
            "type": "contour"
           }
          ],
          "contourcarpet": [
           {
            "colorbar": {
             "outlinewidth": 0,
             "ticks": ""
            },
            "type": "contourcarpet"
           }
          ],
          "heatmap": [
           {
            "colorbar": {
             "outlinewidth": 0,
             "ticks": ""
            },
            "colorscale": [
             [
              0,
              "#0d0887"
             ],
             [
              0.1111111111111111,
              "#46039f"
             ],
             [
              0.2222222222222222,
              "#7201a8"
             ],
             [
              0.3333333333333333,
              "#9c179e"
             ],
             [
              0.4444444444444444,
              "#bd3786"
             ],
             [
              0.5555555555555556,
              "#d8576b"
             ],
             [
              0.6666666666666666,
              "#ed7953"
             ],
             [
              0.7777777777777778,
              "#fb9f3a"
             ],
             [
              0.8888888888888888,
              "#fdca26"
             ],
             [
              1,
              "#f0f921"
             ]
            ],
            "type": "heatmap"
           }
          ],
          "heatmapgl": [
           {
            "colorbar": {
             "outlinewidth": 0,
             "ticks": ""
            },
            "colorscale": [
             [
              0,
              "#0d0887"
             ],
             [
              0.1111111111111111,
              "#46039f"
             ],
             [
              0.2222222222222222,
              "#7201a8"
             ],
             [
              0.3333333333333333,
              "#9c179e"
             ],
             [
              0.4444444444444444,
              "#bd3786"
             ],
             [
              0.5555555555555556,
              "#d8576b"
             ],
             [
              0.6666666666666666,
              "#ed7953"
             ],
             [
              0.7777777777777778,
              "#fb9f3a"
             ],
             [
              0.8888888888888888,
              "#fdca26"
             ],
             [
              1,
              "#f0f921"
             ]
            ],
            "type": "heatmapgl"
           }
          ],
          "histogram": [
           {
            "marker": {
             "pattern": {
              "fillmode": "overlay",
              "size": 10,
              "solidity": 0.2
             }
            },
            "type": "histogram"
           }
          ],
          "histogram2d": [
           {
            "colorbar": {
             "outlinewidth": 0,
             "ticks": ""
            },
            "colorscale": [
             [
              0,
              "#0d0887"
             ],
             [
              0.1111111111111111,
              "#46039f"
             ],
             [
              0.2222222222222222,
              "#7201a8"
             ],
             [
              0.3333333333333333,
              "#9c179e"
             ],
             [
              0.4444444444444444,
              "#bd3786"
             ],
             [
              0.5555555555555556,
              "#d8576b"
             ],
             [
              0.6666666666666666,
              "#ed7953"
             ],
             [
              0.7777777777777778,
              "#fb9f3a"
             ],
             [
              0.8888888888888888,
              "#fdca26"
             ],
             [
              1,
              "#f0f921"
             ]
            ],
            "type": "histogram2d"
           }
          ],
          "histogram2dcontour": [
           {
            "colorbar": {
             "outlinewidth": 0,
             "ticks": ""
            },
            "colorscale": [
             [
              0,
              "#0d0887"
             ],
             [
              0.1111111111111111,
              "#46039f"
             ],
             [
              0.2222222222222222,
              "#7201a8"
             ],
             [
              0.3333333333333333,
              "#9c179e"
             ],
             [
              0.4444444444444444,
              "#bd3786"
             ],
             [
              0.5555555555555556,
              "#d8576b"
             ],
             [
              0.6666666666666666,
              "#ed7953"
             ],
             [
              0.7777777777777778,
              "#fb9f3a"
             ],
             [
              0.8888888888888888,
              "#fdca26"
             ],
             [
              1,
              "#f0f921"
             ]
            ],
            "type": "histogram2dcontour"
           }
          ],
          "mesh3d": [
           {
            "colorbar": {
             "outlinewidth": 0,
             "ticks": ""
            },
            "type": "mesh3d"
           }
          ],
          "parcoords": [
           {
            "line": {
             "colorbar": {
              "outlinewidth": 0,
              "ticks": ""
             }
            },
            "type": "parcoords"
           }
          ],
          "pie": [
           {
            "automargin": true,
            "type": "pie"
           }
          ],
          "scatter": [
           {
            "fillpattern": {
             "fillmode": "overlay",
             "size": 10,
             "solidity": 0.2
            },
            "type": "scatter"
           }
          ],
          "scatter3d": [
           {
            "line": {
             "colorbar": {
              "outlinewidth": 0,
              "ticks": ""
             }
            },
            "marker": {
             "colorbar": {
              "outlinewidth": 0,
              "ticks": ""
             }
            },
            "type": "scatter3d"
           }
          ],
          "scattercarpet": [
           {
            "marker": {
             "colorbar": {
              "outlinewidth": 0,
              "ticks": ""
             }
            },
            "type": "scattercarpet"
           }
          ],
          "scattergeo": [
           {
            "marker": {
             "colorbar": {
              "outlinewidth": 0,
              "ticks": ""
             }
            },
            "type": "scattergeo"
           }
          ],
          "scattergl": [
           {
            "marker": {
             "colorbar": {
              "outlinewidth": 0,
              "ticks": ""
             }
            },
            "type": "scattergl"
           }
          ],
          "scattermapbox": [
           {
            "marker": {
             "colorbar": {
              "outlinewidth": 0,
              "ticks": ""
             }
            },
            "type": "scattermapbox"
           }
          ],
          "scatterpolar": [
           {
            "marker": {
             "colorbar": {
              "outlinewidth": 0,
              "ticks": ""
             }
            },
            "type": "scatterpolar"
           }
          ],
          "scatterpolargl": [
           {
            "marker": {
             "colorbar": {
              "outlinewidth": 0,
              "ticks": ""
             }
            },
            "type": "scatterpolargl"
           }
          ],
          "scatterternary": [
           {
            "marker": {
             "colorbar": {
              "outlinewidth": 0,
              "ticks": ""
             }
            },
            "type": "scatterternary"
           }
          ],
          "surface": [
           {
            "colorbar": {
             "outlinewidth": 0,
             "ticks": ""
            },
            "colorscale": [
             [
              0,
              "#0d0887"
             ],
             [
              0.1111111111111111,
              "#46039f"
             ],
             [
              0.2222222222222222,
              "#7201a8"
             ],
             [
              0.3333333333333333,
              "#9c179e"
             ],
             [
              0.4444444444444444,
              "#bd3786"
             ],
             [
              0.5555555555555556,
              "#d8576b"
             ],
             [
              0.6666666666666666,
              "#ed7953"
             ],
             [
              0.7777777777777778,
              "#fb9f3a"
             ],
             [
              0.8888888888888888,
              "#fdca26"
             ],
             [
              1,
              "#f0f921"
             ]
            ],
            "type": "surface"
           }
          ],
          "table": [
           {
            "cells": {
             "fill": {
              "color": "#EBF0F8"
             },
             "line": {
              "color": "white"
             }
            },
            "header": {
             "fill": {
              "color": "#C8D4E3"
             },
             "line": {
              "color": "white"
             }
            },
            "type": "table"
           }
          ]
         },
         "layout": {
          "annotationdefaults": {
           "arrowcolor": "#2a3f5f",
           "arrowhead": 0,
           "arrowwidth": 1
          },
          "autotypenumbers": "strict",
          "coloraxis": {
           "colorbar": {
            "outlinewidth": 0,
            "ticks": ""
           }
          },
          "colorscale": {
           "diverging": [
            [
             0,
             "#8e0152"
            ],
            [
             0.1,
             "#c51b7d"
            ],
            [
             0.2,
             "#de77ae"
            ],
            [
             0.3,
             "#f1b6da"
            ],
            [
             0.4,
             "#fde0ef"
            ],
            [
             0.5,
             "#f7f7f7"
            ],
            [
             0.6,
             "#e6f5d0"
            ],
            [
             0.7,
             "#b8e186"
            ],
            [
             0.8,
             "#7fbc41"
            ],
            [
             0.9,
             "#4d9221"
            ],
            [
             1,
             "#276419"
            ]
           ],
           "sequential": [
            [
             0,
             "#0d0887"
            ],
            [
             0.1111111111111111,
             "#46039f"
            ],
            [
             0.2222222222222222,
             "#7201a8"
            ],
            [
             0.3333333333333333,
             "#9c179e"
            ],
            [
             0.4444444444444444,
             "#bd3786"
            ],
            [
             0.5555555555555556,
             "#d8576b"
            ],
            [
             0.6666666666666666,
             "#ed7953"
            ],
            [
             0.7777777777777778,
             "#fb9f3a"
            ],
            [
             0.8888888888888888,
             "#fdca26"
            ],
            [
             1,
             "#f0f921"
            ]
           ],
           "sequentialminus": [
            [
             0,
             "#0d0887"
            ],
            [
             0.1111111111111111,
             "#46039f"
            ],
            [
             0.2222222222222222,
             "#7201a8"
            ],
            [
             0.3333333333333333,
             "#9c179e"
            ],
            [
             0.4444444444444444,
             "#bd3786"
            ],
            [
             0.5555555555555556,
             "#d8576b"
            ],
            [
             0.6666666666666666,
             "#ed7953"
            ],
            [
             0.7777777777777778,
             "#fb9f3a"
            ],
            [
             0.8888888888888888,
             "#fdca26"
            ],
            [
             1,
             "#f0f921"
            ]
           ]
          },
          "colorway": [
           "#636efa",
           "#EF553B",
           "#00cc96",
           "#ab63fa",
           "#FFA15A",
           "#19d3f3",
           "#FF6692",
           "#B6E880",
           "#FF97FF",
           "#FECB52"
          ],
          "font": {
           "color": "#2a3f5f"
          },
          "geo": {
           "bgcolor": "white",
           "lakecolor": "white",
           "landcolor": "#E5ECF6",
           "showlakes": true,
           "showland": true,
           "subunitcolor": "white"
          },
          "hoverlabel": {
           "align": "left"
          },
          "hovermode": "closest",
          "mapbox": {
           "style": "light"
          },
          "paper_bgcolor": "white",
          "plot_bgcolor": "#E5ECF6",
          "polar": {
           "angularaxis": {
            "gridcolor": "white",
            "linecolor": "white",
            "ticks": ""
           },
           "bgcolor": "#E5ECF6",
           "radialaxis": {
            "gridcolor": "white",
            "linecolor": "white",
            "ticks": ""
           }
          },
          "scene": {
           "xaxis": {
            "backgroundcolor": "#E5ECF6",
            "gridcolor": "white",
            "gridwidth": 2,
            "linecolor": "white",
            "showbackground": true,
            "ticks": "",
            "zerolinecolor": "white"
           },
           "yaxis": {
            "backgroundcolor": "#E5ECF6",
            "gridcolor": "white",
            "gridwidth": 2,
            "linecolor": "white",
            "showbackground": true,
            "ticks": "",
            "zerolinecolor": "white"
           },
           "zaxis": {
            "backgroundcolor": "#E5ECF6",
            "gridcolor": "white",
            "gridwidth": 2,
            "linecolor": "white",
            "showbackground": true,
            "ticks": "",
            "zerolinecolor": "white"
           }
          },
          "shapedefaults": {
           "line": {
            "color": "#2a3f5f"
           }
          },
          "ternary": {
           "aaxis": {
            "gridcolor": "white",
            "linecolor": "white",
            "ticks": ""
           },
           "baxis": {
            "gridcolor": "white",
            "linecolor": "white",
            "ticks": ""
           },
           "bgcolor": "#E5ECF6",
           "caxis": {
            "gridcolor": "white",
            "linecolor": "white",
            "ticks": ""
           }
          },
          "title": {
           "x": 0.05
          },
          "xaxis": {
           "automargin": true,
           "gridcolor": "white",
           "linecolor": "white",
           "ticks": "",
           "title": {
            "standoff": 15
           },
           "zerolinecolor": "white",
           "zerolinewidth": 2
          },
          "yaxis": {
           "automargin": true,
           "gridcolor": "white",
           "linecolor": "white",
           "ticks": "",
           "title": {
            "standoff": 15
           },
           "zerolinecolor": "white",
           "zerolinewidth": 2
          }
         }
        },
        "title": {
         "text": "Scatter Plot of EV Diff vs Emission Diff"
        },
        "xaxis": {
         "anchor": "y",
         "domain": [
          0,
          1
         ],
         "title": {
          "text": "EV Diff"
         }
        },
        "yaxis": {
         "anchor": "x",
         "domain": [
          0,
          1
         ],
         "title": {
          "text": "emmission_diff"
         }
        }
       }
      }
     },
     "metadata": {},
     "output_type": "display_data"
    }
   ],
   "source": [
    "fig = px.scatter(\n",
    "    df_cleaned,\n",
    "    x='ev_diff',\n",
    "    y='emmission_diff',\n",
    "    color='geo',\n",
    "    symbol='time_period',\n",
    "    labels={'ev_diff': 'EV Diff', 'emission_diff': 'Emission Diff'},\n",
    "    #trendline='ols',\n",
    "    title=\"Scatter Plot of EV Diff vs Emission Diff\",\n",
    "    trendline_scope='overall'\n",
    ")\n",
    "\n",
    "fig.show()"
   ]
  },
  {
   "cell_type": "code",
   "execution_count": null,
   "metadata": {},
   "outputs": [],
   "source": []
  }
 ],
 "metadata": {
  "kernelspec": {
   "display_name": "lewagon",
   "language": "python",
   "name": "python3"
  },
  "language_info": {
   "codemirror_mode": {
    "name": "ipython",
    "version": 3
   },
   "file_extension": ".py",
   "mimetype": "text/x-python",
   "name": "python",
   "nbconvert_exporter": "python",
   "pygments_lexer": "ipython3",
   "version": "3.10.6"
  }
 },
 "nbformat": 4,
 "nbformat_minor": 2
}
