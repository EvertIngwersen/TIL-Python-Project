{
 "cells": [
  {
   "cell_type": "code",
   "execution_count": null,
   "metadata": {},
   "outputs": [],
   "source": [
    "# Import necessary libraries \n",
    "import pandas as pd\n",
    "import plotly.express as px\n",
    "import plotly.colors as pc"
   ]
  },
  {
   "cell_type": "code",
   "execution_count": null,
   "metadata": {},
   "outputs": [],
   "source": [
    "# Load merged dataset\n",
    "joined_df = pd.read_csv('../data/merged_dataset.csv')"
   ]
  },
  {
   "cell_type": "code",
   "execution_count": null,
   "metadata": {},
   "outputs": [
    {
     "data": {
      "text/html": [
       "<div>\n",
       "<style scoped>\n",
       "    .dataframe tbody tr th:only-of-type {\n",
       "        vertical-align: middle;\n",
       "    }\n",
       "\n",
       "    .dataframe tbody tr th {\n",
       "        vertical-align: top;\n",
       "    }\n",
       "\n",
       "    .dataframe thead th {\n",
       "        text-align: right;\n",
       "    }\n",
       "</style>\n",
       "<table border=\"1\" class=\"dataframe\">\n",
       "  <thead>\n",
       "    <tr style=\"text-align: right;\">\n",
       "      <th></th>\n",
       "      <th>Unnamed: 0</th>\n",
       "      <th>geo</th>\n",
       "      <th>time_period</th>\n",
       "      <th>amount_passenger_cars</th>\n",
       "      <th>amount_zev</th>\n",
       "      <th>amount_ev</th>\n",
       "      <th>share_zev</th>\n",
       "      <th>emission_per_capita</th>\n",
       "      <th>zev_per_capita</th>\n",
       "      <th>ev_per_capita</th>\n",
       "      <th>total_emissions</th>\n",
       "      <th>zev_diff</th>\n",
       "      <th>ev_diff</th>\n",
       "      <th>emmission_diff</th>\n",
       "      <th>all_cars_diff</th>\n",
       "      <th>zev_norm</th>\n",
       "      <th>ev_norm</th>\n",
       "      <th>emmission_norm</th>\n",
       "      <th>all_cars_norm</th>\n",
       "    </tr>\n",
       "  </thead>\n",
       "  <tbody>\n",
       "    <tr>\n",
       "      <th>0</th>\n",
       "      <td>0</td>\n",
       "      <td>Austria</td>\n",
       "      <td>2014</td>\n",
       "      <td>4694921</td>\n",
       "      <td>3389</td>\n",
       "      <td>4691532</td>\n",
       "      <td>0.000722</td>\n",
       "      <td>8.4</td>\n",
       "      <td>0.000398</td>\n",
       "      <td>0.551440</td>\n",
       "      <td>71465402.4</td>\n",
       "      <td>NaN</td>\n",
       "      <td>NaN</td>\n",
       "      <td>NaN</td>\n",
       "      <td>NaN</td>\n",
       "      <td>NaN</td>\n",
       "      <td>NaN</td>\n",
       "      <td>NaN</td>\n",
       "      <td>NaN</td>\n",
       "    </tr>\n",
       "    <tr>\n",
       "      <th>1</th>\n",
       "      <td>1</td>\n",
       "      <td>Austria</td>\n",
       "      <td>2015</td>\n",
       "      <td>4748048</td>\n",
       "      <td>5038</td>\n",
       "      <td>4743010</td>\n",
       "      <td>0.001061</td>\n",
       "      <td>8.7</td>\n",
       "      <td>0.000587</td>\n",
       "      <td>0.552481</td>\n",
       "      <td>74688856.2</td>\n",
       "      <td>1649.0</td>\n",
       "      <td>51478.0</td>\n",
       "      <td>3223453.8</td>\n",
       "      <td>53127.0</td>\n",
       "      <td>0.486574</td>\n",
       "      <td>0.010973</td>\n",
       "      <td>0.045105</td>\n",
       "      <td>0.011316</td>\n",
       "    </tr>\n",
       "    <tr>\n",
       "      <th>2</th>\n",
       "      <td>2</td>\n",
       "      <td>Austria</td>\n",
       "      <td>2016</td>\n",
       "      <td>4821557</td>\n",
       "      <td>9086</td>\n",
       "      <td>4812471</td>\n",
       "      <td>0.001884</td>\n",
       "      <td>8.6</td>\n",
       "      <td>0.001044</td>\n",
       "      <td>0.553128</td>\n",
       "      <td>74824050.6</td>\n",
       "      <td>4048.0</td>\n",
       "      <td>69461.0</td>\n",
       "      <td>135194.4</td>\n",
       "      <td>73509.0</td>\n",
       "      <td>0.803493</td>\n",
       "      <td>0.014645</td>\n",
       "      <td>0.001810</td>\n",
       "      <td>0.015482</td>\n",
       "    </tr>\n",
       "    <tr>\n",
       "      <th>3</th>\n",
       "      <td>3</td>\n",
       "      <td>Austria</td>\n",
       "      <td>2017</td>\n",
       "      <td>4898578</td>\n",
       "      <td>14637</td>\n",
       "      <td>4883941</td>\n",
       "      <td>0.002988</td>\n",
       "      <td>9.3</td>\n",
       "      <td>0.001668</td>\n",
       "      <td>0.556710</td>\n",
       "      <td>81587644.5</td>\n",
       "      <td>5551.0</td>\n",
       "      <td>71470.0</td>\n",
       "      <td>6763593.9</td>\n",
       "      <td>77021.0</td>\n",
       "      <td>0.610940</td>\n",
       "      <td>0.014851</td>\n",
       "      <td>0.090393</td>\n",
       "      <td>0.015974</td>\n",
       "    </tr>\n",
       "    <tr>\n",
       "      <th>4</th>\n",
       "      <td>4</td>\n",
       "      <td>Austria</td>\n",
       "      <td>2018</td>\n",
       "      <td>4978852</td>\n",
       "      <td>20855</td>\n",
       "      <td>4957997</td>\n",
       "      <td>0.004189</td>\n",
       "      <td>9.8</td>\n",
       "      <td>0.002364</td>\n",
       "      <td>0.561987</td>\n",
       "      <td>86458216.6</td>\n",
       "      <td>6218.0</td>\n",
       "      <td>74056.0</td>\n",
       "      <td>4870572.1</td>\n",
       "      <td>80274.0</td>\n",
       "      <td>0.424814</td>\n",
       "      <td>0.015163</td>\n",
       "      <td>0.059697</td>\n",
       "      <td>0.016387</td>\n",
       "    </tr>\n",
       "    <tr>\n",
       "      <th>...</th>\n",
       "      <td>...</td>\n",
       "      <td>...</td>\n",
       "      <td>...</td>\n",
       "      <td>...</td>\n",
       "      <td>...</td>\n",
       "      <td>...</td>\n",
       "      <td>...</td>\n",
       "      <td>...</td>\n",
       "      <td>...</td>\n",
       "      <td>...</td>\n",
       "      <td>...</td>\n",
       "      <td>...</td>\n",
       "      <td>...</td>\n",
       "      <td>...</td>\n",
       "      <td>...</td>\n",
       "      <td>...</td>\n",
       "      <td>...</td>\n",
       "      <td>...</td>\n",
       "      <td>...</td>\n",
       "    </tr>\n",
       "    <tr>\n",
       "      <th>275</th>\n",
       "      <td>255</td>\n",
       "      <td>Sweden</td>\n",
       "      <td>2019</td>\n",
       "      <td>4887116</td>\n",
       "      <td>30382</td>\n",
       "      <td>4856734</td>\n",
       "      <td>0.006217</td>\n",
       "      <td>1.2</td>\n",
       "      <td>0.002970</td>\n",
       "      <td>0.474745</td>\n",
       "      <td>12276222.0</td>\n",
       "      <td>13677.0</td>\n",
       "      <td>3460.0</td>\n",
       "      <td>-3916165.2</td>\n",
       "      <td>17137.0</td>\n",
       "      <td>0.818737</td>\n",
       "      <td>0.000713</td>\n",
       "      <td>-0.241852</td>\n",
       "      <td>0.003519</td>\n",
       "    </tr>\n",
       "    <tr>\n",
       "      <th>276</th>\n",
       "      <td>256</td>\n",
       "      <td>Sweden</td>\n",
       "      <td>2020</td>\n",
       "      <td>4943293</td>\n",
       "      <td>55829</td>\n",
       "      <td>4887464</td>\n",
       "      <td>0.011294</td>\n",
       "      <td>0.4</td>\n",
       "      <td>0.005406</td>\n",
       "      <td>0.473243</td>\n",
       "      <td>4131035.6</td>\n",
       "      <td>25447.0</td>\n",
       "      <td>30730.0</td>\n",
       "      <td>-8145186.4</td>\n",
       "      <td>56177.0</td>\n",
       "      <td>0.837568</td>\n",
       "      <td>0.006327</td>\n",
       "      <td>-0.663493</td>\n",
       "      <td>0.011495</td>\n",
       "    </tr>\n",
       "    <tr>\n",
       "      <th>277</th>\n",
       "      <td>257</td>\n",
       "      <td>Sweden</td>\n",
       "      <td>2021</td>\n",
       "      <td>4985979</td>\n",
       "      <td>110221</td>\n",
       "      <td>4875758</td>\n",
       "      <td>0.022106</td>\n",
       "      <td>0.5</td>\n",
       "      <td>0.010619</td>\n",
       "      <td>0.469758</td>\n",
       "      <td>5189647.5</td>\n",
       "      <td>54392.0</td>\n",
       "      <td>-11706.0</td>\n",
       "      <td>1058611.9</td>\n",
       "      <td>42686.0</td>\n",
       "      <td>0.974261</td>\n",
       "      <td>-0.002395</td>\n",
       "      <td>0.256258</td>\n",
       "      <td>0.008635</td>\n",
       "    </tr>\n",
       "    <tr>\n",
       "      <th>278</th>\n",
       "      <td>258</td>\n",
       "      <td>Sweden</td>\n",
       "      <td>2022</td>\n",
       "      <td>4979761</td>\n",
       "      <td>197751</td>\n",
       "      <td>4782010</td>\n",
       "      <td>0.039711</td>\n",
       "      <td>0.6</td>\n",
       "      <td>0.018919</td>\n",
       "      <td>0.457507</td>\n",
       "      <td>6271395.6</td>\n",
       "      <td>87530.0</td>\n",
       "      <td>-93748.0</td>\n",
       "      <td>1081748.1</td>\n",
       "      <td>-6218.0</td>\n",
       "      <td>0.794132</td>\n",
       "      <td>-0.019227</td>\n",
       "      <td>0.208443</td>\n",
       "      <td>-0.001247</td>\n",
       "    </tr>\n",
       "    <tr>\n",
       "      <th>279</th>\n",
       "      <td>259</td>\n",
       "      <td>Sweden</td>\n",
       "      <td>2023</td>\n",
       "      <td>4976366</td>\n",
       "      <td>291716</td>\n",
       "      <td>4684650</td>\n",
       "      <td>0.058620</td>\n",
       "      <td>NaN</td>\n",
       "      <td>0.027726</td>\n",
       "      <td>0.445243</td>\n",
       "      <td>NaN</td>\n",
       "      <td>93965.0</td>\n",
       "      <td>-97360.0</td>\n",
       "      <td>NaN</td>\n",
       "      <td>-3395.0</td>\n",
       "      <td>0.475168</td>\n",
       "      <td>-0.020360</td>\n",
       "      <td>NaN</td>\n",
       "      <td>-0.000682</td>\n",
       "    </tr>\n",
       "  </tbody>\n",
       "</table>\n",
       "<p>270 rows × 19 columns</p>\n",
       "</div>"
      ],
      "text/plain": [
       "     Unnamed: 0      geo  time_period  amount_passenger_cars  amount_zev  \\\n",
       "0             0  Austria         2014                4694921        3389   \n",
       "1             1  Austria         2015                4748048        5038   \n",
       "2             2  Austria         2016                4821557        9086   \n",
       "3             3  Austria         2017                4898578       14637   \n",
       "4             4  Austria         2018                4978852       20855   \n",
       "..          ...      ...          ...                    ...         ...   \n",
       "275         255   Sweden         2019                4887116       30382   \n",
       "276         256   Sweden         2020                4943293       55829   \n",
       "277         257   Sweden         2021                4985979      110221   \n",
       "278         258   Sweden         2022                4979761      197751   \n",
       "279         259   Sweden         2023                4976366      291716   \n",
       "\n",
       "     amount_ev  share_zev  emission_per_capita  zev_per_capita  ev_per_capita  \\\n",
       "0      4691532   0.000722                  8.4        0.000398       0.551440   \n",
       "1      4743010   0.001061                  8.7        0.000587       0.552481   \n",
       "2      4812471   0.001884                  8.6        0.001044       0.553128   \n",
       "3      4883941   0.002988                  9.3        0.001668       0.556710   \n",
       "4      4957997   0.004189                  9.8        0.002364       0.561987   \n",
       "..         ...        ...                  ...             ...            ...   \n",
       "275    4856734   0.006217                  1.2        0.002970       0.474745   \n",
       "276    4887464   0.011294                  0.4        0.005406       0.473243   \n",
       "277    4875758   0.022106                  0.5        0.010619       0.469758   \n",
       "278    4782010   0.039711                  0.6        0.018919       0.457507   \n",
       "279    4684650   0.058620                  NaN        0.027726       0.445243   \n",
       "\n",
       "     total_emissions  zev_diff  ev_diff  emmission_diff  all_cars_diff  \\\n",
       "0         71465402.4       NaN      NaN             NaN            NaN   \n",
       "1         74688856.2    1649.0  51478.0       3223453.8        53127.0   \n",
       "2         74824050.6    4048.0  69461.0        135194.4        73509.0   \n",
       "3         81587644.5    5551.0  71470.0       6763593.9        77021.0   \n",
       "4         86458216.6    6218.0  74056.0       4870572.1        80274.0   \n",
       "..               ...       ...      ...             ...            ...   \n",
       "275       12276222.0   13677.0   3460.0      -3916165.2        17137.0   \n",
       "276        4131035.6   25447.0  30730.0      -8145186.4        56177.0   \n",
       "277        5189647.5   54392.0 -11706.0       1058611.9        42686.0   \n",
       "278        6271395.6   87530.0 -93748.0       1081748.1        -6218.0   \n",
       "279              NaN   93965.0 -97360.0             NaN        -3395.0   \n",
       "\n",
       "     zev_norm   ev_norm  emmission_norm  all_cars_norm  \n",
       "0         NaN       NaN             NaN            NaN  \n",
       "1    0.486574  0.010973        0.045105       0.011316  \n",
       "2    0.803493  0.014645        0.001810       0.015482  \n",
       "3    0.610940  0.014851        0.090393       0.015974  \n",
       "4    0.424814  0.015163        0.059697       0.016387  \n",
       "..        ...       ...             ...            ...  \n",
       "275  0.818737  0.000713       -0.241852       0.003519  \n",
       "276  0.837568  0.006327       -0.663493       0.011495  \n",
       "277  0.974261 -0.002395        0.256258       0.008635  \n",
       "278  0.794132 -0.019227        0.208443      -0.001247  \n",
       "279  0.475168 -0.020360             NaN      -0.000682  \n",
       "\n",
       "[270 rows x 19 columns]"
      ]
     },
     "execution_count": 184,
     "metadata": {},
     "output_type": "execute_result"
    }
   ],
   "source": [
    "# Exclude European Union data points\n",
    "point_to_exclude = joined_df[joined_df['geo'] == 'European Union'].index\n",
    "joined_df = joined_df.drop(index=point_to_exclude)"
   ]
  },
  {
   "cell_type": "code",
   "execution_count": null,
   "metadata": {},
   "outputs": [],
   "source": [
    "# Construct difference in share of emission vehicles\n",
    "joined_df['share_ev'] = joined_df['amount_ev'] / joined_df['amount_passenger_cars']\n",
    "joined_df['share_ev_diff'] = joined_df.groupby('geo')['share_ev'].transform(lambda x: x - x.shift(1))"
   ]
  },
  {
   "cell_type": "code",
   "execution_count": null,
   "metadata": {},
   "outputs": [],
   "source": [
    "# Use only the relevant colomns and drop rows containing NaNs\n",
    "df_cleaned = joined_df[['share_ev_diff', 'geo', 'emmission_norm']].dropna()"
   ]
  },
  {
   "cell_type": "code",
   "execution_count": null,
   "metadata": {},
   "outputs": [
    {
     "data": {
      "application/vnd.plotly.v1+json": {
       "config": {
        "plotlyServerURL": "https://plot.ly"
       },
       "data": [
        {
         "hovertemplate": "Countries=Austria<br>Change in Share of EV=%{x}<br>Relative change in Total Emmissions=%{y}<extra></extra>",
         "legendgroup": "Austria",
         "marker": {
          "color": "#AA0DFE",
          "symbol": "circle"
         },
         "mode": "markers",
         "name": "Austria",
         "orientation": "v",
         "showlegend": true,
         "type": "scatter",
         "x": [
          -0.00033922373996320143,
          -0.0008233858855515308,
          -0.0011035564823920208,
          -0.0012007066058753457,
          -0.0016776825337325718,
          -0.0028833089812186907,
          -0.006169740036880533,
          -0.006491803111946082
         ],
         "xaxis": "x",
         "y": [
          0.0451050954972301,
          0.0018101013575303,
          0.0903933139914775,
          0.0596974226900251,
          -0.0163544502258448,
          -0.1836213810600223,
          -0.0350479448299664,
          0.0453864782107555
         ],
         "yaxis": "y"
        },
        {
         "hovertemplate": "Countries=Belgium<br>Change in Share of EV=%{x}<br>Relative change in Total Emmissions=%{y}<extra></extra>",
         "legendgroup": "Belgium",
         "marker": {
          "color": "#3283FE",
          "symbol": "circle"
         },
         "mode": "markers",
         "name": "Belgium",
         "orientation": "v",
         "showlegend": true,
         "type": "scatter",
         "x": [
          -0.00018508594833155367,
          -0.0003232110361419682,
          -0.0003946380974627628,
          -0.0005598889768960724,
          -0.0013209486838561268,
          -0.0022060700166852687,
          -0.0034507617216587017,
          -0.006244291238258093
         ],
         "xaxis": "x",
         "y": [
          0.0433349040475876,
          -0.0118979417243596,
          0.0035902731799167,
          0.0041281824342675,
          -0.0043979939300948,
          -0.0890489240609206,
          0.034143242989332,
          -0.0554959146849402
         ],
         "yaxis": "y"
        },
        {
         "hovertemplate": "Countries=Bulgaria<br>Change in Share of EV=%{x}<br>Relative change in Total Emmissions=%{y}<extra></extra>",
         "legendgroup": "Bulgaria",
         "marker": {
          "color": "#85660D",
          "symbol": "circle"
         },
         "mode": "markers",
         "name": "Bulgaria",
         "orientation": "v",
         "showlegend": true,
         "type": "scatter",
         "x": [
          -0.000009099473081808362,
          -0.000010519535918129819,
          -0.00007020376570721076,
          -0.00011741299742396016,
          -0.00016272552056151302,
          -0.0002555437614403244,
          -0.0005159845444491218,
          -0.0009821501652937936
         ],
         "xaxis": "x",
         "y": [
          0.0723266956793191,
          -0.0778737472963358,
          0.0288488551801737,
          -0.080105242047294,
          -0.0280910956466388,
          -0.144708771637827,
          0.162876493155831,
          0.1074627640359299
         ],
         "yaxis": "y"
        },
        {
         "hovertemplate": "Countries=Croatia<br>Change in Share of EV=%{x}<br>Relative change in Total Emmissions=%{y}<extra></extra>",
         "legendgroup": "Croatia",
         "marker": {
          "color": "#782AB6",
          "symbol": "circle"
         },
         "mode": "markers",
         "name": "Croatia",
         "orientation": "v",
         "showlegend": true,
         "type": "scatter",
         "x": [
          -0.00008223127892270643,
          -0.000042004412939222746,
          -0.000028502801708629733,
          -0.00009805396905404606,
          -0.00014365176860531292,
          -0.0003315605313916059,
          -0.0009056117985446477,
          -0.0009506288849772115
         ],
         "xaxis": "x",
         "y": [
          0.0325983375663564,
          0.0276122810437428,
          0.0822643104641427,
          -0.0675961559144824,
          -0.0113754661101286,
          -0.0639239355616053,
          0.0091137010007739,
          0.0493457501854697
         ],
         "yaxis": "y"
        },
        {
         "hovertemplate": "Countries=Cyprus<br>Change in Share of EV=%{x}<br>Relative change in Total Emmissions=%{y}<extra></extra>",
         "legendgroup": "Cyprus",
         "marker": {
          "color": "#565656",
          "symbol": "circle"
         },
         "mode": "markers",
         "name": "Cyprus",
         "orientation": "v",
         "showlegend": true,
         "type": "scatter",
         "x": [
          -0.00001581242654014048,
          -0.0000315352489529408,
          -0.00008650929093112492,
          -0.000041805687548635007,
          -0.00008469140677647147,
          -0.0001234088928809829,
          -0.00014724037257263234,
          -0.0008183788433486772
         ],
         "xaxis": "x",
         "y": [
          -0.003226831421006,
          0.0689596724361153,
          0.0167200297516839,
          -0.0070177488053205,
          0.0042815640845576,
          -0.1070932301681006,
          0.0615638777371748,
          0.019704617539288
         ],
         "yaxis": "y"
        },
        {
         "hovertemplate": "Countries=Czech Republic<br>Change in Share of EV=%{x}<br>Relative change in Total Emmissions=%{y}<extra></extra>",
         "legendgroup": "Czech Republic",
         "marker": {
          "color": "#1C8356",
          "symbol": "circle"
         },
         "mode": "markers",
         "name": "Czech Republic",
         "orientation": "v",
         "showlegend": true,
         "type": "scatter",
         "x": [
          -0.00005311040632660635,
          -0.00004411791824154854,
          -0.00009185588496674058,
          -0.00031702979296233114,
          -0.00024305481852349153,
          -0.0005052172144331957,
          -0.00014684136243614532,
          -0.0007654549740160332
         ],
         "xaxis": "x",
         "y": [
          0.0198936465361669,
          0.0185965513947561,
          0.0192131239888301,
          0.0278191910700846,
          0.0037459749266144,
          -0.0606389367299946,
          0.0152224448401776,
          -0.0480202215642055
         ],
         "yaxis": "y"
        },
        {
         "hovertemplate": "Countries=Denmark<br>Change in Share of EV=%{x}<br>Relative change in Total Emmissions=%{y}<extra></extra>",
         "legendgroup": "Denmark",
         "marker": {
          "color": "#16FF32",
          "symbol": "circle"
         },
         "mode": "markers",
         "name": "Denmark",
         "orientation": "v",
         "showlegend": true,
         "type": "scatter",
         "x": [
          -0.002056781069522784,
          -0.00021935202288680955,
          0.00004366411288980743,
          -0.000403414797276902,
          -0.001974791007254839,
          -0.005872974227694394,
          -0.012208834785488065,
          -0.0163201647374428
         ],
         "xaxis": "x",
         "y": [
          -0.0653432580453578,
          0.0632033034848237,
          -0.0446467658368401,
          0.0275013735076607,
          -0.0811672948288309,
          -0.1020786514353918,
          0.0029680067692948,
          -0.0334688423555889
         ],
         "yaxis": "y"
        },
        {
         "hovertemplate": "Countries=Estonia<br>Change in Share of EV=%{x}<br>Relative change in Total Emmissions=%{y}<extra></extra>",
         "legendgroup": "Estonia",
         "marker": {
          "color": "#F7E1A0",
          "symbol": "circle"
         },
         "mode": "markers",
         "name": "Estonia",
         "orientation": "v",
         "showlegend": true,
         "type": "scatter",
         "x": [
          -0.000015311278422913688,
          0.000005405243453160402,
          0.0000034056792271863756,
          -0.00003929784691558691,
          -0.00005860634092047512,
          -0.00045391078441214816,
          -0.0007823693752844196,
          -0.0011026976095326324
         ],
         "xaxis": "x",
         "y": [
          -0.1172015719599153,
          0.1398191456189584,
          0.0485342211166819,
          0.043464673217752,
          -0.2369479416874652,
          -0.2992792805593124,
          0.0745664410240032,
          0.0503824749163642
         ],
         "yaxis": "y"
        },
        {
         "hovertemplate": "Countries=Finland<br>Change in Share of EV=%{x}<br>Relative change in Total Emmissions=%{y}<extra></extra>",
         "legendgroup": "Finland",
         "marker": {
          "color": "#E2E2E2",
          "symbol": "circle"
         },
         "mode": "markers",
         "name": "Finland",
         "orientation": "v",
         "showlegend": true,
         "type": "scatter",
         "x": [
          -0.00008143838479024446,
          -0.00006475673331329812,
          -0.0001849319089438639,
          -0.00026785536474471794,
          -0.0006402766053323905,
          -0.0013999704440706973,
          -0.0036921622393775166,
          -0.006227722498693078
         ],
         "xaxis": "x",
         "y": [
          0.029494844132534,
          0.1532691991031026,
          -0.0079874221844616,
          0.2109510129878648,
          -0.1447122415034653,
          -0.1691040107769891,
          0.2069823686496615,
          -0.0080552056113287
         ],
         "yaxis": "y"
        },
        {
         "hovertemplate": "Countries=France<br>Change in Share of EV=%{x}<br>Relative change in Total Emmissions=%{y}<extra></extra>",
         "legendgroup": "France",
         "marker": {
          "color": "#1CBE4F",
          "symbol": "circle"
         },
         "mode": "markers",
         "name": "France",
         "orientation": "v",
         "showlegend": true,
         "type": "scatter",
         "x": [
          -0.00041920146899399047,
          -0.0005014840560737532,
          -0.000537135802744948,
          -0.0006224846024138753,
          -0.0008952033351032895,
          -0.002696577287962021,
          -0.004020358740036589,
          -0.0049467126257093375
         ],
         "xaxis": "x",
         "y": [
          0.0201097549016125,
          0.0181383917693982,
          0.0329534498932887,
          -0.0557749037779647,
          0.0039424419910631,
          -0.1226180505557764,
          0.0575518455768335,
          -0.0306391228477507
         ],
         "yaxis": "y"
        },
        {
         "hovertemplate": "Countries=Germany<br>Change in Share of EV=%{x}<br>Relative change in Total Emmissions=%{y}<extra></extra>",
         "legendgroup": "Germany",
         "marker": {
          "color": "#C4451C",
          "symbol": "circle"
         },
         "mode": "markers",
         "name": "Germany",
         "orientation": "v",
         "showlegend": true,
         "type": "scatter",
         "x": [
          -0.00015087335575292293,
          -0.00016694880335998974,
          -0.0004212074367667684,
          -0.0006080793923610717,
          -0.0010999672664621096,
          -0.003549008777079532,
          -0.006343441957915363,
          -0.008048936168397303
         ],
         "xaxis": "x",
         "y": [
          0.0053248422573333,
          0.0030103811611217,
          -0.0138837619000606,
          -0.0243328930848371,
          -0.0634785556275671,
          -0.0892939335730524,
          0.0442977618239051,
          -0.0096615719997618
         ],
         "yaxis": "y"
        },
        {
         "hovertemplate": "Countries=Greece<br>Change in Share of EV=%{x}<br>Relative change in Total Emmissions=%{y}<extra></extra>",
         "legendgroup": "Greece",
         "marker": {
          "color": "#DEA0FD",
          "symbol": "circle"
         },
         "mode": "markers",
         "name": "Greece",
         "orientation": "v",
         "showlegend": true,
         "type": "scatter",
         "x": [
          -0.000007641257939616786,
          -0.000005646767536560127,
          -0.000006173456993829873,
          -0.000012432683077823192,
          -0.00003809437738089283,
          -0.00012221992223249156,
          -0.00038426294152538176,
          -0.0005160138780037071
         ],
         "xaxis": "x",
         "y": [
          -0.0697233856810505,
          -0.0406978301866209,
          0.045548495209425,
          -0.0361332436717129,
          -0.0828121043428887,
          -0.15237590288422,
          0.0557534771358588,
          0.0208933709597174
         ],
         "yaxis": "y"
        },
        {
         "hovertemplate": "Countries=Hungary<br>Change in Share of EV=%{x}<br>Relative change in Total Emmissions=%{y}<extra></extra>",
         "legendgroup": "Hungary",
         "marker": {
          "color": "#FE00FA",
          "symbol": "circle"
         },
         "mode": "markers",
         "name": "Hungary",
         "orientation": "v",
         "showlegend": true,
         "type": "scatter",
         "x": [
          -0.0000506682755530008,
          -0.0001218013200625645,
          -0.0003461038613408185,
          -0.00047925710031737623,
          -0.0006759146694150786,
          -0.0010785541448998792,
          -0.0018737906612080746,
          -0.002605839418843736
         ],
         "xaxis": "x",
         "y": [
          0.0508670455040367,
          0.0306670470691757,
          0.0291285313628746,
          0.0133954589722118,
          -0.0172288980233055,
          -0.065566927634407,
          0.0132608642703102,
          -0.0548852198980066
         ],
         "yaxis": "y"
        },
        {
         "hovertemplate": "Countries=Ireland<br>Change in Share of EV=%{x}<br>Relative change in Total Emmissions=%{y}<extra></extra>",
         "legendgroup": "Ireland",
         "marker": {
          "color": "#325A9B",
          "symbol": "circle"
         },
         "mode": "markers",
         "name": "Ireland",
         "orientation": "v",
         "showlegend": true,
         "type": "scatter",
         "x": [
          -0.00026618460149818723,
          -0.00026530775774935567,
          -0.0004839963151712645,
          -0.0008189016528785675,
          -0.0017004886587066448,
          -0.0017375446637725167,
          -0.0037324661765484324,
          -0.006549745319782585
         ],
         "xaxis": "x",
         "y": [
          0.0521118303978936,
          0.0173707899031001,
          0.0293280763610855,
          -0.0087204940930815,
          -0.0316985658836252,
          -0.0515392038380121,
          0.0343390098811459,
          0.0018332524368275
         ],
         "yaxis": "y"
        },
        {
         "hovertemplate": "Countries=Italy<br>Change in Share of EV=%{x}<br>Relative change in Total Emmissions=%{y}<extra></extra>",
         "legendgroup": "Italy",
         "marker": {
          "color": "#FEAF16",
          "symbol": "circle"
         },
         "mode": "markers",
         "name": "Italy",
         "orientation": "v",
         "showlegend": true,
         "type": "scatter",
         "x": [
          -0.0000302508737832774,
          -0.000028894853687067013,
          -0.000044629382729532985,
          -0.00011528346830347314,
          -0.0002636132402048519,
          -0.0007618397320863224,
          -0.001627834121595395,
          -0.0009686057592945829
         ],
         "xaxis": "x",
         "y": [
          0.0294421952810373,
          -0.0021856524376936,
          0.0424346318689285,
          -0.0724183646789806,
          -0.0020203621526187,
          -0.0935715440834606,
          0.1090787090467406,
          -0.0034789529843847
         ],
         "yaxis": "y"
        },
        {
         "hovertemplate": "Countries=Latvia<br>Change in Share of EV=%{x}<br>Relative change in Total Emmissions=%{y}<extra></extra>",
         "legendgroup": "Latvia",
         "marker": {
          "color": "#F8A19F",
          "symbol": "circle"
         },
         "mode": "markers",
         "name": "Latvia",
         "orientation": "v",
         "showlegend": true,
         "type": "scatter",
         "x": [
          -0.000024927548593511872,
          -0.00005212594386394542,
          -0.00008962310592608436,
          -0.00017195583014328886,
          -0.00028045126197517867,
          -0.0007254230305699938,
          -0.0011455363050492107,
          -0.0022025696967127306
         ],
         "xaxis": "x",
         "y": [
          -0.1007103286187939,
          -0.1624628468839508,
          -0.1308462877989283,
          0.3610205394102497,
          -0.1420329956372546,
          0.1689379872017476,
          0.1578283337920068,
          0.1747754339708379
         ],
         "yaxis": "y"
        },
        {
         "hovertemplate": "Countries=Lithuania<br>Change in Share of EV=%{x}<br>Relative change in Total Emmissions=%{y}<extra></extra>",
         "legendgroup": "Lithuania",
         "marker": {
          "color": "#90AD1C",
          "symbol": "circle"
         },
         "mode": "markers",
         "name": "Lithuania",
         "orientation": "v",
         "showlegend": true,
         "type": "scatter",
         "x": [
          -0.00007778610956432619,
          -0.00013980721190354206,
          -0.00018050522694779136,
          -0.00021842222379053755,
          -0.00025623427905852036,
          -0.0006501857424883184,
          -0.001417492480068172,
          -0.0014283561648231746
         ],
         "xaxis": "x",
         "y": [
          0.1234341149083997,
          0.0584101520137852,
          0.0517913184983632,
          0.0490212936067214,
          -0.0049536480079258,
          -0.0392216195368531,
          0.0602957461929402,
          -0.1335462209109783
         ],
         "yaxis": "y"
        },
        {
         "hovertemplate": "Countries=Luxembourg<br>Change in Share of EV=%{x}<br>Relative change in Total Emmissions=%{y}<extra></extra>",
         "legendgroup": "Luxembourg",
         "marker": {
          "color": "#F6222E",
          "symbol": "circle"
         },
         "mode": "markers",
         "name": "Luxembourg",
         "orientation": "v",
         "showlegend": true,
         "type": "scatter",
         "x": [
          -0.00011642067189110428,
          -0.00023031116711536015,
          -0.0006530553557140273,
          -0.0008177054851927767,
          -0.001930121332931023,
          -0.004159369856599149,
          -0.008786324890470265,
          -0.013179174506395053
         ],
         "xaxis": "x",
         "y": [
          -0.0201585642835552,
          -0.0175408981570979,
          0.0464868303958805,
          0.0453284602678423,
          -0.0006459747012067,
          -0.157024781849263,
          0.0450600089741154,
          -0.1171448636135634
         ],
         "yaxis": "y"
        },
        {
         "hovertemplate": "Countries=Malta<br>Change in Share of EV=%{x}<br>Relative change in Total Emmissions=%{y}<extra></extra>",
         "legendgroup": "Malta",
         "marker": {
          "color": "#1CFFCE",
          "symbol": "circle"
         },
         "mode": "markers",
         "name": "Malta",
         "orientation": "v",
         "showlegend": true,
         "type": "scatter",
         "x": [
          -0.0001667338660207296,
          -9.74755934302074e-7,
          -0.00015287056461310566,
          -0.0013613540913445243,
          -0.0011915366573166386,
          -0.0009925789644229521,
          -0.0015000880490342317,
          -0.0031424828971630125
         ],
         "xaxis": "x",
         "y": [
          -0.2105717403330891,
          -0.1191341636186157,
          0.084212750341944,
          0.033658775510204,
          0.0381836293296437,
          -0.11627826053306,
          0.0252500483366455,
          0.1198277764322811
         ],
         "yaxis": "y"
        },
        {
         "hovertemplate": "Countries=Netherlands<br>Change in Share of EV=%{x}<br>Relative change in Total Emmissions=%{y}<extra></extra>",
         "legendgroup": "Netherlands",
         "marker": {
          "color": "#2ED9FF",
          "symbol": "circle"
         },
         "mode": "markers",
         "name": "Netherlands",
         "orientation": "v",
         "showlegend": true,
         "type": "scatter",
         "x": [
          -0.00037697623701948846,
          -0.00043676646005541553,
          -0.0009419507803551941,
          -0.002670846657201298,
          -0.007095097553093677,
          -0.007632972751145717,
          -0.007756688748111418,
          -0.009256445624396648
         ],
         "xaxis": "x",
         "y": [
          0.0374429772969263,
          0.0046384989615239,
          -0.0181145529332498,
          -0.0271484962953323,
          -0.0282145779566821,
          -0.107605366437994,
          0.0138361473398572,
          -0.0624846952356872
         ],
         "yaxis": "y"
        },
        {
         "hovertemplate": "Countries=Poland<br>Change in Share of EV=%{x}<br>Relative change in Total Emmissions=%{y}<extra></extra>",
         "legendgroup": "Poland",
         "marker": {
          "color": "#B10DA1",
          "symbol": "circle"
         },
         "mode": "markers",
         "name": "Poland",
         "orientation": "v",
         "showlegend": true,
         "type": "scatter",
         "x": [
          -0.000004510190154127791,
          -0.000006432611804885191,
          -0.000027915192468142003,
          -0.00010511739811980281,
          -0.00010134108574066936,
          -0.00021272940809458074,
          -0.0003861502264931316,
          -0.0005893360169092476
         ],
         "xaxis": "x",
         "y": [
          0.0106634658695668,
          0.0207066542510182,
          0.0320713093865543,
          0.0104083325471619,
          -0.0103050767295576,
          -0.0519129068330887,
          0.0828526340620634,
          -0.0829951975548178
         ],
         "yaxis": "y"
        },
        {
         "hovertemplate": "Countries=Portugal<br>Change in Share of EV=%{x}<br>Relative change in Total Emmissions=%{y}<extra></extra>",
         "legendgroup": "Portugal",
         "marker": {
          "color": "#C075A6",
          "symbol": "circle"
         },
         "mode": "markers",
         "name": "Portugal",
         "orientation": "v",
         "showlegend": true,
         "type": "scatter",
         "x": [
          -0.00015301110135457208,
          -0.00019531638288727837,
          -0.0004311112612762624,
          -0.000966660633448968,
          -0.0014378744303281676,
          -0.0015147864235390829,
          -0.0028471792793023365,
          -0.0039656562397488715
         ],
         "xaxis": "x",
         "y": [
          0.0965292099258165,
          0.0434801717222768,
          0.3644713536491883,
          -0.2909199883604411,
          -0.0608127391426554,
          -0.1416951945214332,
          -0.0548850847569913,
          0.0426834715228937
         ],
         "yaxis": "y"
        },
        {
         "hovertemplate": "Countries=Romania<br>Change in Share of EV=%{x}<br>Relative change in Total Emmissions=%{y}<extra></extra>",
         "legendgroup": "Romania",
         "marker": {
          "color": "#FC1CBF",
          "symbol": "circle"
         },
         "mode": "markers",
         "name": "Romania",
         "orientation": "v",
         "showlegend": true,
         "type": "scatter",
         "x": [
          -0.00019165046188640567,
          -0.0004106370808498738,
          -0.0004983344430167236,
          0.0014873919495859145,
          -0.00023439141316494716,
          -0.00039236109964835286,
          -0.0008358552690508336,
          -0.0015057289928271933
         ],
         "xaxis": "x",
         "y": [
          -0.0038433250476718,
          -0.0623652710308972,
          0.084470047088917,
          0.0219980562179449,
          -0.0329556253225465,
          -0.1150312136793448,
          0.0865535637734663,
          -0.0649603813312767
         ],
         "yaxis": "y"
        },
        {
         "hovertemplate": "Countries=Slovakia<br>Change in Share of EV=%{x}<br>Relative change in Total Emmissions=%{y}<extra></extra>",
         "legendgroup": "Slovakia",
         "marker": {
          "color": "#B00068",
          "symbol": "circle"
         },
         "mode": "markers",
         "name": "Slovakia",
         "orientation": "v",
         "showlegend": true,
         "type": "scatter",
         "x": [
          -0.00000936048734345718,
          -0.000025982175297034615,
          -0.00008570977590915962,
          -0.00016340715645435377,
          -0.00005696716269631974,
          -0.00036412673750696456,
          -0.00044015322955670566,
          -0.0005693625880285325
         ],
         "xaxis": "x",
         "y": [
          0.0163970098741271,
          0.0160696054421029,
          0.0315761311446869,
          0.0159443106169102,
          -0.0844879302416891,
          -0.1394500334240235,
          0.1458549811687379,
          -0.1309926458094488
         ],
         "yaxis": "y"
        },
        {
         "hovertemplate": "Countries=Slovenia<br>Change in Share of EV=%{x}<br>Relative change in Total Emmissions=%{y}<extra></extra>",
         "legendgroup": "Slovenia",
         "marker": {
          "color": "#FBE426",
          "symbol": "circle"
         },
         "mode": "markers",
         "name": "Slovenia",
         "orientation": "v",
         "showlegend": true,
         "type": "scatter",
         "x": [
          -0.00014248924435933397,
          -0.00014979303997786353,
          -0.0002800485534234509,
          -0.0004473863199679906,
          -0.0005702686790418632,
          -0.001420427871548391,
          -0.0014159126970336722,
          -0.002054000329549721
         ],
         "xaxis": "x",
         "y": [
          0.0127830845450448,
          0.0594979739574068,
          0.000826959559885,
          -0.0106396178573128,
          -0.106335098138474,
          -0.0565601316251112,
          0.0198561303393636,
          -0.0274960166311281
         ],
         "yaxis": "y"
        },
        {
         "hovertemplate": "Countries=Spain<br>Change in Share of EV=%{x}<br>Relative change in Total Emmissions=%{y}<extra></extra>",
         "legendgroup": "Spain",
         "marker": {
          "color": "#FA0087",
          "symbol": "circle"
         },
         "mode": "markers",
         "name": "Spain",
         "orientation": "v",
         "showlegend": true,
         "type": "scatter",
         "x": [
          -0.00010597175544146964,
          -0.000005166672709666642,
          -0.0003812912605768437,
          -0.000005935485281161057,
          -0.000387016379287064,
          -0.0006457801678007025,
          -0.0008541995398182456,
          -0.0010831846552495916
         ],
         "xaxis": "x",
         "y": [
          0.0301922353246879,
          -0.0309119878382538,
          0.0334910402905359,
          -0.0122574498217235,
          -0.0569953788792684,
          -0.1763866552202611,
          0.0835241709656078,
          0.0396196144128763
         ],
         "yaxis": "y"
        },
        {
         "hovertemplate": "Countries=Sweden<br>Change in Share of EV=%{x}<br>Relative change in Total Emmissions=%{y}<extra></extra>",
         "legendgroup": "Sweden",
         "marker": {
          "color": "#2E91E5",
          "symbol": "circle"
         },
         "mode": "markers",
         "name": "Sweden",
         "orientation": "v",
         "showlegend": true,
         "type": "scatter",
         "x": [
          -0.0005471764795631495,
          -0.0005631877680760677,
          -0.0006997332778813092,
          -0.0011456992131507748,
          -0.002786554824873666,
          -0.0050771340858976055,
          -0.010812301671384028,
          -0.017604751772330007
         ],
         "xaxis": "x",
         "y": [
          2.031879454184113,
          0.6843914750890541,
          1.029263171508079,
          0.6200239456064356,
          -0.2418522452328709,
          -0.6634929215193405,
          0.2562582370386738,
          0.2084434636456521
         ],
         "yaxis": "y"
        },
        {
         "hovertemplate": "<b>OLS trendline</b><br>emmission_norm = 2.5504 * share_ev_diff + 0.0170597<br>R<sup>2</sup>=0.001222<br><br>Change in Share of EV=%{x}<br>Relative change in Total Emmissions=%{y} <b>(trend)</b><extra></extra>",
         "legendgroup": "Overall Trendline",
         "line": {
          "color": "#E15F99"
         },
         "mode": "lines",
         "name": "Overall Trendline",
         "showlegend": true,
         "type": "scatter",
         "x": [
          -0.017604751772330007,
          -0.0163201647374428,
          -0.013179174506395053,
          -0.012208834785488065,
          -0.010812301671384028,
          -0.009256445624396648,
          -0.008786324890470265,
          -0.008048936168397303,
          -0.007756688748111418,
          -0.007632972751145717,
          -0.007095097553093677,
          -0.006549745319782585,
          -0.006491803111946082,
          -0.006343441957915363,
          -0.006244291238258093,
          -0.006227722498693078,
          -0.006169740036880533,
          -0.005872974227694394,
          -0.0050771340858976055,
          -0.0049467126257093375,
          -0.004159369856599149,
          -0.004020358740036589,
          -0.0039656562397488715,
          -0.0037324661765484324,
          -0.0036921622393775166,
          -0.003549008777079532,
          -0.0034507617216587017,
          -0.0031424828971630125,
          -0.0028833089812186907,
          -0.0028471792793023365,
          -0.002786554824873666,
          -0.002696577287962021,
          -0.002670846657201298,
          -0.002605839418843736,
          -0.0022060700166852687,
          -0.0022025696967127306,
          -0.002056781069522784,
          -0.002054000329549721,
          -0.001974791007254839,
          -0.001930121332931023,
          -0.0018737906612080746,
          -0.0017375446637725167,
          -0.0017004886587066448,
          -0.0016776825337325718,
          -0.001627834121595395,
          -0.0015147864235390829,
          -0.0015057289928271933,
          -0.0015000880490342317,
          -0.0014378744303281676,
          -0.0014283561648231746,
          -0.001420427871548391,
          -0.001417492480068172,
          -0.0014159126970336722,
          -0.0013999704440706973,
          -0.0013613540913445243,
          -0.0013209486838561268,
          -0.0012007066058753457,
          -0.0011915366573166386,
          -0.0011456992131507748,
          -0.0011455363050492107,
          -0.0011035564823920208,
          -0.0011026976095326324,
          -0.0010999672664621096,
          -0.0010831846552495916,
          -0.0010785541448998792,
          -0.0009925789644229521,
          -0.0009821501652937936,
          -0.0009686057592945829,
          -0.000966660633448968,
          -0.0009506288849772115,
          -0.0009419507803551941,
          -0.0009056117985446477,
          -0.0008952033351032895,
          -0.0008541995398182456,
          -0.0008358552690508336,
          -0.0008233858855515308,
          -0.0008189016528785675,
          -0.0008183788433486772,
          -0.0008177054851927767,
          -0.0007823693752844196,
          -0.0007654549740160332,
          -0.0007618397320863224,
          -0.0007254230305699938,
          -0.0006997332778813092,
          -0.0006759146694150786,
          -0.0006530553557140273,
          -0.0006501857424883184,
          -0.0006457801678007025,
          -0.0006402766053323905,
          -0.0006224846024138753,
          -0.0006080793923610717,
          -0.0005893360169092476,
          -0.0005702686790418632,
          -0.0005693625880285325,
          -0.0005631877680760677,
          -0.0005598889768960724,
          -0.0005471764795631495,
          -0.000537135802744948,
          -0.0005160138780037071,
          -0.0005159845444491218,
          -0.0005052172144331957,
          -0.0005014840560737532,
          -0.0004983344430167236,
          -0.0004839963151712645,
          -0.00047925710031737623,
          -0.00045391078441214816,
          -0.0004473863199679906,
          -0.00044015322955670566,
          -0.00043676646005541553,
          -0.0004311112612762624,
          -0.0004212074367667684,
          -0.00041920146899399047,
          -0.0004106370808498738,
          -0.000403414797276902,
          -0.0003946380974627628,
          -0.00039236109964835286,
          -0.000387016379287064,
          -0.0003861502264931316,
          -0.00038426294152538176,
          -0.0003812912605768437,
          -0.00037697623701948846,
          -0.00036412673750696456,
          -0.0003461038613408185,
          -0.00033922373996320143,
          -0.0003315605313916059,
          -0.0003232110361419682,
          -0.00031702979296233114,
          -0.00028045126197517867,
          -0.0002800485534234509,
          -0.00026785536474471794,
          -0.00026618460149818723,
          -0.00026530775774935567,
          -0.0002636132402048519,
          -0.00025623427905852036,
          -0.0002555437614403244,
          -0.00024305481852349153,
          -0.00023439141316494716,
          -0.00023031116711536015,
          -0.00021935202288680955,
          -0.00021842222379053755,
          -0.00021272940809458074,
          -0.00019531638288727837,
          -0.00019165046188640567,
          -0.00018508594833155367,
          -0.0001849319089438639,
          -0.00018050522694779136,
          -0.00017195583014328886,
          -0.00016694880335998974,
          -0.0001667338660207296,
          -0.00016340715645435377,
          -0.00016272552056151302,
          -0.00015301110135457208,
          -0.00015287056461310566,
          -0.00015087335575292293,
          -0.00014979303997786353,
          -0.00014724037257263234,
          -0.00014684136243614532,
          -0.00014365176860531292,
          -0.00014248924435933397,
          -0.00013980721190354206,
          -0.0001234088928809829,
          -0.00012221992223249156,
          -0.0001218013200625645,
          -0.00011741299742396016,
          -0.00011642067189110428,
          -0.00011528346830347314,
          -0.00010597175544146964,
          -0.00010511739811980281,
          -0.00010134108574066936,
          -0.00009805396905404606,
          -0.00009185588496674058,
          -0.00008962310592608436,
          -0.00008650929093112492,
          -0.00008570977590915962,
          -0.00008469140677647147,
          -0.00008223127892270643,
          -0.00008143838479024446,
          -0.00007778610956432619,
          -0.00007020376570721076,
          -0.00006475673331329812,
          -0.00005860634092047512,
          -0.00005696716269631974,
          -0.00005311040632660635,
          -0.00005212594386394542,
          -0.0000506682755530008,
          -0.000044629382729532985,
          -0.00004411791824154854,
          -0.000042004412939222746,
          -0.000041805687548635007,
          -0.00003929784691558691,
          -0.00003809437738089283,
          -0.0000315352489529408,
          -0.0000302508737832774,
          -0.000028894853687067013,
          -0.000028502801708629733,
          -0.000027915192468142003,
          -0.000025982175297034615,
          -0.000024927548593511872,
          -0.00001581242654014048,
          -0.000015311278422913688,
          -0.000012432683077823192,
          -0.000010519535918129819,
          -0.00000936048734345718,
          -0.000009099473081808362,
          -0.000007641257939616786,
          -0.000006432611804885191,
          -0.000006173456993829873,
          -0.000005935485281161057,
          -0.000005646767536560127,
          -0.000005166672709666642,
          -0.000004510190154127791,
          -9.74755934302074e-7,
          0.0000034056792271863756,
          0.000005405243453160402,
          0.00004366411288980743,
          0.0014873919495859145
         ],
         "xaxis": "x",
         "y": [
          -0.027839492942827122,
          -0.024563282874133754,
          -0.01655250311289345,
          -0.014077749221291458,
          -0.01051603193360835,
          -0.006547977525348592,
          -0.0053489818635821884,
          -0.0034683460715445587,
          -0.0027229984112559368,
          -0.0024074732004997377,
          -0.0010356765906162654,
          0.0003551894458879032,
          0.0005029652209508547,
          0.000881345426758463,
          0.0011342193677506087,
          0.0011764762720429878,
          0.0013243547108243406,
          0.0020812260676841216,
          0.004110936328502636,
          0.004443563148981182,
          0.006451601715163822,
          0.006806135590544678,
          0.006945648817253415,
          0.007540376626446664,
          0.007643167765685379,
          0.008008266277356216,
          0.008258835513575747,
          0.009045069658361752,
          0.009706066671331006,
          0.009798211843267637,
          0.009952828418567023,
          0.010182307079319693,
          0.010247930465888837,
          0.010413724890914848,
          0.011433296554754736,
          0.011442223768891445,
          0.011814043003656354,
          0.011821135001357364,
          0.01202315041346189,
          0.012137075926339102,
          0.01228074164058258,
          0.012628223357659648,
          0.012722730972640381,
          0.012780895701256451,
          0.012908029064210355,
          0.013196345851283656,
          0.013219445917599826,
          0.013233832577553199,
          0.013392502156553389,
          0.013416777535672946,
          0.01343699785048928,
          0.013444484271309256,
          0.013448513349093335,
          0.013489172462299736,
          0.01358765958709686,
          0.013690709516177584,
          0.013997374845861405,
          0.01402076187763234,
          0.014137665670073744,
          0.014138081150806557,
          0.014245146467469607,
          0.014247336936338773,
          0.014254300401807207,
          0.014297102764231987,
          0.014308912415286304,
          0.01452818346838468,
          0.014554781071959535,
          0.01458932471758568,
          0.014594285565474699,
          0.014635172927977575,
          0.014657305561242338,
          0.014749984480506248,
          0.0147765302199541,
          0.01488110627694295,
          0.014927891495039371,
          0.014959693403871809,
          0.014971129988419632,
          0.014972463361557706,
          0.014974180693828922,
          0.015064301889143945,
          0.015107440368854875,
          0.015116660679888079,
          0.015209537815446957,
          0.01527505694660361,
          0.015335803912562349,
          0.01539410429367851,
          0.015401422953674289,
          0.015412658928939456,
          0.015426695211637849,
          0.015472071926115572,
          0.015508810965927523,
          0.015556614060392007,
          0.015605243388423323,
          0.015607554282446387,
          0.015623302539863923,
          0.015631715775078745,
          0.015664137721299008,
          0.01568974545794503,
          0.01574361480321171,
          0.015743689615493224,
          0.015771150608055878,
          0.015780671653086747,
          0.015788704424498638,
          0.0158252723778858,
          0.0158373592688479,
          0.01590200249902053,
          0.01591864248955777,
          0.01593708975937262,
          0.01594572737444978,
          0.015960150390312112,
          0.015985409098905123,
          0.015990525118011783,
          0.016012367728833726,
          0.01603078743689407,
          0.016053171527282705,
          0.01605897878125878,
          0.016072609953134604,
          0.016074818988744837,
          0.016079632319290695,
          0.016087211292750755,
          0.016098216326463004,
          0.016130987682966925,
          0.016176953216448683,
          0.016194500274233803,
          0.016214044517168628,
          0.01623533906527044,
          0.01625110370448303,
          0.016344393569835473,
          0.01634542063750476,
          0.016376518139218414,
          0.016380779252885322,
          0.01638301555470106,
          0.016387337251316476,
          0.016406156549773922,
          0.016407917645528357,
          0.01643976943868853,
          0.016461864582959798,
          0.016472270840245103,
          0.016500221035670355,
          0.01650259239477514,
          0.01651711134880144,
          0.016561521518732497,
          0.016570871081640976,
          0.016587613213408146,
          0.016588006075377963,
          0.016599295882711033,
          0.01662110025962865,
          0.016633870177988525,
          0.0166344183540606,
          0.016642902792312723,
          0.016644641236119688,
          0.016669416885533028,
          0.016669775310361325,
          0.01667486899074211,
          0.01667762422750186,
          0.016684134549051054,
          0.016685152184284142,
          0.0166932869226396,
          0.016696251823838455,
          0.016703092077941597,
          0.016744914341776038,
          0.01674794669186535,
          0.016749014294609767,
          0.016760206270258607,
          0.016762737096752935,
          0.01676563742015864,
          0.016789386007530892,
          0.016791564959975133,
          0.016801196064994136,
          0.016809579525587467,
          0.016825387115841733,
          0.016831081594281497,
          0.016839023066335536,
          0.01684106214900872,
          0.016843659397085764,
          0.016849933705813693,
          0.01685195590257392,
          0.016861270663305446,
          0.016880608668916844,
          0.016894500777344515,
          0.01691018673472735,
          0.016914367293970525,
          0.016924203563298948,
          0.016926714335823368,
          0.016930431972283517,
          0.01694583356122587,
          0.01694713799997529,
          0.016952528282738286,
          0.016953035111865362,
          0.016959431107239388,
          0.016962500435280112,
          0.01697922883282259,
          0.016982504502550337,
          0.01698596289545942,
          0.016986962784610038,
          0.016988461422894452,
          0.01699339138882665,
          0.01699608110819245,
          0.01701932831047427,
          0.017020606438357375,
          0.017027948006345495,
          0.01703282729581149,
          0.017035783332660155,
          0.0170364490232898,
          0.01704016805438806,
          0.01704325058482668,
          0.01704391153311455,
          0.017044518456039926,
          0.017045254801617282,
          0.01704647923520028,
          0.017048153527949597,
          0.017057170297443313,
          0.017068342156874843,
          0.01707344184437925,
          0.01717101724399098,
          0.020853099926268704
         ],
         "yaxis": "y"
        }
       ],
       "layout": {
        "legend": {
         "orientation": "h",
         "title": {
          "text": "Countries"
         },
         "tracegroupgap": 0,
         "y": -0.5,
         "yanchor": "bottom"
        },
        "template": {
         "data": {
          "bar": [
           {
            "error_x": {
             "color": "#2a3f5f"
            },
            "error_y": {
             "color": "#2a3f5f"
            },
            "marker": {
             "line": {
              "color": "#E5ECF6",
              "width": 0.5
             },
             "pattern": {
              "fillmode": "overlay",
              "size": 10,
              "solidity": 0.2
             }
            },
            "type": "bar"
           }
          ],
          "barpolar": [
           {
            "marker": {
             "line": {
              "color": "#E5ECF6",
              "width": 0.5
             },
             "pattern": {
              "fillmode": "overlay",
              "size": 10,
              "solidity": 0.2
             }
            },
            "type": "barpolar"
           }
          ],
          "carpet": [
           {
            "aaxis": {
             "endlinecolor": "#2a3f5f",
             "gridcolor": "white",
             "linecolor": "white",
             "minorgridcolor": "white",
             "startlinecolor": "#2a3f5f"
            },
            "baxis": {
             "endlinecolor": "#2a3f5f",
             "gridcolor": "white",
             "linecolor": "white",
             "minorgridcolor": "white",
             "startlinecolor": "#2a3f5f"
            },
            "type": "carpet"
           }
          ],
          "choropleth": [
           {
            "colorbar": {
             "outlinewidth": 0,
             "ticks": ""
            },
            "type": "choropleth"
           }
          ],
          "contour": [
           {
            "colorbar": {
             "outlinewidth": 0,
             "ticks": ""
            },
            "colorscale": [
             [
              0,
              "#0d0887"
             ],
             [
              0.1111111111111111,
              "#46039f"
             ],
             [
              0.2222222222222222,
              "#7201a8"
             ],
             [
              0.3333333333333333,
              "#9c179e"
             ],
             [
              0.4444444444444444,
              "#bd3786"
             ],
             [
              0.5555555555555556,
              "#d8576b"
             ],
             [
              0.6666666666666666,
              "#ed7953"
             ],
             [
              0.7777777777777778,
              "#fb9f3a"
             ],
             [
              0.8888888888888888,
              "#fdca26"
             ],
             [
              1,
              "#f0f921"
             ]
            ],
            "type": "contour"
           }
          ],
          "contourcarpet": [
           {
            "colorbar": {
             "outlinewidth": 0,
             "ticks": ""
            },
            "type": "contourcarpet"
           }
          ],
          "heatmap": [
           {
            "colorbar": {
             "outlinewidth": 0,
             "ticks": ""
            },
            "colorscale": [
             [
              0,
              "#0d0887"
             ],
             [
              0.1111111111111111,
              "#46039f"
             ],
             [
              0.2222222222222222,
              "#7201a8"
             ],
             [
              0.3333333333333333,
              "#9c179e"
             ],
             [
              0.4444444444444444,
              "#bd3786"
             ],
             [
              0.5555555555555556,
              "#d8576b"
             ],
             [
              0.6666666666666666,
              "#ed7953"
             ],
             [
              0.7777777777777778,
              "#fb9f3a"
             ],
             [
              0.8888888888888888,
              "#fdca26"
             ],
             [
              1,
              "#f0f921"
             ]
            ],
            "type": "heatmap"
           }
          ],
          "heatmapgl": [
           {
            "colorbar": {
             "outlinewidth": 0,
             "ticks": ""
            },
            "colorscale": [
             [
              0,
              "#0d0887"
             ],
             [
              0.1111111111111111,
              "#46039f"
             ],
             [
              0.2222222222222222,
              "#7201a8"
             ],
             [
              0.3333333333333333,
              "#9c179e"
             ],
             [
              0.4444444444444444,
              "#bd3786"
             ],
             [
              0.5555555555555556,
              "#d8576b"
             ],
             [
              0.6666666666666666,
              "#ed7953"
             ],
             [
              0.7777777777777778,
              "#fb9f3a"
             ],
             [
              0.8888888888888888,
              "#fdca26"
             ],
             [
              1,
              "#f0f921"
             ]
            ],
            "type": "heatmapgl"
           }
          ],
          "histogram": [
           {
            "marker": {
             "pattern": {
              "fillmode": "overlay",
              "size": 10,
              "solidity": 0.2
             }
            },
            "type": "histogram"
           }
          ],
          "histogram2d": [
           {
            "colorbar": {
             "outlinewidth": 0,
             "ticks": ""
            },
            "colorscale": [
             [
              0,
              "#0d0887"
             ],
             [
              0.1111111111111111,
              "#46039f"
             ],
             [
              0.2222222222222222,
              "#7201a8"
             ],
             [
              0.3333333333333333,
              "#9c179e"
             ],
             [
              0.4444444444444444,
              "#bd3786"
             ],
             [
              0.5555555555555556,
              "#d8576b"
             ],
             [
              0.6666666666666666,
              "#ed7953"
             ],
             [
              0.7777777777777778,
              "#fb9f3a"
             ],
             [
              0.8888888888888888,
              "#fdca26"
             ],
             [
              1,
              "#f0f921"
             ]
            ],
            "type": "histogram2d"
           }
          ],
          "histogram2dcontour": [
           {
            "colorbar": {
             "outlinewidth": 0,
             "ticks": ""
            },
            "colorscale": [
             [
              0,
              "#0d0887"
             ],
             [
              0.1111111111111111,
              "#46039f"
             ],
             [
              0.2222222222222222,
              "#7201a8"
             ],
             [
              0.3333333333333333,
              "#9c179e"
             ],
             [
              0.4444444444444444,
              "#bd3786"
             ],
             [
              0.5555555555555556,
              "#d8576b"
             ],
             [
              0.6666666666666666,
              "#ed7953"
             ],
             [
              0.7777777777777778,
              "#fb9f3a"
             ],
             [
              0.8888888888888888,
              "#fdca26"
             ],
             [
              1,
              "#f0f921"
             ]
            ],
            "type": "histogram2dcontour"
           }
          ],
          "mesh3d": [
           {
            "colorbar": {
             "outlinewidth": 0,
             "ticks": ""
            },
            "type": "mesh3d"
           }
          ],
          "parcoords": [
           {
            "line": {
             "colorbar": {
              "outlinewidth": 0,
              "ticks": ""
             }
            },
            "type": "parcoords"
           }
          ],
          "pie": [
           {
            "automargin": true,
            "type": "pie"
           }
          ],
          "scatter": [
           {
            "fillpattern": {
             "fillmode": "overlay",
             "size": 10,
             "solidity": 0.2
            },
            "type": "scatter"
           }
          ],
          "scatter3d": [
           {
            "line": {
             "colorbar": {
              "outlinewidth": 0,
              "ticks": ""
             }
            },
            "marker": {
             "colorbar": {
              "outlinewidth": 0,
              "ticks": ""
             }
            },
            "type": "scatter3d"
           }
          ],
          "scattercarpet": [
           {
            "marker": {
             "colorbar": {
              "outlinewidth": 0,
              "ticks": ""
             }
            },
            "type": "scattercarpet"
           }
          ],
          "scattergeo": [
           {
            "marker": {
             "colorbar": {
              "outlinewidth": 0,
              "ticks": ""
             }
            },
            "type": "scattergeo"
           }
          ],
          "scattergl": [
           {
            "marker": {
             "colorbar": {
              "outlinewidth": 0,
              "ticks": ""
             }
            },
            "type": "scattergl"
           }
          ],
          "scattermapbox": [
           {
            "marker": {
             "colorbar": {
              "outlinewidth": 0,
              "ticks": ""
             }
            },
            "type": "scattermapbox"
           }
          ],
          "scatterpolar": [
           {
            "marker": {
             "colorbar": {
              "outlinewidth": 0,
              "ticks": ""
             }
            },
            "type": "scatterpolar"
           }
          ],
          "scatterpolargl": [
           {
            "marker": {
             "colorbar": {
              "outlinewidth": 0,
              "ticks": ""
             }
            },
            "type": "scatterpolargl"
           }
          ],
          "scatterternary": [
           {
            "marker": {
             "colorbar": {
              "outlinewidth": 0,
              "ticks": ""
             }
            },
            "type": "scatterternary"
           }
          ],
          "surface": [
           {
            "colorbar": {
             "outlinewidth": 0,
             "ticks": ""
            },
            "colorscale": [
             [
              0,
              "#0d0887"
             ],
             [
              0.1111111111111111,
              "#46039f"
             ],
             [
              0.2222222222222222,
              "#7201a8"
             ],
             [
              0.3333333333333333,
              "#9c179e"
             ],
             [
              0.4444444444444444,
              "#bd3786"
             ],
             [
              0.5555555555555556,
              "#d8576b"
             ],
             [
              0.6666666666666666,
              "#ed7953"
             ],
             [
              0.7777777777777778,
              "#fb9f3a"
             ],
             [
              0.8888888888888888,
              "#fdca26"
             ],
             [
              1,
              "#f0f921"
             ]
            ],
            "type": "surface"
           }
          ],
          "table": [
           {
            "cells": {
             "fill": {
              "color": "#EBF0F8"
             },
             "line": {
              "color": "white"
             }
            },
            "header": {
             "fill": {
              "color": "#C8D4E3"
             },
             "line": {
              "color": "white"
             }
            },
            "type": "table"
           }
          ]
         },
         "layout": {
          "annotationdefaults": {
           "arrowcolor": "#2a3f5f",
           "arrowhead": 0,
           "arrowwidth": 1
          },
          "autotypenumbers": "strict",
          "coloraxis": {
           "colorbar": {
            "outlinewidth": 0,
            "ticks": ""
           }
          },
          "colorscale": {
           "diverging": [
            [
             0,
             "#8e0152"
            ],
            [
             0.1,
             "#c51b7d"
            ],
            [
             0.2,
             "#de77ae"
            ],
            [
             0.3,
             "#f1b6da"
            ],
            [
             0.4,
             "#fde0ef"
            ],
            [
             0.5,
             "#f7f7f7"
            ],
            [
             0.6,
             "#e6f5d0"
            ],
            [
             0.7,
             "#b8e186"
            ],
            [
             0.8,
             "#7fbc41"
            ],
            [
             0.9,
             "#4d9221"
            ],
            [
             1,
             "#276419"
            ]
           ],
           "sequential": [
            [
             0,
             "#0d0887"
            ],
            [
             0.1111111111111111,
             "#46039f"
            ],
            [
             0.2222222222222222,
             "#7201a8"
            ],
            [
             0.3333333333333333,
             "#9c179e"
            ],
            [
             0.4444444444444444,
             "#bd3786"
            ],
            [
             0.5555555555555556,
             "#d8576b"
            ],
            [
             0.6666666666666666,
             "#ed7953"
            ],
            [
             0.7777777777777778,
             "#fb9f3a"
            ],
            [
             0.8888888888888888,
             "#fdca26"
            ],
            [
             1,
             "#f0f921"
            ]
           ],
           "sequentialminus": [
            [
             0,
             "#0d0887"
            ],
            [
             0.1111111111111111,
             "#46039f"
            ],
            [
             0.2222222222222222,
             "#7201a8"
            ],
            [
             0.3333333333333333,
             "#9c179e"
            ],
            [
             0.4444444444444444,
             "#bd3786"
            ],
            [
             0.5555555555555556,
             "#d8576b"
            ],
            [
             0.6666666666666666,
             "#ed7953"
            ],
            [
             0.7777777777777778,
             "#fb9f3a"
            ],
            [
             0.8888888888888888,
             "#fdca26"
            ],
            [
             1,
             "#f0f921"
            ]
           ]
          },
          "colorway": [
           "#636efa",
           "#EF553B",
           "#00cc96",
           "#ab63fa",
           "#FFA15A",
           "#19d3f3",
           "#FF6692",
           "#B6E880",
           "#FF97FF",
           "#FECB52"
          ],
          "font": {
           "color": "#2a3f5f"
          },
          "geo": {
           "bgcolor": "white",
           "lakecolor": "white",
           "landcolor": "#E5ECF6",
           "showlakes": true,
           "showland": true,
           "subunitcolor": "white"
          },
          "hoverlabel": {
           "align": "left"
          },
          "hovermode": "closest",
          "mapbox": {
           "style": "light"
          },
          "paper_bgcolor": "white",
          "plot_bgcolor": "#E5ECF6",
          "polar": {
           "angularaxis": {
            "gridcolor": "white",
            "linecolor": "white",
            "ticks": ""
           },
           "bgcolor": "#E5ECF6",
           "radialaxis": {
            "gridcolor": "white",
            "linecolor": "white",
            "ticks": ""
           }
          },
          "scene": {
           "xaxis": {
            "backgroundcolor": "#E5ECF6",
            "gridcolor": "white",
            "gridwidth": 2,
            "linecolor": "white",
            "showbackground": true,
            "ticks": "",
            "zerolinecolor": "white"
           },
           "yaxis": {
            "backgroundcolor": "#E5ECF6",
            "gridcolor": "white",
            "gridwidth": 2,
            "linecolor": "white",
            "showbackground": true,
            "ticks": "",
            "zerolinecolor": "white"
           },
           "zaxis": {
            "backgroundcolor": "#E5ECF6",
            "gridcolor": "white",
            "gridwidth": 2,
            "linecolor": "white",
            "showbackground": true,
            "ticks": "",
            "zerolinecolor": "white"
           }
          },
          "shapedefaults": {
           "line": {
            "color": "#2a3f5f"
           }
          },
          "ternary": {
           "aaxis": {
            "gridcolor": "white",
            "linecolor": "white",
            "ticks": ""
           },
           "baxis": {
            "gridcolor": "white",
            "linecolor": "white",
            "ticks": ""
           },
           "bgcolor": "#E5ECF6",
           "caxis": {
            "gridcolor": "white",
            "linecolor": "white",
            "ticks": ""
           }
          },
          "title": {
           "x": 0.05
          },
          "xaxis": {
           "automargin": true,
           "gridcolor": "white",
           "linecolor": "white",
           "ticks": "",
           "title": {
            "standoff": 15
           },
           "zerolinecolor": "white",
           "zerolinewidth": 2
          },
          "yaxis": {
           "automargin": true,
           "gridcolor": "white",
           "linecolor": "white",
           "ticks": "",
           "title": {
            "standoff": 15
           },
           "zerolinecolor": "white",
           "zerolinewidth": 2
          }
         }
        },
        "title": {
         "text": "Scatter Plot of change in Share of Emission Vehicles vs Relative change in Emission"
        },
        "xaxis": {
         "anchor": "y",
         "domain": [
          0,
          1
         ],
         "title": {
          "text": "Change in Share of EV"
         }
        },
        "yaxis": {
         "anchor": "x",
         "domain": [
          0,
          1
         ],
         "title": {
          "text": "Relative change in Total Emmissions"
         }
        }
       }
      }
     },
     "metadata": {},
     "output_type": "display_data"
    }
   ],
   "source": [
    "# To make sure there are enough different colors for each country\n",
    "colors = pc.qualitative.Alphabet + pc.qualitative.Dark24 + pc.qualitative.Light24\n",
    "\n",
    "# Plot the scatter to answer sub question 1\n",
    "fig = px.scatter(\n",
    "    df_cleaned,\n",
    "    x='share_ev_diff',\n",
    "    y='emmission_norm',\n",
    "    color='geo',\n",
    "    labels={'share_ev_diff': 'Change in Share of EV', 'emmission_norm': 'Relative change in Total Emmissions', 'geo':'Countries'},\n",
    "    trendline='ols',\n",
    "    title=\"Scatter Plot of change in Share of Emission Vehicles vs Relative change in Emission\",\n",
    "    color_discrete_sequence=colors,\n",
    "    trendline_scope='overall'\n",
    ")\n",
    "\n",
    "fig.update_layout(\n",
    "    legend=dict(\n",
    "        orientation=\"h\",\n",
    "        yanchor=\"bottom\",\n",
    "        y=-0.5\n",
    "    )\n",
    ")\n",
    "\n",
    "fig.show()"
   ]
  },
  {
   "cell_type": "code",
   "execution_count": null,
   "metadata": {},
   "outputs": [],
   "source": []
  },
  {
   "cell_type": "code",
   "execution_count": null,
   "metadata": {},
   "outputs": [],
   "source": []
  }
 ],
 "metadata": {
  "kernelspec": {
   "display_name": "lewagon",
   "language": "python",
   "name": "python3"
  },
  "language_info": {
   "codemirror_mode": {
    "name": "ipython",
    "version": 3
   },
   "file_extension": ".py",
   "mimetype": "text/x-python",
   "name": "python",
   "nbconvert_exporter": "python",
   "pygments_lexer": "ipython3",
   "version": "3.10.6"
  }
 },
 "nbformat": 4,
 "nbformat_minor": 2
}
