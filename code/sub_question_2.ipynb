{
 "cells": [
  {
   "cell_type": "code",
   "execution_count": null,
   "id": "925aa255-5c94-4c83-8f1b-330a2834a900",
   "metadata": {},
   "outputs": [],
   "source": [
    "# Import necessary libraries \n",
    "import pandas as pd\n",
    "import plotly.express as px\n",
    "import plotly.colors as pc"
   ]
  },
  {
   "cell_type": "code",
   "execution_count": null,
   "id": "83f82de3-c777-4812-b9b1-35970cc624cc",
   "metadata": {},
   "outputs": [],
   "source": [
    "# Load merged dataset\n",
    "joined_df = pd.read_csv('../data/merged_dataset.csv')"
   ]
  },
  {
   "cell_type": "code",
   "execution_count": null,
   "id": "c7d4dab8-e72d-4fb2-b5e6-6a38555ca60e",
   "metadata": {},
   "outputs": [
    {
     "data": {
      "text/html": [
       "<div>\n",
       "<style scoped>\n",
       "    .dataframe tbody tr th:only-of-type {\n",
       "        vertical-align: middle;\n",
       "    }\n",
       "\n",
       "    .dataframe tbody tr th {\n",
       "        vertical-align: top;\n",
       "    }\n",
       "\n",
       "    .dataframe thead th {\n",
       "        text-align: right;\n",
       "    }\n",
       "</style>\n",
       "<table border=\"1\" class=\"dataframe\">\n",
       "  <thead>\n",
       "    <tr style=\"text-align: right;\">\n",
       "      <th></th>\n",
       "      <th>Unnamed: 0</th>\n",
       "      <th>geo</th>\n",
       "      <th>time_period</th>\n",
       "      <th>amount_passenger_cars</th>\n",
       "      <th>amount_zev</th>\n",
       "      <th>amount_ev</th>\n",
       "      <th>share_zev</th>\n",
       "      <th>emission_per_capita</th>\n",
       "      <th>zev_per_capita</th>\n",
       "      <th>ev_per_capita</th>\n",
       "      <th>total_emissions</th>\n",
       "      <th>zev_diff</th>\n",
       "      <th>ev_diff</th>\n",
       "      <th>emmission_diff</th>\n",
       "      <th>all_cars_diff</th>\n",
       "      <th>zev_norm</th>\n",
       "      <th>ev_norm</th>\n",
       "      <th>emmission_norm</th>\n",
       "      <th>all_cars_norm</th>\n",
       "    </tr>\n",
       "  </thead>\n",
       "  <tbody>\n",
       "    <tr>\n",
       "      <th>0</th>\n",
       "      <td>0</td>\n",
       "      <td>Austria</td>\n",
       "      <td>2014</td>\n",
       "      <td>4694921</td>\n",
       "      <td>3389</td>\n",
       "      <td>4691532</td>\n",
       "      <td>0.000722</td>\n",
       "      <td>8.4</td>\n",
       "      <td>0.000398</td>\n",
       "      <td>0.551440</td>\n",
       "      <td>71465402.4</td>\n",
       "      <td>NaN</td>\n",
       "      <td>NaN</td>\n",
       "      <td>NaN</td>\n",
       "      <td>NaN</td>\n",
       "      <td>NaN</td>\n",
       "      <td>NaN</td>\n",
       "      <td>NaN</td>\n",
       "      <td>NaN</td>\n",
       "    </tr>\n",
       "    <tr>\n",
       "      <th>1</th>\n",
       "      <td>1</td>\n",
       "      <td>Austria</td>\n",
       "      <td>2015</td>\n",
       "      <td>4748048</td>\n",
       "      <td>5038</td>\n",
       "      <td>4743010</td>\n",
       "      <td>0.001061</td>\n",
       "      <td>8.7</td>\n",
       "      <td>0.000587</td>\n",
       "      <td>0.552481</td>\n",
       "      <td>74688856.2</td>\n",
       "      <td>1649.0</td>\n",
       "      <td>51478.0</td>\n",
       "      <td>3223453.8</td>\n",
       "      <td>53127.0</td>\n",
       "      <td>0.486574</td>\n",
       "      <td>0.010973</td>\n",
       "      <td>0.045105</td>\n",
       "      <td>0.011316</td>\n",
       "    </tr>\n",
       "    <tr>\n",
       "      <th>2</th>\n",
       "      <td>2</td>\n",
       "      <td>Austria</td>\n",
       "      <td>2016</td>\n",
       "      <td>4821557</td>\n",
       "      <td>9086</td>\n",
       "      <td>4812471</td>\n",
       "      <td>0.001884</td>\n",
       "      <td>8.6</td>\n",
       "      <td>0.001044</td>\n",
       "      <td>0.553128</td>\n",
       "      <td>74824050.6</td>\n",
       "      <td>4048.0</td>\n",
       "      <td>69461.0</td>\n",
       "      <td>135194.4</td>\n",
       "      <td>73509.0</td>\n",
       "      <td>0.803493</td>\n",
       "      <td>0.014645</td>\n",
       "      <td>0.001810</td>\n",
       "      <td>0.015482</td>\n",
       "    </tr>\n",
       "    <tr>\n",
       "      <th>3</th>\n",
       "      <td>3</td>\n",
       "      <td>Austria</td>\n",
       "      <td>2017</td>\n",
       "      <td>4898578</td>\n",
       "      <td>14637</td>\n",
       "      <td>4883941</td>\n",
       "      <td>0.002988</td>\n",
       "      <td>9.3</td>\n",
       "      <td>0.001668</td>\n",
       "      <td>0.556710</td>\n",
       "      <td>81587644.5</td>\n",
       "      <td>5551.0</td>\n",
       "      <td>71470.0</td>\n",
       "      <td>6763593.9</td>\n",
       "      <td>77021.0</td>\n",
       "      <td>0.610940</td>\n",
       "      <td>0.014851</td>\n",
       "      <td>0.090393</td>\n",
       "      <td>0.015974</td>\n",
       "    </tr>\n",
       "    <tr>\n",
       "      <th>4</th>\n",
       "      <td>4</td>\n",
       "      <td>Austria</td>\n",
       "      <td>2018</td>\n",
       "      <td>4978852</td>\n",
       "      <td>20855</td>\n",
       "      <td>4957997</td>\n",
       "      <td>0.004189</td>\n",
       "      <td>9.8</td>\n",
       "      <td>0.002364</td>\n",
       "      <td>0.561987</td>\n",
       "      <td>86458216.6</td>\n",
       "      <td>6218.0</td>\n",
       "      <td>74056.0</td>\n",
       "      <td>4870572.1</td>\n",
       "      <td>80274.0</td>\n",
       "      <td>0.424814</td>\n",
       "      <td>0.015163</td>\n",
       "      <td>0.059697</td>\n",
       "      <td>0.016387</td>\n",
       "    </tr>\n",
       "    <tr>\n",
       "      <th>...</th>\n",
       "      <td>...</td>\n",
       "      <td>...</td>\n",
       "      <td>...</td>\n",
       "      <td>...</td>\n",
       "      <td>...</td>\n",
       "      <td>...</td>\n",
       "      <td>...</td>\n",
       "      <td>...</td>\n",
       "      <td>...</td>\n",
       "      <td>...</td>\n",
       "      <td>...</td>\n",
       "      <td>...</td>\n",
       "      <td>...</td>\n",
       "      <td>...</td>\n",
       "      <td>...</td>\n",
       "      <td>...</td>\n",
       "      <td>...</td>\n",
       "      <td>...</td>\n",
       "      <td>...</td>\n",
       "    </tr>\n",
       "    <tr>\n",
       "      <th>275</th>\n",
       "      <td>255</td>\n",
       "      <td>Sweden</td>\n",
       "      <td>2019</td>\n",
       "      <td>4887116</td>\n",
       "      <td>30382</td>\n",
       "      <td>4856734</td>\n",
       "      <td>0.006217</td>\n",
       "      <td>1.2</td>\n",
       "      <td>0.002970</td>\n",
       "      <td>0.474745</td>\n",
       "      <td>12276222.0</td>\n",
       "      <td>13677.0</td>\n",
       "      <td>3460.0</td>\n",
       "      <td>-3916165.2</td>\n",
       "      <td>17137.0</td>\n",
       "      <td>0.818737</td>\n",
       "      <td>0.000713</td>\n",
       "      <td>-0.241852</td>\n",
       "      <td>0.003519</td>\n",
       "    </tr>\n",
       "    <tr>\n",
       "      <th>276</th>\n",
       "      <td>256</td>\n",
       "      <td>Sweden</td>\n",
       "      <td>2020</td>\n",
       "      <td>4943293</td>\n",
       "      <td>55829</td>\n",
       "      <td>4887464</td>\n",
       "      <td>0.011294</td>\n",
       "      <td>0.4</td>\n",
       "      <td>0.005406</td>\n",
       "      <td>0.473243</td>\n",
       "      <td>4131035.6</td>\n",
       "      <td>25447.0</td>\n",
       "      <td>30730.0</td>\n",
       "      <td>-8145186.4</td>\n",
       "      <td>56177.0</td>\n",
       "      <td>0.837568</td>\n",
       "      <td>0.006327</td>\n",
       "      <td>-0.663493</td>\n",
       "      <td>0.011495</td>\n",
       "    </tr>\n",
       "    <tr>\n",
       "      <th>277</th>\n",
       "      <td>257</td>\n",
       "      <td>Sweden</td>\n",
       "      <td>2021</td>\n",
       "      <td>4985979</td>\n",
       "      <td>110221</td>\n",
       "      <td>4875758</td>\n",
       "      <td>0.022106</td>\n",
       "      <td>0.5</td>\n",
       "      <td>0.010619</td>\n",
       "      <td>0.469758</td>\n",
       "      <td>5189647.5</td>\n",
       "      <td>54392.0</td>\n",
       "      <td>-11706.0</td>\n",
       "      <td>1058611.9</td>\n",
       "      <td>42686.0</td>\n",
       "      <td>0.974261</td>\n",
       "      <td>-0.002395</td>\n",
       "      <td>0.256258</td>\n",
       "      <td>0.008635</td>\n",
       "    </tr>\n",
       "    <tr>\n",
       "      <th>278</th>\n",
       "      <td>258</td>\n",
       "      <td>Sweden</td>\n",
       "      <td>2022</td>\n",
       "      <td>4979761</td>\n",
       "      <td>197751</td>\n",
       "      <td>4782010</td>\n",
       "      <td>0.039711</td>\n",
       "      <td>0.6</td>\n",
       "      <td>0.018919</td>\n",
       "      <td>0.457507</td>\n",
       "      <td>6271395.6</td>\n",
       "      <td>87530.0</td>\n",
       "      <td>-93748.0</td>\n",
       "      <td>1081748.1</td>\n",
       "      <td>-6218.0</td>\n",
       "      <td>0.794132</td>\n",
       "      <td>-0.019227</td>\n",
       "      <td>0.208443</td>\n",
       "      <td>-0.001247</td>\n",
       "    </tr>\n",
       "    <tr>\n",
       "      <th>279</th>\n",
       "      <td>259</td>\n",
       "      <td>Sweden</td>\n",
       "      <td>2023</td>\n",
       "      <td>4976366</td>\n",
       "      <td>291716</td>\n",
       "      <td>4684650</td>\n",
       "      <td>0.058620</td>\n",
       "      <td>NaN</td>\n",
       "      <td>0.027726</td>\n",
       "      <td>0.445243</td>\n",
       "      <td>NaN</td>\n",
       "      <td>93965.0</td>\n",
       "      <td>-97360.0</td>\n",
       "      <td>NaN</td>\n",
       "      <td>-3395.0</td>\n",
       "      <td>0.475168</td>\n",
       "      <td>-0.020360</td>\n",
       "      <td>NaN</td>\n",
       "      <td>-0.000682</td>\n",
       "    </tr>\n",
       "  </tbody>\n",
       "</table>\n",
       "<p>270 rows × 19 columns</p>\n",
       "</div>"
      ],
      "text/plain": [
       "     Unnamed: 0      geo  time_period  amount_passenger_cars  amount_zev  \\\n",
       "0             0  Austria         2014                4694921        3389   \n",
       "1             1  Austria         2015                4748048        5038   \n",
       "2             2  Austria         2016                4821557        9086   \n",
       "3             3  Austria         2017                4898578       14637   \n",
       "4             4  Austria         2018                4978852       20855   \n",
       "..          ...      ...          ...                    ...         ...   \n",
       "275         255   Sweden         2019                4887116       30382   \n",
       "276         256   Sweden         2020                4943293       55829   \n",
       "277         257   Sweden         2021                4985979      110221   \n",
       "278         258   Sweden         2022                4979761      197751   \n",
       "279         259   Sweden         2023                4976366      291716   \n",
       "\n",
       "     amount_ev  share_zev  emission_per_capita  zev_per_capita  ev_per_capita  \\\n",
       "0      4691532   0.000722                  8.4        0.000398       0.551440   \n",
       "1      4743010   0.001061                  8.7        0.000587       0.552481   \n",
       "2      4812471   0.001884                  8.6        0.001044       0.553128   \n",
       "3      4883941   0.002988                  9.3        0.001668       0.556710   \n",
       "4      4957997   0.004189                  9.8        0.002364       0.561987   \n",
       "..         ...        ...                  ...             ...            ...   \n",
       "275    4856734   0.006217                  1.2        0.002970       0.474745   \n",
       "276    4887464   0.011294                  0.4        0.005406       0.473243   \n",
       "277    4875758   0.022106                  0.5        0.010619       0.469758   \n",
       "278    4782010   0.039711                  0.6        0.018919       0.457507   \n",
       "279    4684650   0.058620                  NaN        0.027726       0.445243   \n",
       "\n",
       "     total_emissions  zev_diff  ev_diff  emmission_diff  all_cars_diff  \\\n",
       "0         71465402.4       NaN      NaN             NaN            NaN   \n",
       "1         74688856.2    1649.0  51478.0       3223453.8        53127.0   \n",
       "2         74824050.6    4048.0  69461.0        135194.4        73509.0   \n",
       "3         81587644.5    5551.0  71470.0       6763593.9        77021.0   \n",
       "4         86458216.6    6218.0  74056.0       4870572.1        80274.0   \n",
       "..               ...       ...      ...             ...            ...   \n",
       "275       12276222.0   13677.0   3460.0      -3916165.2        17137.0   \n",
       "276        4131035.6   25447.0  30730.0      -8145186.4        56177.0   \n",
       "277        5189647.5   54392.0 -11706.0       1058611.9        42686.0   \n",
       "278        6271395.6   87530.0 -93748.0       1081748.1        -6218.0   \n",
       "279              NaN   93965.0 -97360.0             NaN        -3395.0   \n",
       "\n",
       "     zev_norm   ev_norm  emmission_norm  all_cars_norm  \n",
       "0         NaN       NaN             NaN            NaN  \n",
       "1    0.486574  0.010973        0.045105       0.011316  \n",
       "2    0.803493  0.014645        0.001810       0.015482  \n",
       "3    0.610940  0.014851        0.090393       0.015974  \n",
       "4    0.424814  0.015163        0.059697       0.016387  \n",
       "..        ...       ...             ...            ...  \n",
       "275  0.818737  0.000713       -0.241852       0.003519  \n",
       "276  0.837568  0.006327       -0.663493       0.011495  \n",
       "277  0.974261 -0.002395        0.256258       0.008635  \n",
       "278  0.794132 -0.019227        0.208443      -0.001247  \n",
       "279  0.475168 -0.020360             NaN      -0.000682  \n",
       "\n",
       "[270 rows x 19 columns]"
      ]
     },
     "execution_count": 7,
     "metadata": {},
     "output_type": "execute_result"
    }
   ],
   "source": [
    "# Exclude European Union data points\n",
    "point_to_exclude = joined_df[joined_df['geo'] == 'European Union'].index\n",
    "joined_df = joined_df.drop(index=point_to_exclude)"
   ]
  },
  {
   "cell_type": "code",
   "execution_count": null,
   "id": "34c8783a",
   "metadata": {},
   "outputs": [],
   "source": [
    "# Use only the relevant colomns and drop rows containing NaNs\n",
    "df_cleaned = joined_df[['ev_norm', 'zev_norm', 'geo']].dropna()"
   ]
  },
  {
   "cell_type": "code",
   "execution_count": null,
   "id": "088abcd9-93ce-4aaf-948b-455f1812d5af",
   "metadata": {},
   "outputs": [
    {
     "data": {
      "application/vnd.plotly.v1+json": {
       "config": {
        "plotlyServerURL": "https://plot.ly"
       },
       "data": [
        {
         "hovertemplate": "geo=Austria<br>ZEV percent difference=%{x}<br>EV percent difference=%{y}<extra></extra>",
         "legendgroup": "Austria",
         "marker": {
          "color": "#AA0DFE",
          "symbol": "circle"
         },
         "mode": "markers",
         "name": "Austria",
         "orientation": "v",
         "showlegend": true,
         "type": "scatter",
         "x": [
          null,
          0.486574210681617,
          0.8034934497816594,
          0.610939907550077,
          0.4248138279702125,
          0.4175976983936705,
          0.5069679339737518,
          0.7192045250493805,
          0.439890853069431,
          0.410474489287042
         ],
         "xaxis": "x",
         "y": [
          null,
          0.0109725351974578,
          0.0146449195763871,
          0.0148509985826408,
          0.0151631643379803,
          0.0104854843599138,
          0.00744333714439,
          0.0019747289378922,
          -0.0032901332386308,
          -0.0022128304887331
         ],
         "yaxis": "y"
        },
        {
         "hovertemplate": "geo=Belgium<br>ZEV percent difference=%{x}<br>EV percent difference=%{y}<extra></extra>",
         "legendgroup": "Belgium",
         "marker": {
          "color": "#3283FE",
          "symbol": "circle"
         },
         "mode": "markers",
         "name": "Belgium",
         "orientation": "v",
         "showlegend": true,
         "type": "scatter",
         "x": [
          null,
          0.4816964285714286,
          0.5703525158180175,
          0.4508825786646201,
          0.441549854535837,
          0.7184661957618567,
          0.6971654299898574,
          0.6480357311357846,
          0.71461561951294,
          1.0200135798483954
         ],
         "xaxis": "x",
         "y": [
          null,
          0.0136660426873505,
          0.0119001756574785,
          0.0114034383033419,
          0.0079682258640734,
          0.0043883331357609,
          0.0004356026914583,
          0.0013498826652255,
          -0.0014173558932125,
          0.0001341792593986
         ],
         "yaxis": "y"
        },
        {
         "hovertemplate": "geo=Bulgaria<br>ZEV percent difference=%{x}<br>EV percent difference=%{y}<extra></extra>",
         "legendgroup": "Bulgaria",
         "marker": {
          "color": "#85660D",
          "symbol": "circle"
         },
         "mode": "markers",
         "name": "Bulgaria",
         "orientation": "v",
         "showlegend": true,
         "type": "scatter",
         "x": [
          null,
          0.2448979591836734,
          0.174863387978142,
          0.786046511627907,
          0.8489583333333334,
          0.6690140845070423,
          0.6312236286919831,
          0.7428867046042421,
          0.8679133273968537,
          0.8231368186874305
         ],
         "xaxis": "x",
         "y": [
          null,
          0.0491545985089504,
          -0.005851313817779,
          -0.1187019084398093,
          0.0008605780528771,
          0.0202501970161742,
          0.0127508121046634,
          -0.0131718112418537,
          0.0224219561068871,
          0.0360693918388754
         ],
         "yaxis": "y"
        },
        {
         "hovertemplate": "geo=Croatia<br>ZEV percent difference=%{x}<br>EV percent difference=%{y}<extra></extra>",
         "legendgroup": "Croatia",
         "marker": {
          "color": "#782AB6",
          "symbol": "circle"
         },
         "mode": "markers",
         "name": "Croatia",
         "orientation": "v",
         "showlegend": true,
         "type": "scatter",
         "x": [
          null,
          3.1794871794871797,
          0.4355828220858895,
          0.2222222222222222,
          0.6153846153846154,
          0.5714285714285714,
          0.8099173553719008,
          1.265601217656012,
          0.6130332549546523,
          0.4700124947938359
         ],
         "xaxis": "x",
         "y": [
          null,
          0.0170795194973603,
          0.0353625105775456,
          0.027778600732931,
          0.0439591152029607,
          0.0349488070177334,
          0.0120620076627996,
          0.0272308250394992,
          0.0242551135628244,
          0.036551350379773
         ],
         "yaxis": "y"
        },
        {
         "hovertemplate": "geo=Cyprus<br>ZEV percent difference=%{x}<br>EV percent difference=%{y}<extra></extra>",
         "legendgroup": "Cyprus",
         "marker": {
          "color": "#565656",
          "symbol": "circle"
         },
         "mode": "markers",
         "name": "Cyprus",
         "orientation": "v",
         "showlegend": true,
         "type": "scatter",
         "x": [
          null,
          0.5333333333333333,
          0.7391304347826086,
          1.175,
          0.3103448275862069,
          0.4649122807017544,
          0.437125748502994,
          0.3875,
          1.4924924924924925,
          0.5096385542168674
         ],
         "xaxis": "x",
         "y": [
          null,
          0.0192109547585359,
          0.0421905021643778,
          0.0359787818449406,
          0.0456783089282661,
          0.0395091730372097,
          0.0097565407611639,
          0.0240605068539135,
          0.0143252289958315,
          0.0325869855289263
         ],
         "yaxis": "y"
        },
        {
         "hovertemplate": "geo=Czech Republic<br>ZEV percent difference=%{x}<br>EV percent difference=%{y}<extra></extra>",
         "legendgroup": "Czech Republic",
         "marker": {
          "color": "#1C8356",
          "symbol": "circle"
         },
         "mode": "markers",
         "name": "Czech Republic",
         "orientation": "v",
         "showlegend": true,
         "type": "scatter",
         "x": [
          null,
          0.709832134292566,
          0.3660589060308555,
          0.5657084188911704,
          1.2327868852459016,
          0.4537444933920704,
          0.6383838383838384,
          0.1167694204685573,
          0.5686209561665011,
          0.5815443091433801
         ],
         "xaxis": "x",
         "y": [
          null,
          0.0582734960642205,
          0.0375847353157224,
          0.0433145261374295,
          0.0375333885889005,
          0.0305573601777558,
          0.0204559255884034,
          0.0063775989485436,
          0.0348791785347665,
          0.0315617635666646
         ],
         "yaxis": "y"
        },
        {
         "hovertemplate": "geo=Denmark<br>ZEV percent difference=%{x}<br>EV percent difference=%{y}<extra></extra>",
         "legendgroup": "Denmark",
         "marker": {
          "color": "#16FF32",
          "symbol": "circle"
         },
         "mode": "markers",
         "name": "Denmark",
         "orientation": "v",
         "showlegend": true,
         "type": "scatter",
         "x": [
          null,
          1.7068847989093388,
          0.0993452530848652,
          0.0135150612759134,
          0.1437450559385241,
          0.5394723841517637,
          1.053719273474103,
          1.0870339698115563,
          0.6893670544899151,
          0.7740668847111797
         ],
         "xaxis": "x",
         "y": [
          null,
          0.0287565412194503,
          0.0310221114692676,
          0.0262129279392771,
          0.0250507396667384,
          0.0200432524713072,
          0.0210355213644088,
          0.0108325379614379,
          -0.0119506610261065,
          -0.0225213009926513
         ],
         "yaxis": "y"
        },
        {
         "hovertemplate": "geo=Estonia<br>ZEV percent difference=%{x}<br>EV percent difference=%{y}<extra></extra>",
         "legendgroup": "Estonia",
         "marker": {
          "color": "#F7E1A0",
          "symbol": "circle"
         },
         "mode": "markers",
         "name": "Estonia",
         "orientation": "v",
         "showlegend": true,
         "type": "scatter",
         "x": [
          null,
          0.0459231490159325,
          0.03584229390681,
          0.0302768166089965,
          0.052896725440806,
          0.1020733652312599,
          0.2829232995658466,
          0.3857868020304568,
          0.4094424094424094,
          0.6745596303782847
         ],
         "xaxis": "x",
         "y": [
          null,
          0.0361982134830943,
          0.0392535678332445,
          0.0324190343236062,
          0.0282261680876105,
          0.0648595697856979,
          0.0168509874688738,
          0.02052630013533,
          0.0271433758480787,
          0.0167208343037793
         ],
         "yaxis": "y"
        },
        {
         "hovertemplate": "geo=Finland<br>ZEV percent difference=%{x}<br>EV percent difference=%{y}<extra></extra>",
         "legendgroup": "Finland",
         "marker": {
          "color": "#E2E2E2",
          "symbol": "circle"
         },
         "mode": "markers",
         "name": "Finland",
         "orientation": "v",
         "showlegend": true,
         "type": "scatter",
         "x": [
          null,
          0.7020725388601037,
          0.3546423135464231,
          0.7292134831460674,
          0.6250812215724496,
          0.9316273490603758,
          1.0616849513558269,
          1.3593373493975904,
          0.9824673390357036,
          0.8463272227707895
         ],
         "xaxis": "x",
         "y": [
          null,
          0.0194978547442289,
          0.0270790052448779,
          0.0227636852749518,
          0.020782963903552,
          0.0221931565285642,
          0.0148376348247602,
          0.0056877265243688,
          0.0025237470194439,
          0.001406332881557
         ],
         "yaxis": "y"
        },
        {
         "hovertemplate": "geo=France<br>ZEV percent difference=%{x}<br>EV percent difference=%{y}<extra></extra>",
         "legendgroup": "France",
         "marker": {
          "color": "#1CBE4F",
          "symbol": "circle"
         },
         "mode": "markers",
         "name": "France",
         "orientation": "v",
         "showlegend": true,
         "type": "scatter",
         "x": [
          null,
          0.6148364980934407,
          0.4638887563802891,
          0.3453849287169043,
          0.2911242173591852,
          0.3276366637901924,
          0.7340718655946645,
          0.6448028878277734,
          0.4771950944620727,
          0.5371675213044601
         ],
         "xaxis": "x",
         "y": [
          null,
          0.0140968851441977,
          0.0127611547955708,
          0.011246088060861,
          0.0023032152677961,
          0.0041178360615814,
          -0.0015015017368485,
          0.0049383082328675,
          -0.0039263280951745,
          0.0087480604487103
         ],
         "yaxis": "y"
        },
        {
         "hovertemplate": "geo=Germany<br>ZEV percent difference=%{x}<br>EV percent difference=%{y}<extra></extra>",
         "legendgroup": "Germany",
         "marker": {
          "color": "#C4451C",
          "symbol": "circle"
         },
         "mode": "markers",
         "name": "Germany",
         "orientation": "v",
         "showlegend": true,
         "type": "scatter",
         "x": [
          null,
          0.3727511835875854,
          0.3092811158798283,
          0.5875845113706207,
          0.5413233043895065,
          0.6409468219984211,
          1.259291654822039,
          0.9994676715307508,
          0.637878316038809,
          0.3899269023131181
         ],
         "xaxis": "x",
         "y": [
          null,
          0.0148908198654514,
          0.0160837061613007,
          0.0142225613522993,
          0.0127493004092106,
          0.0120523239744391,
          0.0075630558359793,
          -0.0003650501031266,
          -0.0036136255148434,
          -0.0012599073350909
         ],
         "yaxis": "y"
        },
        {
         "hovertemplate": "geo=Greece<br>ZEV percent difference=%{x}<br>EV percent difference=%{y}<extra></extra>",
         "legendgroup": "Greece",
         "marker": {
          "color": "#DEA0FD",
          "symbol": "circle"
         },
         "mode": "markers",
         "name": "Greece",
         "orientation": "v",
         "showlegend": true,
         "type": "scatter",
         "x": [
          null,
          0.8666666666666667,
          0.3571428571428571,
          0.2982456140350877,
          0.4527027027027027,
          0.9813953488372092,
          1.591549295774648,
          1.9710144927536235,
          0.922560975609756,
          0.9529019980970505
         ],
         "xaxis": "x",
         "y": [
          null,
          -0.0006441226353146,
          0.0102605248401577,
          0.0146974520256235,
          0.0089193969188926,
          0.0234066196180581,
          0.0157131031931374,
          0.0200033800321685,
          0.0212097601247796,
          0.0254799809640565
         ],
         "yaxis": "y"
        },
        {
         "hovertemplate": "geo=Hungary<br>ZEV percent difference=%{x}<br>EV percent difference=%{y}<extra></extra>",
         "legendgroup": "Hungary",
         "marker": {
          "color": "#FE00FA",
          "symbol": "circle"
         },
         "mode": "markers",
         "name": "Hungary",
         "orientation": "v",
         "showlegend": true,
         "type": "scatter",
         "x": [
          null,
          0.9542857142857144,
          1.216374269005848,
          1.633245382585752,
          0.9233466933867736,
          0.7178952852305288,
          0.6697498104624716,
          0.7094079186342173,
          0.5851572460688482,
          0.3812460203089916
         ],
         "xaxis": "x",
         "y": [
          null,
          0.0286382710328493,
          0.0362688854170512,
          0.0475639164750661,
          0.0484100725043018,
          0.0460238417761045,
          0.0274264220119839,
          0.0234150862949823,
          0.0157334989447271,
          0.0155367850227222
         ],
         "yaxis": "y"
        },
        {
         "hovertemplate": "geo=Ireland<br>ZEV percent difference=%{x}<br>EV percent difference=%{y}<extra></extra>",
         "legendgroup": "Ireland",
         "marker": {
          "color": "#325A9B",
          "symbol": "circle"
         },
         "mode": "markers",
         "name": "Ireland",
         "orientation": "v",
         "showlegend": true,
         "type": "scatter",
         "x": [
          null,
          1,
          0.51875,
          0.6284538506760728,
          0.6642599277978339,
          0.8633405639913232,
          0.4807916181606519,
          0.6855345911949685,
          0.7243470149253731,
          0.5859615904787666
         ],
         "xaxis": "x",
         "y": [
          null,
          0.0204683434518647,
          0.0203827007600592,
          0.0183725135279595,
          0.0180826501902206,
          0.030441029972777,
          0.0154146358849159,
          0.0039925939575819,
          0.0043000978884072,
          0.0270451143523514
         ],
         "yaxis": "y"
        },
        {
         "hovertemplate": "geo=Italy<br>ZEV percent difference=%{x}<br>EV percent difference=%{y}<extra></extra>",
         "legendgroup": "Italy",
         "marker": {
          "color": "#FEAF16",
          "symbol": "circle"
         },
         "mode": "markers",
         "name": "Italy",
         "orientation": "v",
         "showlegend": true,
         "type": "scatter",
         "x": [
          null,
          0.3357558139534883,
          0.2522306855277476,
          0.3157803267292318,
          0.6070532294280808,
          0.8703049231527903,
          1.334065740903498,
          1.2231238468200474,
          0.3396708982969029,
          0.3882177422923502
         ],
         "xaxis": "x",
         "y": [
          null,
          0.0072638758908985,
          0.0140239129423108,
          0.0169622256800987,
          0.0128075247807544,
          0.0132408593620833,
          0.0036000780922733,
          0.0010055273245066,
          0.008820882514398,
          0.015996979543613
         ],
         "yaxis": "y"
        },
        {
         "hovertemplate": "geo=Latvia<br>ZEV percent difference=%{x}<br>EV percent difference=%{y}<extra></extra>",
         "legendgroup": "Latvia",
         "marker": {
          "color": "#F8A19F",
          "symbol": "circle"
         },
         "mode": "markers",
         "name": "Latvia",
         "orientation": "v",
         "showlegend": true,
         "type": "scatter",
         "x": [
          null,
          0.1223404255319148,
          0.1421800947867298,
          0.2946058091286307,
          0.4166666666666667,
          0.4886877828054298,
          0.831306990881459,
          0.7477178423236515,
          0.8195631528964862,
          0.6620563674321504
         ],
         "xaxis": "x",
         "y": [
          null,
          0.0322774406145882,
          -0.0219507775798903,
          0.0380880084827453,
          0.0263702366719673,
          0.0270102162994293,
          0.0157094366736131,
          0.025291393770861,
          0.0123040199211717,
          0.0123124569945331
         ],
         "yaxis": "y"
        },
        {
         "hovertemplate": "geo=Lithuania<br>ZEV percent difference=%{x}<br>EV percent difference=%{y}<extra></extra>",
         "legendgroup": "Lithuania",
         "marker": {
          "color": "#90AD1C",
          "symbol": "circle"
         },
         "mode": "markers",
         "name": "Lithuania",
         "orientation": "v",
         "showlegend": true,
         "type": "scatter",
         "x": [
          null,
          1.4142857142857144,
          1.118343195266272,
          0.729050279329609,
          0.5589660743134087,
          0.4455958549222797,
          0.7741935483870968,
          0.951919191919192,
          0.5123162906230594,
          0.5637831918970709
         ],
         "xaxis": "x",
         "y": [
          null,
          0.0317651489136511,
          0.0438019638329311,
          0.0446626139208967,
          0.0539580703761811,
          0.0473839761324328,
          0.043877183690834,
          0.0277173878271773,
          0.022888455044848,
          0.0280090172225542
         ],
         "yaxis": "y"
        },
        {
         "hovertemplate": "geo=Luxembourg<br>ZEV percent difference=%{x}<br>EV percent difference=%{y}<extra></extra>",
         "legendgroup": "Luxembourg",
         "marker": {
          "color": "#F6222E",
          "symbol": "circle"
         },
         "mode": "markers",
         "name": "Luxembourg",
         "orientation": "v",
         "showlegend": true,
         "type": "scatter",
         "x": [
          null,
          0.1068702290076335,
          0.1810344827586207,
          0.4160583941605839,
          0.379381443298969,
          0.6420029895366218,
          0.836140191169777,
          0.9737233515121468,
          0.7474252700326551,
          0.6726083519010997
         ],
         "xaxis": "x",
         "y": [
          null,
          0.0220787906624442,
          0.0255621867797741,
          0.0309083920563741,
          0.028572351806558,
          0.0249923273410067,
          0.0117883102400335,
          0.0065431819717627,
          -0.0024354276004324,
          -0.00130423179123
         ],
         "yaxis": "y"
        },
        {
         "hovertemplate": "geo=Malta<br>ZEV percent difference=%{x}<br>EV percent difference=%{y}<extra></extra>",
         "legendgroup": "Malta",
         "marker": {
          "color": "#1CFFCE",
          "symbol": "circle"
         },
         "mode": "markers",
         "name": "Malta",
         "orientation": "v",
         "showlegend": true,
         "type": "scatter",
         "x": [
          null,
          0.5632183908045977,
          0.0294117647058823,
          0.35,
          2.1904761904761907,
          0.6301824212271974,
          0.3153611393692777,
          0.3789636504253673,
          0.5720695457094784,
          0.5569033178737067
         ],
         "xaxis": "x",
         "y": [
          null,
          0.0352850904413175,
          0.0273829765589803,
          0.0312185047793168,
          0.0271870895617076,
          0.0220673906729385,
          0.0029985595155268,
          0.0140979922817644,
          0.0097529175257069,
          0.0160830198040269
         ],
         "yaxis": "y"
        },
        {
         "hovertemplate": "geo=Netherlands<br>ZEV percent difference=%{x}<br>EV percent difference=%{y}<extra></extra>",
         "legendgroup": "Netherlands",
         "marker": {
          "color": "#2ED9FF",
          "symbol": "circle"
         },
         "mode": "markers",
         "name": "Netherlands",
         "orientation": "v",
         "showlegend": true,
         "type": "scatter",
         "x": [
          null,
          0.4627106227106227,
          0.3748372232795753,
          0.5929326047358834,
          1.039747518638796,
          1.3825316739544793,
          0.6359212792590989,
          0.4102120070189569,
          0.3468684214820738,
          0.3419317317857024
         ],
         "xaxis": "x",
         "y": [
          null,
          0.0148794732935135,
          0.0146298036023518,
          0.0173136422101461,
          0.0056285301796193,
          0.0094964664047989,
          0.0040648057086092,
          0.0082218085088887,
          0.0005097527052721,
          -0.0113131899408499
         ],
         "yaxis": "y"
        },
        {
         "hovertemplate": "geo=Poland<br>ZEV percent difference=%{x}<br>EV percent difference=%{y}<extra></extra>",
         "legendgroup": "Poland",
         "marker": {
          "color": "#B10DA1",
          "symbol": "circle"
         },
         "mode": "markers",
         "name": "Poland",
         "orientation": "v",
         "showlegend": true,
         "type": "scatter",
         "x": [
          null,
          0.4313725490196078,
          0.589041095890411,
          1.5747126436781609,
          2.369419642857143,
          0.7214309373964889,
          0.8805079853761786,
          0.8614550291619769,
          0.6999230430958663,
          0.6630234438156831
         ],
         "xaxis": "x",
         "y": [
          null,
          -0.0995892261985401,
          0.0392250397467048,
          0.0292317152525421,
          0.0333693031603426,
          0.0316986241973613,
          0.0212737656534616,
          0.0172445372569876,
          0.004187917085231,
          0.0239973760424612
         ],
         "yaxis": "y"
        },
        {
         "hovertemplate": "geo=Portugal<br>ZEV percent difference=%{x}<br>EV percent difference=%{y}<extra></extra>",
         "legendgroup": "Portugal",
         "marker": {
          "color": "#C075A6",
          "symbol": "circle"
         },
         "mode": "markers",
         "name": "Portugal",
         "orientation": "v",
         "showlegend": true,
         "type": "scatter",
         "x": [
          null,
          1.0803571428571428,
          0.7045779685264664,
          0.9584557280738564,
          1.138418684379687,
          0.8175350701402806,
          0.4856938089200066,
          0.6070726186500427,
          0.5550347502828511,
          0.6482248652501225
         ],
         "xaxis": "x",
         "y": [
          null,
          0.0048078590789944,
          0.0267455811791217,
          0.0426909188121899,
          0.0431638807036077,
          0.0305310649176273,
          0.019329110523042,
          0.0090848298993286,
          0.0218097501760048,
          0.0191695774488083
         ],
         "yaxis": "y"
        },
        {
         "hovertemplate": "geo=Romania<br>ZEV percent difference=%{x}<br>EV percent difference=%{y}<extra></extra>",
         "legendgroup": "Romania",
         "marker": {
          "color": "#FC1CBF",
          "symbol": "circle"
         },
         "mode": "markers",
         "name": "Romania",
         "orientation": "v",
         "showlegend": true,
         "type": "scatter",
         "x": [
          null,
          0.4113993423456339,
          0.6432824229873155,
          0.5669502205419029,
          -0.8891122951643712,
          1.5367180417044424,
          1.0739814152966405,
          1.1425124935378252,
          0.9859245556181132,
          0.5904985622291523
         ],
         "xaxis": "x",
         "y": [
          null,
          0.0502299061720219,
          0.0611273576078254,
          0.0955296076252155,
          0.0773491808203636,
          0.0695586546430847,
          0.0534389942531983,
          0.0453548495822972,
          0.0318333389045306,
          0.0289272552306965
         ],
         "yaxis": "y"
        },
        {
         "hovertemplate": "geo=Slovakia<br>ZEV percent difference=%{x}<br>EV percent difference=%{y}<extra></extra>",
         "legendgroup": "Slovakia",
         "marker": {
          "color": "#B00068",
          "symbol": "circle"
         },
         "mode": "markers",
         "name": "Slovakia",
         "orientation": "v",
         "showlegend": true,
         "type": "scatter",
         "x": [
          null,
          0.2123893805309734,
          0.4452554744525547,
          1.0101010101010102,
          0.9974874371859296,
          0.2025157232704402,
          0.948744769874477,
          0.6108427267847558,
          0.509830056647784,
          0.7433237695872875
         ],
         "xaxis": "x",
         "y": [
          null,
          0.0438432888469753,
          0.0428319972552603,
          0.047673521947835,
          0.0441324341943358,
          0.0309408814928216,
          0.0190176379794376,
          0.0213520810886079,
          0.0244070513721487,
          0.0335175776962398
         ],
         "yaxis": "y"
        },
        {
         "hovertemplate": "geo=Slovenia<br>ZEV percent difference=%{x}<br>EV percent difference=%{y}<extra></extra>",
         "legendgroup": "Slovenia",
         "marker": {
          "color": "#FBE426",
          "symbol": "circle"
         },
         "mode": "markers",
         "name": "Slovenia",
         "orientation": "v",
         "showlegend": true,
         "type": "scatter",
         "x": [
          null,
          1.1654135338345866,
          0.5868055555555556,
          0.7045951859956237,
          0.6790757381258024,
          0.5275229357798165,
          0.8368368368368369,
          0.4749318801089918,
          0.4736744873452799,
          0.5974677196941206
         ],
         "xaxis": "x",
         "y": [
          null,
          0.0095672369875747,
          0.016335496625246,
          0.0192415420239292,
          0.0220971824883901,
          0.0188563741743603,
          0.003134850129752,
          0.0145875820465801,
          0.013288357527254,
          0.0150394489647251
         ],
         "yaxis": "y"
        },
        {
         "hovertemplate": "geo=Spain<br>ZEV percent difference=%{x}<br>EV percent difference=%{y}<extra></extra>",
         "legendgroup": "Spain",
         "marker": {
          "color": "#FA0087",
          "symbol": "circle"
         },
         "mode": "markers",
         "name": "Spain",
         "orientation": "v",
         "showlegend": true,
         "type": "scatter",
         "x": [
          null,
          0.8507410021171489,
          0.0974261201143946,
          1.6626129256428075,
          0.035234242463787,
          0.6512668599520989,
          0.6493759303790221,
          0.5297371100620198,
          0.447816286704083,
          0.5706075962593385
         ],
         "xaxis": "x",
         "y": [
          null,
          0.0146924561207096,
          0.073774119582445,
          0.0275864865038294,
          0.0254282926914718,
          0.0206444286303829,
          0.007002917081406,
          0.0091047966931801,
          0.0107517300645243,
          0.0044532256085331
         ],
         "yaxis": "y"
        },
        {
         "hovertemplate": "geo=Sweden<br>ZEV percent difference=%{x}<br>EV percent difference=%{y}<extra></extra>",
         "legendgroup": "Sweden",
         "marker": {
          "color": "#2E91E5",
          "symbol": "circle"
         },
         "mode": "markers",
         "name": "Sweden",
         "orientation": "v",
         "showlegend": true,
         "type": "scatter",
         "x": [
          null,
          1.1926436781609195,
          0.5841895575592367,
          0.4649900727994705,
          0.5093061076978678,
          0.818736905118228,
          0.8375682970179712,
          0.974260688889287,
          0.79413178976783,
          0.4751682671642621
         ],
         "xaxis": "x",
         "y": [
          null,
          0.017666418768996,
          0.0206313164831597,
          0.0155572601422734,
          0.0040380615070478,
          0.0007129208035647,
          0.0063272973154387,
          -0.0023951071557764,
          -0.0192273693649274,
          -0.0203596395657892
         ],
         "yaxis": "y"
        },
        {
         "hovertemplate": "<b>OLS trendline</b><br>ev_norm = -0.000878332 * zev_norm + 0.0199099<br>R<sup>2</sup>=0.000308<br><br>ZEV percent difference=%{x}<br>EV percent difference=%{y} <b>(trend)</b><extra></extra>",
         "legendgroup": "Overall Trendline",
         "line": {
          "color": "#E15F99"
         },
         "mode": "lines",
         "name": "Overall Trendline",
         "showlegend": true,
         "type": "scatter",
         "x": [
          -0.8891122951643712,
          0.0135150612759134,
          0.0294117647058823,
          0.0302768166089965,
          0.035234242463787,
          0.03584229390681,
          0.0459231490159325,
          0.052896725440806,
          0.0974261201143946,
          0.0993452530848652,
          0.1020733652312599,
          0.1068702290076335,
          0.1167694204685573,
          0.1223404255319148,
          0.1421800947867298,
          0.1437450559385241,
          0.174863387978142,
          0.1810344827586207,
          0.2025157232704402,
          0.2123893805309734,
          0.2222222222222222,
          0.2448979591836734,
          0.2522306855277476,
          0.2829232995658466,
          0.2911242173591852,
          0.2946058091286307,
          0.2982456140350877,
          0.3092811158798283,
          0.3103448275862069,
          0.3153611393692777,
          0.3157803267292318,
          0.3276366637901924,
          0.3357558139534883,
          0.3396708982969029,
          0.3419317317857024,
          0.3453849287169043,
          0.3468684214820738,
          0.35,
          0.3546423135464231,
          0.3571428571428571,
          0.3660589060308555,
          0.3727511835875854,
          0.3748372232795753,
          0.3789636504253673,
          0.379381443298969,
          0.3812460203089916,
          0.3857868020304568,
          0.3875,
          0.3882177422923502,
          0.3899269023131181,
          0.4094424094424094,
          0.4102120070189569,
          0.410474489287042,
          0.4113993423456339,
          0.4160583941605839,
          0.4166666666666667,
          0.4175976983936705,
          0.4248138279702125,
          0.4313725490196078,
          0.4355828220858895,
          0.437125748502994,
          0.439890853069431,
          0.441549854535837,
          0.4452554744525547,
          0.4455958549222797,
          0.447816286704083,
          0.4508825786646201,
          0.4527027027027027,
          0.4537444933920704,
          0.4627106227106227,
          0.4638887563802891,
          0.4649122807017544,
          0.4649900727994705,
          0.4700124947938359,
          0.4736744873452799,
          0.4749318801089918,
          0.4751682671642621,
          0.4771950944620727,
          0.4807916181606519,
          0.4816964285714286,
          0.4856938089200066,
          0.486574210681617,
          0.4886877828054298,
          0.5069679339737518,
          0.5093061076978678,
          0.5096385542168674,
          0.509830056647784,
          0.5123162906230594,
          0.51875,
          0.5275229357798165,
          0.5297371100620198,
          0.5333333333333333,
          0.5371675213044601,
          0.5394723841517637,
          0.5413233043895065,
          0.5550347502828511,
          0.5569033178737067,
          0.5589660743134087,
          0.5632183908045977,
          0.5637831918970709,
          0.5657084188911704,
          0.5669502205419029,
          0.5686209561665011,
          0.5703525158180175,
          0.5706075962593385,
          0.5714285714285714,
          0.5720695457094784,
          0.5815443091433801,
          0.5841895575592367,
          0.5851572460688482,
          0.5859615904787666,
          0.5868055555555556,
          0.5875845113706207,
          0.589041095890411,
          0.5904985622291523,
          0.5929326047358834,
          0.5974677196941206,
          0.6070532294280808,
          0.6070726186500427,
          0.6108427267847558,
          0.610939907550077,
          0.6130332549546523,
          0.6148364980934407,
          0.6153846153846154,
          0.6250812215724496,
          0.6284538506760728,
          0.6301824212271974,
          0.6312236286919831,
          0.6359212792590989,
          0.637878316038809,
          0.6383838383838384,
          0.6409468219984211,
          0.6420029895366218,
          0.6432824229873155,
          0.6448028878277734,
          0.6480357311357846,
          0.6482248652501225,
          0.6493759303790221,
          0.6512668599520989,
          0.6620563674321504,
          0.6630234438156831,
          0.6642599277978339,
          0.6690140845070423,
          0.6697498104624716,
          0.6726083519010997,
          0.6745596303782847,
          0.6790757381258024,
          0.6855345911949685,
          0.6893670544899151,
          0.6971654299898574,
          0.6999230430958663,
          0.7020725388601037,
          0.7045779685264664,
          0.7045951859956237,
          0.7094079186342173,
          0.709832134292566,
          0.71461561951294,
          0.7178952852305288,
          0.7184661957618567,
          0.7192045250493805,
          0.7214309373964889,
          0.7243470149253731,
          0.729050279329609,
          0.7292134831460674,
          0.7340718655946645,
          0.7391304347826086,
          0.7428867046042421,
          0.7433237695872875,
          0.7474252700326551,
          0.7477178423236515,
          0.7740668847111797,
          0.7741935483870968,
          0.786046511627907,
          0.79413178976783,
          0.8034934497816594,
          0.8099173553719008,
          0.8175350701402806,
          0.818736905118228,
          0.8195631528964862,
          0.8231368186874305,
          0.831306990881459,
          0.836140191169777,
          0.8368368368368369,
          0.8375682970179712,
          0.8463272227707895,
          0.8489583333333334,
          0.8507410021171489,
          0.8614550291619769,
          0.8633405639913232,
          0.8666666666666667,
          0.8679133273968537,
          0.8703049231527903,
          0.8805079853761786,
          0.922560975609756,
          0.9233466933867736,
          0.9316273490603758,
          0.948744769874477,
          0.951919191919192,
          0.9529019980970505,
          0.9542857142857144,
          0.9584557280738564,
          0.9737233515121468,
          0.974260688889287,
          0.9813953488372092,
          0.9824673390357036,
          0.9859245556181132,
          0.9974874371859296,
          0.9994676715307508,
          1,
          1.0101010101010102,
          1.0200135798483954,
          1.039747518638796,
          1.053719273474103,
          1.0616849513558269,
          1.0739814152966405,
          1.0803571428571428,
          1.0870339698115563,
          1.118343195266272,
          1.138418684379687,
          1.1425124935378252,
          1.1654135338345866,
          1.175,
          1.1926436781609195,
          1.216374269005848,
          1.2231238468200474,
          1.2327868852459016,
          1.259291654822039,
          1.265601217656012,
          1.334065740903498,
          1.3593373493975904,
          1.3825316739544793,
          1.4142857142857144,
          1.4924924924924925,
          1.5367180417044424,
          1.5747126436781609,
          1.591549295774648,
          1.633245382585752,
          1.6626129256428075,
          1.7068847989093388,
          1.9710144927536235,
          2.1904761904761907,
          2.369419642857143,
          3.1794871794871797
         ],
         "xaxis": "x",
         "y": [
          0.02069088558948179,
          0.019898078662624913,
          0.0198841160716359,
          0.01988335626845025,
          0.01987900200029184,
          0.01987846792895833,
          0.01986961358646347,
          0.01986348846776952,
          0.019824376853996597,
          0.019822691217170178,
          0.01982029502765579,
          0.019816081786386327,
          0.01980738700497459,
          0.01980249381026664,
          0.019785067984315834,
          0.019783693428102184,
          0.01975636118626704,
          0.01975094091326806,
          0.0197320732419597,
          0.019723400888065585,
          0.019714764383811766,
          0.01969484754747133,
          0.019688406975737215,
          0.01966144865585124,
          0.019654245523366108,
          0.019651187528223805,
          0.01964799056934409,
          0.019638297729611915,
          0.019637363437068064,
          0.01963295744748608,
          0.01963258926161153,
          0.019622175455646075,
          0.019615044142326437,
          0.019611605396575447,
          0.019609619633084455,
          0.01960658657805092,
          0.01960528357816755,
          0.019602533011033398,
          0.0195984555162511,
          0.01959625920758616,
          0.019588427952231265,
          0.019582549907470524,
          0.01958071767104903,
          0.019577093296049744,
          0.019576726334997855,
          0.01957508861644362,
          0.0195711003003612,
          0.0195695955429354,
          0.019568965126565883,
          0.01956746391580166,
          0.019550322811975333,
          0.01954964684942531,
          0.01954941630272314,
          0.019548603974240134,
          0.019544511777692886,
          0.019543977512192515,
          0.01954315975678434,
          0.01953682159577852,
          0.019531060858036436,
          0.01952736283844165,
          0.019526007636051224,
          0.0195235789548927,
          0.01952212180001605,
          0.019518867033674978,
          0.019518568066451972,
          0.01951661778909259,
          0.01951392456526247,
          0.01951232589119744,
          0.019511410852594883,
          0.019503535609971086,
          0.019502500816900158,
          0.019501601822241872,
          0.019501533494915558,
          0.019497122138536514,
          0.019493905691527494,
          0.019492801282619723,
          0.019492593656190608,
          0.019490813427938295,
          0.019487654484349342,
          0.019486859759974953,
          0.019483348730969435,
          0.01948257544550446,
          0.019480719026453774,
          0.019464662975895552,
          0.01946260928196367,
          0.0194623172833873,
          0.019462149080581727,
          0.019459965340521867,
          0.019454314404592405,
          0.019446608850129114,
          0.019444664068934886,
          0.019441505389220962,
          0.019438137697381477,
          0.019436113261474722,
          0.019434487538107184,
          0.019422444329795466,
          0.019420803106184457,
          0.01941899132019975,
          0.019415256372499183,
          0.01941476028935345,
          0.019413069299948127,
          0.019411978585221326,
          0.019410511123852385,
          0.019408990238764873,
          0.01940876619332758,
          0.019408045104169026,
          0.019407482115637587,
          0.019399160123148514,
          0.019396836715540284,
          0.01939598676328924,
          0.019395280281466802,
          0.019394538999525666,
          0.019393854817330775,
          0.01939257545183337,
          0.01939129531180574,
          0.019389157413208017,
          0.01938517407442781,
          0.019376754809866066,
          0.019376737779682605,
          0.019373426371244923,
          0.019373341014222056,
          0.01937150235919922,
          0.019369918512176374,
          0.019369437082955254,
          0.01936092023876937,
          0.01935795794907585,
          0.01935643968941231,
          0.01935552516307485,
          0.019351399063989784,
          0.019349680135016496,
          0.01934923611832017,
          0.019346984966559077,
          0.019346057300303192,
          0.019344933532344108,
          0.01934359805868606,
          0.019340758547397436,
          0.019340592424761244,
          0.019339581406868925,
          0.01933792054200256,
          0.01932844376711143,
          0.019327594352510604,
          0.01932650830846485,
          0.01932233257819972,
          0.019321686366194763,
          0.01931917561639632,
          0.019317461745127187,
          0.01931349510099756,
          0.019307822080546485,
          0.019304455903546108,
          0.019297606337032893,
          0.019295184235867405,
          0.01929329626391644,
          0.019291095663657568,
          0.01929108054099514,
          0.01928685336158853,
          0.019286480759196166,
          0.019282279268747014,
          0.01927939863181514,
          0.01927889718255081,
          0.019278248683954714,
          0.019276293153670555,
          0.01927373186805512,
          0.019269600838154557,
          0.019269457490941277,
          0.019265190215823715,
          0.019260747110190397,
          0.019257447856392596,
          0.019257063968020977,
          0.019253461486952356,
          0.01925320451120566,
          0.019230061291390942,
          0.019229950038570014,
          0.01921953919594039,
          0.019212437633519132,
          0.019204214983437804,
          0.019198572658492653,
          0.019191881772168302,
          0.01919082616146843,
          0.0191901004412061,
          0.01918696157445991,
          0.01917978544683335,
          0.019175540290025144,
          0.019174928403506895,
          0.019174285938270065,
          0.01916659268926857,
          0.019164281699396137,
          0.019162715923497574,
          0.0191533054455245,
          0.01915164931903679,
          0.019148727895016527,
          0.019147632912402405,
          0.019145532296164686,
          0.01913657061519176,
          0.01909963410787859,
          0.019098943986432866,
          0.019091670817577407,
          0.01907663603085782,
          0.019073847832862423,
          0.0190729846022723,
          0.019071769239397077,
          0.019068106580834007,
          0.019054696531235846,
          0.019054224570363383,
          0.019047957966778724,
          0.01904701640296634,
          0.01904397981734258,
          0.019033823762868957,
          0.019032084458720715,
          0.019031616897334753,
          0.019022744852055833,
          0.019014038320060534,
          0.018996705360611023,
          0.018984433514500063,
          0.01897743700087051,
          0.01896663661717001,
          0.018961036608553326,
          0.018955172134558478,
          0.01892767222483614,
          0.018910039270643476,
          0.018906443545082263,
          0.018886328817503982,
          0.018877908712877426,
          0.018862411697235917,
          0.018841568348465208,
          0.01883563997502707,
          0.018827152614496905,
          0.018803872614434003,
          0.018798330720445833,
          0.018738196105770932,
          0.018715999231142685,
          0.018695626902472093,
          0.018667736297394957,
          0.01859904474373541,
          0.01856020000730114,
          0.01852682811422366,
          0.018512039935788857,
          0.0184754169083448,
          0.018449622441343246,
          0.01841073701698711,
          0.01817874332726097,
          0.017985982989461777,
          0.01782881114268462,
          0.01711730251215192
         ],
         "yaxis": "y"
        }
       ],
       "layout": {
        "legend": {
         "orientation": "h",
         "title": {
          "text": "geo"
         },
         "tracegroupgap": 0,
         "y": -0.5,
         "yanchor": "bottom"
        },
        "template": {
         "data": {
          "bar": [
           {
            "error_x": {
             "color": "#2a3f5f"
            },
            "error_y": {
             "color": "#2a3f5f"
            },
            "marker": {
             "line": {
              "color": "#E5ECF6",
              "width": 0.5
             },
             "pattern": {
              "fillmode": "overlay",
              "size": 10,
              "solidity": 0.2
             }
            },
            "type": "bar"
           }
          ],
          "barpolar": [
           {
            "marker": {
             "line": {
              "color": "#E5ECF6",
              "width": 0.5
             },
             "pattern": {
              "fillmode": "overlay",
              "size": 10,
              "solidity": 0.2
             }
            },
            "type": "barpolar"
           }
          ],
          "carpet": [
           {
            "aaxis": {
             "endlinecolor": "#2a3f5f",
             "gridcolor": "white",
             "linecolor": "white",
             "minorgridcolor": "white",
             "startlinecolor": "#2a3f5f"
            },
            "baxis": {
             "endlinecolor": "#2a3f5f",
             "gridcolor": "white",
             "linecolor": "white",
             "minorgridcolor": "white",
             "startlinecolor": "#2a3f5f"
            },
            "type": "carpet"
           }
          ],
          "choropleth": [
           {
            "colorbar": {
             "outlinewidth": 0,
             "ticks": ""
            },
            "type": "choropleth"
           }
          ],
          "contour": [
           {
            "colorbar": {
             "outlinewidth": 0,
             "ticks": ""
            },
            "colorscale": [
             [
              0,
              "#0d0887"
             ],
             [
              0.1111111111111111,
              "#46039f"
             ],
             [
              0.2222222222222222,
              "#7201a8"
             ],
             [
              0.3333333333333333,
              "#9c179e"
             ],
             [
              0.4444444444444444,
              "#bd3786"
             ],
             [
              0.5555555555555556,
              "#d8576b"
             ],
             [
              0.6666666666666666,
              "#ed7953"
             ],
             [
              0.7777777777777778,
              "#fb9f3a"
             ],
             [
              0.8888888888888888,
              "#fdca26"
             ],
             [
              1,
              "#f0f921"
             ]
            ],
            "type": "contour"
           }
          ],
          "contourcarpet": [
           {
            "colorbar": {
             "outlinewidth": 0,
             "ticks": ""
            },
            "type": "contourcarpet"
           }
          ],
          "heatmap": [
           {
            "colorbar": {
             "outlinewidth": 0,
             "ticks": ""
            },
            "colorscale": [
             [
              0,
              "#0d0887"
             ],
             [
              0.1111111111111111,
              "#46039f"
             ],
             [
              0.2222222222222222,
              "#7201a8"
             ],
             [
              0.3333333333333333,
              "#9c179e"
             ],
             [
              0.4444444444444444,
              "#bd3786"
             ],
             [
              0.5555555555555556,
              "#d8576b"
             ],
             [
              0.6666666666666666,
              "#ed7953"
             ],
             [
              0.7777777777777778,
              "#fb9f3a"
             ],
             [
              0.8888888888888888,
              "#fdca26"
             ],
             [
              1,
              "#f0f921"
             ]
            ],
            "type": "heatmap"
           }
          ],
          "heatmapgl": [
           {
            "colorbar": {
             "outlinewidth": 0,
             "ticks": ""
            },
            "colorscale": [
             [
              0,
              "#0d0887"
             ],
             [
              0.1111111111111111,
              "#46039f"
             ],
             [
              0.2222222222222222,
              "#7201a8"
             ],
             [
              0.3333333333333333,
              "#9c179e"
             ],
             [
              0.4444444444444444,
              "#bd3786"
             ],
             [
              0.5555555555555556,
              "#d8576b"
             ],
             [
              0.6666666666666666,
              "#ed7953"
             ],
             [
              0.7777777777777778,
              "#fb9f3a"
             ],
             [
              0.8888888888888888,
              "#fdca26"
             ],
             [
              1,
              "#f0f921"
             ]
            ],
            "type": "heatmapgl"
           }
          ],
          "histogram": [
           {
            "marker": {
             "pattern": {
              "fillmode": "overlay",
              "size": 10,
              "solidity": 0.2
             }
            },
            "type": "histogram"
           }
          ],
          "histogram2d": [
           {
            "colorbar": {
             "outlinewidth": 0,
             "ticks": ""
            },
            "colorscale": [
             [
              0,
              "#0d0887"
             ],
             [
              0.1111111111111111,
              "#46039f"
             ],
             [
              0.2222222222222222,
              "#7201a8"
             ],
             [
              0.3333333333333333,
              "#9c179e"
             ],
             [
              0.4444444444444444,
              "#bd3786"
             ],
             [
              0.5555555555555556,
              "#d8576b"
             ],
             [
              0.6666666666666666,
              "#ed7953"
             ],
             [
              0.7777777777777778,
              "#fb9f3a"
             ],
             [
              0.8888888888888888,
              "#fdca26"
             ],
             [
              1,
              "#f0f921"
             ]
            ],
            "type": "histogram2d"
           }
          ],
          "histogram2dcontour": [
           {
            "colorbar": {
             "outlinewidth": 0,
             "ticks": ""
            },
            "colorscale": [
             [
              0,
              "#0d0887"
             ],
             [
              0.1111111111111111,
              "#46039f"
             ],
             [
              0.2222222222222222,
              "#7201a8"
             ],
             [
              0.3333333333333333,
              "#9c179e"
             ],
             [
              0.4444444444444444,
              "#bd3786"
             ],
             [
              0.5555555555555556,
              "#d8576b"
             ],
             [
              0.6666666666666666,
              "#ed7953"
             ],
             [
              0.7777777777777778,
              "#fb9f3a"
             ],
             [
              0.8888888888888888,
              "#fdca26"
             ],
             [
              1,
              "#f0f921"
             ]
            ],
            "type": "histogram2dcontour"
           }
          ],
          "mesh3d": [
           {
            "colorbar": {
             "outlinewidth": 0,
             "ticks": ""
            },
            "type": "mesh3d"
           }
          ],
          "parcoords": [
           {
            "line": {
             "colorbar": {
              "outlinewidth": 0,
              "ticks": ""
             }
            },
            "type": "parcoords"
           }
          ],
          "pie": [
           {
            "automargin": true,
            "type": "pie"
           }
          ],
          "scatter": [
           {
            "fillpattern": {
             "fillmode": "overlay",
             "size": 10,
             "solidity": 0.2
            },
            "type": "scatter"
           }
          ],
          "scatter3d": [
           {
            "line": {
             "colorbar": {
              "outlinewidth": 0,
              "ticks": ""
             }
            },
            "marker": {
             "colorbar": {
              "outlinewidth": 0,
              "ticks": ""
             }
            },
            "type": "scatter3d"
           }
          ],
          "scattercarpet": [
           {
            "marker": {
             "colorbar": {
              "outlinewidth": 0,
              "ticks": ""
             }
            },
            "type": "scattercarpet"
           }
          ],
          "scattergeo": [
           {
            "marker": {
             "colorbar": {
              "outlinewidth": 0,
              "ticks": ""
             }
            },
            "type": "scattergeo"
           }
          ],
          "scattergl": [
           {
            "marker": {
             "colorbar": {
              "outlinewidth": 0,
              "ticks": ""
             }
            },
            "type": "scattergl"
           }
          ],
          "scattermapbox": [
           {
            "marker": {
             "colorbar": {
              "outlinewidth": 0,
              "ticks": ""
             }
            },
            "type": "scattermapbox"
           }
          ],
          "scatterpolar": [
           {
            "marker": {
             "colorbar": {
              "outlinewidth": 0,
              "ticks": ""
             }
            },
            "type": "scatterpolar"
           }
          ],
          "scatterpolargl": [
           {
            "marker": {
             "colorbar": {
              "outlinewidth": 0,
              "ticks": ""
             }
            },
            "type": "scatterpolargl"
           }
          ],
          "scatterternary": [
           {
            "marker": {
             "colorbar": {
              "outlinewidth": 0,
              "ticks": ""
             }
            },
            "type": "scatterternary"
           }
          ],
          "surface": [
           {
            "colorbar": {
             "outlinewidth": 0,
             "ticks": ""
            },
            "colorscale": [
             [
              0,
              "#0d0887"
             ],
             [
              0.1111111111111111,
              "#46039f"
             ],
             [
              0.2222222222222222,
              "#7201a8"
             ],
             [
              0.3333333333333333,
              "#9c179e"
             ],
             [
              0.4444444444444444,
              "#bd3786"
             ],
             [
              0.5555555555555556,
              "#d8576b"
             ],
             [
              0.6666666666666666,
              "#ed7953"
             ],
             [
              0.7777777777777778,
              "#fb9f3a"
             ],
             [
              0.8888888888888888,
              "#fdca26"
             ],
             [
              1,
              "#f0f921"
             ]
            ],
            "type": "surface"
           }
          ],
          "table": [
           {
            "cells": {
             "fill": {
              "color": "#EBF0F8"
             },
             "line": {
              "color": "white"
             }
            },
            "header": {
             "fill": {
              "color": "#C8D4E3"
             },
             "line": {
              "color": "white"
             }
            },
            "type": "table"
           }
          ]
         },
         "layout": {
          "annotationdefaults": {
           "arrowcolor": "#2a3f5f",
           "arrowhead": 0,
           "arrowwidth": 1
          },
          "autotypenumbers": "strict",
          "coloraxis": {
           "colorbar": {
            "outlinewidth": 0,
            "ticks": ""
           }
          },
          "colorscale": {
           "diverging": [
            [
             0,
             "#8e0152"
            ],
            [
             0.1,
             "#c51b7d"
            ],
            [
             0.2,
             "#de77ae"
            ],
            [
             0.3,
             "#f1b6da"
            ],
            [
             0.4,
             "#fde0ef"
            ],
            [
             0.5,
             "#f7f7f7"
            ],
            [
             0.6,
             "#e6f5d0"
            ],
            [
             0.7,
             "#b8e186"
            ],
            [
             0.8,
             "#7fbc41"
            ],
            [
             0.9,
             "#4d9221"
            ],
            [
             1,
             "#276419"
            ]
           ],
           "sequential": [
            [
             0,
             "#0d0887"
            ],
            [
             0.1111111111111111,
             "#46039f"
            ],
            [
             0.2222222222222222,
             "#7201a8"
            ],
            [
             0.3333333333333333,
             "#9c179e"
            ],
            [
             0.4444444444444444,
             "#bd3786"
            ],
            [
             0.5555555555555556,
             "#d8576b"
            ],
            [
             0.6666666666666666,
             "#ed7953"
            ],
            [
             0.7777777777777778,
             "#fb9f3a"
            ],
            [
             0.8888888888888888,
             "#fdca26"
            ],
            [
             1,
             "#f0f921"
            ]
           ],
           "sequentialminus": [
            [
             0,
             "#0d0887"
            ],
            [
             0.1111111111111111,
             "#46039f"
            ],
            [
             0.2222222222222222,
             "#7201a8"
            ],
            [
             0.3333333333333333,
             "#9c179e"
            ],
            [
             0.4444444444444444,
             "#bd3786"
            ],
            [
             0.5555555555555556,
             "#d8576b"
            ],
            [
             0.6666666666666666,
             "#ed7953"
            ],
            [
             0.7777777777777778,
             "#fb9f3a"
            ],
            [
             0.8888888888888888,
             "#fdca26"
            ],
            [
             1,
             "#f0f921"
            ]
           ]
          },
          "colorway": [
           "#636efa",
           "#EF553B",
           "#00cc96",
           "#ab63fa",
           "#FFA15A",
           "#19d3f3",
           "#FF6692",
           "#B6E880",
           "#FF97FF",
           "#FECB52"
          ],
          "font": {
           "color": "#2a3f5f"
          },
          "geo": {
           "bgcolor": "white",
           "lakecolor": "white",
           "landcolor": "#E5ECF6",
           "showlakes": true,
           "showland": true,
           "subunitcolor": "white"
          },
          "hoverlabel": {
           "align": "left"
          },
          "hovermode": "closest",
          "mapbox": {
           "style": "light"
          },
          "paper_bgcolor": "white",
          "plot_bgcolor": "#E5ECF6",
          "polar": {
           "angularaxis": {
            "gridcolor": "white",
            "linecolor": "white",
            "ticks": ""
           },
           "bgcolor": "#E5ECF6",
           "radialaxis": {
            "gridcolor": "white",
            "linecolor": "white",
            "ticks": ""
           }
          },
          "scene": {
           "xaxis": {
            "backgroundcolor": "#E5ECF6",
            "gridcolor": "white",
            "gridwidth": 2,
            "linecolor": "white",
            "showbackground": true,
            "ticks": "",
            "zerolinecolor": "white"
           },
           "yaxis": {
            "backgroundcolor": "#E5ECF6",
            "gridcolor": "white",
            "gridwidth": 2,
            "linecolor": "white",
            "showbackground": true,
            "ticks": "",
            "zerolinecolor": "white"
           },
           "zaxis": {
            "backgroundcolor": "#E5ECF6",
            "gridcolor": "white",
            "gridwidth": 2,
            "linecolor": "white",
            "showbackground": true,
            "ticks": "",
            "zerolinecolor": "white"
           }
          },
          "shapedefaults": {
           "line": {
            "color": "#2a3f5f"
           }
          },
          "ternary": {
           "aaxis": {
            "gridcolor": "white",
            "linecolor": "white",
            "ticks": ""
           },
           "baxis": {
            "gridcolor": "white",
            "linecolor": "white",
            "ticks": ""
           },
           "bgcolor": "#E5ECF6",
           "caxis": {
            "gridcolor": "white",
            "linecolor": "white",
            "ticks": ""
           }
          },
          "title": {
           "x": 0.05
          },
          "xaxis": {
           "automargin": true,
           "gridcolor": "white",
           "linecolor": "white",
           "ticks": "",
           "title": {
            "standoff": 15
           },
           "zerolinecolor": "white",
           "zerolinewidth": 2
          },
          "yaxis": {
           "automargin": true,
           "gridcolor": "white",
           "linecolor": "white",
           "ticks": "",
           "title": {
            "standoff": 15
           },
           "zerolinecolor": "white",
           "zerolinewidth": 2
          }
         }
        },
        "title": {
         "text": "Scatter Plot of EV vs ZEV Percent Difference"
        },
        "xaxis": {
         "anchor": "y",
         "domain": [
          0,
          1
         ],
         "title": {
          "text": "ZEV percent difference"
         }
        },
        "yaxis": {
         "anchor": "x",
         "domain": [
          0,
          1
         ],
         "title": {
          "text": "EV percent difference"
         }
        }
       }
      }
     },
     "metadata": {},
     "output_type": "display_data"
    }
   ],
   "source": [
    "# To make sure there are enough different colors for each country\n",
    "colors = pc.qualitative.Alphabet + pc.qualitative.Dark24 + pc.qualitative.Light24\n",
    "\n",
    "# Plot the scatter to answer sub question 2\n",
    "\n",
    "fig = px.scatter(\n",
    "    df_cleaned,\n",
    "    x='zev_norm',\n",
    "    y='ev_norm',\n",
    "    color='geo',\n",
    "    labels={'ev_norm': 'EV percent difference', 'zev_norm': 'ZEV percent difference'},\n",
    "    trendline='ols',\n",
    "    title=\"Scatter Plot of EV vs ZEV Percent Difference\",\n",
    "    color_discrete_sequence=colors,\n",
    "    trendline_scope='overall'\n",
    ")\n",
    "fig.update_layout(\n",
    "    legend=dict(\n",
    "        orientation=\"h\",\n",
    "        yanchor=\"bottom\",\n",
    "        y=-0.5\n",
    "    )\n",
    ")\n",
    "\n",
    "fig.show()"
   ]
  },
  {
   "cell_type": "code",
   "execution_count": null,
   "id": "f0059bc5-6dfe-4d8b-b227-5db49270d909",
   "metadata": {},
   "outputs": [],
   "source": []
  }
 ],
 "metadata": {
  "kernelspec": {
   "display_name": "TIL6022",
   "language": "python",
   "name": "python3"
  },
  "language_info": {
   "codemirror_mode": {
    "name": "ipython",
    "version": 3
   },
   "file_extension": ".py",
   "mimetype": "text/x-python",
   "name": "python",
   "nbconvert_exporter": "python",
   "pygments_lexer": "ipython3",
   "version": "3.12.5"
  }
 },
 "nbformat": 4,
 "nbformat_minor": 5
}
